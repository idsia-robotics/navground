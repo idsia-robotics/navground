{
 "cells": [
  {
   "cell_type": "markdown",
   "id": "9175b8a5",
   "metadata": {},
   "source": [
    "# A tour of navground\n",
    "\n",
    "In this tour you meet the basic components of the navigation playground \n",
    "and see them at play.\n",
    "\n",
    "At the core of the playground there is a library of navigation behaviors for dynamic obstacle avoidance. \n",
    "\n",
    "Let's import the library and instantiate one of the behavior ([DummyBehavior](../reference/core/python/behaviors/dummy.html#navground.core.behaviors.DummyBehavior))."
   ]
  },
  {
   "cell_type": "markdown",
   "id": "6b3821ea",
   "metadata": {},
   "source": [
    "## Behaviors"
   ]
  },
  {
   "cell_type": "code",
   "execution_count": 1,
   "id": "64ac853c",
   "metadata": {
    "execution": {
     "iopub.execute_input": "2025-06-06T15:37:36.576268Z",
     "iopub.status.busy": "2025-06-06T15:37:36.575993Z",
     "iopub.status.idle": "2025-06-06T15:37:36.706878Z",
     "shell.execute_reply": "2025-06-06T15:37:36.706324Z"
    },
    "tags": []
   },
   "outputs": [],
   "source": [
    "from navground import core\n",
    "\n",
    "behavior = core.behaviors.DummyBehavior()"
   ]
  },
  {
   "cell_type": "markdown",
   "id": "aefb3e0b",
   "metadata": {},
   "source": [
    "A behavior holds the **2D state of an agent** of circular shape.\n",
    "\n",
    "We set\n",
    "\n",
    "- the [pose](../reference/core/python/common.html#navground.core.Pose2)\n",
    "of the agent at the origin of the world-fixed coordinate frame,"
   ]
  },
  {
   "cell_type": "code",
   "execution_count": 2,
   "id": "03f311f7",
   "metadata": {
    "execution": {
     "iopub.execute_input": "2025-06-06T15:37:36.712446Z",
     "iopub.status.busy": "2025-06-06T15:37:36.712030Z",
     "iopub.status.idle": "2025-06-06T15:37:36.716250Z",
     "shell.execute_reply": "2025-06-06T15:37:36.715682Z"
    },
    "tags": []
   },
   "outputs": [],
   "source": [
    "behavior.pose = core.Pose2(position=(0, 0), orientation=0)"
   ]
  },
  {
   "cell_type": "markdown",
   "id": "f1fc6911",
   "metadata": {},
   "source": [
    "- the [twist](../reference/core/python/common.html#navground.core.Twist2) of the agent to zero,"
   ]
  },
  {
   "cell_type": "code",
   "execution_count": 3,
   "id": "5c75a5e8",
   "metadata": {
    "execution": {
     "iopub.execute_input": "2025-06-06T15:37:36.718895Z",
     "iopub.status.busy": "2025-06-06T15:37:36.718693Z",
     "iopub.status.idle": "2025-06-06T15:37:36.721830Z",
     "shell.execute_reply": "2025-06-06T15:37:36.721045Z"
    },
    "tags": []
   },
   "outputs": [],
   "source": [
    "behavior.twist = core.Twist2(velocity=(0, 0), angular_speed=0)"
   ]
  },
  {
   "cell_type": "markdown",
   "id": "b9b98ed5",
   "metadata": {},
   "source": [
    "- and the radius of the agent."
   ]
  },
  {
   "cell_type": "code",
   "execution_count": 4,
   "id": "6af50080",
   "metadata": {
    "execution": {
     "iopub.execute_input": "2025-06-06T15:37:36.724329Z",
     "iopub.status.busy": "2025-06-06T15:37:36.724128Z",
     "iopub.status.idle": "2025-06-06T15:37:36.727261Z",
     "shell.execute_reply": "2025-06-06T15:37:36.726766Z"
    },
    "tags": []
   },
   "outputs": [],
   "source": [
    "behavior.radius = 1.0"
   ]
  },
  {
   "cell_type": "markdown",
   "id": "3558c1c6",
   "metadata": {},
   "source": [
    "A behavior needs also a [target](../reference/core/python/target.html#navground.core.Target): let's go to ``(10, 0)``, stopping when near enough."
   ]
  },
  {
   "cell_type": "code",
   "execution_count": 5,
   "id": "d41f047a",
   "metadata": {
    "execution": {
     "iopub.execute_input": "2025-06-06T15:37:36.729683Z",
     "iopub.status.busy": "2025-06-06T15:37:36.729491Z",
     "iopub.status.idle": "2025-06-06T15:37:36.733265Z",
     "shell.execute_reply": "2025-06-06T15:37:36.732769Z"
    },
    "tags": []
   },
   "outputs": [],
   "source": [
    "behavior.target = core.Target.Point((10, 0), tolerance=0.5)"
   ]
  },
  {
   "cell_type": "markdown",
   "id": "8846e3b1",
   "metadata": {},
   "source": [
    "Once we have set a target, we can ask for a [control command](../reference/core/python/behaviors/behavior.html#navground.core.Behavior.compute_cmd) (a twist) to advance towards the target in the next control step."
   ]
  },
  {
   "cell_type": "code",
   "execution_count": 6,
   "id": "db3727be",
   "metadata": {
    "execution": {
     "iopub.execute_input": "2025-06-06T15:37:36.736308Z",
     "iopub.status.busy": "2025-06-06T15:37:36.736106Z",
     "iopub.status.idle": "2025-06-06T15:37:36.745705Z",
     "shell.execute_reply": "2025-06-06T15:37:36.744508Z"
    },
    "tags": []
   },
   "outputs": [
    {
     "name": "stderr",
     "output_type": "stream",
     "text": [
      "Missing kinematics!\n"
     ]
    },
    {
     "data": {
      "text/plain": [
       "Twist2((0.000000, 0.000000), 0.000000, frame=Frame.relative)"
      ]
     },
     "execution_count": 6,
     "metadata": {},
     "output_type": "execute_result"
    }
   ],
   "source": [
    "behavior.compute_cmd(time_step=0.1)"
   ]
  },
  {
   "cell_type": "markdown",
   "id": "ac2b527b",
   "metadata": {},
   "source": [
    "Oops ... the behavior is complaining that it does not know the kinematics of the agent.\n",
    "Therefore, it plays safe and makes the agent stay in place. We also see that `Twist2` has an additional field `Twist2(..., frame)` for the reference frame, which can be either an absolute world-fixed frame or a relative frame attached to to the agent.\n",
    "\n",
    "A [kinematics](../reference/core/python/kinematics.html#navground.core.Kinematics) model knows the maximal speed of the agent and, more generally, which commands are feasible.\n",
    "Let's pick an omnidirectional kinematics that has no restrictions apart from maximal horizontal and angular speeds,"
   ]
  },
  {
   "cell_type": "code",
   "execution_count": 7,
   "id": "f619e5e5",
   "metadata": {
    "execution": {
     "iopub.execute_input": "2025-06-06T15:37:36.748528Z",
     "iopub.status.busy": "2025-06-06T15:37:36.748307Z",
     "iopub.status.idle": "2025-06-06T15:37:36.751863Z",
     "shell.execute_reply": "2025-06-06T15:37:36.751359Z"
    },
    "tags": []
   },
   "outputs": [],
   "source": [
    "kinematics = core.kinematics.OmnidirectionalKinematics(max_speed=2.0, max_angular_speed=1.0)\n",
    "behavior.kinematics = kinematics"
   ]
  },
  {
   "cell_type": "markdown",
   "id": "4b22c012",
   "metadata": {},
   "source": [
    "and ask again for a control command."
   ]
  },
  {
   "cell_type": "code",
   "execution_count": 8,
   "id": "04875883",
   "metadata": {
    "execution": {
     "iopub.execute_input": "2025-06-06T15:37:36.754811Z",
     "iopub.status.busy": "2025-06-06T15:37:36.754556Z",
     "iopub.status.idle": "2025-06-06T15:37:36.761945Z",
     "shell.execute_reply": "2025-06-06T15:37:36.758142Z"
    },
    "tags": []
   },
   "outputs": [
    {
     "data": {
      "text/plain": [
       "Twist2((2.000000, 0.000000), 0.000000, frame=Frame.relative)"
      ]
     },
     "execution_count": 8,
     "metadata": {},
     "output_type": "execute_result"
    }
   ],
   "source": [
    "cmd = behavior.compute_cmd(time_step=0.1)\n",
    "cmd"
   ]
  },
  {
   "cell_type": "markdown",
   "id": "7b9ceb98",
   "metadata": {},
   "source": [
    "As expected, the behavior wants to advance full speed towards the target point.\n",
    "How to actuate the commands depends on the agent we are controlling and may require interacting with the agent's runtime.\n",
    "\n",
    "Here, we keep it simple and simulate movements without any error: we apply the command for a time step to directly update the behavior state."
   ]
  },
  {
   "cell_type": "code",
   "execution_count": 9,
   "id": "2c563934",
   "metadata": {
    "execution": {
     "iopub.execute_input": "2025-06-06T15:37:36.765784Z",
     "iopub.status.busy": "2025-06-06T15:37:36.764969Z",
     "iopub.status.idle": "2025-06-06T15:37:36.768332Z",
     "shell.execute_reply": "2025-06-06T15:37:36.767773Z"
    },
    "tags": []
   },
   "outputs": [],
   "source": [
    "behavior.actuate(cmd, time_step=0.1)"
   ]
  },
  {
   "cell_type": "markdown",
   "id": "e59a7175",
   "metadata": {},
   "source": [
    "To get the same result, we could have manually integrated the pose and set the twist."
   ]
  },
  {
   "cell_type": "code",
   "execution_count": 10,
   "id": "723e79be",
   "metadata": {
    "execution": {
     "iopub.execute_input": "2025-06-06T15:37:36.770415Z",
     "iopub.status.busy": "2025-06-06T15:37:36.770206Z",
     "iopub.status.idle": "2025-06-06T15:37:36.772871Z",
     "shell.execute_reply": "2025-06-06T15:37:36.772453Z"
    },
    "tags": []
   },
   "outputs": [],
   "source": [
    "behavior.pose = behavior.pose.integrate(cmd, time_step=0.1)\n",
    "behavior.twist = cmd"
   ]
  },
  {
   "cell_type": "markdown",
   "id": "a3dafe8b-78a8-4e47-883f-9e9fa73044a0",
   "metadata": {},
   "source": [
    "Note that behaviors are already instantiated at the origin and with zero twist, therefore\n",
    "we could have setup the behavior using just two lines:"
   ]
  },
  {
   "cell_type": "code",
   "execution_count": 11,
   "id": "9e4e023c-d41a-41b7-999a-32dd35f1d889",
   "metadata": {
    "execution": {
     "iopub.execute_input": "2025-06-06T15:37:36.775077Z",
     "iopub.status.busy": "2025-06-06T15:37:36.774849Z",
     "iopub.status.idle": "2025-06-06T15:37:36.777778Z",
     "shell.execute_reply": "2025-06-06T15:37:36.777329Z"
    },
    "tags": []
   },
   "outputs": [],
   "source": [
    "behavior = core.behaviors.DummyBehavior(kinematics=kinematics, radius=1.0)\n",
    "behavior.target = core.Target.Point((10, 0), tolerance=0.5)"
   ]
  },
  {
   "cell_type": "markdown",
   "id": "42675725",
   "metadata": {},
   "source": [
    "## Registers"
   ]
  },
  {
   "cell_type": "markdown",
   "id": "366d4f59",
   "metadata": {},
   "source": [
    "What if our agent has wheels? Which other kinematics are there? \n",
    "\n",
    "Implemented kinematics are stored in a register. Let's list their names:"
   ]
  },
  {
   "cell_type": "code",
   "execution_count": 12,
   "id": "89dfe589",
   "metadata": {
    "execution": {
     "iopub.execute_input": "2025-06-06T15:37:36.780079Z",
     "iopub.status.busy": "2025-06-06T15:37:36.779852Z",
     "iopub.status.idle": "2025-06-06T15:37:36.783765Z",
     "shell.execute_reply": "2025-06-06T15:37:36.783204Z"
    },
    "tags": []
   },
   "outputs": [
    {
     "data": {
      "text/plain": [
       "['2WDiff', '2WDiffDyn', '4WOmni', 'Ahead', 'Bicycle', 'Omni']"
      ]
     },
     "execution_count": 12,
     "metadata": {},
     "output_type": "execute_result"
    }
   ],
   "source": [
    "core.Kinematics.types"
   ]
  },
  {
   "cell_type": "markdown",
   "id": "49f067b7",
   "metadata": {},
   "source": [
    "`\"Omni\"` is the one we already used. Let's pick `\"2WDiff\"`, which corresponds to a robot with two differential drive wheels, one at each side of a longitudinal axis."
   ]
  },
  {
   "cell_type": "code",
   "execution_count": 13,
   "id": "5685596e",
   "metadata": {
    "execution": {
     "iopub.execute_input": "2025-06-06T15:37:36.786166Z",
     "iopub.status.busy": "2025-06-06T15:37:36.785939Z",
     "iopub.status.idle": "2025-06-06T15:37:36.788924Z",
     "shell.execute_reply": "2025-06-06T15:37:36.788496Z"
    },
    "tags": []
   },
   "outputs": [],
   "source": [
    "kinematics = core.Kinematics.make_type(\"2WDiff\")\n",
    "kinematics.max_speed = 1.0"
   ]
  },
  {
   "cell_type": "markdown",
   "id": "19f1233b",
   "metadata": {},
   "source": [
    "Registered components, like kinematics, declare properties that we can use to configure them.\n",
    "Let's get all properties of this kinematics model."
   ]
  },
  {
   "cell_type": "code",
   "execution_count": 14,
   "id": "044a40d9",
   "metadata": {
    "execution": {
     "iopub.execute_input": "2025-06-06T15:37:36.790903Z",
     "iopub.status.busy": "2025-06-06T15:37:36.790702Z",
     "iopub.status.idle": "2025-06-06T15:37:36.793814Z",
     "shell.execute_reply": "2025-06-06T15:37:36.793281Z"
    },
    "tags": []
   },
   "outputs": [
    {
     "name": "stdout",
     "output_type": "stream",
     "text": [
      "Property max_backward_speed: Maximal backward linear speed of type float\n",
      "Property max_forward_speed: Maximal forward linear speed of type float\n",
      "Property wheel_axis: Wheel Axis of type float\n"
     ]
    }
   ],
   "source": [
    "for name, p in kinematics.properties.items():\n",
    "    print(f'Property {name}: {p.description} of type {p.type_name}')"
   ]
  },
  {
   "cell_type": "markdown",
   "id": "5c2fd57d-3495-4a5d-8f22-a4c07a0f6810",
   "metadata": {},
   "source": [
    "We set the wheel axis length to the size of the agent."
   ]
  },
  {
   "cell_type": "code",
   "execution_count": 15,
   "id": "b816a4b4",
   "metadata": {
    "execution": {
     "iopub.execute_input": "2025-06-06T15:37:36.795708Z",
     "iopub.status.busy": "2025-06-06T15:37:36.795561Z",
     "iopub.status.idle": "2025-06-06T15:37:36.799282Z",
     "shell.execute_reply": "2025-06-06T15:37:36.798815Z"
    },
    "tags": []
   },
   "outputs": [],
   "source": [
    "kinematics.set(\"wheel_axis\", 2.0)"
   ]
  },
  {
   "cell_type": "markdown",
   "id": "61e511b7",
   "metadata": {},
   "source": [
    "Note that instantiating a kinematics from a register and configuring through its properties, like we have just done, is equivalent to an explicit instantiation like"
   ]
  },
  {
   "cell_type": "code",
   "execution_count": 16,
   "id": "5c892dd9",
   "metadata": {
    "execution": {
     "iopub.execute_input": "2025-06-06T15:37:36.801493Z",
     "iopub.status.busy": "2025-06-06T15:37:36.801286Z",
     "iopub.status.idle": "2025-06-06T15:37:36.804479Z",
     "shell.execute_reply": "2025-06-06T15:37:36.803524Z"
    },
    "tags": []
   },
   "outputs": [],
   "source": [
    "kinematics = core.kinematics.TwoWheelsDifferentialDriveKinematics(max_speed=1.0, wheel_axis=2.0)"
   ]
  },
  {
   "cell_type": "markdown",
   "id": "abb4eefc",
   "metadata": {},
   "source": [
    "Let's now get a command that respects this kinematics,"
   ]
  },
  {
   "cell_type": "code",
   "execution_count": 17,
   "id": "de23254d",
   "metadata": {
    "execution": {
     "iopub.execute_input": "2025-06-06T15:37:36.806518Z",
     "iopub.status.busy": "2025-06-06T15:37:36.806314Z",
     "iopub.status.idle": "2025-06-06T15:37:36.809909Z",
     "shell.execute_reply": "2025-06-06T15:37:36.809497Z"
    },
    "tags": []
   },
   "outputs": [
    {
     "data": {
      "text/plain": [
       "Twist2((1.000000, 0.000000), 0.000000, frame=Frame.relative)"
      ]
     },
     "execution_count": 17,
     "metadata": {},
     "output_type": "execute_result"
    }
   ],
   "source": [
    "behavior.kinematics = kinematics \n",
    "cmd = behavior.compute_cmd(time_step=0.1)\n",
    "cmd"
   ]
  },
  {
   "cell_type": "markdown",
   "id": "70ef6c8b",
   "metadata": {},
   "source": [
    "which we can convert to left and right wheel speeds."
   ]
  },
  {
   "cell_type": "code",
   "execution_count": 18,
   "id": "535192dc",
   "metadata": {
    "execution": {
     "iopub.execute_input": "2025-06-06T15:37:36.811953Z",
     "iopub.status.busy": "2025-06-06T15:37:36.811763Z",
     "iopub.status.idle": "2025-06-06T15:37:36.815003Z",
     "shell.execute_reply": "2025-06-06T15:37:36.814507Z"
    },
    "tags": []
   },
   "outputs": [
    {
     "data": {
      "text/plain": [
       "[1.0, 1.0]"
      ]
     },
     "execution_count": 18,
     "metadata": {},
     "output_type": "execute_result"
    }
   ],
   "source": [
    "behavior.kinematics.wheel_speeds(cmd)"
   ]
  },
  {
   "cell_type": "markdown",
   "id": "8ebdd0ee-7766-454f-8292-b0fc857c6e54",
   "metadata": {},
   "source": [
    "Again and unsurprisingly, the behavior wants to set both wheels at the same maximal speed to advance straight at full speed."
   ]
  },
  {
   "cell_type": "markdown",
   "id": "86628b1e",
   "metadata": {},
   "source": [
    "## Trajectory\n",
    "\n",
    "Applying the control step iteratively, we make the agent reach the target point, while we also store its position to later plot the trajectory."
   ]
  },
  {
   "cell_type": "code",
   "execution_count": 19,
   "id": "a5737ffd",
   "metadata": {
    "execution": {
     "iopub.execute_input": "2025-06-06T15:37:36.817064Z",
     "iopub.status.busy": "2025-06-06T15:37:36.816865Z",
     "iopub.status.idle": "2025-06-06T15:37:36.823224Z",
     "shell.execute_reply": "2025-06-06T15:37:36.822786Z"
    },
    "tags": []
   },
   "outputs": [],
   "source": [
    "import numpy as np\n",
    "\n",
    "positions = []\n",
    "\n",
    "time_step = 0.1\n",
    "\n",
    "while not behavior.check_if_target_satisfied():\n",
    "    positions.append(behavior.position)\n",
    "    cmd = behavior.compute_cmd(time_step=time_step)\n",
    "    behavior.actuate(cmd, time_step=time_step)\n",
    "    \n",
    "positions = np.asarray(positions)"
   ]
  },
  {
   "cell_type": "code",
   "execution_count": 20,
   "id": "b9da398b",
   "metadata": {
    "execution": {
     "iopub.execute_input": "2025-06-06T15:37:36.825175Z",
     "iopub.status.busy": "2025-06-06T15:37:36.825004Z",
     "iopub.status.idle": "2025-06-06T15:37:37.171551Z",
     "shell.execute_reply": "2025-06-06T15:37:37.171328Z"
    },
    "tags": []
   },
   "outputs": [
    {
     "data": {
      "image/png": "[encoded data removed]",
      "text/plain": [
       "<Figure size 700x300 with 1 Axes>"
      ]
     },
     "metadata": {},
     "output_type": "display_data"
    }
   ],
   "source": [
    "from matplotlib import pyplot as plt\n",
    "\n",
    "fig, ax = plt.subplots(figsize=((7, 3)))\n",
    "ax.add_patch(plt.Circle(positions[0], behavior.radius, color='blue', alpha=0.2))\n",
    "ax.add_patch(plt.Circle(positions[-1], behavior.radius, color='blue', alpha=0.5))\n",
    "# ax.add_patch(plt.Circle(behavior.target.position, behavior.target.position_tolerance, color='red', alpha=0.6, fill=False))\n",
    "ax.plot(positions[:, 0], positions[:, 1], '-')\n",
    "ax.set_xlabel('x')\n",
    "ax.set_ylabel('y')\n",
    "plt.axis('equal');"
   ]
  },
  {
   "cell_type": "markdown",
   "id": "c290c6d3",
   "metadata": {},
   "source": [
    "We got the trajectory we expected, altough not a particularly interesting one."
   ]
  },
  {
   "cell_type": "markdown",
   "id": "07bed37a",
   "metadata": {},
   "source": [
    "## Environment state\n",
    "\n",
    "The job of the behavior is to navigate the agent through obstacles. So let's add a round obstacle in the middle of the agent's path."
   ]
  },
  {
   "cell_type": "code",
   "execution_count": 21,
   "id": "95998b85",
   "metadata": {
    "execution": {
     "iopub.execute_input": "2025-06-06T15:37:37.172840Z",
     "iopub.status.busy": "2025-06-06T15:37:37.172731Z",
     "iopub.status.idle": "2025-06-06T15:37:37.174454Z",
     "shell.execute_reply": "2025-06-06T15:37:37.174228Z"
    },
    "tags": []
   },
   "outputs": [],
   "source": [
    "disc = core.Disc(position=(5.0, 0.1), radius=1)"
   ]
  },
  {
   "cell_type": "markdown",
   "id": "2e711a7e",
   "metadata": {},
   "source": [
    "How do we tell the behavior to avoid the obstacle?\n",
    "For this, each behavior keeps an environmental state ... unfortunately our current behavior, \n",
    "as we may expect from a behavior called *Dummy*, does not have one."
   ]
  },
  {
   "cell_type": "code",
   "execution_count": 22,
   "id": "a328e105",
   "metadata": {
    "execution": {
     "iopub.execute_input": "2025-06-06T15:37:37.175505Z",
     "iopub.status.busy": "2025-06-06T15:37:37.175431Z",
     "iopub.status.idle": "2025-06-06T15:37:37.177301Z",
     "shell.execute_reply": "2025-06-06T15:37:37.177086Z"
    },
    "tags": []
   },
   "outputs": [
    {
     "data": {
      "text/plain": [
       "True"
      ]
     },
     "execution_count": 22,
     "metadata": {},
     "output_type": "execute_result"
    }
   ],
   "source": [
    "behavior.environment_state is None"
   ]
  },
  {
   "cell_type": "markdown",
   "id": "e037926c",
   "metadata": {},
   "source": [
    "So, let's switch to a smarter behavior. Like for kinematics, behaviors are registered by name"
   ]
  },
  {
   "cell_type": "code",
   "execution_count": 23,
   "id": "71edebd7",
   "metadata": {
    "execution": {
     "iopub.execute_input": "2025-06-06T15:37:37.178411Z",
     "iopub.status.busy": "2025-06-06T15:37:37.178318Z",
     "iopub.status.idle": "2025-06-06T15:37:37.180252Z",
     "shell.execute_reply": "2025-06-06T15:37:37.180051Z"
    },
    "tags": []
   },
   "outputs": [
    {
     "data": {
      "text/plain": [
       "['', 'Dummy', 'HL', 'HRVO', 'ORCA', 'PyDummy', 'SocialForce']"
      ]
     },
     "execution_count": 23,
     "metadata": {},
     "output_type": "execute_result"
    }
   ],
   "source": [
    "core.Behavior.types"
   ]
  },
  {
   "cell_type": "markdown",
   "id": "c617ec10",
   "metadata": {},
   "source": [
    "We pick `\"ORCA\"` and setup it with the same kinematics, state, and target as before."
   ]
  },
  {
   "cell_type": "code",
   "execution_count": 24,
   "id": "fb837b5d",
   "metadata": {
    "execution": {
     "iopub.execute_input": "2025-06-06T15:37:37.181303Z",
     "iopub.status.busy": "2025-06-06T15:37:37.181218Z",
     "iopub.status.idle": "2025-06-06T15:37:37.182959Z",
     "shell.execute_reply": "2025-06-06T15:37:37.182749Z"
    },
    "tags": []
   },
   "outputs": [],
   "source": [
    "behavior = core.Behavior.make_type('ORCA')\n",
    "behavior.kinematics = kinematics\n",
    "behavior.pose = core.Pose2((0, 0), 0)\n",
    "behavior.twist = core.Twist2((0, 0), 0)\n",
    "behavior.radius = 1.0\n",
    "behavior.target = core.Target.Point((10, 0), tolerance=0.5)"
   ]
  },
  {
   "cell_type": "markdown",
   "id": "54b3edd5",
   "metadata": {},
   "source": [
    "This behavior has a more useful environment state which contains static obstacles:"
   ]
  },
  {
   "cell_type": "code",
   "execution_count": 25,
   "id": "aadef464",
   "metadata": {
    "execution": {
     "iopub.execute_input": "2025-06-06T15:37:37.184094Z",
     "iopub.status.busy": "2025-06-06T15:37:37.184006Z",
     "iopub.status.idle": "2025-06-06T15:37:37.185661Z",
     "shell.execute_reply": "2025-06-06T15:37:37.185473Z"
    },
    "tags": []
   },
   "outputs": [],
   "source": [
    "behavior.environment_state.static_obstacles = [disc]"
   ]
  },
  {
   "cell_type": "markdown",
   "id": "03544785",
   "metadata": {},
   "source": [
    "Let's check that the behavior is really considering the obstacle:"
   ]
  },
  {
   "cell_type": "code",
   "execution_count": 26,
   "id": "be764606",
   "metadata": {
    "execution": {
     "iopub.execute_input": "2025-06-06T15:37:37.186672Z",
     "iopub.status.busy": "2025-06-06T15:37:37.186595Z",
     "iopub.status.idle": "2025-06-06T15:37:37.188308Z",
     "shell.execute_reply": "2025-06-06T15:37:37.188107Z"
    },
    "tags": []
   },
   "outputs": [
    {
     "data": {
      "text/plain": [
       "Twist2((0.150420, 0.000000), -0.224969, frame=Frame.relative)"
      ]
     },
     "execution_count": 26,
     "metadata": {},
     "output_type": "execute_result"
    }
   ],
   "source": [
    "behavior.compute_cmd(0.1)"
   ]
  },
  {
   "cell_type": "markdown",
   "id": "8343df1e",
   "metadata": {},
   "source": [
    "In fact, the behavior is telling us to steer clockwise to avoid the obstacle. Let's plot the new trajectory."
   ]
  },
  {
   "cell_type": "code",
   "execution_count": 27,
   "id": "6701f137",
   "metadata": {
    "execution": {
     "iopub.execute_input": "2025-06-06T15:37:37.189378Z",
     "iopub.status.busy": "2025-06-06T15:37:37.189294Z",
     "iopub.status.idle": "2025-06-06T15:37:37.192181Z",
     "shell.execute_reply": "2025-06-06T15:37:37.191959Z"
    },
    "tags": []
   },
   "outputs": [],
   "source": [
    "positions = []\n",
    "\n",
    "while not behavior.target.satisfied(behavior.pose):\n",
    "    positions.append(behavior.position)\n",
    "    cmd = behavior.compute_cmd(0.1)\n",
    "    behavior.actuate(cmd, 0.1)\n",
    "    \n",
    "positions = np.asarray(positions)"
   ]
  },
  {
   "cell_type": "code",
   "execution_count": 28,
   "id": "0a53e88a",
   "metadata": {
    "execution": {
     "iopub.execute_input": "2025-06-06T15:37:37.193284Z",
     "iopub.status.busy": "2025-06-06T15:37:37.193192Z",
     "iopub.status.idle": "2025-06-06T15:37:37.238924Z",
     "shell.execute_reply": "2025-06-06T15:37:37.238708Z"
    },
    "tags": []
   },
   "outputs": [
    {
     "data": {
      "image/png": "[encoded data removed]",
      "text/plain": [
       "<Figure size 700x300 with 1 Axes>"
      ]
     },
     "metadata": {},
     "output_type": "display_data"
    }
   ],
   "source": [
    "fig, ax = plt.subplots(figsize=((7, 3)))\n",
    "ax.add_patch(plt.Circle(disc.position, disc.radius, color='k', alpha=0.5))\n",
    "ax.add_patch(plt.Circle(positions[0], behavior.radius, color='blue', alpha=0.2))\n",
    "ax.add_patch(plt.Circle(positions[-1], behavior.radius, color='blue', alpha=0.5))\n",
    "ax.plot(positions[:, 0], positions[:, 1], '-')\n",
    "ax.set_xlabel('x')\n",
    "ax.set_ylabel('y')\n",
    "plt.axis('equal');"
   ]
  },
  {
   "cell_type": "markdown",
   "id": "cef7e0e5",
   "metadata": {},
   "source": [
    "Indeed, the agent does a more interesting trajectory!"
   ]
  },
  {
   "cell_type": "markdown",
   "id": "42795ea6",
   "metadata": {},
   "source": [
    "## Controllers\n",
    "\n",
    "Controllers monitor a behavior to report when it has reached a target.\n",
    "\n",
    "Let's try again the same scenario but now using a controller. "
   ]
  },
  {
   "cell_type": "code",
   "execution_count": 29,
   "id": "df9873bb-eef1-434c-a867-39b08713ba19",
   "metadata": {
    "execution": {
     "iopub.execute_input": "2025-06-06T15:37:37.240057Z",
     "iopub.status.busy": "2025-06-06T15:37:37.239976Z",
     "iopub.status.idle": "2025-06-06T15:37:37.241702Z",
     "shell.execute_reply": "2025-06-06T15:37:37.241503Z"
    },
    "tags": []
   },
   "outputs": [],
   "source": [
    "behavior.pose = core.Pose2((0, 0), 0)\n",
    "behavior.twist = core.Twist2((0, 0), 0)\n",
    "controller = core.Controller(behavior)"
   ]
  },
  {
   "cell_type": "markdown",
   "id": "e4ca1af0-59d1-4b54-9ac6-0b9c73fb2416",
   "metadata": {},
   "source": [
    "We can tell the control to direcly actuate each control commands in a callback."
   ]
  },
  {
   "cell_type": "code",
   "execution_count": 30,
   "id": "232b7c0e-a8d5-40bc-b735-6d92412306f8",
   "metadata": {
    "execution": {
     "iopub.execute_input": "2025-06-06T15:37:37.242750Z",
     "iopub.status.busy": "2025-06-06T15:37:37.242677Z",
     "iopub.status.idle": "2025-06-06T15:37:37.244351Z",
     "shell.execute_reply": "2025-06-06T15:37:37.244124Z"
    },
    "tags": []
   },
   "outputs": [],
   "source": [
    "time_step = 0.1\n",
    "\n",
    "def actuate(cmd):\n",
    "    behavior.actuate(cmd, time_step=time_step)\n",
    "\n",
    "controller.set_cmd_cb(actuate)"
   ]
  },
  {
   "cell_type": "markdown",
   "id": "ba7acf2d",
   "metadata": {},
   "source": [
    "Targets are now set through the controller that returns an *action*,"
   ]
  },
  {
   "cell_type": "code",
   "execution_count": 31,
   "id": "8f7bfb01",
   "metadata": {
    "execution": {
     "iopub.execute_input": "2025-06-06T15:37:37.245389Z",
     "iopub.status.busy": "2025-06-06T15:37:37.245303Z",
     "iopub.status.idle": "2025-06-06T15:37:37.246789Z",
     "shell.execute_reply": "2025-06-06T15:37:37.246596Z"
    },
    "tags": []
   },
   "outputs": [],
   "source": [
    "action = controller.go_to_pose(core.Pose2((10, 0), 3.14), 0.1, 0.1)"
   ]
  },
  {
   "cell_type": "markdown",
   "id": "83c1f2e4",
   "metadata": {},
   "source": [
    "which we can use to setup a terminal callback."
   ]
  },
  {
   "cell_type": "code",
   "execution_count": 32,
   "id": "58f15587",
   "metadata": {
    "execution": {
     "iopub.execute_input": "2025-06-06T15:37:37.247826Z",
     "iopub.status.busy": "2025-06-06T15:37:37.247742Z",
     "iopub.status.idle": "2025-06-06T15:37:37.249299Z",
     "shell.execute_reply": "2025-06-06T15:37:37.249103Z"
    },
    "tags": []
   },
   "outputs": [],
   "source": [
    "action.done_cb = lambda action_state: print(f\"Action has finished with {action_state}.\")"
   ]
  },
  {
   "cell_type": "markdown",
   "id": "03a0899a",
   "metadata": {},
   "source": [
    "Commands are now queried through the controller which in turns monitors the action state. The run-loop becomes simpler as we need just a single line per step (in addition to the usual line to store the trajectory)."
   ]
  },
  {
   "cell_type": "code",
   "execution_count": 33,
   "id": "5679e5f1",
   "metadata": {
    "execution": {
     "iopub.execute_input": "2025-06-06T15:37:37.250353Z",
     "iopub.status.busy": "2025-06-06T15:37:37.250290Z",
     "iopub.status.idle": "2025-06-06T15:37:37.252955Z",
     "shell.execute_reply": "2025-06-06T15:37:37.252758Z"
    },
    "tags": []
   },
   "outputs": [
    {
     "name": "stdout",
     "output_type": "stream",
     "text": [
      "Action has finished with State.success.\n"
     ]
    }
   ],
   "source": [
    "positions = []\n",
    "\n",
    "while not controller.idle:\n",
    "    controller.update(time_step=time_step)\n",
    "    positions.append(behavior.position)\n",
    "    \n",
    "positions = np.asarray(positions)"
   ]
  },
  {
   "cell_type": "markdown",
   "id": "87796200",
   "metadata": {},
   "source": [
    "## More agents\n",
    "\n",
    "Within the playground, we can play with more than a single agent.\n",
    "Let's add a second agent with the same shape, kinematics, and type of behavior."
   ]
  },
  {
   "cell_type": "code",
   "execution_count": 34,
   "id": "c8b8d5db",
   "metadata": {
    "execution": {
     "iopub.execute_input": "2025-06-06T15:37:37.253962Z",
     "iopub.status.busy": "2025-06-06T15:37:37.253894Z",
     "iopub.status.idle": "2025-06-06T15:37:37.255630Z",
     "shell.execute_reply": "2025-06-06T15:37:37.255424Z"
    },
    "tags": []
   },
   "outputs": [],
   "source": [
    "behavior_1 = core.Behavior.make_type(\"ORCA\")\n",
    "behavior_1.radius = 1.0\n",
    "behavior_1.kinematics = kinematics\n",
    "behavior_2 = core.Behavior.make_type(\"ORCA\")\n",
    "behavior_2.radius = 1.0\n",
    "behavior_2.kinematics = kinematics\n",
    "behaviors = [behavior_1, behavior_2]"
   ]
  },
  {
   "cell_type": "markdown",
   "id": "c545fe62",
   "metadata": {},
   "source": [
    "We want to make them cross. Let them start from opposing poses"
   ]
  },
  {
   "cell_type": "code",
   "execution_count": 35,
   "id": "38fb60c9",
   "metadata": {
    "execution": {
     "iopub.execute_input": "2025-06-06T15:37:37.256617Z",
     "iopub.status.busy": "2025-06-06T15:37:37.256544Z",
     "iopub.status.idle": "2025-06-06T15:37:37.258103Z",
     "shell.execute_reply": "2025-06-06T15:37:37.257887Z"
    },
    "tags": []
   },
   "outputs": [],
   "source": [
    "behavior_1.pose = core.Pose2((0, 0), 0)\n",
    "behavior_2.pose = core.Pose2((10, 0), np.pi)"
   ]
  },
  {
   "cell_type": "markdown",
   "id": "db310b32",
   "metadata": {},
   "source": [
    "and then exchange positions."
   ]
  },
  {
   "cell_type": "code",
   "execution_count": 36,
   "id": "f838d60c",
   "metadata": {
    "execution": {
     "iopub.execute_input": "2025-06-06T15:37:37.259073Z",
     "iopub.status.busy": "2025-06-06T15:37:37.259004Z",
     "iopub.status.idle": "2025-06-06T15:37:37.260534Z",
     "shell.execute_reply": "2025-06-06T15:37:37.260316Z"
    },
    "tags": []
   },
   "outputs": [],
   "source": [
    "behavior_1.target = core.Target.Point(behavior_2.position, 0.1)\n",
    "behavior_2.target = core.Target.Point(behavior_1.position, 0.1)"
   ]
  },
  {
   "cell_type": "markdown",
   "id": "e4acdff2",
   "metadata": {},
   "source": [
    "We need to tell the behaviors that there is another agent in their vicinity, a *neighbor*.\n",
    "\n",
    "Neighbors are also of circular shape and their state consists of position, radius, and velocity.\n",
    "For real agents, environment state would originate from perception, which may be noisy and have partial visibility.\n",
    "Here, we keep it simple and make the agents aware of all other agents, adding all of them as neighbors in a perfectly accurate environment state."
   ]
  },
  {
   "cell_type": "code",
   "execution_count": 37,
   "id": "3fc89b44",
   "metadata": {
    "execution": {
     "iopub.execute_input": "2025-06-06T15:37:37.261614Z",
     "iopub.status.busy": "2025-06-06T15:37:37.261523Z",
     "iopub.status.idle": "2025-06-06T15:37:37.263142Z",
     "shell.execute_reply": "2025-06-06T15:37:37.262939Z"
    },
    "tags": []
   },
   "outputs": [],
   "source": [
    "for behavior in behaviors:\n",
    "    behavior.environment_state.neighbors = [\n",
    "        core.Neighbor(position=b.position, radius=b.radius, velocity=b.velocity)\n",
    "        for b in behaviors if b is not behavior\n",
    "    ]"
   ]
  },
  {
   "cell_type": "markdown",
   "id": "ff2b6fec",
   "metadata": {},
   "source": [
    "Let's try again to compute the trajectories. Contrary to static obstacles, neighbors ... do move. \n",
    "Therefore, we need to update them before asking for a new control commands."
   ]
  },
  {
   "cell_type": "code",
   "execution_count": 38,
   "id": "626e44f8",
   "metadata": {
    "execution": {
     "iopub.execute_input": "2025-06-06T15:37:37.264201Z",
     "iopub.status.busy": "2025-06-06T15:37:37.264105Z",
     "iopub.status.idle": "2025-06-06T15:37:37.270402Z",
     "shell.execute_reply": "2025-06-06T15:37:37.270198Z"
    },
    "tags": []
   },
   "outputs": [],
   "source": [
    "positions = []\n",
    "time_step = 0.1\n",
    "\n",
    "while not all(b.target.satisfied(b.pose) for b in behaviors):\n",
    "    positions.append([b.position for b in behaviors])\n",
    "    cmds = []\n",
    "    for behavior in behaviors:\n",
    "        behavior.environment_state.neighbors = [\n",
    "            core.Neighbor(position=b.position, radius=b.radius, velocity=b.velocity)\n",
    "            for b in behaviors if b != behavior\n",
    "        ]\n",
    "        cmds.append(behavior.compute_cmd(time_step=time_step))\n",
    "    for behavior, cmd in zip(behaviors, cmds):\n",
    "        behavior.actuate(cmd, time_step=time_step)\n",
    "    \n",
    "positions = np.asarray(positions)"
   ]
  },
  {
   "cell_type": "code",
   "execution_count": 39,
   "id": "000363bb",
   "metadata": {
    "execution": {
     "iopub.execute_input": "2025-06-06T15:37:37.271479Z",
     "iopub.status.busy": "2025-06-06T15:37:37.271392Z",
     "iopub.status.idle": "2025-06-06T15:37:37.314982Z",
     "shell.execute_reply": "2025-06-06T15:37:37.314767Z"
    },
    "tags": []
   },
   "outputs": [
    {
     "data": {
      "image/png": "[encoded data removed]",
      "text/plain": [
       "<Figure size 700x300 with 1 Axes>"
      ]
     },
     "metadata": {},
     "output_type": "display_data"
    }
   ],
   "source": [
    "fig, ax = plt.subplots(figsize=((7, 3)))\n",
    "for i, (behavior, color) in enumerate(zip(behaviors, 'bg')):\n",
    "    ax.add_patch(plt.Circle(positions[-1, i], behavior.radius, color=color, alpha=0.5))\n",
    "    ax.plot(positions[:, i, 0], positions[:, i, 1], '-', color=color)\n",
    "ax.set_xlabel('x')\n",
    "ax.set_ylabel('y')\n",
    "plt.axis('equal');"
   ]
  },
  {
   "cell_type": "markdown",
   "id": "b5fac18b-cec1-46c9-a59c-465f612cb72f",
   "metadata": {},
   "source": [
    "We see how the two agents successfull avoid a collision and manage to exchange positions.\n",
    "\n",
    "This concludes the tour of the core part of the playground. \n",
    "It you want to integrate some of its components in your system, go ahead \n",
    "and skip the rest of the tour, which goes deeper into simulation."
   ]
  },
  {
   "cell_type": "markdown",
   "id": "39dc7b09",
   "metadata": {},
   "source": [
    "## Simulation\n",
    "\n",
    "We have seen how to manually write a run-loop to simulate a trajectory.\n",
    "The playground simplifies this process using `Agent`, `StateEstimation` and `Task`,\n",
    "which generalize the functionalities we have been implementing.\n",
    "\n",
    "An agent holds a behavior and a kinematics."
   ]
  },
  {
   "cell_type": "code",
   "execution_count": 40,
   "id": "31078a43",
   "metadata": {
    "execution": {
     "iopub.execute_input": "2025-06-06T15:37:37.316158Z",
     "iopub.status.busy": "2025-06-06T15:37:37.316082Z",
     "iopub.status.idle": "2025-06-06T15:37:37.354978Z",
     "shell.execute_reply": "2025-06-06T15:37:37.354758Z"
    },
    "tags": []
   },
   "outputs": [],
   "source": [
    "from navground import sim\n",
    "\n",
    "agent = sim.Agent()\n",
    "agent.behavior = core.Behavior.make_type('ORCA')\n",
    "agent.kinematics = core.kinematics.TwoWheelsDifferentialDriveKinematics(max_speed=1.0, wheel_axis=2.0)\n",
    "agent.pose = core.Pose2((0, 0), 0)\n",
    "agent.twist = core.Twist2((0, 0), 0)\n",
    "agent.radius = 1.0"
   ]
  },
  {
   "cell_type": "markdown",
   "id": "c6d1a675",
   "metadata": {},
   "source": [
    "An agent also has a *task* to generate navigation targets. Let's pick ``WaypointsTask`` to ask the agent to pendle between two points."
   ]
  },
  {
   "cell_type": "code",
   "execution_count": 41,
   "id": "16222391",
   "metadata": {
    "execution": {
     "iopub.execute_input": "2025-06-06T15:37:37.356106Z",
     "iopub.status.busy": "2025-06-06T15:37:37.355987Z",
     "iopub.status.idle": "2025-06-06T15:37:37.357579Z",
     "shell.execute_reply": "2025-06-06T15:37:37.357369Z"
    },
    "tags": []
   },
   "outputs": [],
   "source": [
    "agent.task = sim.tasks.WaypointsTask(waypoints=[(10, 0), (0, 0)], loop=True, tolerance=0.1)"
   ]
  },
  {
   "cell_type": "markdown",
   "id": "5c6e0b40",
   "metadata": {},
   "source": [
    "Finally, an agent uses a *state estimation* to update the ... its behavior environment *state*. "
   ]
  },
  {
   "cell_type": "code",
   "execution_count": 42,
   "id": "aa1755dc",
   "metadata": {
    "execution": {
     "iopub.execute_input": "2025-06-06T15:37:37.358529Z",
     "iopub.status.busy": "2025-06-06T15:37:37.358451Z",
     "iopub.status.idle": "2025-06-06T15:37:37.359845Z",
     "shell.execute_reply": "2025-06-06T15:37:37.359657Z"
    },
    "tags": []
   },
   "outputs": [],
   "source": [
    "agent.state_estimation = sim.state_estimations.BoundedStateEstimation(range=5.0)"
   ]
  },
  {
   "cell_type": "markdown",
   "id": "dd8f1b50",
   "metadata": {},
   "source": [
    "Let's now add the agent to a world, together with the same static obstacle we have been using."
   ]
  },
  {
   "cell_type": "code",
   "execution_count": 43,
   "id": "79ceb1a7",
   "metadata": {
    "execution": {
     "iopub.execute_input": "2025-06-06T15:37:37.360801Z",
     "iopub.status.busy": "2025-06-06T15:37:37.360723Z",
     "iopub.status.idle": "2025-06-06T15:37:37.362175Z",
     "shell.execute_reply": "2025-06-06T15:37:37.361988Z"
    },
    "tags": []
   },
   "outputs": [],
   "source": [
    "world = sim.World()\n",
    "world.add_obstacle(disc)\n",
    "world.add_agent(agent)"
   ]
  },
  {
   "cell_type": "markdown",
   "id": "551761e1",
   "metadata": {},
   "source": [
    "That's all we have to do to setup our simulation. \n",
    "\n",
    "Let's run it for a while."
   ]
  },
  {
   "cell_type": "code",
   "execution_count": 44,
   "id": "06062fd9",
   "metadata": {
    "execution": {
     "iopub.execute_input": "2025-06-06T15:37:37.363104Z",
     "iopub.status.busy": "2025-06-06T15:37:37.363029Z",
     "iopub.status.idle": "2025-06-06T15:37:37.366287Z",
     "shell.execute_reply": "2025-06-06T15:37:37.366085Z"
    },
    "tags": []
   },
   "outputs": [],
   "source": [
    "world.run(steps=10, time_step=0.1)"
   ]
  },
  {
   "cell_type": "markdown",
   "id": "f75f3f31",
   "metadata": {},
   "source": [
    "Nice ... but we would like to plot the trajectory again.\n",
    "\n",
    "We can iteratively run the simulation one step at time while accumulating data"
   ]
  },
  {
   "cell_type": "code",
   "execution_count": 45,
   "id": "5654700c",
   "metadata": {
    "execution": {
     "iopub.execute_input": "2025-06-06T15:37:37.367333Z",
     "iopub.status.busy": "2025-06-06T15:37:37.367261Z",
     "iopub.status.idle": "2025-06-06T15:37:37.369196Z",
     "shell.execute_reply": "2025-06-06T15:37:37.369010Z"
    },
    "tags": []
   },
   "outputs": [],
   "source": [
    "positions = []\n",
    "for i in range(100):\n",
    "    world.run(steps=1, time_step=0.1)\n",
    "    positions.append([a.position for a in world.agents])"
   ]
  },
  {
   "cell_type": "markdown",
   "id": "238cb0ab-1411-4229-a767-b11f3365ca0e",
   "metadata": {},
   "source": [
    "or we can add a callback where to accumulate data."
   ]
  },
  {
   "cell_type": "code",
   "execution_count": 46,
   "id": "5e570add-6179-46eb-9570-cd0ca2b9e5db",
   "metadata": {
    "execution": {
     "iopub.execute_input": "2025-06-06T15:37:37.370211Z",
     "iopub.status.busy": "2025-06-06T15:37:37.370127Z",
     "iopub.status.idle": "2025-06-06T15:37:37.371759Z",
     "shell.execute_reply": "2025-06-06T15:37:37.371551Z"
    }
   },
   "outputs": [],
   "source": [
    "def cb() -> None:\n",
    "    positions.append([a.position for a in world.agents])\n",
    "\n",
    "world.add_callback(cb)"
   ]
  },
  {
   "cell_type": "markdown",
   "id": "021de5b1-9c1a-42c5-8aaa-4d63edbc08f6",
   "metadata": {},
   "source": [
    "We perform additional steps to reach a total of 250 steps:"
   ]
  },
  {
   "cell_type": "code",
   "execution_count": 47,
   "id": "26653bfe-d20d-46d1-bed1-13150521ea65",
   "metadata": {
    "execution": {
     "iopub.execute_input": "2025-06-06T15:37:37.372778Z",
     "iopub.status.busy": "2025-06-06T15:37:37.372692Z",
     "iopub.status.idle": "2025-06-06T15:37:37.374385Z",
     "shell.execute_reply": "2025-06-06T15:37:37.374201Z"
    }
   },
   "outputs": [],
   "source": [
    "world.run_until(lambda: world.step >= 250, 0.1)"
   ]
  },
  {
   "cell_type": "markdown",
   "id": "1acc1147-220d-4086-9903-b2c33dbd2b35",
   "metadata": {},
   "source": [
    "Let's plot the resulting trajectory."
   ]
  },
  {
   "cell_type": "code",
   "execution_count": 48,
   "id": "fb922770",
   "metadata": {
    "execution": {
     "iopub.execute_input": "2025-06-06T15:37:37.375387Z",
     "iopub.status.busy": "2025-06-06T15:37:37.375297Z",
     "iopub.status.idle": "2025-06-06T15:37:37.419709Z",
     "shell.execute_reply": "2025-06-06T15:37:37.419498Z"
    },
    "tags": []
   },
   "outputs": [
    {
     "data": {
      "image/png": "[encoded data removed]",
      "text/plain": [
       "<Figure size 700x300 with 1 Axes>"
      ]
     },
     "metadata": {},
     "output_type": "display_data"
    }
   ],
   "source": [
    "ps = np.asarray(positions)\n",
    "\n",
    "fig, ax = plt.subplots(figsize=((7, 3)))\n",
    "ax.add_patch(plt.Circle(disc.position, disc.radius, color='k', alpha=0.5))\n",
    "for i in range(ps.shape[1]):\n",
    "    ax.plot(ps[:, i, 0], ps[:, i, 1], 'b-')\n",
    "    ax.add_patch(plt.Circle(ps[-1, i], behavior.radius, color='b', alpha=0.5))\n",
    "ax.set_xlabel('x')\n",
    "ax.set_ylabel('y')\n",
    "plt.axis('equal');"
   ]
  },
  {
   "cell_type": "markdown",
   "id": "8976f9fe",
   "metadata": {},
   "source": [
    "## Experiment\n",
    "\n",
    "Instead of manually injecting data collection in the run-loop, we can configure an ``Experiment`` to do it automatically.\n",
    "\n",
    "Let's start by defining a scenario, which is an object that initializes worlds, grouping together the commands we have been using."
   ]
  },
  {
   "cell_type": "code",
   "execution_count": 49,
   "id": "3431304d",
   "metadata": {
    "execution": {
     "iopub.execute_input": "2025-06-06T15:37:37.420778Z",
     "iopub.status.busy": "2025-06-06T15:37:37.420706Z",
     "iopub.status.idle": "2025-06-06T15:37:37.423192Z",
     "shell.execute_reply": "2025-06-06T15:37:37.422995Z"
    },
    "tags": []
   },
   "outputs": [],
   "source": [
    "from typing import Optional\n",
    "\n",
    "class MyScenario(sim.Scenario):\n",
    "\n",
    "    def __init__(self):\n",
    "        super().__init__()\n",
    "    \n",
    "    def init_world(self, world: sim.World, seed: Optional[int] = None) -> None:\n",
    "        super().init_world(world, seed)\n",
    "        agent = sim.Agent()\n",
    "        agent.behavior = core.Behavior.make_type('ORCA')\n",
    "        agent.kinematics = core.kinematics.TwoWheelsDifferentialDriveKinematics(max_speed=1.0, wheel_axis=2.0)\n",
    "        agent.pose = core.Pose2((0, 0), 0)\n",
    "        agent.twist = core.Twist2((0, 0), 0)\n",
    "        agent.radius = 1.0\n",
    "        agent.task = sim.tasks.WaypointsTask(waypoints=[(10, 0), (0, 0)], loop=True, tolerance=0.1)\n",
    "        agent.state_estimation = sim.state_estimations.BoundedStateEstimation(range=5.0)\n",
    "        world.add_obstacle(core.Disc(position=(5.0, 0.1), radius=1))\n",
    "        world.add_agent(agent)"
   ]
  },
  {
   "cell_type": "markdown",
   "id": "6dea19b9",
   "metadata": {},
   "source": [
    "Then, we configure an experiment to run such scenario for some steps. "
   ]
  },
  {
   "cell_type": "code",
   "execution_count": 50,
   "id": "0998fec7",
   "metadata": {
    "execution": {
     "iopub.execute_input": "2025-06-06T15:37:37.424275Z",
     "iopub.status.busy": "2025-06-06T15:37:37.424199Z",
     "iopub.status.idle": "2025-06-06T15:37:37.425859Z",
     "shell.execute_reply": "2025-06-06T15:37:37.425642Z"
    },
    "tags": []
   },
   "outputs": [],
   "source": [
    "experiment = sim.Experiment()\n",
    "experiment.scenario = MyScenario()\n",
    "experiment.time_step = 0.1\n",
    "experiment.steps= 300"
   ]
  },
  {
   "cell_type": "markdown",
   "id": "0d3132c2",
   "metadata": {},
   "source": [
    "We are interested to record poses,"
   ]
  },
  {
   "cell_type": "code",
   "execution_count": 51,
   "id": "ef86e119",
   "metadata": {
    "execution": {
     "iopub.execute_input": "2025-06-06T15:37:37.426854Z",
     "iopub.status.busy": "2025-06-06T15:37:37.426781Z",
     "iopub.status.idle": "2025-06-06T15:37:37.428347Z",
     "shell.execute_reply": "2025-06-06T15:37:37.428145Z"
    },
    "tags": []
   },
   "outputs": [],
   "source": [
    "experiment.record_config.pose = True"
   ]
  },
  {
   "cell_type": "markdown",
   "id": "49a9fe61",
   "metadata": {},
   "source": [
    "so let's run the experiment."
   ]
  },
  {
   "cell_type": "code",
   "execution_count": 52,
   "id": "bf43b218",
   "metadata": {
    "execution": {
     "iopub.execute_input": "2025-06-06T15:37:37.429347Z",
     "iopub.status.busy": "2025-06-06T15:37:37.429267Z",
     "iopub.status.idle": "2025-06-06T15:37:37.431012Z",
     "shell.execute_reply": "2025-06-06T15:37:37.430815Z"
    },
    "tags": []
   },
   "outputs": [],
   "source": [
    "run = experiment.run_once(seed=0)"
   ]
  },
  {
   "cell_type": "markdown",
   "id": "d2163f20-ec8c-4632-99c2-9741a181a532",
   "metadata": {},
   "source": [
    "The experiment recorded metadata such as duration,"
   ]
  },
  {
   "cell_type": "code",
   "execution_count": 53,
   "id": "c289972a-9da6-4daa-a4eb-7c783a790cf0",
   "metadata": {
    "execution": {
     "iopub.execute_input": "2025-06-06T15:37:37.432032Z",
     "iopub.status.busy": "2025-06-06T15:37:37.431962Z",
     "iopub.status.idle": "2025-06-06T15:37:37.433845Z",
     "shell.execute_reply": "2025-06-06T15:37:37.433653Z"
    },
    "tags": []
   },
   "outputs": [
    {
     "data": {
      "text/plain": [
       "datetime.timedelta(microseconds=147)"
      ]
     },
     "execution_count": 53,
     "metadata": {},
     "output_type": "execute_result"
    }
   ],
   "source": [
    "run.duration"
   ]
  },
  {
   "cell_type": "markdown",
   "id": "5f444a0e-3bb2-4bed-8083-0a22d6356dd6",
   "metadata": {},
   "source": [
    "as well as the agents' trajectory, as an array of `steps x agents x 3` coordinates."
   ]
  },
  {
   "cell_type": "code",
   "execution_count": 54,
   "id": "54395819",
   "metadata": {
    "execution": {
     "iopub.execute_input": "2025-06-06T15:37:37.434843Z",
     "iopub.status.busy": "2025-06-06T15:37:37.434765Z",
     "iopub.status.idle": "2025-06-06T15:37:37.436533Z",
     "shell.execute_reply": "2025-06-06T15:37:37.436322Z"
    },
    "tags": []
   },
   "outputs": [
    {
     "data": {
      "text/plain": [
       "(300, 1, 3)"
      ]
     },
     "execution_count": 54,
     "metadata": {},
     "output_type": "execute_result"
    }
   ],
   "source": [
    "run.poses.shape"
   ]
  },
  {
   "cell_type": "markdown",
   "id": "2c31e7f4",
   "metadata": {},
   "source": [
    "Optionally, we can configure the experiment to automatically save all data to an HDF5 file."
   ]
  },
  {
   "cell_type": "code",
   "execution_count": 55,
   "id": "ecb349fa",
   "metadata": {
    "execution": {
     "iopub.execute_input": "2025-06-06T15:37:37.437524Z",
     "iopub.status.busy": "2025-06-06T15:37:37.437446Z",
     "iopub.status.idle": "2025-06-06T15:37:37.713001Z",
     "shell.execute_reply": "2025-06-06T15:37:37.712658Z"
    },
    "tags": []
   },
   "outputs": [],
   "source": [
    "import h5py\n",
    "import pathlib\n",
    "\n",
    "experiment.number_of_runs = 1\n",
    "experiment.save_directory = pathlib.Path('.')\n",
    "\n",
    "# experiment.run()\n",
    "# if experiment.path:\n",
    "#     data = h5py.File(pathlib.Path(experiment.path))\n",
    "#     data    "
   ]
  },
  {
   "cell_type": "markdown",
   "id": "e4cd57d4",
   "metadata": {},
   "source": [
    "## YAML\n",
    "\n",
    "What we configured in Python during this tutorial, can be configured in YAML too.\n",
    "\n",
    "For instance, let's configure the previous experiment using YAML. \n",
    "We add our lonely agent in one of the `scenario/groups`."
   ]
  },
  {
   "cell_type": "code",
   "execution_count": 56,
   "id": "e3eed54d",
   "metadata": {
    "execution": {
     "iopub.execute_input": "2025-06-06T15:37:37.714661Z",
     "iopub.status.busy": "2025-06-06T15:37:37.714519Z",
     "iopub.status.idle": "2025-06-06T15:37:37.716516Z",
     "shell.execute_reply": "2025-06-06T15:37:37.716295Z"
    },
    "tags": []
   },
   "outputs": [],
   "source": [
    "yaml = \"\"\"\n",
    "time_step: 0.1\n",
    "steps: 300\n",
    "record_pose: true\n",
    "scenario:\n",
    "    obstacles:\n",
    "        - position: [5, 0.1]\n",
    "          radius: 1.0\n",
    "    groups:\n",
    "        - number: 1\n",
    "          type: thymio\n",
    "          behavior:\n",
    "            type: ORCA\n",
    "          kinematics:\n",
    "            type: 2WDiff\n",
    "            wheel_axis: 2\n",
    "            max_speed: 1\n",
    "          task:\n",
    "            type: Waypoints\n",
    "            loop: true\n",
    "            tolerance: 0.1\n",
    "            waypoints: [[10, 0], [0, 0]]\n",
    "          state_estimation:\n",
    "            type: Bounded\n",
    "            range: 5\n",
    "          position: [0, 0]\n",
    "          orientation: 0\n",
    "          radius: 1.0\n",
    "          control_period: 0.1        \n",
    "\"\"\""
   ]
  },
  {
   "cell_type": "code",
   "execution_count": 57,
   "id": "36e9d8fc",
   "metadata": {
    "execution": {
     "iopub.execute_input": "2025-06-06T15:37:37.717597Z",
     "iopub.status.busy": "2025-06-06T15:37:37.717522Z",
     "iopub.status.idle": "2025-06-06T15:37:37.721193Z",
     "shell.execute_reply": "2025-06-06T15:37:37.720954Z"
    },
    "tags": []
   },
   "outputs": [],
   "source": [
    "experiment = sim.load_experiment(yaml)\n",
    "run = experiment.run_once(seed=1)"
   ]
  },
  {
   "cell_type": "markdown",
   "id": "992f69e7",
   "metadata": {},
   "source": [
    "YAML is also useful to display a readable representation. Let's try to look at world at the end of the experiment:\n",
    "\n"
   ]
  },
  {
   "cell_type": "code",
   "execution_count": 58,
   "id": "f410936a",
   "metadata": {
    "execution": {
     "iopub.execute_input": "2025-06-06T15:37:37.722221Z",
     "iopub.status.busy": "2025-06-06T15:37:37.722151Z",
     "iopub.status.idle": "2025-06-06T15:37:37.726379Z",
     "shell.execute_reply": "2025-06-06T15:37:37.726189Z"
    },
    "tags": []
   },
   "outputs": [
    {
     "name": "stdout",
     "output_type": "stream",
     "text": [
      "obstacles:\n",
      "  - position:\n",
      "      - 5\n",
      "      - 0.100000001\n",
      "    radius: 1\n",
      "    uid: 1\n",
      "walls:\n",
      "  []\n",
      "agents:\n",
      "  - behavior:\n",
      "      type: ORCA\n",
      "      effective_center: false\n",
      "      max_neighbors: 1000\n",
      "      static_time_horizon: 10\n",
      "      time_horizon: 10\n",
      "      treat_obstacles_as_agents: true\n",
      "      optimal_speed: 1\n",
      "      optimal_angular_speed: 1\n",
      "      rotation_tau: 0.5\n",
      "      safety_margin: 0\n",
      "      horizon: 5\n",
      "      path_look_ahead: 1\n",
      "      path_tau: 0.5\n",
      "      radius: 1\n",
      "      heading: velocity\n",
      "      kinematics:\n",
      "        type: 2WDiff\n",
      "        max_backward_speed: 0\n",
      "        max_forward_speed: .inf\n",
      "        wheel_axis: 2\n",
      "        max_speed: 1\n",
      "        max_angular_speed: .inf\n",
      "      social_margin:\n",
      "        modulation:\n",
      "          type: constant\n",
      "        default: 0\n",
      "    kinematics:\n",
      "      type: 2WDiff\n",
      "      max_backward_speed: 0\n",
      "      max_forward_speed: .inf\n",
      "      wheel_axis: 2\n",
      "      max_speed: 1\n",
      "      max_angular_speed: .inf\n",
      "    task:\n",
      "      type: Waypoints\n",
      "      angular_tolerance: .inf\n",
      "      angular_tolerances:\n",
      "        []\n",
      "      loop: true\n",
      "      orientations:\n",
      "        []\n",
      "      random: false\n",
      "      tolerance: 0.100000001\n",
      "      tolerances:\n",
      "        []\n",
      "      wait_time: 0\n",
      "      wait_times:\n",
      "        []\n",
      "      waypoints:\n",
      "        -\n",
      "          - 10\n",
      "          - 0\n",
      "        -\n",
      "          - 0\n",
      "          - 0\n",
      "    state_estimation:\n",
      "      type: Bounded\n",
      "      range: 5\n",
      "      update_static_obstacles: false\n",
      "    position:\n",
      "      - 0.0595567599\n",
      "      - 0.0292687751\n",
      "    orientation: 4.697999\n",
      "    velocity:\n",
      "      - 0\n",
      "      - 0\n",
      "    angular_speed: 1\n",
      "    radius: 1\n",
      "    control_period: 0.100000001\n",
      "    speed_tolerance: 0.00999999978\n",
      "    angular_speed_tolerance: 0.00999999978\n",
      "    type: thymio\n",
      "    color: \"\"\n",
      "    id: 0\n",
      "    uid: 0\n"
     ]
    }
   ],
   "source": [
    "print(sim.dump(run.world))"
   ]
  },
  {
   "cell_type": "markdown",
   "id": "9ae27257-1e74-46ad-8165-93d1449ad09e",
   "metadata": {},
   "source": [
    "## Real-time simulation\n",
    "\n",
    "This last part is possibly the most rewarding of the tour. \n",
    "\n",
    "Let's try to visualize a simulation while it runs directly in the notebook. For this, you need to install the Python websockets package\n",
    "```\n",
    "pip install websockets\n",
    "```\n",
    "and be able to listen to port 8000. If you are running it in binder, it won't work as the port won't be exposed. \n",
    "Therefore, as an alternative, which works even if you are visualizing this notebook without running it, we can make a video. For this, you need to install cairosvg (to render SVGs) and moviepy (to generate the videos)\n",
    "\n",
    "```\n",
    "pip install cairosvg moviepy\n",
    "```\n",
    "\n",
    "Let's now display a video of the simulation we just run (speeded up 5x)."
   ]
  },
  {
   "cell_type": "code",
   "execution_count": 59,
   "id": "54e8f891-9125-49d5-8bdd-5b3517a91d14",
   "metadata": {
    "execution": {
     "iopub.execute_input": "2025-06-06T15:37:37.727315Z",
     "iopub.status.busy": "2025-06-06T15:37:37.727244Z",
     "iopub.status.idle": "2025-06-06T15:37:39.434743Z",
     "shell.execute_reply": "2025-06-06T15:37:39.434399Z"
    }
   },
   "outputs": [
    {
     "data": {
      "text/html": [
       "<div align=middle><video width='640'src='data:video/mp4;base64,AAAAIGZ0eXBpc29tAAACAGlzb21pc28yYXZjMW1wNDEAAAAIZnJlZQABNtttZGF0AAACVQYF//9R3EXpvebZSLeWLNgg2SPu73gyNjQgLSBjb3JlIDE2NCByMzE5MCA3ZWQ3NTNiIC0gSC4yNjQvTVBFRy00IEFWQyBjb2RlYyAtIENvcHlsZWZ0IDIwMDMtMjAyNCAtIGh0dHA6Ly93d3cudmlkZW9sYW4ub3JnL3gyNjQuaHRtbCAtIG9wdGlvbnM6IGNhYmFjPTAgcmVmPTEgZGVibG9jaz0wOjA6MCBhbmFseXNlPTA6MCBtZT1kaWEgc3VibWU9MCBwc3k9MSBwc3lfcmQ9MS4wMDowLjAwIG1peGVkX3JlZj0wIG1lX3JhbmdlPTE2IGNocm9tYV9tZT0xIHRyZWxsaXM9MCA4eDhkY3Q9MCBjcW09MCBkZWFkem9uZT0yMSwxMSBmYXN0X3Bza2lwPTEgY2hyb21hX3FwX29mZnNldD0wIHRocmVhZHM9MTAgbG9va2FoZWFkX3RocmVhZHM9MSBzbGljZWRfdGhyZWFkcz0wIG5yPTAgZGVjaW1hdGU9MSBpbnRlcmxhY2VkPTAgYmx1cmF5X2NvbXBhdD0wIGNvbnN0cmFpbmVkX2ludHJhPTAgYmZyYW1lcz0wIHdlaWdodHA9MCBrZXlpbnQ9MjUwIGtleWludF9taW49MjUgc2NlbmVjdXQ9MCBpbnRyYV9yZWZyZXNoPTAgcmM9Y3JmIG1idHJlZT0wIGNyZj0yMy4wIHFjb21wPTAuNjAgcXBtaW49MCBxcG1heD02OSBxcHN0ZXA9NCBpcF9yYXRpbz0xLjQwIGFxPTAAgAAACNpliIQ6EYoAAjvePk5OTk5OTk5OTk5OTk5OTk5OTk5OTk5OTk5OTk5OTk5OTk5OTk66666666666666666666666666666666666666666666666666666666666666666666666666666666666666666666666666666666666666666666666666666666666666666666666666666666666666666666666666666666666666666666666666666666666666647AAQZCFKcxiEKc5jH//wAQXkrNpARgDnsKFB2l/D8ABGZGQYAyNzEh5bBf/xACj4JfTwbgAGogBC6RsxIABaQCBMNgHAALWgQfHYOwAEBUVkDhL+G2D5my/Z/+EwABBQMHVR8DgXbsAA3p+YG/Iba0gKCtn/AUmu9di6666666666666666666647ASPW/P/8GJSwfmKnH4AQiT0ZMzdr/w4Tmlg+G1PmT7MaD8HYaZb/yXLVS92m1dddddddddcdgAIEFNPFNkEECDYM7nwiaf4ALm1CygqTCvzuAC38QSFH1jgAA+M4pQwfThHzYkkE2QTlKLJUImYbGMAMJ4ACCQgJgdUsgogJRhvyLIAILyVvSAWK4LsRcgUktWZsxJMCHC1PziIEAB5dKIgthEKQnwZECAA8sPAgAPLBKLii6OyL49QB02mmmmk1//hQRHkHUQ0Hv/4/AEAZBsF6KBJa1q9vFzSegREhiu2eC7K9+DoANlgChsRd4HHC6WwFQOX7iAAEDh8sOAAgcPl3Mg2qhPc8A/4FJ0NqwfiCXgN+oxdw2kE+eCJk2KkBcKP/A5wAQ+u+7//8BiWoxdSdnD9ddddddddddddddddddcJYAgAAQDgAcEGTh0QYx7ylXAJTFl+46Z5wA5/4k3NHC77qE+kFgCn/vUXAdkLSwmt7IH5wRlHm7QNVElSyipdVRRUsoqWDgw4tOPAYObT+JABkDiYbCAAEHHy/qOUAHN8AAWplACQmRjOQ5vZ7AEPruZFmkSMSY3BTkHAJf4MDcK25FAv4sA0B/gKAAEbJQKExFwf/HqABFBmmRkaIy8Jf9DafsYp+/45wAQh6yMyyM//BPhtNkJmHv1111111x2ABEfqv6//+AFvEjHUYwJYACExQDJEMWJJKC0zYMynA5jLN+UAxBl3/gAWaNZbh3kBg/8QACDAm4H4Iw/JVQMhgKH/iAAQYE3LxlSkh4gAEGBNz+jtdddrHf2AgFIFNWdLlxaZsGZTszF8g6BV1Edv3kwEEmBQfA3koJxSHH/+e/kAEMKuU8FILCNYBq9+DgEMKuB44nMdh+e/9PXXXXXXXXXXXXXXXXXXHOX/svnhPCnvrjsAz7IqAxT1eYwA1o0xGLoAtZ+RgkAbhGDgYfT111111x2AAszLjIAAgF3MGO/bAg1QNedE8OwAjVfDgAEUAEuQOwcoBGqHOGDH9H+j9H9dddcdgAqiPjMABgG3MFE4XSRMgBcgYXsNz3nQAEDxALd2iZImRACDg+5gUAAQPMgvPenrrrrrrrrrrrrrrrrrrjnKxzQ+aEaufT11wlgA0vRm2RHq9eN3Pyo90JHNnzD/q6666664/AARGQSoqFIUilIX4TAAEAPmh150H+NGKqxn/xzgCDFYP53vHyBB/j5Ah8Mvp2h3+CMS23MGW0FD/3gg3aW7DuJDh/7/XXXXCWAAgQZo6u0/GPhX+RTcScAQYamM4vPCEyBOoTPeQAAQAQOucHMHYaGQUDV78jBpaxuOS8T/54gAAgAgdcyAACACB1z9XXXXXXXXXXXXXXXXXXXHYACWAAIEIUBmMhPAuK6ySoiJ8zQ4AFNjO5hUoKowHGpoR1F70+mAgJtaEB4O47QQpEQIZOqd8PcAfYnFIHxeWokOSFLwOG0gk7A4BEIljWu1H1XyOga3l8ba7ToAGmeXwLAAKUImNgdgAKAACA0BAFT2FOjc3+LNhCs4AWaGMx1X3jgpe4C26ZbLIz+GGWwx7iyxwAnxfN2FEhu84oAZfyQBlnAOj8AAl2ZkKO5D7+Ejm3yAs49AhZ+PgdHOACcf9gQlzZBBqslHKI/G0+WqEjqhPrrrrrrrrhHA0AAQAsAMwDT4pXG4mF6g7/z4CwACzYtv0MFNFD/wkBYBW8g8UJr8s+AsCQFgDteIsYfFwBYCwJAWDwGJAWCwGBuQ61lcG0Sh92+EmxPEOhX/++AsWZNZMwARQdX5w5wAE2mm00mml//BEm2L4FQeV+d/rrjsABDBCBj7RlH5dgPfHpyJv4AF6V7HyAmFmvuAB+LPb7ARA1fvAAyFjesE575hJWY64L5ZfVxsNaodJL8BjnAAQBhSTSSSSTQAOAtrjqLG4AFzGtQaeQaCdvxRudeZvMfc6upRufgZJuC5JufrrrrrrrrrrrrrrrrrrrtbXa+1vrrrrrrrrtY9QBQASAYwcE/oOoHBGduDsBlaycyZk4A2h8gC0lv8D8HYzC+OxSJ94TzJ4lVE+DgA0sYKBOu1//j8ABGZkYYAyczEBxfBfEATuoJ3TwqAAdygMIlPMqAAXlBA6E8EgAF7AQMjs///CeABYRgowR8kxkRsWyNtbAajkIqo2CAEbs0XeeQAmRh/CIatPgxAHNCgClrV837i/tUFKs////R6gCDFa1rQArve96CRpaaAeciCEZOjep9+37gVtvAo6IMGRgyQAEHCpYcAIOFS2GWGf8nrrrrrrrrrrrrrrrrrrrrrrrrrrrrrrrrrrpa6666666666666666666666666666666666666666666666666666666666666666666666666666666666666666666666666666666666666666666666666666666666666666666666666666666666666666666666666666666666666666666666666666666666666666666666666666666666666666666666666666668AAABLUGaIFoB8cX3fdQtCM3Ly5iYvgC95iLPcPtHLcQEzd1NCeGmW/9hUtVL44JOKjyYAOgAwzW0VjTlyZBsCsF6YlpB6fnMeZR8IQ8Cr06NNJ94R3XsiI/9bLKlv4QLvLfExMQEVTiBwKcokx3JWvC1HAGGjiw7CwEcZS2MDAfOG7q7/a/xMRjHuMqlmASYPE4Ivne+8eERiBFExVu3Br0xd0zJy+LiOTeoa4qLumZV6ACyUKmM9hjoka9fxV6SsAAQEmJeLEk6gFUVOujf//4zxwR15lMdneCIOqA86DFzTOXNHUtAbLOdsRCHANbH5mon5wD5e2mc41qat5gABEBQ11MACDSMU8pMcg/3fdt+bb3Bgxxr4vpGWB1Jy0qUjfnjxfLxTgm4it73+Tu4BHoAAAIQQZpAagHxzeOywtBCI4Zi+APBiS+gADTi3mUKMky4QH1ByrJHBdycG2E//6qX+L5oYgn6AQRD/ER4ABNqhq7TS5NSaP4QygJzhxe7nrGQFQrEgwNhlTI4v4mEIA0AsPN9NlFmwGDBeORCsz5188FoenEJpg8DFdmRGX+P4bFaCNiHhlKM0a/P/BDGQFoSuEM0h+B1ACVQDAqZCvOA/AkEY4JDEKJEQSsY3D5CSWB6kwEfoUS87xwAcgKfhr8DoOeKAegn/P/SlWzwNRWr/z/4REiOA71LcHFylgGffUn3+ERD4AAByL4e8YniasNAR+irtl4mwNRgbfB0MZMgpCAFkkO0xjIsyZzvvEGlYlUxITex2Oh0Ox2Oh0OXmmCANjhSEQQCrc6mViDLTGTExPE3bQDbYDbQmy81OnCkQIFcAIi+U3Xx2AKjH0PGXUCy1PDTEP4RKYPLFC/NN2maaeMwlfM/r9gA395wDg3JU4ANvDnyWGY3Tbe/A9xVCUxv4D4DAn8wqtXjDKsPXCDaTcJBV+4D4DFbulBx+gPQFYN9PfmIhDhyAAeoOyzC/ANZsJSt+6iOf93wAAToRb8MsAFAMsSG/puwy57ZMf/98mRshUL02EAybQoe5MIiHTHAexsHRigTxXTejmCAJeKp06dOF+IwXeW4nF7mf8XyThg5h3wQ8oAAU3fEdpqMi9YmYAR2AAACEUGaYHoB78vk4XP8MxfM0ODrcAuPysEFzWBwQwACenUBA2Tl8M5fHxk9x8a6fJy8JWD+JhSEQiTN41Tx8w3oBsIsvDhLdZPHm77wJOm2pnUTVGHdBg40OQ5DOQfDkyMjN+AgYeTEYovLfgoAAK7AOCYP15/4ZEjIK2hnKoOFxdP34UAPY/FeP8L8X5yewEER8XXDvcQf/O8E90wABATAPdijD/vhCAAdBWQY/AdAXuLsT/P8ITwrldD/3VwzabYWMCQQcR/eHgpCLjxU5bD4RCInhtB0PlU3E9+MoMvegHH7IUwwKzMcQsx+ka+V4kVPDhzuMH/KY7koFHz/CmBRFRqn8dTGTBAEaUpmsBI+OZqBta+mJ7vCfixOXgp8PoXSPhn+eBj80ZqD8iUKYgVBxOJMVieuE4AVQNqwRutMf28wfgc/ovFCPf+DDWUeowgIGQDI9TWxvzhNUQZ0K74PfbPMNYWstYuifyEQAHA7LMfgPwDQKRBDqIPJGkb/ANwA+wi488CcAV8hQJgtdvYYieDkgADloGZYl64BrG3ayiSxrX/zw0KAIa9S988HCAArw5dCF+WrmlvUdqE8ACHr/q+//4AtqIbttwyJxH7W2+RJwZ43go8cGdhGDAUcNB2+CGrAQ8EvfUEyFsSTH/fiRENFynZU0eaM+4wZeL7ojAhf9WfEeEjgzBhqffAF+rEAjkAAAAI3QZqAegCHwczcA2XmWDb2fBTLwEG15T33vciCQ/wjCmOg4DBc0fzQICFkXdqxywB/ho5HIvXtGNqb1lV2Dm//IMhRT/gI99qAACKTwGDB777a9/XBSERnkFglZkb5J4ABrIC/YDtcABNmXhh3o77wN+BgpUcntCUkv3wFagqFkjhe2P9f4GgFBjAPejXxMWiKt8CAdBXJyEBt8FO+/wOWcKQpcSvegRqAXXYDhU277wbk5vQjSWNvsGIRHYpOKZ4HYD1Ep7aYITeDWK6jAwVMRH5xrA6M+2sk8g8wrZYW+Dp5n41K7j78FIIQh1XtNqwTITQG6JWg6oIgn//+BILiz2GImBW7SWfmE1iHNpN49ZmmcR1EBEVCI5NO2HBI8n5By2kwEWBRFYnh2ESyGvInjhpaON/lcIBkVgWIry6yPKzTJAdrwDefgixAqCrySwCT/fb1GFkaf1vIACp2Naz24YXy5lkzlON7w8TGQQJ3GyawHgYnPb4Jgghsinyyrq7XvZj/cvc7lK9QgMkEPF4VXa+HUZRVvSv/AVUgAGa0DqSKPXN2AIHIiJPBg7kuQNAFxxhm3ckhBjpDFzAhCJcOEqFT95/h0AYLmSrS/ANgvQYH1j841oTe+YKBAngbyADCumcUxZd/anPADlAGPdoYGngVUHVSCEyy+4IkAvV55PymhhLy47w48DiUZHOu6Xw31mCSDCInMhJI4vl16BOILEz1fhASI8YjQN85vxBP5eLkNvDnwCVQAAACmEGaoCKAe3NzAAEaInl6aDGaqDAT///CPG2DkSXhbO5nABF8V4bg/g4C1wFAHDUGIZFYDpo/JbudgwQ81FEAo+VQznuCxIkZB7ajMgl68BJzkcAJHQgcXoM98BswVP3hmOQ7/oMHgQGztJCJ7Jq4MgLCR3Rf59pdJAhmL45lMPyloYApMA4ms0ivsFv8D8H2hWOpMv9wBH015NN/xhWGLkkGNCfO/YOQyM/AFQ7ThVH6WG9Kv//oHLJPIweP6wUYyWwVhaHCzZB/Rg3UqYsIR64BLgpO9Qis7oEGDvpUnB9obMG59HchVnHDgIhAfKaNXRjvDxrweCEEIuJXVzzePEHDfK5gYpqtOI5vEQgCblp0yAsKH/BwOwDpQ0PIkbhyTQVJR7w5f1gJHrj2ejCi/4l957//ghEz8mHZ/74jLwV09OnT51Es0KYFE2Ns5pypxhAED0WKvPM//zJiXQ4wn43iadM6JPjc0FIRECtiYFdhOAoP4TlvtTluYEGk0nGKuy/oeGBIyABZj9ZTDZ+B7GSX/fB0MwF86YHZIvf+uUQTRhkKIxhCvwJxd9t4YhcHELn7gDIBSQBVqSwG22c/5wY80YUC6QhRUmgLepbLho6IPgbbj5Eb3aH1AYA+q0MbNiv4J/5QBU4HCzDaASoL9/mDAQJ5K2JRn2+ZWdd9vA9JICp9sBCnn/hgT4QLVw05E3gn0sSEcNIvvRwDHlkRJrBh4nhPYOMB2OOnBkfAq8vRQyeGoiIgAUlgig2xYzqbHb2zGKtpL9WL+iiqGGx4y3M8ms05g7fBwUvMMBkZyZRymfwTPDQlOPYMM6l4DnfaNZYuN/wwEXNFO90LFclhwwi6TBLyc8CDHwRZ1Q6DNkT7jZRPAADwCOQAAAG1QZrAegCHn8J//4EJa55/BLBD4ZEjIBuNkPdgGaFHHSQOsy+x8AevcJFnjQ8cGROBAjnDFu6+ACI1/EIJ2I0TdBqUp1w2X3YP+LrgJ9RWN+iEu/ocSD0lRw4+1ea98BT8xxU+MMiRn4AZzl2Ijr/9Aq+a5D5D9/uwYe1tDyP9rw/HQ6dq4D8wOyfRhVag1uNE12gBJkAfqihLSWJKKt+5GNcQiOL6EfzBACEXKAqnZSuNuQJIZBRifhkSI+EWvW7237hABmkGCTeiN8H/BD4IQiJgIW3gbaf/x8p1wiAQn+EAUvGhEaETvVJjghghEivCLkxQMEPiBIyCDXYAIJoMWGWmTBsFvgHgQ8Sq3ivX+dKdygm0MEQ4RhRZAvfd/kXfomS5EgA1CkA81PcIRO1n1C7cLYnjXe6cGGPy2v94H4OPl2Lle/9xUHsSuN8cSEOC401aDjW9+ugBawla1qQQ/yo4QgwNWcuDMpo7/9XggBAB5+0gQlCUhFz1iTZFFr3xk24I8SIgEsZ1g4f3UBLCsiFW8CQoT+3/wCCO4hnZFaJbfd//Bhv4T4abllBAEBVpgeKcAlUAAAGLQZrgegCIH4JT/AghkVtICAg/C2h5ZrU49B27xV2V/Fg5DIzgR9gAY5tRSl8UjoOzIlhp/HN/jBgLwqD5ZnrDv9xjsnJfgB/pM4+gvlnLg/AghkXALmAKAtZQtpf+5rbr8dAYCogsaZHpMYwT75eIhkKgMCM/xPiIj42Wlp+fD9VxHZOH249X+JuANGWWcGIs6/wNhyJSMU5Q+1N+BBBCIgTPs0Yqk4Ev+F32CKBBDIrx0RDv51GQJuAER+r5z60P5BAYBxfkmBCf+M8BM3M/GwMpMfgAtcNpTPi3/NHipkcokICAEDxLFrC3WCFb7/9vZtv4yMnM0GJTSieo0A6NM2ZJt8xEIcHavIxdb59dPLax+C3aejGn84PxAskWb8dAfhA42FiJeAHCZTxg7HRDFm/PUCCGS+ETgyaCPiIAqRJiYgDgLHqzyfxm/6exebGxwAfpjJ7BOS5r/sTCEQMAAUArRAG+ecO1SKQoRIP3+Brs9XAjVyafzrT94VbXy+Fc5a/cOwcA6Q4BKIAAAAHCQZsAIoAmx/gQQyLqH4WsAs8YGTox/ngDcPnEKkhWBYQuxKDcOX+4PvAoghF6aoMtKixQLkUZgNQlg49SHu5n9+cAWGbF9isdmBJAghk0qRsA7Vka8CAGBHD9rfP4e++zP8OGoLWs4Gsd/4EEMiIMNr1pu4MCcFzFdJIoLhvYHooBPtoiTI+ed8oHcdOIQ688CDjZHrDirr743/QD+rAkghEc4LFwx/tDAU8CCCETwhOvfn3GCfghP8CCES5AAAlQ8/n8/wIIKRObJ14fpqDi6TAQwIIZNgRsmt8TM1bD7qcSEIDdZGYquswDpm4gs5VZl0Y5oKypuOfP37ZIE+INLVkCH/3wYWKAiD5ryk/nAVS2TjRkT/eBA5SpXvUwJ5H2Il/aA3o5usaSybfk/hP//8CPfq2BBCJY6IjruawQhT/otz//iPgjiOfVwtWrgp5WI7MizP4Z/6B+NbTV2BhmfZBdh8cBz1jLeM+O9bvQAfbtfHL1vcjGqGJnO5COAsTAANIwHHKStx0r4PWBAMVdqGUzTIixf+/TNLyIMiYR5anv98s1f8EngO18lWJEk9oDgp4MEvJAO38+jA7fh9h+AQOAAAABs0GbICKAJvBCERXBs/YAEjxKNtEbdigABAbPJwAIKkM9+gCrxMsp9AeJi42IehzAeR3H0IAwlCZYGwB52RUsz83//cGc8aNEXgSQQiTbcOxe/xFtgyBAOBrF8u/TdlfuAgBanKORHqKG//3v/ByGR+Q0Ld9JDBBoOdhin3LrXATCBkABW0AAgHcz3BKJY2esPBCJEQA2tOIRuN3fVRhagPWAIGregS2ODwfSD0zYIRL66VgixOJ8/n+CETBCf8QEMMocfHYaAYASjhJFgrHy8AHgAEQn9m2JaT/qApkzC8FU1SvcGDSGQ8FYUthu1hgQX8oPHEZnApbTWg4x+6p/P8EIRJxjPBCf4ZEiIdE/x0Q/Mv17Zi79+BrhN1sY4J5NgwdmF+YpyFHwKh+u5gqWEjT//nYZEjPAhma7u7Bo4A3DacLHx+l2hUy2LovAj34AXBsgU0f/84CuE4PSvzG/YMJDWNsjnfx79YVESnoqEi6M9vjGAAIAkoDPgJX/mPPM2N+rue+S25ggEC/zXDoz4RfDBCEQj4St14SsD0IdjqeBLTqML+IgkgQQySYfrezfiMAgUAAAAXRBm0B6AJvBiDE2AUWiYexE1gEwchkX+AKDYFXlsIVeJWeIx+M6yZ0YjvuI7RozErdWAkP+CEkIv10aNFpPEx/BAkq8BRsYy481BhAedyjf9tRsYp8Mk1MCE978DwlkAQ+XWmO+9/g5DIyVBmeMhHGEejQfs5v/4AFyqkMdUKEp6uk+gWIqzwJABJFPhqjY18nHC/98pTZ1GYfe2R2UdLy5eW98GHwchkIco3ukTMNz1UtgYIj/hl4biWMDJByESwXdMyr0wQwYgxN4ADYgZysEMQSN6wwniQwXR2pBeyv8xzyRlg8T9xdaZ8EMTJRQEBej/EOOnQd+e5U7neMhmeukTK0zsDeECtEb+YbGOGgGvpf/QMCATMzv9Xwcu1tIN7/3DRJpt+e1Fmjfngmzno68AU51ehVH702nmxsW8ijH0RT1yiZg1yjtcoZsKEmgr3d/UXBDOrEhKbE+EXBngEDoA4seBJ/iOcxDSEoCXTTbC+9gECgAAAG6QZtgIoAm5/g5DIvwB6o9D+s1RR4JT/AghkKdmi84AyLuWJ18VA8IZZDwCEBkqfDXkvNz4MdER8Al0xecjui2gO96QVKFmn//OD9OsHIZGRKFFIcBugBNXTCr7ltvaw58zqeY3H6QNcZtS0yH2wxJTcT/+AQD6IAZwishCCOp3h5DExa2JQdQhXHEX5eABhCHX0jzdMltSPBvAghkIcI/pppC/EkKNGaMM71czpMba/BtzRgNAsJChmrByGYIoEEMkwi4UnifiHqJEvCHh8I4IT/xOaMJePOMDDSTEU/cSIJySghCf/ghanK//jK0ESAPYJO75YQwrl5xrMZ5qBBUobbNz4JCHybb2svAVOIMoucssw9/7gb+EAuIrifWo3OJUT/+h4gFuqO3OEULf//cEqIOGKYrrteE6DJRHlqeu14U6SgBy3Y4qewPNTKGfY7aevTzw/JAG4pANdSMo0vuA1k0a0GY4Rr9vAoC2BCx7UlC77mmAMGHRki/DtOCjd/73szbDKpRfWv0qn/CPhF42YLDBHByGSQBpKY32hTi+kGAg/hPnGJAQGALanMzL/iOWQ8cQ7BCfwCAwAAAAcRBm4AigCcQUhE3AYpPrBNBCJCNkwAxlMy2n+v2wFeA5JHBCunEm0J+CwirEB+BM0ENYW5HcLQI/9h4KQiMgSasFFtYrXR5AmK6Dvuyae5g/+APGPM56QGCYsxTPMadHq8AuSxIbjKD8PH+PEfY5ubp+YIQiEOARtI1sSsqh6BUYmS0RUtDZFWAzzkcQaOk+YsEjh1kCKKrpNmjE9pRiBSF+EGjKQsMBZ256QI4IfiHDsSHuS8TJ8quXOP4i/mNeorfqcclhRAYfBCER+NmXUlx5t4GSkwEXz+fz/BDJimTLOCE/xAkZgCjG8iXvgBFs0g+QwaAVgEQ4OShRCFkBK5L/9cgQi5iUr5l9hQAAgFzgA5NtmgMHmgMLy0+CIJSqvFURRRjP+iLTXl+Bh3ojHlrzxluZ028F8cbyFU9ISNHlM2QmXMPBb/JGTw//gHea+Fe99oBs9afgIRB7iU9pBizdeDAVGAYhkLWofeXBpr9CeABB9d93/4FJpr1pn022GpT8pzn/P8MhkuOGADGtAZ7PBHDIkkAKAChbYXHPrwBsHa4V5hi6UYFcm/D8EkshYLTriQloIOwwWAX80hclGhOvwCAwAAAAbVBm6AigCcH4JoEEI8CCGRk6yIbEBAK1+Wvc3mUGdwEo1yVpT//8AsH4jHjCpM/3uoYeJgCGrEvj0CWE/J9YTjqb+B+HkAX5w1Gmc4NpBmFI9a/zByGQV8Aj6a8mmw7cvVMPOd0UA2qxTPUD5GyjFXLzwJMyuj5gg+Mzxn+4B4t7hGlupB5pKgRn/E8MCCfF/tfhkSIgB4AP8uY+KMuBP/JBIA6Gm9OEr/3f9cOUGR72PjVJWM69v+geDkM8CCCETwndL44mMEIT///CPG2GRLw4ibCiA8/n8/wIIl8DKSZQUwEMCCGRXdy+FCFnD+FOACzazXu1Ypv/5gXLAHNSBbIfX7YEBc+9adTB8IwYO6AWDaiBLL/0wfAjokg7M5aGwL9Z8QB0NN2IZ//7vd6ca0PIqSAYwiSO0o5784P0qxEtBRG/q8ABAisHuYSMsq7LRY3P+ETYdkxWGOEYIuIhgU/dOXP98bnFGIBr6QPaSdmJv87/xMfBTJA5REsSm+00IpUaktoKV8BSg0TGHPQXfSx28d7/bAUNKkqT//9e/xkFvAb0xin+COE3WwPTj/Ass59JUAQGAAAAW5Bm8AigCvH+DkEIrgBxmlo1+Bfa0s02eBsB4dWmeM6+s6/eQJSG9pTAQXJs4W7sHIZCHiPQEJevCSf2BBkZQsD0PGxOVzgLNrTiQ/dgSQQl5mdR4fabwRhPAAiP1X9f//AHc2iz3jsElJ2Ik/Jv3M+HpMf8IiREkBudgPNQYRuOQ+EeZvXCwf0CoEgBNEO3JH7HsICBEEbTQEBdjAp1zoHoAEjhyd1iyhUol/74M1Pg5DIT5mI+Y4OCE/4k0aBVxnyY4jz+f4OQQio6mNbTW044IT/iAhtwnxPA8MH3EQA+yGJsPUZYAD0IiktUUmVCH//2C9ctE4s6lFSlCygPCIkXFSX4nT07/AQDzYG2MsR9OM0aQ4y17pP5/g5BCSHUicwRclqbtHxDyYD83/4Ksr8i8Qvs3BhIbKzz1PBCOscWIYU7QZGYoZbQSOOnUW4qa0T8AJbstpgWCP9OsR8STxoD3iX00uDgkiZMflcBtwAAAEnQZvgIoAr8EIkngCGV7T8wQhEFEABAcE2mJe+lRRHCU4u5aIgIRkYrS4kLf/fBtIO6VYIQjBGf+EoS4Nqf6p+IgX+9mx8pX/ZRoftDHgBed85Lr42engeJwAL5lYdY1OOr8wfcAB8Ddo94f98AB7k7Wk/jhhlc/pV7YZTv3h4IQibw9TARQQiaP5/ghDIr5IRqk0UTwCLgo8CB7WI0AB0PwFHOYnOhFVcx4Cw1qGxRdUpL4NL4kXbzeB7x/wB735u2Zr4Et4iCLEkgomgaFGtakuBpl6Pe6r/8f/hm9xw2hVPloAgFwxVbtX/EwAiR7J2YqQvaDsQdmMBhNYqkje+/gznHev/SvXGFGf/gw/m50QIXRhZhAMjvGYUfr+ErAiz/gk/EYDagAAAAbdBmgAigCvn+BBDIKMJmY9HPVgFI+cshv724IwKQ5UUgXhB7/3FT5eBri59MKvt4JIEEM/BLgAhlbr0n3/f4uaRoYtXD1g8J1gbBY+iTX//3AimwDcJ8GQafvwdn4EEMjIy+6/f4PX4ATgmCGhH/pZptNaf9gwWHYzGDqSSM//nAFlMxLEKxWb+B1DzMDzPUx4yAyFRFynopJ9G9/AcBSqE3LeZgl//93+DmJjwRrltXatNcTejF4AzsjFPCFF5Nr+/v36YOQzwchkvGn2Id6TAhP+Iz9xIRLhmcxB/pMBCE8ACI/Vf1//8BRaEHuJCGGUuCnh1Eh9AwAKaMT5rUKYLN0A7GxBe95n/84FZsS4qOzXxIkQ9q9AQIYEEMkyRp8RHwCAwDokM92MBl4vcCQFJjFyB8KLI81h3RY8Yqwb/ngesVvSc8K/egnvjRkQBhv9kF2PiAChSDFP/GQ8is5IUzzjIJMmdeeHFZNpjnwFgB67GAuCr0QyVgwBxHa9B5jtgwKfdzlz4AUYsqUa6k73kLsIAtF4FLPMQKj//e/3sxryl7ncrqGon9wSfFL4JIm5THGxAgG1AAAABW0GaICKALBByGTeBL9D994EEMl4pkbSdeeCQ/8JWAwebH2Z3b3ygaxb5ThquQlx5TegHiYzwbAgyFWDFc6giIkc/x/Z2/23MxK5FIcrgcHchqszLzJqSRsQgJ7ct5txiXtkALe1s0HYOQyCvwFqYAAgAcKOIge5YBPp0Q4MsppP+vBcApXQKKrht3XAFgXOaFSX4PhnXYpGI1Vynt8q7PUI/Zo0g/SrBiES+rNQEUCCJN4diwPCFxIg3hlTAQn+ICJMXwkOTDJNSmOCE/8frHpQA51tH4gQRIu0Y4H4++B4A1AITkLWdoGBAHbIxHJ2Cqc1VgAJEIFSqyhei3//cH/jJo/H3oIHgPIf/BBSMCSJAm6ggCwC0CJ8z6/IeZLgAe2LGOH26EIKpoYiWAA5uOl869mNlJ4v8HKq+Y1eT1yQ0gpG+MEcTJ8qt3pdz+Jk6MyLwloIaHjkhwGzAAAABGEGaQCKALAf4IQiXhI7gwSwQifEjr5gAIFFgq41k2cxTxoANkmMwLEBDp7fm+/o7oP85ECy9HMVVFuTDv8/8EIRCHDcL5rz5gBYT1mF5Nss+8FQICdM74tGxA395+CEIwRH74jAA/LJHR4SmfvP+pERITZDIQjBh/JggeRtLBCCGCGCETLhBwO8mPghxIqCtkwAD6IxriEzi+pXha2CsYRgEI+oLPIQIJv/3jwbRg4Q7anYq8/4Q0sYWoQxiyb5wg3qjPpdJckPljUAACUJyPpn7wpDf3ZIgANAO20yOKH/PKEAyEcPCSwgDXwlGZaTacEf+4ADo2FgsZMNWU05+CqIpCyJgwYPESwGNwxQ31L8TcaGX2ggDAbEAAAFsQZpgIoAsJ+CU/wchkZjwwYPeiOcAWaDeWqsRrTzH/YBWGpVt8jQZDuBI8HSNdiIOh/WfYiswAQHucWKcDsxfhB+s1MHIZCHPs+icfLS8A/fTiT+dCY0bjL+LByGS/gBYADMKQyuWT17wRwIIR4kR8RYCAWbc83AqrIz6EgZyQoo/kMePBEWeSxn733EiMe38B/+HAojVwwYWhhqn4OQyLwbdPz+CE/8JSw8PLYoUmJ1z+f4OQQkgu6Zr0zghCf//ghanK+IEhSCR5Pj1hgAJEU/1IZliuKRuWj8z5EPFFoTr6T8wAYeIcY3vobv9UIz+H0rx2jvxcElIBhIAj6p3l//L9tboOeN7ar+nB/IxtWK+T+f4OQQgj4IWh0TTwRcnBIDMD0P8EsInUZvnNR14a8c6ZrcukNBI+a/aQUT915+Zsx1XVasPpnOPq74NOvFyhAEZHR/Qgi4nTECQlg2xkAeyMEJ6QcQpkA8BsQAAAWlBmoAigDDwIIR4OQyCvlBAIAZVZo0S7QAFiAembB2PNiCwp90SpKkIkb+BegOqDm5ijHZ8HBfacS/3By1McQPv4+dtTOlWBJBCX9MJiBE9eHZpAjP8SIHePKZjOqER8SJEQCR7TstrhN52laD9C2hmr9A8ICBH1DBABQpbLPsp//zgFBmZogKXGkQggN/ABeEOJxCxFnX/9ft7Pbw8HIZFceleQMwl5PAIoEETIFF/Mebf+EjmwIT/EBEIzeCFkPM4JHu1SEC0McADg9iBNhLTZiB3zgKFIEEyhCgaexEXESkKI7Tde0ffiD8yN9JbeK2/SR16Fs9S2ERJelapqDkEJNgIBnGIIuTHf3wH/rf8IiR8QznkaTqexeBEuJovz8W3KWHbMACKrmtGiNQ8ICAnADLvCIOuOMJffoAEo6IX/qETpImfoGXMQJN4QvCvEx2iLJgQBD0XA/BCyA5L/gliRDsIFHPVwFlAAAABukGaoCKAMOE///wB3Nos9ghEhDgi+B5hAo7U8xnx+IB2V2ZNlvP+6gtAZQMd3NPDTwIywABAFI9gDneCDrgWzUAAQgf6ZsSf35wf4ZEi/wBOGtIzBx84d3PI2zs2epFgkghEgkjqD6XiIjAnwyqhXLmRN9faxUjN/NYcvwEvVm3G5vGf+0JqBCWTaMABUfRWOg9owpv+thdQiyTLKPJc1gDAIMnT5WPZcHn7/33mbxlVxdWtODeYrSO7Lff8kRCKFJRnFiyP3Qw+CkI8EIRLP6FBCf4nn8/n+CEMiaOHSmaqmDdmg7BDBCJNuBG11fiIQgINUl64AvgAOYHYQyRHtqvpt0FtZju/k3jH+rrYUgIUOcgsYIFgZW5qceNlotF4OgyZ6leby8KLtkHEXL5/wx8s/4IeT4AQhtXXvv/8R6Cm+IhiMYSh8UkG1J/gA43Lssb3+8NrWRneDeEMr1AAs2MxUhWHKONf994C7AAEAQddQkWuaag4E//wAFqQDEfMXiFqJXBIYjK50oCki2Xf94Yc4wRmVCb///AIWrxtxISycaGTjou84HAGhAlhkSSA0UJ31Gsf9PPwFlAAAAGiQZrAIoAw5/gxBCL8NxYEAkH0W5piisVf4cIBRhLpZEGxGcCxClghCJf2jShlbFa3AJD/DIkRnoYDfYmDRB1h6BkKCJ9EVVk4/dhESM/4OjsTOiuI/+zgGt66aNUAHlBlnHhqewFha9KxSIP//OD/6rXshcnpfEwaHhgHYA1RmShZY33btP7dMHIZGQmzFTmHQxdrwNjCIeR/GFc/9liFVp4VUCrAKyYl88GHx4ND8GIZF2mcCV0xxTh54e8EUGIKZIkSaNJjHyiCE/xMXlSjIgJCaNqeAZABSW9ip3wX8ADhgeTA/DOwgIL7DEt4ZCUGzERoVM+HpfgghP8MiR8h9n5YCGSPkHcEeft7Ao9NMjGigfgcA/1Ej4aRol//9wE4HBFo+YhIia/bwKJy7JmnP4mMgDAKHoViO2+BAAshFUlMKoR//3B+BIqcSH5ExhsGLwKzdzrgDQkwqOzFkZxz/vgccwMgf8LEv784JOAG4JOnCX/fq/+jumtaf/1tU2z0hf30IGpqcO/t4+J6lifvGWZMF+CTk8JuAl7w1IFFCp4CxgAAAVpBmuB6AMQf4OQyXh66SAIc2rExVYBLBiDEmNDQziYUgqU53INS2oc0zA+LOzzJYYV+wDj+hOImeLYBDiNX2Ztb44R3+GBE8+H5Dc9QCXa9JepiW4OQyM7KIBdS5xABTI/dTMLfS63h+APX2yjgCnrIPic1/WA+swAYJOINs+6AvBnQIj9UQip5JZ4eBJBDBEf8M2FF/Alu89//8T+APToNw7DoGLTDwGOgwQwYgxkCf//4EZW89CbgDd+ZEZkR6vcBRfNZ+DQVtYPZaAmPghiQwSNAiAAhhCry+ZEbpJX/mBA0KnmEPWud1zxmFEhBCOYF+C9yEHB4GNzI3GX5ySB+pKekAnvbN/SahWmBvgl//gELeZp7cOeaQwPSd4ngZjjIb6X+ADrGqidGLe7zwGoNSEeXqCcW/VSdBuc5R16vKICJMWq2RoJuPA33gSf5cPJcT4m4aEEJ8BYQAAABw0GbACKAMTDIkvAm7g9PqHVgJYIZs3mdxIyIYnmIc6AYYCaFB2mDrMurPhDvhMn+WwAbgbVBH+4EXRvfACESuPpY/8qTfUcFFQMzkAeoH+AmbXGK58i6GwqsjM5gK8TnMVU/dPnKjbtwyJGQVuWMBs9c/AeGWxPoRf5jCJOHGHx2PD8AxrR+hue/5w1EsowNYoO/vtAE1FjajD2BVZKZJ+0mbRBZXUjLwdFDJxoJaTZQQuSX7xcYNQzgLDCQZuAjiRJONgka5OTCHZlOFkeM34bOfUEIREwG57zfWyh6mXrghCf//4A7m0s9iRDw1DgPZ/ghvAdckyuTAIYIRIr7ggU3emDwL+JEjIAFwDPcMI42X68SfAFYYhrRfGL1JHiwiXuFggMu5AsTRfSSiAg/u++z2e3l3sb9YYTuIP8BhCySPiMXA7JN4m3P5+7Yf/oEAOt9AfB8IcBbU9kb+YIz3Prfbwn1mcVOe+OWTW355PD0sBGCSM3CxECsBloyzRCjrP97/iA9JgKWEvwXNkQ1EifuHkljX0wR9xxSM0b80NilExtGaQJLlf/t/+K8EjKWsAf8oy8g+qjzN7H/viPTMjvAWEAAAAFwQZsgegDEn4JT/ByGQT5AQBmlABey1jIqIc3voFXp2Ta0l4MQyM4AGkFglRR3cRSEuBOI0DxTAK3cmFS3Xh4KhTb9kdDH//OC5ieWHMnuYMysm074DwH351RRX+zg+iwchksHpYCQL0mmCO86nsXgDQTNG7MYY/7oEcGIKfCKpV4j9rn4DcDyQxgNfSDMizzuR/3nf+JiI4TIGNq34uNJT/PHwchkfVaLCXEvNLaPJwQn/ql+qdPkxilRQEJ/iQgMysUA8AJP4ot/PAr4CUSYtkuN3C8g+X+X3ZUkn2Hef9cDICcVI6pNuPz+2ICl7dqUTi3//3YmEOFRQTC5rSBz+cA1Pp000n6QOHZFt6BLd2DtGJWVa8DBYP4ethRNme/3BMzCpyC8hdrwJjEjx6ixgpH5PwSwchkRBpGVBFHQ2+EOAI4SCwPLf4ER6N8tiOE9/9UnNLYufSzNk8Suin9f3fn5/7bEVTh4I8uFMdKACwgAAAGSQZtAIoA18HIZ4OQyM8AG1N8KdH32DmHkVRCaZXfa9bAupAkLDzsKbTZVYnvrU0PYqEVL4DwC2IU3pBWHP/bwfAHgSQQi4Lswo8kFZv/2/rAG4a2IYDX0sCR3MQL84RBqTHwFRZdGmSoEZ+oREiNq/bb4I8HD2rT098GoPJbGOv/d/4QEAlgGd015MjYemC4n70VGl0T2BwUoRNpKw9/3OAvuOy1GRXwaLREq9a8xzRGdf3A06wIIISc4IAlMcGIkvG7mCEJ///hHjb3nC4yuSJiZkCicdbEb+CGDkMgkhLwVgBB0+v7jUQEzcW2IWqcT9/JfhDgBRPiRmQO0+c6tlG271h1xGXMUZJm3bmhtVM5ilQYGgNYzkfQg6TP+4FZmLw5Cs194G8eTeGQIl2+xEv4ecLqSHN84IpQ4RyO5u08S+fwRQgIEV9BoRqoCa/8CMrpgOam6knv/3xMFfws5gBB7xZFngVHDHN4oEs0/dJK/2aQh/+rf+4hhPbmCX88ycPF8Ws9XlOFDAQTd8PDRwEVAAAAB0UGbYCKANef4IRIzwBN/nOcc1aNpiL7v9Q8NicwQgaVahvBl7f+dAAPBQicbVKVOPvAjYLiRr1IC3z/rg8HIZFwzEPiWyXv78v4wCAAT+nOHDjsEFP7yRUY///cGRtdtcwJIIZPAb+JphgQIhMSQTIHf8ESMX0TKz3wPACnXkdCDv9nf+ERI/Obz4YBFSqY56Cw3ss1NhYCZgB1OBuNEySME9BzyZbHXyAAIAgDnohr3gg9O3g6CuJTLxktUu+97Y/yl6i+lP+HhkTwQhEsAxezGiKPghP8My40ISzZ1z+f4IYnAcvJMlEqVRjBAhghEmw0kxAjbUbiy4kISzwyJMe7wAfAg/I3XlH8X4F/BBB+Y4JPmBgsnwAepoQZice/9wAxND5zJVDmD0GPtQMweqPKOJIvsRLDlB0cQDzBR75yXKfz/BDE+MG4MpeT1gKOCLiIDMtDS50Rce/qMDzOD+IrM2Bwnuge83GZtneM/R7Vhsy8UW7zsj0pvpgCAdiAqhkErvqffQwBgEXAELcUEyF37z+OEEdhQ0r58L8/n337/3/f4bRUWCEI8TCWCN4fwzbOCEPfQAPzSZ7SgP5tgSxAkRgdmvBh9Mx0E28DwG/ARUAAAAX5Bm4AigDYQchk2MggZ0hB2fdnByGRcCyno0lkwGZ2xMsngQ94C4SYo44/f7uCAPxox4Q4p3//cA1LYvMVCsgEh/5LAIPSWZB4Rdf1fwwIBV3p105qfBwmSHf0YtfB9p3xX7Zh97NtvQwEqlz8A1P1DWbxH///f+nWDkMjoPBwWJhRcnL/3BiExHIKhju88OsYQuawOXP2J6l0oEY8R81ODSWfv8QuWAG/8GIZNwCLuIw3TvBFByGZIkSK/mY4NZMAhP/CMwXlYy+YM0OArt6Rn1QVReqYNbl2YYEF/AEBEK+Y+TTUxYwRQyJEYIuzfmezDJE7jXkFm58GA0FMXnIrsrEAf5UQ8FYkS//+7wpgdND1hUZ2gIOMKy5jzpN28GCwBIjONKkqO/3uAirMCg9TFGwZ/3zvzuN8EZXrd3wPqANgX4PEiO87/BcWAyhtoyRL3+WrJ+Iomp17zZ3z0k4eJhwsgkMqYIQfVe0UiQe+4nqwTRH4jhlMz7HQofgImAAABWUGboCKANgf4OQyL4A5PiGPfACZMzQkyn7N/xBPi7HS8EWcWaGCWDEEJPBDs5piYTlZUZj3xjwABAACF0HsrLRND7/719ddgVGlZixEYI2dfB4kfwchkI8Af+aMLAAqybEVCC81ShQTQDD7cugCAUiglWf6iDRe+ACQgOmiMYZeEjZNlt6iEREMJyiOYxWDkMqlXl4BDXePPBCf8SEo6IT8dERrnXEeIXgxElpw0pmCGDEMmxoxoF4mYL5P4AO6FK6sij4B7hEFmocSY0mn8/n+DEELolM2+CGJkgEl8TMeM77fZ7/xMFPQPAB4f3ArzT0yoV/fBgKJnD3NDcqsy+ZK/BhIsXagXDG3104eEOHM2ADsyx5kOpDdrA3V3gAGADd4BIo+/gAXbRPp53//ABtAMUU41pA8muhMYAbPulOSBh5/xBMZGDSIhwEsGIZBDwE/5GRb1JOgETAAAAcJBm8AigDYwQhEX4ATVzOJvv/LF/ThYanxwJYIfiRnjEBDjh1geuMzFYkKxQwCLJBxRLbgAaEDnfDPUFf9My1/Bm3D1jfGAjRDbmLnG9bPwgAOqK1w+H/OnX//3B/hkSMoDGQGoAo80aJNHCbp6+FmlzRI3uCjdbkvuEysjNxl/gD2PNz0vB1B2GIOkol1/UAS54U5MXf+sADEFe/xkyIQ1IC1/+mGRJYIJDCKNH81oy65uMt9/u3+Xgb8eCLmkDAaedcR1BCERMQPbiE7x+V/bpmubghP+JE4yDwHEMi4HoDz9wQ3mUWwQwQiSYcegF/7tMcLMRGQARkkzNkFlVOAAjGD6nAkzKhNAoGP/31DVYYYSYRv4VUZ0IrkqVE8gyVKJPaHCjziR8B+GEmlU53XweGX3eZ3+zjP12Zv+CKuqzh7MMiRndDAGdS8SD47kDx6+8n/jsIvruhvD9AD2cYoAIKwm1KOZj3+AESoGmYtILKbh5YyHpAgAUk+oCpEDEHQr++9QiCE3HTcZ4BxwUicJ3JrIAAPjC/wRwyJEcNfkZpg75eCEewLEzTjwA81M5+XxETwEe2QE7leiwLRpT8/4CIgAAAGSQZvgIoA2J+CU/wYghBPgEtZxh/R6HAAoVFmCqeKr2RNpDS8EIRGQMHcwalND/AdTDDvg6ljQrMPONg0PkBCAw9I0POP6o0cNCKzdr4OKg7EPDP784CbO9T0DxFhLISlhOWI+/8MMZ9em04Fh++PFRT/73eA1bdzSd+GIAaSkpxz+QeDkEIKNgA/XAyG0eFdP//9wAmKi3JvPiFWKRd6C04AlDz0lGSeDzn2BumRY3iA+uz2olQIz/CIR4QCBPgAwYNC2Fh3//P4REuDEAR/iLR3Jd+4BilI+3HMRKmnj94eDEMium3eMpgEUGIIcaTTqfzvwYgpJqUxUpgEJ/xA/BZRMUREhgAps0swQtIvgBaGBagZyt4xdIPL1UpIpEiJACVXy6FMC1PacGGYE+EPxjAS9HtLgkbAyMrUAf7qeYEecMqP/L4ANAGFjXdVCXT9zvn+DEEJcyGE+AKAj4jjG+5TkQAL8BNQ/1OEOF3/fAXvbNeL6yZaS1z/4mCzw3ZUJ8BZw+95iwzM/pQ9wVsEJ/wEPAAABuUGaACKAOvBiCng5DIzDLwS8PY/gAOgvDwOup5RFi//Y3BKi2cS2vbyYRaQArAqPM9ZBL6eX3RrtPf/yGDIrtNr8DsFhZprA4/SBlg5DIuFAe6HWCkjn84P4PiawkDX0v+41PALwOCxNkkr/3BeyeTf+4EmESY6IS9jCAgnwCB6KHvfwiJEQWH4iPGVxP9zgZHTh5U2+8CTj6Rb7jczBgfircddzKin/AuAD1odVlDroiohZCIzMwUhHgxEieAJWnEqj0eTJpkWT/HsghP8SGRO8EHx7wCJtbA9eCA8WtOp/P8HIRBDyfTwQwchkVgj2ylrBfAFSxMZ+ABczil4PiMX9grMBju50ljn8YFHNeWnz9HAMe46lGInT/3wdCk0kYbo3+gqsVdHRJ0BKhe9JIotLQIFLSWVyYf//uD/yw5jJkZl+eH2hO6O/AnClimtO9SfqJCDm9DgihAQI/UUvB2YjUAPu6OJPZtrXPzCIkfDBamGrCR60GAgLZLyVnYJ//3cYCsYh/nCr6BX4G20QSfCIc8OGIaT/Em4WRmBuegG6eO8Ee2cAl2AyHlqLjS/AFd9MDv1Z8/wEPAAAAcZBmiAigDrn+GRIzwkYKxgAjy2+VmqvAaRQIF0cetU0mDeh4EBXfBGLfEPHbgRgboN6ld1oynt/gEbplsmTeDkMgogAbs4wPijbrtrvjJc9I+IP2xnQPxskbgwW9NeT+Tkq8vAq53lzzwRwiCHhgMCIAtdICESb/+91yI3s38MiREEApVE3LWRx///cDGEg5THESk/eGxMRijobX4DAPg9fAApTgh4/j1ABDCVkrL18SQKxgvhkSIhUgiiqhBpIkYIjr/29m2bBiqj1eMSsMiX1WkECKEQQ51z+f4Zic0uXwMVpgIQngJHrj3/8AdzaLPYYcyDYkMBSOCc1AICAOwnP4Ip61X2C4zCWHIcjD7+EAosQtnA82mKKGfTvTrsehaXMbjS/P9ugdN4ZBvZ3wngAzApgFygejvBCERfhN5eA/dyN7sCMja2k5GX/+Dn8/wiCETggrRnKlMbWCKGBAjmIXF1efB+fo6JfwGNrnW5vCE3Ou0wyJHw/CgsGQL+FiRz+cGjgDUE8Q2Pj9LZaK4w4Yx/t/BYdad/nawjkjf/4M/tSUyv83h7/hkQEsCX8B8LmOchtm/sgP3jv6e//gkxJNChoXAxQAAABc0GaQCKAOxByGRXgiebUZ2TAL8Tn4MQyLgBKIeFfjCJXB/iP/qj1Pcn9+XjYDHLiEvoiLQCCgMH+HYXxBIf8SEq48gEOxdixioZ/HhxfwVefC/5MY1IMrwYbAfAiGmO+SfweIvxef86cGIZEwJvRuEgVXY91IilXAgN4wACa0Aq6oMMv/2gRwJXlUmZ77gPsRkGK5W4WSNvDwYhk0Pwwm5MGvQEUGIIaOTn+DESK646mIIKpnI5NgEJ/xARh0iQzcomnAO00TxRXBVYbcgCoOCeq4bhain64ER4ADkARUpHkj/1wEPxfpTSAO90LMRM0BCd7wQisMqZ8DvAiMEXJA+gLwVi7Qlj/vv8e/4/4ZcvaoIvIyO/HS4QAkwk1CdWmMMxR//sPwTRm6a8TeeBKIDILEqEIWku/++//gm8Yupfq1pDDDyKiSrDAZ4kSOwBiP8RiPfGNUwNrsb17494c0PwSQzJOafwyGHBL/EAQi/9TeBhgAAABjEGaYCKAOwf4OQyLwETTwGsA3kYewA0BbJRhrkX9/2A1IcL1HbYpbDZsbIfLwAYGu7t773gkgxBDxMfAe6kzHOmDQg3nwSiLAwRf8zmfrRGmIuczlIp/V3fD/v7fF43F+DkMjPgmtGajB+ZmS0GWADh0b4lZBuS+hHvGuGfVAtLfngZMBFEXJpISzFgW/fAAJiXtHusHtj3eSIREQxkIMhSkYOQyCj44EBB6wNA/SrByGYIT/yVp4t6e4gIFwXWmQdM2mAhgxBD8IRNiE2DkfABzraGip/7nA3JgAEXyBR1oEXdgHzhEFmIKJEfTDJhkTTGr0xPQDhmThghiZIA2bk0HVHf7d/4mP6A6H+EEAo9qFSI/6DAUoI6t1yGbr7f+Loxhgh6NynoGBH0z6Ev+Mqg1eAA7KjcBfsjnN//fvIMn5h0MLQSQwP+MhMWoFeMciybKfgAhN3vz+NAKhnJNSaag3wol/+roFKDEDHFCTn/e8OoiCzDiLgaZFicOJKSw+lAEvBDxiUsCCJ0BhgAAAdZBmoAigDswyJND808AEYSsb9mblbBA/DMCLmiTRz//7vL4/8cfz4JIRBDxMVwdhSY/spH/gMDUHjOdK4lKJffAZ5IRfBGlJf33g3RhWmKLyb7+DkMjIEvDOUOufF/RX6kFMn1A8CyjRTPj7nA0bjI+2woryGB4FBV7yaPpvBkbu+/A/C35+zT/SAEQDxuUMWt9Zg6bBUUeEOAMRiKyHE9bkqasPrQG1MChYz3RqUu/wyRDjIUPoCwchmCLDIvxoTg0ITjxpNPcEIZCGBZbjeF7TeXxwxTMHkJEzBCf4kIC5QRQUADEhmCVMmkmEPe9ghjZgQyQTbv95IZCLx2lbQEMMhEngnPMFxA+ABPVt6KbTTMAYObSTVRKAQU+7P6ajJNv3+CiwWHTXb4zCfvdsnGTIeZUoBTMzhO9x3/84PwAYKAHgePkW6//+4DQKVXcJf86xP+f+GRIUg2vALB8g04//53H4AN9gFQk5Rhx+/3YG51EO0tZn+14CLmkNLydFUPmKwzqmmcPhP6lQAI9ODdQl78BMMGZpqZjhxF/3f4ADHbXTZx1Mxjyw0NKlDIRNwSPAf8EyPvUhBwR8kYNL4ZEivGRhV8b8SIEYIngJJNGsA78hn8DBAAAAaZBmqB6AOyFFAAiP1X9f//AGK1sUB7y8BqWxLM6OyQYJD/BiCEVQs9HCMrcB/v+2AwLdZi6FzOj7+DEMjOt0tLY/Tb/4dbmkB9MpfJISNhM8HrkAzueACx+wKuI0f/ChFMiQsdz78AVCkXp8XUz3wFFjEbExRZR769gxDIQ4IcK5chQ2v9rwGVkwl5nOQv/YAP7A+elB/eGv/XwYNyvn7Ihz/7wP3dM/E6r8cGQlss7E4Ij/hF4TcPWDR6UQ/BSGXAA/eAJQ0z0CIMNenbV131/4KYqAmYVQ3HH/gOKmmAigxBjie4kMk3fBCf4kIDPDsXIgCFJhmMKb5AFVwakMUVTdesvyRCqMgqomOAhw7LhFmE6wWtwgBfgpD0ZOoDdEvwfuZkZBt0Oxit4zDtI/cfDAEKcWjL8w8sDo2ueBr6RibrT3WH8Xa0yN+AWPpMVufje/PBAiBafURYmS9/AnmxfFRUS/B4mWBKBmW47ibLKXbwRgCAHhNkgxCVj5ufeuTSWCOJktlnMOAiQGETM4z0Nvv/E323pRmchS//f/ywhafRp814GCAAAAgFBmsAigDsiF+XhxDzYJYEEEHBSEQpEzcbZBmgNTwDrqZJ0sA3mjSfnu0S0QhhtTB7mcoj554Sw8krV28g3TFaR3ZW8H4L/dvZt/UAb9ALBZ6C7KfvEd4MQiCvgVHBIWXlYT/n+ACtkacho5+/007sBe4MDIUUbdnPOiTe4G8bEszzb/oEdJMz0LKucSIcilAwFZzcPEH5KsEMXpNjsEDTx8QTBHDIQJGjaBA/GZl4GXpj2A+EPCIjJ92AUCD5aj9OD5bf8BAK0lwopQpOhsVRm3/96kRJCJmMhCMGHifBiJEwiYFhtoZpscF3TAQn/BSJw0IiJA7T84IH1O7n8/n+DEMicXWTFWgv6FWCGBBDIrwl4dZSCnkIv2/MIwpBKmyad9FPAAkTPh89Vy5JQm/90DuEcXDScO9+AzOXHOr8AVBjWIINzCxR3vj5nmGrurkeZ8wvNdpJBf7QgSytYuZaMpknoON6NxtC6OE5HceBpV4uHgI21pGPMtgJweEfRCZq3hRHv/eBGTtHZNpv8zJwqdPxBehqqf/g5/5tihmLEBHBwGCRrTNG/Am7vbnn9/4OQiIgQAAJlOgHFVimWcqO/+/jiEfUWQaK6qHu5DaUw5aHv+8rjUdMLmK4Z6TU8Mxc+HBAOCZqgC+brAt0tYJebER3hoQQgDsm6z/5wgL/gX4AAAAHiQZrgIoA/4T///Akes9hESMgQirE6a6LzC/TCcBV9AmOKpy9vuBSkCJfxLW3vB0K+tEcL8UpjCwkLlH6pcW/77wGg2nMnrB/J5f5yvAKkELMxlPt17DIkIcH9lHjjPfl/gEtZow/6cLwtMATwoajQ+WwG+WGdCFxH797vAWiYDoigDhWSO8jEH2EZuHGWEPT6cCOCEMEyl8jHvj3hgR8RABuEKVMnGi0Fb4DIfpwU4TPen4l/+f4OUQABy0DMFv3+7EiKKbTDK3b/UIiATQkz5px8TkFFTHrJmF+ieCKCEIBKHJP94/jgnKOI4ne4mCKnGEzp4IT/ghGYHlQ3T4AJZ8JTLj+rOAEuYLjY2EeLJUbDIwiL1Rj1gEh8SYagoJTsgcLkjat4wRge5D40ClGvN0eYxSdJHok3XbBguITJNS0LkRfvKXlw8qYfB4REi4GgFsagdEKErSKf0GwABAZ8JJwpf8f5nLnS/PisrqYDYgHeRhctNsakE///wmf6wzLfcEUEAgkCvQ0lYovJv8FXftvHw9f+ERIiBgFvwrLnyHSN+4PkYRTOV+eTWccwMF+AApKgFbIh9Xgb3czNf92TKhIiMDsTFz2HV5noNAcY9iAiEujHgAJhuNGXWGd5ST2vAvwAAAIGQZsAIoA/5/hkIjKBYBEdJ4FgZlsEk5SiInsT2yP3Nojk4LHitMAA7GUCM2BZt+DAU5ifVEIutP/bl6/TksGIRCHA1YagqEaWHDOC6/V9OAMyZB647GKzVpMEwkIcKot/rdDWtae/wYUFGPJG47/AOFXDtOp9BVjb9z/wzFwE6ML1ioQXmqUHajZ0BQ3p//H4B2259AaXij/nYIREER/iYmAOPZGlX5REaTvHB8MxEFoQFjs4EjMi+uA8/VAJc+IVqRf+z/HBNJG/8wDSEDm7OBRgb9Ze/+inDS58ypxD6QtSGIJepV+//Xh/H4JfI3NG178IrBWMDGtMHCbQRQYxWEYTJxTJLZFVLwAG7a7QMkHol+fz/BSEYIoMQQgo8N+BEKjuwADaMa4xkKF9jGqSSZxAIBOmb4Em04/WEJLxAQF9Y1nACPqqBqvj33wXbRhC4pNgIL/gA7J0Io6HvdgGoB3iBGbVPI4Pv9zDMvBGOfrosJj10Asa2Yp6Vio1P8FIRgiiZIHLYlPc7gQdJ5xL7eXIc4QT9h+I4HIQAVYVGdRalv/wEmJDpxFsWu/Ypm0oeRMKXT74Pw7DTljk/wCWD0DhEJR8RVyY39iYK/0rQAhru1krAMFTolacoKg7v9iuofKcoq3u9P9IkKiFAl4OwyGoB6cDEnpazIqcIhAuFwV0S4RgXoAAAAIPQZsgIoAQBDIkI8AV3Hp84TdNSa4B2miePAHxZozBs1GN3MMIRGJWIxMTCHALAQpEweMIoOA7U5TwBFtOAwIyQHwFKwRBpUYOs1/wPw3AFHyUiiH4C0WAQD+kO9Yq+vP/DMXAyFKU5wkNoRhv/iKiOfRib7BOgAIPI9nVA8wnlhiuWu52bAiwmjDIQF0qe18Q4i4TbmBOc8EcMhEdlLxXoWCE1tCD4QS4/N/DH4l5CesJlrmGIiC5ANQ8NJH3bvgWFWv8dB1/hGAAQAiJ4LTuSPWgFnmAIZqqW+wlQpeH765kItKwpRYqv93/X7PY+r/gDDwjJ8cDgG0IcGIZghP8GMTrFkxNx/QbBA/DZ6Cc5/P4j4KYmBTsl5pBTMNVMlmCKWyWYIT/EhEIQwUjJZh1MRG+TDAySTAA4bcCKmSDRatZEvv2B5VvLohWK/fQKPYAAgHPIAEPQCT1zDAQF8JDAA+zQJYsY1gOvSHo6M/f+sAcDRQQkUkvJDImYREtabu87T/hFUvhmCE/wQhERTqZUlKAQdOPyLvzw0RrLYZuWTCcdDW+g/Nwt3N+aAoAAbBOYE7ySL8wQiQVf6AgNhS8FVcmKSe/3gZiYzEF9D3+DIeB0VQOT8p5mBwAAr8AQFxIPzEZT5HdPBnf6Rlkqk0xNPN6dYKRAupTE8B+1LBCxDYzznhbUviQgXLzHuj+BegAAAHNQZtAIoAQBEx+CDRe8/As6FwPNeYpADsgGhLWii4kj98DKpdHFFXE5iv5hGEOGzkir78zCd7yhDEkQgDrhiqcPA+gIe6R5oBugCWDJol3+f4kQCiB4pA4LjPR1SQg98AlBK5M83dSG73g3HFAxlRzTTy6b+wNKsIiDRre9WPAOgjiQwC2bjnnkZCKRxm4kppLm4capaul8SI7PAPhZlaxtW39MwLUi84m8/w9Wt6A8sh1ABYKuSDPH/iBLhLAACAVdQCiYFr6xUUaCbqsf5/8AXwooAEVu7uu+IyZBoHf/8IiIIsIicv48hQd5Jk/n8/wjE52YGr0yLumMl9ARQyJCGMzhxf8ap4AH2ABgi7iMOaQSodAAEB7wABB8BUvziBfHQAC9gVUEPxrAaioB7hTDyGvbIr8A62AOgkN0VR1+8n/m8cNvEwRcRFmTOMA06Y55gPuMgEBOvAhg8HpEkIOY+uYSwX/wPIAAgAbgM+wl+eCr/g+QctGqXq4PGmeb1ANBWnZbWAQwDzoQLLvfljhK+cUhpUPn0jU7lTiRAQ7BaYQkb6Wibr77MNVF9r9WS1z37+w0qty368G7+JEDvCXOp5SoDMaaIm2NuX4F6AAAAIPQZtgIoAQBDIRNj4gQG+TPwyJFwAl7BRMznX2BP00AkVG5HF/lLzYOqoGHfzwYcWAAIBhQBDeDw+eA0AI32AdewXHfn/ghi5UBroSAP0AtmQCl1CaTd+/wJSNMlwGYKzPsLIrHoBzmAAIEYAHiYCBReBwxgDIq7xHfV/2aTWFQjGQCVVzc2qF0JKsFOCIN4aUz1tx7D2HsexvYnYS/rXBhEQJAuoxTomQOIGhZI8HgQN1mN89+B+FAFGu/fK4HggDZQ1Wrz8/8MxEOgCZkKrkC/ANeiAAli8O3it9//eNbVOpR9WtYYef4KRATwR6WGNAeDr8EQTcFrTPzQ+aE0M/n8/wYiRUPxcjDL1XmDn0mYMv0lmCIJuC1pnmhGrn5RVzKKufi+AAgzkKNBiTecHhVS4F0AwABPAHagcv8xqBj+sBr6YA5EYaAWFYk9gxYngQZfMgRvtv8oQ/AJnSNmgkV0v6f4MRAS0cnx4OTJeoIogGBIJHWU8ARTzIXAKrgDeOUjj4xIYBZbx/IqQBAbIoIabgfgy0xcAFGoaYxYsIQzQCA/YIUy+IfnhhbWMjU6PzwBEVahA9oxpJ2nR5cAAfwIMZ/aT9APEWs3AEKBvBqmIlqzOADqwBAEmwQQMvflLgkIaMIjn+XAAH01qcB/kJrnfDigAhPV39+/aaemCIJjWtx/6demn4MbhyLSf8C7AAAAHOQZuAIoAQAI+CGLgGg1WJNMAPBB/gV6syMVTR9bjFZnx4D/AACAy8AA4ygo++AdGB9iMNdx0+D/BDFw3FHWLiH4FggE2KEJ0fHX+BsDlpgAJlWDCIu//zwEeUN9OqKov/77z7fIj3eYRCAjgaRpLDZqW1MWA8FIgTwBopk2/Pri6dBaAwRH+Ijo1dAUE5zAifj1qFOEpYZJJgd8jAAPkAQ5c+f7wPEABtgRmmvz/GESJmDxGZM/EQkPa71d3QOQJLKAu6Mnf4A4USYorabg+LCnmbGVec6uL60+GHPh4MZIfi7nwRH+GYmDhTqmaFTPjyY5/P4UUBK1yDq+CJmHv/BN8PAiP8IwhBwcY6Zg4wRUzB2I0zHv8ABEhpwHEOYjWXSPSzgQATbC1aEn5iYvh4ETbXvKfgVAhfi2I5p6w8CABfsOWoXfgCxMgBgB2Nthwdh1n0/wYya4AAcAgRH/Egqg/9nzY5jHXKTSTBgb8MjgvSxAtxv3g5AAN2AAgDaiFeXPw+iUt6deI/4cCtY42rHQgUoBqM/LwwmYAFrjgC6CtaAkBAefpwzXFSpWIW/5hgICIApZpG496MBTPOwOKRy2taPBCEHjwIU1FZqBdgAAABqkGboCKAEAwjFwTbT9gCm9Cyl7Mp5AksXM2W5gCDn/PA9oZfjYo588G6ABWAjYNEPwP8IiAp5bw7lqhAALioAVQafgLZgAUACAZI0jh/hoAAQ0wGCJNW4BKDDqwjCDxEtQLPugWEeUYE/pCmf0lWIECObED4cGWwiICHKzCBPGh09IreQOwMrMEfHccZprj3w9S/c/wLQBawKm3Dr/A/kxu/BAJEQoFZeWUk6DkAB6gVknF+f4Eh2i8PUrEQUpVXL/rMYV4vNSbZFtm+/5/8IhDhnBFDIKc/n8R8MiSxpMYPbkzBFDMXgO9Jk+x4AD7TKBx4gqrZ//8IRfZAAEaJ0NfgyAACADwM6hYfPGGwABESUAisDIh+ATD9IAAYuqSAU2gFfvsIiC8BQ4agswyYNggQ3+D4jwg/P4IoZj8LKC1QA7NDxioOrXtsail/uiU33hUsbq7BSe++xlvhiIh+I9B9jYFoAFLgr7OHX5TcGwgACARoA4mZQQ/ABGRcJwIVrT8V1WFMTEb8wGGuIEqON5WSQdUvqIbFo4/MH+OMsSIEbMam5ZOyxd8C7AAAAdBBm8AigBAMEMXgTZ6Hq/xBAQBENFszdCz4A9SHGU5j6oPByICPABLmQtTlMz34NgAC0qgBQOkbXYDtoAwd7RVCD7/AXRQkZkHn/MDqwzuu3g/ABtMfhGd2X2CEQO4NaHKSmUt8jLc7YGBmeFfhaACLTB9cn97m/yz42C1pcOhAeCEMBOCzS1C/AuzBCXimDERBFxmA36JZA5dsg4LRdixitAEb8XkPcY74H8C+wZA9HpBsmfAt8kHvwYCREHTKJlUdunvXBZLzgp/AFuHUeLCBIVep7N41d1H3+4RiY9hYY+NCA1uYIoMQiKobznAKNJjBtzL8yQjFRimopx04IoIQJIqRm+xG+HfIG4DrkmYIRAvQ8AB8HECIzJtI2cXO3AEP9NRzH4FpoiYbFTxghi8AIoAhHQWNKedN2gpAG0IAUE2IzqbEBlOAoXVsTeAiYIwftEIrJo336KFVuKDc0WjFeCTkwWa0/LZeOgHbwQeKMJp+PiJNH2RywGiXlAz0tLEWqf/z/B1QMFzhGrrv34IDU9LH5iO/gP8QI+DmQpXczFnAbFEEOiNBIbnIX7yWCFTLxpXrfao9ENnIUIaf74NBuXhgQSBV1OgFtRnGFfgXYAAAAfNBm+AigBAMEM0Ak29DwCsSjH0Z1I/+6qZSlcbJPKXvsIwjwAIi3EpjVkXU8iAvZwFAih3vwEAJeAy1/VPBNMGu3XDK8yshP9B/XSZIM8K+6QMvAA2iMNbjMcrLBCIHcKEzmUQ1YZRLJhp/YAkdW/EqE8Bkae6OrwyJ3Ijd4BdxPE6P71bsk/GrQ9awQhARNvARE7LO8CP559lhAa8itg4MRBuEDC3OCKCEFJIFkJycdxtOZbWIzfYv0whEfD64cxYJhL2b0MW1hyKREsDbpPvg/DEpjRlTf5fgCn6BCsIvv/hjP8GMk5DAYN9MEUEIR4REF4a7HP5/gxCEEQj4RgrmoAEUnD+Bs7EoeHpmaZ4NXhunSBkvzV7gY/kpm0TARC2C3ck9JB3SO8EIgXIsAFXUOdMfAP2AqXlcGEXSOfGqn7goAAQCviVMwtWgWsAAQA19GBUJGb4DAP4REi4AhGq5xzriaFWbdD4RkC+ousqpFrfwfAFHiPT84gI4ZSYeh5VSzEZ5hZzilgBq9bA36n139eCI/8Rj1WmeitgQL0aKVMro3q9e+H2J5bQzvRdKfflFyF/8whEQ/A5zAEAY6YFO3Nv3QZwXjOF167QATTPEx3ZdoFtAGCETLRMyF4H+ERAjJisxMXNgeupb8ZIpZJJU7wLsAAABykGaACKAO9CIQF+Ne2EEPeBHCM2gUBMfSj2EYR4ADa2YiJFFW5S8QZgZB9xA8KRELvwAHzF33XiSreAccikAIqMMFlX//nU6yAAEA0AWfMDnZ8HpZYAfS5QCg2pNR9/8uXgrBHC7RhBryL7iBnBQVMv6jxDj7wUCOyNQznJhNwxQH/F1Zirz4MPwWowg6YhTjd/7gd8UsJ6d6wHgCU9KZKCib3z/ftvM2Y1VeHhEQTIO2Pv4IYTmKxWzgqAcO2EzxoEWGBXgEu8NQ70fExEBQYzdZ9RqQipEgR/7hLRAACAkT30AGE5P4MO0KEGdUeLiyfum/fPZmbb/f7xPBCES3gq28YIT/EghL4KYmCBtwDF67pxj4HrufqRs4IP6Tfr78EXCeIfYrPsWAAz2hKrIV8xi+LwERdxr5rMa1yluGph/+w8XHBqQ/WSOIfgIzgwS4wxdGnrn/4uBAtEIc2iA4fAj/3DHcX0vgW3rL/4PRkE71E5sLffQduz4YSyhtPy4QFY1lSyQLb08EeIJzltbnuqoMTgS8Es+/vDAA77eFdfgrdjP3rwAxVuR4DcAOK/E/wH6dYiIgenkO29uR/6Vg2pU/9/v/PHv4F2AAAAB6UGaICKAO9DIQF8skDjUcwQu8tgxCBZk68d/cdIER14KRALOCXbaAFw+wjbiNFSZfrBLQwgA6MO2Mnnrm2IOhVLOAVoeM6TzD3vGuqmGGAGEXEjaHyVYREDMADFTN8JHVoBUAEq5ACk7Cw9igp/3HRoE3lEMGaWKA0wWGUADL06ca+/wxUm0pS8GCCA0AS4pQAVckA4hMb/wDg4UMMWhJR2Zd+4AGssasi9rAsvW65tSv/PVDGWHFela7QeEPDMkZA/9h4MQgXhN0sEJ/46rE6CRj/WE/1SsAByUVFBRmT/jaFFLEYP8k8RD3xby5hAZcJiC46CAyvoCKGQUioETtj/I8fvI5wo1RN4mER2V9OLumdeO04IoZCPDMIUCja4dM6YU5kvADZQED3Axf3wAWrU9mS/3g8QS5lQr8D/ExnABjat6WfwWKAJwsmUan/GAsDtgFlNRKgdg7//eBhTDRSffb1BqxAqZXDTxSHWADkY7CI6oPwMCxAEA1poLGL4o8G7YFqABhjEi6kE/jkSnnfO0Bdcr2GIv5jiZcGBvD8IGIKkBrq/BCCB7DAjuwP9arv+ARH+JiKJ2AHp2h5SVUVq8tl5sClqOG/4d57/9A/+kbN8j+y34OAiItk5wHrTRQokz/GKB8SuBcgAAAcBBmkAigDvQchg2CQUzfqG0L8GIIAh5bAe79E/OgajRV/xOlI/Vn4Tf/4Ep0w3+CKDkICuggAEI5WG6bXuLsxgkNOtuSsgAIHTmqXNz43cmliYHKI1WL557fYQjMCYvpmiAV2O61R0Udvz4KJT8KPpb8wGtIwUtMw/G+4Pw+oCALuw6drrdyH9AsEQzCySn8JACFKPyL8nvyL/EwL0LJM7DGFYAMmmvJp4BZGbQkylVmVtTZQAwHioDXWxAqMYVkwkLqTe3g/xHwIIQNIAAGXRxQRQjNjiCsBsiXDn8/wIMVp0m3w/YY2aTARCF4EGWEQonHRAZSTJ3z/AggoFY20mQ9ql3uCI/4YH6ARcj8eT9ohABTQ0UjiJJYfv6oo5ONE+8ZwAmQywRTUqc6ATrJkXR4eNAEKIbkZ35HX7Tj9Wcu9/d5VkwkuYUxy7QIGvfLG0BsoWWIopFP+/4QjmZuVfgQGcZEyNeeMgomNgX4cRB5+/wDWZYlsrMUr//sGHCKqS44duz/gTX0wAF0zXiMF9mrQ9IYy/uP/Fb9OMpKUwd7LJNL/EQR8kmC704MvibgJmxY5CVhCROFT+hlIfE/gXIAAABsEGaYCKAO9ES8AFMAwgqkyLZBhu+AmtgEGGymUImHX3+wQhAVwB+flQBRmlTFL8TQfUfwQiC/xWCKGRBpvjAQDhkQMwR7wAAumXQ4hYUxF+O4gBcxzNCvwHDy5CNhXv787/0iBhmxZkMqQwh++D4Dp3URLmymStO/+m1uuhD/mAivnAGw7JElL6R74uNYD8FOUmeNyq88wMDsmxk73jMoXO8ERNuQDQgK7e/4HALv+/e2wwuoDotucHY9LYqqlKn3+nz/BCINgiaAvWZBFEieJE5/P4heCGJn/DvJizJmCKCEQ8fMWhjP5/P8EIYEyjU0dM2L8EUEIjiIzgATyvfKbl3c3GtH/p+AHFEYyZ/8BznSpm/vznlNm2As2gAZQE3AR+kchcy+BgTGI7yAQ0ONlBld++AgAjgFIofy1uzNmBrv9PMOiAMR9q3xYkQMh7AACAJgoXEgBRnASw1pR8fOlBkSH/A+ggNgAiVRp8i6cK14QwAMFrbZMH/NsaAB5kAki6wps0bvvAqB7g7MwgKyXPf+5B9vHh5EjMODtPaS/2g/+I5QwEPox98YD+CMQsC9AAAAZhBmoAigDvQIIYF8AWsiD7TBfcUtgCLc1GiZb8ApAP4RqCiqDIpBNmZMHIYCXkoPDo4fByGDQmWNjDR9twF+umB/RgER/g5CAzhDwn4AfEYnFM70i0nAACMg2t2Kkrj3f4DIDk4KzqcM7An/zq15OTTJAwTxkTgui5wbUiHtPABhSGcyRb0IGKJoBCj0AMwJO2eI9/uD/Ex2VRQkZEPgfgAp5Lcwo5+7P0YsLf4wSe7YItP7wkaWcjTx/qf3zBnAAIMNEPkl3eX9/f+/n+4EEIG4+mcEJ/ibwdSyY5IkSaPLqqYIv4nghEG4AepesjT3MAsD1djiVfXi4//eX1TmpJn/PfwgEqpMaoRHh7NhqwxQER/xALMAHUGeQRRKWF8ABc0PUjjR8mu71smEqYIYQxyR4xSt2x5Royj6viyLZJe/BfcuWL63zCtMp2FvkvDIgZBDtRTbgv/5DagPBEH42eDbAGJ62hH9qAS6QIMfU+GFRpCxUB8arM3/E2xv1KpXcO3J1/9zgAJIhxNef1db27+8EghcQoYFyAAAAGUQZqgegDvQKIIBfAA7qU9MxTvNb0zeygAyyY7ISHb9oE9m4AeDkMFhEAEi1G7Od4Boh2Ty0UjHFmnumBqBGvWAcdWPH277AghhwRGZlwZ24DfgQQxBFAghgVKwAB3D0URx5NKCG7gWsmPWkZYnykVWVoWbjevI0Fh5zER3FEhaQjEZoHwiPMrHjDtKI//UR4kXqaHf3Z4A2vVvwSg0JTmXN4s9vxWxuNvdfff+Pv/3pceFOuSzZtTf7gQQhBCFF/EQprPf/8SJLN9kTieRRDdMwe9JmCE/4h42IT4EAMm4CR1M3sADrkADCLmtU5KifBRABqyBbjpYpN8BsCU4wn8ISQUdfve1UWN9CnC+/vgwJMrdvZKYwq/93gkLXxTW4r/vvSrERfGvFFESAkbNP/2YZf4RgigUQj4YGRkXoB18RseHHxxAGZkyaGmf1aBQnjsiyfv/97fDbe9OeGFAeGiSSn9/q6QE5nhcy1aajX/fx+Zw/fhGP3vB/xER8dHAO0UeMzx+gHwcuoYM29p2RH99sY/AQMAAAFhQZrAIoA3UEIQgk4vgAaoIoXZowg17sC59Qt1vgAx6ervgbB5YkIcQ/nWqJaUYMp+/5g8EIQGeAIB1xgssCsBsr5xrV/wY0AFT8ZwGvpdjSqVVenGg2uTjKhAVt4OyNDjEUr+5vUEIQgighCBMOXl/gp14Z6k16GUngAftgJ3sOJFEs/eAHiIlOcZCR0BuAeTnRsYJp7//7pBMO05TlKDjpAw8lR0d4ZEP4+z7ghCAmQRjo0fKIDDKmgQn/u/DhgcnLmWjpwBFxXhKwfy0qVlrwQBEX4JnSdfgAvJb6aTv8Cpy/RGWHPf54uACnG1kELqL4PeAUcVwH21KUhaERmQfBgh598QFCe8B1isWt8V3vrwN0aCVTtcMW/7wJBHwQhAZcBgAhNoMayXH7+o34+xolJKSAxd4PIU05BK9YVioU8RBjf/70m55T1B/DIgR8BF7Rr5raX0+mwpSvfkUq78BAwAAAFZQZrgIoA3UCCGDdymOBBDAuD/Ay8+nzwgjgQQwbAHP6P/yBjU/CIgZ4FHuQAGbRJjXoyOqKiJRDQ6YVTksHwf9+iM86x7//GiygH4JpdImNXZswP9E8b+OlqvGkiJE/PTryYRcBL4EEMAr3K0CXfbbKJM/D6TGnghP/JwBlmpoQn7XgH4jSZ/UCCbIoEvgahTf94g2wHI8EXJscEXx2+8ReJJjqYpFMBEf8QbwBBDE9iSWIOrwWeAM0VWEKPj9IErUjwB1d+5Rn//OBDPxrcbiIP39QY6SrG4DpwfgELW6qyVeEODNBjXOEfj3vAFAhC0IQIVmh1DWyvvsyAYUjXJrwgif9sC3IxNapRvfvXoBdbHyMX144FD/xAjwDWTQ360UMFgjxBJQ38ANL6RP/14iBJ2gi4nwqGqkjX/bSHYmQ5IUhCtTGqVF4Ae4u7AeKUc/dBRN9gfgIGAAAABfUGbACKAN1Akgg4EEEAS7RsERAQ9PEfAggggigQQQGwB/n08q0QHExnhAwtGAmPZxB887SwB7DY4hAv9uEm3PJaZQ0BQ2V5CKd8iXsC93gEYAVppNBAjFMQy4JxSH7QlBpeykVzi6rZtrYiFIALBzoBqyDQmpb//uA1hucfnzZAZAg/ef4LVeIlxDL7PB4GQ7spsX57wAHgHwiK1dZrx1n+sgcoD5WEDpkz9/u42zNhlqnc5XB1BufDtLa1dr/p7gQQQQQiFlxAnHJPy8EJ+XCLy/BF+JhDgSuZrfniNFxj3T2pTXHoZnh4ABwy8S6g6ViJJGSvwIC82AAIAYAhPwp7gINzp0Ngg8TCMAHx3NWm/v/yAIAEoqxyqf64RLM/THvsYyCsNCkccOknJJAB/+lNNPYnmAb50juaeLwuhcZzf9wEH46H2HxkIEhDxmpWQvL+X+EAQzF4GvnoIj/xHyviMY/vz/rkZGCfON6VJ5/szB/ipetv/Bh8EGfgf4AAAAYZBmyAigDdQQhAX4AOWeiTND7B6QbCbb4IX+A91pzIgdghCAS5sNSEeDdX+CEIPjhIXZgiE/BCEBnDfgGQeRsmz0ANhcEx3btAgVsE25WTxn//dfyQqRjMQ3aaG72rpVEDfgBx26PpFJcKwODysQTOaW/vzvGQNHLhsiEk3Bn+aYfKqrPkCYR2D4EGLfoPZACFCK5GK/AFFupV6dCNuP/AAceFMsyuNje6EgDkhgxYfP2d8ds9jVV4PsWZ1BlO5QYeJJ4wmmeCEIQReTmnUR2mCL1BSEDeACJ2+KbR5eN5pqfn+EvMv46DgIIj/x8aEh5x/gAOjcNhMmb1ckexBQkxmDT0Efpt5JP9mJjMABj8WlWaqJC5YskC0KKOfztv9/m22UR4BtCBLgt7+KwCYzlF9Lu8D8PwUDqC+Vm5Dz3/2joA0XYcR/nABiEDgkSSR//1A8AN7KdykBH+zg/8drT1yb/6XgNgDI59U5CAuTXGKRyOQoDX59f7bbPB/wQBGCPk7KergIGAAAAF1QZtAIoA3UCSCAX42OnE24b8WYt8CCCAJcBvagSIYyM+gAfMxuaqGDyj9+8Alzh9HyHIrEka3Xb+TblX37AgggEQVYNCCF6jEwDL92ak45lgQQQCeoBI2YSFkCKBBBATAA15fpEH2+AFVLplvTF0eIqOYmEIAiYqHaFEvykkErTmHBuBlMpluoOD0Eg2Q//g/EAAYQ70WGveIPrE4BXm5A1TXo2d+DDnL+/F/n/xN8CSKcFZARdQnVg6a+vz/Aggg4EEEEEP4jn8/n+BBBQWMoMe/BCfqJ8RF4AJic9kGY9qoAC2VAACANbQ4TAke/92n5kEb0Yg5hT/ArGYlxWKzX32s3IfyE57l+J+JcdTHwRfiYzABmSIcRWqv/OAQNeBVWCoZGFAUIQUKyF/3swpYEHJxswx748ABAvGuUkeWRSikuUGxjPTRiTxZLDngACIfolTGElu+ygsQ/wRQgDNkRjb9eBKBdQIcGPTWEEnn+nQJD8BAwAAAATJBm2AigDLQJIIODkEEEcCSCA3ACeIcI5CufVPAerxXAAryJhrcJy08/dAxTLmBKjaSgfAfAHcjoQA1BspIXOv/yAtEwAdRgCPHP3SFV23lh5GtrxMfgm8bx5F88ZeMAqUjc/gQQQQQn+IiIEbaMiBfQlI+IUhr/XGmd/ACXzAEFXEQkrlF6SWAAIBa0MHQLji5wJT8vFQZzGtph26YryYwRfiITspAgD4ADmIi33KItyBaK39iYvGsk6oDU6A8ImS0XhDgAN5psSzFZ2YOz25WNjN//5/At7QWUKsogn3gRZSZg/h3vfoSFjeJW2FVua8d4S6aaQSOdl2MO2RL794Ij/xVj4ZgyixOr3oUQZ9lqzcQrdgZv4xNsvO/xMRDge5RDoZYpFV+5lCBCygKAHicBSQAAAFpQZuAIoAy8EIQgjghCAvxrKNlyAiL1Nk3PgNSZoA7HgSDHfsFIQCPACN0QZxuX//ABJZ1c5NUxEKcAceJnXcaHn7qA8PSrGhCKFf//c/33jBwLHCuV3HQfgAGUK6JYg9sfreCabFvzHUZEfrd8UZaTfgw7mb7M/HfPPfJgl0B5mfBCEIIuT+YCqAO3l8QaOf/tYIAi/h2eoHf3vqf34Dif5/ghCBsgZjonARQQhDghCGfz+E1ASPWvO/1d+Ua5+lDIPgRH/msCh5LweCAIi9kAA4GOyTJxhKAbY6aNf8CDAP+xuKF8EIQCHAC/gNBtbBQ+fIOkS1ejBfn6RACeKxqycfAZAqirTqQzYP/wASdpG6emtm02H7355s/A8EIQCWtEQGkMJwBkXZ9UfnBHBCEPgpv0eiA3WeZf5M3cgRGg8Zqhjhz9/uABeWRNBnCc2+DzeAMwQsD79SRY7yuV3BwefUPp1gpCEBSQAAAAgVBm6B6AMvAghgFGGk9QZT1fgBnu44d8+lWBZCBdwT1fBEE8BI9ce//4EQplnsFIQCPAHPqcwlHSM31AAHaLwIKJnQ08fJlv+4lA2JQ6ihMVyCntsKoWgFAbDsAIgffOgMRczRQMdg+DRd/N9/meGCO41NhkQFIAERbiUw1ZlyQAIFHwhGXHLFZyBSjMR0xKRNV/wYEQDRwIe0gvGGBzp3/8HYMAOrwZut5VHH7nhgA2JT2CIalV8AWNQACo4uDQ4/O5+0JvaIwpTu9hkSMyHQ6CiVpBh06UIyRsy9cCiILD7k6oIRHwQhAdD369oLmgZhVsmK0pJ5Rv7h7JkwGDUAhCJm8fZufp+//m3/gusmJjYVgmJF4dpnN91iA4kSzwQn+EAcSQgIHYK9MivTF7pnnp1KDgiwccSICHCdyaaRJjwSO1fAAQyW1tZ/P8F9h09gkM3+a4BELUDnNinD/wPiBnAD9g8bnED/fSBYrUVX6sJ//OAANQfieY9I/WAEgqaIQY/ZhyxeSF41KVD8enLD8AEEeSZtJv8B4Vyop6iCFv//u8A0ADT3UZ9f7ioBwmPJAfpB8IDo2NQA+YAK2gS6RcDnN288I+NrFZlnwfm2kn/78bz+JDDhpPV/BF/iMg7FeUT3rIT6mFxJHtcu8gEA2Tor93T1iW/SD97ELWaKo+tvg/gKSAAABL0GbwHoAy0CSCA3gCvuTA9FbgQQQBHw7PUM6iT5GjMCOmCMfvyCH78DvT1f8CCCAJ9gIAkyGIUz4EEEBYh9Cz/ghP8CCCAf4vgbaPUAHAbtAhS0XIlWJb/eoFJikqIsgLk8g0W1EUj/7EwlBJ61f/0uVQAgR0zaSEvfw3L3ijLSbwIAEQdP6uLFelQrgwSeXlgu6ZjU2mYIffLwAO0yDfUIQe8rvgZSBBFzaycK/nEm4SNjlBB9xq2mfBD6iYzgAORTmNIr4fyGP+BgyhAQQvAMKftAIAr4DDqyMKCxD8DARkCO3EJQ8RtFL+gC6gTFPuzR22TakBBzAAH4mOjQQI0fnoAAYAQBGQBDf1owGCZufgE0Bf0WmrZZB5/33TBF4CVOu6/iREEf+7bf2sH8BSQAAAYxBm+AigDLc3gEr9Jfv4IQgEfAfuqTQ4FCC7gajzskFb/3BekLERk8DWj1f/BCEBGHZpMBAGNSX/hJgPVghCAT6sND4SYfocEUEIQJw4n+1k54yAHLMJiu3+AcBztkJCi+c//84GuOctrEEN94GDrGUvqBIIe+oPwAYxRWNWT34YVGyI3uBUG04anpo+e/gPDQWYQUSBRulwnqMMXV+d/+I+AUfiSM2hcEAXy3lrMwX//uwKkJCJdR7ff51LaNoOrw8/wQhDghCEEPl5cPqZTqYCLmsFjcyuL4AMpMcpGKpGuB6cAUhR5KHPzkKDxbw0dsIIvFRnH8EnCHv6qAkq9ybWZnBF/hTwAH0PktRK9Qon4AD8FDuyWIFtz9YFiuN/Sj0V7/d2MkpFJWBilwHqZeBJ17vCgR64BcLUlFn//OCgpRBjw2OL+Sf47VxCpGMQi7QfgAMO0mlebuNTfAWLJSZx6UOA9GCWWOfzv+L9mzHyqoPAY+YTENLe/O/63m9j7qvh4IAjBGfxC5+Ao4AAAExQZoAIoAuYTwEGqA+2Hf+AUUyc8/wR83gDbuRm/pYEkEAvYFWaDdhL7ZgA4BgZbujQgvexZWxsOeO52unFg5DBYcDKgqbFHzsLe+/AgggEfDEKrrMbpAn8B1lgQQQQQn+BBBAPhGw3hA+biMu6wAcCxqvQU+W/x3BQez6K2bEnQDJDINEyWSY4mafOl77EZz6Qck9ZN4eJkwL5zWh7fT75p4S+CE/LxWP0r6Sr0QadTARCVqJl4yi0BeLgAX2DAXZicF+s1zc34ANw4UZmShLTy1tnqA7K2XpcSWHBqwRvQtSRqjwRH/isACwxeq8YzUpo8UIO4v713/ezVM2G+Jjq/fHu3+WCdEHOWaEbafZByGQ8m4peimEsuyIZoSZmRBgg+JuiAE1KcsmcqshmJDAZEAAAAHtQZogIoAucCSCAXxqITXCCXuXfgShkQD9KE3/+KG1pgd/gigSQQG8NzUwJIIAj0DACKpmEx3Y3/kAFk65Lcg+usAGoBp3cw0FJ397SpKJRIkn+CyBX0o+FL/dZ6IVpCGYjfB/4Ux0ZgeDBIqFvspf+4CQYE55qn3DA3HTmkqBr/ehp+x0ILi2IDD8AFmTVduo1NsHBgORhnh/vqWAQjoor4cgc8994w6eqBBBAbCbg/wGGdMKQEUQI+OgYQAEK/R3dJxk8d/J03frt0E9oNnBAGU4Dht334MpAuPRRb/+kCAHo8Y0Zjgv//cH82bA34PgMDac355/vvxe2zZm3+D+4EkMQQn+IESYQeB1yYrkwCLEEjxw9C8XwCL+8+/wFtoSKfkI5gAI29xTc/wHP0DYJN2SU//72MbvFWdBoY7+D8Z4APQzwmuHl19MFA2BWhjctI3F2nvgAhDPQWzl1tE2aIYBFKANwtyRBR+/IxqrbwGLyVvSwfBgpcVCtICcRtchQ8BKLTiQ/30rwQkv5n5u7vLPz8Lc1BsngjEL8dQrYec5YWsUVhpFPFKhvstcDbPK2XUIkk6yjy3AeoUpXIzg7hBMxj841KWPkR/+zCboZx/a77ID7c39wNBXKrrSGJQX/LCI1I1yh5Lv4PwGRAAAAW9BmkAigC5wUhAX2EMlwwkWB5P4IQgWihvvoDBEf4IQgEfAAmnoxyGIL6v/QAHZEx+SZoVyf+HBhM1sokssF7BL21l4Z//3SyQqRjEJ2g/8ZgAZqZnws75bOINkJLuDD98cxw/lefMEp2cBSFYXGBzB4/NT6EGCAgAKHSaVZOomN6QHBYqFFSW7/cATaFSuZirtAfqXkmQ3f//lMCYzlOUt3gbghCEEJ/4jjHd1j4dTAPRhkIA7aMgl1/7AsHI+QTuWT//O/8EARdfv3qh9wQhCCKCEISQQiDT/giCi/gRK1nv/+CEIGsIAHDuOg228h9/nABFYmQ0Kx6vB4EkEA7w7PVAAo+EM8TuzzT7LH/MS/0bmuaTQA5lBLzZT4iBVh9YmJkBDQWYiWCLf+BgXEDIdsagNj/2CBFs04DUP6LWamo5+tIGQM7736vA35/xD6uVgj5PgAgucFH5kL/gIawPIh5T1YIAi5+g7CyX/gMeAAAABMkGaYCKALnBCEC8CY9nfYfAHgQQQD+G4aED9oPBN2SEhoBr4EEEEEUCCCAV4AB3GHcEYJRUa8AYvSGhLgqNEzGrl8Ih3/3XRnqutgpCAzPuwVw01fw4EQGgEPeKvWvNEHTfBsQ4XH+JhAVxkTI3auog0BazGwnRr1uYtwx8TZp0WjKNN9wgFg2bCpxbR+2+DDz/AgggVKgReWBBBAXg/UQQn+EQQ2FMACHr/q+//4BOxRmKwIIYcZTHwQn/BBxMIdgYeQWoADhuJJKjg9HnBBO+cBKcU1I1dB1ChpkzP85gAhhv0ewcOi9Sc5f//XwGTTW00bNz2Bdq4mIwAUgyC5BLCGsvvgaBCBhd6hLB8WgyNn/3vAUT4tiGAiy7cBI1wyCcSIgjEL9whu52YzfMH+dYDHgAAAUtBmoAigC5wJIIDR0cGAG2MYmtwa0aZKOAXABgGG5uu9fGdpjz5gSQQEwCu9GeX8CCCAJ5TRB0viK8bTByDofgiP8CSCAIYR7NgIWXoZgJsAEENpoCTF4cPD/wcPE4a904NhaZekuHkoPiSv8ZbtM555Vo2DoMHUMRSvWaFTj4n2up/QP8Jf4Bu7aYHDROGG7Z1izDWi4H8SocR8CCCAtsJsCKcYIT/EVS5/P5/gQQUGjKY0KmYIoEEEFRMEmWSQAuIbHS4dTlqiVeL4YRpERJuvfoMEKm8G4kJWqPhv0MUI+RsMCI/8VgAJgLQL90qdQwbtoAA4epI4k6Szf96kRCYxIwRDGK/D4bMqOKVjd8CBuLVDplwlz/3WJiaZYNqMNmDWRrJk3feDfxEFxQMKVsqQWtC+059ATSUYy4K8T9X/QYZmcCX8EgjgMiAAAABYEGaoCKALnAkggNYDAAsOIvCARn2Bu16SP7+CEIDuBH+HYEJ+PoUNgD/jU0jgj8A71k1+CEICKjyOBk+qbjgwcEIQgighCA/LKggACbREtGYZjgXeB0Wboop7/3NZ+qrQfAgBugFxPeBr5v+O/AAbW3EUzMicgGOii9TCW/zoAW0BcWJIJe/ODcADAkZJJYh+8HyFDJcl3ce28GH99UiSKmhuV/3/n+CEIQRc2Ze1O+fz/BCGDbwypgIhC8EIQ4KQgbjwQSguJFwBsALCW8g39JqGchvaWrnZ/wEn7N+N4R1aD87Mx0ecHSD8EfFUDAA7K2+SNoh/TkaB/HwgLxkLaAF6cKUH35gRiXiYzE7gT4BhwAtJWNxOWuwH7ADnICQaOfzAA9xNpiiF1wEAaZehoQTzf/+7q+RY7SuV3Bwf/EQAqJChSkZz5wLdz/orGTcF/vVRZsqDKF9oaYctq/gOyAAAAH1QZrAIoAp8CSCAXyxBI8bUs30CQOzI1ASQJIIBfACXRLNyXd8DQX7RS0pSUN/AAfR7QTCpZ6wPGABUU2DgKM6SioWZEBwfjOAF2fCR3QHAsZDgyNok1I6+IxokAJaGR1GfiC1PIcHj9yLCINyn7wPwAZjkWMomJ/zBBAHyY8LUjKxZufyyE6xULSGLPB+5H0bB/wIIIDYSuUxEesCzIEUCCCgmCI1s/jvSxtHMYH3IDCP7dDGWy0e+Pqs8AY65N7CUzItJfpsMAHDIR13CQ976psAKDTUEliH+6Pv/9hsLCsBi1kx+4IAeyqzQhnD//90Cx11dVHgfz+f4EEGAmA65Ec6/CByWAhP8QIz+fz/AkgoeDnaTLmARQIIKOJEi+A1myeOZAAD0Hka0tcjz4HOYMWbogh99u8FnABaj2mQQf3bsAKIMiqcTPs0oWksAHGAeGskgOx6QPDUdRdthDf5wf/ilJUklYMoAAQAFuAPyKDzD/9oZC/nI4oGiiXYhOKVeL/RNYGSsIMCnCDKv++Gk9WCI6/CkFemPaeBI7azwBJuM0jl6+K4NJ/A/ABBzOjLFtSQ77vC8oAAuWUwJmnnlqbmj4+mXGjB9OvEQAO03EsfRF74FgvlyioxRv/87EUJuycoXXv2gyoBglPJAfpB/jSc6QHXAAABQEGa4CKAKfAkgg4EEEAuHjLIZDP5MgjgQQQC/AJn6v+sABLiS86kEx7XfWYK4Am/ZoXY0fv91dHRwnZucCAOJkwAa9mgCQO8g/Mj/EQTQP/51pJ5/vFOpKDvG34ChC+tO8qUEIpo2DDp0oEEEEEJ/4IvQgA3AAKD+k5HH1+MC9LwIAIXosM6PuBBBBBFAggg4EEEFwIIYgiP8CCCB48ERRyYwJIIAjyUgAI2E7RKdCYpuUZFbACBzoQeEahgfJ3ffzpS7xAUgAfMQq8jSDBO1IDZmLw7HI18DQiDVRTinOvolvkj8f/4ELXZ4EncMjCy67ziATv4AH4O8M4dzD5t/fne/Zmw3qnc7uloxikBezWB+lDEiCUQAh/pK1XwR8nhxpYm4CgAQKdzFhZy73VmXAj2PQDCsi0M573fB8UR+A64AAAB1kGbACaAe/VKvL2BAQ7xcAj6op+SGJPX3x9iGw86TqXgAOHUM1uBAQRcsNw/A7AXL1OCKghCAQ8GN4PmqYB2e8GjoavghCBfDUAsw3ySAuMPrPBCEDQTPDewApHFmFHoqmbmeTjxnQhkIJAAeDrBiUqpY+zRJ/IUUaHP0bkeAnEOj7caoobpdhIsghuuLp4GwQhATZgAFfR2FP8wzruUL/XhwsNvs4aeAAMAXzqp+YTjX//3aIJkMkyYpzn/9B+F+TDc/zgDNxdjkELZVGCnghCH33BGmkIUXEqm2O0qlVR9/kghDAmHLg2S5l4V5NQn47RZOqdeJnVNZYmssbF2Ni5z/35OTEiY6mOi5lELcTGxXfwxdJ/BDwiw+zgk68nGR8aAfdDH53if8I8ACoUgqe6bjC9I/YArYJv2l+QV/jAgAfApyUqjoMf/erQ25/iqRSJIkGmWCmgD/XALhck40//53jIAVJnAiHcnaCx4ALFCyYH3zrvIgqIhSEG7QYLx5a+joj6/bx2maJx7oF4ADB2iZGpqr8riQWOKzBJVxJ+/3v+LbGt5Vd1oA0xymgztP/9usukH4mSVEyT4IMEX+IwDf5ehiHwgvdQQ1Waabxwf4hfn4DqgAAABVkGbICKAKfAkggNwALcwCDuqa9qHuYAQAzsMXUDynVZ/IkBjAkgg4EEEATjUbmZoZI56gQeNqnhjUgRH+BBBAM4CRnrbAapGQyjcnSzPAAGekRhv0MxytSAdIFcO/t00+/zuGAPwFetdXygrRD8H5mZzo+8BggQAMMZBILeU57/cAAdUK2JMQoKot+MM4sRBZYn6vjuFp/+mQACFhA8orSNhsqugCKiM269qF/ztV4RPqQfE/xHwIIIIIT8vFc6iPCRyvpgi9RM3QGARm/jcvLwNMsmPrD0wj++/iQlUiA/wRPSIBb1vI45wIj/xXgAOBm3A3fdzI39DH/+2qpSpJ7QF0eL62peY//YmJow8vcgl+GZcdwAQIy9S5pJd8H4i2A8JY8DL1tNecBoF2HE7td5iMj794ZRs9VpPUN7Cq/wIF77U/4Iwp/AK02p4f3F//xKhzrAdUAAAAdRBm0AigCnwIIIAUcED0ADUBgmvIA19KAB0pHXazC2z9wLK3Kp1UwT/+d2NEpEkkKnAkggBb3KhA1PwH0kINZL33ACOkWyObHlPTB4IwgnxBNuwe0//eJQwJIIBE5Bb6MOwgz4EkEAT8EmgO+kUgcPRJmCKBJBAKmAAIYRhxJj8fMUgkx46BIZ+3QZ2pM0kL/fT9377ANEAaQPF6JZP++XhfK3E+BkGHEBsE2SSg4+cC5KAbhfso5/fnZ0U5NNt/72oY1iv6gzL7wf4i4AkADxalzzfnaAfHbWQ4hLOLP//Qfz/AkggJxh6XfAkhiCEQvhDP5/EfAkhAsrKYQjJRghP/NHBO+UC4IAQm4efEPZuawUhAXGDMAf6wEoWckos/37gf0BQSpJJe/ODAGDWEtvsErW4Huma06cgRozhBJmxSjnCBpbAm/Ae1L/DBd974IoIQQcTGYADjIIm4a/FchFCfATbwP8FgQAFIDNEgXbzEoVSx3C+9+QYYARSYcMQf1G7VhFyAHpkyOYXdFKRIAlbiE6UqoUh3l/CQVMwiFG7X/iIj4AWorDVkUHCPgGwQkDfKVkXGM6lvmsCqUVP15DkC/37zMw3XnF9ZKXveGHiMEZ+A7IAAAFBQZtgJoAlcEIQgk4vwCOaZQX5QXhiD2YIQgM8AItnBMdyG7VQ/zervXAgAeCsEv5aXh3v91WiFTEIzLtB8Dv++lR9d4E9CzjxkSrib3qCEICuH9Nro5NAc/Cb//gCX5aef4IYIQh8RIMEBhqiRCQif/sikfGJnHxSDwPCseKeohgr//7hwADAlSWSZ52CkIXBCEH/D6mAi8nNGEx8EX4IAiLgS+gvESTYBDJN+EXD34J6xSni4AE9W3xTckaBsJdvc3+dzHYdVWWYanfgZDkA1H0goDX0gilCqMJTPeeAdNmkSZsifgj8PvA9GHohyvXk/xSr34JtjJYIj/BCEB+4i3B+APtWNXiQx/PBzqwQDWiYMEh45/CkABOAfwQBERDKH8T5Ah/+doAD+6a/uf//n4IN2HE+VChpUf7Z/Bh/AIfAAAABPUGbgCKAJXAkgg4OQQC4Aym84S/z/4fSjEC2QI4EEMC/BK0A/DgAJG0TBG9gKaFJOiYzYGoywRBGq8Rwurcn7f8SICOADJ/lPr9HWctOgJnM//DSCc4iJhF104Rv7yoYAHX0KFSMIjj1oMCUDFUZFa+7IOG/8/eACUe4kt5r3u+FF/gMTTrB7//gQQQBPVw954avOBoIT/iCfBGLPSY9EUk/dP4EAELgPcOkWZ86NAhB3AggoBFjAgNeDylgigQQQcCCCC4EEMQRH+BBBBwJIIAl4dwNwAEBe5fsChYpBBdo7BA8SIH9gggAOIFYN5Dl6yT0efEu+CYeya8lw4nN8SWfg9eAECnUSB5W0eHhz59DF5/iRBMApc0tRgXgj/xH1gAwDjrXXczfXFRx/7ckgIWLsU6aZKpx5QY3+ARCAAABPEGboCKAJZAkggJ0EASeeSfywIIIBcwQBam+RRBEE8BI9ce//gDuZos9gt2rYEkEAQ8MpRHYAO2FBojmGcRDALHYjjVZ40AxAoo7GZLRwTgwNf74OAi4wiD9OlNIe8Px9gwAMdzuNJpD0AMwDkOdQ4RbQWJzr/gMrdd0AeIVhxxFiLFf1WGxxWGBSG/GiTkJqFzg/rkm5gQD4EEEEEIj4jJwh4yYuZp4LumYIT8uEQlF3TP8IW3IEX4iK7BgAfE4wAGwCR8BZJ//9wADjQRVw2pWbRCRmBEsPWtgiHSIInWlY++xMfo9UIQaoO/AAdADYDmed90+Qps13hjZYWmP8dGS8AB4gYsVdVKLY8nmP1M9nMgC05GB4EqAsZq/D9t7GrqoD/iQhBEf+IxiX0qnPqQhZ4Ih55q/+b8AiEAAAAGRQZvAIoAlcFIQNxsTYASOiJl3EqxfHyI//YKQhwQhDCb//AGJu7O3+CE/wUhAI8ADxkLop2MhqK3fW2PQSNghI089Nnesx7swEHERriLRzcOm274PgGMS0hOXXlSeYf/6yWlBWkKU9/8vGUz3/rHJeEWUfBQlJjYdbI3VQmYXv4tYML/govyyOjCVxNQvwf3mbxlVxdSvw4j4IQwE8ZmgIcf45cQ48ChgiiBEkEIYNgNZs8g6N3TARYjxGE3//8ADILcRTH0TBDL7PLjBQP7uP/0v4kI4OmZpgeVkd3h7gI98/G/6OnMER/iQiK0cABMTHFWgwpBI9FhhX6wh11fIPcRZ4gjfrfbfwQCRmAGIThMVSXywF7m69zoN//3S6LIhInaC1wBQoWSg/DO8MjwTdq+WAhUfICEMMPwFw/gMIZzbxdkiNMtADUQyIcKn84ACg6ZJ3krhKf2A5FLNIQSy/+7fu37ZtoPEiHDAAOABDOyBif/PGn/+5A1QUUfX3KsMfMSIgjgpCBKclfIv+dYBDoAAAAAsQZvgJoAqHJx0zwVcluMhHwR8sZBQ2hAOE3//8ACsm2iJMfRATd7ZR+EATWAAAAKgQZoAIoAlcCgERfAitzgF/Eixqk/3sNRoCq4SeHTx/4YBAIwHUnwBIv5BmmoQEDiUo5awFHyD/Bhb/BJBAGQjgIn6OT4ANMx0mchW/3twQD9AvOlpwNIGWB//wBGZAfETwAoBhyCBnWiXXzIrDyfBx8ISstt5YAHj2GOMdKu8/h5+QQTOCEnnGv+DDAAcc4kIsmGQSdJbEQpwBglU0l9UMi029u8IMjjBXVOSlc2C95eGHpjq1xft699bdAQChEDj430S4qhY2yeBgAa40MkUdbmLQGh2gjVKnzWHkb9xAALAGFWWQnJeYuld8HwxlUrDFXIU4ccKf+DDp0CXCIzF7wNpPgRxEL66vJW5rv/wfdaMkGzjRxiQHsLNDsjVF/73szhM/djCYwMPxPDNQZrUB/WgYiTc1IxCheME0MhgnATi9mva/hkICfwBlM6MxHtfhABfADvy9BBu+MIhA3gAWmPY9JSuJ6vf/ghBALgAYR5KZskNVFRZdltpdrAx0vLa2HeQUY/cvtqcuX3wGwb4JCCKcr/80hzqhsxIOAlhM54CRNS5dIAMf5ijv5qdbA6JWOZnjwRwQiR/D923xxjcGcCvb24+mvef4Ai+c0t9Ul6Gg62JjMAB9ohOL845DVoAAJlC6ogqyHW08jQQoa3c27S9ojCIozQNEMHR74kp4ivftCCdRjfcgS+K7rfuD++N/az12vBlvTz9Xo9339dwxPWy+8DLeKO/wFJAYxlSNZeWZv4F7gBmJaCDYd88gJEBIbZUICXwmjeh4gSOhgIbQiOOmUGMLJYAB4wCQWR4LrIwMZk732wiTEWFUxnRtaRABaYwEIDfn1/3zN4CgzsBBf79m2N6p1d1DDgkEeFFb3/fhkcsyezfBZnZ/h//AIfAAAACXUGaICKAJXDEI+ASDqjD36wE4HFVg5BHIgOtBnHS/ggECJBCHjLfuIgRK3MtX7fgJIQCIRwAG0ZmgiZRfUpIAH+0ETOOlzGjGAAIA/B7BWrHuFaBl+dAAfCTi7iq+sJ8j8ABOkaARQoin9vlP2hu9WMjAZAhhj7tOemKpFff6BiDAFVFGZDYkSO8AlvCk1WIIMmR//aAIqDfKDbKLs8Mf4MZH69t9gFlenI01B0FWnCBFZiixe+7ADMVvVj6xgqNLakkhog/drQ8EVRjri+JJF4GCQJ4AEL3d338AkFtIE+j//xIzWw6OTWNWh6dvVKQz/5tV6A2PLeDZNkzTf4BIOUEZJJMIux2n9IkRIttMa99l5sGvFStab8G0e4DWJ+9ol7XhW5HoZhP2B2oGMiG8E0SIJq8IXgRNx70wjE/HjMHLl+AMJ7LEI99Xm8AC/hMpbejGO/2EQgLgAWRS4je2iqY//cAoGLtRzjkVRhbQv/qK/Svz/4emYVytSxfjfPAHQXPPKUEdBIeQgVUP0wZ22ICA7wK+B0gCQUdroZ3//3TjIeIMMDVP+COEYqAnX5gSy/x8AFpffiAp8ABBsDwRFwdwlOsVTwAF+kOW9UKTXsitjgvtSt/tfiqSUUlBoZn4BiUYtPOPyl4NIf+ETcOOGzagPojzZDZ1GXSDUPIVaBHQeJggxZ52+ux7FUJGd72f7/jI78dDAAtiyqiXJ1du8AB4AYZiIC04YUgSEX3/Vkdh1yvxYL4dZpsNGYJH7uBh/bYyu4rdSWsl7Qw4JQorTvzam8lkzU8+H//gEPgAAACukGaQCKAJXBxHeNB4IAbT5KGPqh+3LT16a8AKuis2L+5M0cbbyRBEQbfhgQIh5F4HXKW+mUg0QJOEcAB5sTahb6NYoT8AA4IcvhGq9j1ujhoz/2sARiABiBj1iMwq5M/2gAeZCOXrgIoay0/9QANQuOsoVJ1978cAC2DheT4nBDHqgJjz96XVsJBJWutBMMAKWk2ntf/OEAyJp992+GYEoLGkC8WWKv/08CGuhOnM7y8HwEIhSsy7SXBZ5/BgkCeAAqOklLCFpIQv8AkXsRk7b4RG1SDJu9/DAKRkCQBvBjOV5YvLKhb9B8A+EyJsKxBqkGC3gwJj9beAA+EUAyU75kuBO3a0JAFGEJlUQSVDZHEef9uMlRSUaTE5B1Wg9xhpCAWA2QW01dCu3an/4JZqxVRnt/LvW2z47e9t/YMOSIBwEYSDHPIh4Att0wIeQCI/kBnt4cEWCAf8JA40UD2fGIJ9GGImfocagj20/4ZhDgEr1/zve2bbNbdLwCOy2E5tttGaTp/m8ADyUvo1NpBOkXsIggGeAA4AQ7LEzQRhJ6D7xP8ANFNNvz+ARVAYNqN2QQ45ldRq4BhTHiO3xLpqBoZb/4ABAABAFcpgANFlVZIBs3UAYD8iEIpHOKUQK4ksgnXKKB+2AQIZd4QIYJ3KxkAHAgmpLihNtNFHSP/bMaqqm7/4QcEe2kTMpdDqlZjt4GCPBASKetpjjQ14H/x/uqe4KRIy0KEc4EevGcB3hUDjhQ1JDV2AGIeJ8q9bLogkMlL1n7fuIbiZpMsPhkjF++MTpimc4RLnt8A89qND/+Pp5wcBsVEHFTOh///kCFYpEjDcN7CAIR0MAOJR7oiJRj9PKPCByWB3o/Zrhuooqe8CMQRXIm1rxZpfcBh36XuTNB3jxo5+DD+EEQo6tk7OCVRteRhhwSiOAQ+AAACdEGaYHoAlUEAg2AMndpj/tAkewWjXBxEQhsL6AwfOE+dBfenyUtHglwQhGI1AjpMiJjdID2Ik8EhrLEuhukAC2WmDpBeV7E9gAGbCIijv9wjiaqHARoB7yCQvSfaiTT/vezM2DOpQ6XvXoAhUTRaLVKG0XwMBRH4sRjJQv0Hlfic3CXOUYIYgGJsAF+J0IF/qMe4NUj70kffTCIkKfEYDYNEk3hPqQFP6ISPTh0mgnpcuT8xoDEmmsLs0Yo24P8QBABNtqwEg7DhAHVwAFMBAKXUlCvR7MTXf9ygTIgxiigrjTzDsaSkUST3Jm0JopeyLZz9xs8z7f/AAIKzRqMfXjgokukK4Z7cGFZjl2/UGHR2+L8ADC8lb0twAVARKpAWBQ1TTwCJkNkOTuMli04IAwCnCJia4L9oe0bxbNx7/gJXra9xchSntN6eCHEk99M/wiIH3k5pAZr3F2N8Ru2hHezxsj+0gHD4S8Q3zf8SL1FhZeAH6yXiR8bJ1DzcPhN///ABBeSt6RhEEAz0BoYAmQeBdZscCRX9/AAM9JNnoLK+wRAhkKZydet7/nHjdyhSdeEoutrvAAIdylJ0E6yahAdzSh6CoAqpKAzTZ3cB0RduADpwBBkZ8tMuJ70FH/4PjYbHkoYgKNFBhd/+BkAJ1J1hn40M4qSbv7Io44R+4BQEQFEswln1GhDj8j//B8IQRwz4KY+ALVjShfjmsOmwz5i8D3F4ERoJEk+MP45caXlfw8AaG1hGs/hGO+rTSGn5FR1w/iJGBqQhR0RIM80dRZb+8DhxaKUxGlZBshejG7vOtMgilfPDvT8EoDnPkWxugd/gE0gAAAI9QZqAIoAlUEARFeCTmLpDoHngouQ8zxEEsDMp8dTpZqdOgSxARGeEfdwBmoxgXzH30AFcAJEUsuMa9VfifgAGbCZOUX1EIa9XWDOFimt4r4DCH/2E+MG8yoyPfBlsXZVfeBnQACQ0pJ1ROL8AjSTBkPnAJf1K3zhl4CGvbeCHDJsACTfESMfRleurZhBVUk4tiAyM4BkGmmp4tEBhE/7zZhlVSj+0tLyWhYuEXFSnXA8525L1ftKMAAQCyigneL5kECL4BNwAdwEljZwNJfNxpUpKfc8j8ZGGVqDiAfGmTyNIeVMwRgY34gs+jAx9+AUtD8VCPT/rg8bcw1KLaWpO94YF+AAzBAVeXhytiVi3AA8hvTOISxN836FIZCIYjCEYx/gHU3UCr4gy/+4KBOU5uIe6jHvAlVMDfPPfHY1t/ngh5LE39Q4l0QYmEOEahpZ6zs//5wUMgdpe1t6dArypvgH03VOk9k7Jws+EByyNYLfB3GsDE/+XjjdNBmIi9XiDvwRPGWwS4aQG534REDPASiAvcI/OEN+GX/fIBAhEFiacpQ5J/2wfHAEBz5cI2WlnoJln35YAQAbphLQLb8NP//1AA+GWwI56WmO64GAOwIAOqM8PrNbZiEgwEjXgf331wChBIQ5TYBLwAQWoS+xWuSf9/BgkCi/4ERbp5//wiCERD3jZ4ZtlG234/+gGzAD2u3pNnCI749BVL0xly0WuAPmEJti7gMHSP1pLB/ahU/jDP/nhzKpR0ApvAJpAAAACQEGaoHoAlUGARHeHGucD+eUXIUDvCirvygRHQTQwCkFeDCWYADRgCjyYeWgCFwRmE/8Mq2zOzwA58r3CKv0IAd+zY5S+AvifEMFyBCLCaf+DR2SCAFAngJrIbW/zasnyU8DdTYneCEJ///hHjbCAKRkDQIwsTR4NcaTGCk/8GCMNKg21ZdSbfv+QEQPUqfopCvQuRB44NCWgEPe4WSf/neBow64SeYCu1uFHB30hSGDDvaLPN14DYDWsCMLE1UYVPAYM76VQZzCCxL/78QhlcwWKwSQm5P57wUDPAATSZtCTKdUZfECoWvtG8Mm6/ewEUOGGLmoOPGJr3FgSDxidKecJf/tQOICVcqCyKKKhRveD0ZGK6hTjvEo268DcCSylKQUqZP/YIAQvep9na0zBDCMVgHgwxh145NnpiE7AQtt0UukwRx1/gpGQQwKI6KY6m74CTC20x0xxI7tSvfcBEg5aefFjlNoGa0pArxKVdueHf2vfgJ+AvLWMDFMVM/AlQP0JjCIRF8NxmLslnqwdINpYS3KYoRBAMwUAx54gQITY2rfvwSPm4BBiEEy8x0PBQAZvAYBR0mgEzw1veA6T2xQqy8Kor/8AFMJYQ4BwEIX6G3X6xVCYhowiB3uZiVCkVheQvqDbzYyIiN7/AKAnwmQp1IYuELViAobqlhVSd6AiGDtnxttkFkRJ395m2Y3OflHaCQQvghCAiBVmoOmNZbyM+boA6e3p8f4RCAi6bVsvw+1b21LwhQwgdET/m8AmkAAAAh1BmsAigCUhPAAiP1X9f//AUTIg9ggCIS8BnZwRABj1+ya9BV/+kOf8PHODWXQb5pwAOAjAUfjedO8EITwBqJWZR77Xwe3/A/7k5YwFQCGwm4A2vk4995YgfO58OUdyHDluTvBCFMBE3ce+DErkl3Puh4QBSFIAjIijzbmFm97wG+nkaHlTX7Rh9S2HsRiCfs+/2N+szrjixACANtgwhHwY6gACAEAAm6AUKR4HDhiDvlhT1gBSKAgKC1EBda+nvgbAAEAMAAQCaoAAsCsvenuIBQMwAEADEM2oksTBK2ErEdlYAVDGOSSl5/z17AEARcYOR0+euYKDcbpJlUvwBhGNAPgWXCD99tDCjAKSSWChJW80D3xg7CyQADAGPfeG4ABEODhCjLdiOD3gqKyAACAcABHIKDY9dTv4IT/EgpCkEgKWsACHPLAaF3u8GCkmzIIFNyjW94cAhQWGY8NCYNPeCNwAOB71REUf17wJQJI+DdOesMLe/8ErgFSLAKERZ3w+QSJgfAY8CKZrxhCmskSv/wYcds/4gXwIhLcyNfTMWxDSnA6IrS2EQQBTCoANBA8ISZ5EIleg9oLyUt/fvDOQQACC10guaLr3ghC9KMn6UlTnAJEHQKCyxqJRrdgFgAEB2e1DWPzQzlUVP/NocV3/pH6eJTXahkvbkdgjxIiAYBqjDjj8PEZ3lvwdMayw1blv9xq3LL/fEL8QuATSAAAB5UGa4CKAJbEQhwTfM7BL1s3sdFsfwGfLQ1E+7/QAAIjEsQFMBFCEVHaAJFqRsHFiOup5F19gESEAgEYVjQnHqqfAEALDGvKcS/OAqDJDhGN1mh4WgfxiZtMBFgJEVgMEWclkEVzOQD0RWF6HNMtR5o5wyEPAB8yGwaTfrO0VFuygYHz+Udz357ns/G4OG3rc6VAycRlCp818e8AEVzgAIAJV0BRheC4lCzGIIpe+9xAEAZRAGEQ2gjPaQhxLTE4B8Ole2uYMAIQU2wyhCEOGCW+WAMKmQnUTPQwgAEqMm0jHn/qoLIyEAAEA0BMZ1LDi88KjBgBgVDCptl7wJxNtQ/AAqs1Ig68COJDIyE46FA4h/I6X/z3hwAsACBVdslw091hOANwFAfiFuDz4eG6hgQXjbQ+ueHDYTUvffz8BWLCfKF1s/jzv1yMAbJih6dSF8CIVq/eJO5+AINUqwtc+aQc/3d6gxEC+BRJ07xpoFBI+jEhAZhsAJAABADAimSAmOD0BRiLYvv3GmYSKX7wfEtChGdC6689cDAHVM0EIbJ33h6xl9k5cY5BkICNNyyCMVc7CHzHVmIbTqYbDAf4kMFgh+yr4IoRCIi/vp1bNmxK/O/z8zr/EiID1uW+DalAnERqd4BNoAAACdEGbAHoAlXVi4MAgJ4AzNxn1t5oxrsmyZMiBgigoBiM8N+GUAC9U8/uKjBv1+m1cbcmfA7PrtkhgFAzA90BiJxEQ3B4ZEiZtuIJl788AByZYcFYQr+09oj/tEWwo9kUqE3/nAXxXRGQdQdknOP8hH/zvBAMCTHEvEdSw2794IoQAgioHzCp0/zNHDivAkHUHoEDVhnloptO9CtwYi+7wA7QyORXC/MISQwEsdXmy5d//3uamGfo4jx5FNP338XpR73iApBWgAD9AwSg6AwMz+7ArbIMfrwt7gFsEqBVPM0kp/xyRAAMAFwBJ1B1WAf1AxoUTg0dKCBvtgACAIAAZM+AFBBwMCwLGmMeghQx7994F7AltpCucLH/6gdgGAqqkHCfmKEif/3eCsAAIAFgo8kmkkZ/z3DAnIB6cXiTmCxh7v5L8v7SKjce8EPJ0Lg84lpR5neOJCAzh6ABowFeD80Aqcv+/B4mAX9YAghFNcq3veBwC5tGAAUErIHAh+94TgVkHlJEf76/AtNTS8GeUWJIf7vAdJiyo4BQGTkBEu/+/wABHWoBSBT8mSTQIMpCiCjuaSCDVwCGJdHE1btU1alQwgvUbkm1mAAOSYdYNQksB8ShQyIF8CRZGZ5ryf5gIzPT8A76yoUgiS3BAOwByMMjoK72GqcSybzHR+AAIAabAUqhV1owNaFTK9ZwpBj9mnp5sbiejLImwOjl4J1nnM/8SDB19mK9ewgYIoZBSMh2XE5nZhHt/TojlYCmtMLHHQqIRJbSu+4CEtv9D23DaMK/+DWp5ORK1d5v32o/8IiIY74D4g6WeJ7+BI/PwcsOkfb8Am0AAAAKAQZsgegCWQYCB8YyNuKLyGVj6rgso07Ao6Qdrj1IaTZSE3//hE6Tz7/BFxeAMi713n63yIQOvU/S/r3DAIBXwAHRmSRbgbiIX9sAAyca0AdWEpi7kDTQVrEJxlkse/5hgEAQjVTIMlpjh8TB1iAdKH7uQIuye+u5lREs5JhJvi1jH/4PjRAEW5ByiWmJI//ATabTk7oBw4AHlAHdTAah6Kx0dev3gihAHIT2sGg3XdF9MZdYw4A9hysuq5+4QBgMgacBgV2MdpCyPUlf//q8B6do5hdU6ph5hcWxjYCJqOgaGdj+cA6jUMilE1S0g+A3BynxQWgNewYamPwYAgEoULWvK3anWEcQFIfEA1gRzlrxYeGriH/vABh1qcvwoQs4q0R+mP4r9SZnnHHamnshN3CRmRGceDh/jX0QO9t7cmG5j1/ghiQIJOAnf2hStregKqwiCkZAHSA5EOcTivMWbwjCgojblcL/SMuf7TIAAQAQlwQCVr2wBEVv+DyABhBKdEiuzISIH/bwJYAAgAgL1QwXA6wpUYf/eBIQG2blYK+Q6qsM3/vbP38ASiAYQm1LkmCxDXwCnc665/gNZirauGkg0t/wMCJBgIXvCXqjTnLo9//Li+CM3gRbwI0BHv3vFRmx8ZWCV8SlmBHwQCOAQiSLBr8aP+bxRsreQfPDWOwQj/UH8T+CKGQQj/gLoMprUFYySY36H3fpyOaldL16Y+8DKDcycSFTygjQ0IeMLXiWfMQ6RU3YpjLYFZ4tRp1iawFMSt2tsEIZHQFRAFg1Ryn6IUeJf/g+CIhCIn7nhx28WizgF6NlMAdMzeEVG+goM/Rp1s2eH4lxRu3/4GHAJrAAAAjRBm0AigCU83htB+D6o7UMR8Bu8XYCI83Hlu776TccDmQgA73zTwf/uk/BLCAQFcPduwAMjyvn9/vZ7Gq3dCE3wBNkmjDQ5sUZvGakbkxkY5f/weI2NKp0EaS5v2wgEAhBTMLf9nIGF+kMxA8RjaSQWI/9DIyerrwYEjQ0C4qeNhhAv54AzRGTCOhTOUz/8AEYK9kYKGZMMZOFpaGCKIDIngjpjihYCrtgZJdyRAYGQAWAGGGEY55IkI2lJv70GAjRGRhPlIrsuCE8RnVWUVb239BTjC6HQhWx+80SNKd7N0relzRCHQuLUzFYSJ/fBgZtGvmjI+/39D72gI4ZS1oFS//eBBDtbKM3sNnewPIsQGBP9l7AhNPYbOeHBDCIMRUIuA4gePPyl98SEQpgA1QADLqYAEATk5fACwYkUZJKS9Gfcf/iDaWiXbwxnd1dT7IAAg1QIhV7TRr29/AHnAQmoyEBTNon//4GFqnZGjBK7KYVlKGqo8f5/Bl85OPgGtiXfRKyu/4GBIBHDNmJaGM2gUP/8R3hEIl/DINOajP8X4EoyYD9IjAAus7I0l/HiRIjGcgA99SWNf7fkMv4I4mP+BIzBWmX6NkoS8/+++B/EbEpREPW/14GBAY2I0q/EHar/sGEIVpqa0AlASIaC5itcUM/54L7pzRhN9zxkCQ0yHiKwsI4n9eFJwjmguPL/8An18BjuD4wE6mX9+kpNjfvkPwmnBEvnIn5QhF3Af+Jc//4BNYAAAAK0QZtgIoAlfJOLADIMQaqCPUTH676YOAgELU3Q3zJ7CuGHLd/jAuoQt3K3C8RzWGrbwTQQBgZgHTbREjD6MuwAQ59Ga0mFAFBNzQYPurQoplDIot98BIAAgBO4AYterNBzsphq/s7a9aeeDgNG05ltND0BjlyXDy5Jga+r+3AIAqK5lo0muBBxGS0qk3rKhSFCIP/94Qgva4gNByCA8BQwGPdCAEH4ti1bLMZd70NlUwvKJQ9zA/MhHfQxqcqAIOvGffG7qPqyvUyGmKTuZyFcPQAGeAwHw/k4GdI5hr+m0ORsYEUIAxBNh9WAZdvHgUBeow9Z43TRJLVcAk8kIAoCkBQABAAHKIvQ85Br8jfgj2u6MmYXZ1AwGBuVRjjuAEcKvoQKnJfNnynz00yHbwbeZs5oOG1GVwEALEigVgVVQLXh1sA+4pjAjYMGVKEJ/hFa+rTw//4IcGI+1hzJjAvtDsfKOvfvazuxvmH1sP7z9gQBAFus4t8WkmJ2X2wyCkXFN2W0kAoAIWQmdoUjYhrMDu4zCSUdJg2nPljrDCWHCLLEZUZVPaAAYRsXpRcJLUaO++RXXQYAOAIOQme00dKbaFCh/CIRL9TJ1Na7ff4R8AZWKMyHtwA7vxYqe0WI3XlF9wMG/fX7B4gIPsGC35JH6V33b4I4QDA+GAoiKcAEJDzkfIQC7Y//Q/AxXS5Nx1kjovFSYMFgSJHjDQl6b+wJdhPGBVFmEMcBACbFk6GA+DT02yHZ8f8FIZGQBBDupsQ3pYBKQoxYcDpxhcpPqSmmmWOf8Hqi9Zk8lX/4OBjXoezxUQ+pyRjrLC/7AS7jmKum+eIf96+ArzQjmPXIwaQkT1VosgnKdTHKcHSL1XGSkaPzQco+DJJrEhF8BOQ4aQAZ1Ktm/dAwShRf8U/TaA74f/+ARCAAAAKWQZuAegCVwYBEfARe8Ki3Uzxm/Fkvp++QFGieAPWo6hhnH/BSXgDAcA117Tp+AZwkATyWKBoSrc/8CaCgMDICg4YZ1Lag9qyvFfg+Ag4ymULkyijZS5gN/9qTEQKy1jkWm10AA4HRdaVApWf8aPHv/9t0KlhKdk7BgXaME8KBFnnG8DAgKQTb10KSbBP/0PjCTjqlZUPhQ1r//B8TGxSByPYEoONrMAZgBBruJbBRalpCLbwV+l00FSOJE6gwVvuAW0YRg6pSKRYVTf4AEVuBkyBZqSFeC6Q3ApAAjnfHBrRcg9XEBCn0lDPEFICpydXOZPBFiFbQ8vf44EhQJf+MQVcRCYgEDRhwy3mbMQTYMB0BlaxLyK6L/3fHzezbNgwdxSvGSVnwGSQ1fF4fsDAL1MxzQAUc0KbBRbDcZ/wQ4OQhWBZ0E5hE3ceqOUL/gBSuybCHPbHWNFRhkEIvhGcm0gBGYRE4pPsOUWW74CaXugH+KJMgd/+0aF3O5peUMd/f4TcACD677v/8CEyGiFJ3E9CQ/xMV4Ax6mNr21rHogHcABxfKzDdsHwg8h0Bu58OCOCEEIKrWMDwoHljURbcww9GShwZfeA0FZHMXVO/JOTLMXReHrADtBbExjImTVO/vgmzF3Z0ZdrwBQAzIApSRHYwTuSKnoadYIQiM8IaK4htTwNeEk6rtAAgWKBjcf+DCWLQRf8fzX7YMBPMmxPkKjsweE2aCkVgjCH/+fAHOp+LuJLHt8ABqtAFEQrmcB3zfkx1TUa2LoqoMAe0YI41xHv4koOQi1TZeW9/wqHiP5RzIfvQeGY7BI8HBmHJTn4viQr23hzGDKgzNvMFsxufbeCUKKABC612vXD7PEBOdbBlv//+ARCAAAAH2QZugegCVcngRN29YIIQo4jomgjI6EtI3r7vughobjWBK6Y392EJeAozHYNRJfEKJAqZmhXobVR4CWIkwdh9GVH7O89AUzMGX9OJRK+Etf+wQBgZLBKBtoezsysvuIfhgK0VWEJOdI/8GBs6FemIhO9+AZD1Gnmo54y7P9eAvIwRQyY8QiykirTd9mAfXuePvnvn+BEtxSpLVH8gLe//wfuZiVCt0FQpKNACwSWK/FgxBI1xYQCAQjEzupb8NNAQ0SrDMMfqtoaTxKNwEXCpeRGB1kFu2zZnHwaNyjN3/V4wnBNhgFPxhervf2swQhW60RH2f8v6MAeqs0b08EWGRPBikxglxkTx4Ev8BjCIRNwAqxRskz5IVi+U7+JFeAdponFHEoAi2nH8RBFEeEY+AHHLiwwv84H4DXbFJAT+1VrNf7wMBHVR+AIv7ndP9gQA5QpyzvvZGfIf+h4ZjIAFoANgKxHE+SKHNW3fAKAAIALoQCyJtCDD+cHgYfVk8TxDo7IDz7p/Ik3vwEQFixW/Q7GwfrB04ATK0aYrkXNeBgAZTKYpU98X/LYP1sTbuLqCMa1ALL4CqogTnLzf+aADRwYgp9RY9OBrv+wjHcMIWSAWbzPCv1noUpLvW9vPz+DObZH4CUKL//CLann//3FdPD5Q6v+AQ+AAAAmxBm8B6AJTiODAEIuEfe6AOatPMHf0NAAvjnPwYRcIAL2AhxDUMDxEMeTsucfAVDKQjZ1z8EVv61jhE4vuU1fYIJeC54lQ+VkH3gjwgEoJHQ6JEYZLmMwyuyJ+EIrKA5hme203ngxkN6In/rwBFw1ORq4pgvCX4SAxBNo0ItEm2p/CAYCkBqea0aTW1OHwG/bJAwLWuO+4wHMNbvvQwuGkpD/4MCQUQygtRRTxSBB/wCwSxx5Mmj9CuEf++gjjSgmF2c9RmAAgcqJEGxnJa1wIBjvOPuRODKJ+/f4Ig1hLqY4qj//LwDGOc2faCZTcWTGHPho7wUBgE19Zk/9b56IIa9EcO4Zymw1rtgQPNDgJHiaB3WngiwQCbAeOC6wNKrNXeiBbv/MkEEThKNDn5YreAErwKfG6358d3pN4IsMiYaFOoTmCZbJZtSSBjn64rAHUrGgejTuZZ7UcIQBZaE4nE77w9ggwRRIMRGCFUnqG2mlwgb9+JrVOwyGRnAbWgqCow2FhcpsIAXfJH5D5sa6bo9Z434x27Y5ZzxLGHHo4pLaPGHvMCRlxkhBshXf3/hESMgCwCjDBa6UoQPBlJgKsAqcAxAXKE6mfHr+D9p/W28DcXayQbzWEv1wEjrgARzeqB4cjwNUAsBSgOEnLxhNwQzJfdoSQ9eyo6g80JrQeQqXB8gQAASZg4lzM0h3LMm/9t4MQDGVJdfBPAVd/YIYzgSddX6SVWNM8qqzQeb8gQkrCVcNk1wPVvkLOfkI4GIW3MzXngBc1B/vPnDGElC2yqw8+H6A3lr02O3mCUQuFFf7/vwMS0Z2z//8Ah8AAAAcJBm+AigCUxAQNhKokDwDB6A8QICHgh/QaCYo3Q+UMEow+IEC48EQaDAE38ABDWJAbXRMpP5Y7RgdTBwRGHhPmNx/wEkRE+PHDhuDZXP8RH4AE7lmCMO3FGEu692vvVs7RfaTLSWuAhawDsMEXVqaXY77uU2MVGVbShOknQHdaNRojIn38RGQA7ZCd0evDOLbbTwDAuggoAyXPewrQGsiMMkKZHDlP//+vEXgGAgJIDn4BSEoXqIbG75h3Ui/P/g5mZTgoe84GphIqZUS3VLEXgliInhCB/QCCmVLx4Ogaq6MfQFfnghhAIGw0kxB2TTCRHiL2YLN0oIcIkzXk8fyx+nAK8IG4I2lnmCOEAgIsBjvsLYYfT1BvTGKYQED+Im59N0IAH5dbqN33wH2vWn4bgATOcc88BprmamDMAfVJId9ef+JEjIPDQFqZEem2uwD6F/YgpFvnAD/wA682bY4AOCkqu38w8a4CYSlSrIpAfDO/DM3dKbxt8hJ/TBhh6XLjfgAgi5RU4CqV9B2JtzCARHYR888iMI7IOR7TlkFvTXJpHdsPfoObIBowFCxdDJ2St3AYIGTYJgosCIt08///4BD4AAAIfQZoAIoAlMITYdQToJGBsT+EBnBItT4guynWJWyMtUXymWN1/+2qXPz/i4s+Is1Am7EpnzfV8ABAifqD4TEQw68D9AWvgOqZ0YhUm/7Ey8ZWRDqDqvBHCAkRjpjAPffn/j8AQkcaEqDqgxN0cuv0/f/8DpgcwBSOKD7mH384DBd0/k5gXCu/fB99t/8ZDKfW1j4N5+bOX9YPwVwAxMiUCazYOfASgSw+pFOIN81/XgamAiDxtbCCSH/cKNEpf+8EbgC/jjRTz1z/BbECnXHpCIP22Ewvo6HRTH/v//xOL5TPaWWplDJFqniR9D1nghhAIisO8vw/TUVlCCYIBWg4K2TFPES/CEEOCAVhdqvLQAw4kx4Xf//AHWTaz3+ewngAQ9199f/+ABfxZQ6nKaHqEAyEYaXZwPwJvweHhC9i0YI4QCAjdwv7AWH09WEBAzAAtmFY4jhatECzoJeZF53CHBZq1fOU0MJ/2FJjPTg7RKq74Dnz3znv03msX1h+NxzKyVcgXBiVuaRNEvXP/xkCYACTvgApWtAh6oR/4BPCQM35woeaRIrwGgJDEuLYt6kvyUAPAqbEzbEPwBRwI1FW7Cc4n2eAGAVoVT/6r8IG6mQ2DP62h6x2IraIejhsMlRAIkU/59IBgMjgcFb59yR2fAxAhnI2AXPGP3PAYKWJdV/9FO71TBgQ4QE95LMBsC3Xv84n4Z4Jgp/Pfsf//AIfAAAACHkGaICKAJTBgEC5oDRs8FAIBEAXj8p+bv/AWbRvUwQBAIdNr6wG7WN3/sBGs6EinmQv/AG6VmehZX3DMBnDwvaZnoHOfU0QOUZbltH32RIeRGFfjb4F5UT3nPtrEy8KqNhN3g5s3HwRQYCCYQcEDXg4C+I84azoY4ITbBajQQyYfk1BPC1Gv3Bh6jGjKj8D6Ags0SkSf4DwJTqEXBWGr/MEAgZAuxOJsa5bVLUALheLaLu2n8jxdR4MUy3SZt3pVqWYD5Wd1id6AgwBHQAoDTDFBFHu/AvNGaoeZ9V3/Jk/6Q+p/gIV+rdaE3ABA1X/f8Agrcdf1f//+CHEifDjro2aTIOkNEwkIBEJQEjyNeVF8zbqtzuv4dkxP4IcFAqTw6khiP+Ozx/hpfDgxlmyJVs0H72jgoCAuACKJkvMR8h4E4GOPhqqDB7g4XGXcMazMzY78wJg1hI3plOoT/gbAlEJIPc67xRAkTgb6eBccIXgxhEYXkicYI4iI+BM1GhN/YyAC8gjuYFV2il3P4IAgCr9zTyOQ8qYOrAAXANBXA6x5zoDcDioVJh7wh594VRPTmCJYego31rt7gwZzk8JXZ2fASAGvegh9QkYrY6/7/TrxkDYAVoESj3hVLlXvgUnYTkdwd4IZBU9zEKBRB/7l44n+m5AJQlyia+MYNix/nAAxThTUJL6fLzvwc+8Yq+2zS9TRCDau5p3/ueCc/AIfAAABqEGaQCKAIHBwGDcJSxsJaeQSwIAYNbjwLHxERMBgzBlWL8iP3O+BADA+E3vPucPZM9X/Aa5uBIRNMvOwLQAhJsm9b6ThHcAHFWtoz1ZLkAQBPrQUSP5YOAwCiC+e3j9f1vkyniO1wMLxvaNE/PDimZC6V4Fhy7o6CIrclXl4EqzWanIGZ//YYoIvn/k/Et8nv+Ih0vyo1+AjLn0xV7uCGJ71g4PwQ/bQd8c///cCmoaksJzm//MCAGB0DWIVbLYg2ZBRN/3wID0Cgf7nFkMrcE7xdoFEAC9L5lYKcCViXsl8cifghgQAUOBSS/nAefz/EfEwRQcBgIQCxLzHrPK3aNLnOkfMW0sRBRwJBtGekEBHckdULQAHPMMS5jmeh/fgeuAAEABIOMi+OLnAy9KsICBcFsufMKvb3RDE6+wcYwUH3KH39LDUGkl7FX/1BjPrXmeCKG10jaAAaeCSJkgAnx09otkre74SDSUjz0v/HwQXgB1AQacw4QnpwEQH8lY8hBVwI/7wNImWlSkWnHa/66zF4VHZr5zM7ikBHC/GYJ7L58VKj3+ATeAAAAFbQZpgJoAgcMBAX2Aw5PP2YG56gSwQCAlgLPYHWwsPh5AIOD4C4jggCARsoAFQUcd/II5ahaLH/7MhT5vSfeh1SfwUwABAHWcAKtNA48//aBoCRENhImlUQQUR/2LKXggCAKIBL0ucQQFMgNT8R5xojfO9gALQ50Exr7IIS46cEAQghggk8doTj4Ah/6Z/hm5uwP6Gv6fALRGAYYqEl8bWAQb++AFAUeLHM8cA0CpUYooy3SLy7/+8OE/CM4lwjr97eMDl7ntm3cGFPghCbgBEe67c+acHXD54QhU2iYk3CibMEUEAQJrkx1xPgAqoNSLiDyw/SAAropmPoTO6OGwGULCdhWagYt9Q5hOwtIXxkWmkxI4dXi5ZYB/VPrAAsDpP5amvwYJeSHJVwF27/lf+CrxYGtjAGxP5FbI9+0ZYApaCtqIFN/vsRt8H+20YbOmGtLLYnA1IkunQBN4AAAGWQZqAIoAgUCQEDYA/tTngdCCfggCBYCZkgnHC86B5znBJAgBDiLsBsBDGeoKAgMgC2vjfMCMEgCJepQNHKWN8AfAAElRwHkavAwAQCXxwhBUkVFPkUVw6bjn8FADwfZPEhx84Fin7mUhqH9+emAhZYssZ+jnhkUEPK47dps4MDA4dEe/4bWdg/BU7D7xhbIP9+4KphUrHYk6wcBgJ+7q8CR6WdPBSWpxYIh/95wOfghxISjZj8Ny6EXpMcICPiMAHof0yd3I+v2/WNSqW///n4IcFAnFCSkxMTxXJnkhkCBBFhARhmID6CwSvz0sSIGc1Z/VwAZ9W9WIChUoCvy1WwcQncT//2EWn13ZyoHLBda+mi1/rJZE1M8ZBhKNYlZVv3zDUM8dckQ9nA1MTCXlHh4Wb0tCT+c1PGjeWg/3PV3GkD/COESg9iEL8SC4J6eAs/wN4ULxxFKTfWPBYjPWI4ijPQQjJGDVVrh89Ec/BRgk5JMADC8r4vfxER4BcH/7xDTmc3hcTPRsajcJGfa8/v1nNv8Am8AAAAYFBmqAigCAwIAY4EAMCuBXMXFkdoVlfBwGIJPifgQAwKgAOT4fcnHK2/JM/+uEM0gjy0Ej9QgECwuAn1ZkneuDATeRobdHZnTGBTMQ4JKEmDH//eD/BQEBkGIKmN0dz36qw3//9IO6lAehvj/DGL68ZAAnImIc3fQCnhVOu2BADAnmj4sAsABOPa+uxpG91jE5Q7DUosraklRwqAQwIAQFY7jwI35Det6mEhEEHggghwwK1yYxS+O0hd//5k3Pz14iCODgMeIGYAFzKOjxV2X9gJVy+SiRx6GURT/2weSABkAuiWwNfSBQFynOCeoiRZ7/A+i8DYDwVSE39HJOfrfA8B/Yfk041Y5//9wMUbmo6nqU314MQkHaKwxbn3vGQDNGkNOpOzqH5gXg2zvVleXxNArQl1ayqP3/uwihIcMUxSm7Xh+DiQAflGPoU9/7gFgqdPWnUgfCOA3IakqRUcZ7/vuDvTXp0bnYIFhAEMEvEf7doy0NEVEOcFQtmq2234BOIAAABRkGawCKAIDBQIF+AJVW8g/vqHhhf8EAQfCFn1HBBwQBAXQLAAZmQSKc/YTlrR2wIMmahL2uKFlSQRwQCPghgibA2sDVmNPn+CAIP0Yhy3TZgxPMCJj99BGIT5Sj/Utn+ewQBAZMAwS+AYS/CQwzUAE7EcljtiUxT/hsEI4QcEC2bDfTGA3hCEtQKmf54AXDSF4a3KLcJf/474vM9mxr2CAQJ75Onvz4w2caTvBCgh4J+NIMVYljBH5HmlxL5/PwRwQBAVB10mZq380Ow8wouXgAWZDFLUSmwq2fgNZPt6r5cuToeCP/CcDbAIregq1pKGP/3gYILITbmrEEPzuDODnjht4gZagg+auAMbEjPIXu8QohWyY6AQL3WEQK2FCE3wNamVLAylLDDexGNPf3+hI1crndB6o4Uia7RukBNiCRM9j3n/AJxAAABVUGa4CKAIBBgCjgwBAEsBdWpFw6gAX8HAYCcR+zRpdfoOzgB1JDdGdB7BwGBcAD/QssTnEpdgy5kybd3mqSl41jir7RPTaY6+J7WcjkiGhAjiJI9c+uTBS44yzEpZ/x+U6+OS5BjVdd8CMpRGkvtz1eMSvg4DAyPhoFDxsBbQBBZ8hLr4QfsAkYkmXqi7OIZ3k5Vu7GEeGDAcF8dHPwQ8tigO1pmSIEicoQBhlycJHCkwRREIRKHZD355OeNZurwEVSU7f+SOwz9jw+yJxJoduNANiCcwU5JN3gAqwARhaG70hFwy/+8v3yZvL+AxI89Vx8fpFHUjAfmxAmCTkgTkAUvIYN8P19g/AFpLhN9m8If6AwsafPJNzsmPI+jYbrCQAEgQt7sHOukk+aEfYeJCAmAAmYhVbbDWFC9LsJB8q1RRAFghxn/AwEHADf2vGuPBMIXwCcQAAABVUGbACKAbcHAYF+EXFG25BLBwGAlhoT1ATjTAs7L7U50gQ8vYPf+8EsQX5lj/w6nC6dYOAwPmTjoz+BI899TU18tAPADOSsJWFXui+h9G2DKH/YNn3hucrirP/B4OAwLhfJ7KGn50IVuZ5J3bj4vac1MEUCAI4gTn+EBHxEBEzkagOb6NkRDEYANYmZgScK4/54iD2LD8ERW818CD/vzBwGBPw2kquKe0N0jkc+OCGJDAqGlMw6umK9M1SZ4nz+f8QagHGRcHiSYIYOAx83DthN2GG8XAAeYHgkJjHtpgxv6yIiR4DChPXT95tQD9MAp1QkoX9Bg8d1tY2/zm0+Rm9m+03Z4I/wK3mY30kuZbUlXEKngkhAQCKCJmAwl+C7nqOniQVf0kL0AFbQ1sGIF9Ud4AFpICSiDV5pOH/rKLJeeAZQWIbsMV7Ahwz8RwMUynTriIBXoAAABWkGbICaAbUEAQN4dhVYIAgL5vhtp5rHR0cEkEAg3huLB+Ox+aGskhwWSf8hNATo/6ggCAUjungAOAgve9BRUviz0irbjJf7P8DcKeTPm0Rc0DDH7oiJBVGmEUpX34MZZ8LR3ggCBuAB+iY8RRZUxb/t4IuaHZa3IWlPnJwVUPADxI+JoxwFTAIiwmtaSNGze+/ASCM5TMUk9om/6YKwPmPEm8e6AN8w9jeKXCbgAR3///8AgE3MHS8P//wQhfBL5ved00N2L2MzoWbj2IL/mm0smJgiggCBK4DgDsNMLxXgAM2RWN+jZ3RllBgqpOKT8CyD/voItBL2VzOQ/57wh/8whrmIWlqigw+Jtx4VDP8I+CRpSnhqf6AF7Q9e2Qiu/+9CRqZ8c4FItj/ACXkhhDsD7XiOCQMMuzCuRQt9/3wAH9jDTMIU9Re/e9s2xlvdVdR/WTHphyeMAr8AAAAFHQZtAegG1BgCA1AgA9d8KonT+BIBBBJBgCgJYB1bQJWG/y+An1tesUQJFYADZNuRJjXIuQoA/aMqCxHrkHhlsyL795/AkAgGfIK9wYwvY5pKyiAwwRNT4tHBoFt/h9IMiT6MCd0jXV/g4DBeyBoAla+M2bwI0kMQdQIsMCfwj4esYaVslmD4bpm8SSHtWDtxqf4mBfsJEpBfpJX/A/QceBZXn4IYQCAmKUmYpSZxwCV9WLvcMAx4YDMEUIhERjhMmKas53/4YnqRz1cSM+AAZ2WCIaSoht/wAFXMIkPiccyifnyWm35xJYpnUV8PNL/R2t3XiQWQ2KJK2Jh9rtO6mDavVt4RlaRpO8Ifm/TPqhscSrMfiwFw+a8XoAlVpx+psDYPS7AQXGvWm74E2GBHBTVLgE4zNMVXM1z1BhWxCWpvtYUd4YBYIAAABXEGbYCKAbMCQEC+NGWDgMPxi3zcAPGCQpDiJR1N4I4EAIfehQcBlhz/BwGB+ABYzCTXrm5rDCyCDlqBWZX4sXv2bYy1yuVSo1sYpIPAekR6gR+Qofg4DAybXPrwCgnmMDUJeVl0C8fdK4hQMAGhaRg67YV/7gAsyIV0kTBfIfrUa8JDCKIdq9g4DBe+0b0CnMEOERUJTh5PsUB6STOd8/USGPDEEMHAYFVKY4OGkljNf0vFTP4TwEPvfn/gAZFtCScqs3Zumtk08OCXiIAw7Z5r1/+AERjjF056vYOAwM8A6D9eTwVRadWTv/QU3Y4qeznufMMf40t+DEdTIzcKd+EI+Orzzk0PxqDlYC5T8I2OjS+UeoER6MjsRGcBGA6VLe7vOLgRdofMeACwSDzSYxGjXHvgqWOshVaeYAZQQ50QWg8XYw/988P3/JDdKYwcxgwCaIkhhzIPzH8AsEAAAAadBm4AigGzDAQLw7A1eGAhwwEBccCCeADKAV0tdnIv2DvIEw+WSc/vzgiqc50PwI4YCAJLFCfTfaW+PgDebgRUTgYBBJaHnJXI7YBgAsrpTWnE43/veCDUSVXM0ZJV/A3UPUikVV8GCMsVTI4+NP0gPUALy0UqoNfe/8MBAZA0A/jVh4lTWiv94AsJNhPEKxSN/oeouRSZveI8gP4BlNL6Kq9xNoKLRkEUkOGKYpTdoMI5MVMUVCzdoN4ApRk2Sv8UA11jJ2eWH+507wQ4iCbhDHUxakjtOwEGfAI9Znm83gEiy5onbES8DylKeJ2Ih3/gH0diVlUHKICMEfER+UgQoj3WIAIl9D3pMNjCAWBzVKcmQVCRP/+xEZDBlLVCc7HfnUpuRiF5T3YGIGgBFCEgfZQyCRhK4X54dshOVlL8C1HDRnYeAgFohe3IfBv/+7/AgK0qKmtQenfg+2ea0aJpSChPzRCM+8YmM/AkCINN4mcM2PGL4DXonA6J3w2myyAzD/vyhsfmKn6ntuGw/JaHmfHjXx2glCit7/vzWoEYxs32v//8AsEAAAAF3QZugIoBsQIAQFeGtTNIkZwCfbA/ePwcBgRghZvGSRCmepfH+DgMGwAeMyKVPRMfbAARBfIpnkTwoCIJ2fdeaa/7YEgEAuGFVr5/freGMTmYtPqgYI4iJyPsIcDwDqF5/5PVO0cyzJrwxW0Zn/9uH/j/4KUepHPVBB9PVVjwKgBOxaRf81z/BwGAUwAvf6un13gajINZmCJkk5/+5+BI9B7+AjQv0OP/7zCv/j6SYDIbICvCeCGBAivDdMg5ekyDh/yZgg5/P+IVL4iCEKKABC93d9/BscpA9S0X/wyCAT6424Qapar/4REi8ABMiGV0MZHHSpSehXAHuYmQhSMiv77C5hlbZDOP/kbfvQYgpuMzcZeX8LPLdNPbvBLwS4LQKUjGU6lXvvy2trwlFFosHgxUNQ6OvGfAS7bA/xwhukwMYPVs++EW6c1WAflbfKNpeRowEBtCnD9/UdZdgHZo1P0OlUZCNce1BIV/wG+QE37XjTBOdYBYIAAABmEGbwCKAWQT///BC15g4DAvtBAEZImFfrgkgQAh4hUoYnwcBgZHTLx8ZMAdovRBjau++AVVY7fmb1AUPmn1KE9UegV/0uYVMUVHnwFg7xK+GkeJ3/uD/xeuwzy8MXawH2o8nHgixAJ+OCcoBM8Sz5bE+f4MAwI01wrHAP0DwtteHY9IOMD4lsaHY9L+A8HAYEfwAP42AlDTPGQc/3YEegJh4mrJKPveBgFYQuTpD/A5182bqtWX6fEGS9/B4OAwWGkFF+CEJ4cWo41cLSvudVc6+5r0XnfP5/iQgSB9ghPxBMEMHAYJjgTvw/HS97xcIWD8RoID5Uo0EAgFBojtWcUp3nvCHABGEJPI45WPz3+78YFxKAGgLcnnu/877mmyOIaK2BMFwrzuE+ij39+cBSaa1p7/eCBQwrciNLovb2Il/BQAty8SU8o0/97gKOa2TTaxGCSJiMFNIw8VOgPVgvHEp45/O/wikjhOZym7QYdsglOzl+Av7AUkOELff+zwh8J3Mk2Yb/zgPrZsTmD4x//wPhD3uyPAMPAAAAX1Bm+AmgFlDAQNw0J6gfeerBAEIJIIBArw1F3YL1sdE/uWI9GI4bR9QQBATSgAJiELJTnMZpFmiWtM7GcsmdGbfrCjRXAHC4yUKH8+DAV4b1MVXTEzfgYLBAEBfgAJH6Ev2f7N/1NGkGTuZSFcMEXE+fZlEFMmPgihtE6+nXjPyMatqpiBzaKGLgAi3d133vAOB24QogjyKgTFvcgA6BVkmy80n2btM0Fx+PJr7J9yN+HBGpssN6jHuzobe/8e+d/BDhhx5BYpi5BwTP+Jfj13R3gg4jBELQ/TF5zjxEgC8VwAGNkJOUvYzFO2hBJ1UrXUea473+0ZAMK6ZMOWnBpD98DCMs0JUVJ7QE3fhD4QOAfQDQJC8cFEwO7AXEAswI6mPdAEn7AX0TY/WAB8iA9BWIxSWv++8R+pjnTxeWy8GlCJf51gj4i3glbAepzbgKVRi0vACUDTFNFnEolRf3EiYEiCImbU5idfaT8ilSSiR7oY6cuEQB+1/5yYBhoAAAAGmQZoAIoBYwIAQ4OAwCSBO2wN6tHpgan6VeWpz9gIEmIxPwcBgVMhADcg1cmY//gAUQcMlpxBxNBgCyQE9hDta7DkeQK0XJ3o3cL4gP+qaMmh5FTBAEBkBCaBiINZaxH0E+hzoY0TR8DoVqM6CB887B5Hqlx4RfV4fyhzQfxRRz+cOAPaxigPzgGZ5rjRNLYLbclZSDH/vcH+DgMFhG6YVEWs/a8GEA2kGRNre/70t97kCGDgIeIz+I+GBAj4MfdOnfb4LwsRRpy3GPf+4NoE9d0avz/8Tv4/t7ehdBU2S4ycPghwgTHEFcmJ35/PwSQQBBwCOebO1bBf+GBAzADYKr0yOv8AI6m1GSKkgIfIB0aYmzJN/4N8q7lYH8oA2D6aJH8ekBt5ek4XT7aGHqIg3oZ78Gb9//5vTkaaQeIcOYz3oCWY/XgPAP5rhaQtJz//7vBXwsuANw2lHh2PSwCG8AQKAeHiJkkv/vANS2JZnRUQDIBQoXI6iJvMR5P/wctoaZc957x2gm4JfIcp0R7+gT3frZi5dTxNwYc+D9YegOi1ErOkAxEAAAAHEQZogIoBYwcBjgwDD4BrJGYFPBwGBdufAAnisPpim7C5DhnMUo88EcHAYvjIAYHq3HaBzemJD75AO/aEpD1h0bBAnh0sPgrCH/6W0RpQRQqHnXBYzABQcRFsPvGD8MGhoXQXlJ6++BoKZBd6WE9B3+AQFT61JVQLjO/q041xpHbBwGBkJYhwxxlrXa8I4WFTFFQs3aB4vAFKKZZ45/OwF2RqJ6CcZLf/Bh/jALZlU3McgI//+4DYLwpI+wWiH//xmQAYbWFpZKfAf1R5ySJsb93D0kxCb/8Cf9ZV7/+CHlwP5MVSYJEhAI/gYyID8vXggP53gh4Q1SYqkxd/IAgzAW+bwAQ2St6s8vAN0oF1qYKZLw1hCCIKL+QnvP/+IpZqKggLiw53/SG4F2PoBUEZhc3SIaM9f2IEDIMgBuAHhMIKA19IGG71z7gw7wJAuFmB2PS/wAjuAqNUFFH//OBAqYp2k4ei/XgQAtVlNysQP//3f4FHGXkybQYGRWGVW2ULz/2AWtAACAEDpiNLHe8X3EjuAKzSANwkzEwRZYwKR0AEfCjiaGiqznnUm0bQdVDlrOGm90DjXx2glg4DDkZSmDB4BiIAAAAFkQZpAJoBYQQCDeOyYIAgEs2IBQBgieAzacEHAleCAIAu5a4yROnDBAEBfgAIDLwyGa5Syy2tgKj71Qcfvev5rwR8JYEGf4dqjBD/GgSIn+I+CAIAu88U9xAgzktFGsHxEoURJjRiN+BAEgPGUfTrBAEAhawAPNMzzOgqkNf/nYEnwEtPaa0R6SRn98AC6DI9qNyPfcCMIhUTdYTpZJP/q+I2R1sOQ9MPOfPwQwQROvo3humYP2kzn8/n/EqngiggCAmD/kzDWObzdIJjOs/m4ADk6AqaQUz+15or9j9hleZ8hH7nl9VgZ1ruN4+CPiI6S4H4PmAAIBIBaKCjrgYI/3G6RH/b1mHp+CyPBAXgAxqjpkLv/3QBAPOaPogez6FP/RDojDNHyDkw4Yz2ADA93e+dwbOpjMNqJsuyfycPBNwFmEuhRtaV7iVhoIB+8zeM6lF1a0hh08EwUWAhNto0////gGIgAAAG+QZpgIoBYQYAgCXhIwPScNCCEwcBgk+BpNT4OAwP3TAb1gam2MEra2+AFsWLTpCsJRb94AoAbFP4Y68DwQBAXGJv+EeuvbRQuheCSA4QVwD1MA3SxsdGnXgigwBgK8sZj84QBxAnO/DAgkBURgYuIWlal1Z3szZipzDoU/2gwgAiLBUKSr9rDAgZDwRFQAdlELg4/f7gNix/JykH5j84DM9RlBFHQ3/gCjbFGroiS2ZQvg58ZuX77waaHIViO198EAtEP0phcM//7qjIvjGzr/f/4OAwJtpW4vtdw1O7nFe+sqYWyf1tYwQxEVk+DGpu+d8/n/k0o4IUEUHAIBXjFcSPcz+Ii+MuH33fEiReAICF+2dj34ALEieZJYGBOHhNr5rPI1/bwGVrI2Erp/+xAH1eYWFoWe//+7ByGS8xhdDRHx3/BJAgAgEQBjCCLtHluJSwjVUVgahp+ChL9/uD++e9T2/gwfIGPUXZZq+vATAUvVQl/xEn/88ZAZdJzJtP9aA7X6D/zTT//nH2UYGBrGlb+UhDlf/9vCwNZtepY94COAAQ4SaKkx1/oFtCXWnVBJ7/Dk37hlJj4JhCwDEQAAAGnQZqAIoBFQJAQ4MAwXgSF+N8eCSDAEBvDLcYjUHAYGT+GngHSI5QmPfmAyFI1sSsvBgHzcVjY+/Cw1AXFTPkHRdbBJns4CYXh2OQl+wFYQp0mUPRf3gQAJOXcSWsQJ//7g/8Xi2qZ4S69oXR7sNhQ2N6mANY2KuxWY3a8EURJXDkId3ExEMM9iZXR3d58LfBRzUUPvmBfEtkYJX9ZyD7LxdUUHYOAwCWHhZXAA4IacH7woEmqGx2I88Ec4AQlzqyz/itY+IvKbY6q88HxEYTqd8EPE4HdJizxxBDrkwTidOEXBTjG9AOiI53gh7yL5LP4R8ALtqH2Zx8MVaQEZ+3pMb+wS9i7PWOR5sQuKhfRNFoOfrsICAhwKpQlWMUTUv99ExW1ldnAEB20SLhZFl//9wfgZNvItmUTV54Mti9ZXZb8BgANfyC1bWbRv7eEcqCGkXIwBM5OZbF2biJaCRhWro7wRxMRAGIAFB7gksfPnA+wDcJFwQaIfvf6d+5hgC7oHhYiLeS/36BEsas6EYWz73eJuAoOqNxce6nwNWZ/79LDEvzvANdAAAABi0GaoCKARUFAgX41KgFFkjmcb+aTsGAYgkggEF8OtTxPghEip8fgAthkFcYEo44aJuaTbXhgIDLA4AWR6WqjoDw1gDMHk4D3uwU0zCpyD8w3a8bf4IA16mPR2fJ//gBI5DLM/yOG0kKCQcOQRKBXANi4ADsogmEWnvgfQeGAgLgMbzKwZgqnf8HeASBwVDEqN3AFJD5yqRCiJjhFl4AAsEWJLBZiYwNx+h6z51qGBAj8OcaJoefB5g4kYsEX+8Dkcs0HiPevMjd7+f33DUDH8ZLQHjtK7FeD2S//4GCKGBF+COGAgqdYYCArgA2++Jf/+wDQpNTtcL0kf4DtSY0QK13ngwFSIiA2F6sh9F//WkA3BJn8KkWc+wQhEIcD9GHE6sTu+//5j26AHTEwspBBz+c/feMGEVBY8h4Ie/9fjugBIGJKrgUr1hrsSZz9iAjnJgkhgIAlg8iPhagujV/8AgBav1CStBAv//u//yWkZbF06zIwp45BG6sChP+0QoLRd/o+/7ruJ1whANfAAAABnUGawCKARMCAEDcNNaG9zrBwGASQqhAQR+mbZ36VAkCf//4A7m0s9xAI49c9I0dqDgMCoAdnq1V/8geJ3OaR2Gg93wgQ8vMRJgwWCyDf2UUsQ/v9gUEwqchyMevAx16PDIMlX/MHAYGQGQyMtiVFUHrFRNnUVWl4T3wHAFlKnNxWIEv//uwGSka2EpHcGH4gNoFYeIA+ygL0ZhU5B1KXa5hQy3pMjhefsALUqG9gquP+/gYghhh5Upjn+ewcBiCGDgIAn7qQr5pUsnH/BpGQcFUxajdr4LrgDsIFop9/nTS1LaH8Of/jAqP9T0EOIBJN+llO8EMHIZJgIjtN+f970KZ/xmAC9wR7OEyiT1wAQUz3FHgwMtZJmgijJb93gfkwvOZykeAsD/Uzw41m/+3AgGy8Rf1/JIPzAcI5odPcHox33gyzWh5FwD8FRTZKMrWHH//OA+mAoFqINgx+88IcDI4bxbEUb39vAohycwldOAaANVdIdDifBv+B9IGWy2KoqnvHXNszj3gm7gA/WgE4TpKOf35wizxoQvy/wDYQAAABHUGa4HoBEwcBgubA6QQngQAQPgIDVdn4MAwXwAbQS2EHM15PwI4OAgTHZO+CWABejACZQXZiKFN/O+vZ7NtsBPg5LTCor+W/+DLI4kaG4Po7wYBgI8CG630/gAesDOgmRGraVfgeYoADC3pB167cQcsrBOURDCFPI9xDk7wQxIYBH4O/ZJiM/BDxOH3JUpipER/N4AWxA5R1OlfzsTL6DsvzeG5HOIgj4IoAKY9xkElsMJPV7VRygZRSXnk/3gMLdBoUS0s9Pha/ek68ZGZHBX9mE7g6YMAcAYC/GAeQDIgzEQqlIfvzxnAGs9b01/n76jAfiHPBBC9uYIdnXbxufU3KR2wYV6V/2sMO/uXroVS9Fgf4Ju/TjvQ/3HwDYQAAAfVBmwAigERCAQN4CJ61n7MIBAJYJHpFwi4pKr/vwB6//HgoCAuWMABBAEtMNCRHuqqN/ESFGCFeVxp3iJPfvMYeueDvBHESy8MouSwWogSTABeXDMFjJOJXugTxAgZBALhgEasC8KNBL7/OCWIcI5HddoCYHhcrZm8I93YDwfzPHhBdMf//cH/g7obUhReSu18SMAEcIWBcoABzJHwnM5f/d/JipHOxTdrDAgZAZKjXkyNg9YoY52migtG7gOUyhXkru/3XrkMDR8CVVaeu9g5uAuNAACAKkoDusY9c21SCQw1MczZZvtLbD0Pu14IoiCahw0w41KY0KmaOycE3+uQMBbzMU8EUREwwFcxLMHThEcwH+7SUxb/4k3AAqExx0Floc53cE+oagACkooiLL6/bDIRLwc3LaHmrvxAkVkUx0RFO5f4iCOGBAKoAh+vRluzBBfmVTDDpSLXER4MBWAohaz2sPGlbkCo/TaovUHoMwf9U0NLioR0hnTxAyG8whFtQsd+AvPwApRTLNf35wfgj1EeCKMle+eEcLBUxTsXfAJZuYSechzl/qwAshPxLYtQj//uAgK05oVLcH4j/v/rONaGjPgwJWBn0BFJ2bLFfMIoQQsqKeVYx+84DFJSSnb3XUQYd/7ECVKCCaGAg4BOv/2/4BsIAAAE5QZsgIoBEQYAgCPRAKPQHSXJxwQH/g4DBICPbf3MP3hTP8GAYNAAsRTsST87jOf+4IgCVLETv7gG6AAZ0QMwpklhb9fAgeDAMF8AUAaMt5tTeCKDAEF8kEGvy1IUrlP+u//iofg3EAY83Ejc/WwGl2YDAnR4SxgBlNfw79cBpgyFY9aCS1qCP/94eDgMCc3+NsLuyRfPJuOmP9x4trYUmCHitsG+mMSaZitpmTEG0Qcdn8RBDiSUjk8/XBRAAbIb+EE5ZaXObfAAEFVPEIaX+1gsCAX78IShGxd/wPoVyjBSpdU8EnBLA2W8LklLHartw/+H07WnXjLAwi43QwBkW+U+sAFWnkaIPOyBo5pFnzMCAl6HEv3501ej8+BgKHgDxQyq9lwL35Ml2GWBczxSH+Ax/r8EwhYBsYAAAAVFBm0AigMUEAIDeEXFKYEAEBeBQpJTPBJBgGDYS8PWN4m+HHDxAngwDAnwAK9lBPEg5Uv/gAJQMQqaatN8gY7/3vMxrznUovrWniYByXjPRUJYXg8GAYNx7PBFECC4R8niN2RyfxD1x/CTgf8ACTEx646phFGrM4BgAsAcTVJof1mMh8Zjj+9EEIccZ/+TLE+C8tjkB70Rz53wQwYBATg4U6pkHzaZD5piG7YTk/eIz8EMGAYeGKj/lkfFeAA0c4lZL6VLToLAAlHZYMgkuXGP3EJjaI6jlwSNZ7aFfDscaWkL3s8LVuT3f94T7ab3Hgh+IeiYC8I4JHu0SPw90wAJMvp/OvgwkbGj5Q/oBG9BSfxEEcGIZJ8BoNo5pu0PxEEQJfJzf6AgAPZEbVQRymfvbiBPZAF7BxC+5IbW3v2IWxL3rHfv+6AzPNxhp/O6B/AOvAAAB/0GbYCKAxQQCDYBZ63HQL+X8A0dt4gBBJBBFeAHc3Uw/voBI1gQQP73AP4j4rDs1PABeA0cCCDL9GBRS5ARkIqcwvLIS1i8EAQGeAAmAIhQwcnF+lDorOiMqZ5oFjteY9/vYd85qFvzGqlVf8HgFK6dKUjQf/AdkaxKyqPgR4yci3DWRvoDwdiTCwr2mP//uD/BAECwGt5OjRkgeodKRltqBNI3ALoA8tUcohiSvWBFiROAibmg9fYFMxnWoIQiI+DsWpMPO96+FQ3kzkgo4+OGQ5GRmIfngZvU6Iw0L/zDAQEQ6FPxkmbuu7gax8tAANt6DCsxd+8t+x8p65XcljR2XhwRBtwEX7XnfKx/AkBvz3+voqK4IJvDiRzEQQ05WJ6CKDAMAlhpODlYQe/v8+YaTUiTrDAgI8ABAGEd8bBpuMUxSh9ALcIiWlVIn3QJRQ21QeTMJCzZwuxo1l/0HiLD5cygmfKdgNix+JXYfnPzuIBXwbog9TFMUpPvA+ZRkgRwqGv3gPVYAUOGgsfHHB+EMIiwxzFK/XgZ3EYpTHH5t/gN9ATIuonrS14dvk16Y4JIZEk+AStZOYuqeHxAJdgFog85LicEf/9wAwK0XJnKn+LQV+RoesOxCkgYGl+Fopm3NmiH8AmRECB2VEFlWM77wY7UkvX+/LrIMOToA7EAAAAFIQZuAIoDDBQCDgwDAKIIW34I0sXsoWbuQaA+lQJAn//+CFr2xAgkCMagIcf+I+DAMCoAOsRE4/uUsfA2N0lyZ3vgMoAGD7E9yByGSf/4GBp+k/xmKVxX/ff5g5gwDAT/OCQ7DaMALejKeT3EDchQrnDI7zyDsHAYLtJ5uN4CD4HBAhgwBQK2BgMnwV6ZxL5/EfxUMIX14AedAyEJjEltzQjDhI/rgVz0f3ZxEEMGAgkYkaZivTOfz+f8RBFyYBYs0cz+DAMfGQAEyIbrjCcslLGLpgw/RPMUskfuIwBAq4mVrGKT4Z//B8UAm33OcB2LCnU3MeHP3c2EPh+ed/Nvi7QD6w/gYgJWvjqwALzJ5HIaKiH5u3iJHLGIKrGJol+TokFICWDEMkw81P+Io0MrAHG6jMRZV0J/pUphvjVHeqrmLwURTheAdiAAAAcJBm6AigMMHAQFeXBoAd8fgwDD6mOAkgwDArD8ABqgVEHjFP3TRcD/UGAYCkAHLhqQznbV4EGr9ehMEUQf/BwmOMl+q6a2WT0CN+AuNNESUb/9AtmoFgvWSY/vzgQf4EReEV2mnFpv6HYAsrzmpTMH//7gGSkZbF8qv0wuJu9FVpOP7J1gwDAU0mx+AL94BcJMQVJj94BudBIHjrfBj95tLdbPD8DgC3UlNzmQFf//cCTwUT0KdBd+Ay6ScQoaSXl+vXiMT1CbcV//ia4ecSqd4IcTJwU/HOkzZtTfLZsspcFWCp/A+wQFPn8EOI4mbwALtqm71fzES8Ck01rTb/fxJvHhAffQx4QHBHEQVQSKwPFPgELL7622blirZMY375tHrA8j6bQr05lK/tPB9l4ldnB3068Ztc08aGUh+sEWAdMFIA8Cgfh1MRWKzF+eEESeNjKQvwPPgGQPJQG+uB4Dbzc4llv/HAZONYtmUTV93glmTmJXRQH4HAd7oW0VGmv/z4F48xUJzgxr+/O4gdwxAsR2OzO7z6BLyjJB8dMH6SAU3P7HjlRokKKf3t4JYMQyT4DuRoxVHRFRD4hz0mp8A7EAAAAGyQZvAIoDBDAQ4YCBMlEAqAcEAQCfhpCyhFx2J8MBAXNWgSwFBFpFXBf1A8RGIFntJEL/ewKv040yT/eCPl246hIKYAEL3d338AHPQspazHLa3zb/+DAMDOiARNBBHmCGGHmAPhgBqheFyucueO9/m9dONICZKAeFiIkmC7/waIaiXTiR8+cH4eo46ZbfDKbt8EA/kseM6if/9wFW2tGjSf7w9ZDVCIbU2GAgJgNS2TkPKiA8Q4Kjvu8M0p+sAIMpltgrM/lpw4OFwluUgaeCuAClOCSWOK2jFfaf7kEWILYoDtaZgmxIub4KUerBreijvzcBL1x/xqCKwB7UwWbKPXMMCC8YiYuird5/ivDsmKK4OCTj4Slgai+I1qhIVJVTCtdnwYAkPETUNRWLUuBPMHIJ/fNVpmk/g+4KxLORXbofjIOMg5DsIlA+BCCkB5qWFwcfv9wfgQuPaWGw6Gf8HcNByHYhWvgNCngy9vSl2Kf//agAf5UHpqmi/97gPDgi1bFWZpr9bwGgpkcxKqKDDQQrlhzPnsYdcph4/i5Ev3HRFLfzP0xARglhmT+ZK/CEA7EAAAAHGQZvgIoDBBQGAj4ReAcJ7AcBLwZFfQAVnQvwYBgRhmbhwAB0kQU4EAfgwDBoV8AegevBBsmB0AJA3ajZa4eY/+8HgwDAvSbH4BPgLjTUEFOv9wIbUEgWMl5h+/3d/E8EUGAQ+5AgDxjxw5/5IIdGa2wic/64Bkqa9NG36yhFVJpxabu8KQ/BAFuspqUjB//+4Aj1NeL70AX+wEo1xBUlP3gIZ0EwWOsk4/f7g//DFSL9NxcW/W+BoC3KnanMSB/8A09kZAf1SZg975/p1gwDAn0oAOKCvNBE22ml6gJ4/472ex9V55dg/IBHgh+fz+f+Tx0wCKDAMfNw4g8X4vABw6zsS0OQ/v9QANTsia0pj31yYwpUKLFCsVmPP7V6bxoZSf9AXADtIFKD7+pgxDJeHUseVEHn+/LgJIMAwCqCXi3bIhvfdrONZ7GcT293g/l4SlZwcH0MDcHa5osOJpr//vAZOGqPcxQnv7vCbJ4Suyj76deFINNHwMgyVN8Dz8AB2CFmDj7YHwAgX3kchoqZe7FshWr2uMDQD6laFg7EyJ/wHgogW7phB4ivd/xY7HV8ffYQwmjsE0GIZJwAYmdaTW+/OvgHYgAAAAc1BmgAmgdBP//8AZt/QPYMAwX+AP3TKOBJBgGDeNw/gm8IuCGBpBCcf0oeS0EDjMz4MAwEMKYYRCMGAC6sj8wyRfwAYla5yu2K4sRi5wznoC0UAaB4suD3d+gRJ4Goafoo0/f7g/wYBgXpDwDALKgDwWy4JEd5BBABUJM7DCT77u80+CLgkhBw/y/S3xHwIByi9nztwRrv0PGAfzeC0pKTH//3AJ5zyOQ07b9R0qI99w1q3eMh+BoDXM8LIQrhP+4BsXk5D324AOgFHelyodYHv/cAUEOdtY4ae4L8vy28Rq2++GMm0Fe7PhN4AxN3Z29vd/n3//8EPLjSY5OSkSsH5+CHiuAPfqMGzw9DQv4R8AEFcr3W/xH8e1HgfsLA1sukxKop/+HggS5H+n8HxXnYQEBDgHpl6Hk8ugeu9TJBOPy/+A8VgCpRogsc+Ab8KSHDOR3VzwiCrCcXkr8HtABQ4xIH2Cnl4Tohwjkd27XgkgxDJOAjRDbmLnIrk8PwVaApEFnGPo7/+cBMK1ZdXQdDP68Gmh6FYjtfB+CAUjP2hhcM//zgJhV0v1rBad33hBujSavvnT4mBOmy+5Dy/fvwcjymDzwx/eMFyBvAP/AAAAeVBmiAigdQgEOCgIF40PppiCSEAxxFyyDZDwgCD/Afz2fhkIkpBOw9o+CAIDPAAQMEc0ajSyGNtWOkRDXWwABAADDYyu3Yh/13E3ehAACAaUoAB2k3gBQeb3BgLgRiXmDY5WDHJfcXNRrZGJVAGdwFwlQYYf/84ZgCg+S8ofPnB/ggCBeUssB0APEiHEI+cAvlQV/inhMBFEcX0+f4IQiIh8xWCfvRUW+n/oeoBarqTxyIF/7wYBWTTy94GSpP0klPi9sMBARD92caYJxG0otwKgXAAya8WJSQtzvmEfgDDspBHPJf7k0nSKTVyflPTDufwQwwIEwb6ccv8/n8J///gR79W8TsCj4I4aQUj679YIoYECuGYpx8MT1fwjwAFpm0Jop1Yi2MiGUKqlESefv8XSvGCFAQH+J1w0NjgwRYaJZj9yd8Bs0bFaVhe5rsMiQhwk0eTa3/v/fBkdPGxnJ/gPLgDhB5koc+A/D1kGzoj88GFT4yCVj/AbQDtthj+hEwQCRfuN25oWA8a+egj5Pg7GTwTlYs9/DAgfEmABjGiAJ1AAo7ZhSiqJU7/24JBiqctT8DBkf5T44FpWgAHAgmDz/+O0NaYYr8gsu4HX++9cL8QJ0bZyH1TGahiDTOJ/QHWX/AP/AAAAZlBmkAigchP//8Ak56QHYOAwL0FfnkY4Qv4KAhBJBgCAd44OQCPaA9uCxloEA/DcjnGk+nWDgMAnwAexMWthSJbUAGxx3UhRHqrGccN85Y98BtsUr00O4j3gMPwAfvACcGqTpFOvxOsEAQCHpQF97x8tU5+f//r1oDawPgN4HWXAMAWJHGhvwEJDUSNdBJv/b/wcAgLi+pngbUUCUo0Mel/VuFqCGDAFBvKoJx/wBq0WgPcD4ID+axWVaJ//AFGCEBKO1LXsgsFUZR3h8CY/B7CARE+Pfsz2PqvNl/Hw8Px8HA/wQ4RFYOn5/A+0xyYiCL8SJBJhierp14zABd6McIQ7kfoADNvfKbm2alk6yMQ3/YBreTkNFTA+Tzqf6C7aWJ50cQ7/a99caJ/3/nmuIwlV/6vBXc1kxopu0H4L8lTLza1qi8XG8gNANc0OA878MpQyOR3d3ng/+QAw2oLuudP3gmdD2k3xeAEkGIZJ8AO3DyKg8/4iCpSOlYsoh76AbC8fWKg+Kf/p/Fo27yJEmM/vwaJmn1MAQBAAAAB/kGaYCKBzBwEBfglbAWDggCA++pX1T8CAEDQ4nq8ETt/1gwCEEcGAYNthG4dqNwgIGQAH0BHHnkRHWksr6zbbsWIQh++JAACGfhAmNLvWfBhwAK1TZDl+ANcEvkIcN7348RRrmSiS3PhKy4AgWR7VC8i/2/wQIXL1Uag2ir+DATNk0G3Q7EdsGAUYGJDoc6SqIPeYOAwMhwXDueVOh3zgJYAdBrhfjpOs+yf30/4u7fzA0HcQTjZZJtiP80cBYP5MqQML3eQEWBFVVYDiUauytKHL3EcgGBz8xoutIVwYMI5n6Pzk7wQ4YCUWoQn7wOzTBIkIEg1XKD+CNGz53wQ4kTg7TTJI0t+z/iROZtjDSJQzAWHsYIuSMAAVbHfhGPgYppuZ4ZfTHFf1CAezjFIAC0ZtCJnPyGcQK2OmCMgE+HNdEFC3/fQHtxwGYX1flxcqLcb/+8Pxng7NOKRMxeEx/qOWAmHttEP78B/8AK5pLLHPgDQCTlzkpzCQb/moCltca9UjTf+Bh9rvdvfOXGqB+APoAGksEL2zjOBEbBkTjkCdLX3EDOBsFz0rMClBaTj958AYmvapTpm0BV4CkMguU9TmqvgJJiW8haRUDGE/qbV/++/kmZSDc/jrXYIT/DGCSCkIk+EGajQul9/xG3wA7IoCh833cDBfBRyY+AIAgAAAc9BmoAigcwwICXgEiofZNkpkajI8MReXMJfjsit0KWjCEvACflknpjJHAiBHCAQCOCJ49J+MjBDDuPc/UQIJwA4Id8Tzqqr8SwQNRhjcSKRhGSrj/mDAMBT6SIJEIbMIhiEMBJkCQ5xucy2TI2gwt/b5B9/ODLXyYurX3jKHEros8A1RPFNCiwuwZglMV6u7z/DjqyGia2DBmbU5OP4EImIguNBTpp/P5OsEAQCHocKEQIs5QyTw5/ID4HJlchM6N//wFJBZfE8DC3oYIi/4BcACkUI9sTQMv4/skPlBVmhN232WxYdNeY28bMes8EWGBO9BP4GraYCvTFVtMJCIQEQ/jRivg/g/wRYZExXpiqbTMHTNpl/tTvUI/EQRQUCBGAE1zkUm1/cglzwiJH8+YADsEylQV+IQzOP9greNVU2sMSgMALMeCXLCa0V37/CIkZ0wLQSyAqs+wuT//YHBU4SCcjBdGH74Hz8AVAk2EhhkBu76WOf0BFeABjiJ0cmRP34ARtRlsmRn+FRbykM5//YPx01lmA/MOLWQ0NqbiR3FeNGkOfD0mCs4eohriPHv1gEL0JXaCJ6hta8EvJ8B3TjJkNEfIfuNjEhqxzOAIAgAAACCEGaoCKBxBxNgmbPxVGsmBAgu8aOwJfYHnBZ2JZqfpVgQAgLgb48RedNJqzvAA4KY1qMnVHoCEy9jWygyeBCPioHzEPfsHAQL5KsZGwRxIgshmYYa4/4ngAckAzru5HkP2yanQcIUh/8An4w+SzF9fBEbBs3KENQ6+8DoNhcnC3ENZP8QMgAlU0Glx2MVrDODcMrPiwlEsvvVoxML0+5LFpGSYHPAfWUg9YQ88ce43CgwBzaQAIPE2SIc4wLjeTqoyAkTkW9Q4AIJkLEZuz3gftwkTGB6D8YRNK+KWQb37/wcBhzJ127dzkZ/9bAhgwmw1J4h3kwSJEk8IBiMxGCGJkwdk0ykSYxO4ZDArJ0PMGYETto3nxCwRRAkRAEN5i2uYkV072/h9qSHPmCGFOA6JehHf7horW34AA4DJRBE726iRjioh9QTBPMhkCLOXzDRzCCDOT0WeOD82XOj61iOxUmwVBu/AqohE/blc+8/06xIkKQRgHALX8gfGzh64PHK7wJGu/tcDwqYHo+p0fR9+8AnAElOAbUTQk9gX/7wPEjNZAinX/oPwAPh50lpWBElP13hEflfO4LACAD33nAJyML/bAGdwgILfUNiOMJl/iO8RBTgieTQBH015aefZMSKXb/QOQVZZcPFqlA7dGtXR3Nh5PBLDIknww+cuvn8MBAEMsI/50gCAIAAAISQZrAIoHEHEI+Aj6NG1NjeYhegOsigAYe6Z/4OIukkVzOI+EJYZb4EAIC4EIxBxnFHgDgGKkLd8I4yUU9F3B5YhAZI6EEJHLHr9gvwGUsYXEMvgIRj5pBZKUTfsGAQLxCXQbO/3iBFBgJJ4Am/Uz7zE3Wmz/wooACTSaaaabT+AFRFKcwXjLv6v/+GI+CPwAEUJMOxqM7EPQXJQTWor9XP8FRsJRcuoTlY74CmYAZE4oUb0SvvBiABMHqjzBSal+/iBAz4AHA2QFrFPvDCR3/gNQQxtSIXcVXvteETU7stMwt3UELvHQ46RHNIIWJ0mPrUhlPB3krabtf7N0w0Sj/nO+CGJEKlz+fz/EhEIwVvk/Ngg6DgYIlTDZzz/O8EMFAhUufz+f4RECcFVDYc8mTHPA6+gIoKBBMBZ0lG/hgSP8Av5szzdeNc05gK1qj4KYzABeSczcQnPX0MAAaC0N7YxPA5INi2Hgr3+geACATPx4dHBdXA/ZH8B2kdxxGn/2/A1gpiuyoBa8Q/3AOPsICk4+ZP5Gn7z+eIGQehwj4LvMHD8CokKOKRjxXP8GqIPcRKkpvvAmiCBXVEHBZ9IqgBCG8+VcwT6WUIkzIK8h21m7nu7whAmKlILyDdrw8BEeacORYfgcAglIJkNJPrQCAtEiN5zAgGWEno6YzG2dxAnICruD0+Ml5iiu24eCYSvgCAIAAAAGuQZrgIoHEEAkXhhiGHp09QPKcr8EEXM2GdHzzKPQAPewqEiEWThL7sRFzK/FptQPnDxJd/yN5DM3AHIIts4mU858CFGGDsj2HUE+88XwCwwoeyDapqTJiWW0L2CKEAgKx7GAWOoeuSAMNGKFR39n+FbI5Dypvx/ABFBJyzpEN9eIh4OIClvI6is8HEqfovzo/A46zGLWUeyn7wPAAKywAgLmQC2CAQCa3gI5RIGXn6DYjWXjyqHG/93+BiTTIQtEYFVk8EUQJLjSYh+kwSEQYCeydi4TmHY/wIokIhPNQmTitogoSMT8ZMICcUpM5wQBj4kMEWJ4i+CbObageEYzAAciI+vceKfLjv/4AH0NqpI4ql79BRQIJRxBnqBXRaY8DxAKxwkEmWwf13gAFCoqIiIu+/B+D2uLyO/2FIABi4OTYitf/EDIHuAAEAMJcQ4DcyFHnwOegCAISeJkSf34/w4IyHEepi/PBVGaEIenBS56vAzPNqRt3AtGADAHMiTg6YjfBwAAhUAUOm/2fn9oYZTOEk7beyoQCcL10bIoYQXwiJmrBOY0GMVfR9wBE0AAAAcVBmwAigbwYCTYcepEEkwJAkXDbynZHlv4wjPTvg4i421LIkh8AKA1PJiGNMUF+7nISlZ34HgAEQEJgobYq/MHAgXwRSE5oSgnCt8DYBZcnZa/MEZsAJpDgNMDzuhNcQ5+jBwEC9NfgwRcuOYCQUTj4l/iPfA2Pv7RV/kKdVnNcg/DwI/WvPU/AWUUA/XQJQqY1zxH/DgQ2WxOtC/A8BEzF76n54Ab/0RLQTMDwj6QZiR+3Bxc5caU7cSCgTFf6K8CqZ/zBFBgCETSKZtDUB3IkzKgSIOdc/iF4MLslD6mYIoIAyJhioyWYa0yWZgxKfhrsT+f4RisO0yNmkzFAvv+YIMEUEARH5FeAOX4ArlKQGz4/w+/fBTFxcTqSFlvfUA5vVzfDEZAATGugZ5HTKzaedMIAAgC1AOZw5f5iunhr5m+8GIB76tn5gcgCBdnzFYa9c/6CYdz6Q57Bd8BTgBBOhIrN3T7z/DoMTWrgvwFzawACYOfo5/eP/EiApB6ANHjAFngpXA8hfuuZ+f9vv6LfwAt3hJsUW9cMBghMMA/RghS77ngLYkOvrNj3n/ykykNTi0st/571bjzbrpi40ywds/gCJoAAAAG0QZsgIoG8CAETWUClVzMQ4EASLoKDyEksYanaj4AOCbuUFUua4gqcHwooARRALThUUk3a/222YbE8nhhADazwv9NtkAAEDHlhoABQI2LjAgCBfAI2AUBIUgVJq8CF5bZRW7aJn53ghgw8IiHw9JjwhJ7vz0o6Pb/gCgLYILQX1C2KNoEYUW8nW3NG7QJ8bYb55qXjjDgrJYFABhdRnj//+P+HxOUjCpjwCobYoxjvvFHwL/5vvsb+34sqzPMNAp1JZg4FnKmc7wQ83N8/n8/hvMv/Y/mfM+W/e87wQwYc75/P4bcB1WmeZiOXP1lzDtXNfsdjBHBQEQhGBOZCaXuRuxNeAzd2ivb32b9F8SIBZgAvIEV/FxmPfQ8Lfq80eAO0J7mFOACvfwJJSnQx1KYWPEORhjthzD6AANmKOPWc4oAARtG6J4ZAAC9oZEF/oPyAADYMqWNAAKgJ078qAAyCZM8RAE2tx+OCxoE3xkOv7beCAQMgC2LBw2s4YJoUKPPAQvatxDdk//fADVERSPTZ49JP/Mf4Adgtg4XCscGkIm9+4Qt8kjqcd5b//3hvs3a7f8ARPAAAAbJBm0AmgbwwJLw9CCwd6jWGIvgO4mjRUKBAWAEnQQTidV+OYmQ7/zsAA7YHIgU/MMRdmzDog1jkQ3+D3iPNZwDQsiBgtF1+AesBu1QU0XtMYIBBYDpD0slQF2vZD9KSmcl/74NgihgSK8NIsDUgBJg18QCGR2Q/2f9PxEnowvJyNrAEFf8HuwARPub5lq9w6AAekAz5Fl54j+OAAdTF4r8HlbPN/wEwABGUVEsX4Bq0MH2bglmEb7wTTCAARAsSEtk86ThP3/8cb+2S0x4IIpHOQwBZHJYngixIqgHNCBlJMxSkzn8/n+GJcFemRiTTARQwIN40D1P5/P8IASXizJnBFDAjiQiLkwbDwOFGU4H2W+ICMADtW3okbQBLGlbgJlpLPwd/w6ACDQNUE4GAyYnDLA5GRZZOxfgl1kYujif/9glwg6Yq1O4ve/8TGQ+AXoqaY/KLC9v4C0BWGXHfgegACABYDNgS/P8PQByDMsl+N2tvz/D0BSFfiPwPEAAQANAcmRT8/8RGQBMEjFkYV98aQiwsNEAEFGKt54NF0wNVgEN+zJq3O3w8tqW4Dzd/7fAETwAAAblBm2AmgbwcBEFHKMR6rgCCHxsVODgSL4AOhlERbMWlCXqQlwLLV6Z+YdIDfgncaHvwNgACoAbUAUrYVE3mBAi+GUAAi55gJwjf8hFVEjT2gr5ZLq2kUjOPbpJ3gigwEhLADp/IVbsGxAfjpjeERDmkpUf8QJEY8AAbCxLCjLBghYB2OKTDFINz4LDi0hQmtHn+EwzNcVXI50EwwAbpoNXuUc68f/wkCAN06KRu250FCk3HnPQJB50MkkClv+IK5nrfvtt7bf5AFIinPDoioIwQI6ZO+CKIElkVQ0hd+dc/iF4MImAeKMh5shYFAL1bSzwRQYc/n8/wUAhE8Il/Dysxgi6Zgigwkgl7Xg/hEIgj4SixnYDjJyyVcQFPAD1bnEzdUAGc0zCzn0FsBHrgNg1PE/f/6/A4Mfppo08/gDDIxzzCLzCTmnaB4j/8BQgN6YCBN2O0HpiVcQMhOEAG+NC17Eu6EHHXRC/L/DoCDfRC+JC/AJaIARm9yhPW3XhGG05DzgITQAAgDvKYEDMm78FQEL04pCXitf4OcwRILqWP3+YATHFfsbZrKHT/4gTDCArJ7Q1ZZXwBE8AAAAIUQZuAJoG4T///AG2bJB54vgK8S5DCprjl0b//68BBN0lfFb/MEWDZ7EJ2L3wAwD1OBHFdKvQ15OBAljUr+PNQ6jV6RhoICCIJ///gDtNos9g4DI7YEDfI8UMPh1fw+pnf+BACI+FWQuzx7gAGBWZhXzL1IudAAEcgFCaMvwCTgIXUpwJN2ugc9/BgSmJq5BcNccWV/oHIBuFqPKk6+3/xI6H4AOMAmsKBQqzI+DaBOQOKund54YgHInePzA8BgNVUkXNpf+2fAE4WZNLEopn8H/iQho29gACAACRDz1844rmlkU7paL/5eonTp4JPCc5INOLBHvD3iUcgqQ7BFBgJxL5/P8GARFQddEc1SY44GJNMXpmfghgwmwI9Y/3H4Tf//AGzTaz7/n8/wiDkVyDST40VihFf8nfBFBgJwm4AEPX/V9//wBx4h2ecCAM4AzGZpP3wPTZZsEEYv/mACsrGrIoOA46yE94cKo6/eJjB8aGMQMya/fTn3fuUTinPNiq5RGAOBW3BgBuEpxiDVur8COnYd71vnVEQsz84gZAmPwACAnxDwvdiXvgqCd4j5mnX+AoJTkevEKNqfMyZ/rmiDCbFGkeBghQzAFfDCAVcR3wEdgMPk8QjyzvQfzjbWhxnCW+rnfwnhA96Dq4BROh57/Arv/7/P/4IoYDJMInGcvxIiBgYi134kibN1v18b/wQiIAgOAAAAd9Bm6AigbhPAAiP1X9f//AAyO0SszEmCCL9eQADCBXxOJw/7yBEOgIVdNBOZGD1yOtQN1YwC3EDUoknutSzxIVDCpIZ/ewQS4dPYlGCKCAIm7kZwcBF8ENxmU+JGQzPoAV76mHy21PiUgc6OFtDwV//x4AHYOJTNqYP4AW0nc5kZf+vh5OYcrPAcRA1FjXSQ9/6//HQ/ABWMACb4oAcDMGb4FowAIONhqhSJm+eFBmGsRGvPA8gAMWpYEUmRVzSVKvZmZ9/reNRdt7XrXfB/4hz1J4wbgiwiKg2dPgGC+SUwcFUZM4t6XP1CIOTc/gihAFIqDgtnTMMaf81Wfh6LAzveCGCLkwHs5gQqTfwgEQn+G0AjwSvX18J///gR7554zaAAcGlKMhNo5LTDVf2VgAp5cAMBEi1gB4AyggtS0wARdkYms/LBP/Xg1KlWD4WGJU1IwlWMPk/wfAYj0q+o2RU12CP1jhgwQxGihOIj7wd/pehQDYFOJfnb/gPyuBw2rt/j+1XxmcP/Suge5YKVToL/d/gkHJBUOLaU55/DxckwFCERTjU9Ah43vi0mAwo7Ealf1gNoaS1Yqd8H+wpCbMJSlKfL/J5H8/giwyTgCV0nw8mb1wthAS+Vo/4RwBAcAAAAf9Bm8AigbhP//8I9zAgBEXwFiCIOWK4u/CrajG6zhM2BbY+fgigwBCL8PKwAQ2rudv89f28HAZGcCYnlMJ82Rnm2l+RnTAjROM2kEU9e0DVM//g5yPQldP57+JhSAC4yAZWUYUV25fAJOVnYyyH4XDL+EhUhDMxu0HCRLN26/AFiSEYo1Qg0Lo3/7w+GyUEOR5oKTPGzfncBLgKEMm1NwUglD6IQ5YReyMXHttmexqr8CtPHMidz3+A6QuRNpz1F8H6dYiMz9//9sAipPij5c4QeAJmtvRI2uDcZVyreefTeCMmmJ4w+cQV9oxkke4P8Jlk8IMMkxgpyfgixJcFMmBlW1KkwkEAEkTyR4Q8KTBFhh8pqVCZJhkTyf4GJNMBFCIISQjFhOYhNsfOXwm//wIgYyDf+EYrwAKz7daRtV1gADAsuEAVcgKSg72TFEmlTXhH/YQjPYS0wNMeL7Jo9cCZjWZ4iN2gAIgtoSblVmXkHaYNhNxJoEWO/+iY0wr1o6mDBAv0DozoeuOlYVYigZEDFqeI7S3vXgArCcW6cx7WXwLWX48ztvlh5wLOrBDuMv3EDNnWwetZjn7+cCLwA+NIuxSn34c3wiIw8RbL1Z+Txs/n1A/Mo51B88f8EcMAhJwJz6MjibZiM9TDMRhpllRzH8onSF2+CEIOv38B8AQHAAAB20Gb4CKBvAkBHgQAiXhM80YI4MAyL4Eqlnr0buqeYNxcEhgeP+EBIR4AL+gI4soZxJ+/AJwDyg4qEoJEk6H9/G+n0ANsHiAz69ph/z2AtgqLCsac32BLnwJB4IFy5bBXBPHH7oHgxDhmEv0578eMgApw+nYQvXXwV3zZQu6uCY2gynKVfBjcAMMWDmYC+l8Zn3y8FpbjCshV794AdluDEWm+YECMAmDIRlMvUzfvftvM9j6rw4CrSx4Hvy3szZpoiP34H/ECeAIJ/8BrPJxCAVzWuAigwm2KOJnhjEeI/wYAhH+M2+OZiwOwwI88PT8EOCEmkUy5Tgg5/P+GCd6Rz4MBBYYkx0AwRQYBkIWAo6DgfCbA/UhE9yDPD8j8Pz/EiRXgA1NhKklpDG3wAOa+OG1f3atTG+jiv9t8CMBLbRtnSjH/A8TGcCYD8Ahk5DQvdCW/gYkDKLMWzHP3gArIzJN+DD13pwIBBLGp6NP5A/ABYYgqjtYQwyLNb/wGr8AAQASpBh1KkW/ILoatpBdZ7oCIkSJOY1P34HxJZVqyMtkNagH5f4IoMAj4kTwgYNS8EeltH8RpANlmLsbviA0cFVOJ24I91+DQB544kuX+wf4KRD999v3t4MOAIDgAAAGuQZoAIoG4T///CT/U/BHBAEeCgIhHgC+5RvwCz1Xasji+/eAAcBHUF+VBCzNItpmPhiOMADCOqQaaKtTHThveD/4AyAkmbE9+MSIGQALUcBq1UwYblZBaAAIAiXAOXYUPWREIzIMxzFX4MB5k2EfEC88hhEuQKcqAAc5QKysEO88ds4PAA+B0xMVYcDQe/egMrIAAiAJUZIbEv32fdve/f9sMNH7T4iFV5wYfBAJgiggDIrAErVZh9j38q9cR8AD0JGELZENdJj958DXDJHisGFWUsH+JX8EAkFFhD4ySLv872KeCLDBI9TrkxBtAcBX2lk/BDyY+JyZcPYxOomEfACtuIRVTtQAUjBkJEUpRDvkFh1OxrNzqAMBWpznqiqgz/kuiwmZm7QfQHxIzg71JtxP7wbfrn6wB8aa+GxWP3uB7Q0IVxEdeDwAf6Towo+50rMbdpAFyI1NwEM//fjWxcUB4YEuHvdbHmCLmwnw0r+EfGy/Rk9VXB2pF+IwMMbfKnTOI9/wOyZqHLhAwIygwLN8I9F89cA17ARgkRVFye+8H+GRD59/23tfg/gCA4AAAAd5BmiAigbn4JIEAEIvw0J6oAIIIMwbtEqtJJv8AD6ID93YRZHG+jERqL6ueJJ/dd9goCIR4AV5McJDiO8AgA84TTFWj4N9/YagFup/Bh35gSQ/oXgR5t28FnN4y1ab35gQAyCuCRs36iO2B5y4M4i3feXjKcWT/5MOHnOIBA0zPw0I3CNn4uyOWUm/rb64CfeaC56fPwRQcAhHeEfDpCHE1K+hYB8QIEQGlJJPz/4i7sxQjdUNUbKHQ0Y8KYhng3QzfiLepd9hkQIgKs0AEEH2nV58Q3U+kbDlxKV7bf9ft+bbwy+OH/hASTtLDEQSE3//AHO0jz3+CLEOCykzVU5/P4j4MAQl2AoJa00CKDgMm5IZ34MAybwAzKm0T1exEI+ADU2EqyWkMbfQAU9L7KM/doD2YavJvkZ3gwW6ANoQJtF/uMKJhumKKX5O+/+IHeDXAWuhy8S+AURDmF6rz5W1jv/wB60ieNqb0Pfng92cijExXlHz8AATwtlXFCQ9+9Zweukf3T8EMHARJgatghPxIQ8BrGwSs88NCw0n0eEuL3bq/mD3S8REfeg2/IF5xqHlMBrhAAEmARxIiUSURDxl/x/eAMFIxGfQAqC9alK5xJMf/8/8GIQc/oasPgCA4AAAB6UGaQCKAtwUBEX4AFnDcSiZdBLrSoJvXOA2F5qtV5DPfGxqflgQAyEeQhD1EBYAMUVgFywGcEIshQh3kb7+h6BimenWmN1OiHN/j/EoazSTOGNucSU8HCb//wBztJ57/BFAgAh4YCJIQ+6RD2XqQP/EQBeo24CD0Zkv/8XikkkpfAoXx0ONa3Lc4MVmnEqGZjdUSla/8H+MChQRo2PrEIl3vAQ28ACMBswXN8/fmGRAigEAOHZxGZ1d93f95shMq0hhuUGHwIAZE/jwgND8JeTifgh4rYQdpmDtyZkW0HZMQSNnOZMTTn4IYRBSK4BfZjS5oOS8qsRI3JNhEMl+1LyaiZugIBG1afnEhHG7vgAodIQqzhqLP3UNwwkKUDX0l++zegSwHB1R0xx2yboFEDkZj46kN88GC5ZgYN0WPWKwIARL2D+LyGZLVR7sBFhEJwGRu1jn8sOftCALbHGHxhNwErXG1N/4Cfxo0B38AqpNzzwjAAK5IwbYgvrwYLsD9w+JWW/u6RXofr4aaVxNS+1Kl68tozdOVmzbu8D/xHwDAPyvhwP+q/Q57bG+G72Q0Ef/sDEAATYNclyc6/NFEQGUPdX+mCvf8H+DkIP0SUSkEjIgMOCODgEIjvEDBafJzFhikjWPifwDvwAAAAXFBmmAigLcEARNgJB0t0G2V9psEARFw1g/SJjr/AEWmobVWXOvy0BXDJmXiM8H8uT8EUEARNsYepn5MAK5tEZk2ehy42Idh9/njpjv5PiN640Orj8xoBu4ECAKJQrJGIQj/2yO2W1f+IgDjIdxsu9XObRu+9DUB+G2S8MBwQCYIsIhK1RTwPdSUak65/EfBAJCeH7x9DvBFBAJJBBqbz875/xJvADa/pa/ziQjBIprwKTbganZjHviABcfkW54JD/6EsrZgSGzgCmchTMpUQI8Yiz8yS8hj3x5YYB2ROgitdwmJNz6X34IBJfxKzNCx4IYIBJMZX+EPCdYdGaqZMFg65sjwIvZo1PhP//8CPfKeMwAPOTekp4dhP6gahBRCNWJLSmLMn/fV8HZwYZyMBQAMY/dgwbNe11slv1xNQOiW0J5aj7/bvuX/4jwnYQJDpXOxCvgvEsosRu5B/3Gh+CERBFDAR4iImyO57AWfLxP4B34AAAFcQZqAegLcCQCEX4AtXpGbIEqpmwAWEnPgPFRLSDnBPqZGkNupnYr4EgMl/G/BHAgAh4iFPAAczCNbtQhFqJeV/+gqqpKCzyFPN5EGrAYCOix7n+RLnv30BMxsuKZSD8pfBseFEAw/1TluKKv4HKSrPb+7SUPHUiHiL6EO+HjAwFbISxrsJlz7YAVGjI3+thAWpDM/O5/gETe4n1SOD+Iz8EWIVPIE3/+BCqee/wRYm4EkIG48MYAvVrPoVd+9sCQEROykczPusYhw+iQAEYLrrfomE/QI6JLHwS4M/BD6iYrwAWwKFO8yDIefX6B+AveJ+z6nPb0BWhFEWr8n9YSYxARGTBBt2UjYeKLPUHgI98/Aw0xKiHixJ+aNM1vtzAvsX3UKF2/xIkRd2hoqR4Mf7vMsFMUFTFiGJFz9/uTgsD1Osd/9wEGqA9Cz/gi5OBE3G4y/ySDBBLiX8A78AAAB0kGaoHoC2E8ACM1fV3//ASWwsj47Ci5+COBABCL5pBpDCQE+a5/8YbAT5LxVDgsCACEZ4AqBU8Ep5niAA8H6YxXmqgmF/geAMdGGRhJr353fFsz2NVXjOAcaHFD/fSBwQGAn15V/wYQOHFQ0VSiPf+4DbrAfHm4IIf//d4zDABQeOEUbD5+bpnTJmF2VQdtx4JvO5f+F8FTBOAC0dgGgJGlycb/9Z8TMcyoQn8D/z+hzvBFAgAhNxhMa7gAPCTMgvVGJdRX/UzdethoR76g/iF4EAM5+CHEE8Ypk4q9lQEfxkRE/BD/l4QSDozWJCPAJE2kxwDQVnev2NoP/kAB5hVdc71ikjwYEfmSlh4X6c0DVSvpmH3rgwwAxvCQqtuziQpAAWm2iKY+iLYCuUhQqEOg//+cgpRO7pqdJt/4MBAAlI/OBHpc8gVE21NrHWwFbMFUWIimwmMRJUMcO7FCUzwYAMsjDgiFpQ30Dx4AVhwslDi8337iL8EQblcZxBJrOUdOFa78379j/8P0oYEAMv8xDU2/peCLED+EwsErPwnt1SFhlDR/wl442DFo9VAp+I+AQ7lPRe5BtCGWP7Bc+AAg7YiC2IOa86oSIiPz/iVDAO/AAAAGGQZrAIoC2fgkggCIvmqjD38AqU5FC5Ti39+cAHmFiyKsRzD/vg/GdBAAvoh2JSUpq4hkABGLTsUCrlQFMCK9UKwwiFhw+eXGzjh7x9lkNAxoUpv6QfgAYit/K9X5z/K+v1IOdMy9xH/2dILM3cERfdsEAREzyM61N6SefDMFze5xfT7iv/wYcEcEAR+SEHd32v+MgLIRel3n/7gcDRUTEhTqM//+7GHjurxcEpz29/qCAIwRfP3xN86SHkX4HgiggCN8I8AHWQpTuRnHwICs5+tIJRP//cAFFFhuRH7QeVgA6QMWB9goUlZ5zqDtUmcNxUrP1gfgAqUf6sw/sP0vGQAMjmiJjVmX/pmQzFM73eehSm1iXK4+vtZinqXo///zj4i3XmBsEgLqbs6BMKlX/ge0AK04eDhz+dNyEYgylXeT9ttJ5OAEPP/cYnfgg/zWHjErxXjXDREZn8RBluRyzE/3sBuJK70kpAUh//9x5n0hggC9Yy/lHoz//ucohIyI/P+JwwDvwAAABn0Ga4CKA/wIAIRfDL+AUfA0DfZJj+/OgDUAcNbyANfSB+ANwsyVBgh+B4EAEIQ8AOtZBxuwaA8XVEAeekuNG+z4SPXKAOM6NrDz9UPPKhETHH/ffgQAQwRQIAKTYDWuAv/xEAW0HyVGrsKQ/74Nt90eFZQymR688AGUclnpN7YFgXxfymIQL//OxC5kRruPbXt73B4AG5edkIFf7OkJBRtBZav/gP/cNJQj8/BDxWMUs8MUyoETO/P5/xBszFYTf/4Jd+34IYEAM+Jz/EiTcACIs0JJyqzLYFYpatMJhf//diBIR4AldTaHgy3LTf1sAIsxIVWfgWDiTOfjJ/Oi5CYzETYHQ8d92Jm9rhkDUSfiPRCyCf30vpB8xCv6zAgAhEwHv3sc6enOXg8lNgnOJqmr8D3//Q2uo5bjlDrpJ5cDQIoEAEIjD8WpwC55cR+TaLX0BR8YceNz4MBRmCbtc9Xz6HlbEfbW+FIQr99eI+ADjymZgJDv6gEAcinyYg1m//9zi2NXVX4OOBwgxIHuFHsRqV3fgfgk+JWoEEEEA3MAAAAF6QZsAIoD/AkAhF9oOwpkADzsNBJJlhoxX/2I7R91aYrOIWgsK2+QdmBABCXAvzcj6d+n5Ev+z5+CKBABCL8AftWMkhxNT/H9k4AGF5Vm0TYYCimKAsuUIgXe+eIwLCxNe3FS0oWHPBmtMRngGPIZZTDGpI/94eIjtfB0XgLDyEC+Y1PTMuMU6ag8tzNPfo/3wNwiyHlpbaRRB/z/zvBFiM65+oEAEOfghgQAQifIvHxIYFP1ByCA3AJBFHVA/6A6oCtpRYIe/92DgEIuACmMg1SW0pzx+A+CEbcw40V1WeQkhK6pMO8X1WN8jI3e2FAyV1CCIUAOT8EMCACEky2GZMvLMLUh7JREZABETymkeX1bJqAaBoCynAFmax2LFRwMKRqR4fgFvIzcRACAGGE4r3hIRsQ2a7KSzCsyOQAZApTnw/IaIGd6ZlNdA/iIiGBMZwJlFvm8YT/9VXFAGD/IABH6cCvFkZsk2Qw4I4mSO6U/4jhPgzrVFgG8gAAABw0GbICKA/wQBEXwCOrdsCJ8Dw07Lyj/fOmwCTEipeuv4/rFf86mvIeYudkYIAzBHAgAh+M8ANPrNkD+ABm7cSNrfAoHU+GhPvOPf+7A3LS+WYJREDSBCaA+NfxBRZ/zfDABrkLU7kZ74AC2DXnKGXvqNsX/zFReobj+1+d47ZxgdFmYKgrfA/AA13ErH0RV+EhEkx3ZjDP18CAEuV6WkMwf//unA+bNjp4DgKznr0w2Gv//uxFG0SK4+tfrB/4T0WD2MMIcFYwGagpMEfLH6adTOI8/wQBklIuDxuTBAGYIoIAy6+9+fz/iDcANrGQh3IIfglgCKOQBcp4mGUp30HgDnEDF/WPkR//26QIoIAiE8OpXXb5xAZ3+K8AD3ojVDdHIz9B6grSPMKI86AjiaxLFy9l8ZABkZnCIL6n7wLFaACpw5gf/gpvgkFLCEMzAd3ogqYxmIbtB+AA8HTaV5Fcbn8CAYAHB2mZX1cJT/2sB08RroHkT7zfjm9jVVUA8BpneGxhNNf//d315vY1dVBh+I4jcAhhkmQsZQB6O8YxlBf/5yfc3U8Pi/wRwUBERAQPUBt6Oh+i1AJr8mj27yY3HAN5AAAAGLQZtAIoD/AgAhL0gCNqtOfT8EcCACEXxkYSRNRkAA7IYTtW9MSxBQv8+TACR9UKlmIjOCfwB1Adr0b1Am91hN+gPQUfUawNvVRs4vHfcBgj2hBGlwsj/39PwhAmcAQJ1TCSmrF8vjd3Rq7wkBQg679DHx8AKgA25ASmQaJ2Wf//dhviFGCc4hj4H/rMAAGd4IoEAEIqOZpkMsQqZ41bTP8EHEXAAYkhDicyhBD6Szj/f9/vD9QIAIc/BDgpH47T8/48mOfkPwQwIAIb4R4AHwfImWCtEcXfnA8h6gPhgyZUfHHQAEAXY5ztTsYMq+G3Wus/++rsbi3ZLSVtvgwwALBQcmHIm4QPu8sRGSAkACqaGy+Lp2/WIQWH4AAyYMErKMV+0feUwH5yzmTaewQiwxwMDUM9GF57GUEIx4mmpPs+YK89TdUzA89L7NphfmU5C3wf8CACGCLiuGYQZSxwYX8I+NmYkbjvUmG9+Z4Qd/xERgYqBmBeweo82xf34MQIO7BNQQx94P8SvgG7gAAADxQZtgIoD+fgkgQAQl8AKmMbds4nPYEAEIrOlAAtgWfoWxD0oTXHNejkaan2iM0GTPQUYb3wJHjAW40qUkjAgApfXj69xgjgQAQljJ43s/EYOwJ3EWjSD3/rkAldpzJtPxqNxvxtasKp3/sG4LEmhmJO28IXdZPwQhPBDtLPhXclFXPrNPxLp1M/kgQAUiefxu5tk4IsSXQFDx1i5vACgN7NtVs+8uCfR32fQ/8ZjgIQAFyaBdzLVGP/QNBbk8GP9dO+0t8xEoiK/q6X7U8/BD65MPQCkgRJIFD/IEOTk1ra/3iPoOr/2z3788NJvvxPAN3AAAAZJBm4AigFHBAERfAA13ErDUjOgWVnPeQSC//5wAO6KxqRHHwIBWO/WEEwn/+9qUKWpHU6n74PBAERnAA13C05VZlQcJwlNzhU2Hu+IUJo06j+1+sH4ABz5nBMKlDfSSSEAWqMx7P8sMb/oGA4Tf/4Rc2/BFBAJNgStJ+d/ECXwR+N+pFAa8RBeGtyKSOd2/Q0do8bYFSfIgHTDmgMAA65uCYrkfvAXrgK04sEP786CQoZiMg8wQhBzIAAQriwwPvGh0QkIiF+B/ggCMEWJFZwwI7TvbnfP5/ggCIq1XHwVPO8EMEARvm4ADw/CJesWmY//WAPRbDQhHC//93hHgAcfizzdxKX9Avcu0JVf3aAAuD5kVZvxsb2BADSL4SEZQ///dv15tmzbf4Pvjsz2NVVQYYAXzDGqX2YIu1ggCJYbXHNGxzKSUe0kCL/N4bhoXhLKOQmvV7PgQQj18ZGDVALQVduF/5o4QZ4IQgIhgA5dgaCPlz//wAKAtyBDO+0mkWJ2GD9B8XZYQPnzjxCnfgk8AzEAAAAEkQZugJoBRwIAITYAcWjEeMmkPiUBMc2WJWFU9X97AgAhLu4A6O5BsNhGytyvQ0GDPwRQIAIfipC8AOAALdg1SSHLngeGKqUo3KS4n3gmvyxOvuX/4ifcOpbLmtAe5m8APhPlc0QTVhEHjzFQh/FgOd4IuJx9AO00SmYxWmc/n6gQAUieH0mN8MDXyYBFAgApE4zr8gQMCL6SdP3xmqEBwuHYBhlcAKLOy+B5n7RxjqCILMd+TeEuv5d+Xg/83k5Gmk2Goc8n4IYMAckgJnsz/5Z+v8IlhI40m1iuOgibbmqAHyIbRxOhpJ/3nh9c30I3AUnTyUplbOQX/5wTJKe/AZf4jCGJXe0e35l9kpEkKIiDgX4I4kIiMNPdEnU+Ab6gH9AGZgAAAAPpBm8AigFHAgAhF9EAEMUsyDjX3KeHJPRT8EcCACH5YAOse4zqr3uz7wFIvF7r9312uJ/+dWJyKV+eIwXMKFyFIO5/7bjrkGHmLHI2D/IQ4EtiYhEER8+LIocCACkt7wRQIAZFYAYn9E0z3xlBqUGTvCKvSltE/BDhEVYpv5OTitBw3JjgSNYH9/IC003LZidG+wYASSz+WQVMEP+EOE7hSdRRAzH8za4rgE360d8vB4BU28sHfe88BQlNJOcjKyoF/6f9SZqrx0yA4g/0QEsg9VJZS+3QS9EyPg2eU4nqd8IXyCCmGJo2NTn/BFyRsyXAcB/34ZQpmAZmAAAABmkGb4CaAUcEARLwl40i0OAgkggCIvlxOABpDKxS5DGQF9/mAoRq/Zz3jOAGIEhHKIhLu8D6wAYhkHge9wAWkKU7iISDgQlmAdohVSefvzcczoGUdbe+DvAscOUVazdoEGGAB0UP4S9EH1nYMAC8WpbUrIP7P6A8C9YlLTi4Y//+61IhJjMRkvvHZApPezu4PdA/AFRISqQkeCPF6T4QCsDwL1hEzD18Y//PrxqVUdcH87wRQQBEIzA0hLl87B2P8nRb0/uAHxLWUXZvWS7/W4khJCIiJ33+oIAjBF3jtNHPyH4IYIAjfBZwALeISV7FRZUEoF4HlRAisea+/zoAHsGuKhEgyZNf/tc4w++///vg74t6tpfgXGDYJH2TJj1xKvGQAWOsalWcJT/egIgPZUNrGMWh/tf+35tvQcDLc2y+PB/HyNHOTGWBwGd+54BC8BoGj5NOfv92FMDoW5uCoMZ8H4skYGo+xM27DASD4IAjBF/hHx4hIDAj3G5V9hgof+IwDja2mSvYzwowc7A9aYEIr/mD/Gk+dIBl4AAAA9UGaACKAUZ+CSBABCXwAch1WbJVdz2BABCP7BDo/4ylABIu9MvX8z/jf8CD6daMXz5FR9/vNiEu5cqv+nc72x4lnYEAFJYIC4aSjARBPAAiP1X9f//AMnwg9gQAQlj9P/iMLEAU2DJks9WQopsXVlB3wkQtfqvvPWJepERWXZ+CGBABiTMzk4sZwQbxPAgApgixL4dSt9c3gAznFe0Qrv+cQTwIc6R4Q1AkkPv+yHJ+Ev/xaAAEoAjTBbg98B+A3nPDD0pPzvBDyQjWDJnUBD/A/ezywTNgTqe/kwcBqtHrktLd+8hslkzI+17/DOPvfj74hfAMvAAABHEGaICaAY8CACE2AMTdzHf1/4EAEInwSPJ+AKCdyOpYjif9mZc+ABrZ7kcx8QVDmPcZkEXuIg9PwRQIAIfisAJDqombu+PoE2AZv8pAy48/9+gjn0gXOQp/+P+WHhROnVX5//EQE33Nc5Mgw5Xso8IjAgAhgi4nMzeA7TTKQSYn8/n+BABDn4IYEAFIJI8IjaZpc/n64LPAgahzpABl/Ryc/WfwMiO6nMhyOsDOXXh1YB2o7MFYCkP++BpLhNwELXx7//ACJntzMP8EMCACH4Q4JXxljIzbBjJ9jURvEDWfbvXCGADOHhd2Q5X/noPDuLBeeSaP7+IE8bIycCKdn93zjtsAD/yQyD66v+3f8EfJ8IXD8L+6RPU1PgF0gAAABFUGaQCKAY8EARF+CLYD6ASPXsAPjiE92MUb2/gDDlRaTJ2vHPn/YIBIngSk5OPLALHzN3rn3cAYI4IAj8VjYE4AHyy9AAMFvyBT/vgwFB4PF4w3Ho3CQjzgmIrFZn4H/hLA75NvpN+4wH+MIP/wn1DslF95MtLag/t4yDrO8EXEw37d4H8mNDJDn8/UEAl8YMYIoIBOfrE+JGYQcKjALhC4dBgA/k/cid4AvkOZC1BEkLf/78BKwe7GZpuLhN/3y4bFUdg1pBvZSfghhAEJITuPCbZeEQRxnLITbyKAU9cTAIvup68GjjYEDXoY4f9d4EoDCrQ56SXNRoxwdrbZKvP/3gfIXp8URLmv/vMLwR4knjEoAusAAAAC2QZpgIoBjwIAIRfgCVRkPNXiD4hAZneCOCAI8EARFwBVwCEpLVrPAEu3m7m6fUgV1ZMX7862G6X4jAwIgsxnxM0S6/rVrjPZnlOjmq5xMQ5ITIREHrcmMCACmCKBABDJic/BD5OKwxJj4AxNfyoBZr1MeKzfewIAIYIf4ksEXl2Ko3Ae1rQz0XNAB21bDgd/954AzE03K2ZUXDxbVevzyfCxQKj1TyA/B8Q3S0aGj54EcIhGAXaAAAADqQZqAIoBjn4JIEAEJthgAfsslgm2OO/778CACEVAR77YA7bZTxo+S+3AS4LERRJRvfQiPSe0fv1/AgApBXfa9tHzvDcDPDpYhI8IR8H/CIcPB0+fgigQAQifDKQhfl/yQJgFvXElX1fF3B+aaZvz/cCACGCLEuA7Wmb1EmJcIHDzn5+CHvHTxSJMPi4AyPXfe/Q4NABHqjXoHfwl11PHQEe2jeIGs2WNioxu14G4NtIPmoh5jd8JfuFUxnQmzrIMYKhVHQpH/nv53gh/ERPDBBCKo3NSgvLruAryBVlVkIduF//yYHABB4BdIAAABl0GaoCKAdcEARF8uAAOCvOqWzCdMGwAKelY3G5Z+sB89gHDBLNHHx1zmO0rlVx+DwQBEZwAZuiw3EQv+gNXeAekIEkt/+uLhaySS9bNXPlTMZXO73eB+AAYhfzpusfrnYGbfqjX36S1DYgF+0otr9BT//7g8EARgigg8QERHCJn9SeGYR4QJYQv/Edm/7P0SYm7g/wwYAKiOVmvQLbjt4DyrO5avElz9z8GpKSkrBCEHBwF+yldyDP/s7sGiUiSKBh4IAjneCHDJMOKZWpgkEARVLwQBEtgcOJMYIuJtwwl0OPTXN4AHjdZWE6WLsS//W8I8ACe0Bce4iCIL//YbxEJJGPR33gAtXAXHxxIj/0geP4FhseSPj9IP3+/6N8wwEfJbelN2IHKlQSP1pT//7vE9oKa+bas8VXEY2D/rS/G+liOFLyv4JjnvsGCL/FwnYC0eGIZh0c9S0svCPXcKVAW0aTJ8Q7PUb6BLzfXS/+IgCMbbRI2n+BEA1b4SP9ZR7/3WcaxrCBIZrg8ZwrleXBKIe3g/gF0gAAABIEGawCaAdcCACE2BM3G/z+BABCEPDsJsDOI68pmO3KG9/w3EkAENIlQDHOgTUaB4Dz8EUCACH4qwgAfJxtCR3f+9QNoMvsC5SSTX/7yBrE6pMrcrO/7v+O8F8NRJ1AWMFYEIq2tveB/8fDKfmnP7tf/ThuLkU9wfAgApgi4nQFHUxSKZB2tMn8/n+BABC4I/Di8YlT8EMCACk0ZBS2kOd8/83AkawNeaFfCMNyY8x84LARDJwc/AkaiXMrQnNviPeXfl5APACg9bUQWVe8DhN//wAYtf9sv8EMCACEmGxLkx+EPBL8XjZEoA0Dx0dHXGQAY2rfLvwF9amaoa7eC0AegWLuDTV74GvgBGT1AKsmVwnKjw12+Awv/5OzeCPwCowAAAAPRBmuB6AdcCACEX4AT3Vvr7o6BgIEmreuSOirhPS68OrJ3gjgQAQ/CHgA5z1kjP+2h+AY+W8kD58QFZDdlqfNSsX99yl29+f5IKZEOfkgVx/3gZhuuSn4EAFOfghgQAybHUFIphMSSAx9grHed4IcIk3Kbk5vAGXzTJ7zYEAEImEFE00cmPCHE4AEb7X8pusVSDJ1gVgEXCEvwTPiqTb+nSpcHToMBNxcVwAhkkzyI3AzVanv5oAldpzJsnticSO/Yqnv+4MD08skjDzv/Lxfx8IFnv9vTT+v/elcwEe4oi98HFaupvBF/iIQODpnnMcOJ6sAqMAAABgEGbACKAdcEARLwAVspowxKTfBPVl2atAlggCIzgAfD5E6z8TGv1gQA9FXGhjOC//9wAHDpEnWK43N74FA5HeMYTzT//nXfm8aqq3wYOSvGrirfx4MM10jNe5wNNgeEiZeQfv+rwAXcYHBKl8kf/+ANhSx1H3WQU//5WNVUd94nVtj5Xd3vjm+vu6fgaX96mNXOoZ/+0CgVz8ef1hR7/3XiqpVtg/wQBGCKCAIispovx1MdFJBAEYIoIAyaHej873BAETcAF8mKOijS8/fhkbvObBAETeEjf9n4IIIAjwQBGoIAiEcCT87/QAfhSpxcxhb7/OuoFhIiXySd8gBEdGrI3Ps3/e54YL7V2ZkrwHgMEzKSTpS/93jILysEo+Q4t/fnA9cAsNFEkiL/UH4cx5PAAH+lt6CRVRwNYhtlZxb2jPgARjm+FlVGBAD3ZMbHFSd//3a3h+d6iDc7vg8Dov6mrjCMdsH/36J6FJYIoIAj8V41KHJX8REZQQBq98/AKhAAAAPJBmyAigHWfgkgQAQmhNhPtBAMBDFqC3ic9+BABCKgDC+p/e8IqnGjSvvA1gBuyTFhzOCf/IInnCudDmP+e/gQAQuvULkYMs/BFAgAhLDSTGkUz8kFn0PMwsSW714Cg3fc/b/XNmDAZvCb//CLm34IsSJj9iMiI1oiPkgQAQi8B3ojl8eMU5+CHhPYoD7yOHA8KoLHXN4AVnhD1JTae8sEpt4SYDb8NtObV/joAx6TND/ggHtejo00nuGADnDqKA+/eEMhCe3NFgwbFIrP07G/eMBfneCHk4SrBeT+J8PoITz5ruB7w8tc7Vw7fl9COfwCoQAAAATJBm0AmgCHwIAIS89Cp4EAEIzgA2t8SNlfAHzT05GmlonoFOf0mAPa4O6Tne+QJTMekJj1Dm+5/Nccs2iGBrRHJ3gigQAQmhN0oDITeq/yUgAC+W18m/d7/iPKWS4YtTT14OxgYXZr6wvRJr+DIy158t22Bv5NHWfAgApLTx8FSfgh4qbcl5mjks0Kma1MZMSTgTv45t87wQ4nCb//AQ+5t/rmzhgIEL+d65yAoeP8aNsEXhyAAm3LP4WdW+/zNpyOZIOyQEPnS9kYcf88wwJ9BSqhVqVvWBABCJrzdpDQVGulw7IcgDgigQAQhPIGYqngu4IQC7MEMeAA4Czee8vLwlbs3/L/HYA4AQswYSHv4AwcAJBVzzw9o+Ss0e1/jLAoIA/uBC/LGJOwPInQF4JPAJZAAAAGyQZtgJoAh/F8AFnSEKs1CU/bwHg5nxtCMUO/9vAAPD5CV1mtGx/aYAd7FDEapNIG7///i9s9m22HggCIQ4aT1UaxngdF1gG3aRmQ/6XAFhiTGCOCAIi/AY1k0AP+xtoQZ5uGv/BAER/CLikjB39QAVu/JMckCGAOI4THcuRJ/2Xn2vti8+v+PgG4VT/Ki/z/juv3t+bM2gwYQAfcA8G8soOx6QYAWXAGgadLKEd9IEKUAPh9kqDD/eAiBaIB8eZuCiHPeD/78CrZTqd5+Jjv/gw+CAIwRYguNoKRFyJ/P514IAjBFBAEc/n+CEIC/AAbJmaCJnOpGWABEXyUzZJ8AXzyixcshUkrCpGRLuPbdvYIAiEZ7mNMHhgCueUeVYw9//9wLKsgmVy7f7/A/3fQGADnxCLF7Oz7MQp3ghggCNQQBH4yAEYFINdjO5xApREd1xck+T+GD87urHuI8H4BVMOwzC+gvAjOQBJIKTZh+7dwDAKcduCUz+0X9/IvwiDcpg/+CWADaMOwRC0ovgVHoEjpaTpx+/nY2zU8EQIhz84PTZvrwkE5X3g/nSCP8RxKwCVwAAADfQZuAegCHwIAIRfgCJpuZPy0CML9l61yGcvxITvBHAgAh+J4AEn8lM9Jp8r7xz1VFw8rV2UzbS1Y2iHL28DVEkcZRDK///68knAAIDwlwGM8YX7oRd+vwYASS2srE/BDAgBk2MpiSKYJCHO8EOEfl4bXBvm8AFHMmnkZH78wIAIRMwgZgwGV48CyBCDYs+sWuY34vCIBFwn8dPJAgN0S4rZgBLqmZCd/HsL4grTMg2iiLck4upKxXzxgLJDK7/U3hOOjEYEB4ffv+7gAKtRYhy31avjalzwRf78dCBACWwAAAAD9Bm6AmgCH8vhyH2gl4uQIBKJwiYNp2BqiXgo5tOYIAgn5aDMICNgStHQRc0bxqh31gn4iXcqHGo2AL1OkAlkAAAAIlQZvAIoAh0R4YEi8As5IzYAH8Ag5ZBChqfxwSlxAcly+iinj/+Bz19TY978eWbyvBJhEX4A6yzIz0oRljMjIz/ECRnARmfPwDi4VSdhRHsNd+AAcQVeFRnbIWqJIl//vIAAQBcgDh9DUIQCzxbQPdJEkGKTAtV9Vn/QbQNCgGlsGCNU8Viuh/+5EvjL7t8ABGAAkgBRdkkK3QoI8sgFMi02fyi6xZH/vVIRGGRHFOIczER0PhiCtMlasLrPDiv7hhxGa5xfhT29E20jcvBUc4nMN48GM10wi3lgQmMZiMlL1kv30GH4ZE/6eGnJ4CrswMkBFhkV4A4sqY9ZH70yYuSOJcAP130vrBh4j9YQH4DKec733w7fWQj75ebPIX2ehwDVaZzQE0MhAX4ASoxwxBfQu1AASMyCURS755ozi4KTE6yZzc59mAEp5R2va1rsIhAIQBYw+imHOn6sgNoSDmNyXr2h7fS6aT9W4jMmcTL+B8Ah12H/zfwSQzFeAAgEoM0/6s/CAjF0hHYuIVXkYfz/3b8PDARGQAXAA+EXQyDL+Cx7/ll/tanp/r+H4fgBhBcJHdB8BoGZwwys6EyPtij94AmWMVRyo8amwonwQJtEt18SMSU2d/9YKAjhTkFmtod2+Dng+8/rwf8IhARFeiG8u9mn6I17kt8LT9sap6/4I+K4ZQmwMfAWHdmJYw49H4RHcP59BFf9Qve4BD0NC+e/uv+ASyAAACeEGb4HoAh0GARN4Ja5xYMBJYTcpTz16wpUDSCSGAUm4JHsABOiAK2cO2so4//+wzGcACGSJjeoZCu1gGF46SE2EvtFD91gAHAegEd4JblKKRAoN2gAVAIIkoxPD/Q6tL131tm2GpXf/g/BgzJCoxF/5Jy9L4mCzsaSkpKJgoc3e0RhlYIykntKIeGAAgCFm0zQjkYRVuu5gAAhtDeo2kJXdbkL9avv//bYQEj+iJEFYuamM32vjf2md9gNC5bUEhcrtj/PBmY8mYf814QlldiFLsdORmD4Dchy4HSLaJGJ0E2EJcxS3LubKDenggihGbARPcLHAMQfWYkFIKeAkZtAf4thAgODi1hwJjBqZgIVIxUmoy9d/q1ERGl/0ocIiPDDbiPQZcrJCoE/+4EQovbqJhVmHr4MPikIjDIjiFOYwGHUEIkfwimRoD9L5lEvEx955kfTT+1/gGU0MDJMCwiEC2viLWB/APBLhAX4ADsieEcPeBSxd8h/wCB+g74CgBA1UHp0TRgNdS8F//vAINW26nviNP8QoHiQgM+ADbp3lkW/AAsKlBiz4jOCCu99kyDSqJ6k+PttyYGzXgwICQSgMmWiroI4msb7BH/VgBrWER0Nsmyn/58yUQasBCRnb6tsroooAwSH+GYyABPJY36GRyswQY7IRcEJEqIu+ukRtM0KH/Pwa/f2gDJ+r7bACMY3xJnPvAAMWbBi09ejEMoauxF0gAW0tmLOwyPeAGOEjuRZSmwYep4a/RdGk42E6CBB8MCX8AZj4J16qdLWYec0UpTA/BJBiEQjzSAkG4CNBMwbxBL9QJ+NtbMCPA/8S4E+rYf3sGHAJXAAACqkGaAHoAh0GAZNwStgZ4SIaFO8EkIAhN4AK8myRpe/rCEZgALRm0ERHF9Skhl/8QOFecNsqIkewrs4sENqwqGyNf3f5XpyNNIGLQkwOjI4owsdgp//AAkAGo5AETU1VcNx+1H3wJcoCbIMcowO04QaAygKwACAzqhYvhF2/pCEABYARqcD0XEMCnFTf34PBBCd4D8TjHPRssidgwBt1/LL1i8AjLshhxuqUVtHTES4jcs9/2ptkb7JAiP+ER3gJjNoYZ3wHB/hE8V6me8///NKbIQGx04LcrWiE3v8Ld//gDaNrASW3g7g2+uEwj4CIvHwaUNhESOhgAIDEZb051yoiyRK27EQiISLTeWXrzDRMtJaeCYvfBgpbwnseo1i9I8aFgw4CV4Q49nkcPnx3leGHiF4IQiI4FWTpnw9uTiNe3+AltTA9JYRDAQ5quRpYGtSjftoIPgEtbTD/pjCF2KlX1vBCE8AQpppNB1fwCryBaPi52Em/iYxvIgiCPTBh+AmLyUe94IAj4AGodhgRR4fsgUf24ADNopmegsqow+ADKBW3knHWYUNgZ//cAAHwnBUIyTuJx6+PP+DxIYGQAEAeZDEcFL1WoEKE9BgSqWg5c0bolTfuUrblGxqsCHh2xFzD41iAdJw2FTATQActojBInjI6/+K1CYxpBgBEQupCx9/eAA8CDk4Z0JBvRJgzf/jhCDKO6jEe1RIWT/7gylV7pUAiBjTX4MOCWGRAztHYIh75UU1yAjRGTE+Uiuy99//e2/B6TNhIhVF5ZZL/AChyqim3ZVxyQ4CYcTOdw0STAhNjtj/QHZSsY5MH7gSEQfCYW6TKGOr/cH/1+3s2ZsMEkFIkXCBc7P3gsJEGEamtv/8FI7Ed20P5dzbfJEQ5r/hPyqeb91f8AlcAAAAJAQZogIoAhwT//+AMja7B7wSxARN4Qjf9wgERmAK+MiDA2ygEIy7bAx564YhCPWJf+xPvA+IbZrloyKadhxGP/YMCRiVM92k/LaKARcZ4XsGQUIgkwt4Ois8hZ3YwLWPNFIxl4DUvcPRhF+/9cHhCE4FGHkAY8YmcWh8QMjo8SPjg5DCmjgAtVn5aoEDwgykbxaD4I8SEcAWAnQOT06UK7wu/74AFVxjI1KK7QvjygLdoOAk3HfoFVZjwgd7pljnI5iwT3daAZyQYJtCakiMzHYP8THQcAB9IzS8SdTt0Vg2PJTKMwsl/bHtILGDUQUQ/nh+GABBED6TZbgJTaVFf/T9//bbB/ELwQhElBYEIuzcDhgIU4xF8LkHH1Skzh/YMQALGxneKVAM4ayx/qnYCDLW/yGPf4l4QBO17D/kAhCf//ghaD3xIZE7MRqD/H5ixj/wExbJR75/P/FeABcwNhm3H33GF/AARtvlbn+xHpPCLSma4BSwAdjNlwZN1/aIx/+DxIQGQJAK0Dn30WILfwK/ft0Ommm17fe29jql6vw9ADFvT4l6n4Et//1Auz0Il34AvgACAAMdc6NfI1p4a/4MMAF5qsJeR02AANkGV0EIQ89JRhNgiDMRKZRYtdzlVRFIkksCBBwSwiEAT8LB25B00Rkv988BorTmW00MBMtbsLXobBBEWyLDAvUACJ/5COXaPrbfHyXiAy+B5XIuiFEbz/vgTqtvbbPueCWGY7wELq7RRZuP+A/6WmfFffAJXAAAAChEGaQHoAhx+CXEG2UAD2KXxWKZj5/t/ggBCMh5+N/NYHYpjTq2R8AV+qMB4SIlZwCiGpOc22wa+uCP+0ZtAM7SrDBPwMBMhv8QTFk+xi/yTSMti6L2rnOZ1d6GUKmtNeD4RCHIQAONLG2jLT8MCpESf6X/L3R4A4nDhfh5fg+A2VMTm8sCOIBSCzAXwICRDwEvqFLVBoa+4DpQar4MWWXfPv/ecMyEAA9kCCvx3SwsW4/74PWRFlFKPPo5DnwCJoaMdqoyVLSl+Ol82ccFCz44HAhxkNvP/wfBoBQhCMI4SKmUnQh/+6wDOHrNjhxw8CBR/+DDgANpmZCJFO5CPozb8RSsxLf140AAQjWcLE7/GFabgRhxC+GCQ9qTBh+JBQMgGJBwR9xGBic1mnNOJIjFuZAAIhr8lhkHFzWaX0YA5sgiLgRHrP3WQz1AhfcWpZt+DxHTD+pOcY09+9oXw/cNZ8BwQV6kZTPJCSXj+oiJBMCE/wUhAd8EvktmpzGrCoAg50DiJlYiu1/wIR3iIHaoiAc0pKPcMvTZj9O5SuPv+sFIrwALsNTOYEDVZJCiv5A1YNehg6FFsJbfgAFcCbc4KswZpdlTAAYPu3+DisioJFhcQCmBkIBHTNCkNXTbJ3/vDgYgDBnWgK6b/90S+/x4sICmorXxadgiChjnwfgAeGCOiFh6r0lmhVr+AggZVxginn+UYSwQwCZRACGLNaAmNfv06CLCDgDfmRkrwf2FMACF7u778MCGkNnETXkLeyH/4QECfkxCVAvTWnCQiVohD5tszYZXFf7S3t74AAgAh4MSywMFTjAqPgyq7wSwciAjtoYTDS8Eh+eRF8/0erEhm/gErgAAACZUGaYHoAmfNgDMrRBBRWQFEPpHYw08FIquQI/sEAIQV8EPme3fmhIZ5zrE+gH7B5N6pwfBZ7pjEg7LSc0wskEYOhOb5xCCP4EwiLdvxKoUUAIjWm2W9f4/NBRiehUIeHoOQ9oQXr5wgLgJhTk/PHyEksYGgSwfzNQB0U4UK/PF9QQR5YHmJZbFfLYIuK6AYPxQMDVkGPJmsgWEhrc2Ckpb/uAAxAAbKDmhRCDYim/pPkCDdwhL33hkylKgQRlo38gFybc7XrT5CfgBDSER/+BAjAjB//94MqbnQAAgGANUhe94GQaAGkTKUd5e1hs/WDn9IHO8wDKcpj7wMgqPhwEWkDqr2sHP1g57wUDPgAIyAIE/eWPZQ1yRQRdoBuoHDXTamEss53twthMNgGOtioxm6waRX/7RokHpYgVgTNfojf1BgjAB9QFIDF47CDZzwOwFocAYXuPmSTaDA3A125QEEeSVfP/eCLBSEdA+iNCK4AcGL34MVOO1jIPAZB+uYBIhYpOpH+oCOmaj1RAY2BCAhkAasCMRPgxcAHvQSFPyCJMxVIkRIiI9hEMBjkpiRar2j/g0E///AHGaaz38IgoCkFiGRNK5pI11fdeBWc0QW+MTdwECUENHmhY/Ppg+f37oCAnzjsgxTCk79+DtZC75uXbP/AUIoLxkJniy6ECC39ac10SSwIc7enARXnktHrx7za2maOwRQQxnXAmLMg8DP0HaSl/OZm7j71/SUZjzfSmf4MQUDv8CJuHGwTYEZJvgakm+atafqB3xR0/wEvJpwBhHUydywYhh0BBHylPZ/PYk0MAlUAAAXibW9vdgAAAGxtdmhkAAAAAAAAAAAAAAAAAAAD6AAAF3AAAQAAAQAAAAAAAAAAAAAAAAEAAAAAAAAAAAAAAAAAAAABAAAAAAAAAAAAAAAAAABAAAAAAAAAAAAAAAAAAAAAAAAAAAAAAAAAAAAAAAAAAgAABQ10cmFrAAAAXHRraGQAAAADAAAAAAAAAAAAAAABAAAAAAAAF3AAAAAAAAAAAAAAAAAAAAAAAAEAAAAAAAAAAAAAAAAAAAABAAAAAAAAAAAAAAAAAABAAAAAAlgAAAE0AAAAAAAkZWR0cwAAABxlbHN0AAAAAAAAAAEAABdwAAAAAAABAAAAAASFbWRpYQAAACBtZGhkAAAAAAAAAAAAAAAAAAA8AAABaABVxAAAAAAALWhkbHIAAAAAAAAAAHZpZGUAAAAAAAAAAAAAAABWaWRlb0hhbmRsZXIAAAAEMG1pbmYAAAAUdm1oZAAAAAEAAAAAAAAAAAAAACRkaW5mAAAAHGRyZWYAAAAAAAAAAQAAAAx1cmwgAAAAAQAAA/BzdGJsAAAAqHN0c2QAAAAAAAAAAQAAAJhhdmMxAAAAAAAAAAEAAAAAAAAAAAAAAAAAAAAAAlgBNABIAAAASAAAAAAAAAABFUxhdmM2MS4xOS4xMDAgbGlieDI2NAAAAAAAAAAAAAAAGP//AAAALmF2Y0MBQsAe/+EAF2dCwB7aAmCnlnhAAAADAEAAAA8DxYuoAQAEaM4PyAAAABRidHJ0AAAAAAABnm4AAZ5uAAAAGHN0dHMAAAAAAAAAAQAAALQAAAIAAAAAFHN0c3MAAAAAAAAAAQAAAAEAAAAcc3RzYwAAAAAAAAABAAAAAQAAALQAAAABAAAC5HN0c3oAAAAAAAAAAAAAALQAAAs3AAABMQAAAhQAAAIVAAACOwAAApwAAAG5AAABjwAAAcYAAAG3AAABeAAAAb4AAAHIAAABuQAAAXIAAAErAAABuwAAAV8AAAEcAAABcAAAAW0AAAG+AAABpgAAAV4AAAHHAAABdAAAAZYAAAHVAAABggAAAV0AAAHGAAABlgAAAb0AAAHKAAABdwAAAZAAAAHaAAABqgAAAgUAAAHmAAACCgAAAhMAAAHRAAACEwAAAdIAAAGuAAAB1AAAAfcAAAHOAAAB7QAAAcQAAAG0AAABnAAAAZgAAAFlAAABXQAAAYEAAAGKAAABeQAAATYAAAFtAAACCQAAATMAAAGQAAABNQAAAfEAAAFzAAABNgAAAU8AAAFkAAAB+QAAAUQAAAHaAAABWgAAAdgAAAFFAAABQQAAAUAAAAGVAAAAMAAAAqQAAAJhAAACvgAAAngAAAJBAAACRAAAAiEAAAHpAAACeAAAAoQAAAI4AAACuAAAApoAAAH6AAACcAAAAcYAAAIjAAACIgAAAawAAAFfAAABmgAAAYUAAAFKAAABWQAAAVkAAAFeAAABSwAAAWAAAAGrAAABewAAAZwAAAGBAAABqgAAAcgAAAFoAAABwgAAAasAAAGPAAABoQAAASEAAAH5AAABPQAAAVUAAAIDAAABTAAAAcYAAAG2AAABygAAAdEAAAHpAAABnQAAAgIAAAHTAAACDAAAAhYAAAGyAAAByQAAAbgAAAG2AAABvQAAAhgAAAHjAAACAwAAAd8AAAGyAAAB4gAAAe0AAAF1AAABYAAAAdYAAAGKAAABowAAAX4AAAHHAAABjwAAAPUAAAGWAAABKAAAAP4AAAGeAAAA+QAAASAAAAEZAAAAugAAAO4AAAGbAAABJAAAAPgAAAGEAAAA9gAAATYAAAG2AAAA4wAAAEMAAAIpAAACfAAAAq4AAAJEAAACiAAAAmkAAAAUc3RjbwAAAAAAAAABAAAAMAAAAGF1ZHRhAAAAWW1ldGEAAAAAAAAAIWhkbHIAAAAAAAAAAG1kaXJhcHBsAAAAAAAAAAAAAAAALGlsc3QAAAAkqXRvbwAAABxkYXRhAAAAAQAAAABMYXZmNjEuNy4xMDA=' controls>Sorry, seems like your browser doesn't support HTML5 audio/video</video></div>"
      ],
      "text/plain": [
       "<moviepy.video.io.display_in_notebook.HTML2 object>"
      ]
     },
     "execution_count": 59,
     "metadata": {},
     "output_type": "execute_result"
    }
   ],
   "source": [
    "from navground.sim.ui.video import display_video_from_run\n",
    "\n",
    "display_video_from_run(run, factor=5)"
   ]
  },
  {
   "cell_type": "markdown",
   "id": "ed17c031-0557-4b45-9024-45603c47e044",
   "metadata": {},
   "source": [
    "Let's go back to the live visualization in the notebook which uses websockets, javascript, and SVG."
   ]
  },
  {
   "cell_type": "code",
   "execution_count": 60,
   "id": "3ebee97f",
   "metadata": {
    "execution": {
     "iopub.execute_input": "2025-06-06T15:37:39.436574Z",
     "iopub.status.busy": "2025-06-06T15:37:39.436286Z",
     "iopub.status.idle": "2025-06-06T15:37:39.570961Z",
     "shell.execute_reply": "2025-06-06T15:37:39.570644Z"
    },
    "tags": []
   },
   "outputs": [
    {
     "data": {
      "text/plain": [
       "True"
      ]
     },
     "execution_count": 60,
     "metadata": {},
     "output_type": "execute_result"
    }
   ],
   "source": [
    "from navground.sim.ui import WebUI\n",
    "from navground.sim.notebook import notebook_view\n",
    "from navground.sim.real_time import RealTimeSimulation\n",
    "\n",
    "web_ui = WebUI(host='127.0.0.1', max_rate=-1)\n",
    "await web_ui.prepare()"
   ]
  },
  {
   "cell_type": "code",
   "execution_count": 61,
   "id": "168d6344",
   "metadata": {
    "execution": {
     "iopub.execute_input": "2025-06-06T15:37:39.572580Z",
     "iopub.status.busy": "2025-06-06T15:37:39.572428Z",
     "iopub.status.idle": "2025-06-06T15:37:39.611315Z",
     "shell.execute_reply": "2025-06-06T15:37:39.611015Z"
    },
    "scrolled": true,
    "tags": []
   },
   "outputs": [
    {
     "data": {
      "text/html": [
       "<!DOCTYPE html>\n",
       "\n",
       "<html>\n",
       "<head>\n",
       "  <!--  -->\n",
       "  <title></title>\n",
       "  \n",
       "  \n",
       "  \n",
       "  <script type='text/javascript'>\n",
       "    var NS = \"http://www.w3.org/2000/svg\";\n",
       "\n",
       "class WebUIClient {\n",
       "  constructor(port='8000', prefix='', display_shape=false) {\n",
       "    this.agents = new Set();\n",
       "    this.entity = {};\n",
       "    this.prefix = prefix;\n",
       "    this.port = port;\n",
       "    this.display_shape = display_shape;\n",
       "    this.prototypes = {\n",
       "      '': `${prefix}agent`, \n",
       "      'thymio': `${prefix}thymio`, \n",
       "      'wheelchair': `${prefix}wheelchair`, \n",
       "      'human': `${prefix}human`\n",
       "    };\n",
       "  }\n",
       "\n",
       "  connect() {\n",
       "    var client = this;\n",
       "    var ws_address = `ws://127.0.0.1:${this.port}/`\n",
       "    console.log(`[${this.prefix}] Try to connect to ${ws_address}`)\n",
       "    var ws = new WebSocket(ws_address);\n",
       "    ws.onopen = function(event) {\n",
       "      console.log(`[${client.prefix}] Opened Web socket ${ws_address}`)\n",
       "      client.ws = ws;\n",
       "    };\n",
       "    \n",
       "    ws.onmessage = function(event) {\n",
       "      var [type, data] = JSON.parse(event.data)\n",
       "      switch (type) {\n",
       "        case 'm':\n",
       "          client.move(data)\n",
       "          break;\n",
       "        case 'r':\n",
       "          client.reset(data)\n",
       "          break;\n",
       "        case 's':\n",
       "          client.set(data)\n",
       "          break;\n",
       "        case 'v':\n",
       "          client.view(data)\n",
       "          break;\n",
       "        case '+':\n",
       "          client.add(data)\n",
       "          break;\n",
       "        default:\n",
       "          break\n",
       "      }\n",
       "    }\n",
       "  \n",
       "    ws.onclose = function(e) {\n",
       "      console.log('Socket is closed. Reconnect will be attempted in 1 second.', e.reason);\n",
       "      client.ws = null;\n",
       "      setTimeout(function(){client.connect();}, 1000);\n",
       "    };\n",
       "  \n",
       "    ws.onerror = function(err) {\n",
       "      console.log('Socket encountered error ... closing socket');\n",
       "      ws.close();\n",
       "    };\n",
       "  }\n",
       "\n",
       "  add_wall(id, points) {\n",
       "    var e = document.createElementNS(NS,\"polyline\");\n",
       "    var ps = []\n",
       "    for (var i in points) {\n",
       "       ps.push(`${points[i][0]},${points[i][1]}`)\n",
       "    } \n",
       "    e.setAttribute(\"points\", ps.join())\n",
       "    e.setAttribute(\"class\", \"wall\");\n",
       "    e.setAttribute(\"id\", id);\n",
       "    return e\n",
       "  }\n",
       "  \n",
       "  add_obstacle(id, point, radius) {\n",
       "    var e = document.createElementNS(NS,\"circle\");\n",
       "    e.setAttribute(\"cx\", `${point[0]}`)\n",
       "    e.setAttribute(\"cy\", `${point[1]}`)\n",
       "    e.setAttribute(\"r\", `${radius}`)\n",
       "    e.setAttribute(\"class\", \"obstacle\");\n",
       "    e.setAttribute(\"id\", id);\n",
       "    return e\n",
       "  }\n",
       "  \n",
       "  add_agent(id, type, size, color) \n",
       "  {\n",
       "    var g = document.createElementNS(NS,\"g\");\n",
       "    var agent = document.createElementNS(NS,\"use\");\n",
       "    var uid = this.prototypes[type] || `${this.prefix}agent`;\n",
       "    agent.setAttributeNS(\"http://www.w3.org/1999/xlink\", \"xlink:href\", \"#\" + uid);\n",
       "    agent.setAttribute(\"transform\", `scale(${size}, ${size})`)\n",
       "    g.appendChild(agent)\n",
       "    g.setAttribute(\"class\", type);\n",
       "    g.setAttribute(\"id\", id);\n",
       "    if (color) {\n",
       "      g.setAttribute(\"style\", `fill: ${color}`);\n",
       "    }\n",
       "    if (this.display_shape) {\n",
       "      var shape = document.createElementNS(NS,\"circle\");\n",
       "      shape.setAttribute(\"r\", size);\n",
       "      shape.setAttribute(\"class\", \"shape\");\n",
       "      g.appendChild(shape);\n",
       "    }\n",
       "    return g;\n",
       "  };\n",
       "  \n",
       "  add_entity(uid, data) {\n",
       "    var id = this.prefix + uid\n",
       "    if (id in this.entity) {\n",
       "      console.warn(`Entity ${id} already present`)\n",
       "      return;\n",
       "    }\n",
       "    var kind = data['kind'];\n",
       "    var svg_world = document.getElementById(this.prefix + \"world\");\n",
       "    if (!svg_world) return;\n",
       "    var e = document.getElementById(id);\n",
       "    if (e) {\n",
       "      svg_world.removeChild(e);\n",
       "      e = null;\n",
       "    }\n",
       "    var state = null;\n",
       "    switch (kind) {\n",
       "      case 'w':\n",
       "        e = this.add_wall(id, data['points']);\n",
       "        break;\n",
       "      case 'o':\n",
       "        e = this.add_obstacle(id, data['point'], data['radius']);\n",
       "        break;\n",
       "      case 'a':\n",
       "        e = this.add_agent(id, data['type'], data['size'], data['color']);\n",
       "        state = data['pose']\n",
       "        var [x, y, theta] = state;\n",
       "        this.move_element(e, x, y, theta);\n",
       "        this.agents.add(id);\n",
       "        break;\n",
       "      default:\n",
       "        break\n",
       "    }\n",
       "    if (e) {\n",
       "      svg_world.appendChild(e);\n",
       "      this.entity[id] = {'svg': e, 'updated': true, 'state': state};\n",
       "    }\n",
       "  };\n",
       "  \n",
       "  add(data) {\n",
       "    for (var _id in data) {\n",
       "      this.add_entity(_id, data[_id])\n",
       "    }\n",
       "    window.requestAnimationFrame(this.update.bind(this));\n",
       "  };\n",
       "  \n",
       "  set_entity(_id, data) {\n",
       "    if(!(_id in this.entity)) {\n",
       "      console.warn(`Entity ${_id} unknown`)\n",
       "      return;\n",
       "    }\n",
       "    for (var a in data) {\n",
       "      this.entity[_id]['svg'].setAttribute(a, data[a])\n",
       "    }\n",
       "  };\n",
       "  \n",
       "  set(data) {\n",
       "    for (var _id in data) {\n",
       "      var _nid = this.prefix + _id\n",
       "      if (_nid in this.entity) {\n",
       "        this.set_entity(_nid, data[_id])\n",
       "      } else {\n",
       "        var e = document.getElementById(_nid);\n",
       "        if (e) {\n",
       "          var e_data = data[_id];\n",
       "          for (var a in e_data) {\n",
       "            console.log(`Setting attributes ${a} of ${e} to ${e_data[a]}`)\n",
       "            e.setAttribute(a, e_data[a]);\n",
       "          }\n",
       "        }\n",
       "      }\n",
       "    }\n",
       "    window.requestAnimationFrame(this.update.bind(this));\n",
       "  };\n",
       "  \n",
       "  move_entity(_id, data) {\n",
       "    if(!this.agents.has(_id)) {\n",
       "      console.warn(`Agent ${_id} unknown`)\n",
       "      return;\n",
       "    }\n",
       "    var [x, y, theta] = data;\n",
       "    this.entity[_id]['state'] = [x, y, theta]\n",
       "    this.entity[_id]['updated'] = true\n",
       "  };\n",
       "  \n",
       "  move(data) {\n",
       "    for (var _id in data) {\n",
       "      this.move_entity(this.prefix + _id, data[_id])\n",
       "    }\n",
       "    window.requestAnimationFrame(this.update.bind(this));\n",
       "  };\n",
       "  \n",
       "  reset() {\n",
       "    var svg_world = document.getElementById(this.prefix + \"world\");\n",
       "    if (!svg_world) return;\n",
       "    for (var _id in this.entity) {\n",
       "      svg_world.removeChild(this.entity[_id]['svg'])\n",
       "    }\n",
       "    console.log(`[${this.prefix}] reset`)\n",
       "    this.entity = {}\n",
       "    this.agents.clear()\n",
       "    window.requestAnimationFrame(this.update.bind(this));\n",
       "  };\n",
       "  \n",
       "  view(data) {\n",
       "    var [x, y, width, height] = data;\n",
       "    var svg = document.getElementById(this.prefix + \"svg\");\n",
       "    if (!svg) return;\n",
       "    svg.setAttribute(\"viewBox\", `${x} ${y} ${width} ${height}`)\n",
       "    window.requestAnimationFrame(this.update.bind(this));\n",
       "  };\n",
       "  \n",
       "  update(step) {\n",
       "    var ids_to_be_removed = []\n",
       "    for (var id of this.agents) {\n",
       "      // if (!entity[id]['updated']) {\n",
       "      //   ids_to_be_removed.push(id)\n",
       "      // }\n",
       "      if (this.entity[id]['updated']) {\n",
       "        var [x, y, theta] = this.entity[id]['state']\n",
       "        this.move_element(this.entity[id]['svg'], x, y, theta)\n",
       "        this.entity[id]['updated'] = false;\n",
       "      }\n",
       "    }\n",
       "    // for (var _id of ids_to_be_removed) {\n",
       "    //   remove_entity(_id);\n",
       "    // }  \n",
       "  };\n",
       "  \n",
       "  remove_entity(_id) {\n",
       "      var svg_world = document.getElementById(this.prefix + \"world\");\n",
       "      if (!svg_world) return;\n",
       "      console.log(`remove ${_id}`)\n",
       "      svg_world.removeChild(this.entity[_id]['svg'])\n",
       "      this.agents.delete(_id);\n",
       "      delete this.entity[_id];\n",
       "  }\n",
       "  \n",
       "  move_element(g, x, y, angle) {\n",
       "    var t = `translate(${x},${y}) rotate(${angle * 180 / 3.14159})`\n",
       "    g.setAttribute(\"transform\", t)\n",
       "  };\n",
       "}\n",
       "\n",
       "  </script>\n",
       "  \n",
       "  <script type='text/javascript'>\n",
       "    var N0client = new WebUIClient(8000, \"N0\", false)\n",
       "    N0client.connect();\n",
       "  </script>\n",
       "  \n",
       "  \n",
       "</head>\n",
       "<body>\n",
       "  <div>\n",
       "    <h1></h1>\n",
       "  </div>\n",
       "  \n",
       "<svg id=\"N0svg\" xmlns=\"http://www.w3.org/2000/svg\" xmlns:xlink=\"http://www.w3.org/1999/xlink\" version=\"1.1\" width=\"300\" height=\"300\" viewBox=\"0.0000 0.0000 1.0000 1.0000\">\n",
       "<defs>\n",
       "  <g id=\"N0agent\">\n",
       "   <circle class=\"body\" cx=\"0\" cy=\"0\" r=\"1\"/>\n",
       "   <circle opacity=\"0.5\" stroke=\"none\" fill=\"black\" cx=\"0.75\" cy=\"0\" r=\"0.25\"/>\n",
       "  </g>\n",
       "  <g id=\"N0car\">\n",
       "    <path class=\"body\" transform=\"scale(1.75, 1)\" d=\"m 0.49444586,0.25811529 v -0.5065194 c 0,-0.13426505 -0.0726279,-0.24307259 -0.13792396,-0.24307259 h -0.72908645 c -0.0652749,0 -0.11823253,0.10880754 -0.11823253,0.24307259 v 0.5065194 c 0,0.13422181 0.0529363,0.24311566 0.11823253,0.24311566 H 0.3565219 C 0.421818,0.50114465 0.49444586,0.3923371 0.49444586,0.25811529 Z M 0.19723062,0.45862967 H -0.0471319 L -0.0544845,0.34107785 h 0.10067781 z m 0.0715386,-0.0616836 C 0.18707067,0.35318193 0.09049877,0.3013627 0.09049877,0.3013627 v -0.59305748 l 0.17827049,-0.0957127 c 0,4.33e-5 0.0632222,0.38267876 -4e-8,0.78435355 z M 0.03959426,-0.33003148 h -0.0941 l 0.0073109,-0.11759477 H 0.1906527 Z m -0.339887,-0.11759477 h 0.21700397 l -0.0071853,0.11759477 h -0.1716927 z m -0.0616716,0.0670677 0.0698839,0.0955406 V 0.3081684 l -0.0698839,0.0955837 z m 0.10635484,0.7216364 h 0.16490542 l 0.0074366,0.11755182 h -0.21048934 z\"/>\n",
       "  </g>\n",
       "  <g id=\"N0robomaster_ep\">\n",
       "    <path class=\"body\" d=\"m -0.82233223,0.24 c -0.0391148,-0.15514519 -0.0391148,-0.32485481 0,-0.48 0.0120317,-0.0477227 0.07,-0.13 0.07,-0.13 h 0.45 l 0.09,-0.11 h 0.42 l 0.09,0.11 h 0.45 c 0,0 0.16467536,0.14929718 0.2,0.25 0.0264806,0.07549027 0.0264806,0.16450973 0,0.24 -0.0353246,0.10070282 -0.2,0.25 -0.2,0.25 h -0.45 l -0.09,0.11 h -0.42 l -0.09,-0.11 h -0.45 c 0,0 -0.0579683,-0.0822773 -0.07,-0.13 z\"/>\n",
       "    <rect class=\"wheel\" height=\"0.22774614\" rx=\"0.073571824\" ry=\"0.073361315\" style=\"fill:#121212;fill-opacity:1;stroke:none;stroke-width:0.00979554;stroke-dasharray:none;stroke-opacity:1\" transform=\"scale(-1,1)\" width=\"0.53466278\" x=\"0.2324958\" y=\"-0.61387306\"/>\n",
       "    <rect class=\"wheel\" height=\"0.22774614\" rx=\"0.073571824\" ry=\"0.073361315\" style=\"fill:#121212;stroke:none\" width=\"0.53466278\" x=\"0.23283984\" y=\"-0.61387306\"/>\n",
       "    <rect class=\"wheel\" height=\"0.22774614\" rx=\"0.073571824\" ry=\"0.073361315\" style=\"fill:#121212;stroke:none\" width=\"0.53466278\" x=\"0.23283984\" y=\"0.38612694\"/>\n",
       "    <rect class=\"wheel\" height=\"0.22774614\" rx=\"0.073571824\" ry=\"0.073361315\" style=\"fill:#121212;stroke:none\" width=\"0.53466278\" x=\"-0.76715857\" y=\"0.38612694\"/>\n",
       "    <rect class=\"motor\" height=\"0.12521972\" style=\"fill:#2a2a2a;stroke:none\" width=\"0.22443947\" x=\"-0.093881205\" y=\"0.15738994\"/>\n",
       "    <rect class=\"motor\" height=\"0.12521972\" style=\"fill:#2a2a2a;stroke:none\" width=\"0.22443947\" x=\"-0.093881205\" y=\"-0.28260982\"/>\n",
       "    <path class=\"arm\" d=\"m 1.0576703,-0.39000203 -0.23000152,0.0700009 -0.0300033,0.1699999 H -0.14233403 V 0.1500012 H 0.79766546 L 0.82766878,0.3200011 1.0576703,0.390002 1.2276702,0.3200011 1.2576684,0.2599996 H 1.0518308 L 0.93766725,0.1199978 V -0.1199978 L 1.0624503,-0.2599996 h 0.1952181 l -0.029998,-0.0600015 z m -0.00814,0.0597017 -0.13185764,0.1502648 -0.052064,-0.0813749 z m -0.75185597,0.2503 H 0.54478682 V 0.0800003 H 0.29767013 Z M 0.91766846,0.1841076 1.0495261,0.3343724 0.86560445,0.2654825 Z\" style=\"fill:#2a2a2a;stroke:none\"/>\n",
       "  </g>\n",
       "  <g id=\"N0quadrotor\">\n",
       "    <path class=\"camera\" style=\"stroke:none;fill:#808080\" d=\"M 0.25,0 0.75,0.25 0.75,-0.25 Z\"/>\n",
       "    <g class=\"body\">\n",
       "      <path d=\"M 0.06999986,0.07032032 0.49632602,-0.4605096 0.45935482,-0.492153 -0.07000004,-0.06968042 Z\"/>\n",
       "      <path d=\"m -0.07000006,0.07032032 -0.42632616,-0.53082992 0.0369712,-0.0316434 0.52935486,0.42247258 z\"/>\n",
       "      <path d=\"M 0.06999986,-0.07096132 0.49632602,0.4598686 0.45935482,0.4915121 -0.07000004,0.06903952 Z\" />\n",
       "      <path d=\"M -0.07000006,-0.07096132 -0.49632622,0.4598686 -0.45935502,0.491512 0.06999984,0.06903942 Z\"/>\n",
       "      <circle cx=\"0\" cy=\"0\" r=\"0.35\" />\n",
       "    </g>\n",
       "    <g class=\"prop\">\n",
       "      <ellipse\n",
       "         style=\"fill:#0d0d0d;stroke:none;\"\n",
       "         cx=\"0.69928879\"\n",
       "         cy=\"-0.14274563\"\n",
       "         rx=\"0.024324713\"\n",
       "         ry=\"0.11011158\"\n",
       "         transform=\"rotate(-45)\" />\n",
       "      <ellipse\n",
       "         style=\"fill:#0d0d0d;stroke:none;\"\n",
       "         cx=\"0.69928879\"\n",
       "         cy=\"0.14367317\"\n",
       "         rx=\"0.024324713\"\n",
       "         ry=\"0.11011158\"\n",
       "         transform=\"rotate(-45)\" />\n",
       "      <ellipse\n",
       "         style=\"fill:none;stroke:#000000;stroke-width:0.0392596\"\n",
       "         cx=\"0.49399981\"\n",
       "         cy=\"-0.49447966\"\n",
       "         rx=\"0.28037018\"\n",
       "         ry=\"0.28037015\"  />\n",
       "      <ellipse\n",
       "         style=\"fill:none;stroke:#000000;stroke-width:0.0574358\"\n",
       "         cx=\"0.49399981\"\n",
       "         cy=\"-0.49447966\"\n",
       "         rx=\"0.051282048\"\n",
       "         ry=\"0.051282078\" />\n",
       "    </g>\n",
       "    <g class=\"prop\">\n",
       "      <ellipse\n",
       "         style=\"fill:#0d0d0d;stroke:none;\"\n",
       "         cx=\"0.69928879\"\n",
       "         cy=\"-0.14274563\"\n",
       "         rx=\"0.024324713\"\n",
       "         ry=\"0.11011158\"\n",
       "         transform=\"matrix(-0.70710678,-0.70710678,-0.70710678,0.70710678,0,0)\" />\n",
       "      <ellipse\n",
       "         style=\"fill:#0d0d0d;stroke:none;\"\n",
       "         cx=\"0.69928879\"\n",
       "         cy=\"0.14367317\"\n",
       "         rx=\"0.024324713\"\n",
       "         ry=\"0.11011158\"\n",
       "         transform=\"matrix(-0.70710678,-0.70710678,-0.70710678,0.70710678,0,0)\" />\n",
       "      <ellipse\n",
       "         style=\"fill:none;stroke:#000000;stroke-width:0.0392596\"\n",
       "         cx=\"0.49399981\"\n",
       "         cy=\"-0.49447966\"\n",
       "         rx=\"0.28037018\"\n",
       "         ry=\"0.28037015\" \n",
       "         transform=\"scale(-1,1)\" />\n",
       "      <ellipse\n",
       "         style=\"fill:none;stroke:#000000;stroke-width:0.0574358\"\n",
       "         cx=\"0.49399981\"\n",
       "         cy=\"-0.49447966\"\n",
       "         rx=\"0.051282048\"\n",
       "         ry=\"0.051282078\"\n",
       "         transform=\"scale(-1,1)\" />\n",
       "    </g>\n",
       "    <g class=\"prop\">\n",
       "      <ellipse\n",
       "         style=\"fill:#0d0d0d;stroke:none;\"\n",
       "         cx=\"0.69928879\"\n",
       "         cy=\"-0.14274563\"\n",
       "         rx=\"0.024324713\"\n",
       "         ry=\"0.11011158\"\n",
       "         transform=\"matrix(0.70710678,0.70710678,0.70710678,-0.70710678,0,0)\" />\n",
       "      <ellipse\n",
       "         style=\"fill:#0d0d0d;stroke:none;\"\n",
       "         cx=\"0.69928879\"\n",
       "         cy=\"0.14367317\"\n",
       "         rx=\"0.024324713\"\n",
       "         ry=\"0.11011158\"\n",
       "         transform=\"matrix(0.70710678,0.70710678,0.70710678,-0.70710678,0,0)\" />\n",
       "      <ellipse\n",
       "         style=\"fill:none;stroke:#000000;stroke-width:0.0392596\"\n",
       "         cx=\"0.49399981\"\n",
       "         cy=\"-0.49447966\"\n",
       "         rx=\"0.28037018\"\n",
       "         ry=\"0.28037015\" \n",
       "         transform=\"scale(1,-1)\" />\n",
       "      <ellipse\n",
       "         style=\"fill:none;stroke:#000000;stroke-width:0.0574358\"\n",
       "         cx=\"0.49399981\"\n",
       "         cy=\"-0.49447966\"\n",
       "         rx=\"0.051282048\"\n",
       "         ry=\"0.051282078\"\n",
       "         transform=\"scale(1,-1)\" />\n",
       "    </g>\n",
       "    <g class=\"prop\">\n",
       "      <ellipse\n",
       "         style=\"fill:#0d0d0d;stroke:none;\"\n",
       "         cx=\"0.69928879\"\n",
       "         cy=\"-0.14274563\"\n",
       "         rx=\"0.024324713\"\n",
       "         ry=\"0.11011158\"\n",
       "         transform=\"rotate(135)\" />\n",
       "      <ellipse\n",
       "         style=\"fill:#0d0d0d;stroke:none;\"\n",
       "         cx=\"0.69928879\"\n",
       "         cy=\"0.14367317\"\n",
       "         rx=\"0.024324713\"\n",
       "         ry=\"0.11011158\"\n",
       "         transform=\"rotate(135)\" />\n",
       "      <ellipse\n",
       "         style=\"fill:none;stroke:#000000;stroke-width:0.0392596\"\n",
       "         cx=\"0.49399981\"\n",
       "         cy=\"-0.49447966\"\n",
       "         rx=\"0.28037018\"\n",
       "         ry=\"0.28037015\" \n",
       "         transform=\"scale(-1)\" />\n",
       "      <ellipse\n",
       "         style=\"fill:none;stroke:#000000;stroke-width:0.0574358\"\n",
       "         cx=\"0.49399981\"\n",
       "         cy=\"-0.49447966\"\n",
       "         rx=\"0.051282048\"\n",
       "         ry=\"0.051282078\"\n",
       "         transform=\"scale(-1)\" />\n",
       "    </g>\n",
       "  </g>\n",
       "  <g id=\"N0thymio\" transform=\"rotate(90)\">\n",
       "      <path class=\"body\"\n",
       "         d=\"M -0.6874903375 -0.7257309 L -0.6874903375 0.3749771125 L 0.6874903375 0.3749771125 L 0.6874903375 -0.726118475 A 1 1 0 0 0 0 -1 A 1 1 0 0 0 -0.6874903375 -0.7257309 z \" />\n",
       "      <rect\n",
       "         style=\"fill:#333333;stroke:none\"\n",
       "         width=\"0.1875\"\n",
       "         height=\"0.525\"\n",
       "         x=\"-0.675\"\n",
       "         y=\"-0.2625\"\n",
       "         rx=\"0.0625\" />\n",
       "      <rect\n",
       "         style=\"fill:#333333;stroke:none\"\n",
       "         width=\"0.1875\"\n",
       "         height=\"0.525\"\n",
       "         x=\"0.4875\"\n",
       "         y=\"-0.2625\"\n",
       "         rx=\"0.0625\" />\n",
       "  </g>\n",
       "  <g id=\"N0wheelchair\" transform=\"rotate(180) translate(-1.1,-3.46)\">\n",
       "    <path\n",
       "       stroke=\"none\"\n",
       "       style=\"fill:#c8beb7\"\n",
       "       d=\"m 0.9612298,3.7966354 h -0.7778 v -0.6666 h 0.7778 z\"/>\n",
       "    <path\n",
       "       stroke=\"none\"\n",
       "       style=\"fill:#080808;\"\n",
       "       d=\"m 1.62765948,2.970532 v -0.0823436 -0.084297 H 1.0722298 v 0.166640 z\"/>\n",
       "    <path\n",
       "       stroke=\"none\"\n",
       "       style=\"fill:#080808;\"\n",
       "       d=\"m 1.62765948,4.081332 v -0.0823436 -0.084297 H1.0722298 v 0.1666406 z\"/>\n",
       "    <path\n",
       "       class=\"body\"\n",
       "       d=\"m 1.84994464,3.9982804 h -1 v -1.1112 h 1 z\" />\n",
       "    <path\n",
       "       stroke=\"none\"\n",
       "       style=\"fill:#917c6f;opacity:0.75;stroke:none\"\n",
       "       d=\"m 1.84994464,3.9982664 v -0.0554296 -1.0557422 h -0.11117186 v 1.1111718 z\"/>\n",
       "  </g>\n",
       "  <g id=\"N0human\" transform=\"rotate(180) translate(-1,-3.5)\">\n",
       "    <g class=\"body\">\n",
       "    <ellipse\n",
       "       cx=\"0.80312774\"\n",
       "       cy=\"2.6959574\"\n",
       "       rx=\"0.46378762\"\n",
       "       ry=\"0.1392307\" />\n",
       "    <ellipse\n",
       "       cx=\"0.80312774\"\n",
       "       cy=\"4.2229708\"\n",
       "       rx=\"0.46378762\"\n",
       "       ry=\"0.1392307\" />\n",
       "    <ellipse\n",
       "       cx=\"1.08757424\"\n",
       "       cy=\"3.4594642\"\n",
       "       rx=\"0.39526176\"\n",
       "       ry=\"0.86793068\" />\n",
       "    </g>\n",
       "    <ellipse\n",
       "       style=\"fill:#1a1a1a;opacity:0.5;stroke:none\"\n",
       "       cx=\"1.08757424\"\n",
       "       cy=\"3.458025\"\n",
       "       rx=\"0.3257516\"\n",
       "       ry=\"0.33270264\" />\n",
       "  </g>\n",
       "</defs>\n",
       "<style>\n",
       "<![CDATA[\n",
       "\n",
       "/*svg{\n",
       "  style=stroke-width: 0px;\n",
       "}\n",
       "*/\n",
       "circle.obstacle{\n",
       "  fill: gray; \n",
       "  stroke:none;\n",
       "}\n",
       "polyline.wall{\n",
       "  stroke:black;\n",
       "  stroke-width:0.01;\n",
       "}\n",
       "\n",
       ".shape {\n",
       "  fill: none;\n",
       "  stroke: black;\n",
       "  stroke-width: 0.01;\n",
       "  stroke-dasharray: 0.01;\n",
       "}\n",
       "\n",
       ".safety_margin {\n",
       "  fill: none;\n",
       "  stroke: gray;\n",
       "  stroke-width: 0.01;\n",
       "  stroke-dasharray: 0.05;\n",
       "}\n",
       "\n",
       ".quadrotor {\n",
       "  fill: #A0A0A0;\n",
       "  stroke: none;\n",
       "  stroke-width: 0.05;\n",
       "}\n",
       "\n",
       "\n",
       ".robomaster_ep {\n",
       "  fill: #121212;\n",
       "  stroke: none;\n",
       "  stroke-width: 0.05;\n",
       "}\n",
       "\n",
       "\n",
       ".thymio {\n",
       "  fill: #e6e6e6;\n",
       "  stroke: none;\n",
       "  stroke-width: 0.05;\n",
       "}\n",
       "\n",
       ".human {\n",
       "  fill: #666666;\n",
       "  stroke: none;\n",
       "  stroke-width: 0.05;\n",
       "}\n",
       "\n",
       ".agent {\n",
       "  fill: gray;\n",
       "  stroke: none;\n",
       "  stroke-width: 0.05;\n",
       "}\n",
       "\n",
       ".wheelchair {\n",
       "  fill: #483e37;\n",
       "  stroke: none;\n",
       "  stroke-width: 0.05;\n",
       "}\n",
       "\n",
       ".car {\n",
       "  fill: darkyellow;\n",
       "  stroke: none;\n",
       "  stroke-width: 0.05;\n",
       "}\n",
       "\n",
       "/*.body {\n",
       "    all: inherit;\n",
       "}\n",
       "*/\n",
       "\n",
       "\n",
       "\n",
       "\n",
       "\n",
       "svg {\n",
       "   background-color: snow;\n",
       "}\n",
       "\n",
       ".grid {\n",
       "  stroke: ;\n",
       "  stroke-width: ;\n",
       "}\n",
       "]]>\n",
       "</style>\n",
       "\n",
       "<g id=\"N0world\" transform='scale(1, -1) '>\n",
       "\n",
       "\n",
       "\n",
       "\n",
       "\n",
       "\n",
       "\n",
       "\n",
       "\n",
       "</g>\n",
       "</svg>\n",
       "</body>\n",
       "</html>"
      ],
      "text/plain": [
       "<IPython.core.display.HTML object>"
      ]
     },
     "execution_count": 61,
     "metadata": {},
     "output_type": "execute_result"
    }
   ],
   "source": [
    "notebook_view(width=300)"
   ]
  },
  {
   "cell_type": "code",
   "execution_count": 62,
   "id": "553986d5",
   "metadata": {
    "execution": {
     "iopub.execute_input": "2025-06-06T15:37:39.612799Z",
     "iopub.status.busy": "2025-06-06T15:37:39.612646Z",
     "iopub.status.idle": "2025-06-06T15:37:39.615151Z",
     "shell.execute_reply": "2025-06-06T15:37:39.614852Z"
    },
    "tags": []
   },
   "outputs": [],
   "source": [
    "# we run 5x faster than real-time\n",
    "world = run.world\n",
    "rt_sim = RealTimeSimulation(world=world, time_step=0.1, factor=5, web_ui=web_ui, \n",
    "                            bounds=((-1, -3), (11, 3)))\n",
    "await rt_sim.init()"
   ]
  },
  {
   "cell_type": "code",
   "execution_count": 63,
   "id": "75b5481c",
   "metadata": {
    "execution": {
     "iopub.execute_input": "2025-06-06T15:37:39.616605Z",
     "iopub.status.busy": "2025-06-06T15:37:39.616469Z",
     "iopub.status.idle": "2025-06-06T15:37:51.642283Z",
     "shell.execute_reply": "2025-06-06T15:37:51.640920Z"
    },
    "tags": []
   },
   "outputs": [],
   "source": [
    "until_time = world.time + 60\n",
    "await rt_sim.run(until=lambda : world.time > until_time)"
   ]
  }
 ],
 "metadata": {
  "kernelspec": {
   "display_name": "Python 3 (ipykernel)",
   "language": "python",
   "name": "python3"
  },
  "language_info": {
   "codemirror_mode": {
    "name": "ipython",
    "version": 3
   },
   "file_extension": ".py",
   "mimetype": "text/x-python",
   "name": "python",
   "nbconvert_exporter": "python",
   "pygments_lexer": "ipython3",
   "version": "3.12.11"
  }
 },
 "nbformat": 4,
 "nbformat_minor": 5
}
