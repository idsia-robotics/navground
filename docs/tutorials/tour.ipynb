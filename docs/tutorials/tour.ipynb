{
 "cells": [
  {
   "cell_type": "markdown",
   "id": "9175b8a5",
   "metadata": {},
   "source": [
    "# A tour of navground\n",
    "\n",
    "In this tour you meet the basic components of the navigation playground \n",
    "and see them at play.\n",
    "\n",
    "At the core of the playground there is a library of navigation behaviors for dynamic obstacle avoidance. \n",
    "\n",
    "Let's import the library and instantiate one of the behavior ([DummyBehavior](../reference/core/python/behaviors/dummy.html#navground.core.behaviors.DummyBehavior))."
   ]
  },
  {
   "cell_type": "markdown",
   "id": "6b3821ea",
   "metadata": {},
   "source": [
    "## Behaviors"
   ]
  },
  {
   "cell_type": "code",
   "execution_count": 1,
   "id": "64ac853c",
   "metadata": {
    "tags": []
   },
   "outputs": [],
   "source": [
    "from navground import core\n",
    "\n",
    "behavior = core.behaviors.DummyBehavior()"
   ]
  },
  {
   "cell_type": "markdown",
   "id": "aefb3e0b",
   "metadata": {},
   "source": [
    "A behavior holds the **2D state of an agent** of circular shape.\n",
    "\n",
    "We set\n",
    "\n",
    "- the [pose](../reference/core/python/common.html#navground.core.Pose2)\n",
    "of the agent at the origin of the world-fixed coordinate frame,"
   ]
  },
  {
   "cell_type": "code",
   "execution_count": 2,
   "id": "03f311f7",
   "metadata": {
    "tags": []
   },
   "outputs": [],
   "source": [
    "behavior.pose = core.Pose2(position=(0, 0), orientation=0)"
   ]
  },
  {
   "cell_type": "markdown",
   "id": "f1fc6911",
   "metadata": {},
   "source": [
    "- the [twist](../reference/core/python/common.html#navground.core.Twist2) of the agent to zero,"
   ]
  },
  {
   "cell_type": "code",
   "execution_count": 3,
   "id": "5c75a5e8",
   "metadata": {
    "tags": []
   },
   "outputs": [],
   "source": [
    "behavior.twist = core.Twist2(velocity=(0, 0), angular_speed=0)"
   ]
  },
  {
   "cell_type": "markdown",
   "id": "b9b98ed5",
   "metadata": {},
   "source": [
    "- and the radius of the agent."
   ]
  },
  {
   "cell_type": "code",
   "execution_count": 4,
   "id": "6af50080",
   "metadata": {
    "tags": []
   },
   "outputs": [],
   "source": [
    "behavior.radius = 1.0"
   ]
  },
  {
   "cell_type": "markdown",
   "id": "3558c1c6",
   "metadata": {},
   "source": [
    "A behavior needs also a [target](../reference/core/python/target.html#navground.core.Target): let's go to ``(10, 0)``, stopping when near enough."
   ]
  },
  {
   "cell_type": "code",
   "execution_count": 5,
   "id": "d41f047a",
   "metadata": {
    "tags": []
   },
   "outputs": [],
   "source": [
    "behavior.target = core.Target.Point((10, 0), tolerance=0.5)"
   ]
  },
  {
   "cell_type": "markdown",
   "id": "8846e3b1",
   "metadata": {},
   "source": [
    "Once we have set a target, we can ask for a [control command](../reference/core/python/behaviors/behavior.html#navground.core.Behavior.compute_cmd) (a twist) to advance towards the target in the next control step."
   ]
  },
  {
   "cell_type": "code",
   "execution_count": 6,
   "id": "db3727be",
   "metadata": {
    "tags": []
   },
   "outputs": [
    {
     "name": "stderr",
     "output_type": "stream",
     "text": [
      "Missing kinematics!\n"
     ]
    },
    {
     "data": {
      "text/plain": [
       "Twist2((0.000000, 0.000000), 0.000000, frame=Frame.relative)"
      ]
     },
     "execution_count": 6,
     "metadata": {},
     "output_type": "execute_result"
    }
   ],
   "source": [
    "behavior.compute_cmd(time_step=0.1)"
   ]
  },
  {
   "cell_type": "markdown",
   "id": "ac2b527b",
   "metadata": {},
   "source": [
    "Oops ... the behavior is complaining that it does not know the kinematics of the agent.\n",
    "Therefore, it plays safe and makes the agent stay in place. We also see that `Twist2` has an additional field `Twist2(..., frame)` for the reference frame, which can be either an absolute world-fixed frame or a relative frame attached to to the agent.\n",
    "\n",
    "A [kinematics](../reference/core/python/kinematics.html#navground.core.Kinematics) model knows the maximal speed of the agent and, more generally, which commands are feasible.\n",
    "Let's pick an omnidirectional kinematics that has no restrictions apart from maximal horizontal and angular speeds,"
   ]
  },
  {
   "cell_type": "code",
   "execution_count": 7,
   "id": "f619e5e5",
   "metadata": {
    "tags": []
   },
   "outputs": [],
   "source": [
    "kinematics = core.kinematics.OmnidirectionalKinematics(max_speed=2.0, max_angular_speed=1.0)\n",
    "behavior.kinematics = kinematics"
   ]
  },
  {
   "cell_type": "markdown",
   "id": "4b22c012",
   "metadata": {},
   "source": [
    "and ask again for a control command."
   ]
  },
  {
   "cell_type": "code",
   "execution_count": 8,
   "id": "04875883",
   "metadata": {
    "tags": []
   },
   "outputs": [
    {
     "data": {
      "text/plain": [
       "Twist2((2.000000, 0.000000), 0.000000, frame=Frame.relative)"
      ]
     },
     "execution_count": 8,
     "metadata": {},
     "output_type": "execute_result"
    }
   ],
   "source": [
    "cmd = behavior.compute_cmd(time_step=0.1)\n",
    "cmd"
   ]
  },
  {
   "cell_type": "markdown",
   "id": "7b9ceb98",
   "metadata": {},
   "source": [
    "As expected, the behavior wants to advance full speed towards the target point.\n",
    "How to actuate the commands depends on the agent we are controlling and may require interacting with the agent's runtime.\n",
    "\n",
    "Here, we keep it simple and simulate movements without any error: we apply the command for a time step to directly update the behavior state."
   ]
  },
  {
   "cell_type": "code",
   "execution_count": 9,
   "id": "2c563934",
   "metadata": {
    "tags": []
   },
   "outputs": [],
   "source": [
    "behavior.actuate(cmd, time_step=0.1)"
   ]
  },
  {
   "cell_type": "markdown",
   "id": "e59a7175",
   "metadata": {},
   "source": [
    "To get the same result, we could have manually integrated the pose and set the twist."
   ]
  },
  {
   "cell_type": "code",
   "execution_count": 10,
   "id": "723e79be",
   "metadata": {
    "tags": []
   },
   "outputs": [],
   "source": [
    "behavior.pose = behavior.pose.integrate(cmd, time_step=0.1)\n",
    "behavior.twist = cmd"
   ]
  },
  {
   "cell_type": "markdown",
   "id": "a3dafe8b-78a8-4e47-883f-9e9fa73044a0",
   "metadata": {},
   "source": [
    "Note that behaviors are already instantiated at the origin and with zero twist, therefore\n",
    "we could have setup the behavior using just two lines:"
   ]
  },
  {
   "cell_type": "code",
   "execution_count": 11,
   "id": "9e4e023c-d41a-41b7-999a-32dd35f1d889",
   "metadata": {
    "tags": []
   },
   "outputs": [],
   "source": [
    "behavior = core.behaviors.DummyBehavior(kinematics=kinematics, radius=1.0)\n",
    "behavior.target = core.Target.Point((10, 0), tolerance=0.5)"
   ]
  },
  {
   "cell_type": "markdown",
   "id": "42675725",
   "metadata": {},
   "source": [
    "## Registers"
   ]
  },
  {
   "cell_type": "markdown",
   "id": "366d4f59",
   "metadata": {},
   "source": [
    "What if our agent has wheels? Which other kinematics are there? \n",
    "\n",
    "Implemented kinematics are stored in a register. Let's list their names:"
   ]
  },
  {
   "cell_type": "code",
   "execution_count": 12,
   "id": "89dfe589",
   "metadata": {
    "tags": []
   },
   "outputs": [
    {
     "data": {
      "text/plain": [
       "['2WDiff', '2WDiffDyn', '4WOmni', 'Ahead', 'Omni']"
      ]
     },
     "execution_count": 12,
     "metadata": {},
     "output_type": "execute_result"
    }
   ],
   "source": [
    "core.Kinematics.types"
   ]
  },
  {
   "cell_type": "markdown",
   "id": "49f067b7",
   "metadata": {},
   "source": [
    "`\"Omni\"` is the one we already used. Let's pick `\"2WDiff\"`, which corresponds to a robot with two differential drive wheels, one at each side of a longitudinal axis."
   ]
  },
  {
   "cell_type": "code",
   "execution_count": 13,
   "id": "5685596e",
   "metadata": {
    "tags": []
   },
   "outputs": [],
   "source": [
    "kinematics = core.Kinematics.make_type(\"2WDiff\")\n",
    "kinematics.max_speed = 1.0"
   ]
  },
  {
   "cell_type": "markdown",
   "id": "19f1233b",
   "metadata": {},
   "source": [
    "Registered components, like kinematics, declare properties that we can use to configure them.\n",
    "Let's get all properties of this kinematics model."
   ]
  },
  {
   "cell_type": "code",
   "execution_count": 14,
   "id": "044a40d9",
   "metadata": {
    "tags": []
   },
   "outputs": [
    {
     "name": "stdout",
     "output_type": "stream",
     "text": [
      "Property max_backward_speed: Maximal backward linear speed of type float\n",
      "Property max_forward_speed: Maximal forward linear speed of type float\n",
      "Property wheel_axis: Wheel Axis of type float\n"
     ]
    }
   ],
   "source": [
    "for name, p in kinematics.properties.items():\n",
    "    print(f'Property {name}: {p.description} of type {p.type_name}')"
   ]
  },
  {
   "cell_type": "markdown",
   "id": "5c2fd57d-3495-4a5d-8f22-a4c07a0f6810",
   "metadata": {},
   "source": [
    "We set the wheel axis length to the size of the agent."
   ]
  },
  {
   "cell_type": "code",
   "execution_count": 15,
   "id": "b816a4b4",
   "metadata": {
    "tags": []
   },
   "outputs": [],
   "source": [
    "kinematics.set(\"wheel_axis\", 2.0)"
   ]
  },
  {
   "cell_type": "markdown",
   "id": "61e511b7",
   "metadata": {},
   "source": [
    "Note that instantiating a kinematics from a register and configuring through its properties, like we have just done, is equivalent to an explicit instantiation like"
   ]
  },
  {
   "cell_type": "code",
   "execution_count": 16,
   "id": "5c892dd9",
   "metadata": {
    "tags": []
   },
   "outputs": [],
   "source": [
    "kinematics = core.kinematics.TwoWheelsDifferentialDriveKinematics(max_speed=1.0, wheel_axis=2.0)"
   ]
  },
  {
   "cell_type": "markdown",
   "id": "abb4eefc",
   "metadata": {},
   "source": [
    "Let's now get a command that respects this kinematics,"
   ]
  },
  {
   "cell_type": "code",
   "execution_count": 17,
   "id": "de23254d",
   "metadata": {
    "tags": []
   },
   "outputs": [
    {
     "data": {
      "text/plain": [
       "Twist2((1.000000, 0.000000), 0.000000, frame=Frame.relative)"
      ]
     },
     "execution_count": 17,
     "metadata": {},
     "output_type": "execute_result"
    }
   ],
   "source": [
    "behavior.kinematics = kinematics \n",
    "cmd = behavior.compute_cmd(time_step=0.1)\n",
    "cmd"
   ]
  },
  {
   "cell_type": "markdown",
   "id": "70ef6c8b",
   "metadata": {},
   "source": [
    "which we can convert to left and right wheel speeds."
   ]
  },
  {
   "cell_type": "code",
   "execution_count": 18,
   "id": "535192dc",
   "metadata": {
    "tags": []
   },
   "outputs": [
    {
     "data": {
      "text/plain": [
       "[1.0, 1.0]"
      ]
     },
     "execution_count": 18,
     "metadata": {},
     "output_type": "execute_result"
    }
   ],
   "source": [
    "behavior.kinematics.wheel_speeds(cmd)"
   ]
  },
  {
   "cell_type": "markdown",
   "id": "8ebdd0ee-7766-454f-8292-b0fc857c6e54",
   "metadata": {},
   "source": [
    "Again and unsurprisingly, the behavior wants to set both wheels at the same maximal speed to advance straight at full speed."
   ]
  },
  {
   "cell_type": "markdown",
   "id": "86628b1e",
   "metadata": {},
   "source": [
    "## Trajectory\n",
    "\n",
    "Applying the control step iteratively, we make the agent reach the target point, while we also store its position to later plot the trajectory."
   ]
  },
  {
   "cell_type": "code",
   "execution_count": 19,
   "id": "a5737ffd",
   "metadata": {
    "tags": []
   },
   "outputs": [],
   "source": [
    "import numpy as np\n",
    "\n",
    "positions = []\n",
    "\n",
    "time_step = 0.1\n",
    "\n",
    "while not behavior.check_if_target_satisfied():\n",
    "    positions.append(behavior.position)\n",
    "    cmd = behavior.compute_cmd(time_step=time_step)\n",
    "    behavior.actuate(cmd, time_step=time_step)\n",
    "    \n",
    "positions = np.asarray(positions)"
   ]
  },
  {
   "cell_type": "code",
   "execution_count": 20,
   "id": "b9da398b",
   "metadata": {
    "tags": []
   },
   "outputs": [
    {
     "data": {
      "image/png": "[encoded data removed]",
      "text/plain": [
       "<Figure size 700x300 with 1 Axes>"
      ]
     },
     "metadata": {},
     "output_type": "display_data"
    }
   ],
   "source": [
    "from matplotlib import pyplot as plt\n",
    "\n",
    "fig, ax = plt.subplots(figsize=((7, 3)))\n",
    "ax.add_patch(plt.Circle(positions[0], behavior.radius, color='blue', alpha=0.2))\n",
    "ax.add_patch(plt.Circle(positions[-1], behavior.radius, color='blue', alpha=0.5))\n",
    "# ax.add_patch(plt.Circle(behavior.target.position, behavior.target.position_tolerance, color='red', alpha=0.6, fill=False))\n",
    "ax.plot(positions[:, 0], positions[:, 1], '-')\n",
    "ax.set_xlabel('x')\n",
    "ax.set_ylabel('y')\n",
    "plt.axis('equal');"
   ]
  },
  {
   "cell_type": "markdown",
   "id": "c290c6d3",
   "metadata": {},
   "source": [
    "We got the trajectory we expected, altough not a particularly interesting one."
   ]
  },
  {
   "cell_type": "markdown",
   "id": "07bed37a",
   "metadata": {},
   "source": [
    "## Environment state\n",
    "\n",
    "The job of the behavior is to navigate the agent through obstacles. So let's add a round obstacle in the middle of the agent's path."
   ]
  },
  {
   "cell_type": "code",
   "execution_count": 21,
   "id": "95998b85",
   "metadata": {
    "tags": []
   },
   "outputs": [],
   "source": [
    "disc = core.Disc(position=(5.0, 0.1), radius=1)"
   ]
  },
  {
   "cell_type": "markdown",
   "id": "2e711a7e",
   "metadata": {},
   "source": [
    "How do we tell the behavior to avoid the obstacle?\n",
    "For this, each behavior keeps an environmental state ... unfortunately our current behavior, \n",
    "as we may expect from a behavior called *Dummy*, does not have one."
   ]
  },
  {
   "cell_type": "code",
   "execution_count": 22,
   "id": "a328e105",
   "metadata": {
    "tags": []
   },
   "outputs": [
    {
     "data": {
      "text/plain": [
       "True"
      ]
     },
     "execution_count": 22,
     "metadata": {},
     "output_type": "execute_result"
    }
   ],
   "source": [
    "behavior.environment_state is None"
   ]
  },
  {
   "cell_type": "markdown",
   "id": "e037926c",
   "metadata": {},
   "source": [
    "So, let's switch to a smarter behavior. Like for kinematics, behaviors are registered by name"
   ]
  },
  {
   "cell_type": "code",
   "execution_count": 23,
   "id": "71edebd7",
   "metadata": {
    "tags": []
   },
   "outputs": [
    {
     "data": {
      "text/plain": [
       "['', 'Dummy', 'HL', 'HRVO', 'ORCA', 'PyDummy', 'SocialForce']"
      ]
     },
     "execution_count": 23,
     "metadata": {},
     "output_type": "execute_result"
    }
   ],
   "source": [
    "core.Behavior.types"
   ]
  },
  {
   "cell_type": "markdown",
   "id": "c617ec10",
   "metadata": {},
   "source": [
    "We pick `\"ORCA\"` and setup it with the same kinematics, state, and target as before."
   ]
  },
  {
   "cell_type": "code",
   "execution_count": 24,
   "id": "fb837b5d",
   "metadata": {
    "tags": []
   },
   "outputs": [],
   "source": [
    "behavior = core.Behavior.make_type('ORCA')\n",
    "behavior.kinematics = kinematics\n",
    "behavior.pose = core.Pose2((0, 0), 0)\n",
    "behavior.twist = core.Twist2((0, 0), 0)\n",
    "behavior.radius = 1.0\n",
    "behavior.target = core.Target.Point((10, 0), tolerance=0.5)"
   ]
  },
  {
   "cell_type": "markdown",
   "id": "54b3edd5",
   "metadata": {},
   "source": [
    "This behavior has a more useful environment state which contains static obstacles:"
   ]
  },
  {
   "cell_type": "code",
   "execution_count": 25,
   "id": "aadef464",
   "metadata": {
    "tags": []
   },
   "outputs": [],
   "source": [
    "behavior.environment_state.static_obstacles = [disc]"
   ]
  },
  {
   "cell_type": "markdown",
   "id": "03544785",
   "metadata": {},
   "source": [
    "Let's check that the behavior is really considering the obstacle:"
   ]
  },
  {
   "cell_type": "code",
   "execution_count": 26,
   "id": "be764606",
   "metadata": {
    "tags": []
   },
   "outputs": [
    {
     "data": {
      "text/plain": [
       "Twist2((0.150420, 0.000000), -0.224969, frame=Frame.relative)"
      ]
     },
     "execution_count": 26,
     "metadata": {},
     "output_type": "execute_result"
    }
   ],
   "source": [
    "behavior.compute_cmd(0.1)"
   ]
  },
  {
   "cell_type": "markdown",
   "id": "8343df1e",
   "metadata": {},
   "source": [
    "In fact, the behavior is telling us to steer clockwise to avoid the obstacle. Let's plot the new trajectory."
   ]
  },
  {
   "cell_type": "code",
   "execution_count": 27,
   "id": "6701f137",
   "metadata": {
    "tags": []
   },
   "outputs": [],
   "source": [
    "positions = []\n",
    "\n",
    "while not behavior.target.satisfied(behavior.pose):\n",
    "    positions.append(behavior.position)\n",
    "    cmd = behavior.compute_cmd(0.1)\n",
    "    behavior.actuate(cmd, 0.1)\n",
    "    \n",
    "positions = np.asarray(positions)"
   ]
  },
  {
   "cell_type": "code",
   "execution_count": 28,
   "id": "0a53e88a",
   "metadata": {
    "tags": []
   },
   "outputs": [
    {
     "data": {
      "image/png": "[encoded data removed]",
      "text/plain": [
       "<Figure size 700x300 with 1 Axes>"
      ]
     },
     "metadata": {},
     "output_type": "display_data"
    }
   ],
   "source": [
    "fig, ax = plt.subplots(figsize=((7, 3)))\n",
    "ax.add_patch(plt.Circle(disc.position, disc.radius, color='k', alpha=0.5))\n",
    "ax.add_patch(plt.Circle(positions[0], behavior.radius, color='blue', alpha=0.2))\n",
    "ax.add_patch(plt.Circle(positions[-1], behavior.radius, color='blue', alpha=0.5))\n",
    "ax.plot(positions[:, 0], positions[:, 1], '-')\n",
    "ax.set_xlabel('x')\n",
    "ax.set_ylabel('y')\n",
    "plt.axis('equal');"
   ]
  },
  {
   "cell_type": "markdown",
   "id": "cef7e0e5",
   "metadata": {},
   "source": [
    "Indeed, the agent does a more interesting trajectory!"
   ]
  },
  {
   "cell_type": "markdown",
   "id": "42795ea6",
   "metadata": {},
   "source": [
    "## Controllers\n",
    "\n",
    "Controllers monitor a behavior to report when it has reached a target.\n",
    "\n",
    "Let's try again the same scenario but now using a controller. "
   ]
  },
  {
   "cell_type": "code",
   "execution_count": 29,
   "id": "df9873bb-eef1-434c-a867-39b08713ba19",
   "metadata": {
    "tags": []
   },
   "outputs": [],
   "source": [
    "behavior.pose = core.Pose2((0, 0), 0)\n",
    "behavior.twist = core.Twist2((0, 0), 0)\n",
    "controller = core.Controller(behavior)"
   ]
  },
  {
   "cell_type": "markdown",
   "id": "e4ca1af0-59d1-4b54-9ac6-0b9c73fb2416",
   "metadata": {},
   "source": [
    "We can tell the control to direcly actuate each control commands in a callback."
   ]
  },
  {
   "cell_type": "code",
   "execution_count": 30,
   "id": "232b7c0e-a8d5-40bc-b735-6d92412306f8",
   "metadata": {
    "tags": []
   },
   "outputs": [],
   "source": [
    "time_step = 0.1\n",
    "\n",
    "def actuate(cmd):\n",
    "    behavior.actuate(cmd, time_step=time_step)\n",
    "\n",
    "controller.set_cmd_cb(actuate)"
   ]
  },
  {
   "cell_type": "markdown",
   "id": "ba7acf2d",
   "metadata": {},
   "source": [
    "Targets are now set through the controller that returns an *action*,"
   ]
  },
  {
   "cell_type": "code",
   "execution_count": 31,
   "id": "8f7bfb01",
   "metadata": {
    "tags": []
   },
   "outputs": [],
   "source": [
    "action = controller.go_to_pose(core.Pose2((10, 0), 3.14), 0.1, 0.1)"
   ]
  },
  {
   "cell_type": "markdown",
   "id": "83c1f2e4",
   "metadata": {},
   "source": [
    "which we can use to setup a terminal callback."
   ]
  },
  {
   "cell_type": "code",
   "execution_count": 32,
   "id": "58f15587",
   "metadata": {
    "tags": []
   },
   "outputs": [],
   "source": [
    "action.done_cb = lambda action_state: print(f\"Action has finished with {action_state}.\")"
   ]
  },
  {
   "cell_type": "markdown",
   "id": "03a0899a",
   "metadata": {},
   "source": [
    "Commands are now queried through the controller which in turns monitors the action state. The run-loop becomes simpler as we need just a single line per step (in addition to the usual line to store the trajectory)."
   ]
  },
  {
   "cell_type": "code",
   "execution_count": 33,
   "id": "5679e5f1",
   "metadata": {
    "tags": []
   },
   "outputs": [
    {
     "name": "stdout",
     "output_type": "stream",
     "text": [
      "Action has finished with State.success.\n"
     ]
    }
   ],
   "source": [
    "positions = []\n",
    "\n",
    "while not controller.idle:\n",
    "    controller.update(time_step=time_step)\n",
    "    positions.append(behavior.position)\n",
    "    \n",
    "positions = np.asarray(positions)"
   ]
  },
  {
   "cell_type": "markdown",
   "id": "87796200",
   "metadata": {},
   "source": [
    "## More agents\n",
    "\n",
    "Within the playground, we can play with more than a single agent.\n",
    "Let's add a second agent with the same shape, kinematics, and type of behavior."
   ]
  },
  {
   "cell_type": "code",
   "execution_count": 34,
   "id": "c8b8d5db",
   "metadata": {
    "tags": []
   },
   "outputs": [],
   "source": [
    "behavior_1 = core.Behavior.make_type(\"ORCA\")\n",
    "behavior_1.radius = 1.0\n",
    "behavior_1.kinematics = kinematics\n",
    "behavior_2 = core.Behavior.make_type(\"ORCA\")\n",
    "behavior_2.radius = 1.0\n",
    "behavior_2.kinematics = kinematics\n",
    "behaviors = [behavior_1, behavior_2]"
   ]
  },
  {
   "cell_type": "markdown",
   "id": "c545fe62",
   "metadata": {},
   "source": [
    "We want to make them cross. Let them start from opposing poses"
   ]
  },
  {
   "cell_type": "code",
   "execution_count": 35,
   "id": "38fb60c9",
   "metadata": {
    "tags": []
   },
   "outputs": [],
   "source": [
    "behavior_1.pose = core.Pose2((0, 0), 0)\n",
    "behavior_2.pose = core.Pose2((10, 0), np.pi)"
   ]
  },
  {
   "cell_type": "markdown",
   "id": "db310b32",
   "metadata": {},
   "source": [
    "and then exchange positions."
   ]
  },
  {
   "cell_type": "code",
   "execution_count": 36,
   "id": "f838d60c",
   "metadata": {
    "tags": []
   },
   "outputs": [],
   "source": [
    "behavior_1.target = core.Target.Point(behavior_2.position, 0.1)\n",
    "behavior_2.target = core.Target.Point(behavior_1.position, 0.1)"
   ]
  },
  {
   "cell_type": "markdown",
   "id": "e4acdff2",
   "metadata": {},
   "source": [
    "We need to tell the behaviors that there is another agent in their vicinity, a *neighbor*.\n",
    "\n",
    "Neighbors are also of circular shape and their state consists of position, radius, and velocity.\n",
    "For real agents, environment state would originate from perception, which may be noisy and have partial visibility.\n",
    "Here, we keep it simple and make the agents aware of all other agents, adding all of them as neighbors in a perfectly accurate environment state."
   ]
  },
  {
   "cell_type": "code",
   "execution_count": 37,
   "id": "3fc89b44",
   "metadata": {
    "tags": []
   },
   "outputs": [],
   "source": [
    "for behavior in behaviors:\n",
    "    behavior.environment_state.neighbors = [\n",
    "        core.Neighbor(position=b.position, radius=b.radius, velocity=b.velocity)\n",
    "        for b in behaviors if b is not behavior\n",
    "    ]"
   ]
  },
  {
   "cell_type": "markdown",
   "id": "ff2b6fec",
   "metadata": {},
   "source": [
    "Let's try again to compute the trajectories. Contrary to static obstacles, neighbors ... do move. \n",
    "Therefore, we need to update them before asking for a new control commands."
   ]
  },
  {
   "cell_type": "code",
   "execution_count": 38,
   "id": "626e44f8",
   "metadata": {
    "tags": []
   },
   "outputs": [],
   "source": [
    "positions = []\n",
    "time_step = 0.1\n",
    "\n",
    "while not all(b.target.satisfied(b.pose) for b in behaviors):\n",
    "    positions.append([b.position for b in behaviors])\n",
    "    cmds = []\n",
    "    for behavior in behaviors:\n",
    "        behavior.environment_state.neighbors = [\n",
    "            core.Neighbor(position=b.position, radius=b.radius, velocity=b.velocity)\n",
    "            for b in behaviors if b != behavior\n",
    "        ]\n",
    "        cmds.append(behavior.compute_cmd(time_step=time_step))\n",
    "    for behavior, cmd in zip(behaviors, cmds):\n",
    "        behavior.actuate(cmd, time_step=time_step)\n",
    "    \n",
    "positions = np.asarray(positions)"
   ]
  },
  {
   "cell_type": "code",
   "execution_count": 39,
   "id": "000363bb",
   "metadata": {
    "tags": []
   },
   "outputs": [
    {
     "data": {
      "image/png": "[encoded data removed]",
      "text/plain": [
       "<Figure size 700x300 with 1 Axes>"
      ]
     },
     "metadata": {},
     "output_type": "display_data"
    }
   ],
   "source": [
    "fig, ax = plt.subplots(figsize=((7, 3)))\n",
    "for i, (behavior, color) in enumerate(zip(behaviors, 'bg')):\n",
    "    ax.add_patch(plt.Circle(positions[-1, i], behavior.radius, color=color, alpha=0.5))\n",
    "    ax.plot(positions[:, i, 0], positions[:, i, 1], '-', color=color)\n",
    "ax.set_xlabel('x')\n",
    "ax.set_ylabel('y')\n",
    "plt.axis('equal');"
   ]
  },
  {
   "cell_type": "markdown",
   "id": "b5fac18b-cec1-46c9-a59c-465f612cb72f",
   "metadata": {},
   "source": [
    "We see how the two agents successfull avoid a collision and manage to exchange positions.\n",
    "\n",
    "This concludes the tour of the core part of the playground. \n",
    "It you want to integrate some of its components in your system, go ahead \n",
    "and skip the rest of the tour, which goes deeper into simulation."
   ]
  },
  {
   "cell_type": "markdown",
   "id": "39dc7b09",
   "metadata": {},
   "source": [
    "## Simulation\n",
    "\n",
    "We have seen how to manually write a run-loop to simulate a trajectory.\n",
    "The playground simplifies this process using `Agent`, `StateEstimation` and `Task`,\n",
    "which generalize the functionalities we have been implementing.\n",
    "\n",
    "An agent holds a behavior and a kinematics."
   ]
  },
  {
   "cell_type": "code",
   "execution_count": 40,
   "id": "31078a43",
   "metadata": {
    "tags": []
   },
   "outputs": [],
   "source": [
    "from navground import sim\n",
    "\n",
    "agent = sim.Agent()\n",
    "agent.behavior = core.Behavior.make_type('ORCA')\n",
    "agent.kinematics = core.kinematics.TwoWheelsDifferentialDriveKinematics(max_speed=1.0, wheel_axis=2.0)\n",
    "agent.pose = core.Pose2((0, 0), 0)\n",
    "agent.twist = core.Twist2((0, 0), 0)\n",
    "agent.radius = 1.0"
   ]
  },
  {
   "cell_type": "markdown",
   "id": "c6d1a675",
   "metadata": {},
   "source": [
    "An agent also has a *task* to generate navigation targets. Let's pick ``WaypointsTask`` to ask the agent to pendle between two points."
   ]
  },
  {
   "cell_type": "code",
   "execution_count": 41,
   "id": "16222391",
   "metadata": {
    "tags": []
   },
   "outputs": [],
   "source": [
    "agent.task = sim.tasks.WaypointsTask(waypoints=[(10, 0), (0, 0)], loop=True, tolerance=0.1)"
   ]
  },
  {
   "cell_type": "markdown",
   "id": "5c6e0b40",
   "metadata": {},
   "source": [
    "Finally, an agent uses a *state estimation* to update the ... its behavior environment *state*. "
   ]
  },
  {
   "cell_type": "code",
   "execution_count": 42,
   "id": "aa1755dc",
   "metadata": {
    "tags": []
   },
   "outputs": [],
   "source": [
    "agent.state_estimation = sim.state_estimations.BoundedStateEstimation(range=5.0)"
   ]
  },
  {
   "cell_type": "markdown",
   "id": "dd8f1b50",
   "metadata": {},
   "source": [
    "Let's now add the agent to a world, together with the same static obstacle we have been using."
   ]
  },
  {
   "cell_type": "code",
   "execution_count": 43,
   "id": "79ceb1a7",
   "metadata": {
    "tags": []
   },
   "outputs": [],
   "source": [
    "world = sim.World()\n",
    "world.add_obstacle(disc)\n",
    "world.add_agent(agent)"
   ]
  },
  {
   "cell_type": "markdown",
   "id": "551761e1",
   "metadata": {},
   "source": [
    "That's all we have to do to setup our simulation. \n",
    "\n",
    "Let's run it for a while."
   ]
  },
  {
   "cell_type": "code",
   "execution_count": 44,
   "id": "06062fd9",
   "metadata": {
    "tags": []
   },
   "outputs": [],
   "source": [
    "world.run(steps=10, time_step=0.1)"
   ]
  },
  {
   "cell_type": "markdown",
   "id": "f75f3f31",
   "metadata": {},
   "source": [
    "Nice ... but we would like to plot the trajectory again.\n",
    "\n",
    "We can iteratively run the simulation one step at time while accumulating data"
   ]
  },
  {
   "cell_type": "code",
   "execution_count": 45,
   "id": "5654700c",
   "metadata": {
    "tags": []
   },
   "outputs": [],
   "source": [
    "positions = []\n",
    "for i in range(100):\n",
    "    world.run(steps=1, time_step=0.1)\n",
    "    positions.append([a.position for a in world.agents])"
   ]
  },
  {
   "cell_type": "markdown",
   "id": "238cb0ab-1411-4229-a767-b11f3365ca0e",
   "metadata": {},
   "source": [
    "or we can add a callback where to accumulate data."
   ]
  },
  {
   "cell_type": "code",
   "execution_count": 46,
   "id": "5e570add-6179-46eb-9570-cd0ca2b9e5db",
   "metadata": {},
   "outputs": [],
   "source": [
    "def cb() -> None:\n",
    "    positions.append([a.position for a in world.agents])\n",
    "\n",
    "world.add_callback(cb)"
   ]
  },
  {
   "cell_type": "markdown",
   "id": "021de5b1-9c1a-42c5-8aaa-4d63edbc08f6",
   "metadata": {},
   "source": [
    "We perform additional steps to reach a total of 250 steps:"
   ]
  },
  {
   "cell_type": "code",
   "execution_count": 47,
   "id": "26653bfe-d20d-46d1-bed1-13150521ea65",
   "metadata": {},
   "outputs": [],
   "source": [
    "world.run_until(lambda: world.step >= 250, 0.1)"
   ]
  },
  {
   "cell_type": "markdown",
   "id": "1acc1147-220d-4086-9903-b2c33dbd2b35",
   "metadata": {},
   "source": [
    "Let's plot the resulting trajectory."
   ]
  },
  {
   "cell_type": "code",
   "execution_count": 48,
   "id": "fb922770",
   "metadata": {
    "tags": []
   },
   "outputs": [
    {
     "data": {
      "image/png": "[encoded data removed]",
      "text/plain": [
       "<Figure size 700x300 with 1 Axes>"
      ]
     },
     "metadata": {},
     "output_type": "display_data"
    }
   ],
   "source": [
    "ps = np.asarray(positions)\n",
    "\n",
    "fig, ax = plt.subplots(figsize=((7, 3)))\n",
    "ax.add_patch(plt.Circle(disc.position, disc.radius, color='k', alpha=0.5))\n",
    "for i in range(ps.shape[1]):\n",
    "    ax.plot(ps[:, i, 0], ps[:, i, 1], 'b-')\n",
    "    ax.add_patch(plt.Circle(ps[-1, i], behavior.radius, color='b', alpha=0.5))\n",
    "ax.set_xlabel('x')\n",
    "ax.set_ylabel('y')\n",
    "plt.axis('equal');"
   ]
  },
  {
   "cell_type": "markdown",
   "id": "8976f9fe",
   "metadata": {},
   "source": [
    "## Experiment\n",
    "\n",
    "Instead of manually injecting data collection in the run-loop, we can configure an ``Experiment`` to do it automatically.\n",
    "\n",
    "Let's start by defining a scenario, which is an object that initializes worlds, grouping together the commands we have been using."
   ]
  },
  {
   "cell_type": "code",
   "execution_count": 49,
   "id": "3431304d",
   "metadata": {
    "tags": []
   },
   "outputs": [],
   "source": [
    "from typing import Optional\n",
    "\n",
    "class MyScenario(sim.Scenario):\n",
    "\n",
    "    def __init__(self):\n",
    "        super().__init__()\n",
    "    \n",
    "    def init_world(self, world: sim.World, seed: Optional[int] = None) -> None:\n",
    "        super().init_world(world, seed)\n",
    "        agent = sim.Agent()\n",
    "        agent.behavior = core.Behavior.make_type('ORCA')\n",
    "        agent.kinematics = core.kinematics.TwoWheelsDifferentialDriveKinematics(max_speed=1.0, wheel_axis=2.0)\n",
    "        agent.pose = core.Pose2((0, 0), 0)\n",
    "        agent.twist = core.Twist2((0, 0), 0)\n",
    "        agent.radius = 1.0\n",
    "        agent.task = sim.tasks.WaypointsTask(waypoints=[(10, 0), (0, 0)], loop=True, tolerance=0.1)\n",
    "        agent.state_estimation = sim.state_estimations.BoundedStateEstimation(range=5.0)\n",
    "        world.add_obstacle(core.Disc(position=(5.0, 0.1), radius=1))\n",
    "        world.add_agent(agent)"
   ]
  },
  {
   "cell_type": "markdown",
   "id": "6dea19b9",
   "metadata": {},
   "source": [
    "Then, we configure an experiment to run such scenario for some steps. "
   ]
  },
  {
   "cell_type": "code",
   "execution_count": 50,
   "id": "0998fec7",
   "metadata": {
    "tags": []
   },
   "outputs": [],
   "source": [
    "experiment = sim.Experiment()\n",
    "experiment.scenario = MyScenario()\n",
    "experiment.time_step = 0.1\n",
    "experiment.steps= 300"
   ]
  },
  {
   "cell_type": "markdown",
   "id": "0d3132c2",
   "metadata": {},
   "source": [
    "We are interested to record poses,"
   ]
  },
  {
   "cell_type": "code",
   "execution_count": 51,
   "id": "ef86e119",
   "metadata": {
    "tags": []
   },
   "outputs": [],
   "source": [
    "experiment.record_config.pose = True"
   ]
  },
  {
   "cell_type": "markdown",
   "id": "49a9fe61",
   "metadata": {},
   "source": [
    "so let's run the experiment."
   ]
  },
  {
   "cell_type": "code",
   "execution_count": 52,
   "id": "bf43b218",
   "metadata": {
    "tags": []
   },
   "outputs": [],
   "source": [
    "run = experiment.run_once(seed=0)"
   ]
  },
  {
   "cell_type": "markdown",
   "id": "d2163f20-ec8c-4632-99c2-9741a181a532",
   "metadata": {},
   "source": [
    "The experiment recorded metadata such as duration,"
   ]
  },
  {
   "cell_type": "code",
   "execution_count": 53,
   "id": "c289972a-9da6-4daa-a4eb-7c783a790cf0",
   "metadata": {
    "tags": []
   },
   "outputs": [
    {
     "data": {
      "text/plain": [
       "datetime.timedelta(microseconds=436)"
      ]
     },
     "execution_count": 53,
     "metadata": {},
     "output_type": "execute_result"
    }
   ],
   "source": [
    "run.duration"
   ]
  },
  {
   "cell_type": "markdown",
   "id": "5f444a0e-3bb2-4bed-8083-0a22d6356dd6",
   "metadata": {},
   "source": [
    "as well as the agents' trajectory, as an array of `steps x agents x 3` coordinates."
   ]
  },
  {
   "cell_type": "code",
   "execution_count": 54,
   "id": "54395819",
   "metadata": {
    "tags": []
   },
   "outputs": [
    {
     "data": {
      "text/plain": [
       "(300, 1, 3)"
      ]
     },
     "execution_count": 54,
     "metadata": {},
     "output_type": "execute_result"
    }
   ],
   "source": [
    "run.poses.shape"
   ]
  },
  {
   "cell_type": "markdown",
   "id": "2c31e7f4",
   "metadata": {},
   "source": [
    "Optionally, we can configure the experiment to automatically save all data to an HDF5 file."
   ]
  },
  {
   "cell_type": "code",
   "execution_count": 55,
   "id": "ecb349fa",
   "metadata": {
    "tags": []
   },
   "outputs": [],
   "source": [
    "import h5py\n",
    "import pathlib\n",
    "\n",
    "experiment.number_of_runs = 1\n",
    "experiment.save_directory = pathlib.Path('.')\n",
    "\n",
    "# experiment.run()\n",
    "# if experiment.path:\n",
    "#     data = h5py.File(pathlib.Path(experiment.path))\n",
    "#     data    "
   ]
  },
  {
   "cell_type": "markdown",
   "id": "e4cd57d4",
   "metadata": {},
   "source": [
    "## YAML\n",
    "\n",
    "What we configured in Python during this tutorial, can be configured in YAML too.\n",
    "\n",
    "For instance, let's configure the previous experiment using YAML. \n",
    "We add our lonely agent in one of the `scenario/groups`."
   ]
  },
  {
   "cell_type": "code",
   "execution_count": 56,
   "id": "e3eed54d",
   "metadata": {
    "tags": []
   },
   "outputs": [],
   "source": [
    "yaml = \"\"\"\n",
    "time_step: 0.1\n",
    "steps: 300\n",
    "record_pose: true\n",
    "scenario:\n",
    "    obstacles:\n",
    "        - position: [5, 0.1]\n",
    "          radius: 1.0\n",
    "    groups:\n",
    "        - number: 1\n",
    "          type: thymio\n",
    "          behavior:\n",
    "            type: ORCA\n",
    "          kinematics:\n",
    "            type: 2WDiff\n",
    "            wheel_axis: 2\n",
    "            max_speed: 1\n",
    "          task:\n",
    "            type: Waypoints\n",
    "            loop: true\n",
    "            tolerance: 0.1\n",
    "            waypoints: [[10, 0], [0, 0]]\n",
    "          state_estimation:\n",
    "            type: Bounded\n",
    "            range: 5\n",
    "          position: [0, 0]\n",
    "          orientation: 0\n",
    "          radius: 1.0\n",
    "          control_period: 0.1        \n",
    "\"\"\""
   ]
  },
  {
   "cell_type": "code",
   "execution_count": 57,
   "id": "36e9d8fc",
   "metadata": {
    "tags": []
   },
   "outputs": [],
   "source": [
    "experiment = sim.load_experiment(yaml)\n",
    "run = experiment.run_once(seed=1)"
   ]
  },
  {
   "cell_type": "markdown",
   "id": "992f69e7",
   "metadata": {},
   "source": [
    "YAML is also useful to display a readable representation. Let's try to look at world at the end of the experiment:\n",
    "\n"
   ]
  },
  {
   "cell_type": "code",
   "execution_count": 58,
   "id": "f410936a",
   "metadata": {
    "tags": []
   },
   "outputs": [
    {
     "name": "stdout",
     "output_type": "stream",
     "text": [
      "obstacles:\n",
      "  - position:\n",
      "      - 5\n",
      "      - 0.10000000000000001\n",
      "    radius: 1\n",
      "    uid: 1\n",
      "walls:\n",
      "  []\n",
      "agents:\n",
      "  - behavior:\n",
      "      type: ORCA\n",
      "      effective_center: false\n",
      "      max_neighbors: 1000\n",
      "      static_time_horizon: 10\n",
      "      time_horizon: 10\n",
      "      treat_obstacles_as_agents: true\n",
      "      optimal_speed: 1\n",
      "      optimal_angular_speed: 1\n",
      "      rotation_tau: 0.5\n",
      "      safety_margin: 0\n",
      "      horizon: 5\n",
      "      path_look_ahead: 1\n",
      "      path_tau: 0.5\n",
      "      radius: 1\n",
      "      heading: velocity\n",
      "      kinematics:\n",
      "        type: 2WDiff\n",
      "        max_backward_speed: 0\n",
      "        max_forward_speed: .inf\n",
      "        wheel_axis: 2\n",
      "        max_speed: 1\n",
      "        max_angular_speed: .inf\n",
      "      social_margin:\n",
      "        modulation:\n",
      "          type: constant\n",
      "        default: 0\n",
      "    kinematics:\n",
      "      type: 2WDiff\n",
      "      max_backward_speed: 0\n",
      "      max_forward_speed: .inf\n",
      "      wheel_axis: 2\n",
      "      max_speed: 1\n",
      "      max_angular_speed: .inf\n",
      "    task:\n",
      "      type: Waypoints\n",
      "      loop: true\n",
      "      random: false\n",
      "      tolerance: 0.10000000000000001\n",
      "      waypoints:\n",
      "        -\n",
      "          - 10\n",
      "          - 0\n",
      "        -\n",
      "          - 0\n",
      "          - 0\n",
      "    state_estimation:\n",
      "      type: Bounded\n",
      "      range: 5\n",
      "      update_static_obstacles: false\n",
      "    position:\n",
      "      - 0.057797297773925949\n",
      "      - 0.028391039036245028\n",
      "    orientation: 4.6979244731750365\n",
      "    velocity:\n",
      "      - 0\n",
      "      - 0\n",
      "    angular_speed: 1\n",
      "    radius: 1\n",
      "    control_period: 0.10000000000000001\n",
      "    speed_tolerance: 0.01\n",
      "    type: thymio\n",
      "    color: \"\"\n",
      "    id: 0\n",
      "    uid: 0\n"
     ]
    }
   ],
   "source": [
    "print(sim.dump(run.world))"
   ]
  },
  {
   "cell_type": "markdown",
   "id": "9ae27257-1e74-46ad-8165-93d1449ad09e",
   "metadata": {},
   "source": [
    "## Real-time simulation\n",
    "\n",
    "This last part is possibly the most rewarding of the tour. \n",
    "\n",
    "Let's try to visualize a simulation while it runs directly in the notebook. For this, you need to install the Python websockets package\n",
    "```\n",
    "pip install websockets\n",
    "```\n",
    "and be able to listen to port 8000. If you are running it in binder, it won't work as the port won't be exposed. \n",
    "Therefore, as an alternative, which works even if you are visualizing this notebook without running it, we can make a video. For this, you need to install cairosvg (to render SVGs) and moviepy (to generate the videos)\n",
    "\n",
    "```\n",
    "pip install cairosvg moviepy\n",
    "```\n",
    "\n",
    "Let's now display a video of the simulation we just run (speeded up 5x)."
   ]
  },
  {
   "cell_type": "code",
   "execution_count": 59,
   "id": "54e8f891-9125-49d5-8bdd-5b3517a91d14",
   "metadata": {},
   "outputs": [
    {
     "data": {
      "text/html": [
       "<div align=middle><video width='640'src='data:video/mp4;base64,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' controls>Sorry, seems like your browser doesn't support HTML5 audio/video</video></div>"
      ],
      "text/plain": [
       "<moviepy.video.io.html_tools.HTML2 object>"
      ]
     },
     "execution_count": 59,
     "metadata": {},
     "output_type": "execute_result"
    }
   ],
   "source": [
    "from navground.sim.ui.video import display_video_from_run\n",
    "\n",
    "display_video_from_run(run, factor=5)"
   ]
  },
  {
   "cell_type": "markdown",
   "id": "ed17c031-0557-4b45-9024-45603c47e044",
   "metadata": {},
   "source": [
    "Let's go back to the live visualization in the notebook which uses websockets, javascript, and SVG."
   ]
  },
  {
   "cell_type": "code",
   "execution_count": 60,
   "id": "3ebee97f",
   "metadata": {
    "tags": []
   },
   "outputs": [
    {
     "data": {
      "text/plain": [
       "True"
      ]
     },
     "execution_count": 60,
     "metadata": {},
     "output_type": "execute_result"
    }
   ],
   "source": [
    "from navground.sim.ui import WebUI\n",
    "from navground.sim.notebook import notebook_view\n",
    "from navground.sim.real_time import RealTimeSimulation\n",
    "\n",
    "web_ui = WebUI(host='127.0.0.1', max_rate=-1)\n",
    "await web_ui.prepare()"
   ]
  },
  {
   "cell_type": "code",
   "execution_count": 61,
   "id": "168d6344",
   "metadata": {
    "scrolled": true,
    "tags": []
   },
   "outputs": [
    {
     "data": {
      "text/html": [
       "<!DOCTYPE html>\n",
       "\n",
       "<html>\n",
       "<head>\n",
       "  <!--  -->\n",
       "  <title></title>\n",
       "  \n",
       "  \n",
       "  \n",
       "  <script type='text/javascript'>\n",
       "    var NS = \"http://www.w3.org/2000/svg\";\n",
       "\n",
       "class WebUIClient {\n",
       "  constructor(port='8000', prefix='', display_shape=false) {\n",
       "    this.agents = new Set();\n",
       "    this.entity = {};\n",
       "    this.prefix = prefix;\n",
       "    this.port = port;\n",
       "    this.display_shape = display_shape;\n",
       "    this.prototypes = {\n",
       "      '': `${prefix}agent`, \n",
       "      'thymio': `${prefix}thymio`, \n",
       "      'wheelchair': `${prefix}wheelchair`, \n",
       "      'human': `${prefix}human`\n",
       "    };\n",
       "  }\n",
       "\n",
       "  connect() {\n",
       "    var client = this;\n",
       "    var ws_address = `ws://127.0.0.1:${this.port}/`\n",
       "    console.log(`[${this.prefix}] Try to connect to ${ws_address}`)\n",
       "    var ws = new WebSocket(ws_address);\n",
       "    ws.onopen = function(event) {\n",
       "      console.log(`[${client.prefix}] Opened Web socket ${ws_address}`)\n",
       "      client.ws = ws;\n",
       "    };\n",
       "    \n",
       "    ws.onmessage = function(event) {\n",
       "      var [type, data] = JSON.parse(event.data)\n",
       "      switch (type) {\n",
       "        case 'm':\n",
       "          client.move(data)\n",
       "          break;\n",
       "        case 'r':\n",
       "          client.reset(data)\n",
       "          break;\n",
       "        case 's':\n",
       "          client.set(data)\n",
       "          break;\n",
       "        case 'v':\n",
       "          client.view(data)\n",
       "          break;\n",
       "        case '+':\n",
       "          client.add(data)\n",
       "          break;\n",
       "        default:\n",
       "          break\n",
       "      }\n",
       "    }\n",
       "  \n",
       "    ws.onclose = function(e) {\n",
       "      console.log('Socket is closed. Reconnect will be attempted in 1 second.', e.reason);\n",
       "      client.ws = null;\n",
       "      setTimeout(function(){client.connect();}, 1000);\n",
       "    };\n",
       "  \n",
       "    ws.onerror = function(err) {\n",
       "      console.log('Socket encountered error ... closing socket');\n",
       "      ws.close();\n",
       "    };\n",
       "  }\n",
       "\n",
       "  add_wall(id, points) {\n",
       "    var e = document.createElementNS(NS,\"polyline\");\n",
       "    var ps = []\n",
       "    for (var i in points) {\n",
       "       ps.push(`${points[i][0]},${points[i][1]}`)\n",
       "    } \n",
       "    e.setAttribute(\"points\", ps.join())\n",
       "    e.setAttribute(\"class\", \"wall\");\n",
       "    e.setAttribute(\"id\", id);\n",
       "    return e\n",
       "  }\n",
       "  \n",
       "  add_obstacle(id, point, radius) {\n",
       "    var e = document.createElementNS(NS,\"circle\");\n",
       "    e.setAttribute(\"cx\", `${point[0]}`)\n",
       "    e.setAttribute(\"cy\", `${point[1]}`)\n",
       "    e.setAttribute(\"r\", `${radius}`)\n",
       "    e.setAttribute(\"class\", \"obstacle\");\n",
       "    e.setAttribute(\"id\", id);\n",
       "    return e\n",
       "  }\n",
       "  \n",
       "  add_agent(id, type, size, color) \n",
       "  {\n",
       "    var g = document.createElementNS(NS,\"g\");\n",
       "    var agent = document.createElementNS(NS,\"use\");\n",
       "    var uid = this.prototypes[type] || `${this.prefix}agent`;\n",
       "    agent.setAttributeNS(\"http://www.w3.org/1999/xlink\", \"xlink:href\", \"#\" + uid);\n",
       "    agent.setAttribute(\"transform\", `scale(${size}, ${size})`)\n",
       "    g.appendChild(agent)\n",
       "    g.setAttribute(\"class\", type);\n",
       "    g.setAttribute(\"id\", id);\n",
       "    if (color) {\n",
       "      g.setAttribute(\"style\", `fill: ${color}`);\n",
       "    }\n",
       "    if (this.display_shape) {\n",
       "      var shape = document.createElementNS(NS,\"circle\");\n",
       "      shape.setAttribute(\"r\", size);\n",
       "      shape.setAttribute(\"class\", \"shape\");\n",
       "      g.appendChild(shape);\n",
       "    }\n",
       "    return g;\n",
       "  };\n",
       "  \n",
       "  add_entity(uid, data) {\n",
       "    var id = this.prefix + uid\n",
       "    if (id in this.entity) {\n",
       "      console.warn(`Entity ${id} already present`)\n",
       "      return;\n",
       "    }\n",
       "    var kind = data['kind'];\n",
       "    var svg_world = document.getElementById(this.prefix + \"world\");\n",
       "    if (!svg_world) return;\n",
       "    var e = document.getElementById(id);\n",
       "    if (e) {\n",
       "      svg_world.removeChild(e);\n",
       "      e = null;\n",
       "    }\n",
       "    var state = null;\n",
       "    switch (kind) {\n",
       "      case 'w':\n",
       "        e = this.add_wall(id, data['points']);\n",
       "        break;\n",
       "      case 'o':\n",
       "        e = this.add_obstacle(id, data['point'], data['radius']);\n",
       "        break;\n",
       "      case 'a':\n",
       "        e = this.add_agent(id, data['type'], data['size'], data['color']);\n",
       "        state = data['pose']\n",
       "        var [x, y, theta] = state;\n",
       "        this.move_element(e, x, y, theta);\n",
       "        this.agents.add(id);\n",
       "        break;\n",
       "      default:\n",
       "        break\n",
       "    }\n",
       "    if (e) {\n",
       "      svg_world.appendChild(e);\n",
       "      this.entity[id] = {'svg': e, 'updated': true, 'state': state};\n",
       "    }\n",
       "  };\n",
       "  \n",
       "  add(data) {\n",
       "    for (var _id in data) {\n",
       "      this.add_entity(_id, data[_id])\n",
       "    }\n",
       "    window.requestAnimationFrame(this.update.bind(this));\n",
       "  };\n",
       "  \n",
       "  set_entity(_id, data) {\n",
       "    if(!(_id in this.entity)) {\n",
       "      console.warn(`Entity ${_id} unknown`)\n",
       "      return;\n",
       "    }\n",
       "    for (var a in data) {\n",
       "      this.entity[_id]['svg'].setAttribute(a, data[a])\n",
       "    }\n",
       "  };\n",
       "  \n",
       "  set(data) {\n",
       "    for (var _id in data) {\n",
       "      var _nid = this.prefix + _id\n",
       "      if (_nid in this.entity) {\n",
       "        this.set_entity(_nid, data[_id])\n",
       "      } else {\n",
       "        var e = document.getElementById(_nid);\n",
       "        if (e) {\n",
       "          var e_data = data[_id];\n",
       "          for (var a in e_data) {\n",
       "            console.log(`Setting attributes ${a} of ${e} to ${e_data[a]}`)\n",
       "            e.setAttribute(a, e_data[a]);\n",
       "          }\n",
       "        }\n",
       "      }\n",
       "    }\n",
       "    window.requestAnimationFrame(this.update.bind(this));\n",
       "  };\n",
       "  \n",
       "  move_entity(_id, data) {\n",
       "    if(!this.agents.has(_id)) {\n",
       "      console.warn(`Agent ${_id} unknown`)\n",
       "      return;\n",
       "    }\n",
       "    var [x, y, theta] = data;\n",
       "    this.entity[_id]['state'] = [x, y, theta]\n",
       "    this.entity[_id]['updated'] = true\n",
       "  };\n",
       "  \n",
       "  move(data) {\n",
       "    for (var _id in data) {\n",
       "      this.move_entity(this.prefix + _id, data[_id])\n",
       "    }\n",
       "    window.requestAnimationFrame(this.update.bind(this));\n",
       "  };\n",
       "  \n",
       "  reset() {\n",
       "    var svg_world = document.getElementById(this.prefix + \"world\");\n",
       "    if (!svg_world) return;\n",
       "    for (var _id in this.entity) {\n",
       "      svg_world.removeChild(this.entity[_id]['svg'])\n",
       "    }\n",
       "    console.log(`[${this.prefix}] reset`)\n",
       "    this.entity = {}\n",
       "    this.agents.clear()\n",
       "    window.requestAnimationFrame(this.update.bind(this));\n",
       "  };\n",
       "  \n",
       "  view(data) {\n",
       "    var [x, y, width, height] = data;\n",
       "    var svg = document.getElementById(this.prefix + \"svg\");\n",
       "    if (!svg) return;\n",
       "    svg.setAttribute(\"viewBox\", `${x} ${y} ${width} ${height}`)\n",
       "    window.requestAnimationFrame(this.update.bind(this));\n",
       "  };\n",
       "  \n",
       "  update(step) {\n",
       "    var ids_to_be_removed = []\n",
       "    for (var id of this.agents) {\n",
       "      // if (!entity[id]['updated']) {\n",
       "      //   ids_to_be_removed.push(id)\n",
       "      // }\n",
       "      if (this.entity[id]['updated']) {\n",
       "        var [x, y, theta] = this.entity[id]['state']\n",
       "        this.move_element(this.entity[id]['svg'], x, y, theta)\n",
       "        this.entity[id]['updated'] = false;\n",
       "      }\n",
       "    }\n",
       "    // for (var _id of ids_to_be_removed) {\n",
       "    //   remove_entity(_id);\n",
       "    // }  \n",
       "  };\n",
       "  \n",
       "  remove_entity(_id) {\n",
       "      var svg_world = document.getElementById(this.prefix + \"world\");\n",
       "      if (!svg_world) return;\n",
       "      console.log(`remove ${_id}`)\n",
       "      svg_world.removeChild(this.entity[_id]['svg'])\n",
       "      this.agents.delete(_id);\n",
       "      delete this.entity[_id];\n",
       "  }\n",
       "  \n",
       "  move_element(g, x, y, angle) {\n",
       "    var t = `translate(${x},${y}) rotate(${angle * 180 / 3.14159})`\n",
       "    g.setAttribute(\"transform\", t)\n",
       "  };\n",
       "}\n",
       "\n",
       "  </script>\n",
       "  \n",
       "  <script type='text/javascript'>\n",
       "    var N0client = new WebUIClient(8000, \"N0\", false)\n",
       "    N0client.connect();\n",
       "  </script>\n",
       "  \n",
       "  \n",
       "</head>\n",
       "<body>\n",
       "  <div>\n",
       "    <h1></h1>\n",
       "  </div>\n",
       "  \n",
       "<svg id=\"N0svg\" xmlns=\"http://www.w3.org/2000/svg\" xmlns:xlink=\"http://www.w3.org/1999/xlink\" version=\"1.1\" width=\"300\" height=\"300\" viewBox=\"0.0000 0.0000 1.0000 1.0000\">\n",
       "<defs>\n",
       "  <g id=\"N0agent\">\n",
       "   <circle class=\"body\" cx=\"0\" cy=\"0\" r=\"1\"/>\n",
       "   <circle opacity=\"0.5\" stroke=\"none\" fill=\"black\" cx=\"0.75\" cy=\"0\" r=\"0.25\"/>\n",
       "  </g>\n",
       "  <g id=\"N0robomaster_ep\">\n",
       "    <path class=\"body\" d=\"m -0.82233223,0.24 c -0.0391148,-0.15514519 -0.0391148,-0.32485481 0,-0.48 0.0120317,-0.0477227 0.07,-0.13 0.07,-0.13 h 0.45 l 0.09,-0.11 h 0.42 l 0.09,0.11 h 0.45 c 0,0 0.16467536,0.14929718 0.2,0.25 0.0264806,0.07549027 0.0264806,0.16450973 0,0.24 -0.0353246,0.10070282 -0.2,0.25 -0.2,0.25 h -0.45 l -0.09,0.11 h -0.42 l -0.09,-0.11 h -0.45 c 0,0 -0.0579683,-0.0822773 -0.07,-0.13 z\"/>\n",
       "    <rect class=\"wheel\" height=\"0.22774614\" rx=\"0.073571824\" ry=\"0.073361315\" style=\"fill:#121212;fill-opacity:1;stroke:none;stroke-width:0.00979554;stroke-dasharray:none;stroke-opacity:1\" transform=\"scale(-1,1)\" width=\"0.53466278\" x=\"0.2324958\" y=\"-0.61387306\"/>\n",
       "    <rect class=\"wheel\" height=\"0.22774614\" rx=\"0.073571824\" ry=\"0.073361315\" style=\"fill:#121212;stroke:none\" width=\"0.53466278\" x=\"0.23283984\" y=\"-0.61387306\"/>\n",
       "    <rect class=\"wheel\" height=\"0.22774614\" rx=\"0.073571824\" ry=\"0.073361315\" style=\"fill:#121212;stroke:none\" width=\"0.53466278\" x=\"0.23283984\" y=\"0.38612694\"/>\n",
       "    <rect class=\"wheel\" height=\"0.22774614\" rx=\"0.073571824\" ry=\"0.073361315\" style=\"fill:#121212;stroke:none\" width=\"0.53466278\" x=\"-0.76715857\" y=\"0.38612694\"/>\n",
       "    <rect class=\"motor\" height=\"0.12521972\" style=\"fill:#2a2a2a;stroke:none\" width=\"0.22443947\" x=\"-0.093881205\" y=\"0.15738994\"/>\n",
       "    <rect class=\"motor\" height=\"0.12521972\" style=\"fill:#2a2a2a;stroke:none\" width=\"0.22443947\" x=\"-0.093881205\" y=\"-0.28260982\"/>\n",
       "    <path class=\"arm\" d=\"m 1.0576703,-0.39000203 -0.23000152,0.0700009 -0.0300033,0.1699999 H -0.14233403 V 0.1500012 H 0.79766546 L 0.82766878,0.3200011 1.0576703,0.390002 1.2276702,0.3200011 1.2576684,0.2599996 H 1.0518308 L 0.93766725,0.1199978 V -0.1199978 L 1.0624503,-0.2599996 h 0.1952181 l -0.029998,-0.0600015 z m -0.00814,0.0597017 -0.13185764,0.1502648 -0.052064,-0.0813749 z m -0.75185597,0.2503 H 0.54478682 V 0.0800003 H 0.29767013 Z M 0.91766846,0.1841076 1.0495261,0.3343724 0.86560445,0.2654825 Z\" style=\"fill:#2a2a2a;stroke:none\"/>\n",
       "  </g>\n",
       "  <g id=\"N0quadrotor\">\n",
       "    <path class=\"camera\" style=\"stroke:none;fill:#808080\" d=\"M 0.25,0 0.75,0.25 0.75,-0.25 Z\"/>\n",
       "    <g class=\"body\">\n",
       "      <path d=\"M 0.06999986,0.07032032 0.49632602,-0.4605096 0.45935482,-0.492153 -0.07000004,-0.06968042 Z\"/>\n",
       "      <path d=\"m -0.07000006,0.07032032 -0.42632616,-0.53082992 0.0369712,-0.0316434 0.52935486,0.42247258 z\"/>\n",
       "      <path d=\"M 0.06999986,-0.07096132 0.49632602,0.4598686 0.45935482,0.4915121 -0.07000004,0.06903952 Z\" />\n",
       "      <path d=\"M -0.07000006,-0.07096132 -0.49632622,0.4598686 -0.45935502,0.491512 0.06999984,0.06903942 Z\"/>\n",
       "      <circle cx=\"0\" cy=\"0\" r=\"0.35\" />\n",
       "    </g>\n",
       "    <g class=\"prop\">\n",
       "      <ellipse\n",
       "         style=\"fill:#0d0d0d;stroke:none;\"\n",
       "         cx=\"0.69928879\"\n",
       "         cy=\"-0.14274563\"\n",
       "         rx=\"0.024324713\"\n",
       "         ry=\"0.11011158\"\n",
       "         transform=\"rotate(-45)\" />\n",
       "      <ellipse\n",
       "         style=\"fill:#0d0d0d;stroke:none;\"\n",
       "         cx=\"0.69928879\"\n",
       "         cy=\"0.14367317\"\n",
       "         rx=\"0.024324713\"\n",
       "         ry=\"0.11011158\"\n",
       "         transform=\"rotate(-45)\" />\n",
       "      <ellipse\n",
       "         style=\"fill:none;stroke:#000000;stroke-width:0.0392596\"\n",
       "         cx=\"0.49399981\"\n",
       "         cy=\"-0.49447966\"\n",
       "         rx=\"0.28037018\"\n",
       "         ry=\"0.28037015\"  />\n",
       "      <ellipse\n",
       "         style=\"fill:none;stroke:#000000;stroke-width:0.0574358\"\n",
       "         cx=\"0.49399981\"\n",
       "         cy=\"-0.49447966\"\n",
       "         rx=\"0.051282048\"\n",
       "         ry=\"0.051282078\" />\n",
       "    </g>\n",
       "    <g class=\"prop\">\n",
       "      <ellipse\n",
       "         style=\"fill:#0d0d0d;stroke:none;\"\n",
       "         cx=\"0.69928879\"\n",
       "         cy=\"-0.14274563\"\n",
       "         rx=\"0.024324713\"\n",
       "         ry=\"0.11011158\"\n",
       "         transform=\"matrix(-0.70710678,-0.70710678,-0.70710678,0.70710678,0,0)\" />\n",
       "      <ellipse\n",
       "         style=\"fill:#0d0d0d;stroke:none;\"\n",
       "         cx=\"0.69928879\"\n",
       "         cy=\"0.14367317\"\n",
       "         rx=\"0.024324713\"\n",
       "         ry=\"0.11011158\"\n",
       "         transform=\"matrix(-0.70710678,-0.70710678,-0.70710678,0.70710678,0,0)\" />\n",
       "      <ellipse\n",
       "         style=\"fill:none;stroke:#000000;stroke-width:0.0392596\"\n",
       "         cx=\"0.49399981\"\n",
       "         cy=\"-0.49447966\"\n",
       "         rx=\"0.28037018\"\n",
       "         ry=\"0.28037015\" \n",
       "         transform=\"scale(-1,1)\" />\n",
       "      <ellipse\n",
       "         style=\"fill:none;stroke:#000000;stroke-width:0.0574358\"\n",
       "         cx=\"0.49399981\"\n",
       "         cy=\"-0.49447966\"\n",
       "         rx=\"0.051282048\"\n",
       "         ry=\"0.051282078\"\n",
       "         transform=\"scale(-1,1)\" />\n",
       "    </g>\n",
       "    <g class=\"prop\">\n",
       "      <ellipse\n",
       "         style=\"fill:#0d0d0d;stroke:none;\"\n",
       "         cx=\"0.69928879\"\n",
       "         cy=\"-0.14274563\"\n",
       "         rx=\"0.024324713\"\n",
       "         ry=\"0.11011158\"\n",
       "         transform=\"matrix(0.70710678,0.70710678,0.70710678,-0.70710678,0,0)\" />\n",
       "      <ellipse\n",
       "         style=\"fill:#0d0d0d;stroke:none;\"\n",
       "         cx=\"0.69928879\"\n",
       "         cy=\"0.14367317\"\n",
       "         rx=\"0.024324713\"\n",
       "         ry=\"0.11011158\"\n",
       "         transform=\"matrix(0.70710678,0.70710678,0.70710678,-0.70710678,0,0)\" />\n",
       "      <ellipse\n",
       "         style=\"fill:none;stroke:#000000;stroke-width:0.0392596\"\n",
       "         cx=\"0.49399981\"\n",
       "         cy=\"-0.49447966\"\n",
       "         rx=\"0.28037018\"\n",
       "         ry=\"0.28037015\" \n",
       "         transform=\"scale(1,-1)\" />\n",
       "      <ellipse\n",
       "         style=\"fill:none;stroke:#000000;stroke-width:0.0574358\"\n",
       "         cx=\"0.49399981\"\n",
       "         cy=\"-0.49447966\"\n",
       "         rx=\"0.051282048\"\n",
       "         ry=\"0.051282078\"\n",
       "         transform=\"scale(1,-1)\" />\n",
       "    </g>\n",
       "    <g class=\"prop\">\n",
       "      <ellipse\n",
       "         style=\"fill:#0d0d0d;stroke:none;\"\n",
       "         cx=\"0.69928879\"\n",
       "         cy=\"-0.14274563\"\n",
       "         rx=\"0.024324713\"\n",
       "         ry=\"0.11011158\"\n",
       "         transform=\"rotate(135)\" />\n",
       "      <ellipse\n",
       "         style=\"fill:#0d0d0d;stroke:none;\"\n",
       "         cx=\"0.69928879\"\n",
       "         cy=\"0.14367317\"\n",
       "         rx=\"0.024324713\"\n",
       "         ry=\"0.11011158\"\n",
       "         transform=\"rotate(135)\" />\n",
       "      <ellipse\n",
       "         style=\"fill:none;stroke:#000000;stroke-width:0.0392596\"\n",
       "         cx=\"0.49399981\"\n",
       "         cy=\"-0.49447966\"\n",
       "         rx=\"0.28037018\"\n",
       "         ry=\"0.28037015\" \n",
       "         transform=\"scale(-1)\" />\n",
       "      <ellipse\n",
       "         style=\"fill:none;stroke:#000000;stroke-width:0.0574358\"\n",
       "         cx=\"0.49399981\"\n",
       "         cy=\"-0.49447966\"\n",
       "         rx=\"0.051282048\"\n",
       "         ry=\"0.051282078\"\n",
       "         transform=\"scale(-1)\" />\n",
       "    </g>\n",
       "  </g>\n",
       "  <g id=\"N0thymio\" transform=\"rotate(90)\">\n",
       "      <path class=\"body\"\n",
       "         d=\"M -0.6874903375 -0.7257309 L -0.6874903375 0.3749771125 L 0.6874903375 0.3749771125 L 0.6874903375 -0.726118475 A 1 1 0 0 0 0 -1 A 1 1 0 0 0 -0.6874903375 -0.7257309 z \" />\n",
       "      <rect\n",
       "         style=\"fill:#333333;stroke:none\"\n",
       "         width=\"0.1875\"\n",
       "         height=\"0.525\"\n",
       "         x=\"-0.675\"\n",
       "         y=\"-0.2625\"\n",
       "         rx=\"0.0625\" />\n",
       "      <rect\n",
       "         style=\"fill:#333333;stroke:none\"\n",
       "         width=\"0.1875\"\n",
       "         height=\"0.525\"\n",
       "         x=\"0.4875\"\n",
       "         y=\"-0.2625\"\n",
       "         rx=\"0.0625\" />\n",
       "  </g>\n",
       "  <g id=\"N0wheelchair\" transform=\"rotate(180) translate(-1.1,-3.46)\">\n",
       "    <path\n",
       "       stroke=\"none\"\n",
       "       style=\"fill:#c8beb7\"\n",
       "       d=\"m 0.9612298,3.7966354 h -0.7778 v -0.6666 h 0.7778 z\"/>\n",
       "    <path\n",
       "       stroke=\"none\"\n",
       "       style=\"fill:#080808;\"\n",
       "       d=\"m 1.62765948,2.970532 v -0.0823436 -0.084297 H 1.0722298 v 0.166640 z\"/>\n",
       "    <path\n",
       "       stroke=\"none\"\n",
       "       style=\"fill:#080808;\"\n",
       "       d=\"m 1.62765948,4.081332 v -0.0823436 -0.084297 H1.0722298 v 0.1666406 z\"/>\n",
       "    <path\n",
       "       class=\"body\"\n",
       "       d=\"m 1.84994464,3.9982804 h -1 v -1.1112 h 1 z\" />\n",
       "    <path\n",
       "       stroke=\"none\"\n",
       "       style=\"fill:#917c6f;opacity:0.75;stroke:none\"\n",
       "       d=\"m 1.84994464,3.9982664 v -0.0554296 -1.0557422 h -0.11117186 v 1.1111718 z\"/>\n",
       "  </g>\n",
       "  <g id=\"N0human\" transform=\"rotate(180) translate(-1,-3.5)\">\n",
       "    <g class=\"body\">\n",
       "    <ellipse\n",
       "       cx=\"0.80312774\"\n",
       "       cy=\"2.6959574\"\n",
       "       rx=\"0.46378762\"\n",
       "       ry=\"0.1392307\" />\n",
       "    <ellipse\n",
       "       cx=\"0.80312774\"\n",
       "       cy=\"4.2229708\"\n",
       "       rx=\"0.46378762\"\n",
       "       ry=\"0.1392307\" />\n",
       "    <ellipse\n",
       "       cx=\"1.08757424\"\n",
       "       cy=\"3.4594642\"\n",
       "       rx=\"0.39526176\"\n",
       "       ry=\"0.86793068\" />\n",
       "    </g>\n",
       "    <ellipse\n",
       "       style=\"fill:#1a1a1a;opacity:0.5;stroke:none\"\n",
       "       cx=\"1.08757424\"\n",
       "       cy=\"3.458025\"\n",
       "       rx=\"0.3257516\"\n",
       "       ry=\"0.33270264\" />\n",
       "  </g>\n",
       "</defs>\n",
       "<style>\n",
       "<![CDATA[\n",
       "\n",
       "/*svg{\n",
       "  style=stroke-width: 0px;\n",
       "}\n",
       "*/\n",
       "circle.obstacle{\n",
       "  fill: gray; \n",
       "  stroke:none;\n",
       "}\n",
       "polyline.wall{\n",
       "  stroke:black;\n",
       "  stroke-width:0.01;\n",
       "}\n",
       "\n",
       ".shape {\n",
       "  fill: none;\n",
       "  stroke: black;\n",
       "  stroke-width: 0.01;\n",
       "  stroke-dasharray: 0.01;\n",
       "}\n",
       "\n",
       ".quadrotor {\n",
       "  fill: #A0A0A0;\n",
       "  stroke: none;\n",
       "  stroke-width: 0.05;\n",
       "}\n",
       "\n",
       "\n",
       ".robomaster_ep {\n",
       "  fill: #121212;\n",
       "  stroke: none;\n",
       "  stroke-width: 0.05;\n",
       "}\n",
       "\n",
       "\n",
       ".thymio {\n",
       "  fill: #e6e6e6;\n",
       "  stroke: none;\n",
       "  stroke-width: 0.05;\n",
       "}\n",
       "\n",
       ".human {\n",
       "  fill: #666666;\n",
       "  stroke: none;\n",
       "  stroke-width: 0.05;\n",
       "}\n",
       "\n",
       ".agent {\n",
       "  fill: gray;\n",
       "  stroke: none;\n",
       "  stroke-width: 0.05;\n",
       "}\n",
       "\n",
       ".wheelchair {\n",
       "  fill: #483e37;\n",
       "  stroke: none;\n",
       "  stroke-width: 0.05;\n",
       "}\n",
       "\n",
       "/*.body {\n",
       "    all: inherit;\n",
       "}\n",
       "*/\n",
       "\n",
       "\n",
       "\n",
       "\n",
       "\n",
       "svg {\n",
       "   background-color: snow;\n",
       "}\n",
       "\n",
       ".grid {\n",
       "  stroke: ;\n",
       "  stroke-width: ;\n",
       "}\n",
       "]]>\n",
       "</style>\n",
       "\n",
       "<g id=\"N0world\" transform='scale(1, -1) '>\n",
       "\n",
       "\n",
       "\n",
       "\n",
       "\n",
       "\n",
       "\n",
       "</g>\n",
       "</svg>\n",
       "</body>\n",
       "</html>"
      ],
      "text/plain": [
       "<IPython.core.display.HTML object>"
      ]
     },
     "execution_count": 61,
     "metadata": {},
     "output_type": "execute_result"
    }
   ],
   "source": [
    "notebook_view(width=300)"
   ]
  },
  {
   "cell_type": "code",
   "execution_count": 62,
   "id": "553986d5",
   "metadata": {
    "tags": []
   },
   "outputs": [],
   "source": [
    "# we run 5x faster than real-time\n",
    "world = run.world\n",
    "rt_sim = RealTimeSimulation(world=world, time_step=0.1, factor=5, web_ui=web_ui, \n",
    "                            bounds=((-1, -3), (11, 3)))\n",
    "await rt_sim.init()"
   ]
  },
  {
   "cell_type": "code",
   "execution_count": 64,
   "id": "75b5481c",
   "metadata": {
    "tags": []
   },
   "outputs": [],
   "source": [
    "until_time = world.time + 60\n",
    "await rt_sim.run(until=lambda : world.time > until_time)"
   ]
  }
 ],
 "metadata": {
  "kernelspec": {
   "display_name": "Python 3 (ipykernel)",
   "language": "python",
   "name": "python3"
  },
  "language_info": {
   "codemirror_mode": {
    "name": "ipython",
    "version": 3
   },
   "file_extension": ".py",
   "mimetype": "text/x-python",
   "name": "python",
   "nbconvert_exporter": "python",
   "pygments_lexer": "ipython3",
   "version": "3.12.7"
  }
 },
 "nbformat": 4,
 "nbformat_minor": 5
}
