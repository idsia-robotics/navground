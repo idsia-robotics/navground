{
 "cells": [
  {
   "cell_type": "markdown",
   "id": "fa17e89b-480e-4642-8908-18c885131b72",
   "metadata": {},
   "source": [
    "# World attributes \n",
    "\n",
    "In this tutorial, we learn how to use world attributes to write a behavior modulation.\n",
    "Note that we could have used Python variables direcly, e.g.\n",
    "\n",
    "```python\n",
    "world.side_length = 1.0\n",
    "```\n",
    "\n",
    "instead of\n",
    "\n",
    "```python\n",
    "world.set(\"side_length\", 1.0)\n",
    "```\n",
    "\n",
    "with the same effect. Yet, using attribute allow us to \n",
    "\n",
    "1. save/restore them from YAML\n",
    "2. read/write them from C++.\n",
    "\n",
    "This way, we could move some the classes (e.g., the modulation, the state estimation and/or the scenario) to C++."
   ]
  },
  {
   "cell_type": "markdown",
   "id": "4b530cea-dd70-4685-ba4b-ffe55635e607",
   "metadata": {},
   "source": [
    "In this scenario, a robot moves on a checkboard. The parameters of the checkboard cells (size, number, and color) are exposed as properties.\n",
    "When initializing a world, the scenario write the same parameter (which may be sampled from some distribution) as attribute of the world."
   ]
  },
  {
   "cell_type": "code",
   "execution_count": 128,
   "id": "8c57b121-435a-41ee-9c52-959d100fd2cc",
   "metadata": {},
   "outputs": [],
   "source": [
    "from navground import sim, core\n",
    "\n",
    "class MyScenario(sim.Scenario, name=\"Checkboard\"):\n",
    "\n",
    "    def __init__(self, number_of_cells: int = 8, side_length: float = 1.0, \n",
    "                 color_1: tuple[float, float, float] = (0.25, 0.25, 0.25), \n",
    "                 color_2: tuple[float, float, float] = (0.75, 0.75, 0.75)):\n",
    "        super().__init__()\n",
    "        self._side_length = side_length\n",
    "        self._number_of_cells = number_of_cells\n",
    "        self._color_1 = color_1\n",
    "        self._color_2 = color_2\n",
    "\n",
    "    @property\n",
    "    @sim.register(1.0, \"Side length\")\n",
    "    def side_length(self) -> float:\n",
    "        return self._side_length\n",
    "\n",
    "    @side_length.setter\n",
    "    def side_length(self, value: float) -> None:\n",
    "        if value <= 0:\n",
    "            raise ValueError(\"Side length must be stricly positive\")\n",
    "        self._side_length = value\n",
    "\n",
    "    @property\n",
    "    @sim.register(8, \"# of cells\")\n",
    "    def number_of_cells(self) -> int:\n",
    "        return self._number_of_cells\n",
    "\n",
    "    @number_of_cells.setter\n",
    "    def number_of_cells(self, value: int) -> None:\n",
    "        self._number_of_cells = max(1, value)\n",
    "    \n",
    "    @property\n",
    "    @sim.register([0, 0, 0], \"First color\")\n",
    "    def color_1(self) -> list[float]:\n",
    "        return self._color_1\n",
    "\n",
    "    @color_1.setter\n",
    "    def color_1(self, value: list[float]) -> None:\n",
    "        if len(value) == 3:\n",
    "            self._color_1 = value\n",
    "\n",
    "    @property\n",
    "    @sim.register([0, 0, 0], \"First color\")\n",
    "    def color_2(self) -> list[float]:\n",
    "        return self._color_2\n",
    "\n",
    "    @color_2.setter\n",
    "    def color_2(self, value: list[float]) -> None:\n",
    "        if len(value) == 3:\n",
    "            self._color_2 = value\n",
    "    \n",
    "    def init_world(self, world: sim.World, seed: int | None = None) -> None:\n",
    "        super().init_world(world, seed=seed)\n",
    "        for k in self.properties:\n",
    "            world.set(k, self.get(k))\n",
    "        world.bounding_box = sim.BoundingBox(0, self.side_length * self.number_of_cells, \n",
    "                                             0, self.side_length * self.number_of_cells)\n",
    "        "
   ]
  },
  {
   "cell_type": "markdown",
   "id": "e6d5626a-1bf5-4f41-b3e7-7764044f754f",
   "metadata": {},
   "source": [
    "We read the world attributes to render the checkboard"
   ]
  },
  {
   "cell_type": "code",
   "execution_count": 129,
   "id": "fe099e82-0620-4771-bfa7-9457a4ff9a14",
   "metadata": {},
   "outputs": [],
   "source": [
    "from navground.sim.notebook import display_in_notebook    \n",
    "from navground.sim.ui.to_svg import svg_color  \n",
    "\n",
    "def checkboard(world: sim.World) -> str:\n",
    "    if not (world.has(\"side_length\") and world.has(\"side_length\") and world.has(\"side_length\")):\n",
    "        return ''\n",
    "    s = ''\n",
    "    l = world.get(\"side_length\")\n",
    "    n = world.get(\"number_of_cells\")\n",
    "    color_1 = svg_color(*world.get(\"color_1\"))\n",
    "    color_2 = svg_color(*world.get(\"color_2\"))\n",
    "    for i in range(n):\n",
    "        for j in range(n):\n",
    "            color = color_1 if (i + j) % 2 else color_2\n",
    "            s += f'<rect x=\"{i * l}\" y=\"{j * l}\" width=\"{l}\" height=\"{l}\" fill=\"{color}\" />'\n",
    "    return s\n",
    "\n",
    "   "
   ]
  },
  {
   "cell_type": "code",
   "execution_count": 137,
   "id": "853664ad-8931-497f-9d08-228acac147dd",
   "metadata": {},
   "outputs": [
    {
     "data": {
      "image/svg+xml": [
       "<svg xmlns=\"http://www.w3.org/2000/svg\" xmlns:xlink=\"http://www.w3.org/1999/xlink\" id=\"svg\" version=\"1.1\" width=\"600\" height=\"600\" viewBox=\"-0.0500 -1.0500 1.1000 1.1000\">\n",
       "<defs>\n",
       "  <g id=\"agent\">\n",
       "   <circle class=\"body\" cx=\"0\" cy=\"0\" r=\"1\"/>\n",
       "   <circle opacity=\"0.5\" stroke=\"none\" fill=\"black\" cx=\"0.75\" cy=\"0\" r=\"0.25\"/>\n",
       "  </g>\n",
       "  <g id=\"robomaster_ep\">\n",
       "    <path class=\"body\" d=\"m -0.82233223,0.24 c -0.0391148,-0.15514519 -0.0391148,-0.32485481 0,-0.48 0.0120317,-0.0477227 0.07,-0.13 0.07,-0.13 h 0.45 l 0.09,-0.11 h 0.42 l 0.09,0.11 h 0.45 c 0,0 0.16467536,0.14929718 0.2,0.25 0.0264806,0.07549027 0.0264806,0.16450973 0,0.24 -0.0353246,0.10070282 -0.2,0.25 -0.2,0.25 h -0.45 l -0.09,0.11 h -0.42 l -0.09,-0.11 h -0.45 c 0,0 -0.0579683,-0.0822773 -0.07,-0.13 z\"/>\n",
       "    <rect class=\"wheel\" height=\"0.22774614\" rx=\"0.073571824\" ry=\"0.073361315\" style=\"fill:#121212;fill-opacity:1;stroke:none;stroke-width:0.00979554;stroke-dasharray:none;stroke-opacity:1\" transform=\"scale(-1,1)\" width=\"0.53466278\" x=\"0.2324958\" y=\"-0.61387306\"/>\n",
       "    <rect class=\"wheel\" height=\"0.22774614\" rx=\"0.073571824\" ry=\"0.073361315\" style=\"fill:#121212;stroke:none\" width=\"0.53466278\" x=\"0.23283984\" y=\"-0.61387306\"/>\n",
       "    <rect class=\"wheel\" height=\"0.22774614\" rx=\"0.073571824\" ry=\"0.073361315\" style=\"fill:#121212;stroke:none\" width=\"0.53466278\" x=\"0.23283984\" y=\"0.38612694\"/>\n",
       "    <rect class=\"wheel\" height=\"0.22774614\" rx=\"0.073571824\" ry=\"0.073361315\" style=\"fill:#121212;stroke:none\" width=\"0.53466278\" x=\"-0.76715857\" y=\"0.38612694\"/>\n",
       "    <rect class=\"motor\" height=\"0.12521972\" style=\"fill:#2a2a2a;stroke:none\" width=\"0.22443947\" x=\"-0.093881205\" y=\"0.15738994\"/>\n",
       "    <rect class=\"motor\" height=\"0.12521972\" style=\"fill:#2a2a2a;stroke:none\" width=\"0.22443947\" x=\"-0.093881205\" y=\"-0.28260982\"/>\n",
       "    <path class=\"arm\" d=\"m 1.0576703,-0.39000203 -0.23000152,0.0700009 -0.0300033,0.1699999 H -0.14233403 V 0.1500012 H 0.79766546 L 0.82766878,0.3200011 1.0576703,0.390002 1.2276702,0.3200011 1.2576684,0.2599996 H 1.0518308 L 0.93766725,0.1199978 V -0.1199978 L 1.0624503,-0.2599996 h 0.1952181 l -0.029998,-0.0600015 z m -0.00814,0.0597017 -0.13185764,0.1502648 -0.052064,-0.0813749 z m -0.75185597,0.2503 H 0.54478682 V 0.0800003 H 0.29767013 Z M 0.91766846,0.1841076 1.0495261,0.3343724 0.86560445,0.2654825 Z\" style=\"fill:#2a2a2a;stroke:none\"/>\n",
       "  </g>\n",
       "  <g id=\"quadrotor\">\n",
       "    <path class=\"camera\" style=\"stroke:none;fill:#808080\" d=\"M 0.25,0 0.75,0.25 0.75,-0.25 Z\"/>\n",
       "    <g class=\"body\">\n",
       "      <path d=\"M 0.06999986,0.07032032 0.49632602,-0.4605096 0.45935482,-0.492153 -0.07000004,-0.06968042 Z\"/>\n",
       "      <path d=\"m -0.07000006,0.07032032 -0.42632616,-0.53082992 0.0369712,-0.0316434 0.52935486,0.42247258 z\"/>\n",
       "      <path d=\"M 0.06999986,-0.07096132 0.49632602,0.4598686 0.45935482,0.4915121 -0.07000004,0.06903952 Z\"/>\n",
       "      <path d=\"M -0.07000006,-0.07096132 -0.49632622,0.4598686 -0.45935502,0.491512 0.06999984,0.06903942 Z\"/>\n",
       "      <circle cx=\"0\" cy=\"0\" r=\"0.35\"/>\n",
       "    </g>\n",
       "    <g class=\"prop\">\n",
       "      <ellipse style=\"fill:#0d0d0d;stroke:none;\" cx=\"0.69928879\" cy=\"-0.14274563\" rx=\"0.024324713\" ry=\"0.11011158\" transform=\"rotate(-45)\"/>\n",
       "      <ellipse style=\"fill:#0d0d0d;stroke:none;\" cx=\"0.69928879\" cy=\"0.14367317\" rx=\"0.024324713\" ry=\"0.11011158\" transform=\"rotate(-45)\"/>\n",
       "      <ellipse style=\"fill:none;stroke:#000000;stroke-width:0.0392596\" cx=\"0.49399981\" cy=\"-0.49447966\" rx=\"0.28037018\" ry=\"0.28037015\"/>\n",
       "      <ellipse style=\"fill:none;stroke:#000000;stroke-width:0.0574358\" cx=\"0.49399981\" cy=\"-0.49447966\" rx=\"0.051282048\" ry=\"0.051282078\"/>\n",
       "    </g>\n",
       "    <g class=\"prop\">\n",
       "      <ellipse style=\"fill:#0d0d0d;stroke:none;\" cx=\"0.69928879\" cy=\"-0.14274563\" rx=\"0.024324713\" ry=\"0.11011158\" transform=\"matrix(-0.70710678,-0.70710678,-0.70710678,0.70710678,0,0)\"/>\n",
       "      <ellipse style=\"fill:#0d0d0d;stroke:none;\" cx=\"0.69928879\" cy=\"0.14367317\" rx=\"0.024324713\" ry=\"0.11011158\" transform=\"matrix(-0.70710678,-0.70710678,-0.70710678,0.70710678,0,0)\"/>\n",
       "      <ellipse style=\"fill:none;stroke:#000000;stroke-width:0.0392596\" cx=\"0.49399981\" cy=\"-0.49447966\" rx=\"0.28037018\" ry=\"0.28037015\" transform=\"scale(-1,1)\"/>\n",
       "      <ellipse style=\"fill:none;stroke:#000000;stroke-width:0.0574358\" cx=\"0.49399981\" cy=\"-0.49447966\" rx=\"0.051282048\" ry=\"0.051282078\" transform=\"scale(-1,1)\"/>\n",
       "    </g>\n",
       "    <g class=\"prop\">\n",
       "      <ellipse style=\"fill:#0d0d0d;stroke:none;\" cx=\"0.69928879\" cy=\"-0.14274563\" rx=\"0.024324713\" ry=\"0.11011158\" transform=\"matrix(0.70710678,0.70710678,0.70710678,-0.70710678,0,0)\"/>\n",
       "      <ellipse style=\"fill:#0d0d0d;stroke:none;\" cx=\"0.69928879\" cy=\"0.14367317\" rx=\"0.024324713\" ry=\"0.11011158\" transform=\"matrix(0.70710678,0.70710678,0.70710678,-0.70710678,0,0)\"/>\n",
       "      <ellipse style=\"fill:none;stroke:#000000;stroke-width:0.0392596\" cx=\"0.49399981\" cy=\"-0.49447966\" rx=\"0.28037018\" ry=\"0.28037015\" transform=\"scale(1,-1)\"/>\n",
       "      <ellipse style=\"fill:none;stroke:#000000;stroke-width:0.0574358\" cx=\"0.49399981\" cy=\"-0.49447966\" rx=\"0.051282048\" ry=\"0.051282078\" transform=\"scale(1,-1)\"/>\n",
       "    </g>\n",
       "    <g class=\"prop\">\n",
       "      <ellipse style=\"fill:#0d0d0d;stroke:none;\" cx=\"0.69928879\" cy=\"-0.14274563\" rx=\"0.024324713\" ry=\"0.11011158\" transform=\"rotate(135)\"/>\n",
       "      <ellipse style=\"fill:#0d0d0d;stroke:none;\" cx=\"0.69928879\" cy=\"0.14367317\" rx=\"0.024324713\" ry=\"0.11011158\" transform=\"rotate(135)\"/>\n",
       "      <ellipse style=\"fill:none;stroke:#000000;stroke-width:0.0392596\" cx=\"0.49399981\" cy=\"-0.49447966\" rx=\"0.28037018\" ry=\"0.28037015\" transform=\"scale(-1)\"/>\n",
       "      <ellipse style=\"fill:none;stroke:#000000;stroke-width:0.0574358\" cx=\"0.49399981\" cy=\"-0.49447966\" rx=\"0.051282048\" ry=\"0.051282078\" transform=\"scale(-1)\"/>\n",
       "    </g>\n",
       "  </g>\n",
       "  <g id=\"thymio\" transform=\"rotate(90)\">\n",
       "      <path class=\"body\" d=\"M -0.6874903375 -0.7257309 L -0.6874903375 0.3749771125 L 0.6874903375 0.3749771125 L 0.6874903375 -0.726118475 A 1 1 0 0 0 0 -1 A 1 1 0 0 0 -0.6874903375 -0.7257309 z \"/>\n",
       "      <rect style=\"fill:#333333;stroke:none\" width=\"0.1875\" height=\"0.525\" x=\"-0.675\" y=\"-0.2625\" rx=\"0.0625\"/>\n",
       "      <rect style=\"fill:#333333;stroke:none\" width=\"0.1875\" height=\"0.525\" x=\"0.4875\" y=\"-0.2625\" rx=\"0.0625\"/>\n",
       "  </g>\n",
       "  <g id=\"wheelchair\" transform=\"rotate(180) translate(-1.1,-3.46)\">\n",
       "    <path stroke=\"none\" style=\"fill:#c8beb7\" d=\"m 0.9612298,3.7966354 h -0.7778 v -0.6666 h 0.7778 z\"/>\n",
       "    <path stroke=\"none\" style=\"fill:#080808;\" d=\"m 1.62765948,2.970532 v -0.0823436 -0.084297 H 1.0722298 v 0.166640 z\"/>\n",
       "    <path stroke=\"none\" style=\"fill:#080808;\" d=\"m 1.62765948,4.081332 v -0.0823436 -0.084297 H1.0722298 v 0.1666406 z\"/>\n",
       "    <path class=\"body\" d=\"m 1.84994464,3.9982804 h -1 v -1.1112 h 1 z\"/>\n",
       "    <path stroke=\"none\" style=\"fill:#917c6f;opacity:0.75;stroke:none\" d=\"m 1.84994464,3.9982664 v -0.0554296 -1.0557422 h -0.11117186 v 1.1111718 z\"/>\n",
       "  </g>\n",
       "  <g id=\"human\" transform=\"rotate(180) translate(-1,-3.5)\">\n",
       "    <g class=\"body\">\n",
       "    <ellipse cx=\"0.80312774\" cy=\"2.6959574\" rx=\"0.46378762\" ry=\"0.1392307\"/>\n",
       "    <ellipse cx=\"0.80312774\" cy=\"4.2229708\" rx=\"0.46378762\" ry=\"0.1392307\"/>\n",
       "    <ellipse cx=\"1.08757424\" cy=\"3.4594642\" rx=\"0.39526176\" ry=\"0.86793068\"/>\n",
       "    </g>\n",
       "    <ellipse style=\"fill:#1a1a1a;opacity:0.5;stroke:none\" cx=\"1.08757424\" cy=\"3.458025\" rx=\"0.3257516\" ry=\"0.33270264\"/>\n",
       "  </g>\n",
       "</defs>\n",
       "<style>\n",
       "<![CDATA[\n",
       "\n",
       "/*svg{\n",
       "  style=stroke-width: 0px;\n",
       "}\n",
       "*/\n",
       "circle.obstacle{\n",
       "  fill: gray; \n",
       "  stroke:none;\n",
       "}\n",
       "polyline.wall{\n",
       "  stroke:black;\n",
       "  stroke-width:0.01;\n",
       "}\n",
       "\n",
       ".shape {\n",
       "  fill: none;\n",
       "  stroke: black;\n",
       "  stroke-width: 0.01;\n",
       "  stroke-dasharray: 0.01;\n",
       "}\n",
       "\n",
       ".quadrotor {\n",
       "  fill: #A0A0A0;\n",
       "  stroke: none;\n",
       "  stroke-width: 0.05;\n",
       "}\n",
       "\n",
       "\n",
       ".robomaster_ep {\n",
       "  fill: #121212;\n",
       "  stroke: none;\n",
       "  stroke-width: 0.05;\n",
       "}\n",
       "\n",
       "\n",
       ".thymio {\n",
       "  fill: #e6e6e6;\n",
       "  stroke: none;\n",
       "  stroke-width: 0.05;\n",
       "}\n",
       "\n",
       ".human {\n",
       "  fill: #666666;\n",
       "  stroke: none;\n",
       "  stroke-width: 0.05;\n",
       "}\n",
       "\n",
       ".agent {\n",
       "  fill: gray;\n",
       "  stroke: none;\n",
       "  stroke-width: 0.05;\n",
       "}\n",
       "\n",
       ".wheelchair {\n",
       "  fill: #483e37;\n",
       "  stroke: none;\n",
       "  stroke-width: 0.05;\n",
       "}\n",
       "\n",
       "/*.body {\n",
       "    all: inherit;\n",
       "}\n",
       "*/\n",
       "\n",
       "\n",
       "\n",
       "\n",
       "\n",
       "svg {\n",
       "   background-color: snow;\n",
       "}\n",
       "\n",
       ".grid {\n",
       "  stroke: ;\n",
       "  stroke-width: ;\n",
       "}\n",
       "]]>\n",
       "</style>\n",
       "\n",
       "<g id=\"world\" transform=\"scale(1, -1) \">\n",
       "\n",
       "\n",
       "\n",
       "<rect x=\"0.0\" y=\"0.0\" width=\"0.125\" height=\"0.125\" fill=\"#bfbfbf\"/><rect x=\"0.0\" y=\"0.125\" width=\"0.125\" height=\"0.125\" fill=\"#3f001f\"/><rect x=\"0.0\" y=\"0.25\" width=\"0.125\" height=\"0.125\" fill=\"#bfbfbf\"/><rect x=\"0.0\" y=\"0.375\" width=\"0.125\" height=\"0.125\" fill=\"#3f001f\"/><rect x=\"0.0\" y=\"0.5\" width=\"0.125\" height=\"0.125\" fill=\"#bfbfbf\"/><rect x=\"0.0\" y=\"0.625\" width=\"0.125\" height=\"0.125\" fill=\"#3f001f\"/><rect x=\"0.0\" y=\"0.75\" width=\"0.125\" height=\"0.125\" fill=\"#bfbfbf\"/><rect x=\"0.0\" y=\"0.875\" width=\"0.125\" height=\"0.125\" fill=\"#3f001f\"/><rect x=\"0.125\" y=\"0.0\" width=\"0.125\" height=\"0.125\" fill=\"#3f001f\"/><rect x=\"0.125\" y=\"0.125\" width=\"0.125\" height=\"0.125\" fill=\"#bfbfbf\"/><rect x=\"0.125\" y=\"0.25\" width=\"0.125\" height=\"0.125\" fill=\"#3f001f\"/><rect x=\"0.125\" y=\"0.375\" width=\"0.125\" height=\"0.125\" fill=\"#bfbfbf\"/><rect x=\"0.125\" y=\"0.5\" width=\"0.125\" height=\"0.125\" fill=\"#3f001f\"/><rect x=\"0.125\" y=\"0.625\" width=\"0.125\" height=\"0.125\" fill=\"#bfbfbf\"/><rect x=\"0.125\" y=\"0.75\" width=\"0.125\" height=\"0.125\" fill=\"#3f001f\"/><rect x=\"0.125\" y=\"0.875\" width=\"0.125\" height=\"0.125\" fill=\"#bfbfbf\"/><rect x=\"0.25\" y=\"0.0\" width=\"0.125\" height=\"0.125\" fill=\"#bfbfbf\"/><rect x=\"0.25\" y=\"0.125\" width=\"0.125\" height=\"0.125\" fill=\"#3f001f\"/><rect x=\"0.25\" y=\"0.25\" width=\"0.125\" height=\"0.125\" fill=\"#bfbfbf\"/><rect x=\"0.25\" y=\"0.375\" width=\"0.125\" height=\"0.125\" fill=\"#3f001f\"/><rect x=\"0.25\" y=\"0.5\" width=\"0.125\" height=\"0.125\" fill=\"#bfbfbf\"/><rect x=\"0.25\" y=\"0.625\" width=\"0.125\" height=\"0.125\" fill=\"#3f001f\"/><rect x=\"0.25\" y=\"0.75\" width=\"0.125\" height=\"0.125\" fill=\"#bfbfbf\"/><rect x=\"0.25\" y=\"0.875\" width=\"0.125\" height=\"0.125\" fill=\"#3f001f\"/><rect x=\"0.375\" y=\"0.0\" width=\"0.125\" height=\"0.125\" fill=\"#3f001f\"/><rect x=\"0.375\" y=\"0.125\" width=\"0.125\" height=\"0.125\" fill=\"#bfbfbf\"/><rect x=\"0.375\" y=\"0.25\" width=\"0.125\" height=\"0.125\" fill=\"#3f001f\"/><rect x=\"0.375\" y=\"0.375\" width=\"0.125\" height=\"0.125\" fill=\"#bfbfbf\"/><rect x=\"0.375\" y=\"0.5\" width=\"0.125\" height=\"0.125\" fill=\"#3f001f\"/><rect x=\"0.375\" y=\"0.625\" width=\"0.125\" height=\"0.125\" fill=\"#bfbfbf\"/><rect x=\"0.375\" y=\"0.75\" width=\"0.125\" height=\"0.125\" fill=\"#3f001f\"/><rect x=\"0.375\" y=\"0.875\" width=\"0.125\" height=\"0.125\" fill=\"#bfbfbf\"/><rect x=\"0.5\" y=\"0.0\" width=\"0.125\" height=\"0.125\" fill=\"#bfbfbf\"/><rect x=\"0.5\" y=\"0.125\" width=\"0.125\" height=\"0.125\" fill=\"#3f001f\"/><rect x=\"0.5\" y=\"0.25\" width=\"0.125\" height=\"0.125\" fill=\"#bfbfbf\"/><rect x=\"0.5\" y=\"0.375\" width=\"0.125\" height=\"0.125\" fill=\"#3f001f\"/><rect x=\"0.5\" y=\"0.5\" width=\"0.125\" height=\"0.125\" fill=\"#bfbfbf\"/><rect x=\"0.5\" y=\"0.625\" width=\"0.125\" height=\"0.125\" fill=\"#3f001f\"/><rect x=\"0.5\" y=\"0.75\" width=\"0.125\" height=\"0.125\" fill=\"#bfbfbf\"/><rect x=\"0.5\" y=\"0.875\" width=\"0.125\" height=\"0.125\" fill=\"#3f001f\"/><rect x=\"0.625\" y=\"0.0\" width=\"0.125\" height=\"0.125\" fill=\"#3f001f\"/><rect x=\"0.625\" y=\"0.125\" width=\"0.125\" height=\"0.125\" fill=\"#bfbfbf\"/><rect x=\"0.625\" y=\"0.25\" width=\"0.125\" height=\"0.125\" fill=\"#3f001f\"/><rect x=\"0.625\" y=\"0.375\" width=\"0.125\" height=\"0.125\" fill=\"#bfbfbf\"/><rect x=\"0.625\" y=\"0.5\" width=\"0.125\" height=\"0.125\" fill=\"#3f001f\"/><rect x=\"0.625\" y=\"0.625\" width=\"0.125\" height=\"0.125\" fill=\"#bfbfbf\"/><rect x=\"0.625\" y=\"0.75\" width=\"0.125\" height=\"0.125\" fill=\"#3f001f\"/><rect x=\"0.625\" y=\"0.875\" width=\"0.125\" height=\"0.125\" fill=\"#bfbfbf\"/><rect x=\"0.75\" y=\"0.0\" width=\"0.125\" height=\"0.125\" fill=\"#bfbfbf\"/><rect x=\"0.75\" y=\"0.125\" width=\"0.125\" height=\"0.125\" fill=\"#3f001f\"/><rect x=\"0.75\" y=\"0.25\" width=\"0.125\" height=\"0.125\" fill=\"#bfbfbf\"/><rect x=\"0.75\" y=\"0.375\" width=\"0.125\" height=\"0.125\" fill=\"#3f001f\"/><rect x=\"0.75\" y=\"0.5\" width=\"0.125\" height=\"0.125\" fill=\"#bfbfbf\"/><rect x=\"0.75\" y=\"0.625\" width=\"0.125\" height=\"0.125\" fill=\"#3f001f\"/><rect x=\"0.75\" y=\"0.75\" width=\"0.125\" height=\"0.125\" fill=\"#bfbfbf\"/><rect x=\"0.75\" y=\"0.875\" width=\"0.125\" height=\"0.125\" fill=\"#3f001f\"/><rect x=\"0.875\" y=\"0.0\" width=\"0.125\" height=\"0.125\" fill=\"#3f001f\"/><rect x=\"0.875\" y=\"0.125\" width=\"0.125\" height=\"0.125\" fill=\"#bfbfbf\"/><rect x=\"0.875\" y=\"0.25\" width=\"0.125\" height=\"0.125\" fill=\"#3f001f\"/><rect x=\"0.875\" y=\"0.375\" width=\"0.125\" height=\"0.125\" fill=\"#bfbfbf\"/><rect x=\"0.875\" y=\"0.5\" width=\"0.125\" height=\"0.125\" fill=\"#3f001f\"/><rect x=\"0.875\" y=\"0.625\" width=\"0.125\" height=\"0.125\" fill=\"#bfbfbf\"/><rect x=\"0.875\" y=\"0.75\" width=\"0.125\" height=\"0.125\" fill=\"#3f001f\"/><rect x=\"0.875\" y=\"0.875\" width=\"0.125\" height=\"0.125\" fill=\"#bfbfbf\"/>\n",
       "\n",
       "<g id=\"21\" class=\"thymio\" style=\"fill:gold\" transform=\"translate(0.5, 0.6000000238418579) rotate(11.459)\"><use xlink:href=\"#thymio\" transform=\"scale(0.1, 0.1)\"/></g>\n",
       "\n",
       "\n",
       "\n",
       "</g>\n",
       "</svg>"
      ],
      "text/plain": [
       "<IPython.core.display.SVG object>"
      ]
     },
     "execution_count": 137,
     "metadata": {},
     "output_type": "execute_result"
    }
   ],
   "source": [
    "scenario = MyScenario(side_length=0.125, color_1=(0.25, 0.0, 0.125))\n",
    "world = scenario.make_world(seed=0)\n",
    "robot = sim.Agent()\n",
    "robot.type = 'thymio'\n",
    "robot.radius = 0.1\n",
    "robot.color = 'gold'\n",
    "robot.pose = core.Pose2((0.5, 0.6), 0.2)\n",
    "world.add_agent(robot)\n",
    "display_in_notebook(world, background_extras=[checkboard])"
   ]
  },
  {
   "cell_type": "markdown",
   "id": "ddcd7737-b78e-4357-a512-11bb465372d5",
   "metadata": {},
   "source": [
    "Attributes are also included in the YAML representation"
   ]
  },
  {
   "cell_type": "code",
   "execution_count": 138,
   "id": "42438e7d-7ac2-455c-a677-bce24a699cec",
   "metadata": {},
   "outputs": [
    {
     "name": "stdout",
     "output_type": "stream",
     "text": [
      "obstacles:\n",
      "  []\n",
      "walls:\n",
      "  []\n",
      "agents:\n",
      "  - position:\n",
      "      - 0.5\n",
      "      - 0.600000024\n",
      "    orientation: 0.200000003\n",
      "    velocity:\n",
      "      - 0\n",
      "      - 0\n",
      "    angular_speed: 0\n",
      "    radius: 0.100000001\n",
      "    control_period: 0\n",
      "    speed_tolerance: 0.00999999978\n",
      "    angular_speed_tolerance: 0.00999999978\n",
      "    type: thymio\n",
      "    color: gold\n",
      "    id: 0\n",
      "    uid: 21\n",
      "bounding_box:\n",
      "  min_x: 0\n",
      "  min_y: 0\n",
      "  max_x: 1\n",
      "  max_y: 1\n",
      "attributes:\n",
      "  color_1:\n",
      "    value:\n",
      "      - 0.25\n",
      "      - 0\n",
      "      - 0.125\n",
      "    type: \"[float]\"\n",
      "  color_2:\n",
      "    value:\n",
      "      - 0.75\n",
      "      - 0.75\n",
      "      - 0.75\n",
      "    type: \"[float]\"\n",
      "  number_of_cells:\n",
      "    value: 8\n",
      "    type: int\n",
      "  side_length:\n",
      "    value: 0.125\n",
      "    type: float\n"
     ]
    }
   ],
   "source": [
    "yaml = world.dump()\n",
    "print(yaml)"
   ]
  },
  {
   "cell_type": "markdown",
   "id": "8425ce49-0714-4012-be87-a276af8800eb",
   "metadata": {},
   "source": [
    "and therefore loaded/copied:"
   ]
  },
  {
   "cell_type": "code",
   "execution_count": 139,
   "id": "22bd162c-82cc-4ac6-b4d8-ca5b2e4b3f5d",
   "metadata": {},
   "outputs": [
    {
     "name": "stdout",
     "output_type": "stream",
     "text": [
      "Original world attributes:\n",
      "{'color_1': [0.25, 0.0, 0.125], 'color_2': [0.75, 0.75, 0.75], 'number_of_cells': 8, 'side_length': 0.125}\n",
      "\n",
      "Copied world attributes:\n",
      "{'color_1': [0.25, 0.0, 0.125], 'color_2': [0.75, 0.75, 0.75], 'number_of_cells': 8, 'side_length': 0.125}\n",
      "\n",
      "Loaded world attributes:\n",
      "{'color_1': [0.25, 0.0, 0.125], 'color_2': [0.75, 0.75, 0.75], 'number_of_cells': 8, 'side_length': 0.125}\n",
      "\n"
     ]
    }
   ],
   "source": [
    "import copy\n",
    "\n",
    "print(f'Original world attributes:\\n{world.attributes}\\n')\n",
    "\n",
    "world1 = copy.copy(world)\n",
    "print(f'Copied world attributes:\\n{world1.attributes}\\n')\n",
    "\n",
    "world2 = sim.World.load(yaml)\n",
    "print(f'Loaded world attributes:\\n{world2.attributes}\\n')"
   ]
  },
  {
   "cell_type": "markdown",
   "id": "3debe4c9-4fec-442f-92cc-f68ffaaeefa6",
   "metadata": {},
   "source": [
    "We use the same world attributes to define a sensor that reads the color below the robot"
   ]
  },
  {
   "cell_type": "code",
   "execution_count": 96,
   "id": "32f05ad1-1f63-4684-9a21-2e2ab070b68a",
   "metadata": {},
   "outputs": [],
   "source": [
    "import math \n",
    "\n",
    "def checkboard_color_at(position, number_of_cells, side_length, color_1, color_2):\n",
    "    if position[0] > number_of_cells * side_length or position[0] < 0:\n",
    "        return (0, 0, 0)\n",
    "    if position[1] > number_of_cells * side_length or position[1] < 0:\n",
    "        return (0, 0, 0)  \n",
    "    i = math.floor(position[0] / side_length)\n",
    "    j = math.floor(position[1] / side_length)\n",
    "    if (i + j) % 2:\n",
    "        return color_1\n",
    "    return color_2\n",
    "\n",
    "class FloorSensor(sim.Sensor, name=\"FloorColor\"):\n",
    "    \n",
    "    def update(self, agent: sim.Agent, world: sim.World,\n",
    "               state: core.EnvironmentState) -> None:\n",
    "        if not isinstance(state, core.SensingState):\n",
    "            return\n",
    "        color = checkboard_color_at(agent.position, world.get(\"number_of_cells\"), world.get(\"side_length\"), \n",
    "                                    world.get(\"color_1\"), world.get(\"color_2\"))\n",
    "        state.get_buffer(f'{self.name}/color').data = np.asarray(color)\n",
    "        \n",
    "    def get_description(self) -> dict[str, core.BufferDescription]:\n",
    "        desc = core.BufferDescription([3], float, 0.0, 1.0)\n",
    "        return {f'{self.name}/color': desc}"
   ]
  },
  {
   "cell_type": "markdown",
   "id": "d4752709-2310-4120-a61f-921a6864744e",
   "metadata": {},
   "source": [
    "To test the whole, we define a modulation that slows down the robot when on a dark spot. "
   ]
  },
  {
   "cell_type": "code",
   "execution_count": null,
   "id": "84e5284c-f0a4-404a-afab-a2bbc95ed9c6",
   "metadata": {},
   "outputs": [],
   "source": [
    "import numpy as np\n",
    "\n",
    "class SlowDownOnBlackModulation(core.BehaviorModulation, name=\"SlowDownOnDark\"):\n",
    "\n",
    "    def pre(self, behavior: core.Behavior, time_step: float):\n",
    "        color = behavior.environment_state.buffers['/color'].data\n",
    "        intensity = np.mean(color)\n",
    "        self._optimal_speed = behavior.optimal_speed\n",
    "        behavior.optimal_speed = intensity * behavior.optimal_speed\n",
    "\n",
    "    def post(self, behavior: core.Behavior, time_step: float, cmd: core.Twist2) -> core.Twist2:\n",
    "        behavior.optimal_speed = self._optimal_speed\n",
    "        return cmd"
   ]
  },
  {
   "cell_type": "markdown",
   "id": "a233ea5b-3f10-484f-8d9f-8359a4308e4b",
   "metadata": {},
   "source": [
    "Let us run it once"
   ]
  },
  {
   "cell_type": "code",
   "execution_count": 103,
   "id": "83cb73e5-5180-4be1-8109-14e690d1a88c",
   "metadata": {},
   "outputs": [],
   "source": [
    "scenario = sim.load_scenario(\"\"\"\n",
    "type: Checkboard\n",
    "side_length:\n",
    "  sampler: uniform\n",
    "  from: 0.25\n",
    "  to: 1.0\n",
    "number_of_cells: 10\n",
    "number: 100\n",
    "color: [0.2, 0.4, 0.3]\n",
    "color: [0.6, 0.7, 0.8]\n",
    "groups:\n",
    "  - number: 1\n",
    "    type: thymio\n",
    "    color: gold\n",
    "    radius: 0.1\n",
    "    position: [1.13, 0.71]\n",
    "    kinematics:\n",
    "      type: 2WDiff\n",
    "      max_speed: 0.14\n",
    "      wheel_axis: 0.09\n",
    "    behavior:\n",
    "      type: Dummy\n",
    "      environment: Sensing\n",
    "      modulations:\n",
    "        - type: SlowDownOnDark\n",
    "    state_estimation:\n",
    "      type: FloorColor\n",
    "      name: floor\n",
    "    task:\n",
    "      type: Waypoints\n",
    "      waypoints: [[0.75, 1.5], [5.3, 2.2], [1.5, 4.9]]\n",
    "      tolerance: 0.02\n",
    "\"\"\")"
   ]
  },
  {
   "cell_type": "code",
   "execution_count": 101,
   "id": "973f13a6-5dbf-4e03-b094-e60f916aadad",
   "metadata": {},
   "outputs": [
    {
     "data": {
      "text/html": [
       "<div align=middle><video width='640'src='data:video/mp4;base64,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' controls>Sorry, seems like your browser doesn't support HTML5 audio/video</video></div>"
      ],
      "text/plain": [
       "<moviepy.video.io.display_in_notebook.HTML2 object>"
      ]
     },
     "execution_count": 101,
     "metadata": {},
     "output_type": "execute_result"
    }
   ],
   "source": [
    "from navground.sim.ui.video import display_video\n",
    "\n",
    "world = scenario.make_world()\n",
    "display_video(world, time_step=0.1, duration=120, factor=20, \n",
    "              background_extras=[checkboard]\n",
    "              )"
   ]
  },
  {
   "cell_type": "markdown",
   "id": "d5cd1d46-262c-4ee1-9cbf-78caca81640f",
   "metadata": {},
   "source": [
    "Finally, we perform some experiments, sampling the cell size uniformly."
   ]
  },
  {
   "cell_type": "code",
   "execution_count": 115,
   "id": "1982c79b-584d-4f6c-86a7-8606e6129af4",
   "metadata": {},
   "outputs": [],
   "source": [
    "experiment = sim.Experiment(time_step=0.1, steps=100)\n",
    "experiment.scenario = scenario\n",
    "experiment.record_config.efficacy = True\n",
    "experiment.run(number_of_runs=1000)"
   ]
  },
  {
   "cell_type": "markdown",
   "id": "8c86d44d-f19a-43bb-89c7-91024f4c078e",
   "metadata": {},
   "source": [
    "The sampled checkboard configuration are included in the initial state of the world saved by the experiment, and also accessible through the API."
   ]
  },
  {
   "cell_type": "code",
   "execution_count": 116,
   "id": "dbf08c2b-85ca-4e9e-85a4-9542bda537fb",
   "metadata": {},
   "outputs": [
    {
     "data": {
      "text/plain": [
       "{'color_1': [0.10000000149011612, 0.10000000149011612, 0.10000000149011612],\n",
       " 'color_2': [0.8999999761581421, 0.8999999761581421, 0.8999999761581421],\n",
       " 'number_of_cells': 10,\n",
       " 'side_length': 0.620951235294342}"
      ]
     },
     "execution_count": 116,
     "metadata": {},
     "output_type": "execute_result"
    }
   ],
   "source": [
    "experiment.runs[50].world.attributes"
   ]
  },
  {
   "cell_type": "markdown",
   "id": "16fef3d1-1258-4532-a012-3b71956ef653",
   "metadata": {},
   "source": [
    "which we can use to compute the (not very interesting) correlation between cell size and mean efficacy"
   ]
  },
  {
   "cell_type": "code",
   "execution_count": 117,
   "id": "ed87b6da-5028-47cb-9e6f-e778ab4e9c68",
   "metadata": {},
   "outputs": [
    {
     "data": {
      "image/png": "[encoded data removed]",
      "text/plain": [
       "<Figure size 640x480 with 1 Axes>"
      ]
     },
     "metadata": {},
     "output_type": "display_data"
    }
   ],
   "source": [
    "from matplotlib import pyplot as plt\n",
    "\n",
    "sizes = [run.world.get('side_length') for run in experiment.runs.values()]\n",
    "efficacy = [np.mean(run.efficacy) for run in experiment.runs.values()]\n",
    "plt.plot(sizes, efficacy, '.')\n",
    "plt.xlabel('cell size [m]')\n",
    "plt.ylabel('mean efficacy');"
   ]
  },
  {
   "cell_type": "code",
   "execution_count": null,
   "id": "0c36fbdb-40c1-4465-9a65-d207c82fab72",
   "metadata": {},
   "outputs": [],
   "source": []
  }
 ],
 "metadata": {
  "kernelspec": {
   "display_name": "Python 3 (ipykernel)",
   "language": "python",
   "name": "python3"
  },
  "language_info": {
   "codemirror_mode": {
    "name": "ipython",
    "version": 3
   },
   "file_extension": ".py",
   "mimetype": "text/x-python",
   "name": "python",
   "nbconvert_exporter": "python",
   "pygments_lexer": "ipython3",
   "version": "3.12.10"
  }
 },
 "nbformat": 4,
 "nbformat_minor": 5
}
