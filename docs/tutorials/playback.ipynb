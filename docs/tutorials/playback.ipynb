{
 "cells": [
  {
   "cell_type": "markdown",
   "id": "d32be64e-9a35-4c2d-ab24-1014ae66c8d5",
   "metadata": {},
   "source": [
    "## Load and playing back recorded experiments\n",
    "\n",
    "This tutorial show how to use the [RecordedExperiment](../reference/sim/python/recorded_experiment.html#navground.sim.RecordedExperiment)\n",
    "class to load, inspect and play-back a recorded experiment. \n",
    "\n",
    "We start by recording one run of the same simple experiment as we did during the [tour](tour.html)."
   ]
  },
  {
   "cell_type": "code",
   "execution_count": 1,
   "id": "de76ed50-46c8-4dda-859c-4967e2d8378b",
   "metadata": {},
   "outputs": [],
   "source": [
    "from navground import sim\n",
    "\n",
    "yaml = \"\"\"\n",
    "time_step: 0.1\n",
    "steps: 300\n",
    "runs: 1\n",
    "scenario:\n",
    "    obstacles:\n",
    "        - position: [5, 0.1]\n",
    "          radius: 1.0\n",
    "    groups:\n",
    "        - number: 1\n",
    "          type: thymio\n",
    "          behavior:\n",
    "            type: ORCA\n",
    "          kinematics:\n",
    "            type: 2WDiff\n",
    "            wheel_axis: 2\n",
    "            max_speed: 1\n",
    "          task:\n",
    "            type: Waypoints\n",
    "            loop: true\n",
    "            tolerance: 0.1\n",
    "            waypoints: [[10, 0], [0, 0]]\n",
    "          state_estimation:\n",
    "            type: Bounded\n",
    "            range: 5\n",
    "          position: [0, 0]\n",
    "          orientation: 0\n",
    "          radius: 1.0\n",
    "          control_period: 0.1        \n",
    "\"\"\"\n",
    "\n",
    "experiment = sim.load_experiment(yaml)"
   ]
  },
  {
   "cell_type": "markdown",
   "id": "e8508719-3740-4cf4-821e-0276de0d3f1c",
   "metadata": {},
   "source": [
    "We record all possible data"
   ]
  },
  {
   "cell_type": "code",
   "execution_count": 2,
   "id": "7c9a28fd-0474-4388-872e-12d21f8bb3ad",
   "metadata": {},
   "outputs": [],
   "source": [
    "experiment.record_config.set_all(True)"
   ]
  },
  {
   "cell_type": "markdown",
   "id": "646ef8ee-456c-489a-8dba-7e7cdc1ff508",
   "metadata": {},
   "source": [
    "to an HDF5 file, without saving the data in-memory"
   ]
  },
  {
   "cell_type": "code",
   "execution_count": 3,
   "id": "dc7f46c1-3e7d-4245-be7d-7f13e042437b",
   "metadata": {},
   "outputs": [],
   "source": [
    "path = \"recorded_experiment.h5\"\n",
    "experiment.run(keep=False, data_path=path)"
   ]
  },
  {
   "cell_type": "markdown",
   "id": "f32c0140-df0a-443b-b66f-4cdf0cafa898",
   "metadata": {},
   "source": [
    "We mimic closing the sessing."
   ]
  },
  {
   "cell_type": "code",
   "execution_count": 4,
   "id": "86a7cd76-db77-4435-9877-a232a70919b8",
   "metadata": {},
   "outputs": [],
   "source": [
    "del experiment"
   ]
  },
  {
   "cell_type": "markdown",
   "id": "ec12067f-02aa-4fe1-92d2-82e03308983e",
   "metadata": {},
   "source": [
    "We can load the HDF5 file directly, like showcased in [this tutorial](running_an_experiment.html), or, like we will do here, we can make use of the [RecordedExperiment](../reference/sim/python/recorded_experiment.html#navground.sim.RecordedExperiment) helper class.\n",
    "\n",
    "We use the command line to similarly replay the record in a separate HTML view.\n",
    "```\n",
    "replay <HDF5_file>\n",
    "```"
   ]
  },
  {
   "cell_type": "code",
   "execution_count": 5,
   "id": "22ffd645-d9be-43cf-be14-014b1b8a0b8a",
   "metadata": {},
   "outputs": [],
   "source": [
    "from navground import sim\n",
    "path = \"recorded_experiment.h5\""
   ]
  },
  {
   "cell_type": "code",
   "execution_count": 6,
   "id": "df74decd-baf0-415c-ba03-bd08612b2aef",
   "metadata": {},
   "outputs": [],
   "source": [
    "recorded_experiment = sim.RecordedExperiment(path)"
   ]
  },
  {
   "cell_type": "markdown",
   "id": "efa7ddad-f137-430a-9df2-bfcf68d0610e",
   "metadata": {},
   "source": [
    "which exposes the a readonly version of the [Experiment](../reference/sim/python/experiment.html#navground.sim.Experiment) interface.\n",
    "\n",
    "For instance, we can load the path followed by the agent"
   ]
  },
  {
   "cell_type": "code",
   "execution_count": 7,
   "id": "8a6ce710-9ae3-472a-a0e9-27a047d37a95",
   "metadata": {},
   "outputs": [
    {
     "data": {
      "text/plain": [
       "(300, 1, 3)"
      ]
     },
     "execution_count": 7,
     "metadata": {},
     "output_type": "execute_result"
    }
   ],
   "source": [
    "run = recorded_experiment.runs[0]\n",
    "ps = run.poses\n",
    "ps.shape"
   ]
  },
  {
   "cell_type": "markdown",
   "id": "ca3afa9d-8cad-41bf-94e3-1eb567455f8c",
   "metadata": {},
   "source": [
    "to plot it"
   ]
  },
  {
   "cell_type": "code",
   "execution_count": 8,
   "id": "b33e7989-f43c-45b9-82fc-65a710ddaf87",
   "metadata": {},
   "outputs": [
    {
     "data": {
      "image/png": "[encoded data removed]",
      "text/plain": [
       "<Figure size 700x300 with 1 Axes>"
      ]
     },
     "metadata": {},
     "output_type": "display_data"
    }
   ],
   "source": [
    "from matplotlib import pyplot as plt\n",
    "\n",
    "radius = run.world.agents[0].radius\n",
    "\n",
    "fig, ax = plt.subplots(figsize=((7, 3)))\n",
    "for obstacle in run.world.obstacles:\n",
    "    disc = obstacle.disc\n",
    "    ax.add_patch(plt.Circle(disc.position, disc.radius, color='k', alpha=0.5))\n",
    "for i in range(ps.shape[1]):\n",
    "    ax.plot(ps[:, i, 0], ps[:, i, 1], 'b-')\n",
    "    ax.add_patch(plt.Circle(ps[-1, i], radius, color='b', alpha=0.5))\n",
    "ax.set_xlabel('x')\n",
    "ax.set_ylabel('y')\n",
    "plt.axis('equal');"
   ]
  },
  {
   "cell_type": "markdown",
   "id": "b905d634-3119-4859-9fb5-ddfe209f1a07",
   "metadata": {},
   "source": [
    "We can also play back the recorded simulation and display it live."
   ]
  },
  {
   "cell_type": "code",
   "execution_count": 9,
   "id": "a470c0e7-3613-49c6-b7a7-1423914e55c0",
   "metadata": {},
   "outputs": [
    {
     "data": {
      "text/html": [
       "<!DOCTYPE html>\n",
       "\n",
       "<html>\n",
       "<head>\n",
       "  <!--  -->\n",
       "  <title></title>\n",
       "  \n",
       "  \n",
       "  \n",
       "  <script type='text/javascript'>\n",
       "    var NS = \"http://www.w3.org/2000/svg\";\n",
       "\n",
       "class WebUIClient {\n",
       "  constructor(port='8000', prefix='', display_shape=false) {\n",
       "    this.agents = new Set();\n",
       "    this.entity = {};\n",
       "    this.prefix = prefix;\n",
       "    this.port = port;\n",
       "    this.display_shape = display_shape;\n",
       "    this.prototypes = {\n",
       "      '': `${prefix}agent`, \n",
       "      'thymio': `${prefix}thymio`, \n",
       "      'wheelchair': `${prefix}wheelchair`, \n",
       "      'human': `${prefix}human`\n",
       "    };\n",
       "  }\n",
       "\n",
       "  connect() {\n",
       "    var client = this;\n",
       "    var ws_address = `ws://127.0.0.1:${this.port}/`\n",
       "    console.log(`[${this.prefix}] Try to connect to ${ws_address}`)\n",
       "    var ws = new WebSocket(ws_address);\n",
       "    ws.onopen = function(event) {\n",
       "      console.log(`[${client.prefix}] Opened Web socket ${ws_address}`)\n",
       "      client.ws = ws;\n",
       "    };\n",
       "    \n",
       "    ws.onmessage = function(event) {\n",
       "      var [type, data] = JSON.parse(event.data)\n",
       "      switch (type) {\n",
       "        case 'm':\n",
       "          client.move(data)\n",
       "          break;\n",
       "        case 'r':\n",
       "          client.reset(data)\n",
       "          break;\n",
       "        case 's':\n",
       "          client.set(data)\n",
       "          break;\n",
       "        case 'v':\n",
       "          client.view(data)\n",
       "          break;\n",
       "        case '+':\n",
       "          client.add(data)\n",
       "          break;\n",
       "        default:\n",
       "          break\n",
       "      }\n",
       "    }\n",
       "  \n",
       "    ws.onclose = function(e) {\n",
       "      console.log('Socket is closed. Reconnect will be attempted in 1 second.', e.reason);\n",
       "      client.ws = null;\n",
       "      setTimeout(function(){client.connect();}, 1000);\n",
       "    };\n",
       "  \n",
       "    ws.onerror = function(err) {\n",
       "      console.log('Socket encountered error ... closing socket');\n",
       "      ws.close();\n",
       "    };\n",
       "  }\n",
       "\n",
       "  add_wall(id, points) {\n",
       "    var e = document.createElementNS(NS,\"polyline\");\n",
       "    var ps = []\n",
       "    for (var i in points) {\n",
       "       ps.push(`${points[i][0]},${points[i][1]}`)\n",
       "    } \n",
       "    e.setAttribute(\"points\", ps.join())\n",
       "    e.setAttribute(\"class\", \"wall\");\n",
       "    e.setAttribute(\"id\", id);\n",
       "    return e\n",
       "  }\n",
       "  \n",
       "  add_obstacle(id, point, radius) {\n",
       "    var e = document.createElementNS(NS,\"circle\");\n",
       "    e.setAttribute(\"cx\", `${point[0]}`)\n",
       "    e.setAttribute(\"cy\", `${point[1]}`)\n",
       "    e.setAttribute(\"r\", `${radius}`)\n",
       "    e.setAttribute(\"class\", \"obstacle\");\n",
       "    e.setAttribute(\"id\", id);\n",
       "    return e\n",
       "  }\n",
       "  \n",
       "  add_agent(id, type, size, color) \n",
       "  {\n",
       "    var g = document.createElementNS(NS,\"g\");\n",
       "    var agent = document.createElementNS(NS,\"use\");\n",
       "    var uid = this.prototypes[type] || `${this.prefix}agent`;\n",
       "    agent.setAttributeNS(\"http://www.w3.org/1999/xlink\", \"xlink:href\", \"#\" + uid);\n",
       "    agent.setAttribute(\"transform\", `scale(${size}, ${size})`)\n",
       "    g.appendChild(agent)\n",
       "    g.setAttribute(\"class\", type);\n",
       "    g.setAttribute(\"id\", id);\n",
       "    if (color) {\n",
       "      g.setAttribute(\"style\", `fill: ${color}`);\n",
       "    }\n",
       "    if (this.display_shape) {\n",
       "      var shape = document.createElementNS(NS,\"circle\");\n",
       "      shape.setAttribute(\"r\", size);\n",
       "      shape.setAttribute(\"class\", \"shape\");\n",
       "      g.appendChild(shape);\n",
       "    }\n",
       "    return g;\n",
       "  };\n",
       "  \n",
       "  add_entity(uid, data) {\n",
       "    var id = this.prefix + uid\n",
       "    if (id in this.entity) {\n",
       "      console.warn(`Entity ${id} already present`)\n",
       "      return;\n",
       "    }\n",
       "    var kind = data['kind'];\n",
       "    var svg_world = document.getElementById(this.prefix + \"world\");\n",
       "    if (!svg_world) return;\n",
       "    var e = document.getElementById(id);\n",
       "    if (e) {\n",
       "      svg_world.removeChild(e);\n",
       "      e = null;\n",
       "    }\n",
       "    var state = null;\n",
       "    switch (kind) {\n",
       "      case 'w':\n",
       "        e = this.add_wall(id, data['points']);\n",
       "        break;\n",
       "      case 'o':\n",
       "        e = this.add_obstacle(id, data['point'], data['radius']);\n",
       "        break;\n",
       "      case 'a':\n",
       "        e = this.add_agent(id, data['type'], data['size'], data['color']);\n",
       "        state = data['pose']\n",
       "        var [x, y, theta] = state;\n",
       "        this.move_element(e, x, y, theta);\n",
       "        this.agents.add(id);\n",
       "        break;\n",
       "      default:\n",
       "        break\n",
       "    }\n",
       "    if (e) {\n",
       "      svg_world.appendChild(e);\n",
       "      this.entity[id] = {'svg': e, 'updated': true, 'state': state};\n",
       "    }\n",
       "  };\n",
       "  \n",
       "  add(data) {\n",
       "    for (var _id in data) {\n",
       "      this.add_entity(_id, data[_id])\n",
       "    }\n",
       "    window.requestAnimationFrame(this.update.bind(this));\n",
       "  };\n",
       "  \n",
       "  set_entity(_id, data) {\n",
       "    if(!(_id in this.entity)) {\n",
       "      console.warn(`Entity ${_id} unknown`)\n",
       "      return;\n",
       "    }\n",
       "    for (var a in data) {\n",
       "      this.entity[_id]['svg'].setAttribute(a, data[a])\n",
       "    }\n",
       "  };\n",
       "  \n",
       "  set(data) {\n",
       "    for (var _id in data) {\n",
       "      var _nid = this.prefix + _id\n",
       "      if (_nid in this.entity) {\n",
       "        this.set_entity(_nid, data[_id])\n",
       "      } else {\n",
       "        var e = document.getElementById(_nid);\n",
       "        if (e) {\n",
       "          var e_data = data[_id];\n",
       "          for (var a in e_data) {\n",
       "            console.log(`Setting attributes ${a} of ${e} to ${e_data[a]}`)\n",
       "            e.setAttribute(a, e_data[a]);\n",
       "          }\n",
       "        }\n",
       "      }\n",
       "    }\n",
       "    window.requestAnimationFrame(this.update.bind(this));\n",
       "  };\n",
       "  \n",
       "  move_entity(_id, data) {\n",
       "    if(!this.agents.has(_id)) {\n",
       "      console.warn(`Agent ${_id} unknown`)\n",
       "      return;\n",
       "    }\n",
       "    var [x, y, theta] = data;\n",
       "    this.entity[_id]['state'] = [x, y, theta]\n",
       "    this.entity[_id]['updated'] = true\n",
       "  };\n",
       "  \n",
       "  move(data) {\n",
       "    for (var _id in data) {\n",
       "      this.move_entity(this.prefix + _id, data[_id])\n",
       "    }\n",
       "    window.requestAnimationFrame(this.update.bind(this));\n",
       "  };\n",
       "  \n",
       "  reset() {\n",
       "    var svg_world = document.getElementById(this.prefix + \"world\");\n",
       "    if (!svg_world) return;\n",
       "    for (var _id in this.entity) {\n",
       "      svg_world.removeChild(this.entity[_id]['svg'])\n",
       "    }\n",
       "    console.log(`[${this.prefix}] reset`)\n",
       "    this.entity = {}\n",
       "    this.agents.clear()\n",
       "    window.requestAnimationFrame(this.update.bind(this));\n",
       "  };\n",
       "  \n",
       "  view(data) {\n",
       "    var [x, y, width, height] = data;\n",
       "    var svg = document.getElementById(this.prefix + \"svg\");\n",
       "    if (!svg) return;\n",
       "    svg.setAttribute(\"viewBox\", `${x} ${y} ${width} ${height}`)\n",
       "    window.requestAnimationFrame(this.update.bind(this));\n",
       "  };\n",
       "  \n",
       "  update(step) {\n",
       "    var ids_to_be_removed = []\n",
       "    for (var id of this.agents) {\n",
       "      // if (!entity[id]['updated']) {\n",
       "      //   ids_to_be_removed.push(id)\n",
       "      // }\n",
       "      if (this.entity[id]['updated']) {\n",
       "        var [x, y, theta] = this.entity[id]['state']\n",
       "        this.move_element(this.entity[id]['svg'], x, y, theta)\n",
       "        this.entity[id]['updated'] = false;\n",
       "      }\n",
       "    }\n",
       "    // for (var _id of ids_to_be_removed) {\n",
       "    //   remove_entity(_id);\n",
       "    // }  \n",
       "  };\n",
       "  \n",
       "  remove_entity(_id) {\n",
       "      var svg_world = document.getElementById(this.prefix + \"world\");\n",
       "      if (!svg_world) return;\n",
       "      console.log(`remove ${_id}`)\n",
       "      svg_world.removeChild(this.entity[_id]['svg'])\n",
       "      this.agents.delete(_id);\n",
       "      delete this.entity[_id];\n",
       "  }\n",
       "  \n",
       "  move_element(g, x, y, angle) {\n",
       "    var t = `translate(${x},${y}) rotate(${angle * 180 / 3.14159})`\n",
       "    g.setAttribute(\"transform\", t)\n",
       "  };\n",
       "}\n",
       "\n",
       "  </script>\n",
       "  \n",
       "  <script type='text/javascript'>\n",
       "    var N0client = new WebUIClient(8000, \"N0\", false)\n",
       "    N0client.connect();\n",
       "  </script>\n",
       "  \n",
       "  \n",
       "</head>\n",
       "<body>\n",
       "  <div>\n",
       "    <h1></h1>\n",
       "  </div>\n",
       "  \n",
       "<svg id=\"N0svg\" xmlns=\"http://www.w3.org/2000/svg\" xmlns:xlink=\"http://www.w3.org/1999/xlink\" version=\"1.1\" width=\"250\" height=\"250\" viewBox=\"0.0000 0.0000 1.0000 1.0000\">\n",
       "<defs>\n",
       "  <g id=\"N0agent\" r=\"1\">\n",
       "  \t<circle class=\"body\" cx=\"0\" cy=\"0\" r=\"1\"/>\n",
       "  \t<circle opacity=\"0.5\" fill=\"black\" cx=\"0.75\" cy=\"0\" r=\"0.25\"/>\n",
       "  </g>\n",
       "  <g id=\"N0thymio\" transform=\"rotate(90) scale(0.125)\">\n",
       "      <path class=\"body\"\n",
       "         stroke=\"none\"\n",
       "         d=\"M -5.4999227 -5.8058472 L -5.4999227 2.9998169 L 5.4999227 2.9998169 L 5.4999227     -5.8089478 A 8 8 0 0 0 0 -8.0000285 A 8 8 0 0 0 -5.4999227 -5.8058472 z \" />\n",
       "      <rect\n",
       "         style=\"fill:#333333;stroke:none\"\n",
       "         width=\"1.5\"\n",
       "         height=\"4.1999998\"\n",
       "         x=\"-5.4000001\"\n",
       "         y=\"-2.0999999\"\n",
       "         rx=\"0.5\" />\n",
       "      <rect\n",
       "         style=\"fill:#333333;stroke:none\"\n",
       "         id=\"rect441\"\n",
       "         width=\"1.5\"\n",
       "         height=\"4.1999998\"\n",
       "         x=\"3.9000001\"\n",
       "         y=\"-2.0999999\"\n",
       "         rx=\"0.5\" />\n",
       "  </g>\n",
       "  <g id=\"N0wheelchair\" transform=\"scale(0.02) rotate(180) translate(-55,-173)\">\n",
       "    <path\n",
       "       stroke=\"none\"\n",
       "       style=\"fill:#c8beb7\"\n",
       "       d=\"m 48.06149,189.83177 h -38.89 v -33.33 h 38.89 z\"/>\n",
       "    <path\n",
       "       stroke=\"none\"\n",
       "       style=\"fill:#080808;\"\n",
       "       d=\"m 81.382974,148.5266 v -4.11718 -4.21485 H 53.61149 v 8.33203 z\"/>\n",
       "    <path\n",
       "       stroke=\"none\"\n",
       "       style=\"fill:#080808;\"\n",
       "       d=\"m 81.382974,204.0666 v -4.11718 -4.21485 H 53.61149 v 8.33203 z\"/>\n",
       "    <path\n",
       "       stroke=\"none\"\n",
       "       class=\"body\"\n",
       "       d=\"m 92.497232,199.91402 h -50 v -55.55999 h 50 z\" />\n",
       "    <path\n",
       "       stroke=\"none\"\n",
       "       style=\"fill:#917c6f\"\n",
       "       d=\"m 92.497232,199.91332 v -2.77148 -52.78711 h -5.558593 v 55.55859 z\"/>\n",
       "  </g>\n",
       "  <g id=\"N0human\" transform=\"scale(0.02) rotate(180) translate(-50,-175)\">\n",
       "    <g class=\"body\" stroke=\"none\">\n",
       "    <ellipse\n",
       "       cx=\"54.378712\"\n",
       "       cy=\"172.97321\"\n",
       "       rx=\"19.763088\"\n",
       "       ry=\"43.396534\" />\n",
       "\n",
       "    <ellipse\n",
       "       cx=\"40.156387\"\n",
       "       cy=\"134.79787\"\n",
       "       rx=\"23.189381\"\n",
       "       ry=\"6.961535\" />\n",
       "    <ellipse\n",
       "       cx=\"40.156387\"\n",
       "       cy=\"211.14854\"\n",
       "       rx=\"23.189381\"\n",
       "       ry=\"6.961535\" />\n",
       "    </g>\n",
       "    <ellipse\n",
       "       style=\"fill:#1a1a1a;opacity:0.5\"\n",
       "       cx=\"54.378712\"\n",
       "       cy=\"172.90125\"\n",
       "       rx=\"16.28758\"\n",
       "       ry=\"16.635132\" />\n",
       "  </g>\n",
       "</defs>\n",
       "<style>\n",
       "<![CDATA[\n",
       "\n",
       "/*svg{\n",
       "  style=stroke-width: 0px;\n",
       "}\n",
       "*/\n",
       "circle.obstacle{\n",
       "  fill: gray; \n",
       "  stroke:none;\n",
       "}\n",
       "polyline.wall{\n",
       "  stroke:black;\n",
       "  stroke-width:0.01;\n",
       "}\n",
       "\n",
       ".shape {\n",
       "  fill: none;\n",
       "  stroke: black;\n",
       "  stroke-width: 0.01;\n",
       "  stroke-dasharray: 0.01;\n",
       "}\n",
       "\n",
       ".thymio {\n",
       "  fill: #e6e6e6;\n",
       "}\n",
       "\n",
       ".human {\n",
       "  fill: #666666;\n",
       "}\n",
       "\n",
       ".agent {\n",
       "  fill: gray;\n",
       "}\n",
       "\n",
       ".wheelchair {\n",
       "  fill: #483e37;\n",
       "}\n",
       "\n",
       "/*.body {\n",
       "    all: inherit;\n",
       "}\n",
       "*/\n",
       "\n",
       "\n",
       "\n",
       "\n",
       "\n",
       "svg {\n",
       "   background-color: snow;\n",
       "}\n",
       "\n",
       ".grid {\n",
       "  stroke: ;\n",
       "  stroke-width: ;\n",
       "}\n",
       "]]>\n",
       "</style>\n",
       "\n",
       "<g id=\"N0world\" transform='scale(1, -1)'>\n",
       "\n",
       "</g>\n",
       "</svg>\n",
       "</body>\n",
       "</html>"
      ],
      "text/plain": [
       "<IPython.core.display.HTML object>"
      ]
     },
     "execution_count": 9,
     "metadata": {},
     "output_type": "execute_result"
    }
   ],
   "source": [
    "from navground.sim.ui import WebUI\n",
    "from navground.sim.notebook import notebook_view\n",
    "from navground.sim.replay import RealTimeReplay\n",
    "\n",
    "web_ui = WebUI(host='127.0.0.1', max_rate=-1)\n",
    "await web_ui.prepare()\n",
    "\n",
    "notebook_view(width=250)"
   ]
  },
  {
   "cell_type": "code",
   "execution_count": 10,
   "id": "ba8914f6-7ec0-4499-a681-fb58f1c38e51",
   "metadata": {},
   "outputs": [],
   "source": [
    "rt_sim = RealTimeReplay(run=run, factor=5, web_ui=web_ui)\n",
    "await rt_sim.run()"
   ]
  },
  {
   "cell_type": "markdown",
   "id": "085cbea4-b264-4b74-a5e7-e56cc4ea0d9c",
   "metadata": {},
   "source": [
    "We can also jump to a step. Let's go to when the agents is nearest to the obstacles:"
   ]
  },
  {
   "cell_type": "code",
   "execution_count": 11,
   "id": "06709682-5e94-4dd1-b61a-a4eecc89b4f8",
   "metadata": {},
   "outputs": [],
   "source": [
    "import numpy as np\n",
    "\n",
    "p = run.world.obstacles[0].disc.position\n",
    "step = np.argmin(np.linalg.norm(ps[:, 0, :2] - p, axis=1))\n",
    "run.go_to_step(step)\n",
    "await rt_sim.update()"
   ]
  },
  {
   "cell_type": "markdown",
   "id": "fbe51014-f6fc-4f9a-b5b9-560c47f6cbed",
   "metadata": {},
   "source": [
    "The view will then display an image similar to"
   ]
  },
  {
   "cell_type": "code",
   "execution_count": 12,
   "id": "4505f195-a86d-48c5-8039-9aac0723133f",
   "metadata": {},
   "outputs": [
    {
     "data": {
      "image/png": "[encoded data removed]",
      "text/plain": [
       "<IPython.core.display.Image object>"
      ]
     },
     "execution_count": 12,
     "metadata": {
      "image/png": {
       "width": 250
      }
     },
     "output_type": "execute_result"
    }
   ],
   "source": [
    "from IPython.display import Image\n",
    "Image(filename='playback.png', width=250) "
   ]
  },
  {
   "cell_type": "markdown",
   "id": "d547c8a3-917a-452e-8a25-3eeee1994f2b",
   "metadata": {
    "tags": []
   },
   "source": [
    "We could also do something more interesting, like changing some parameters and executing a new simulation to compare the resulting trajectories.\n",
    "\n",
    "For instance, let us increase the safety margin of the agent"
   ]
  },
  {
   "cell_type": "code",
   "execution_count": 13,
   "id": "168d6344",
   "metadata": {
    "tags": []
   },
   "outputs": [],
   "source": [
    "agent = run.world.agents[0]\n",
    "agent.behavior.safety_margin = 0.25"
   ]
  },
  {
   "cell_type": "markdown",
   "id": "fa982596-6e0e-4b99-853b-73226ec7e975",
   "metadata": {},
   "source": [
    "Then we perform a simulation until the end of the run, recording the new trajectory"
   ]
  },
  {
   "cell_type": "code",
   "execution_count": 14,
   "id": "11a92046-f542-4b81-936e-64471b0c475b",
   "metadata": {},
   "outputs": [],
   "source": [
    "new_ps = []\n",
    "\n",
    "while run.world.step < run.recorded_steps:\n",
    "    run.world.update(time_step=run.time_step)\n",
    "    new_ps.append(np.array(agent.pose.position))\n",
    "\n",
    "new_ps = np.asarray(new_ps)"
   ]
  },
  {
   "cell_type": "markdown",
   "id": "3c81dd69-0d36-4f27-b5ed-19b72454ea6d",
   "metadata": {},
   "source": [
    "We plot in blue the original recorded trajecotory (with safery margin 0) \n",
    "and in red the new portion of trajecotry (with safety margin 0.25)"
   ]
  },
  {
   "cell_type": "code",
   "execution_count": 15,
   "id": "7beea58e-cfc8-4926-9d44-0150f145d5da",
   "metadata": {},
   "outputs": [
    {
     "data": {
      "image/png": "[encoded data removed]",
      "text/plain": [
       "<Figure size 700x300 with 1 Axes>"
      ]
     },
     "metadata": {},
     "output_type": "display_data"
    }
   ],
   "source": [
    "fig, ax = plt.subplots(figsize=((7, 3)))\n",
    "for obstacle in run.world.obstacles:\n",
    "    disc = obstacle.disc\n",
    "    ax.add_patch(plt.Circle(disc.position, disc.radius, color='k', alpha=0.5))\n",
    "ax.plot(ps[:, 0, 0], ps[:, 0, 1], 'b-', label='recorded trajectory')\n",
    "ax.plot(new_ps[:1, 0], new_ps[:1, 1], 'ro')\n",
    "ax.plot(new_ps[:, 0], new_ps[:, 1], 'r--', label='new trajectory')\n",
    "ax.add_patch(plt.Circle(ps[-1, i], radius, color='b', alpha=0.5))\n",
    "\n",
    "ax.set_xlabel('x')\n",
    "ax.set_ylabel('y')\n",
    "ax.legend()\n",
    "plt.axis('equal');"
   ]
  }
 ],
 "metadata": {
  "kernelspec": {
   "display_name": "Python 3 (ipykernel)",
   "language": "python",
   "name": "python3"
  },
  "language_info": {
   "codemirror_mode": {
    "name": "ipython",
    "version": 3
   },
   "file_extension": ".py",
   "mimetype": "text/x-python",
   "name": "python",
   "nbconvert_exporter": "python",
   "pygments_lexer": "ipython3",
   "version": "3.10.14"
  }
 },
 "nbformat": 4,
 "nbformat_minor": 5
}
