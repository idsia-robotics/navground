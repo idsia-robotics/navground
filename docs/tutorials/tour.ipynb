{
 "cells": [
  {
   "cell_type": "markdown",
   "id": "9175b8a5",
   "metadata": {},
   "source": [
    "# A tour of navground\n",
    "\n",
    "In this tour you meet the basic components of the navigation playground \n",
    "and see them at play.\n",
    "\n",
    "At the core of the playground there is a library of navigation behaviors for dynamic obstacle avoidance. \n",
    "\n",
    "Let's import the library and instantiate one of the behavior ([DummyBehavior](../reference/core/python/behaviors/dummy.html#navground.core.behaviors.DummyBehavior))."
   ]
  },
  {
   "cell_type": "markdown",
   "id": "6b3821ea",
   "metadata": {},
   "source": [
    "## Behaviors"
   ]
  },
  {
   "cell_type": "code",
   "execution_count": 1,
   "id": "64ac853c",
   "metadata": {
    "tags": []
   },
   "outputs": [],
   "source": [
    "from navground import core\n",
    "\n",
    "behavior = core.behaviors.DummyBehavior()"
   ]
  },
  {
   "cell_type": "markdown",
   "id": "aefb3e0b",
   "metadata": {},
   "source": [
    "A behavior holds the **2D state of an agent** of circular shape.\n",
    "\n",
    "We set\n",
    "\n",
    "- the [pose](../reference/core/python/common.html#navground.core.Pose2)\n",
    "of the agent at the origin of the world-fixed coordinate frame,"
   ]
  },
  {
   "cell_type": "code",
   "execution_count": 2,
   "id": "03f311f7",
   "metadata": {
    "tags": []
   },
   "outputs": [],
   "source": [
    "behavior.pose = core.Pose2(position=(0, 0), orientation=0)"
   ]
  },
  {
   "cell_type": "markdown",
   "id": "f1fc6911",
   "metadata": {},
   "source": [
    "- the [twist](../reference/core/python/common.html#navground.core.Twist2) of the agent to zero,"
   ]
  },
  {
   "cell_type": "code",
   "execution_count": 3,
   "id": "5c75a5e8",
   "metadata": {
    "tags": []
   },
   "outputs": [],
   "source": [
    "behavior.twist = core.Twist2(velocity=(0, 0), angular_speed=0)"
   ]
  },
  {
   "cell_type": "markdown",
   "id": "b9b98ed5",
   "metadata": {},
   "source": [
    "- and the radius of the agent."
   ]
  },
  {
   "cell_type": "code",
   "execution_count": 4,
   "id": "6af50080",
   "metadata": {
    "tags": []
   },
   "outputs": [],
   "source": [
    "behavior.radius = 1.0"
   ]
  },
  {
   "cell_type": "markdown",
   "id": "3558c1c6",
   "metadata": {},
   "source": [
    "A behavior needs also a [target](../reference/core/python/target.html#navground.core.Target): let's go to ``(10, 0)``, stopping when near enough."
   ]
  },
  {
   "cell_type": "code",
   "execution_count": 5,
   "id": "d41f047a",
   "metadata": {
    "tags": []
   },
   "outputs": [],
   "source": [
    "behavior.target = core.Target.Point((10, 0), tolerance=0.5)"
   ]
  },
  {
   "cell_type": "markdown",
   "id": "8846e3b1",
   "metadata": {},
   "source": [
    "Once we have set a target, we can ask for a [control command](../reference/core/python/behaviors/behavior.html#navground.core.Behavior.compute_cmd) (a twist) to advance towards the target in the next control step."
   ]
  },
  {
   "cell_type": "code",
   "execution_count": 6,
   "id": "db3727be",
   "metadata": {
    "tags": []
   },
   "outputs": [
    {
     "name": "stderr",
     "output_type": "stream",
     "text": [
      "Missing kinematics!\n"
     ]
    },
    {
     "data": {
      "text/plain": [
       "Twist2((0.000000, 0.000000), 0.000000, frame=Frame.absolute)"
      ]
     },
     "execution_count": 6,
     "metadata": {},
     "output_type": "execute_result"
    }
   ],
   "source": [
    "behavior.compute_cmd(time_step=0.1)"
   ]
  },
  {
   "cell_type": "markdown",
   "id": "ac2b527b",
   "metadata": {},
   "source": [
    "Oops ... the behavior is complaining that it does not know the kinematics of the agent.\n",
    "Therefore, it plays safe and makes the agent stay in place. We also see that `Twist2` has an additional field `Twist2(..., frame)` for the reference frame, which can be either an absolute world-fixed frame or a relative frame attached to to the agent.\n",
    "\n",
    "A [kinematics](../reference/core/python/kinematics.html#navground.core.Kinematics) model knows the maximal speed of the agent and, more generally, which commands are feasible.\n",
    "Let's pick an omnidirectional kinematics that has no restrictions apart from maximal horizontal and angular speeds,"
   ]
  },
  {
   "cell_type": "code",
   "execution_count": 7,
   "id": "f619e5e5",
   "metadata": {
    "tags": []
   },
   "outputs": [],
   "source": [
    "kinematics = core.kinematics.OmnidirectionalKinematics(max_speed=2.0, max_angular_speed=1.0)\n",
    "behavior.kinematics = kinematics"
   ]
  },
  {
   "cell_type": "markdown",
   "id": "4b22c012",
   "metadata": {},
   "source": [
    "and ask again for a control command."
   ]
  },
  {
   "cell_type": "code",
   "execution_count": 8,
   "id": "04875883",
   "metadata": {
    "tags": []
   },
   "outputs": [
    {
     "data": {
      "text/plain": [
       "Twist2((2.000000, 0.000000), 0.000000, frame=Frame.absolute)"
      ]
     },
     "execution_count": 8,
     "metadata": {},
     "output_type": "execute_result"
    }
   ],
   "source": [
    "cmd = behavior.compute_cmd(time_step=0.1)\n",
    "cmd"
   ]
  },
  {
   "cell_type": "markdown",
   "id": "7b9ceb98",
   "metadata": {},
   "source": [
    "As expected, the behavior wants to advance full speed towards the target point.\n",
    "How to actuate the commands depends on the agent we are controlling and may require interacting with the agent's runtime.\n",
    "\n",
    "Here, we keep it simple and simulate movements without any error: we apply the command for a time step to directly update the behavior state."
   ]
  },
  {
   "cell_type": "code",
   "execution_count": 9,
   "id": "2c563934",
   "metadata": {
    "tags": []
   },
   "outputs": [],
   "source": [
    "behavior.actuate(cmd, time_step=0.1)"
   ]
  },
  {
   "cell_type": "markdown",
   "id": "e59a7175",
   "metadata": {},
   "source": [
    "To get the same result, we could have manually integrated the pose and set the twist."
   ]
  },
  {
   "cell_type": "code",
   "execution_count": 10,
   "id": "723e79be",
   "metadata": {
    "tags": []
   },
   "outputs": [],
   "source": [
    "behavior.pose = behavior.pose.integrate(cmd, time_step=0.1)\n",
    "behavior.twist = cmd"
   ]
  },
  {
   "cell_type": "markdown",
   "id": "a3dafe8b-78a8-4e47-883f-9e9fa73044a0",
   "metadata": {},
   "source": [
    "Note that behaviors are already instatiated at the origin and with zero twist, therefore\n",
    "we could have setup the behavior using just two lines:"
   ]
  },
  {
   "cell_type": "code",
   "execution_count": 11,
   "id": "9e4e023c-d41a-41b7-999a-32dd35f1d889",
   "metadata": {
    "tags": []
   },
   "outputs": [],
   "source": [
    "behavior = core.behaviors.DummyBehavior(kinematics=kinematics, radius=1.0)\n",
    "behavior.target = core.Target.Point((10, 0), tolerance=0.5)"
   ]
  },
  {
   "cell_type": "markdown",
   "id": "42675725",
   "metadata": {},
   "source": [
    "## Registers"
   ]
  },
  {
   "cell_type": "markdown",
   "id": "366d4f59",
   "metadata": {},
   "source": [
    "What if our agent has wheels? Which other kinematics are there? \n",
    "\n",
    "Implemented kinematics are stored in a register. Let's list their names:"
   ]
  },
  {
   "cell_type": "code",
   "execution_count": 12,
   "id": "89dfe589",
   "metadata": {
    "tags": []
   },
   "outputs": [
    {
     "data": {
      "text/plain": [
       "['2WDiff', '4WOmni', 'Ahead', 'Omni']"
      ]
     },
     "execution_count": 12,
     "metadata": {},
     "output_type": "execute_result"
    }
   ],
   "source": [
    "core.Kinematics.types"
   ]
  },
  {
   "cell_type": "markdown",
   "id": "49f067b7",
   "metadata": {},
   "source": [
    "`\"Omni\"` is the one we already used. Let's pick `\"2WDiff\"`, which corresponds to a robot with two differential drive wheels, one at each side of a longitudinal axis."
   ]
  },
  {
   "cell_type": "code",
   "execution_count": 13,
   "id": "5685596e",
   "metadata": {
    "tags": []
   },
   "outputs": [],
   "source": [
    "kinematics = core.Kinematics.make_type(\"2WDiff\")\n",
    "kinematics.max_speed = 1.0"
   ]
  },
  {
   "cell_type": "markdown",
   "id": "19f1233b",
   "metadata": {},
   "source": [
    "Registered components, like kinematics, declare properties that we can use to configure them.\n",
    "Let's get all properties of this kinematics model."
   ]
  },
  {
   "cell_type": "code",
   "execution_count": 14,
   "id": "044a40d9",
   "metadata": {
    "tags": []
   },
   "outputs": [
    {
     "name": "stdout",
     "output_type": "stream",
     "text": [
      "Property wheel_axis: Wheel Axis of type float\n"
     ]
    }
   ],
   "source": [
    "for name, p in kinematics.properties.items():\n",
    "    print(f'Property {name}: {p.description} of type {p.type_name}')"
   ]
  },
  {
   "cell_type": "markdown",
   "id": "5c2fd57d-3495-4a5d-8f22-a4c07a0f6810",
   "metadata": {},
   "source": [
    "We set the wheel axis length to the size of the agent."
   ]
  },
  {
   "cell_type": "code",
   "execution_count": 15,
   "id": "b816a4b4",
   "metadata": {
    "tags": []
   },
   "outputs": [],
   "source": [
    "kinematics.set(\"wheel_axis\", 2.0)"
   ]
  },
  {
   "cell_type": "markdown",
   "id": "61e511b7",
   "metadata": {},
   "source": [
    "Note that instantiating a kinematics from a register and configuring through its properties, like we have just done, is equivalent to an explicit instantiation like"
   ]
  },
  {
   "cell_type": "code",
   "execution_count": 16,
   "id": "5c892dd9",
   "metadata": {
    "tags": []
   },
   "outputs": [],
   "source": [
    "kinematics = core.kinematics.TwoWheelsDifferentialDriveKinematics(max_speed=1.0, axis=2.0)"
   ]
  },
  {
   "cell_type": "markdown",
   "id": "abb4eefc",
   "metadata": {},
   "source": [
    "Let's now get a command that respects this kinematics,"
   ]
  },
  {
   "cell_type": "code",
   "execution_count": 17,
   "id": "de23254d",
   "metadata": {
    "tags": []
   },
   "outputs": [
    {
     "data": {
      "text/plain": [
       "Twist2((1.000000, 0.000000), 0.000000, frame=Frame.relative)"
      ]
     },
     "execution_count": 17,
     "metadata": {},
     "output_type": "execute_result"
    }
   ],
   "source": [
    "behavior.kinematics = kinematics \n",
    "cmd = behavior.compute_cmd(time_step=0.1)\n",
    "cmd"
   ]
  },
  {
   "cell_type": "markdown",
   "id": "70ef6c8b",
   "metadata": {},
   "source": [
    "which we can convert to left and right wheel speeds."
   ]
  },
  {
   "cell_type": "code",
   "execution_count": 18,
   "id": "535192dc",
   "metadata": {
    "tags": []
   },
   "outputs": [
    {
     "data": {
      "text/plain": [
       "[1.0, 1.0]"
      ]
     },
     "execution_count": 18,
     "metadata": {},
     "output_type": "execute_result"
    }
   ],
   "source": [
    "behavior.kinematics.wheel_speeds(cmd)"
   ]
  },
  {
   "cell_type": "markdown",
   "id": "8ebdd0ee-7766-454f-8292-b0fc857c6e54",
   "metadata": {},
   "source": [
    "Again and unsurprisingly, the behavior wants to set both wheels at the same maximal speed to advance straight at full speed."
   ]
  },
  {
   "cell_type": "markdown",
   "id": "86628b1e",
   "metadata": {},
   "source": [
    "## Trajectory\n",
    "\n",
    "Applying the control step iteratively, we make the agent reach the target point, while we also store its position to later plot the trajectory."
   ]
  },
  {
   "cell_type": "code",
   "execution_count": 19,
   "id": "a5737ffd",
   "metadata": {
    "tags": []
   },
   "outputs": [],
   "source": [
    "import numpy as np\n",
    "\n",
    "positions = []\n",
    "\n",
    "time_step = 0.1\n",
    "\n",
    "while not behavior.check_if_target_satisfied():\n",
    "    positions.append(behavior.position)\n",
    "    cmd = behavior.compute_cmd(time_step=time_step)\n",
    "    behavior.actuate(cmd, time_step=time_step)\n",
    "    \n",
    "positions = np.asarray(positions)"
   ]
  },
  {
   "cell_type": "code",
   "execution_count": 20,
   "id": "b9da398b",
   "metadata": {
    "tags": []
   },
   "outputs": [
    {
     "data": {
      "image/png": "[encoded data removed]",
      "text/plain": [
       "<Figure size 700x300 with 1 Axes>"
      ]
     },
     "metadata": {},
     "output_type": "display_data"
    }
   ],
   "source": [
    "from matplotlib import pyplot as plt\n",
    "\n",
    "fig, ax = plt.subplots(figsize=((7, 3)))\n",
    "ax.add_patch(plt.Circle(positions[0], behavior.radius, color='blue', alpha=0.2))\n",
    "ax.add_patch(plt.Circle(positions[-1], behavior.radius, color='blue', alpha=0.5))\n",
    "# ax.add_patch(plt.Circle(behavior.target.position, behavior.target.position_tolerance, color='red', alpha=0.6, fill=False))\n",
    "ax.plot(positions[:, 0], positions[:, 1], '-')\n",
    "ax.set_xlabel('x')\n",
    "ax.set_ylabel('y')\n",
    "plt.axis('equal');"
   ]
  },
  {
   "cell_type": "markdown",
   "id": "c290c6d3",
   "metadata": {},
   "source": [
    "We got the trajectory we expected, altough not a particularly interesting one."
   ]
  },
  {
   "cell_type": "markdown",
   "id": "07bed37a",
   "metadata": {},
   "source": [
    "## Environment state\n",
    "\n",
    "The job of the behavior is to navigate the agent through obstacles. So let's add a round obstacle in the middle of the agent's path."
   ]
  },
  {
   "cell_type": "code",
   "execution_count": 21,
   "id": "95998b85",
   "metadata": {
    "tags": []
   },
   "outputs": [],
   "source": [
    "disc = core.Disc(position=(5.0, 0.1), radius=1)"
   ]
  },
  {
   "cell_type": "markdown",
   "id": "2e711a7e",
   "metadata": {},
   "source": [
    "How do we tell the behavior to avoid the obstacle?\n",
    "For this, each behavior keeps an enviroment state ... unfortunately our current behavior, \n",
    "as we may expect from a behavior called *Dummy*, does not have one."
   ]
  },
  {
   "cell_type": "code",
   "execution_count": 22,
   "id": "a328e105",
   "metadata": {
    "tags": []
   },
   "outputs": [
    {
     "data": {
      "text/plain": [
       "True"
      ]
     },
     "execution_count": 22,
     "metadata": {},
     "output_type": "execute_result"
    }
   ],
   "source": [
    "behavior.environment_state is None"
   ]
  },
  {
   "cell_type": "markdown",
   "id": "e037926c",
   "metadata": {},
   "source": [
    "So, let's switch to a smarter behavior. Like for kinematics, behaviors are registered by name"
   ]
  },
  {
   "cell_type": "code",
   "execution_count": 23,
   "id": "71edebd7",
   "metadata": {
    "tags": []
   },
   "outputs": [
    {
     "data": {
      "text/plain": [
       "['Dummy', 'HL', 'HRVO', 'ORCA', 'PyDummy', 'SocialForce']"
      ]
     },
     "execution_count": 23,
     "metadata": {},
     "output_type": "execute_result"
    }
   ],
   "source": [
    "core.Behavior.types"
   ]
  },
  {
   "cell_type": "markdown",
   "id": "c617ec10",
   "metadata": {},
   "source": [
    "We pick `\"ORCA\"` and setup it with the same kinematics, state, and target as before."
   ]
  },
  {
   "cell_type": "code",
   "execution_count": 24,
   "id": "fb837b5d",
   "metadata": {
    "tags": []
   },
   "outputs": [],
   "source": [
    "behavior = core.Behavior.make_type('ORCA')\n",
    "behavior.kinematics = kinematics\n",
    "behavior.pose = core.Pose2((0, 0), 0)\n",
    "behavior.twist = core.Twist2((0, 0), 0)\n",
    "behavior.radius = 1.0\n",
    "behavior.target = core.Target.Point((10, 0), tolerance=0.5)"
   ]
  },
  {
   "cell_type": "markdown",
   "id": "54b3edd5",
   "metadata": {},
   "source": [
    "This behavior has a more usefull enviroment state which contains static obstacles:"
   ]
  },
  {
   "cell_type": "code",
   "execution_count": 25,
   "id": "aadef464",
   "metadata": {
    "tags": []
   },
   "outputs": [],
   "source": [
    "behavior.environment_state.static_obstacles = [disc]"
   ]
  },
  {
   "cell_type": "markdown",
   "id": "03544785",
   "metadata": {},
   "source": [
    "Let's check that the behavior is really considering the obstacle:"
   ]
  },
  {
   "cell_type": "code",
   "execution_count": 26,
   "id": "be764606",
   "metadata": {
    "tags": []
   },
   "outputs": [
    {
     "data": {
      "text/plain": [
       "Twist2((0.150420, 0.000000), -0.224969, frame=Frame.relative)"
      ]
     },
     "execution_count": 26,
     "metadata": {},
     "output_type": "execute_result"
    }
   ],
   "source": [
    "behavior.compute_cmd(0.1)"
   ]
  },
  {
   "cell_type": "markdown",
   "id": "8343df1e",
   "metadata": {},
   "source": [
    "In fact, the behavior is telling us to steer clockwise to avoid the obstacle. Let's plot the new trajectory."
   ]
  },
  {
   "cell_type": "code",
   "execution_count": 27,
   "id": "6701f137",
   "metadata": {
    "tags": []
   },
   "outputs": [],
   "source": [
    "positions = []\n",
    "\n",
    "while not behavior.target.satisfied(behavior.pose):\n",
    "    positions.append(behavior.position)\n",
    "    cmd = behavior.compute_cmd(0.1)\n",
    "    behavior.actuate(cmd, 0.1)\n",
    "    \n",
    "positions = np.asarray(positions)"
   ]
  },
  {
   "cell_type": "code",
   "execution_count": 28,
   "id": "0a53e88a",
   "metadata": {
    "tags": []
   },
   "outputs": [
    {
     "data": {
      "image/png": "[encoded data removed]",
      "text/plain": [
       "<Figure size 700x300 with 1 Axes>"
      ]
     },
     "metadata": {},
     "output_type": "display_data"
    }
   ],
   "source": [
    "fig, ax = plt.subplots(figsize=((7, 3)))\n",
    "ax.add_patch(plt.Circle(disc.position, disc.radius, color='k', alpha=0.5))\n",
    "ax.add_patch(plt.Circle(positions[0], behavior.radius, color='blue', alpha=0.2))\n",
    "ax.add_patch(plt.Circle(positions[-1], behavior.radius, color='blue', alpha=0.5))\n",
    "ax.plot(positions[:, 0], positions[:, 1], '-')\n",
    "ax.set_xlabel('x')\n",
    "ax.set_ylabel('y')\n",
    "plt.axis('equal');"
   ]
  },
  {
   "cell_type": "markdown",
   "id": "cef7e0e5",
   "metadata": {},
   "source": [
    "Indeed, the agent does a more interesting trajectory!"
   ]
  },
  {
   "cell_type": "markdown",
   "id": "42795ea6",
   "metadata": {},
   "source": [
    "## Controllers\n",
    "\n",
    "Controllers monitor a behavior to report when it has reached a target.\n",
    "\n",
    "Let's try again the same scenario but now using a controller. "
   ]
  },
  {
   "cell_type": "code",
   "execution_count": 29,
   "id": "df9873bb-eef1-434c-a867-39b08713ba19",
   "metadata": {
    "tags": []
   },
   "outputs": [],
   "source": [
    "behavior.pose = core.Pose2((0, 0), 0)\n",
    "behavior.twist = core.Twist2((0, 0), 0)\n",
    "controller = core.Controller(behavior)"
   ]
  },
  {
   "cell_type": "markdown",
   "id": "e4ca1af0-59d1-4b54-9ac6-0b9c73fb2416",
   "metadata": {},
   "source": [
    "We can tell the control to direcly actuate each control commands in a callback."
   ]
  },
  {
   "cell_type": "code",
   "execution_count": 30,
   "id": "232b7c0e-a8d5-40bc-b735-6d92412306f8",
   "metadata": {
    "tags": []
   },
   "outputs": [],
   "source": [
    "time_step = 0.1\n",
    "\n",
    "def actuate(cmd):\n",
    "    behavior.actuate(cmd, time_step=time_step)\n",
    "\n",
    "controller.set_cmd_cb(actuate)"
   ]
  },
  {
   "cell_type": "markdown",
   "id": "ba7acf2d",
   "metadata": {},
   "source": [
    "Targets are now set through the controller that returns an *action*,"
   ]
  },
  {
   "cell_type": "code",
   "execution_count": 31,
   "id": "8f7bfb01",
   "metadata": {
    "tags": []
   },
   "outputs": [],
   "source": [
    "action = controller.go_to_pose(core.Pose2((10, 0), 3.14), 0.1, 0.1)"
   ]
  },
  {
   "cell_type": "markdown",
   "id": "83c1f2e4",
   "metadata": {},
   "source": [
    "which we can use to setup a terminal callback."
   ]
  },
  {
   "cell_type": "code",
   "execution_count": 32,
   "id": "58f15587",
   "metadata": {
    "tags": []
   },
   "outputs": [],
   "source": [
    "action.done_cb = lambda action_state: print(f\"Action has finished with {action_state}.\")"
   ]
  },
  {
   "cell_type": "markdown",
   "id": "03a0899a",
   "metadata": {},
   "source": [
    "Commands are now queried through the controller which in turns monitors the action state. The run-loop becomes simpler as we need just a single line per step (in addition to the usual line to store the trajectory)."
   ]
  },
  {
   "cell_type": "code",
   "execution_count": 33,
   "id": "5679e5f1",
   "metadata": {
    "tags": []
   },
   "outputs": [
    {
     "name": "stdout",
     "output_type": "stream",
     "text": [
      "Action has finished with State.success.\n"
     ]
    }
   ],
   "source": [
    "positions = []\n",
    "\n",
    "while not controller.idle:\n",
    "    controller.update(time_step=time_step)\n",
    "    positions.append(behavior.position)\n",
    "    \n",
    "positions = np.asarray(positions)"
   ]
  },
  {
   "cell_type": "markdown",
   "id": "87796200",
   "metadata": {},
   "source": [
    "## More agents\n",
    "\n",
    "Within the playground, we can play with more than a single agent.\n",
    "Let's add a second agent with the same shape, kinematics, and type of behavior."
   ]
  },
  {
   "cell_type": "code",
   "execution_count": 34,
   "id": "c8b8d5db",
   "metadata": {
    "tags": []
   },
   "outputs": [],
   "source": [
    "behavior_1 = core.Behavior.make_type(\"ORCA\")\n",
    "behavior_1.radius = 1.0\n",
    "behavior_1.kinematics = kinematics\n",
    "behavior_2 = core.Behavior.make_type(\"ORCA\")\n",
    "behavior_2.radius = 1.0\n",
    "behavior_2.kinematics = kinematics\n",
    "behaviors = [behavior_1, behavior_2]"
   ]
  },
  {
   "cell_type": "markdown",
   "id": "c545fe62",
   "metadata": {},
   "source": [
    "We want to make them cross. Let them start from opposing poses"
   ]
  },
  {
   "cell_type": "code",
   "execution_count": 35,
   "id": "38fb60c9",
   "metadata": {
    "tags": []
   },
   "outputs": [],
   "source": [
    "behavior_1.pose = core.Pose2((0, 0), 0)\n",
    "behavior_2.pose = core.Pose2((10, 0), np.pi)"
   ]
  },
  {
   "cell_type": "markdown",
   "id": "db310b32",
   "metadata": {},
   "source": [
    "and then exchange positions."
   ]
  },
  {
   "cell_type": "code",
   "execution_count": 36,
   "id": "f838d60c",
   "metadata": {
    "tags": []
   },
   "outputs": [],
   "source": [
    "behavior_1.target = core.Target.Point(behavior_2.position, 0.1)\n",
    "behavior_2.target = core.Target.Point(behavior_1.position, 0.1)"
   ]
  },
  {
   "cell_type": "markdown",
   "id": "e4acdff2",
   "metadata": {},
   "source": [
    "We need to tell the behaviors that there is another agent in their vicinity, a *neighbor*.\n",
    "\n",
    "Neighbors are also of circular shape and their state consists of position, radius, and velocity.\n",
    "For real agents, enviroment state would originate from perception, which may be noisy and have partial visibility.\n",
    "Here, we keep it simple and make the agents aware of all other agents, adding all of them as neighbors in a perfectly accurate enviroment state."
   ]
  },
  {
   "cell_type": "code",
   "execution_count": 37,
   "id": "3fc89b44",
   "metadata": {
    "tags": []
   },
   "outputs": [],
   "source": [
    "for behavior in behaviors:\n",
    "    behavior.environment_state.neighbors = [\n",
    "        core.Neighbor(position=b.position, radius=b.radius, velocity=b.velocity)\n",
    "        for b in behaviors if b is not behavior\n",
    "    ]"
   ]
  },
  {
   "cell_type": "markdown",
   "id": "ff2b6fec",
   "metadata": {},
   "source": [
    "Let's try again to compute the trajectories. Contrary to static obstacles, neighbors ... do move. \n",
    "Therefore, we need to update them before asking for a new control commands."
   ]
  },
  {
   "cell_type": "code",
   "execution_count": 38,
   "id": "626e44f8",
   "metadata": {
    "tags": []
   },
   "outputs": [],
   "source": [
    "positions = []\n",
    "time_step = 0.1\n",
    "\n",
    "while not all(b.target.satisfied(b.pose) for b in behaviors):\n",
    "    positions.append([b.position for b in behaviors])\n",
    "    cmds = []\n",
    "    for behavior in behaviors:\n",
    "        behavior.environment_state.neighbors = [\n",
    "            core.Neighbor(position=b.position, radius=b.radius, velocity=b.velocity)\n",
    "            for b in behaviors if b != behavior\n",
    "        ]\n",
    "        cmds.append(behavior.compute_cmd(time_step=time_step))\n",
    "    for behavior, cmd in zip(behaviors, cmds):\n",
    "        behavior.actuate(cmd, time_step=time_step)\n",
    "    \n",
    "positions = np.asarray(positions)"
   ]
  },
  {
   "cell_type": "code",
   "execution_count": 39,
   "id": "000363bb",
   "metadata": {
    "tags": []
   },
   "outputs": [
    {
     "data": {
      "image/png": "[encoded data removed]",
      "text/plain": [
       "<Figure size 700x300 with 1 Axes>"
      ]
     },
     "metadata": {},
     "output_type": "display_data"
    }
   ],
   "source": [
    "fig, ax = plt.subplots(figsize=((7, 3)))\n",
    "for i, (behavior, color) in enumerate(zip(behaviors, 'bg')):\n",
    "    ax.add_patch(plt.Circle(positions[-1, i], behavior.radius, color=color, alpha=0.5))\n",
    "    ax.plot(positions[:, i, 0], positions[:, i, 1], '-', color=color)\n",
    "ax.set_xlabel('x')\n",
    "ax.set_ylabel('y')\n",
    "plt.axis('equal');"
   ]
  },
  {
   "cell_type": "markdown",
   "id": "b5fac18b-cec1-46c9-a59c-465f612cb72f",
   "metadata": {},
   "source": [
    "We see how the two agents successfull avoid a collision and manage to exchange positions.\n",
    "\n",
    "This concludes the tour of the core part of the playground. \n",
    "It you want to integrate some of its components in your system, go ahead \n",
    "and skip the rest of the tour, which goes deeper into simulation."
   ]
  },
  {
   "cell_type": "markdown",
   "id": "39dc7b09",
   "metadata": {},
   "source": [
    "## Simulation\n",
    "\n",
    "We have seen how to manually write a run-loop to simulate a trajectory.\n",
    "The playground simplifies this process using `Agent`, `StateEstimation` and `Task`,\n",
    "which generalize the functionalities we have been implementing.\n",
    "\n",
    "An agent holds a behavior and a kinematics."
   ]
  },
  {
   "cell_type": "code",
   "execution_count": 40,
   "id": "31078a43",
   "metadata": {
    "tags": []
   },
   "outputs": [],
   "source": [
    "from navground import sim\n",
    "\n",
    "agent = sim.Agent()\n",
    "agent.behavior = core.Behavior.make_type('ORCA')\n",
    "agent.kinematics = core.kinematics.TwoWheelsDifferentialDriveKinematics(max_speed=1.0, axis=2.0)\n",
    "agent.pose = core.Pose2((0, 0), 0)\n",
    "agent.twist = core.Twist2((0, 0), 0)\n",
    "agent.radius = 1.0"
   ]
  },
  {
   "cell_type": "markdown",
   "id": "c6d1a675",
   "metadata": {},
   "source": [
    "An agent also has a *task* to generate navigation targets. Let's pick ``WaypointsTask`` to ask the agent to pendle between two points."
   ]
  },
  {
   "cell_type": "code",
   "execution_count": 41,
   "id": "16222391",
   "metadata": {
    "tags": []
   },
   "outputs": [],
   "source": [
    "agent.task = sim.tasks.WaypointsTask(waypoints=[(10, 0), (0, 0)], loop=True, tolerance=0.1)"
   ]
  },
  {
   "cell_type": "markdown",
   "id": "5c6e0b40",
   "metadata": {},
   "source": [
    "Finally, an agent uses a *state estimation* to update the ... its behavior environment *state*. "
   ]
  },
  {
   "cell_type": "code",
   "execution_count": 42,
   "id": "aa1755dc",
   "metadata": {
    "tags": []
   },
   "outputs": [],
   "source": [
    "agent.state_estimation = sim.state_estimations.BoundedStateEstimation(range_of_view=5.0)"
   ]
  },
  {
   "cell_type": "markdown",
   "id": "dd8f1b50",
   "metadata": {},
   "source": [
    "Let's now add the agent to a world, together with the same static obstacle we have been using."
   ]
  },
  {
   "cell_type": "code",
   "execution_count": 43,
   "id": "79ceb1a7",
   "metadata": {
    "tags": []
   },
   "outputs": [],
   "source": [
    "world = sim.World()\n",
    "world.add_obstacle(disc)\n",
    "world.add_agent(agent)"
   ]
  },
  {
   "cell_type": "markdown",
   "id": "551761e1",
   "metadata": {},
   "source": [
    "That's all we have to do to setup our simulation. \n",
    "\n",
    "Let's run it for a while."
   ]
  },
  {
   "cell_type": "code",
   "execution_count": 44,
   "id": "06062fd9",
   "metadata": {
    "tags": []
   },
   "outputs": [],
   "source": [
    "world.run(steps=10, time_step=0.1)"
   ]
  },
  {
   "cell_type": "markdown",
   "id": "f75f3f31",
   "metadata": {},
   "source": [
    "Nice ... but we would like to plot the trajectory again.\n",
    "\n",
    "We can iteratively run the simulation one step at time while accumulating data"
   ]
  },
  {
   "cell_type": "code",
   "execution_count": 45,
   "id": "5654700c",
   "metadata": {
    "tags": []
   },
   "outputs": [],
   "source": [
    "positions = []\n",
    "for i in range(100):\n",
    "    world.run(steps=1, time_step=0.1)\n",
    "    positions.append([a.position for a in world.agents])"
   ]
  },
  {
   "cell_type": "markdown",
   "id": "238cb0ab-1411-4229-a767-b11f3365ca0e",
   "metadata": {},
   "source": [
    "or we can add a callback where to accumulate data."
   ]
  },
  {
   "cell_type": "code",
   "execution_count": 46,
   "id": "5e570add-6179-46eb-9570-cd0ca2b9e5db",
   "metadata": {},
   "outputs": [],
   "source": [
    "def cb() -> None:\n",
    "    positions.append([a.position for a in world.agents])\n",
    "\n",
    "world.add_callback(cb)"
   ]
  },
  {
   "cell_type": "markdown",
   "id": "021de5b1-9c1a-42c5-8aaa-4d63edbc08f6",
   "metadata": {},
   "source": [
    "We perform additional steps to reach a total of 250 steps:"
   ]
  },
  {
   "cell_type": "code",
   "execution_count": 47,
   "id": "26653bfe-d20d-46d1-bed1-13150521ea65",
   "metadata": {},
   "outputs": [],
   "source": [
    "world.run_until(lambda: world.step >= 250, 0.1)"
   ]
  },
  {
   "cell_type": "markdown",
   "id": "1acc1147-220d-4086-9903-b2c33dbd2b35",
   "metadata": {},
   "source": [
    "Let's plot the resulting trajectory."
   ]
  },
  {
   "cell_type": "code",
   "execution_count": 48,
   "id": "fb922770",
   "metadata": {
    "tags": []
   },
   "outputs": [
    {
     "data": {
      "image/png": "[encoded data removed]",
      "text/plain": [
       "<Figure size 700x300 with 1 Axes>"
      ]
     },
     "metadata": {},
     "output_type": "display_data"
    }
   ],
   "source": [
    "ps = np.asarray(positions)\n",
    "\n",
    "fig, ax = plt.subplots(figsize=((7, 3)))\n",
    "ax.add_patch(plt.Circle(disc.position, disc.radius, color='k', alpha=0.5))\n",
    "for i in range(ps.shape[1]):\n",
    "    ax.plot(ps[:, i, 0], ps[:, i, 1], 'b-')\n",
    "    ax.add_patch(plt.Circle(ps[-1, i], behavior.radius, color='b', alpha=0.5))\n",
    "ax.set_xlabel('x')\n",
    "ax.set_ylabel('y')\n",
    "plt.axis('equal');"
   ]
  },
  {
   "cell_type": "markdown",
   "id": "8976f9fe",
   "metadata": {},
   "source": [
    "## Experiment\n",
    "\n",
    "Instead of manually injecting data collection in the run-loop, we can configure an ``Experiment`` to do it automatically.\n",
    "\n",
    "Let's start by defining a scenario, which is an object that initializes worlds, grouping together the commands we have been using."
   ]
  },
  {
   "cell_type": "code",
   "execution_count": 49,
   "id": "3431304d",
   "metadata": {
    "tags": []
   },
   "outputs": [],
   "source": [
    "from typing import Optional\n",
    "\n",
    "class MyScenario(sim.Scenario):\n",
    "\n",
    "    def __init__(self):\n",
    "        super().__init__()\n",
    "    \n",
    "    def init_world(self, world: sim.World, seed: Optional[int] = None) -> None:\n",
    "        super().init_world(world, seed)\n",
    "        agent = sim.Agent()\n",
    "        agent.behavior = core.Behavior.make_type('ORCA')\n",
    "        agent.kinematics = core.kinematics.TwoWheelsDifferentialDriveKinematics(max_speed=1.0, axis=2.0)\n",
    "        agent.pose = core.Pose2((0, 0), 0)\n",
    "        agent.twist = core.Twist2((0, 0), 0)\n",
    "        agent.radius = 1.0\n",
    "        agent.task = sim.tasks.WaypointsTask(waypoints=[(10, 0), (0, 0)], loop=True, tolerance=0.1)\n",
    "        agent.state_estimation = sim.state_estimations.BoundedStateEstimation(range_of_view=5.0)\n",
    "        world.add_obstacle(core.Disc(position=(5.0, 0.1), radius=1))\n",
    "        world.add_agent(agent)"
   ]
  },
  {
   "cell_type": "markdown",
   "id": "6dea19b9",
   "metadata": {},
   "source": [
    "Then, we configure an experiment to run such scenario for some steps. "
   ]
  },
  {
   "cell_type": "code",
   "execution_count": 50,
   "id": "0998fec7",
   "metadata": {
    "tags": []
   },
   "outputs": [],
   "source": [
    "experiment = sim.Experiment()\n",
    "experiment.scenario = MyScenario()\n",
    "experiment.time_step = 0.1\n",
    "experiment.steps= 300"
   ]
  },
  {
   "cell_type": "markdown",
   "id": "0d3132c2",
   "metadata": {},
   "source": [
    "We are interested to record poses,"
   ]
  },
  {
   "cell_type": "code",
   "execution_count": 51,
   "id": "ef86e119",
   "metadata": {
    "tags": []
   },
   "outputs": [],
   "source": [
    "experiment.trace.record_pose = True"
   ]
  },
  {
   "cell_type": "markdown",
   "id": "49a9fe61",
   "metadata": {},
   "source": [
    "so let's run the experiment."
   ]
  },
  {
   "cell_type": "code",
   "execution_count": 52,
   "id": "bf43b218",
   "metadata": {
    "tags": []
   },
   "outputs": [],
   "source": [
    "experiment.run_once(seed=0)"
   ]
  },
  {
   "cell_type": "markdown",
   "id": "d2163f20-ec8c-4632-99c2-9741a181a532",
   "metadata": {},
   "source": [
    "The experiment recorded metadata such as duration,"
   ]
  },
  {
   "cell_type": "code",
   "execution_count": 53,
   "id": "c289972a-9da6-4daa-a4eb-7c783a790cf0",
   "metadata": {
    "tags": []
   },
   "outputs": [
    {
     "data": {
      "text/plain": [
       "datetime.timedelta(microseconds=101)"
      ]
     },
     "execution_count": 53,
     "metadata": {},
     "output_type": "execute_result"
    }
   ],
   "source": [
    "experiment.run_duration"
   ]
  },
  {
   "cell_type": "markdown",
   "id": "5f444a0e-3bb2-4bed-8083-0a22d6356dd6",
   "metadata": {},
   "source": [
    "as well as the agents' trajectory, as an array of `steps x agents x 3` coordinates."
   ]
  },
  {
   "cell_type": "code",
   "execution_count": 54,
   "id": "54395819",
   "metadata": {
    "tags": []
   },
   "outputs": [
    {
     "data": {
      "text/plain": [
       "(300, 1, 3)"
      ]
     },
     "execution_count": 54,
     "metadata": {},
     "output_type": "execute_result"
    }
   ],
   "source": [
    "trajectories = np.asarray(experiment.trace.poses)\n",
    "trajectories.shape"
   ]
  },
  {
   "cell_type": "markdown",
   "id": "2c31e7f4",
   "metadata": {},
   "source": [
    "Optionally, we can configure the experiment to automatically save all data to an HDF5 file."
   ]
  },
  {
   "cell_type": "code",
   "execution_count": 55,
   "id": "ecb349fa",
   "metadata": {
    "tags": []
   },
   "outputs": [],
   "source": [
    "import h5py\n",
    "import pathlib\n",
    "\n",
    "experiment.runs = 1\n",
    "experiment.save_directory = pathlib.Path('.')\n",
    "\n",
    "# experiment.run()\n",
    "# if experiment.path:\n",
    "#     data = h5py.File(pathlib.Path(experiment.path))\n",
    "#     data    "
   ]
  },
  {
   "cell_type": "markdown",
   "id": "e4cd57d4",
   "metadata": {},
   "source": [
    "## YAML\n",
    "\n",
    "What we configured in Python during this tutorial, can be configured in YAML too.\n",
    "\n",
    "For instance, let's configure the previous experiment using YAML. \n",
    "We add our lonely agent in one of the `scenario/groups`."
   ]
  },
  {
   "cell_type": "code",
   "execution_count": 56,
   "id": "e3eed54d",
   "metadata": {
    "tags": []
   },
   "outputs": [],
   "source": [
    "yaml = \"\"\"\n",
    "time_step: 0.1\n",
    "steps: 300\n",
    "record_pose: true\n",
    "scenario:\n",
    "    obstacles:\n",
    "        - position: [5, 0.1]\n",
    "          radius: 1.0\n",
    "    groups:\n",
    "        - number: 1\n",
    "          type: thymio\n",
    "          behavior:\n",
    "            type: ORCA\n",
    "          kinematics:\n",
    "            type: 2WDiff\n",
    "            wheel_axis: 2\n",
    "            max_speed: 1\n",
    "          task:\n",
    "            type: Waypoints\n",
    "            loop: true\n",
    "            tolerance: 0.1\n",
    "            waypoints: [[10, 0], [0, 0]]\n",
    "          state_estimation:\n",
    "            type: Bounded\n",
    "            range_of_view: 5\n",
    "          position: [0, 0]\n",
    "          orientation: 0\n",
    "          radius: 1.0\n",
    "          control_period: 0.1        \n",
    "\"\"\""
   ]
  },
  {
   "cell_type": "code",
   "execution_count": 57,
   "id": "36e9d8fc",
   "metadata": {
    "tags": []
   },
   "outputs": [],
   "source": [
    "experiment = sim.load_experiment(yaml)\n",
    "experiment.run_once(seed=1)"
   ]
  },
  {
   "cell_type": "markdown",
   "id": "992f69e7",
   "metadata": {},
   "source": [
    "YAML is also usefull to display a readable representation. Let's try to look at world at the end of the experiment:\n",
    "\n"
   ]
  },
  {
   "cell_type": "code",
   "execution_count": 58,
   "id": "f410936a",
   "metadata": {
    "tags": []
   },
   "outputs": [
    {
     "name": "stdout",
     "output_type": "stream",
     "text": [
      "obstacles:\n",
      "  - position:\n",
      "      - 5\n",
      "      - 0.100000001\n",
      "    radius: 1\n",
      "    uid: 5\n",
      "walls:\n",
      "  []\n",
      "agents:\n",
      "  - behavior:\n",
      "      type: ORCA\n",
      "      effective_center: false\n",
      "      time_horizon: 10\n",
      "      optimal_speed: 1\n",
      "      optimal_angular_speed: 1\n",
      "      rotation_tau: 0.5\n",
      "      safety_margin: 0\n",
      "      horizon: 5\n",
      "      radius: 1\n",
      "      heading: velocity\n",
      "      kinematics:\n",
      "        type: 2WDiff\n",
      "        wheel_axis: 2\n",
      "        max_speed: 1\n",
      "        max_angular_speed: 1\n",
      "      social_margin:\n",
      "        modulation:\n",
      "          type: constant\n",
      "        default: 0\n",
      "    kinematics:\n",
      "      type: 2WDiff\n",
      "      wheel_axis: 2\n",
      "      max_speed: 1\n",
      "      max_angular_speed: 1\n",
      "    task:\n",
      "      type: Waypoints\n",
      "      loop: true\n",
      "      tolerance: 0.100000001\n",
      "      waypoints:\n",
      "        -\n",
      "          - 10\n",
      "          - 0\n",
      "        -\n",
      "          - 0\n",
      "          - 0\n",
      "    state_estimation:\n",
      "      type: Bounded\n",
      "      range_of_view: 5\n",
      "    position:\n",
      "      - 0.0844370797\n",
      "      - 0.0417474806\n",
      "    orientation: 4.70049715\n",
      "    velocity:\n",
      "      - 0\n",
      "      - -0\n",
      "    angular_speed: 1\n",
      "    radius: 1\n",
      "    control_period: 0.100000001\n",
      "    type: thymio\n",
      "    id: 0\n",
      "    uid: 4\n"
     ]
    }
   ],
   "source": [
    "print(sim.dump(experiment.world))"
   ]
  },
  {
   "cell_type": "markdown",
   "id": "c37e3723",
   "metadata": {},
   "source": [
    "## Real-time simulation\n",
    "\n",
    "This last part is possibly the most rewarding of the tour. \n",
    "\n",
    "Let's try to visualize a simulation while it runs directly in the notebook. For this, you need to install the Python websockets package\n",
    "```\n",
    "pip install websockets\n",
    "```"
   ]
  },
  {
   "cell_type": "code",
   "execution_count": 59,
   "id": "3ebee97f",
   "metadata": {
    "tags": []
   },
   "outputs": [
    {
     "data": {
      "text/plain": [
       "True"
      ]
     },
     "execution_count": 59,
     "metadata": {},
     "output_type": "execute_result"
    }
   ],
   "source": [
    "from navground.sim.ui.web_ui import WebUI\n",
    "from navground.sim.ui.to_html import notebook_view\n",
    "from navground.sim.real_time import RealTimeSimulation\n",
    "\n",
    "web_ui = WebUI(host='127.0.0.1', max_rate=-1)\n",
    "await web_ui.prepare()"
   ]
  },
  {
   "cell_type": "code",
   "execution_count": 60,
   "id": "168d6344",
   "metadata": {
    "tags": []
   },
   "outputs": [
    {
     "data": {
      "text/html": [
       "<!DOCTYPE html>\n",
       "\n",
       "<html>\n",
       "<head>\n",
       "  <!--  -->\n",
       "  <title></title>\n",
       "  \n",
       "  <style>\n",
       "  svg{\n",
       "  style='stroke-width: 0px;\n",
       "  background-color: snow;\n",
       "}\n",
       ".background{\n",
       "  fill-opacity:0.05;\n",
       "  fill: grey;\n",
       "}\n",
       "circle.obstacle{\n",
       "  fill: gray; \n",
       "  stroke:none;\n",
       "}\n",
       ".agent{\n",
       "  stroke:none;\n",
       "  fill: orange;\n",
       "}\n",
       "polyline.wall{\n",
       "  stroke:black;\n",
       "  stroke-width:0.01;\n",
       "}\n",
       "\n",
       "\n",
       "  </style>\n",
       "  \n",
       "  \n",
       "  <script type='text/javascript'>\n",
       "  var svg;\n",
       "var svg_world;\n",
       "\n",
       "\n",
       "\n",
       "// require.config({\n",
       "//   paths: {\n",
       "//     'svg-pan-zoom': 'https://cdnjs.cloudflare.com/ajax/libs/svg.pan-zoom.js/2.7.0/svg.pan-zoom.min.js'\n",
       "//   }\n",
       "// })\n",
       "\n",
       "// require([\"svg-pan-zoom\"], function(svgPanZoom) {\n",
       "//   window.svgPanZoom = svgPanZoom('#N0svg', {\n",
       "//     panEnabled: true,\n",
       "//     controlIconsEnabled: true,\n",
       "//     zoomEnabled: true,\n",
       "//     fit: true,\n",
       "//     maxZoom: 200,\n",
       "//     minZoom: 0.1\n",
       "//   });\n",
       "//   svg = document.getElementsByClassName(\"svg-pan-zoom_viewport\")[0];\n",
       "//   svg_world = document.getElementById(\"N0world\");\n",
       "// });\n",
       "\n",
       "\n",
       "\n",
       "\n",
       "\n",
       "\n",
       "\n",
       "var ws_address = \"ws://127.0.0.1:8000/\"\n",
       "var ws = new WebSocket(ws_address);\n",
       "\n",
       "ws.onopen = function(event) {\n",
       "  console.log('N0 Opened Web socket ' + ws_address)\n",
       "};\n",
       "\n",
       "ws.onmessage = function(event) {\n",
       "  var [type, data] = JSON.parse(event.data)\n",
       "  switch (type) {\n",
       "    case 'm':\n",
       "      move(data)\n",
       "      break;\n",
       "    case 'r':\n",
       "      reset(data)\n",
       "      break;\n",
       "    case 's':\n",
       "      set(data)\n",
       "      break;\n",
       "    case 'v':\n",
       "      view(data)\n",
       "      break;\n",
       "    case '+':\n",
       "      add(data)\n",
       "      break;\n",
       "    default:\n",
       "      break\n",
       "  }\n",
       "}\n",
       "\n",
       "\n",
       "var agents = new Set();\n",
       "var entity = {};\n",
       "var NS = \"http://www.w3.org/2000/svg\";\n",
       "var prototypes = {'': '#N0agent', 'thymio': '#N0thymio', 'wheelchair': '#N0wheelchair', 'human': '#N0human'}\n",
       "\n",
       "function add_wall(id, points) {\n",
       "  var e = document.createElementNS(NS,\"polyline\");\n",
       "  var ps = []\n",
       "  for (var i in points) {\n",
       "     ps.push(`${points[i][0]},${points[i][1]}`)\n",
       "  } \n",
       "  e.setAttribute(\"points\", ps.join())\n",
       "  e.setAttribute(\"class\", \"wall\");\n",
       "  e.setAttribute(\"id\", id);\n",
       "  return e\n",
       "}\n",
       "\n",
       "function add_obstacle(id, point, radius) {\n",
       "  var e = document.createElementNS(NS,\"circle\");\n",
       "  e.setAttribute(\"cx\", `${point[0]}`)\n",
       "  e.setAttribute(\"cy\", `${point[1]}`)\n",
       "  e.setAttribute(\"r\", `${radius}`)\n",
       "  e.setAttribute(\"class\", \"obstacle\");\n",
       "  e.setAttribute(\"id\", id);\n",
       "  return e\n",
       "}\n",
       "\n",
       "function add_agent(id, type, size) \n",
       "{\n",
       "  var g = document.createElementNS(NS,\"g\");\n",
       "  var agent = document.createElementNS(NS,\"use\");\n",
       "  var uid = prototypes[type] || '#N0agent';\n",
       "  agent.setAttributeNS(\"http://www.w3.org/1999/xlink\", \"xlink:href\", uid);\n",
       "  agent.setAttribute(\"transform\", `scale(${size}, ${size})`)\n",
       "  g.appendChild(agent)\n",
       "  g.setAttribute(\"class\", type);\n",
       "  g.setAttribute(\"id\", id);\n",
       "  return g;\n",
       "};\n",
       "\n",
       "function add_entity(uid, data) {\n",
       "  var id = \"N0\" + uid\n",
       "  if (id in entity) {\n",
       "    console.warn(`Entity ${id} already present`)\n",
       "    return;\n",
       "  }\n",
       "  var kind = data['kind'];\n",
       "  var svg_world = document.getElementById(\"N0world\");\n",
       "  var e = document.getElementById(id);\n",
       "  if (e) {\n",
       "    svg_world.removeChild(e);\n",
       "    e = null;\n",
       "  }\n",
       "  var state = null;\n",
       "  switch (kind) {\n",
       "    case 'w':\n",
       "      e = add_wall(id, data['points']);\n",
       "      break;\n",
       "    case 'o':\n",
       "      e = add_obstacle(id, data['point'], data['radius']);\n",
       "      break;\n",
       "    case 'a':\n",
       "      e = add_agent(id, data['type'], data['size']);\n",
       "      state = data['pose']\n",
       "      var [x, y, theta] = state;\n",
       "      move_element(e, x, y, theta);\n",
       "      agents.add(id);\n",
       "      break;\n",
       "    default:\n",
       "      break\n",
       "  }\n",
       "  if (e) {\n",
       "    svg_world.appendChild(e);\n",
       "    entity[id] = {'svg': e, 'updated': true, 'state': state};\n",
       "  }\n",
       "};\n",
       "\n",
       "function add(data) {\n",
       "  for (var _id in data) {\n",
       "    add_entity(_id, data[_id])\n",
       "  }\n",
       "  window.requestAnimationFrame(update);\n",
       "};\n",
       "\n",
       "function set_entity(_id, data) {\n",
       "  if(!(_id in entity)) {\n",
       "    console.warn(`Entity ${_id} unknown`)\n",
       "    return;\n",
       "  }\n",
       "  for (a in data) {\n",
       "    entity[_id]['svg'].setAttribute(a, data[a])\n",
       "  }\n",
       "};\n",
       "\n",
       "function set(data) {\n",
       "  for (var _id in data) {\n",
       "    if (_id in entity) {\n",
       "      set_entity('N0' + _id, data[_id])\n",
       "    } else {\n",
       "      var e = document.getElementById(\"N0\" + _id);\n",
       "      if (e) {\n",
       "        var e_data = data[_id];\n",
       "        for (a in e_data) {\n",
       "          console.log(`setting attributes ${a} of ${e} to ${e_data[a]}`)\n",
       "          e.setAttribute(a, e_data[a]);\n",
       "        }\n",
       "      }\n",
       "    }\n",
       "  }\n",
       "  window.requestAnimationFrame(update);\n",
       "};\n",
       "\n",
       "function move_entity(_id, data) {\n",
       "  if(!agents.has(_id)) {\n",
       "    console.warn(`Agent ${_id} unknown`)\n",
       "    return;\n",
       "  }\n",
       "  var [x, y, theta] = data;\n",
       "  entity[_id]['state'] = [x, y, theta]\n",
       "  entity[_id]['updated'] = true\n",
       "};\n",
       "\n",
       "function move(data) {\n",
       "  for (var _id in data) {\n",
       "    move_entity('N0' + _id, data[_id])\n",
       "  }\n",
       "  window.requestAnimationFrame(update);\n",
       "};\n",
       "\n",
       "function reset() {\n",
       "  var svg_world = document.getElementById(\"N0world\");\n",
       "  for (var _id in entity) {\n",
       "    svg_world.removeChild(entity[_id]['svg'])\n",
       "  }\n",
       "  console.log(\"reset\")\n",
       "  entity = {}\n",
       "  agents.clear()\n",
       "  window.requestAnimationFrame(update);\n",
       "};\n",
       "\n",
       "function view(data) {\n",
       "  var [x, y, width, height] = data;\n",
       "  var svg = document.getElementById(\"N0svg\");\n",
       "  svg.setAttribute(\"viewBox\", `${x} ${y} ${width} ${height}`)\n",
       "  window.requestAnimationFrame(update);\n",
       "};\n",
       "\n",
       "function update(step) {\n",
       "  var ids_to_be_removed = []\n",
       "  for (var id of agents) {\n",
       "    // if (!entity[id]['updated']) {\n",
       "    //   ids_to_be_removed.push(id)\n",
       "    // }\n",
       "    if (entity[id]['updated']) {\n",
       "      var [x, y, theta] = entity[id]['state']\n",
       "      move_element(entity[id]['svg'], x, y, theta)\n",
       "      entity[id]['updated'] = false;\n",
       "    }\n",
       "  }\n",
       "  // for (var _id of ids_to_be_removed) {\n",
       "  //   remove_entity(_id);\n",
       "  // }  \n",
       "};\n",
       "\n",
       "function remove_entity(_id) {\n",
       "    var svg_world = document.getElementById(\"N0world\");\n",
       "    console.log(`remove ${_id}`)\n",
       "    svg_world.removeChild(entity[_id]['svg'])\n",
       "    agents.delete(_id);\n",
       "    delete entity[_id];\n",
       "}\n",
       "\n",
       "function move_element(g, x, y, angle) {\n",
       "  var t = `translate(${x},${y}) rotate(${angle * 180 / 3.14159})`\n",
       "  g.setAttribute(\"transform\", t)\n",
       "};\n",
       "\n",
       "  </script>\n",
       "  \n",
       "  \n",
       "</head>\n",
       "<body>\n",
       "  <div>\n",
       "    <h1></h1>\n",
       "  </div>\n",
       "  <svg id=\"N0svg\" width=\"500\" height=\"500\" viewBox=\"0 0 1 1 \">\n",
       "    <defs>\n",
       "        <circle id=\"N0agent\" cx=\"0\" cy=\"0\" r=\"1\"/>\n",
       "        <g id=\"N0thymio\" transform=\"rotate(90) scale(0.125)\" fill=\"#e6e6e6\">\n",
       "            <path\n",
       "               style=\"stroke:none\"\n",
       "               d=\"M -5.4999227 -5.8058472 L -5.4999227 2.9998169 L 5.4999227 2.9998169 L 5.4999227     -5.8089478 A 8 8 0 0 0 0 -8.0000285 A 8 8 0 0 0 -5.4999227 -5.8058472 z \" />\n",
       "            <rect\n",
       "               style=\"fill:#333333;stroke:none\"\n",
       "               width=\"1.5\"\n",
       "               height=\"4.1999998\"\n",
       "               x=\"-5.4000001\"\n",
       "               y=\"-2.0999999\"\n",
       "               rx=\"0.5\" />\n",
       "            <rect\n",
       "               style=\"fill:#333333;stroke:none\"\n",
       "               id=\"rect441\"\n",
       "               width=\"1.5\"\n",
       "               height=\"4.1999998\"\n",
       "               x=\"3.9000001\"\n",
       "               y=\"-2.0999999\"\n",
       "               rx=\"0.5\" />\n",
       "        </g>\n",
       "<g id=\"N0wheelchair\" transform=\"scale(0.02) rotate(180) translate(-55,-173)\">\n",
       "      <path\n",
       "         id=\"path7\"\n",
       "         style=\"fill:#c8beb7;stroke:none;stroke-width:214.829\"\n",
       "         d=\"m 48.06149,189.83177 h -38.89 v -33.33 h 38.89 z\"\n",
       "         inkscape:transform-center-x=\"53.187398\"\n",
       "         inkscape:transform-center-y=\"-39.069755\" />\n",
       "      <path\n",
       "         style=\"color:#000000;fill:#080808;stroke:none;-inkscape-stroke:none\"\n",
       "         d=\"m 81.382974,148.5266 v -4.11718 -4.21485 H 53.61149 v 8.33203 z\"\n",
       "         id=\"path8\" />\n",
       "      <path\n",
       "         style=\"color:#000000;fill:#080808;stroke:none;-inkscape-stroke:none\"\n",
       "         d=\"m 81.382974,204.0666 v -4.11718 -4.21485 H 53.61149 v 8.33203 z\"\n",
       "         id=\"path9\" />\n",
       "      <path\n",
       "         id=\"path10\"\n",
       "         style=\"fill:#483e37;stroke:none;stroke-width:314.501\"\n",
       "         d=\"m 92.497232,199.91402 h -50 v -55.55999 h 50 z\" />\n",
       "      <path\n",
       "         style=\"color:#000000;fill:#917c6f;stroke:none;-inkscape-stroke:none\"\n",
       "         d=\"m 92.497232,199.91332 v -2.77148 -52.78711 h -5.558593 v 55.55859 z\"\n",
       "         id=\"path11\" />\n",
       "    </g>\n",
       "    <g id=\"N0human\" transform=\"scale(0.02) rotate(180) translate(-50,-175)\">\n",
       "    <ellipse\n",
       "       style=\"fill:#666666;fill-opacity:1;stroke:none;stroke-width:0.605428;stroke-dasharray:none\"\n",
       "       id=\"circle11\"\n",
       "       cx=\"54.378712\"\n",
       "       cy=\"172.97321\"\n",
       "       rx=\"19.763088\"\n",
       "       ry=\"43.396534\" />\n",
       "    <ellipse\n",
       "       style=\"fill:#1a1a1a;fill-opacity:1;stroke:none;stroke-width:0.34029;stroke-dasharray:none\"\n",
       "       id=\"ellipse11\"\n",
       "       cx=\"54.378712\"\n",
       "       cy=\"172.90125\"\n",
       "       rx=\"16.28758\"\n",
       "       ry=\"16.635132\" />\n",
       "    <ellipse\n",
       "       style=\"fill:#666666;fill-opacity:1;stroke:none;stroke-width:0.262666;stroke-dasharray:none\"\n",
       "       id=\"ellipse12\"\n",
       "       cx=\"40.156387\"\n",
       "       cy=\"134.79787\"\n",
       "       rx=\"23.189381\"\n",
       "       ry=\"6.961535\" />\n",
       "    <ellipse\n",
       "       style=\"fill:#666666;fill-opacity:1;stroke:none;stroke-width:0.262666;stroke-dasharray:none\"\n",
       "       id=\"ellipse13\"\n",
       "       cx=\"40.156387\"\n",
       "       cy=\"211.14854\"\n",
       "       rx=\"23.189381\"\n",
       "       ry=\"6.961535\" />\n",
       "    </g>\n",
       "    </defs>\n",
       "    <g id='N0world' transform=\"scale(1, -1)\">\n",
       "      \n",
       "    </g>\n",
       "  </svg>\n",
       "</body>\n",
       "</html>"
      ],
      "text/plain": [
       "<IPython.core.display.HTML object>"
      ]
     },
     "execution_count": 60,
     "metadata": {},
     "output_type": "execute_result"
    }
   ],
   "source": [
    "notebook_view(width=500)"
   ]
  },
  {
   "cell_type": "code",
   "execution_count": 61,
   "id": "553986d5",
   "metadata": {
    "tags": []
   },
   "outputs": [],
   "source": [
    "# we run 5x faster than real-time\n",
    "world = experiment.world\n",
    "rt_sim = RealTimeSimulation(world=world, time_step=0.1, factor=5, web_ui=web_ui, \n",
    "                            bounds=((-1, -3), (11, 3)))\n",
    "await rt_sim.init()"
   ]
  },
  {
   "cell_type": "code",
   "execution_count": null,
   "id": "75b5481c",
   "metadata": {
    "tags": []
   },
   "outputs": [],
   "source": [
    "until_time = world.time + 60\n",
    "await rt_sim.run(until=lambda : world.time > until_time)"
   ]
  }
 ],
 "metadata": {
  "kernelspec": {
   "display_name": "Python 3 (ipykernel)",
   "language": "python",
   "name": "python3"
  },
  "language_info": {
   "codemirror_mode": {
    "name": "ipython",
    "version": 3
   },
   "file_extension": ".py",
   "mimetype": "text/x-python",
   "name": "python",
   "nbconvert_exporter": "python",
   "pygments_lexer": "ipython3",
   "version": "3.10.13"
  }
 },
 "nbformat": 4,
 "nbformat_minor": 5
}
