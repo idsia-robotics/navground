{
 "cells": [
  {
   "cell_type": "markdown",
   "id": "483631c4-af9a-466b-b867-9127953b7f39",
   "metadata": {
    "tags": []
   },
   "source": [
    "# Running an experiment\n",
    "\n",
    "In this tutorial, you learn how to perform an experiment and then access the recorded data to analyse it. \n",
    "\n",
    "## Running the experiment\n",
    "\n",
    "You can look at an experiment as a machine that produces data from a configuration, which defines the simulation we want to perform, how many runs of it, which data to collect, and where to save it.\n",
    "\n",
    "The experiment can be configured through the API or from YAML. \n",
    "\n",
    "Let's go for YAML: we configure an experiment where 10 agents perform about 3 hours of navigation in the [Cross scenario](../reference/sim/python/scenarios/cross.html)."
   ]
  },
  {
   "cell_type": "code",
   "execution_count": 1,
   "id": "7b5a2b0e",
   "metadata": {
    "tags": []
   },
   "outputs": [],
   "source": [
    "from navground import sim\n",
    "\n",
    "yaml = \"\"\"\n",
    "steps: 100000\n",
    "time_step: 0.1\n",
    "record_safety_violation: true\n",
    "record_task_events: true\n",
    "record_pose: true\n",
    "runs: 2\n",
    "save_directory: .\n",
    "scenario:\n",
    "  type: Cross\n",
    "  radius: 5\n",
    "  side: 5\n",
    "  agent_margin: 0.3\n",
    "  add_safety_to_agent_margin: true\n",
    "  tolerance: 0.2\n",
    "  position_noise: 0.2\n",
    "  groups:\n",
    "    - number: 10\n",
    "      control_period: 0.1\n",
    "      behavior:\n",
    "        type: ORCA\n",
    "        safety_margin: 0.25\n",
    "      radius: 0.1\n",
    "      kinematics:\n",
    "        type: Omni\n",
    "        max_speed: 1.0\n",
    "        max_angular_speed: 3.0\n",
    "      state_estimation:\n",
    "        type: Bounded\n",
    "        range_of_view: 2.0\n",
    "\"\"\"\n",
    "\n",
    "experiment = sim.load_experiment(yaml)"
   ]
  },
  {
   "cell_type": "markdown",
   "id": "c2377bd9-c25a-4b40-8edc-9da492eea047",
   "metadata": {
    "tags": []
   },
   "source": [
    "We have specified to save the data in the current directory by adding\n",
    "`save_directory: .`; leaving this line out, would avoid that the experiment saves data to HDF5.\n",
    "\n",
    "Running the experiment using the Python API"
   ]
  },
  {
   "cell_type": "code",
   "execution_count": 2,
   "id": "86e0b61e",
   "metadata": {
    "tags": []
   },
   "outputs": [],
   "source": [
    "experiment.run()"
   ]
  },
  {
   "cell_type": "markdown",
   "id": "61f2273e-4078-4f43-a6aa-8b0d004cdbb9",
   "metadata": {},
   "source": [
    "is equivalent to execute \n",
    "```\n",
    "run_py <yaml_file>\n",
    "```\n",
    "from the command line.\n",
    "\n",
    "The experiment takes some time to execute"
   ]
  },
  {
   "cell_type": "code",
   "execution_count": 3,
   "id": "68db0e5b-cebb-41b0-9669-ba43ec8a06ef",
   "metadata": {
    "tags": []
   },
   "outputs": [
    {
     "data": {
      "text/plain": [
       "datetime.timedelta(seconds=1, microseconds=288567)"
      ]
     },
     "execution_count": 3,
     "metadata": {},
     "output_type": "execute_result"
    }
   ],
   "source": [
    "experiment.duration"
   ]
  },
  {
   "cell_type": "markdown",
   "id": "9ac23100-950b-44c5-a95d-e22cc2ff1825",
   "metadata": {
    "tags": []
   },
   "source": [
    "and saves the results to an H5DF file"
   ]
  },
  {
   "cell_type": "code",
   "execution_count": 4,
   "id": "ec817b89-7850-4a3f-a7a3-26bba47f5393",
   "metadata": {
    "tags": []
   },
   "outputs": [
    {
     "data": {
      "text/plain": [
       "PosixPath('experiment_2023-07-04_16-55-12/data.h5')"
      ]
     },
     "execution_count": 4,
     "metadata": {},
     "output_type": "execute_result"
    }
   ],
   "source": [
    "experiment.path"
   ]
  },
  {
   "cell_type": "markdown",
   "id": "588c2f2f-00be-4b0d-85b8-e53d307008af",
   "metadata": {
    "tags": []
   },
   "source": [
    "## Experimental data analysis"
   ]
  },
  {
   "cell_type": "markdown",
   "id": "fdb4dade-5d6a-40c7-84ed-7ae9b9a6330c",
   "metadata": {
    "tags": []
   },
   "source": [
    "We can load the HDF5 file using ``h5py``. \n",
    "In case you need, install it with \n",
    "```\n",
    "pip install h5py\n",
    "```"
   ]
  },
  {
   "cell_type": "code",
   "execution_count": 5,
   "id": "be2e26dd-c5a7-4ffe-9dc5-0e5d064aca9e",
   "metadata": {
    "tags": []
   },
   "outputs": [],
   "source": [
    "import h5py\n",
    "\n",
    "data = h5py.File(experiment.path)"
   ]
  },
  {
   "cell_type": "markdown",
   "id": "eb5eba76-f2bc-4b26-924f-b6607e2cdc0c",
   "metadata": {
    "tags": []
   },
   "source": [
    "The file stores some metadata about the experiment"
   ]
  },
  {
   "cell_type": "code",
   "execution_count": 6,
   "id": "f7eacfee-e360-4cbd-8885-d2b0f85a2954",
   "metadata": {
    "tags": []
   },
   "outputs": [
    {
     "data": {
      "text/plain": [
       "<KeysViewHDF5 ['begin_time', 'duration_ns', 'experiment']>"
      ]
     },
     "execution_count": 6,
     "metadata": {},
     "output_type": "execute_result"
    }
   ],
   "source": [
    "data.attrs.keys()"
   ]
  },
  {
   "cell_type": "markdown",
   "id": "12a835ed-00f6-476c-96d5-39a340948912",
   "metadata": {},
   "source": [
    "like the duration: let's check that it reports the same duration as above "
   ]
  },
  {
   "cell_type": "code",
   "execution_count": 7,
   "id": "b8ceb223-870a-40f2-be16-ab446f7af5ac",
   "metadata": {
    "tags": []
   },
   "outputs": [
    {
     "data": {
      "text/plain": [
       "1.288567292"
      ]
     },
     "execution_count": 7,
     "metadata": {},
     "output_type": "execute_result"
    }
   ],
   "source": [
    "data.attrs.get('duration_ns') / 1e9"
   ]
  },
  {
   "cell_type": "markdown",
   "id": "34637734-c58d-46e0-b3be-6c6eb6510a7f",
   "metadata": {
    "tags": []
   },
   "source": [
    "The metadata contains the YAML dump of the experiment itself. This way, users can reload and potentially rerun the same experiment."
   ]
  },
  {
   "cell_type": "code",
   "execution_count": 8,
   "id": "f650d923-f711-4d71-883f-f9aa9ebc22d0",
   "metadata": {
    "tags": []
   },
   "outputs": [],
   "source": [
    "recorded_yaml = data.attrs.get('experiment')\n",
    "recorded_experiment = sim.load_experiment(recorded_yaml)"
   ]
  },
  {
   "cell_type": "markdown",
   "id": "c503446a-a236-4e6d-9241-ef9efc86bd85",
   "metadata": {},
   "source": [
    "Each run is recorded in a separate HDF5 group. Let's list them"
   ]
  },
  {
   "cell_type": "code",
   "execution_count": 9,
   "id": "168f69c2-2039-4323-ac4b-b755585fee3e",
   "metadata": {
    "tags": []
   },
   "outputs": [
    {
     "data": {
      "text/plain": [
       "<KeysViewHDF5 ['run_0', 'run_1']>"
      ]
     },
     "execution_count": 9,
     "metadata": {},
     "output_type": "execute_result"
    }
   ],
   "source": [
    "data.keys()"
   ]
  },
  {
   "cell_type": "markdown",
   "id": "13268e7b-3d5d-4240-b4a4-0987d4bab6c7",
   "metadata": {
    "tags": []
   },
   "source": [
    "and load the first one"
   ]
  },
  {
   "cell_type": "code",
   "execution_count": 10,
   "id": "f416420e-7609-40af-9274-d0490763f0c8",
   "metadata": {
    "tags": []
   },
   "outputs": [],
   "source": [
    "run = data['run_0']"
   ]
  },
  {
   "cell_type": "markdown",
   "id": "70efee68-8dd4-4ed8-a57f-15c442bd4e1d",
   "metadata": {
    "tags": []
   },
   "source": [
    "Runs contains some metadata too"
   ]
  },
  {
   "cell_type": "code",
   "execution_count": 11,
   "id": "6c16d655-31c1-49f3-af25-c68fba006acb",
   "metadata": {
    "tags": []
   },
   "outputs": [
    {
     "data": {
      "text/plain": [
       "<KeysViewHDF5 ['duration_ns', 'seed', 'steps', 'time_step', 'world']>"
      ]
     },
     "execution_count": 11,
     "metadata": {},
     "output_type": "execute_result"
    }
   ],
   "source": [
    "run.attrs.keys()"
   ]
  },
  {
   "cell_type": "markdown",
   "id": "ed55a080-674d-4436-a753-e77bc4f007f3",
   "metadata": {},
   "source": [
    "The duration of a run includes only the time required to perform the simulation, not initializing it or saving the data."
   ]
  },
  {
   "cell_type": "code",
   "execution_count": 12,
   "id": "13dcf721-2d0b-4ccb-8971-34a9b5a705b0",
   "metadata": {
    "tags": []
   },
   "outputs": [
    {
     "data": {
      "text/plain": [
       "0.635798875"
      ]
     },
     "execution_count": 12,
     "metadata": {},
     "output_type": "execute_result"
    }
   ],
   "source": [
    "run.attrs.get('duration_ns') / 1e9"
   ]
  },
  {
   "cell_type": "markdown",
   "id": "752fa327-9952-4418-8fa9-5baeeb8676a9",
   "metadata": {
    "tags": []
   },
   "source": [
    "Other attributes includes the seed"
   ]
  },
  {
   "cell_type": "code",
   "execution_count": 13,
   "id": "158b0a58",
   "metadata": {
    "tags": []
   },
   "outputs": [
    {
     "data": {
      "text/plain": [
       "0"
      ]
     },
     "execution_count": 13,
     "metadata": {},
     "output_type": "execute_result"
    }
   ],
   "source": [
    "run.attrs['seed']"
   ]
  },
  {
   "cell_type": "markdown",
   "id": "218fa41b-f985-4872-83f3-211a4dda5fc2",
   "metadata": {},
   "source": [
    "and the number of steps performed"
   ]
  },
  {
   "cell_type": "code",
   "execution_count": 14,
   "id": "1e0305e4-e252-4a35-9a2e-47d83e5f8cc5",
   "metadata": {
    "tags": []
   },
   "outputs": [
    {
     "data": {
      "text/plain": [
       "100000"
      ]
     },
     "execution_count": 14,
     "metadata": {},
     "output_type": "execute_result"
    }
   ],
   "source": [
    "run.attrs['steps']"
   ]
  },
  {
   "cell_type": "markdown",
   "id": "b242a0ab-57aa-4ad5-977f-736659c456e1",
   "metadata": {
    "tags": []
   },
   "source": [
    "The run also saves a YAML dump of the world at the begin of the simulation, which we can load"
   ]
  },
  {
   "cell_type": "code",
   "execution_count": 15,
   "id": "36f22eae-7949-4bd1-b64d-9a1230b3d544",
   "metadata": {
    "tags": []
   },
   "outputs": [],
   "source": [
    "wold_yaml = run.attrs.get('world')\n",
    "world = sim.load_world(wold_yaml)"
   ]
  },
  {
   "cell_type": "markdown",
   "id": "ee20ec50-1e14-4116-a56a-d4836b9cbaf2",
   "metadata": {},
   "source": [
    "and display"
   ]
  },
  {
   "cell_type": "code",
   "execution_count": 16,
   "id": "0d1aa924",
   "metadata": {
    "tags": []
   },
   "outputs": [
    {
     "data": {
      "image/svg+xml": [
       "<svg xmlns=\"http://www.w3.org/2000/svg\" version=\"1.1\" width=\"300\" height=\"285\" viewBox=\"-2.30 -2.30 4.48 4.25\">\n",
       "\n",
       "<style>\n",
       "<![CDATA[\n",
       "svg{\n",
       "  style='stroke-width: 0px;\n",
       "  background-color: snow;\n",
       "}\n",
       ".background{\n",
       "  fill-opacity:0.05;\n",
       "  fill: grey;\n",
       "}\n",
       "circle.obstacle{\n",
       "  fill: gray; \n",
       "  stroke:none;\n",
       "}\n",
       ".agent{\n",
       "  stroke:none;\n",
       "  fill: orange;\n",
       "}\n",
       "polyline.wall{\n",
       "  stroke:black;\n",
       "  stroke-width:0.01;\n",
       "}\n",
       "\n",
       "\n",
       "\n",
       "]]>\n",
       "</style>\n",
       "\n",
       "<g id=\"world\" transform=\"scale(1, -1)\">\n",
       "<g id=\"0\" class=\"agent\" transform=\"translate(-2.0, -1.659999966621399)\"><circle transform=\"scale(0.1, 0.1)\" cx=\"0\" cy=\"0\" r=\"1\"/></g><g id=\"1\" class=\"agent\" transform=\"translate(0.2199999988079071, 1.7300000190734863)\"><circle transform=\"scale(0.1, 0.1)\" cx=\"0\" cy=\"0\" r=\"1\"/></g><g id=\"2\" class=\"agent\" transform=\"translate(1.8700000047683716, -1.2400000095367432)\"><circle transform=\"scale(0.1, 0.1)\" cx=\"0\" cy=\"0\" r=\"1\"/></g><g id=\"3\" class=\"agent\" transform=\"translate(0.0, -0.49000000953674316)\"><circle transform=\"scale(0.1, 0.1)\" cx=\"0\" cy=\"0\" r=\"1\"/></g><g id=\"4\" class=\"agent\" transform=\"translate(-0.949999988079071, 0.9700000286102295)\"><circle transform=\"scale(0.1, 0.1)\" cx=\"0\" cy=\"0\" r=\"1\"/></g><g id=\"5\" class=\"agent\" transform=\"translate(-1.6399999856948853, 0.23999999463558197)\"><circle transform=\"scale(0.1, 0.1)\" cx=\"0\" cy=\"0\" r=\"1\"/></g><g id=\"6\" class=\"agent\" transform=\"translate(0.2800000011920929, 0.9800000190734863)\"><circle transform=\"scale(0.1, 0.1)\" cx=\"0\" cy=\"0\" r=\"1\"/></g><g id=\"7\" class=\"agent\" transform=\"translate(0.41999998688697815, 0.12999999523162842)\"><circle transform=\"scale(0.1, 0.1)\" cx=\"0\" cy=\"0\" r=\"1\"/></g><g id=\"8\" class=\"agent\" transform=\"translate(1.7000000476837158, 2.009999990463257)\"><circle transform=\"scale(0.1, 0.1)\" cx=\"0\" cy=\"0\" r=\"1\"/></g><g id=\"9\" class=\"agent\" transform=\"translate(0.949999988079071, 1.9299999475479126)\"><circle transform=\"scale(0.1, 0.1)\" cx=\"0\" cy=\"0\" r=\"1\"/></g><rect class=\"background\" height=\"4.25\" width=\"4.48\" x=\"-2.30\" y=\"-1.95\"/>\n",
       "</g>\n",
       "</svg>"
      ],
      "text/plain": [
       "<IPython.core.display.SVG object>"
      ]
     },
     "execution_count": 16,
     "metadata": {},
     "output_type": "execute_result"
    }
   ],
   "source": [
    "from IPython.display import SVG\n",
    "import numpy as np\n",
    "from matplotlib import pyplot as plt\n",
    "from navground.sim.ui import to_svg\n",
    "\n",
    "wold_yaml = run.attrs.get('world')\n",
    "world = sim.load_world(wold_yaml)\n",
    "SVG(to_svg.svg_for_world(world, width=300))"
   ]
  },
  {
   "cell_type": "markdown",
   "id": "c29cff19-1a21-4ecd-9324-f4e16a4b5f88",
   "metadata": {
    "tags": []
   },
   "source": [
    "The actual data collected during the run is saved in H5DF datasets"
   ]
  },
  {
   "cell_type": "code",
   "execution_count": 17,
   "id": "f582b848-5a56-4c3e-962f-719ea326b2c6",
   "metadata": {
    "tags": []
   },
   "outputs": [
    {
     "data": {
      "text/plain": [
       "<KeysViewHDF5 ['poses', 'safety_violations', 'task_events']>"
      ]
     },
     "execution_count": 17,
     "metadata": {},
     "output_type": "execute_result"
    }
   ],
   "source": [
    "run.keys()"
   ]
  },
  {
   "cell_type": "markdown",
   "id": "c8ee0bc5-ada5-4125-b13c-ec32520cbaaf",
   "metadata": {},
   "source": [
    "Let's plot the trajectories off all agents: first agent in blue, others in gray."
   ]
  },
  {
   "cell_type": "code",
   "execution_count": 18,
   "id": "a7a95a9e",
   "metadata": {
    "tags": []
   },
   "outputs": [
    {
     "data": {
      "image/png": "[encoded data removed]",
      "text/plain": [
       "<Figure size 800x500 with 1 Axes>"
      ]
     },
     "metadata": {},
     "output_type": "display_data"
    }
   ],
   "source": [
    "plt.figure(figsize=(8, 5))\n",
    "\n",
    "ps = run['poses']\n",
    "\n",
    "for n in range(ps.shape[1]):\n",
    "    color = 'k' if n else 'b'\n",
    "    alpha = 0.05 if n else 0.5\n",
    "    plt.plot(ps[:, n, 0], ps[:, n, 1], '-', color=color, alpha=alpha, linewidth=0.01)\n",
    "\n",
    "plt.xlabel('x')\n",
    "plt.ylabel('y')\n",
    "plt.axis('equal');"
   ]
  },
  {
   "cell_type": "markdown",
   "id": "186c62bb-bce8-4e31-88a1-bad12767e90c",
   "metadata": {},
   "source": [
    "They were indeed doing a crossing pattern.\n",
    "\n",
    "Let's plot how much the safety margin was violed."
   ]
  },
  {
   "cell_type": "code",
   "execution_count": 19,
   "id": "0df52db9-8802-4525-8d25-f4f7c899c658",
   "metadata": {
    "tags": []
   },
   "outputs": [],
   "source": [
    "svs = np.concatenate(run['safety_violations'])"
   ]
  },
  {
   "cell_type": "code",
   "execution_count": 20,
   "id": "132dac69-c27a-4e12-8cf8-4532bad9a8f2",
   "metadata": {
    "tags": []
   },
   "outputs": [
    {
     "name": "stdout",
     "output_type": "stream",
     "text": [
      "Safety margin was violated 10.0% of the time\n"
     ]
    }
   ],
   "source": [
    "f = np.count_nonzero(svs) / len(svs)\n",
    "print(f'Safety margin was violated {f:.1%} of the time')"
   ]
  },
  {
   "cell_type": "markdown",
   "id": "712d4b9e-daf5-4a49-a4f4-b617a7c1d7dc",
   "metadata": {},
   "source": [
    "Most violation should be small. Let's check this by plotting their distribution."
   ]
  },
  {
   "cell_type": "code",
   "execution_count": 21,
   "id": "e65eee13-4ac0-4728-9c08-64d583de8d23",
   "metadata": {
    "tags": []
   },
   "outputs": [
    {
     "data": {
      "image/png": "[encoded data removed]",
      "text/plain": [
       "<Figure size 800x300 with 1 Axes>"
      ]
     },
     "metadata": {},
     "output_type": "display_data"
    }
   ],
   "source": [
    "plt.figure(figsize=(8, 3))\n",
    "plt.hist(svs, density=True, bins=np.linspace(1e-3, 0.25, 51))\n",
    "plt.xlabel('safety margin violation [m]')\n",
    "plt.ylabel('probability')\n",
    "plt.xlim(0, 0.25)\n",
    "plt.tick_params(left = False, labelleft = False);"
   ]
  },
  {
   "cell_type": "code",
   "execution_count": 22,
   "id": "07600170-7c0f-401e-8925-d93886897764",
   "metadata": {
    "tags": []
   },
   "outputs": [
    {
     "data": {
      "text/plain": [
       "0.17244763869047244"
      ]
     },
     "execution_count": 22,
     "metadata": {},
     "output_type": "execute_result"
    }
   ],
   "source": [
    "np.quantile(svs, 0.999)"
   ]
  },
  {
   "cell_type": "markdown",
   "id": "21066f7c-0f8e-45d8-a300-9f183999e9a3",
   "metadata": {
    "tags": []
   },
   "source": [
    "We have also stored logs from the event tasks."
   ]
  },
  {
   "cell_type": "code",
   "execution_count": 23,
   "id": "5d293d1f-f554-4d52-bec5-30048b84223c",
   "metadata": {
    "tags": []
   },
   "outputs": [],
   "source": [
    "ts = data['run_0']['task_events']"
   ]
  },
  {
   "cell_type": "code",
   "execution_count": 24,
   "id": "ff7656f1-3a4d-425e-a992-9c5e364c31ca",
   "metadata": {
    "tags": []
   },
   "outputs": [
    {
     "data": {
      "text/plain": [
       "<KeysViewHDF5 ['agent_0', 'agent_1', 'agent_2', 'agent_3', 'agent_4', 'agent_5', 'agent_6', 'agent_7', 'agent_8', 'agent_9']>"
      ]
     },
     "execution_count": 24,
     "metadata": {},
     "output_type": "execute_result"
    }
   ],
   "source": [
    "ts.keys()"
   ]
  },
  {
   "cell_type": "markdown",
   "id": "a23f2458-62ff-4895-b36f-2645e6a51cd8",
   "metadata": {},
   "source": [
    "For each agents, where [WaypointsTask](../reference/sim/python/tasks/waypoints.html#navground.sim.tasks.WaypointsTask.log_size) tells us when it started moving towards which waypoint as a list ``[time, target_x, target_y, target_theta]``."
   ]
  },
  {
   "cell_type": "code",
   "execution_count": 25,
   "id": "a2da459f-550f-48c1-a5e0-9cbb3b1c7fb2",
   "metadata": {
    "tags": []
   },
   "outputs": [
    {
     "data": {
      "text/plain": [
       "[[0.0, 1.0, 2.5, 0.0], [5.099997520446777, 1.0, -2.5, -0.0]]"
      ]
     },
     "execution_count": 25,
     "metadata": {},
     "output_type": "execute_result"
    }
   ],
   "source": [
    "task_events, *_ = ts.values()\n",
    "# time, x, y, theta\n",
    "np.asarray(task_events[:2]).tolist()"
   ]
  },
  {
   "cell_type": "markdown",
   "id": "c7c92e7d-4c53-48c4-a408-9be7462cd3ca",
   "metadata": {},
   "source": [
    "We collect the duration it took to reach a new waypoint, ignoring the first when agents started from radom positions.  "
   ]
  },
  {
   "cell_type": "code",
   "execution_count": 26,
   "id": "3015b992-bfa3-4ba0-b8d4-c1e1a05fd35c",
   "metadata": {
    "tags": []
   },
   "outputs": [
    {
     "name": "stdout",
     "output_type": "stream",
     "text": [
      "The time to reach a waypoint ranges betweeen 4.88 and 32.53 seconds,\n",
      "99% of the time lying between 4.90 and 16.52 seconds\n"
     ]
    }
   ],
   "source": [
    "dts = []\n",
    "\n",
    "for task in ts.values():\n",
    "    for (start, *_), (end, *_) in zip(task[1:], task[2:]):\n",
    "        duration = end - start\n",
    "        dts.append(duration)\n",
    "\n",
    "print(f'The time to reach a waypoint ranges betweeen {min(dts):.2f} and {max(dts):.2f} seconds,\\n'\n",
    "      '99% of the time lying between '\n",
    "      f'{np.quantile(dts, 0.005):.2f} and {np.quantile(dts, 0.995):.2f} seconds') "
   ]
  },
  {
   "cell_type": "code",
   "execution_count": 27,
   "id": "8c5bb0ff-7d65-4842-a037-85c306bbb7dc",
   "metadata": {},
   "outputs": [
    {
     "data": {
      "image/png": "[encoded data removed]",
      "text/plain": [
       "<Figure size 800x300 with 1 Axes>"
      ]
     },
     "metadata": {},
     "output_type": "display_data"
    }
   ],
   "source": [
    "plt.figure(figsize=(8, 3))\n",
    "plt.hist(dts, density=True, bins=np.arange(4.8, 12, 0.1))\n",
    "plt.xlabel('Time to reach waypoint [s]')\n",
    "plt.xlim(4.8, 12)\n",
    "plt.ylabel('probability')\n",
    "plt.tick_params(left = False, labelleft = False);"
   ]
  }
 ],
 "metadata": {
  "kernelspec": {
   "display_name": "Python 3 (ipykernel)",
   "language": "python",
   "name": "python3"
  },
  "language_info": {
   "codemirror_mode": {
    "name": "ipython",
    "version": 3
   },
   "file_extension": ".py",
   "mimetype": "text/x-python",
   "name": "python",
   "nbconvert_exporter": "python",
   "pygments_lexer": "ipython3",
   "version": "3.10.12"
  }
 },
 "nbformat": 4,
 "nbformat_minor": 5
}
