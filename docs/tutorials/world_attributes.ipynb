{
 "cells": [
  {
   "cell_type": "markdown",
   "id": "fa17e89b-480e-4642-8908-18c885131b72",
   "metadata": {},
   "source": [
    "# World attributes \n",
    "\n",
    "In this tutorial, we learn how to use world attributes to write a behavior modulation.\n",
    "Note that we could have used Python variables direcly, e.g.\n",
    "\n",
    "```python\n",
    "world.side_length = 1.0\n",
    "```\n",
    "\n",
    "instead of\n",
    "\n",
    "```python\n",
    "world.set(\"side_length\", 1.0)\n",
    "```\n",
    "\n",
    "with the same effect. Yet, using attribute allow us to \n",
    "\n",
    "1. save/restore them from YAML\n",
    "2. read/write them from C++.\n",
    "\n",
    "This way, we could move some the classes (e.g., the modulation, the state estimation and/or the scenario) to C++."
   ]
  },
  {
   "cell_type": "markdown",
   "id": "4b530cea-dd70-4685-ba4b-ffe55635e607",
   "metadata": {},
   "source": [
    "In this scenario, a robot moves on a checkboard. The parameters of the checkboard cells (size, number, and color) are exposed as properties.\n",
    "When initializing a world, the scenario write the same parameter (which may be sampled from some distribution) as attribute of the world."
   ]
  },
  {
   "cell_type": "code",
   "execution_count": 1,
   "id": "8c57b121-435a-41ee-9c52-959d100fd2cc",
   "metadata": {},
   "outputs": [],
   "source": [
    "from navground import sim, core\n",
    "\n",
    "class MyScenario(sim.Scenario, name=\"Checkboard\"):\n",
    "\n",
    "    def __init__(self, number_of_cells: int = 8, side_length: float = 1.0, \n",
    "                 color_1: tuple[float, float, float] = (0.25, 0.25, 0.25), \n",
    "                 color_2: tuple[float, float, float] = (0.75, 0.75, 0.75)):\n",
    "        super().__init__()\n",
    "        self._side_length = side_length\n",
    "        self._number_of_cells = number_of_cells\n",
    "        self._color_1 = color_1\n",
    "        self._color_2 = color_2\n",
    "\n",
    "    @property\n",
    "    @sim.register(1.0, \"Side length\")\n",
    "    def side_length(self) -> float:\n",
    "        return self._side_length\n",
    "\n",
    "    @side_length.setter\n",
    "    def side_length(self, value: float) -> None:\n",
    "        if value <= 0:\n",
    "            raise ValueError(\"Side length must be stricly positive\")\n",
    "        self._side_length = value\n",
    "\n",
    "    @property\n",
    "    @sim.register(8, \"# of cells\")\n",
    "    def number_of_cells(self) -> int:\n",
    "        return self._number_of_cells\n",
    "\n",
    "    @number_of_cells.setter\n",
    "    def number_of_cells(self, value: int) -> None:\n",
    "        self._number_of_cells = max(1, value)\n",
    "    \n",
    "    @property\n",
    "    @sim.register([0, 0, 0], \"First color\")\n",
    "    def color_1(self) -> list[float]:\n",
    "        return self._color_1\n",
    "\n",
    "    @color_1.setter\n",
    "    def color_1(self, value: list[float]) -> None:\n",
    "        if len(value) == 3:\n",
    "            self._color_1 = value\n",
    "\n",
    "    @property\n",
    "    @sim.register([0, 0, 0], \"First color\")\n",
    "    def color_2(self) -> list[float]:\n",
    "        return self._color_2\n",
    "\n",
    "    @color_2.setter\n",
    "    def color_2(self, value: list[float]) -> None:\n",
    "        if len(value) == 3:\n",
    "            self._color_2 = value\n",
    "    \n",
    "    def init_world(self, world: sim.World, seed: int | None = None) -> None:\n",
    "        super().init_world(world, seed=seed)\n",
    "        world.bounding_box = sim.BoundingBox(0, self.side_length * self.number_of_cells, \n",
    "                                             0, self.side_length * self.number_of_cells)\n",
    "        "
   ]
  },
  {
   "cell_type": "markdown",
   "id": "e6d5626a-1bf5-4f41-b3e7-7764044f754f",
   "metadata": {},
   "source": [
    "We read the world attributes to render the checkboard"
   ]
  },
  {
   "cell_type": "code",
   "execution_count": 2,
   "id": "fe099e82-0620-4771-bfa7-9457a4ff9a14",
   "metadata": {},
   "outputs": [],
   "source": [
    "from navground.sim.notebook import display_in_notebook    \n",
    "from navground.sim.ui.to_svg import svg_color  \n",
    "\n",
    "def checkboard(world: sim.World) -> str:\n",
    "    if not (world.has(\"side_length\") and world.has(\"side_length\") and world.has(\"side_length\")):\n",
    "        return ''\n",
    "    s = ''\n",
    "    l = world.get(\"side_length\")\n",
    "    n = world.get(\"number_of_cells\")\n",
    "    color_1 = svg_color(*world.get(\"color_1\"))\n",
    "    color_2 = svg_color(*world.get(\"color_2\"))\n",
    "    for i in range(n):\n",
    "        for j in range(n):\n",
    "            color = color_1 if (i + j) % 2 else color_2\n",
    "            s += f'<rect x=\"{i * l}\" y=\"{j * l}\" width=\"{l}\" height=\"{l}\" fill=\"{color}\" />'\n",
    "    return s\n",
    "\n",
    "   "
   ]
  },
  {
   "cell_type": "code",
   "execution_count": 3,
   "id": "853664ad-8931-497f-9d08-228acac147dd",
   "metadata": {},
   "outputs": [
    {
     "data": {
      "image/svg+xml": [
       "<svg xmlns=\"http://www.w3.org/2000/svg\" xmlns:xlink=\"http://www.w3.org/1999/xlink\" id=\"svg\" version=\"1.1\" width=\"600\" height=\"600\" viewBox=\"-0.0500 -1.0500 1.1000 1.1000\">\n",
       "<defs>\n",
       "  <g id=\"agent\">\n",
       "   <circle class=\"body\" cx=\"0\" cy=\"0\" r=\"1\"/>\n",
       "   <circle opacity=\"0.5\" stroke=\"none\" fill=\"black\" cx=\"0.75\" cy=\"0\" r=\"0.25\"/>\n",
       "  </g>\n",
       "  <g id=\"robomaster_ep\">\n",
       "    <path class=\"body\" d=\"m -0.82233223,0.24 c -0.0391148,-0.15514519 -0.0391148,-0.32485481 0,-0.48 0.0120317,-0.0477227 0.07,-0.13 0.07,-0.13 h 0.45 l 0.09,-0.11 h 0.42 l 0.09,0.11 h 0.45 c 0,0 0.16467536,0.14929718 0.2,0.25 0.0264806,0.07549027 0.0264806,0.16450973 0,0.24 -0.0353246,0.10070282 -0.2,0.25 -0.2,0.25 h -0.45 l -0.09,0.11 h -0.42 l -0.09,-0.11 h -0.45 c 0,0 -0.0579683,-0.0822773 -0.07,-0.13 z\"/>\n",
       "    <rect class=\"wheel\" height=\"0.22774614\" rx=\"0.073571824\" ry=\"0.073361315\" style=\"fill:#121212;fill-opacity:1;stroke:none;stroke-width:0.00979554;stroke-dasharray:none;stroke-opacity:1\" transform=\"scale(-1,1)\" width=\"0.53466278\" x=\"0.2324958\" y=\"-0.61387306\"/>\n",
       "    <rect class=\"wheel\" height=\"0.22774614\" rx=\"0.073571824\" ry=\"0.073361315\" style=\"fill:#121212;stroke:none\" width=\"0.53466278\" x=\"0.23283984\" y=\"-0.61387306\"/>\n",
       "    <rect class=\"wheel\" height=\"0.22774614\" rx=\"0.073571824\" ry=\"0.073361315\" style=\"fill:#121212;stroke:none\" width=\"0.53466278\" x=\"0.23283984\" y=\"0.38612694\"/>\n",
       "    <rect class=\"wheel\" height=\"0.22774614\" rx=\"0.073571824\" ry=\"0.073361315\" style=\"fill:#121212;stroke:none\" width=\"0.53466278\" x=\"-0.76715857\" y=\"0.38612694\"/>\n",
       "    <rect class=\"motor\" height=\"0.12521972\" style=\"fill:#2a2a2a;stroke:none\" width=\"0.22443947\" x=\"-0.093881205\" y=\"0.15738994\"/>\n",
       "    <rect class=\"motor\" height=\"0.12521972\" style=\"fill:#2a2a2a;stroke:none\" width=\"0.22443947\" x=\"-0.093881205\" y=\"-0.28260982\"/>\n",
       "    <path class=\"arm\" d=\"m 1.0576703,-0.39000203 -0.23000152,0.0700009 -0.0300033,0.1699999 H -0.14233403 V 0.1500012 H 0.79766546 L 0.82766878,0.3200011 1.0576703,0.390002 1.2276702,0.3200011 1.2576684,0.2599996 H 1.0518308 L 0.93766725,0.1199978 V -0.1199978 L 1.0624503,-0.2599996 h 0.1952181 l -0.029998,-0.0600015 z m -0.00814,0.0597017 -0.13185764,0.1502648 -0.052064,-0.0813749 z m -0.75185597,0.2503 H 0.54478682 V 0.0800003 H 0.29767013 Z M 0.91766846,0.1841076 1.0495261,0.3343724 0.86560445,0.2654825 Z\" style=\"fill:#2a2a2a;stroke:none\"/>\n",
       "  </g>\n",
       "  <g id=\"quadrotor\">\n",
       "    <path class=\"camera\" style=\"stroke:none;fill:#808080\" d=\"M 0.25,0 0.75,0.25 0.75,-0.25 Z\"/>\n",
       "    <g class=\"body\">\n",
       "      <path d=\"M 0.06999986,0.07032032 0.49632602,-0.4605096 0.45935482,-0.492153 -0.07000004,-0.06968042 Z\"/>\n",
       "      <path d=\"m -0.07000006,0.07032032 -0.42632616,-0.53082992 0.0369712,-0.0316434 0.52935486,0.42247258 z\"/>\n",
       "      <path d=\"M 0.06999986,-0.07096132 0.49632602,0.4598686 0.45935482,0.4915121 -0.07000004,0.06903952 Z\"/>\n",
       "      <path d=\"M -0.07000006,-0.07096132 -0.49632622,0.4598686 -0.45935502,0.491512 0.06999984,0.06903942 Z\"/>\n",
       "      <circle cx=\"0\" cy=\"0\" r=\"0.35\"/>\n",
       "    </g>\n",
       "    <g class=\"prop\">\n",
       "      <ellipse style=\"fill:#0d0d0d;stroke:none;\" cx=\"0.69928879\" cy=\"-0.14274563\" rx=\"0.024324713\" ry=\"0.11011158\" transform=\"rotate(-45)\"/>\n",
       "      <ellipse style=\"fill:#0d0d0d;stroke:none;\" cx=\"0.69928879\" cy=\"0.14367317\" rx=\"0.024324713\" ry=\"0.11011158\" transform=\"rotate(-45)\"/>\n",
       "      <ellipse style=\"fill:none;stroke:#000000;stroke-width:0.0392596\" cx=\"0.49399981\" cy=\"-0.49447966\" rx=\"0.28037018\" ry=\"0.28037015\"/>\n",
       "      <ellipse style=\"fill:none;stroke:#000000;stroke-width:0.0574358\" cx=\"0.49399981\" cy=\"-0.49447966\" rx=\"0.051282048\" ry=\"0.051282078\"/>\n",
       "    </g>\n",
       "    <g class=\"prop\">\n",
       "      <ellipse style=\"fill:#0d0d0d;stroke:none;\" cx=\"0.69928879\" cy=\"-0.14274563\" rx=\"0.024324713\" ry=\"0.11011158\" transform=\"matrix(-0.70710678,-0.70710678,-0.70710678,0.70710678,0,0)\"/>\n",
       "      <ellipse style=\"fill:#0d0d0d;stroke:none;\" cx=\"0.69928879\" cy=\"0.14367317\" rx=\"0.024324713\" ry=\"0.11011158\" transform=\"matrix(-0.70710678,-0.70710678,-0.70710678,0.70710678,0,0)\"/>\n",
       "      <ellipse style=\"fill:none;stroke:#000000;stroke-width:0.0392596\" cx=\"0.49399981\" cy=\"-0.49447966\" rx=\"0.28037018\" ry=\"0.28037015\" transform=\"scale(-1,1)\"/>\n",
       "      <ellipse style=\"fill:none;stroke:#000000;stroke-width:0.0574358\" cx=\"0.49399981\" cy=\"-0.49447966\" rx=\"0.051282048\" ry=\"0.051282078\" transform=\"scale(-1,1)\"/>\n",
       "    </g>\n",
       "    <g class=\"prop\">\n",
       "      <ellipse style=\"fill:#0d0d0d;stroke:none;\" cx=\"0.69928879\" cy=\"-0.14274563\" rx=\"0.024324713\" ry=\"0.11011158\" transform=\"matrix(0.70710678,0.70710678,0.70710678,-0.70710678,0,0)\"/>\n",
       "      <ellipse style=\"fill:#0d0d0d;stroke:none;\" cx=\"0.69928879\" cy=\"0.14367317\" rx=\"0.024324713\" ry=\"0.11011158\" transform=\"matrix(0.70710678,0.70710678,0.70710678,-0.70710678,0,0)\"/>\n",
       "      <ellipse style=\"fill:none;stroke:#000000;stroke-width:0.0392596\" cx=\"0.49399981\" cy=\"-0.49447966\" rx=\"0.28037018\" ry=\"0.28037015\" transform=\"scale(1,-1)\"/>\n",
       "      <ellipse style=\"fill:none;stroke:#000000;stroke-width:0.0574358\" cx=\"0.49399981\" cy=\"-0.49447966\" rx=\"0.051282048\" ry=\"0.051282078\" transform=\"scale(1,-1)\"/>\n",
       "    </g>\n",
       "    <g class=\"prop\">\n",
       "      <ellipse style=\"fill:#0d0d0d;stroke:none;\" cx=\"0.69928879\" cy=\"-0.14274563\" rx=\"0.024324713\" ry=\"0.11011158\" transform=\"rotate(135)\"/>\n",
       "      <ellipse style=\"fill:#0d0d0d;stroke:none;\" cx=\"0.69928879\" cy=\"0.14367317\" rx=\"0.024324713\" ry=\"0.11011158\" transform=\"rotate(135)\"/>\n",
       "      <ellipse style=\"fill:none;stroke:#000000;stroke-width:0.0392596\" cx=\"0.49399981\" cy=\"-0.49447966\" rx=\"0.28037018\" ry=\"0.28037015\" transform=\"scale(-1)\"/>\n",
       "      <ellipse style=\"fill:none;stroke:#000000;stroke-width:0.0574358\" cx=\"0.49399981\" cy=\"-0.49447966\" rx=\"0.051282048\" ry=\"0.051282078\" transform=\"scale(-1)\"/>\n",
       "    </g>\n",
       "  </g>\n",
       "  <g id=\"thymio\" transform=\"rotate(90)\">\n",
       "      <path class=\"body\" d=\"M -0.6874903375 -0.7257309 L -0.6874903375 0.3749771125 L 0.6874903375 0.3749771125 L 0.6874903375 -0.726118475 A 1 1 0 0 0 0 -1 A 1 1 0 0 0 -0.6874903375 -0.7257309 z \"/>\n",
       "      <rect style=\"fill:#333333;stroke:none\" width=\"0.1875\" height=\"0.525\" x=\"-0.675\" y=\"-0.2625\" rx=\"0.0625\"/>\n",
       "      <rect style=\"fill:#333333;stroke:none\" width=\"0.1875\" height=\"0.525\" x=\"0.4875\" y=\"-0.2625\" rx=\"0.0625\"/>\n",
       "  </g>\n",
       "  <g id=\"wheelchair\" transform=\"rotate(180) translate(-1.1,-3.46)\">\n",
       "    <path stroke=\"none\" style=\"fill:#c8beb7\" d=\"m 0.9612298,3.7966354 h -0.7778 v -0.6666 h 0.7778 z\"/>\n",
       "    <path stroke=\"none\" style=\"fill:#080808;\" d=\"m 1.62765948,2.970532 v -0.0823436 -0.084297 H 1.0722298 v 0.166640 z\"/>\n",
       "    <path stroke=\"none\" style=\"fill:#080808;\" d=\"m 1.62765948,4.081332 v -0.0823436 -0.084297 H1.0722298 v 0.1666406 z\"/>\n",
       "    <path class=\"body\" d=\"m 1.84994464,3.9982804 h -1 v -1.1112 h 1 z\"/>\n",
       "    <path stroke=\"none\" style=\"fill:#917c6f;opacity:0.75;stroke:none\" d=\"m 1.84994464,3.9982664 v -0.0554296 -1.0557422 h -0.11117186 v 1.1111718 z\"/>\n",
       "  </g>\n",
       "  <g id=\"human\" transform=\"rotate(180) translate(-1,-3.5)\">\n",
       "    <g class=\"body\">\n",
       "    <ellipse cx=\"0.80312774\" cy=\"2.6959574\" rx=\"0.46378762\" ry=\"0.1392307\"/>\n",
       "    <ellipse cx=\"0.80312774\" cy=\"4.2229708\" rx=\"0.46378762\" ry=\"0.1392307\"/>\n",
       "    <ellipse cx=\"1.08757424\" cy=\"3.4594642\" rx=\"0.39526176\" ry=\"0.86793068\"/>\n",
       "    </g>\n",
       "    <ellipse style=\"fill:#1a1a1a;opacity:0.5;stroke:none\" cx=\"1.08757424\" cy=\"3.458025\" rx=\"0.3257516\" ry=\"0.33270264\"/>\n",
       "  </g>\n",
       "</defs>\n",
       "<style>\n",
       "<![CDATA[\n",
       "\n",
       "/*svg{\n",
       "  style=stroke-width: 0px;\n",
       "}\n",
       "*/\n",
       "circle.obstacle{\n",
       "  fill: gray; \n",
       "  stroke:none;\n",
       "}\n",
       "polyline.wall{\n",
       "  stroke:black;\n",
       "  stroke-width:0.01;\n",
       "}\n",
       "\n",
       ".shape {\n",
       "  fill: none;\n",
       "  stroke: black;\n",
       "  stroke-width: 0.01;\n",
       "  stroke-dasharray: 0.01;\n",
       "}\n",
       "\n",
       ".quadrotor {\n",
       "  fill: #A0A0A0;\n",
       "  stroke: none;\n",
       "  stroke-width: 0.05;\n",
       "}\n",
       "\n",
       "\n",
       ".robomaster_ep {\n",
       "  fill: #121212;\n",
       "  stroke: none;\n",
       "  stroke-width: 0.05;\n",
       "}\n",
       "\n",
       "\n",
       ".thymio {\n",
       "  fill: #e6e6e6;\n",
       "  stroke: none;\n",
       "  stroke-width: 0.05;\n",
       "}\n",
       "\n",
       ".human {\n",
       "  fill: #666666;\n",
       "  stroke: none;\n",
       "  stroke-width: 0.05;\n",
       "}\n",
       "\n",
       ".agent {\n",
       "  fill: gray;\n",
       "  stroke: none;\n",
       "  stroke-width: 0.05;\n",
       "}\n",
       "\n",
       ".wheelchair {\n",
       "  fill: #483e37;\n",
       "  stroke: none;\n",
       "  stroke-width: 0.05;\n",
       "}\n",
       "\n",
       "/*.body {\n",
       "    all: inherit;\n",
       "}\n",
       "*/\n",
       "\n",
       "\n",
       "\n",
       "\n",
       "\n",
       "svg {\n",
       "   background-color: snow;\n",
       "}\n",
       "\n",
       ".grid {\n",
       "  stroke: ;\n",
       "  stroke-width: ;\n",
       "}\n",
       "]]>\n",
       "</style>\n",
       "\n",
       "<g id=\"world\" transform=\"scale(1, -1) \">\n",
       "\n",
       "\n",
       "\n",
       "<rect x=\"0.0\" y=\"0.0\" width=\"0.125\" height=\"0.125\" fill=\"#bfbfbf\"/><rect x=\"0.0\" y=\"0.125\" width=\"0.125\" height=\"0.125\" fill=\"#3f001f\"/><rect x=\"0.0\" y=\"0.25\" width=\"0.125\" height=\"0.125\" fill=\"#bfbfbf\"/><rect x=\"0.0\" y=\"0.375\" width=\"0.125\" height=\"0.125\" fill=\"#3f001f\"/><rect x=\"0.0\" y=\"0.5\" width=\"0.125\" height=\"0.125\" fill=\"#bfbfbf\"/><rect x=\"0.0\" y=\"0.625\" width=\"0.125\" height=\"0.125\" fill=\"#3f001f\"/><rect x=\"0.0\" y=\"0.75\" width=\"0.125\" height=\"0.125\" fill=\"#bfbfbf\"/><rect x=\"0.0\" y=\"0.875\" width=\"0.125\" height=\"0.125\" fill=\"#3f001f\"/><rect x=\"0.125\" y=\"0.0\" width=\"0.125\" height=\"0.125\" fill=\"#3f001f\"/><rect x=\"0.125\" y=\"0.125\" width=\"0.125\" height=\"0.125\" fill=\"#bfbfbf\"/><rect x=\"0.125\" y=\"0.25\" width=\"0.125\" height=\"0.125\" fill=\"#3f001f\"/><rect x=\"0.125\" y=\"0.375\" width=\"0.125\" height=\"0.125\" fill=\"#bfbfbf\"/><rect x=\"0.125\" y=\"0.5\" width=\"0.125\" height=\"0.125\" fill=\"#3f001f\"/><rect x=\"0.125\" y=\"0.625\" width=\"0.125\" height=\"0.125\" fill=\"#bfbfbf\"/><rect x=\"0.125\" y=\"0.75\" width=\"0.125\" height=\"0.125\" fill=\"#3f001f\"/><rect x=\"0.125\" y=\"0.875\" width=\"0.125\" height=\"0.125\" fill=\"#bfbfbf\"/><rect x=\"0.25\" y=\"0.0\" width=\"0.125\" height=\"0.125\" fill=\"#bfbfbf\"/><rect x=\"0.25\" y=\"0.125\" width=\"0.125\" height=\"0.125\" fill=\"#3f001f\"/><rect x=\"0.25\" y=\"0.25\" width=\"0.125\" height=\"0.125\" fill=\"#bfbfbf\"/><rect x=\"0.25\" y=\"0.375\" width=\"0.125\" height=\"0.125\" fill=\"#3f001f\"/><rect x=\"0.25\" y=\"0.5\" width=\"0.125\" height=\"0.125\" fill=\"#bfbfbf\"/><rect x=\"0.25\" y=\"0.625\" width=\"0.125\" height=\"0.125\" fill=\"#3f001f\"/><rect x=\"0.25\" y=\"0.75\" width=\"0.125\" height=\"0.125\" fill=\"#bfbfbf\"/><rect x=\"0.25\" y=\"0.875\" width=\"0.125\" height=\"0.125\" fill=\"#3f001f\"/><rect x=\"0.375\" y=\"0.0\" width=\"0.125\" height=\"0.125\" fill=\"#3f001f\"/><rect x=\"0.375\" y=\"0.125\" width=\"0.125\" height=\"0.125\" fill=\"#bfbfbf\"/><rect x=\"0.375\" y=\"0.25\" width=\"0.125\" height=\"0.125\" fill=\"#3f001f\"/><rect x=\"0.375\" y=\"0.375\" width=\"0.125\" height=\"0.125\" fill=\"#bfbfbf\"/><rect x=\"0.375\" y=\"0.5\" width=\"0.125\" height=\"0.125\" fill=\"#3f001f\"/><rect x=\"0.375\" y=\"0.625\" width=\"0.125\" height=\"0.125\" fill=\"#bfbfbf\"/><rect x=\"0.375\" y=\"0.75\" width=\"0.125\" height=\"0.125\" fill=\"#3f001f\"/><rect x=\"0.375\" y=\"0.875\" width=\"0.125\" height=\"0.125\" fill=\"#bfbfbf\"/><rect x=\"0.5\" y=\"0.0\" width=\"0.125\" height=\"0.125\" fill=\"#bfbfbf\"/><rect x=\"0.5\" y=\"0.125\" width=\"0.125\" height=\"0.125\" fill=\"#3f001f\"/><rect x=\"0.5\" y=\"0.25\" width=\"0.125\" height=\"0.125\" fill=\"#bfbfbf\"/><rect x=\"0.5\" y=\"0.375\" width=\"0.125\" height=\"0.125\" fill=\"#3f001f\"/><rect x=\"0.5\" y=\"0.5\" width=\"0.125\" height=\"0.125\" fill=\"#bfbfbf\"/><rect x=\"0.5\" y=\"0.625\" width=\"0.125\" height=\"0.125\" fill=\"#3f001f\"/><rect x=\"0.5\" y=\"0.75\" width=\"0.125\" height=\"0.125\" fill=\"#bfbfbf\"/><rect x=\"0.5\" y=\"0.875\" width=\"0.125\" height=\"0.125\" fill=\"#3f001f\"/><rect x=\"0.625\" y=\"0.0\" width=\"0.125\" height=\"0.125\" fill=\"#3f001f\"/><rect x=\"0.625\" y=\"0.125\" width=\"0.125\" height=\"0.125\" fill=\"#bfbfbf\"/><rect x=\"0.625\" y=\"0.25\" width=\"0.125\" height=\"0.125\" fill=\"#3f001f\"/><rect x=\"0.625\" y=\"0.375\" width=\"0.125\" height=\"0.125\" fill=\"#bfbfbf\"/><rect x=\"0.625\" y=\"0.5\" width=\"0.125\" height=\"0.125\" fill=\"#3f001f\"/><rect x=\"0.625\" y=\"0.625\" width=\"0.125\" height=\"0.125\" fill=\"#bfbfbf\"/><rect x=\"0.625\" y=\"0.75\" width=\"0.125\" height=\"0.125\" fill=\"#3f001f\"/><rect x=\"0.625\" y=\"0.875\" width=\"0.125\" height=\"0.125\" fill=\"#bfbfbf\"/><rect x=\"0.75\" y=\"0.0\" width=\"0.125\" height=\"0.125\" fill=\"#bfbfbf\"/><rect x=\"0.75\" y=\"0.125\" width=\"0.125\" height=\"0.125\" fill=\"#3f001f\"/><rect x=\"0.75\" y=\"0.25\" width=\"0.125\" height=\"0.125\" fill=\"#bfbfbf\"/><rect x=\"0.75\" y=\"0.375\" width=\"0.125\" height=\"0.125\" fill=\"#3f001f\"/><rect x=\"0.75\" y=\"0.5\" width=\"0.125\" height=\"0.125\" fill=\"#bfbfbf\"/><rect x=\"0.75\" y=\"0.625\" width=\"0.125\" height=\"0.125\" fill=\"#3f001f\"/><rect x=\"0.75\" y=\"0.75\" width=\"0.125\" height=\"0.125\" fill=\"#bfbfbf\"/><rect x=\"0.75\" y=\"0.875\" width=\"0.125\" height=\"0.125\" fill=\"#3f001f\"/><rect x=\"0.875\" y=\"0.0\" width=\"0.125\" height=\"0.125\" fill=\"#3f001f\"/><rect x=\"0.875\" y=\"0.125\" width=\"0.125\" height=\"0.125\" fill=\"#bfbfbf\"/><rect x=\"0.875\" y=\"0.25\" width=\"0.125\" height=\"0.125\" fill=\"#3f001f\"/><rect x=\"0.875\" y=\"0.375\" width=\"0.125\" height=\"0.125\" fill=\"#bfbfbf\"/><rect x=\"0.875\" y=\"0.5\" width=\"0.125\" height=\"0.125\" fill=\"#3f001f\"/><rect x=\"0.875\" y=\"0.625\" width=\"0.125\" height=\"0.125\" fill=\"#bfbfbf\"/><rect x=\"0.875\" y=\"0.75\" width=\"0.125\" height=\"0.125\" fill=\"#3f001f\"/><rect x=\"0.875\" y=\"0.875\" width=\"0.125\" height=\"0.125\" fill=\"#bfbfbf\"/>\n",
       "\n",
       "<g id=\"0\" class=\"thymio\" style=\"fill:gold\" transform=\"translate(0.5, 0.6000000238418579) rotate(11.459)\"><use xlink:href=\"#thymio\" transform=\"scale(0.1, 0.1)\"/></g>\n",
       "\n",
       "\n",
       "\n",
       "</g>\n",
       "</svg>"
      ],
      "text/plain": [
       "<IPython.core.display.SVG object>"
      ]
     },
     "execution_count": 3,
     "metadata": {},
     "output_type": "execute_result"
    }
   ],
   "source": [
    "scenario = MyScenario(side_length=0.125, color_1=(0.25, 0.0, 0.125))\n",
    "world = scenario.make_world(seed=0)\n",
    "# This copies all scenario properties as world attributes\n",
    "scenario.set_attributes(world)\n",
    "# We could have done it manually using\n",
    "# for k in scenario.properties:\n",
    "#     world.set(k, scenario.get(k))\n",
    "robot = sim.Agent()\n",
    "robot.type = 'thymio'\n",
    "robot.radius = 0.1\n",
    "robot.color = 'gold'\n",
    "robot.pose = core.Pose2((0.5, 0.6), 0.2)\n",
    "world.add_agent(robot)\n",
    "display_in_notebook(world, background_extras=[checkboard])"
   ]
  },
  {
   "cell_type": "markdown",
   "id": "ddcd7737-b78e-4357-a512-11bb465372d5",
   "metadata": {},
   "source": [
    "Attributes are also included in the YAML representation"
   ]
  },
  {
   "cell_type": "code",
   "execution_count": 4,
   "id": "42438e7d-7ac2-455c-a677-bce24a699cec",
   "metadata": {},
   "outputs": [
    {
     "name": "stdout",
     "output_type": "stream",
     "text": [
      "obstacles:\n",
      "  []\n",
      "walls:\n",
      "  []\n",
      "agents:\n",
      "  - position:\n",
      "      - 0.5\n",
      "      - 0.600000024\n",
      "    orientation: 0.200000003\n",
      "    velocity:\n",
      "      - 0\n",
      "      - 0\n",
      "    angular_speed: 0\n",
      "    radius: 0.100000001\n",
      "    control_period: 0\n",
      "    speed_tolerance: 0.00999999978\n",
      "    angular_speed_tolerance: 0.00999999978\n",
      "    type: thymio\n",
      "    color: gold\n",
      "    id: 0\n",
      "    uid: 0\n",
      "bounding_box:\n",
      "  min_x: 0\n",
      "  min_y: 0\n",
      "  max_x: 1\n",
      "  max_y: 1\n",
      "attributes:\n",
      "  color_1:\n",
      "    value:\n",
      "      - 0.25\n",
      "      - 0\n",
      "      - 0.125\n",
      "    type: \"[float]\"\n",
      "  color_2:\n",
      "    value:\n",
      "      - 0.75\n",
      "      - 0.75\n",
      "      - 0.75\n",
      "    type: \"[float]\"\n",
      "  number_of_cells:\n",
      "    value: 8\n",
      "    type: int\n",
      "  side_length:\n",
      "    value: 0.125\n",
      "    type: float\n"
     ]
    }
   ],
   "source": [
    "yaml = world.dump()\n",
    "print(yaml)"
   ]
  },
  {
   "cell_type": "markdown",
   "id": "8425ce49-0714-4012-be87-a276af8800eb",
   "metadata": {},
   "source": [
    "and therefore loaded/copied:"
   ]
  },
  {
   "cell_type": "code",
   "execution_count": 5,
   "id": "22bd162c-82cc-4ac6-b4d8-ca5b2e4b3f5d",
   "metadata": {},
   "outputs": [
    {
     "name": "stdout",
     "output_type": "stream",
     "text": [
      "Original world attributes:\n",
      "{'color_1': [0.25, 0.0, 0.125], 'color_2': [0.75, 0.75, 0.75], 'number_of_cells': 8, 'side_length': 0.125}\n",
      "\n",
      "Copied world attributes:\n",
      "{'color_1': [0.25, 0.0, 0.125], 'color_2': [0.75, 0.75, 0.75], 'number_of_cells': 8, 'side_length': 0.125}\n",
      "\n",
      "Loaded world attributes:\n",
      "{'color_1': [0.25, 0.0, 0.125], 'color_2': [0.75, 0.75, 0.75], 'number_of_cells': 8, 'side_length': 0.125}\n",
      "\n"
     ]
    }
   ],
   "source": [
    "import copy\n",
    "\n",
    "print(f'Original world attributes:\\n{world.attributes}\\n')\n",
    "\n",
    "world1 = copy.copy(world)\n",
    "print(f'Copied world attributes:\\n{world1.attributes}\\n')\n",
    "\n",
    "world2 = sim.World.load(yaml)\n",
    "print(f'Loaded world attributes:\\n{world2.attributes}\\n')"
   ]
  },
  {
   "cell_type": "markdown",
   "id": "3debe4c9-4fec-442f-92cc-f68ffaaeefa6",
   "metadata": {},
   "source": [
    "We use the same world attributes to define a sensor that reads the color below the robot"
   ]
  },
  {
   "cell_type": "code",
   "execution_count": 6,
   "id": "32f05ad1-1f63-4684-9a21-2e2ab070b68a",
   "metadata": {},
   "outputs": [],
   "source": [
    "import math \n",
    "\n",
    "def checkboard_color_at(position, number_of_cells, side_length, color_1, color_2):\n",
    "    if position[0] > number_of_cells * side_length or position[0] < 0:\n",
    "        return (0, 0, 0)\n",
    "    if position[1] > number_of_cells * side_length or position[1] < 0:\n",
    "        return (0, 0, 0)  \n",
    "    i = math.floor(position[0] / side_length)\n",
    "    j = math.floor(position[1] / side_length)\n",
    "    if (i + j) % 2:\n",
    "        return color_1\n",
    "    return color_2\n",
    "\n",
    "class FloorSensor(sim.Sensor, name=\"FloorColor\"):\n",
    "    \n",
    "    def update(self, agent: sim.Agent, world: sim.World,\n",
    "               state: core.EnvironmentState) -> None:\n",
    "        if not isinstance(state, core.SensingState):\n",
    "            return\n",
    "        color = checkboard_color_at(agent.position, world.get(\"number_of_cells\"), world.get(\"side_length\"), \n",
    "                                    world.get(\"color_1\"), world.get(\"color_2\"))\n",
    "        state.get_buffer(f'{self.name}/color').data = np.asarray(color)\n",
    "        \n",
    "    def get_description(self) -> dict[str, core.BufferDescription]:\n",
    "        desc = core.BufferDescription([3], float, 0.0, 1.0)\n",
    "        return {f'{self.name}/color': desc}"
   ]
  },
  {
   "cell_type": "markdown",
   "id": "d4752709-2310-4120-a61f-921a6864744e",
   "metadata": {},
   "source": [
    "To test the whole, we define a modulation that slows down the robot when on a dark spot. "
   ]
  },
  {
   "cell_type": "code",
   "execution_count": 7,
   "id": "84e5284c-f0a4-404a-afab-a2bbc95ed9c6",
   "metadata": {},
   "outputs": [],
   "source": [
    "import numpy as np\n",
    "\n",
    "class SlowDownOnBlackModulation(core.BehaviorModulation, name=\"SlowDownOnDark\"):\n",
    "\n",
    "    def pre(self, behavior: core.Behavior, time_step: float):\n",
    "        color = behavior.environment_state.buffers['/color'].data\n",
    "        intensity = np.mean(color)\n",
    "        self._optimal_speed = behavior.optimal_speed\n",
    "        behavior.optimal_speed = intensity * behavior.optimal_speed\n",
    "\n",
    "    def post(self, behavior: core.Behavior, time_step: float, cmd: core.Twist2) -> core.Twist2:\n",
    "        behavior.optimal_speed = self._optimal_speed\n",
    "        return cmd"
   ]
  },
  {
   "cell_type": "markdown",
   "id": "a233ea5b-3f10-484f-8d9f-8359a4308e4b",
   "metadata": {},
   "source": [
    "Let us run it once"
   ]
  },
  {
   "cell_type": "code",
   "execution_count": 8,
   "id": "83cb73e5-5180-4be1-8109-14e690d1a88c",
   "metadata": {},
   "outputs": [],
   "source": [
    "scenario = sim.load_scenario(\"\"\"\n",
    "type: Checkboard\n",
    "side_length:\n",
    "  sampler: uniform\n",
    "  from: 0.25\n",
    "  to: 1.0\n",
    "number_of_cells: 10\n",
    "number: 100\n",
    "color: [0.2, 0.4, 0.3]\n",
    "color: [0.6, 0.7, 0.8]\n",
    "groups:\n",
    "  - number: 1\n",
    "    type: thymio\n",
    "    color: gold\n",
    "    radius: 0.1\n",
    "    position: [1.13, 0.71]\n",
    "    kinematics:\n",
    "      type: 2WDiff\n",
    "      max_speed: 0.14\n",
    "      wheel_axis: 0.09\n",
    "    behavior:\n",
    "      type: Dummy\n",
    "      environment: Sensing\n",
    "      modulations:\n",
    "        - type: SlowDownOnDark\n",
    "    state_estimation:\n",
    "      type: FloorColor\n",
    "      name: floor\n",
    "    task:\n",
    "      type: Waypoints\n",
    "      waypoints: [[0.75, 1.5], [5.3, 2.2], [1.5, 4.9]]\n",
    "      tolerance: 0.02\n",
    "\"\"\")"
   ]
  },
  {
   "cell_type": "code",
   "execution_count": 9,
   "id": "973f13a6-5dbf-4e03-b094-e60f916aadad",
   "metadata": {},
   "outputs": [
    {
     "data": {
      "text/html": [
       "<div align=middle><video width='640'src='data:video/mp4;base64,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' controls>Sorry, seems like your browser doesn't support HTML5 audio/video</video></div>"
      ],
      "text/plain": [
       "<moviepy.video.io.display_in_notebook.HTML2 object>"
      ]
     },
     "execution_count": 9,
     "metadata": {},
     "output_type": "execute_result"
    }
   ],
   "source": [
    "from navground.sim.ui.video import display_video\n",
    "\n",
    "world = scenario.make_world()\n",
    "scenario.set_attributes(world)\n",
    "display_video(world, time_step=0.1, duration=120, factor=20, \n",
    "              background_extras=[checkboard]\n",
    "              )"
   ]
  },
  {
   "cell_type": "markdown",
   "id": "d5cd1d46-262c-4ee1-9cbf-78caca81640f",
   "metadata": {},
   "source": [
    "Finally, we perform some experiments, sampling the cell size uniformly."
   ]
  },
  {
   "cell_type": "code",
   "execution_count": 10,
   "id": "5090d6b0-2351-4e8c-b319-ea1e895f246d",
   "metadata": {},
   "outputs": [],
   "source": [
    "experiment = sim.Experiment(time_step=0.1, steps=100)\n",
    "experiment.scenario = scenario\n",
    "experiment.record_config.efficacy = True\n",
    "experiment.run(number_of_runs=1000)"
   ]
  },
  {
   "cell_type": "markdown",
   "id": "8c86d44d-f19a-43bb-89c7-91024f4c078e",
   "metadata": {},
   "source": [
    "The sampled checkboard configuration are included in the initial state of the world saved by the experiment, and also accessible through the API."
   ]
  },
  {
   "cell_type": "code",
   "execution_count": 11,
   "id": "dbf08c2b-85ca-4e9e-85a4-9542bda537fb",
   "metadata": {},
   "outputs": [
    {
     "data": {
      "text/plain": [
       "{'color_1': [0.25, 0.25, 0.25],\n",
       " 'color_2': [0.75, 0.75, 0.75],\n",
       " 'number_of_cells': 10,\n",
       " 'side_length': 0.620951235294342}"
      ]
     },
     "execution_count": 11,
     "metadata": {},
     "output_type": "execute_result"
    }
   ],
   "source": [
    "experiment.runs[50].world.attributes"
   ]
  },
  {
   "cell_type": "markdown",
   "id": "16fef3d1-1258-4532-a012-3b71956ef653",
   "metadata": {},
   "source": [
    "which we can use to compute the (not very interesting) correlation between cell size and mean efficacy"
   ]
  },
  {
   "cell_type": "code",
   "execution_count": 12,
   "id": "ed87b6da-5028-47cb-9e6f-e778ab4e9c68",
   "metadata": {},
   "outputs": [
    {
     "data": {
      "image/png": "[encoded data removed]",
      "text/plain": [
       "<Figure size 640x480 with 1 Axes>"
      ]
     },
     "metadata": {},
     "output_type": "display_data"
    }
   ],
   "source": [
    "from matplotlib import pyplot as plt\n",
    "\n",
    "sizes = [run.world.get('side_length') for run in experiment.runs.values()]\n",
    "efficacy = [np.mean(run.efficacy) for run in experiment.runs.values()]\n",
    "plt.plot(sizes, efficacy, '.')\n",
    "plt.xlabel('cell size [m]')\n",
    "plt.ylabel('mean efficacy');"
   ]
  },
  {
   "cell_type": "code",
   "execution_count": null,
   "id": "0c36fbdb-40c1-4465-9a65-d207c82fab72",
   "metadata": {},
   "outputs": [],
   "source": []
  }
 ],
 "metadata": {
  "kernelspec": {
   "display_name": "Python 3 (ipykernel)",
   "language": "python",
   "name": "python3"
  },
  "language_info": {
   "codemirror_mode": {
    "name": "ipython",
    "version": 3
   },
   "file_extension": ".py",
   "mimetype": "text/x-python",
   "name": "python",
   "nbconvert_exporter": "python",
   "pygments_lexer": "ipython3",
   "version": "3.12.10"
  }
 },
 "nbformat": 4,
 "nbformat_minor": 5
}
