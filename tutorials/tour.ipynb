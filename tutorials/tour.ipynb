{
 "cells": [
  {
   "cell_type": "markdown",
   "id": "9175b8a5",
   "metadata": {},
   "source": [
    "# A tour of navground\n",
    "\n",
    "In this tour you meet the basic components of the navigation playground \n",
    "and see them at play.\n",
    "\n",
    "At the core of the playground there is a library of navigation behaviors for dynamic obstacle avoidance. \n",
    "\n",
    "Let's import the library and instantiate one of the behavior ([DummyBehavior](../reference/core/python/behaviors/dummy.html#navground.core.behaviors.DummyBehavior))."
   ]
  },
  {
   "cell_type": "markdown",
   "id": "6b3821ea",
   "metadata": {},
   "source": [
    "## Behaviors"
   ]
  },
  {
   "cell_type": "code",
   "execution_count": 1,
   "id": "64ac853c",
   "metadata": {
    "tags": []
   },
   "outputs": [],
   "source": [
    "from navground import core\n",
    "\n",
    "behavior = core.behaviors.DummyBehavior()"
   ]
  },
  {
   "cell_type": "markdown",
   "id": "aefb3e0b",
   "metadata": {},
   "source": [
    "A behavior holds the **2D state of an agent** of circular shape.\n",
    "\n",
    "We set\n",
    "\n",
    "- the [pose](../reference/core/python/common.html#navground.core.Pose2)\n",
    "of the agent at the origin of the world-fixed coordinate frame,"
   ]
  },
  {
   "cell_type": "code",
   "execution_count": 2,
   "id": "03f311f7",
   "metadata": {
    "tags": []
   },
   "outputs": [],
   "source": [
    "behavior.pose = core.Pose2(position=(0, 0), orientation=0)"
   ]
  },
  {
   "cell_type": "markdown",
   "id": "f1fc6911",
   "metadata": {},
   "source": [
    "- the [twist](../reference/core/python/common.html#navground.core.Twist2) of the agent to zero,"
   ]
  },
  {
   "cell_type": "code",
   "execution_count": 3,
   "id": "5c75a5e8",
   "metadata": {
    "tags": []
   },
   "outputs": [],
   "source": [
    "behavior.twist = core.Twist2(velocity=(0, 0), angular_speed=0)"
   ]
  },
  {
   "cell_type": "markdown",
   "id": "b9b98ed5",
   "metadata": {},
   "source": [
    "- and the radius of the agent."
   ]
  },
  {
   "cell_type": "code",
   "execution_count": 4,
   "id": "6af50080",
   "metadata": {
    "tags": []
   },
   "outputs": [],
   "source": [
    "behavior.radius = 1.0"
   ]
  },
  {
   "cell_type": "markdown",
   "id": "3558c1c6",
   "metadata": {},
   "source": [
    "A behavior needs also a [target](../reference/core/python/target.html#navground.core.Target): let's go to ``(10, 0)``, stopping when near enough."
   ]
  },
  {
   "cell_type": "code",
   "execution_count": 5,
   "id": "d41f047a",
   "metadata": {
    "tags": []
   },
   "outputs": [],
   "source": [
    "behavior.target = core.Target.Point((10, 0), tolerance=0.5)"
   ]
  },
  {
   "cell_type": "markdown",
   "id": "8846e3b1",
   "metadata": {},
   "source": [
    "Once we have set a target, we can ask for a [control command](../reference/core/python/behaviors/behavior.html#navground.core.Behavior.compute_cmd) (a twist) to advance towards the target in the next control step."
   ]
  },
  {
   "cell_type": "code",
   "execution_count": 6,
   "id": "db3727be",
   "metadata": {
    "tags": []
   },
   "outputs": [
    {
     "name": "stderr",
     "output_type": "stream",
     "text": [
      "Missing kinematics!\n"
     ]
    },
    {
     "data": {
      "text/plain": [
       "Twist2((0.000000, 0.000000), 0.000000, frame=Frame.absolute)"
      ]
     },
     "execution_count": 6,
     "metadata": {},
     "output_type": "execute_result"
    }
   ],
   "source": [
    "behavior.compute_cmd(time_step=0.1)"
   ]
  },
  {
   "cell_type": "markdown",
   "id": "ac2b527b",
   "metadata": {},
   "source": [
    "Oops ... the behavior is complaining that it does not know the kinematics of the agent.\n",
    "Therefore, it plays safe and makes the agent stay in place. We also see that `Twist2` has an additional field `Twist2(..., frame)` for the reference frame, which can be either an absolute world-fixed frame or a relative frame attached to to the agent.\n",
    "\n",
    "A [kinematics](../reference/core/python/kinematics.html#navground.core.Kinematics) model knows the maximal speed of the agent and, more generally, which commands are feasible.\n",
    "Let's pick an omnidirectional kinematics that has no restrictions apart from maximal horizontal and angular speeds,"
   ]
  },
  {
   "cell_type": "code",
   "execution_count": 7,
   "id": "f619e5e5",
   "metadata": {
    "tags": []
   },
   "outputs": [],
   "source": [
    "kinematics = core.kinematics.OmnidirectionalKinematics(max_speed=2.0, max_angular_speed=1.0)\n",
    "behavior.kinematics = kinematics"
   ]
  },
  {
   "cell_type": "markdown",
   "id": "4b22c012",
   "metadata": {},
   "source": [
    "and ask again for a control command."
   ]
  },
  {
   "cell_type": "code",
   "execution_count": 8,
   "id": "04875883",
   "metadata": {
    "tags": []
   },
   "outputs": [
    {
     "data": {
      "text/plain": [
       "Twist2((2.000000, 0.000000), 0.000000, frame=Frame.absolute)"
      ]
     },
     "execution_count": 8,
     "metadata": {},
     "output_type": "execute_result"
    }
   ],
   "source": [
    "cmd = behavior.compute_cmd(time_step=0.1)\n",
    "cmd"
   ]
  },
  {
   "cell_type": "markdown",
   "id": "7b9ceb98",
   "metadata": {},
   "source": [
    "As expected, the behavior wants to advance full speed towards the target point.\n",
    "How to actuate the commands depends on the agent we are controlling and may require interacting with the agent's runtime.\n",
    "\n",
    "Here, we keep it simple and simulate movements without any error: we apply the command for a time step to directly update the behavior state."
   ]
  },
  {
   "cell_type": "code",
   "execution_count": 9,
   "id": "2c563934",
   "metadata": {
    "tags": []
   },
   "outputs": [],
   "source": [
    "behavior.actuate(cmd, time_step=0.1)"
   ]
  },
  {
   "cell_type": "markdown",
   "id": "e59a7175",
   "metadata": {},
   "source": [
    "To get the same result, we could have manually integrated the pose and set the twist."
   ]
  },
  {
   "cell_type": "code",
   "execution_count": 10,
   "id": "723e79be",
   "metadata": {
    "tags": []
   },
   "outputs": [],
   "source": [
    "behavior.pose = behavior.pose.integrate(cmd, time_step=0.1)\n",
    "behavior.twist = cmd"
   ]
  },
  {
   "cell_type": "markdown",
   "id": "a3dafe8b-78a8-4e47-883f-9e9fa73044a0",
   "metadata": {},
   "source": [
    "Note that behaviors are already instantiated at the origin and with zero twist, therefore\n",
    "we could have setup the behavior using just two lines:"
   ]
  },
  {
   "cell_type": "code",
   "execution_count": 11,
   "id": "9e4e023c-d41a-41b7-999a-32dd35f1d889",
   "metadata": {
    "tags": []
   },
   "outputs": [],
   "source": [
    "behavior = core.behaviors.DummyBehavior(kinematics=kinematics, radius=1.0)\n",
    "behavior.target = core.Target.Point((10, 0), tolerance=0.5)"
   ]
  },
  {
   "cell_type": "markdown",
   "id": "42675725",
   "metadata": {},
   "source": [
    "## Registers"
   ]
  },
  {
   "cell_type": "markdown",
   "id": "366d4f59",
   "metadata": {},
   "source": [
    "What if our agent has wheels? Which other kinematics are there? \n",
    "\n",
    "Implemented kinematics are stored in a register. Let's list their names:"
   ]
  },
  {
   "cell_type": "code",
   "execution_count": 12,
   "id": "89dfe589",
   "metadata": {
    "tags": []
   },
   "outputs": [
    {
     "data": {
      "text/plain": [
       "['2WDiff', '2WDiffDyn', '4WOmni', 'Ahead', 'Omni']"
      ]
     },
     "execution_count": 12,
     "metadata": {},
     "output_type": "execute_result"
    }
   ],
   "source": [
    "core.Kinematics.types"
   ]
  },
  {
   "cell_type": "markdown",
   "id": "49f067b7",
   "metadata": {},
   "source": [
    "`\"Omni\"` is the one we already used. Let's pick `\"2WDiff\"`, which corresponds to a robot with two differential drive wheels, one at each side of a longitudinal axis."
   ]
  },
  {
   "cell_type": "code",
   "execution_count": 13,
   "id": "5685596e",
   "metadata": {
    "tags": []
   },
   "outputs": [],
   "source": [
    "kinematics = core.Kinematics.make_type(\"2WDiff\")\n",
    "kinematics.max_speed = 1.0"
   ]
  },
  {
   "cell_type": "markdown",
   "id": "19f1233b",
   "metadata": {},
   "source": [
    "Registered components, like kinematics, declare properties that we can use to configure them.\n",
    "Let's get all properties of this kinematics model."
   ]
  },
  {
   "cell_type": "code",
   "execution_count": 14,
   "id": "044a40d9",
   "metadata": {
    "tags": []
   },
   "outputs": [
    {
     "name": "stdout",
     "output_type": "stream",
     "text": [
      "Property wheel_axis: Wheel Axis of type double\n"
     ]
    }
   ],
   "source": [
    "for name, p in kinematics.properties.items():\n",
    "    print(f'Property {name}: {p.description} of type {p.type_name}')"
   ]
  },
  {
   "cell_type": "markdown",
   "id": "5c2fd57d-3495-4a5d-8f22-a4c07a0f6810",
   "metadata": {},
   "source": [
    "We set the wheel axis length to the size of the agent."
   ]
  },
  {
   "cell_type": "code",
   "execution_count": 15,
   "id": "b816a4b4",
   "metadata": {
    "tags": []
   },
   "outputs": [],
   "source": [
    "kinematics.set(\"wheel_axis\", 2.0)"
   ]
  },
  {
   "cell_type": "markdown",
   "id": "61e511b7",
   "metadata": {},
   "source": [
    "Note that instantiating a kinematics from a register and configuring through its properties, like we have just done, is equivalent to an explicit instantiation like"
   ]
  },
  {
   "cell_type": "code",
   "execution_count": 16,
   "id": "5c892dd9",
   "metadata": {
    "tags": []
   },
   "outputs": [],
   "source": [
    "kinematics = core.kinematics.TwoWheelsDifferentialDriveKinematics(max_speed=1.0, axis=2.0)"
   ]
  },
  {
   "cell_type": "markdown",
   "id": "abb4eefc",
   "metadata": {},
   "source": [
    "Let's now get a command that respects this kinematics,"
   ]
  },
  {
   "cell_type": "code",
   "execution_count": 17,
   "id": "de23254d",
   "metadata": {
    "tags": []
   },
   "outputs": [
    {
     "data": {
      "text/plain": [
       "Twist2((1.000000, 0.000000), 0.000000, frame=Frame.relative)"
      ]
     },
     "execution_count": 17,
     "metadata": {},
     "output_type": "execute_result"
    }
   ],
   "source": [
    "behavior.kinematics = kinematics \n",
    "cmd = behavior.compute_cmd(time_step=0.1)\n",
    "cmd"
   ]
  },
  {
   "cell_type": "markdown",
   "id": "70ef6c8b",
   "metadata": {},
   "source": [
    "which we can convert to left and right wheel speeds."
   ]
  },
  {
   "cell_type": "code",
   "execution_count": 18,
   "id": "535192dc",
   "metadata": {
    "tags": []
   },
   "outputs": [
    {
     "data": {
      "text/plain": [
       "[1.0, 1.0]"
      ]
     },
     "execution_count": 18,
     "metadata": {},
     "output_type": "execute_result"
    }
   ],
   "source": [
    "behavior.kinematics.wheel_speeds(cmd)"
   ]
  },
  {
   "cell_type": "markdown",
   "id": "8ebdd0ee-7766-454f-8292-b0fc857c6e54",
   "metadata": {},
   "source": [
    "Again and unsurprisingly, the behavior wants to set both wheels at the same maximal speed to advance straight at full speed."
   ]
  },
  {
   "cell_type": "markdown",
   "id": "86628b1e",
   "metadata": {},
   "source": [
    "## Trajectory\n",
    "\n",
    "Applying the control step iteratively, we make the agent reach the target point, while we also store its position to later plot the trajectory."
   ]
  },
  {
   "cell_type": "code",
   "execution_count": 19,
   "id": "a5737ffd",
   "metadata": {
    "tags": []
   },
   "outputs": [],
   "source": [
    "import numpy as np\n",
    "\n",
    "positions = []\n",
    "\n",
    "time_step = 0.1\n",
    "\n",
    "while not behavior.check_if_target_satisfied():\n",
    "    positions.append(behavior.position)\n",
    "    cmd = behavior.compute_cmd(time_step=time_step)\n",
    "    behavior.actuate(cmd, time_step=time_step)\n",
    "    \n",
    "positions = np.asarray(positions)"
   ]
  },
  {
   "cell_type": "code",
   "execution_count": 20,
   "id": "b9da398b",
   "metadata": {
    "tags": []
   },
   "outputs": [
    {
     "data": {
      "image/png": "[encoded data removed]",
      "text/plain": [
       "<Figure size 700x300 with 1 Axes>"
      ]
     },
     "metadata": {},
     "output_type": "display_data"
    }
   ],
   "source": [
    "from matplotlib import pyplot as plt\n",
    "\n",
    "fig, ax = plt.subplots(figsize=((7, 3)))\n",
    "ax.add_patch(plt.Circle(positions[0], behavior.radius, color='blue', alpha=0.2))\n",
    "ax.add_patch(plt.Circle(positions[-1], behavior.radius, color='blue', alpha=0.5))\n",
    "# ax.add_patch(plt.Circle(behavior.target.position, behavior.target.position_tolerance, color='red', alpha=0.6, fill=False))\n",
    "ax.plot(positions[:, 0], positions[:, 1], '-')\n",
    "ax.set_xlabel('x')\n",
    "ax.set_ylabel('y')\n",
    "plt.axis('equal');"
   ]
  },
  {
   "cell_type": "markdown",
   "id": "c290c6d3",
   "metadata": {},
   "source": [
    "We got the trajectory we expected, altough not a particularly interesting one."
   ]
  },
  {
   "cell_type": "markdown",
   "id": "07bed37a",
   "metadata": {},
   "source": [
    "## Environment state\n",
    "\n",
    "The job of the behavior is to navigate the agent through obstacles. So let's add a round obstacle in the middle of the agent's path."
   ]
  },
  {
   "cell_type": "code",
   "execution_count": 21,
   "id": "95998b85",
   "metadata": {
    "tags": []
   },
   "outputs": [],
   "source": [
    "disc = core.Disc(position=(5.0, 0.1), radius=1)"
   ]
  },
  {
   "cell_type": "markdown",
   "id": "2e711a7e",
   "metadata": {},
   "source": [
    "How do we tell the behavior to avoid the obstacle?\n",
    "For this, each behavior keeps an environmental state ... unfortunately our current behavior, \n",
    "as we may expect from a behavior called *Dummy*, does not have one."
   ]
  },
  {
   "cell_type": "code",
   "execution_count": 22,
   "id": "a328e105",
   "metadata": {
    "tags": []
   },
   "outputs": [
    {
     "data": {
      "text/plain": [
       "True"
      ]
     },
     "execution_count": 22,
     "metadata": {},
     "output_type": "execute_result"
    }
   ],
   "source": [
    "behavior.environment_state is None"
   ]
  },
  {
   "cell_type": "markdown",
   "id": "e037926c",
   "metadata": {},
   "source": [
    "So, let's switch to a smarter behavior. Like for kinematics, behaviors are registered by name"
   ]
  },
  {
   "cell_type": "code",
   "execution_count": 23,
   "id": "71edebd7",
   "metadata": {
    "tags": []
   },
   "outputs": [
    {
     "data": {
      "text/plain": [
       "['', 'Dummy', 'HL', 'HRVO', 'ORCA', 'PyDummy', 'SocialForce']"
      ]
     },
     "execution_count": 23,
     "metadata": {},
     "output_type": "execute_result"
    }
   ],
   "source": [
    "core.Behavior.types"
   ]
  },
  {
   "cell_type": "markdown",
   "id": "c617ec10",
   "metadata": {},
   "source": [
    "We pick `\"ORCA\"` and setup it with the same kinematics, state, and target as before."
   ]
  },
  {
   "cell_type": "code",
   "execution_count": 24,
   "id": "fb837b5d",
   "metadata": {
    "tags": []
   },
   "outputs": [],
   "source": [
    "behavior = core.Behavior.make_type('ORCA')\n",
    "behavior.kinematics = kinematics\n",
    "behavior.pose = core.Pose2((0, 0), 0)\n",
    "behavior.twist = core.Twist2((0, 0), 0)\n",
    "behavior.radius = 1.0\n",
    "behavior.target = core.Target.Point((10, 0), tolerance=0.5)"
   ]
  },
  {
   "cell_type": "markdown",
   "id": "54b3edd5",
   "metadata": {},
   "source": [
    "This behavior has a more useful environment state which contains static obstacles:"
   ]
  },
  {
   "cell_type": "code",
   "execution_count": 25,
   "id": "aadef464",
   "metadata": {
    "tags": []
   },
   "outputs": [],
   "source": [
    "behavior.environment_state.static_obstacles = [disc]"
   ]
  },
  {
   "cell_type": "markdown",
   "id": "03544785",
   "metadata": {},
   "source": [
    "Let's check that the behavior is really considering the obstacle:"
   ]
  },
  {
   "cell_type": "code",
   "execution_count": 26,
   "id": "be764606",
   "metadata": {
    "tags": []
   },
   "outputs": [
    {
     "data": {
      "text/plain": [
       "Twist2((0.150420, 0.000000), -0.224969, frame=Frame.relative)"
      ]
     },
     "execution_count": 26,
     "metadata": {},
     "output_type": "execute_result"
    }
   ],
   "source": [
    "behavior.compute_cmd(0.1)"
   ]
  },
  {
   "cell_type": "markdown",
   "id": "8343df1e",
   "metadata": {},
   "source": [
    "In fact, the behavior is telling us to steer clockwise to avoid the obstacle. Let's plot the new trajectory."
   ]
  },
  {
   "cell_type": "code",
   "execution_count": 27,
   "id": "6701f137",
   "metadata": {
    "tags": []
   },
   "outputs": [],
   "source": [
    "positions = []\n",
    "\n",
    "while not behavior.target.satisfied(behavior.pose):\n",
    "    positions.append(behavior.position)\n",
    "    cmd = behavior.compute_cmd(0.1)\n",
    "    behavior.actuate(cmd, 0.1)\n",
    "    \n",
    "positions = np.asarray(positions)"
   ]
  },
  {
   "cell_type": "code",
   "execution_count": 28,
   "id": "0a53e88a",
   "metadata": {
    "tags": []
   },
   "outputs": [
    {
     "data": {
      "image/png": "[encoded data removed]",
      "text/plain": [
       "<Figure size 700x300 with 1 Axes>"
      ]
     },
     "metadata": {},
     "output_type": "display_data"
    }
   ],
   "source": [
    "fig, ax = plt.subplots(figsize=((7, 3)))\n",
    "ax.add_patch(plt.Circle(disc.position, disc.radius, color='k', alpha=0.5))\n",
    "ax.add_patch(plt.Circle(positions[0], behavior.radius, color='blue', alpha=0.2))\n",
    "ax.add_patch(plt.Circle(positions[-1], behavior.radius, color='blue', alpha=0.5))\n",
    "ax.plot(positions[:, 0], positions[:, 1], '-')\n",
    "ax.set_xlabel('x')\n",
    "ax.set_ylabel('y')\n",
    "plt.axis('equal');"
   ]
  },
  {
   "cell_type": "markdown",
   "id": "cef7e0e5",
   "metadata": {},
   "source": [
    "Indeed, the agent does a more interesting trajectory!"
   ]
  },
  {
   "cell_type": "markdown",
   "id": "42795ea6",
   "metadata": {},
   "source": [
    "## Controllers\n",
    "\n",
    "Controllers monitor a behavior to report when it has reached a target.\n",
    "\n",
    "Let's try again the same scenario but now using a controller. "
   ]
  },
  {
   "cell_type": "code",
   "execution_count": 29,
   "id": "df9873bb-eef1-434c-a867-39b08713ba19",
   "metadata": {
    "tags": []
   },
   "outputs": [],
   "source": [
    "behavior.pose = core.Pose2((0, 0), 0)\n",
    "behavior.twist = core.Twist2((0, 0), 0)\n",
    "controller = core.Controller(behavior)"
   ]
  },
  {
   "cell_type": "markdown",
   "id": "e4ca1af0-59d1-4b54-9ac6-0b9c73fb2416",
   "metadata": {},
   "source": [
    "We can tell the control to direcly actuate each control commands in a callback."
   ]
  },
  {
   "cell_type": "code",
   "execution_count": 30,
   "id": "232b7c0e-a8d5-40bc-b735-6d92412306f8",
   "metadata": {
    "tags": []
   },
   "outputs": [],
   "source": [
    "time_step = 0.1\n",
    "\n",
    "def actuate(cmd):\n",
    "    behavior.actuate(cmd, time_step=time_step)\n",
    "\n",
    "controller.set_cmd_cb(actuate)"
   ]
  },
  {
   "cell_type": "markdown",
   "id": "ba7acf2d",
   "metadata": {},
   "source": [
    "Targets are now set through the controller that returns an *action*,"
   ]
  },
  {
   "cell_type": "code",
   "execution_count": 31,
   "id": "8f7bfb01",
   "metadata": {
    "tags": []
   },
   "outputs": [],
   "source": [
    "action = controller.go_to_pose(core.Pose2((10, 0), 3.14), 0.1, 0.1)"
   ]
  },
  {
   "cell_type": "markdown",
   "id": "83c1f2e4",
   "metadata": {},
   "source": [
    "which we can use to setup a terminal callback."
   ]
  },
  {
   "cell_type": "code",
   "execution_count": 32,
   "id": "58f15587",
   "metadata": {
    "tags": []
   },
   "outputs": [],
   "source": [
    "action.done_cb = lambda action_state: print(f\"Action has finished with {action_state}.\")"
   ]
  },
  {
   "cell_type": "markdown",
   "id": "03a0899a",
   "metadata": {},
   "source": [
    "Commands are now queried through the controller which in turns monitors the action state. The run-loop becomes simpler as we need just a single line per step (in addition to the usual line to store the trajectory)."
   ]
  },
  {
   "cell_type": "code",
   "execution_count": 33,
   "id": "5679e5f1",
   "metadata": {
    "tags": []
   },
   "outputs": [
    {
     "name": "stdout",
     "output_type": "stream",
     "text": [
      "Action has finished with State.success.\n"
     ]
    }
   ],
   "source": [
    "positions = []\n",
    "\n",
    "while not controller.idle:\n",
    "    controller.update(time_step=time_step)\n",
    "    positions.append(behavior.position)\n",
    "    \n",
    "positions = np.asarray(positions)"
   ]
  },
  {
   "cell_type": "markdown",
   "id": "87796200",
   "metadata": {},
   "source": [
    "## More agents\n",
    "\n",
    "Within the playground, we can play with more than a single agent.\n",
    "Let's add a second agent with the same shape, kinematics, and type of behavior."
   ]
  },
  {
   "cell_type": "code",
   "execution_count": 34,
   "id": "c8b8d5db",
   "metadata": {
    "tags": []
   },
   "outputs": [],
   "source": [
    "behavior_1 = core.Behavior.make_type(\"ORCA\")\n",
    "behavior_1.radius = 1.0\n",
    "behavior_1.kinematics = kinematics\n",
    "behavior_2 = core.Behavior.make_type(\"ORCA\")\n",
    "behavior_2.radius = 1.0\n",
    "behavior_2.kinematics = kinematics\n",
    "behaviors = [behavior_1, behavior_2]"
   ]
  },
  {
   "cell_type": "markdown",
   "id": "c545fe62",
   "metadata": {},
   "source": [
    "We want to make them cross. Let them start from opposing poses"
   ]
  },
  {
   "cell_type": "code",
   "execution_count": 35,
   "id": "38fb60c9",
   "metadata": {
    "tags": []
   },
   "outputs": [],
   "source": [
    "behavior_1.pose = core.Pose2((0, 0), 0)\n",
    "behavior_2.pose = core.Pose2((10, 0), np.pi)"
   ]
  },
  {
   "cell_type": "markdown",
   "id": "db310b32",
   "metadata": {},
   "source": [
    "and then exchange positions."
   ]
  },
  {
   "cell_type": "code",
   "execution_count": 36,
   "id": "f838d60c",
   "metadata": {
    "tags": []
   },
   "outputs": [],
   "source": [
    "behavior_1.target = core.Target.Point(behavior_2.position, 0.1)\n",
    "behavior_2.target = core.Target.Point(behavior_1.position, 0.1)"
   ]
  },
  {
   "cell_type": "markdown",
   "id": "e4acdff2",
   "metadata": {},
   "source": [
    "We need to tell the behaviors that there is another agent in their vicinity, a *neighbor*.\n",
    "\n",
    "Neighbors are also of circular shape and their state consists of position, radius, and velocity.\n",
    "For real agents, environment state would originate from perception, which may be noisy and have partial visibility.\n",
    "Here, we keep it simple and make the agents aware of all other agents, adding all of them as neighbors in a perfectly accurate environment state."
   ]
  },
  {
   "cell_type": "code",
   "execution_count": 37,
   "id": "3fc89b44",
   "metadata": {
    "tags": []
   },
   "outputs": [],
   "source": [
    "for behavior in behaviors:\n",
    "    behavior.environment_state.neighbors = [\n",
    "        core.Neighbor(position=b.position, radius=b.radius, velocity=b.velocity)\n",
    "        for b in behaviors if b is not behavior\n",
    "    ]"
   ]
  },
  {
   "cell_type": "markdown",
   "id": "ff2b6fec",
   "metadata": {},
   "source": [
    "Let's try again to compute the trajectories. Contrary to static obstacles, neighbors ... do move. \n",
    "Therefore, we need to update them before asking for a new control commands."
   ]
  },
  {
   "cell_type": "code",
   "execution_count": 38,
   "id": "626e44f8",
   "metadata": {
    "tags": []
   },
   "outputs": [],
   "source": [
    "positions = []\n",
    "time_step = 0.1\n",
    "\n",
    "while not all(b.target.satisfied(b.pose) for b in behaviors):\n",
    "    positions.append([b.position for b in behaviors])\n",
    "    cmds = []\n",
    "    for behavior in behaviors:\n",
    "        behavior.environment_state.neighbors = [\n",
    "            core.Neighbor(position=b.position, radius=b.radius, velocity=b.velocity)\n",
    "            for b in behaviors if b != behavior\n",
    "        ]\n",
    "        cmds.append(behavior.compute_cmd(time_step=time_step))\n",
    "    for behavior, cmd in zip(behaviors, cmds):\n",
    "        behavior.actuate(cmd, time_step=time_step)\n",
    "    \n",
    "positions = np.asarray(positions)"
   ]
  },
  {
   "cell_type": "code",
   "execution_count": 39,
   "id": "000363bb",
   "metadata": {
    "tags": []
   },
   "outputs": [
    {
     "data": {
      "image/png": "[encoded data removed]",
      "text/plain": [
       "<Figure size 700x300 with 1 Axes>"
      ]
     },
     "metadata": {},
     "output_type": "display_data"
    }
   ],
   "source": [
    "fig, ax = plt.subplots(figsize=((7, 3)))\n",
    "for i, (behavior, color) in enumerate(zip(behaviors, 'bg')):\n",
    "    ax.add_patch(plt.Circle(positions[-1, i], behavior.radius, color=color, alpha=0.5))\n",
    "    ax.plot(positions[:, i, 0], positions[:, i, 1], '-', color=color)\n",
    "ax.set_xlabel('x')\n",
    "ax.set_ylabel('y')\n",
    "plt.axis('equal');"
   ]
  },
  {
   "cell_type": "markdown",
   "id": "b5fac18b-cec1-46c9-a59c-465f612cb72f",
   "metadata": {},
   "source": [
    "We see how the two agents successfull avoid a collision and manage to exchange positions.\n",
    "\n",
    "This concludes the tour of the core part of the playground. \n",
    "It you want to integrate some of its components in your system, go ahead \n",
    "and skip the rest of the tour, which goes deeper into simulation."
   ]
  },
  {
   "cell_type": "markdown",
   "id": "39dc7b09",
   "metadata": {},
   "source": [
    "## Simulation\n",
    "\n",
    "We have seen how to manually write a run-loop to simulate a trajectory.\n",
    "The playground simplifies this process using `Agent`, `StateEstimation` and `Task`,\n",
    "which generalize the functionalities we have been implementing.\n",
    "\n",
    "An agent holds a behavior and a kinematics."
   ]
  },
  {
   "cell_type": "code",
   "execution_count": 40,
   "id": "31078a43",
   "metadata": {
    "tags": []
   },
   "outputs": [],
   "source": [
    "from navground import sim\n",
    "\n",
    "agent = sim.Agent()\n",
    "agent.behavior = core.Behavior.make_type('ORCA')\n",
    "agent.kinematics = core.kinematics.TwoWheelsDifferentialDriveKinematics(max_speed=1.0, axis=2.0)\n",
    "agent.pose = core.Pose2((0, 0), 0)\n",
    "agent.twist = core.Twist2((0, 0), 0)\n",
    "agent.radius = 1.0"
   ]
  },
  {
   "cell_type": "markdown",
   "id": "c6d1a675",
   "metadata": {},
   "source": [
    "An agent also has a *task* to generate navigation targets. Let's pick ``WaypointsTask`` to ask the agent to pendle between two points."
   ]
  },
  {
   "cell_type": "code",
   "execution_count": 41,
   "id": "16222391",
   "metadata": {
    "tags": []
   },
   "outputs": [],
   "source": [
    "agent.task = sim.tasks.WaypointsTask(waypoints=[(10, 0), (0, 0)], loop=True, tolerance=0.1)"
   ]
  },
  {
   "cell_type": "markdown",
   "id": "5c6e0b40",
   "metadata": {},
   "source": [
    "Finally, an agent uses a *state estimation* to update the ... its behavior environment *state*. "
   ]
  },
  {
   "cell_type": "code",
   "execution_count": 42,
   "id": "aa1755dc",
   "metadata": {
    "tags": []
   },
   "outputs": [],
   "source": [
    "agent.state_estimation = sim.state_estimations.BoundedStateEstimation(range=5.0)"
   ]
  },
  {
   "cell_type": "markdown",
   "id": "dd8f1b50",
   "metadata": {},
   "source": [
    "Let's now add the agent to a world, together with the same static obstacle we have been using."
   ]
  },
  {
   "cell_type": "code",
   "execution_count": 43,
   "id": "79ceb1a7",
   "metadata": {
    "tags": []
   },
   "outputs": [],
   "source": [
    "world = sim.World()\n",
    "world.add_obstacle(disc)\n",
    "world.add_agent(agent)"
   ]
  },
  {
   "cell_type": "markdown",
   "id": "551761e1",
   "metadata": {},
   "source": [
    "That's all we have to do to setup our simulation. \n",
    "\n",
    "Let's run it for a while."
   ]
  },
  {
   "cell_type": "code",
   "execution_count": 44,
   "id": "06062fd9",
   "metadata": {
    "tags": []
   },
   "outputs": [],
   "source": [
    "world.run(steps=10, time_step=0.1)"
   ]
  },
  {
   "cell_type": "markdown",
   "id": "f75f3f31",
   "metadata": {},
   "source": [
    "Nice ... but we would like to plot the trajectory again.\n",
    "\n",
    "We can iteratively run the simulation one step at time while accumulating data"
   ]
  },
  {
   "cell_type": "code",
   "execution_count": 45,
   "id": "5654700c",
   "metadata": {
    "tags": []
   },
   "outputs": [],
   "source": [
    "positions = []\n",
    "for i in range(100):\n",
    "    world.run(steps=1, time_step=0.1)\n",
    "    positions.append([a.position for a in world.agents])"
   ]
  },
  {
   "cell_type": "markdown",
   "id": "238cb0ab-1411-4229-a767-b11f3365ca0e",
   "metadata": {},
   "source": [
    "or we can add a callback where to accumulate data."
   ]
  },
  {
   "cell_type": "code",
   "execution_count": 46,
   "id": "5e570add-6179-46eb-9570-cd0ca2b9e5db",
   "metadata": {},
   "outputs": [],
   "source": [
    "def cb() -> None:\n",
    "    positions.append([a.position for a in world.agents])\n",
    "\n",
    "world.add_callback(cb)"
   ]
  },
  {
   "cell_type": "markdown",
   "id": "021de5b1-9c1a-42c5-8aaa-4d63edbc08f6",
   "metadata": {},
   "source": [
    "We perform additional steps to reach a total of 250 steps:"
   ]
  },
  {
   "cell_type": "code",
   "execution_count": 47,
   "id": "26653bfe-d20d-46d1-bed1-13150521ea65",
   "metadata": {},
   "outputs": [],
   "source": [
    "world.run_until(lambda: world.step >= 250, 0.1)"
   ]
  },
  {
   "cell_type": "markdown",
   "id": "1acc1147-220d-4086-9903-b2c33dbd2b35",
   "metadata": {},
   "source": [
    "Let's plot the resulting trajectory."
   ]
  },
  {
   "cell_type": "code",
   "execution_count": 48,
   "id": "fb922770",
   "metadata": {
    "tags": []
   },
   "outputs": [
    {
     "data": {
      "image/png": "[encoded data removed]",
      "text/plain": [
       "<Figure size 700x300 with 1 Axes>"
      ]
     },
     "metadata": {},
     "output_type": "display_data"
    }
   ],
   "source": [
    "ps = np.asarray(positions)\n",
    "\n",
    "fig, ax = plt.subplots(figsize=((7, 3)))\n",
    "ax.add_patch(plt.Circle(disc.position, disc.radius, color='k', alpha=0.5))\n",
    "for i in range(ps.shape[1]):\n",
    "    ax.plot(ps[:, i, 0], ps[:, i, 1], 'b-')\n",
    "    ax.add_patch(plt.Circle(ps[-1, i], behavior.radius, color='b', alpha=0.5))\n",
    "ax.set_xlabel('x')\n",
    "ax.set_ylabel('y')\n",
    "plt.axis('equal');"
   ]
  },
  {
   "cell_type": "markdown",
   "id": "8976f9fe",
   "metadata": {},
   "source": [
    "## Experiment\n",
    "\n",
    "Instead of manually injecting data collection in the run-loop, we can configure an ``Experiment`` to do it automatically.\n",
    "\n",
    "Let's start by defining a scenario, which is an object that initializes worlds, grouping together the commands we have been using."
   ]
  },
  {
   "cell_type": "code",
   "execution_count": 49,
   "id": "3431304d",
   "metadata": {
    "tags": []
   },
   "outputs": [],
   "source": [
    "from typing import Optional\n",
    "\n",
    "class MyScenario(sim.Scenario):\n",
    "\n",
    "    def __init__(self):\n",
    "        super().__init__()\n",
    "    \n",
    "    def init_world(self, world: sim.World, seed: Optional[int] = None) -> None:\n",
    "        super().init_world(world, seed)\n",
    "        agent = sim.Agent()\n",
    "        agent.behavior = core.Behavior.make_type('ORCA')\n",
    "        agent.kinematics = core.kinematics.TwoWheelsDifferentialDriveKinematics(max_speed=1.0, axis=2.0)\n",
    "        agent.pose = core.Pose2((0, 0), 0)\n",
    "        agent.twist = core.Twist2((0, 0), 0)\n",
    "        agent.radius = 1.0\n",
    "        agent.task = sim.tasks.WaypointsTask(waypoints=[(10, 0), (0, 0)], loop=True, tolerance=0.1)\n",
    "        agent.state_estimation = sim.state_estimations.BoundedStateEstimation(range=5.0)\n",
    "        world.add_obstacle(core.Disc(position=(5.0, 0.1), radius=1))\n",
    "        world.add_agent(agent)"
   ]
  },
  {
   "cell_type": "markdown",
   "id": "6dea19b9",
   "metadata": {},
   "source": [
    "Then, we configure an experiment to run such scenario for some steps. "
   ]
  },
  {
   "cell_type": "code",
   "execution_count": 50,
   "id": "0998fec7",
   "metadata": {
    "tags": []
   },
   "outputs": [],
   "source": [
    "experiment = sim.Experiment()\n",
    "experiment.scenario = MyScenario()\n",
    "experiment.time_step = 0.1\n",
    "experiment.steps= 300"
   ]
  },
  {
   "cell_type": "markdown",
   "id": "0d3132c2",
   "metadata": {},
   "source": [
    "We are interested to record poses,"
   ]
  },
  {
   "cell_type": "code",
   "execution_count": 51,
   "id": "ef86e119",
   "metadata": {
    "tags": []
   },
   "outputs": [],
   "source": [
    "experiment.record_config.pose = True"
   ]
  },
  {
   "cell_type": "markdown",
   "id": "49a9fe61",
   "metadata": {},
   "source": [
    "so let's run the experiment."
   ]
  },
  {
   "cell_type": "code",
   "execution_count": 52,
   "id": "bf43b218",
   "metadata": {
    "tags": []
   },
   "outputs": [],
   "source": [
    "run = experiment.run_once(seed=0)"
   ]
  },
  {
   "cell_type": "markdown",
   "id": "d2163f20-ec8c-4632-99c2-9741a181a532",
   "metadata": {},
   "source": [
    "The experiment recorded metadata such as duration,"
   ]
  },
  {
   "cell_type": "code",
   "execution_count": 53,
   "id": "c289972a-9da6-4daa-a4eb-7c783a790cf0",
   "metadata": {
    "tags": []
   },
   "outputs": [
    {
     "data": {
      "text/plain": [
       "datetime.timedelta(microseconds=481)"
      ]
     },
     "execution_count": 53,
     "metadata": {},
     "output_type": "execute_result"
    }
   ],
   "source": [
    "run.duration"
   ]
  },
  {
   "cell_type": "markdown",
   "id": "5f444a0e-3bb2-4bed-8083-0a22d6356dd6",
   "metadata": {},
   "source": [
    "as well as the agents' trajectory, as an array of `steps x agents x 3` coordinates."
   ]
  },
  {
   "cell_type": "code",
   "execution_count": 54,
   "id": "54395819",
   "metadata": {
    "tags": []
   },
   "outputs": [
    {
     "data": {
      "text/plain": [
       "(300, 1, 3)"
      ]
     },
     "execution_count": 54,
     "metadata": {},
     "output_type": "execute_result"
    }
   ],
   "source": [
    "run.poses.shape"
   ]
  },
  {
   "cell_type": "markdown",
   "id": "2c31e7f4",
   "metadata": {},
   "source": [
    "Optionally, we can configure the experiment to automatically save all data to an HDF5 file."
   ]
  },
  {
   "cell_type": "code",
   "execution_count": 55,
   "id": "ecb349fa",
   "metadata": {
    "tags": []
   },
   "outputs": [],
   "source": [
    "import h5py\n",
    "import pathlib\n",
    "\n",
    "experiment.number_of_runs = 1\n",
    "experiment.save_directory = pathlib.Path('.')\n",
    "\n",
    "# experiment.run()\n",
    "# if experiment.path:\n",
    "#     data = h5py.File(pathlib.Path(experiment.path))\n",
    "#     data    "
   ]
  },
  {
   "cell_type": "markdown",
   "id": "e4cd57d4",
   "metadata": {},
   "source": [
    "## YAML\n",
    "\n",
    "What we configured in Python during this tutorial, can be configured in YAML too.\n",
    "\n",
    "For instance, let's configure the previous experiment using YAML. \n",
    "We add our lonely agent in one of the `scenario/groups`."
   ]
  },
  {
   "cell_type": "code",
   "execution_count": 56,
   "id": "e3eed54d",
   "metadata": {
    "tags": []
   },
   "outputs": [],
   "source": [
    "yaml = \"\"\"\n",
    "time_step: 0.1\n",
    "steps: 300\n",
    "record_pose: true\n",
    "scenario:\n",
    "    obstacles:\n",
    "        - position: [5, 0.1]\n",
    "          radius: 1.0\n",
    "    groups:\n",
    "        - number: 1\n",
    "          type: thymio\n",
    "          behavior:\n",
    "            type: ORCA\n",
    "          kinematics:\n",
    "            type: 2WDiff\n",
    "            wheel_axis: 2\n",
    "            max_speed: 1\n",
    "          task:\n",
    "            type: Waypoints\n",
    "            loop: true\n",
    "            tolerance: 0.1\n",
    "            waypoints: [[10, 0], [0, 0]]\n",
    "          state_estimation:\n",
    "            type: Bounded\n",
    "            range: 5\n",
    "          position: [0, 0]\n",
    "          orientation: 0\n",
    "          radius: 1.0\n",
    "          control_period: 0.1        \n",
    "\"\"\""
   ]
  },
  {
   "cell_type": "code",
   "execution_count": 57,
   "id": "36e9d8fc",
   "metadata": {
    "tags": []
   },
   "outputs": [],
   "source": [
    "experiment = sim.load_experiment(yaml)\n",
    "run = experiment.run_once(seed=1)"
   ]
  },
  {
   "cell_type": "markdown",
   "id": "992f69e7",
   "metadata": {},
   "source": [
    "YAML is also useful to display a readable representation. Let's try to look at world at the end of the experiment:\n",
    "\n"
   ]
  },
  {
   "cell_type": "code",
   "execution_count": 58,
   "id": "f410936a",
   "metadata": {
    "tags": []
   },
   "outputs": [
    {
     "name": "stdout",
     "output_type": "stream",
     "text": [
      "obstacles:\n",
      "  - position:\n",
      "      - 5\n",
      "      - 0.10000000000000001\n",
      "    radius: 1\n",
      "    uid: 1\n",
      "walls:\n",
      "  []\n",
      "agents:\n",
      "  - behavior:\n",
      "      type: ORCA\n",
      "      effective_center: false\n",
      "      max_neighbors: 1000\n",
      "      static_time_horizon: 10\n",
      "      time_horizon: 10\n",
      "      treat_obstacles_as_agents: true\n",
      "      optimal_speed: 1\n",
      "      optimal_angular_speed: 1\n",
      "      rotation_tau: 0.5\n",
      "      safety_margin: 0\n",
      "      horizon: 5\n",
      "      radius: 1\n",
      "      heading: velocity\n",
      "      kinematics:\n",
      "        type: 2WDiff\n",
      "        wheel_axis: 2\n",
      "        max_speed: 1\n",
      "        max_angular_speed: 1\n",
      "      social_margin:\n",
      "        modulation:\n",
      "          type: constant\n",
      "        default: 0\n",
      "    kinematics:\n",
      "      type: 2WDiff\n",
      "      wheel_axis: 2\n",
      "      max_speed: 1\n",
      "      max_angular_speed: 1\n",
      "    task:\n",
      "      type: Waypoints\n",
      "      loop: true\n",
      "      random: false\n",
      "      tolerance: 0.10000000000000001\n",
      "      waypoints:\n",
      "        -\n",
      "          - 10\n",
      "          - 0\n",
      "        -\n",
      "          - 0\n",
      "          - 0\n",
      "    state_estimation:\n",
      "      type: Bounded\n",
      "      range: 5\n",
      "      update_static_obstacles: false\n",
      "    position:\n",
      "      - 0.084434494501910831\n",
      "      - 0.041746138390158588\n",
      "    orientation: 4.700498018412107\n",
      "    velocity:\n",
      "      - 0\n",
      "      - 0\n",
      "    angular_speed: 1\n",
      "    radius: 1\n",
      "    control_period: 0.10000000000000001\n",
      "    type: thymio\n",
      "    color: \"\"\n",
      "    id: 0\n",
      "    uid: 0\n"
     ]
    }
   ],
   "source": [
    "print(sim.dump(run.world))"
   ]
  },
  {
   "cell_type": "markdown",
   "id": "9ae27257-1e74-46ad-8165-93d1449ad09e",
   "metadata": {},
   "source": [
    "## Real-time simulation\n",
    "\n",
    "This last part is possibly the most rewarding of the tour. \n",
    "\n",
    "Let's try to visualize a simulation while it runs directly in the notebook. For this, you need to install the Python websockets package\n",
    "```\n",
    "pip install websockets\n",
    "```\n",
    "and be able to listen to port 8000. If you are running it in binder, it won't work as the port won't be exposed. \n",
    "Therefore, as an alternative, which works even if you are visualizing this notebook without running it, we can make a video. For this, you need to install cairosvg (to render SVGs) and moviepy (to generate the videos)\n",
    "\n",
    "```\n",
    "pip install cairosvg moviepy\n",
    "```\n",
    "\n",
    "Let's now display a video of the simulation we just run (speeded up 5x)."
   ]
  },
  {
   "cell_type": "code",
   "execution_count": 59,
   "id": "54e8f891-9125-49d5-8bdd-5b3517a91d14",
   "metadata": {},
   "outputs": [
    {
     "data": {
      "text/html": [
       "<div align=middle><video width='640'src='data:video/mp4;base64,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' controls>Sorry, seems like your browser doesn't support HTML5 audio/video</video></div>"
      ],
      "text/plain": [
       "<moviepy.video.io.html_tools.HTML2 object>"
      ]
     },
     "execution_count": 59,
     "metadata": {},
     "output_type": "execute_result"
    }
   ],
   "source": [
    "from navground.sim.ui.video import display_video_from_run\n",
    "\n",
    "display_video_from_run(run, factor=5)"
   ]
  },
  {
   "cell_type": "markdown",
   "id": "ed17c031-0557-4b45-9024-45603c47e044",
   "metadata": {},
   "source": [
    "Let's go back to the live visualization in the notebook which uses websockets, javascript, and SVG."
   ]
  },
  {
   "cell_type": "code",
   "execution_count": 60,
   "id": "3ebee97f",
   "metadata": {
    "tags": []
   },
   "outputs": [
    {
     "data": {
      "text/plain": [
       "True"
      ]
     },
     "execution_count": 60,
     "metadata": {},
     "output_type": "execute_result"
    }
   ],
   "source": [
    "from navground.sim.ui import WebUI\n",
    "from navground.sim.notebook import notebook_view\n",
    "from navground.sim.real_time import RealTimeSimulation\n",
    "\n",
    "web_ui = WebUI(host='127.0.0.1', max_rate=-1)\n",
    "await web_ui.prepare()"
   ]
  },
  {
   "cell_type": "code",
   "execution_count": 61,
   "id": "168d6344",
   "metadata": {
    "scrolled": true,
    "tags": []
   },
   "outputs": [
    {
     "data": {
      "text/html": [
       "<!DOCTYPE html>\n",
       "\n",
       "<html>\n",
       "<head>\n",
       "  <!--  -->\n",
       "  <title></title>\n",
       "  \n",
       "  \n",
       "  \n",
       "  <script type='text/javascript'>\n",
       "    var NS = \"http://www.w3.org/2000/svg\";\n",
       "\n",
       "class WebUIClient {\n",
       "  constructor(port='8000', prefix='', display_shape=false) {\n",
       "    this.agents = new Set();\n",
       "    this.entity = {};\n",
       "    this.prefix = prefix;\n",
       "    this.port = port;\n",
       "    this.display_shape = display_shape;\n",
       "    this.prototypes = {\n",
       "      '': `${prefix}agent`, \n",
       "      'thymio': `${prefix}thymio`, \n",
       "      'wheelchair': `${prefix}wheelchair`, \n",
       "      'human': `${prefix}human`\n",
       "    };\n",
       "  }\n",
       "\n",
       "  connect() {\n",
       "    var client = this;\n",
       "    var ws_address = `ws://127.0.0.1:${this.port}/`\n",
       "    console.log(`[${this.prefix}] Try to connect to ${ws_address}`)\n",
       "    var ws = new WebSocket(ws_address);\n",
       "    ws.onopen = function(event) {\n",
       "      console.log(`[${client.prefix}] Opened Web socket ${ws_address}`)\n",
       "      client.ws = ws;\n",
       "    };\n",
       "    \n",
       "    ws.onmessage = function(event) {\n",
       "      var [type, data] = JSON.parse(event.data)\n",
       "      switch (type) {\n",
       "        case 'm':\n",
       "          client.move(data)\n",
       "          break;\n",
       "        case 'r':\n",
       "          client.reset(data)\n",
       "          break;\n",
       "        case 's':\n",
       "          client.set(data)\n",
       "          break;\n",
       "        case 'v':\n",
       "          client.view(data)\n",
       "          break;\n",
       "        case '+':\n",
       "          client.add(data)\n",
       "          break;\n",
       "        default:\n",
       "          break\n",
       "      }\n",
       "    }\n",
       "  \n",
       "    ws.onclose = function(e) {\n",
       "      console.log('Socket is closed. Reconnect will be attempted in 1 second.', e.reason);\n",
       "      client.ws = null;\n",
       "      setTimeout(function(){client.connect();}, 1000);\n",
       "    };\n",
       "  \n",
       "    ws.onerror = function(err) {\n",
       "      console.log('Socket encountered error ... closing socket');\n",
       "      ws.close();\n",
       "    };\n",
       "  }\n",
       "\n",
       "  add_wall(id, points) {\n",
       "    var e = document.createElementNS(NS,\"polyline\");\n",
       "    var ps = []\n",
       "    for (var i in points) {\n",
       "       ps.push(`${points[i][0]},${points[i][1]}`)\n",
       "    } \n",
       "    e.setAttribute(\"points\", ps.join())\n",
       "    e.setAttribute(\"class\", \"wall\");\n",
       "    e.setAttribute(\"id\", id);\n",
       "    return e\n",
       "  }\n",
       "  \n",
       "  add_obstacle(id, point, radius) {\n",
       "    var e = document.createElementNS(NS,\"circle\");\n",
       "    e.setAttribute(\"cx\", `${point[0]}`)\n",
       "    e.setAttribute(\"cy\", `${point[1]}`)\n",
       "    e.setAttribute(\"r\", `${radius}`)\n",
       "    e.setAttribute(\"class\", \"obstacle\");\n",
       "    e.setAttribute(\"id\", id);\n",
       "    return e\n",
       "  }\n",
       "  \n",
       "  add_agent(id, type, size, color) \n",
       "  {\n",
       "    var g = document.createElementNS(NS,\"g\");\n",
       "    var agent = document.createElementNS(NS,\"use\");\n",
       "    var uid = this.prototypes[type] || `${this.prefix}agent`;\n",
       "    agent.setAttributeNS(\"http://www.w3.org/1999/xlink\", \"xlink:href\", \"#\" + uid);\n",
       "    agent.setAttribute(\"transform\", `scale(${size}, ${size})`)\n",
       "    g.appendChild(agent)\n",
       "    g.setAttribute(\"class\", type);\n",
       "    g.setAttribute(\"id\", id);\n",
       "    if (color) {\n",
       "      g.setAttribute(\"style\", `fill: ${color}`);\n",
       "    }\n",
       "    if (this.display_shape) {\n",
       "      var shape = document.createElementNS(NS,\"circle\");\n",
       "      shape.setAttribute(\"r\", size);\n",
       "      shape.setAttribute(\"class\", \"shape\");\n",
       "      g.appendChild(shape);\n",
       "    }\n",
       "    return g;\n",
       "  };\n",
       "  \n",
       "  add_entity(uid, data) {\n",
       "    var id = this.prefix + uid\n",
       "    if (id in this.entity) {\n",
       "      console.warn(`Entity ${id} already present`)\n",
       "      return;\n",
       "    }\n",
       "    var kind = data['kind'];\n",
       "    var svg_world = document.getElementById(this.prefix + \"world\");\n",
       "    if (!svg_world) return;\n",
       "    var e = document.getElementById(id);\n",
       "    if (e) {\n",
       "      svg_world.removeChild(e);\n",
       "      e = null;\n",
       "    }\n",
       "    var state = null;\n",
       "    switch (kind) {\n",
       "      case 'w':\n",
       "        e = this.add_wall(id, data['points']);\n",
       "        break;\n",
       "      case 'o':\n",
       "        e = this.add_obstacle(id, data['point'], data['radius']);\n",
       "        break;\n",
       "      case 'a':\n",
       "        e = this.add_agent(id, data['type'], data['size'], data['color']);\n",
       "        state = data['pose']\n",
       "        var [x, y, theta] = state;\n",
       "        this.move_element(e, x, y, theta);\n",
       "        this.agents.add(id);\n",
       "        break;\n",
       "      default:\n",
       "        break\n",
       "    }\n",
       "    if (e) {\n",
       "      svg_world.appendChild(e);\n",
       "      this.entity[id] = {'svg': e, 'updated': true, 'state': state};\n",
       "    }\n",
       "  };\n",
       "  \n",
       "  add(data) {\n",
       "    for (var _id in data) {\n",
       "      this.add_entity(_id, data[_id])\n",
       "    }\n",
       "    window.requestAnimationFrame(this.update.bind(this));\n",
       "  };\n",
       "  \n",
       "  set_entity(_id, data) {\n",
       "    if(!(_id in this.entity)) {\n",
       "      console.warn(`Entity ${_id} unknown`)\n",
       "      return;\n",
       "    }\n",
       "    for (var a in data) {\n",
       "      this.entity[_id]['svg'].setAttribute(a, data[a])\n",
       "    }\n",
       "  };\n",
       "  \n",
       "  set(data) {\n",
       "    for (var _id in data) {\n",
       "      var _nid = this.prefix + _id\n",
       "      if (_nid in this.entity) {\n",
       "        this.set_entity(_nid, data[_id])\n",
       "      } else {\n",
       "        var e = document.getElementById(_nid);\n",
       "        if (e) {\n",
       "          var e_data = data[_id];\n",
       "          for (var a in e_data) {\n",
       "            console.log(`Setting attributes ${a} of ${e} to ${e_data[a]}`)\n",
       "            e.setAttribute(a, e_data[a]);\n",
       "          }\n",
       "        }\n",
       "      }\n",
       "    }\n",
       "    window.requestAnimationFrame(this.update.bind(this));\n",
       "  };\n",
       "  \n",
       "  move_entity(_id, data) {\n",
       "    if(!this.agents.has(_id)) {\n",
       "      console.warn(`Agent ${_id} unknown`)\n",
       "      return;\n",
       "    }\n",
       "    var [x, y, theta] = data;\n",
       "    this.entity[_id]['state'] = [x, y, theta]\n",
       "    this.entity[_id]['updated'] = true\n",
       "  };\n",
       "  \n",
       "  move(data) {\n",
       "    for (var _id in data) {\n",
       "      this.move_entity(this.prefix + _id, data[_id])\n",
       "    }\n",
       "    window.requestAnimationFrame(this.update.bind(this));\n",
       "  };\n",
       "  \n",
       "  reset() {\n",
       "    var svg_world = document.getElementById(this.prefix + \"world\");\n",
       "    if (!svg_world) return;\n",
       "    for (var _id in this.entity) {\n",
       "      svg_world.removeChild(this.entity[_id]['svg'])\n",
       "    }\n",
       "    console.log(`[${this.prefix}] reset`)\n",
       "    this.entity = {}\n",
       "    this.agents.clear()\n",
       "    window.requestAnimationFrame(this.update.bind(this));\n",
       "  };\n",
       "  \n",
       "  view(data) {\n",
       "    var [x, y, width, height] = data;\n",
       "    var svg = document.getElementById(this.prefix + \"svg\");\n",
       "    if (!svg) return;\n",
       "    svg.setAttribute(\"viewBox\", `${x} ${y} ${width} ${height}`)\n",
       "    window.requestAnimationFrame(this.update.bind(this));\n",
       "  };\n",
       "  \n",
       "  update(step) {\n",
       "    var ids_to_be_removed = []\n",
       "    for (var id of this.agents) {\n",
       "      // if (!entity[id]['updated']) {\n",
       "      //   ids_to_be_removed.push(id)\n",
       "      // }\n",
       "      if (this.entity[id]['updated']) {\n",
       "        var [x, y, theta] = this.entity[id]['state']\n",
       "        this.move_element(this.entity[id]['svg'], x, y, theta)\n",
       "        this.entity[id]['updated'] = false;\n",
       "      }\n",
       "    }\n",
       "    // for (var _id of ids_to_be_removed) {\n",
       "    //   remove_entity(_id);\n",
       "    // }  \n",
       "  };\n",
       "  \n",
       "  remove_entity(_id) {\n",
       "      var svg_world = document.getElementById(this.prefix + \"world\");\n",
       "      if (!svg_world) return;\n",
       "      console.log(`remove ${_id}`)\n",
       "      svg_world.removeChild(this.entity[_id]['svg'])\n",
       "      this.agents.delete(_id);\n",
       "      delete this.entity[_id];\n",
       "  }\n",
       "  \n",
       "  move_element(g, x, y, angle) {\n",
       "    var t = `translate(${x},${y}) rotate(${angle * 180 / 3.14159})`\n",
       "    g.setAttribute(\"transform\", t)\n",
       "  };\n",
       "}\n",
       "\n",
       "  </script>\n",
       "  \n",
       "  <script type='text/javascript'>\n",
       "    var N0client = new WebUIClient(8000, \"N0\", false)\n",
       "    N0client.connect();\n",
       "  </script>\n",
       "  \n",
       "  \n",
       "</head>\n",
       "<body>\n",
       "  <div>\n",
       "    <h1></h1>\n",
       "  </div>\n",
       "  \n",
       "<svg id=\"N0svg\" xmlns=\"http://www.w3.org/2000/svg\" xmlns:xlink=\"http://www.w3.org/1999/xlink\" version=\"1.1\" width=\"300\" height=\"300\" viewBox=\"0.0000 0.0000 1.0000 1.0000\">\n",
       "<defs>\n",
       "  <g id=\"N0agent\" r=\"1\">\n",
       "  \t<circle class=\"body\" cx=\"0\" cy=\"0\" r=\"1\"/>\n",
       "  \t<circle opacity=\"0.5\" fill=\"black\" cx=\"0.75\" cy=\"0\" r=\"0.25\"/>\n",
       "  </g>\n",
       "  <g id=\"N0thymio\" transform=\"rotate(90) scale(0.125)\">\n",
       "      <path class=\"body\"\n",
       "         stroke=\"none\"\n",
       "         d=\"M -5.4999227 -5.8058472 L -5.4999227 2.9998169 L 5.4999227 2.9998169 L 5.4999227     -5.8089478 A 8 8 0 0 0 0 -8.0000285 A 8 8 0 0 0 -5.4999227 -5.8058472 z \" />\n",
       "      <rect\n",
       "         style=\"fill:#333333;stroke:none\"\n",
       "         width=\"1.5\"\n",
       "         height=\"4.1999998\"\n",
       "         x=\"-5.4000001\"\n",
       "         y=\"-2.0999999\"\n",
       "         rx=\"0.5\" />\n",
       "      <rect\n",
       "         style=\"fill:#333333;stroke:none\"\n",
       "         id=\"rect441\"\n",
       "         width=\"1.5\"\n",
       "         height=\"4.1999998\"\n",
       "         x=\"3.9000001\"\n",
       "         y=\"-2.0999999\"\n",
       "         rx=\"0.5\" />\n",
       "  </g>\n",
       "  <g id=\"N0wheelchair\" transform=\"scale(0.02) rotate(180) translate(-55,-173)\">\n",
       "    <path\n",
       "       stroke=\"none\"\n",
       "       style=\"fill:#c8beb7\"\n",
       "       d=\"m 48.06149,189.83177 h -38.89 v -33.33 h 38.89 z\"/>\n",
       "    <path\n",
       "       stroke=\"none\"\n",
       "       style=\"fill:#080808;\"\n",
       "       d=\"m 81.382974,148.5266 v -4.11718 -4.21485 H 53.61149 v 8.33203 z\"/>\n",
       "    <path\n",
       "       stroke=\"none\"\n",
       "       style=\"fill:#080808;\"\n",
       "       d=\"m 81.382974,204.0666 v -4.11718 -4.21485 H 53.61149 v 8.33203 z\"/>\n",
       "    <path\n",
       "       stroke=\"none\"\n",
       "       class=\"body\"\n",
       "       d=\"m 92.497232,199.91402 h -50 v -55.55999 h 50 z\" />\n",
       "    <path\n",
       "       stroke=\"none\"\n",
       "       style=\"fill:#917c6f\"\n",
       "       d=\"m 92.497232,199.91332 v -2.77148 -52.78711 h -5.558593 v 55.55859 z\"/>\n",
       "  </g>\n",
       "  <g id=\"N0human\" transform=\"scale(0.02) rotate(180) translate(-50,-175)\">\n",
       "    <g class=\"body\" stroke=\"none\">\n",
       "    <ellipse\n",
       "       cx=\"54.378712\"\n",
       "       cy=\"172.97321\"\n",
       "       rx=\"19.763088\"\n",
       "       ry=\"43.396534\" />\n",
       "\n",
       "    <ellipse\n",
       "       cx=\"40.156387\"\n",
       "       cy=\"134.79787\"\n",
       "       rx=\"23.189381\"\n",
       "       ry=\"6.961535\" />\n",
       "    <ellipse\n",
       "       cx=\"40.156387\"\n",
       "       cy=\"211.14854\"\n",
       "       rx=\"23.189381\"\n",
       "       ry=\"6.961535\" />\n",
       "    </g>\n",
       "    <ellipse\n",
       "       style=\"fill:#1a1a1a;opacity:0.5\"\n",
       "       cx=\"54.378712\"\n",
       "       cy=\"172.90125\"\n",
       "       rx=\"16.28758\"\n",
       "       ry=\"16.635132\" />\n",
       "  </g>\n",
       "</defs>\n",
       "<style>\n",
       "<![CDATA[\n",
       "\n",
       "/*svg{\n",
       "  style=stroke-width: 0px;\n",
       "}\n",
       "*/\n",
       "circle.obstacle{\n",
       "  fill: gray; \n",
       "  stroke:none;\n",
       "}\n",
       "polyline.wall{\n",
       "  stroke:black;\n",
       "  stroke-width:0.01;\n",
       "}\n",
       "\n",
       ".shape {\n",
       "  fill: none;\n",
       "  stroke: black;\n",
       "  stroke-width: 0.01;\n",
       "  stroke-dasharray: 0.01;\n",
       "}\n",
       "\n",
       ".thymio {\n",
       "  fill: #e6e6e6;\n",
       "}\n",
       "\n",
       ".human {\n",
       "  fill: #666666;\n",
       "}\n",
       "\n",
       ".agent {\n",
       "  fill: gray;\n",
       "}\n",
       "\n",
       ".wheelchair {\n",
       "  fill: #483e37;\n",
       "}\n",
       "\n",
       "/*.body {\n",
       "    all: inherit;\n",
       "}\n",
       "*/\n",
       "\n",
       "\n",
       "\n",
       "\n",
       "\n",
       "svg {\n",
       "   background-color: snow;\n",
       "}\n",
       "\n",
       ".grid {\n",
       "  stroke: ;\n",
       "  stroke-width: ;\n",
       "}\n",
       "]]>\n",
       "</style>\n",
       "\n",
       "<g id=\"N0world\" transform='scale(1, -1) '>\n",
       "\n",
       "\n",
       "\n",
       "\n",
       "</g>\n",
       "</svg>\n",
       "</body>\n",
       "</html>"
      ],
      "text/plain": [
       "<IPython.core.display.HTML object>"
      ]
     },
     "execution_count": 61,
     "metadata": {},
     "output_type": "execute_result"
    }
   ],
   "source": [
    "notebook_view(width=300)"
   ]
  },
  {
   "cell_type": "code",
   "execution_count": 62,
   "id": "553986d5",
   "metadata": {
    "tags": []
   },
   "outputs": [],
   "source": [
    "# we run 5x faster than real-time\n",
    "world = run.world\n",
    "rt_sim = RealTimeSimulation(world=world, time_step=0.1, factor=5, web_ui=web_ui, \n",
    "                            bounds=((-1, -3), (11, 3)))\n",
    "await rt_sim.init()"
   ]
  },
  {
   "cell_type": "code",
   "execution_count": 63,
   "id": "75b5481c",
   "metadata": {
    "tags": []
   },
   "outputs": [],
   "source": [
    "until_time = world.time + 60\n",
    "await rt_sim.run(until=lambda : world.time > until_time)"
   ]
  }
 ],
 "metadata": {
  "kernelspec": {
   "display_name": "Python 3 (ipykernel)",
   "language": "python",
   "name": "python3"
  },
  "language_info": {
   "codemirror_mode": {
    "name": "ipython",
    "version": 3
   },
   "file_extension": ".py",
   "mimetype": "text/x-python",
   "name": "python",
   "nbconvert_exporter": "python",
   "pygments_lexer": "ipython3",
   "version": "3.12.5"
  }
 },
 "nbformat": 4,
 "nbformat_minor": 5
}
