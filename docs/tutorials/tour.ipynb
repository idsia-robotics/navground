{
 "cells": [
  {
   "cell_type": "markdown",
   "id": "9175b8a5",
   "metadata": {},
   "source": [
    "# A tour of navground\n",
    "\n",
    "In this tour you meet the basic components of the navigation playground \n",
    "and see them at play.\n",
    "\n",
    "At the core of the playground there is a library of navigation behaviors for dynamic obstacle avoidance. \n",
    "\n",
    "Let's import the library and instantiate one of the behavior ([DummyBehavior](../reference/core/python/behaviors/dummy.html#navground.core.behaviors.DummyBehavior))."
   ]
  },
  {
   "cell_type": "markdown",
   "id": "6b3821ea",
   "metadata": {},
   "source": [
    "## Behaviors"
   ]
  },
  {
   "cell_type": "code",
   "execution_count": 1,
   "id": "64ac853c",
   "metadata": {
    "tags": []
   },
   "outputs": [],
   "source": [
    "from navground import core\n",
    "\n",
    "behavior = core.behaviors.DummyBehavior()"
   ]
  },
  {
   "cell_type": "markdown",
   "id": "aefb3e0b",
   "metadata": {},
   "source": [
    "A behavior holds the **2D state of an agent** of circular shape.\n",
    "\n",
    "We set\n",
    "\n",
    "- the [pose](../reference/core/python/common.html#navground.core.Pose2)\n",
    "of the agent at the origin of the world-fixed coordinate frame,"
   ]
  },
  {
   "cell_type": "code",
   "execution_count": 2,
   "id": "03f311f7",
   "metadata": {
    "tags": []
   },
   "outputs": [],
   "source": [
    "behavior.pose = core.Pose2(position=(0, 0), orientation=0)"
   ]
  },
  {
   "cell_type": "markdown",
   "id": "f1fc6911",
   "metadata": {},
   "source": [
    "- the [twist](../reference/core/python/common.html#navground.core.Twist2) of the agent to zero,"
   ]
  },
  {
   "cell_type": "code",
   "execution_count": 3,
   "id": "5c75a5e8",
   "metadata": {
    "tags": []
   },
   "outputs": [],
   "source": [
    "behavior.twist = core.Twist2(velocity=(0, 0), angular_speed=0)"
   ]
  },
  {
   "cell_type": "markdown",
   "id": "b9b98ed5",
   "metadata": {},
   "source": [
    "- and the radius of the agent."
   ]
  },
  {
   "cell_type": "code",
   "execution_count": 4,
   "id": "6af50080",
   "metadata": {
    "tags": []
   },
   "outputs": [],
   "source": [
    "behavior.radius = 1.0"
   ]
  },
  {
   "cell_type": "markdown",
   "id": "3558c1c6",
   "metadata": {},
   "source": [
    "A behavior needs also a [target](../reference/core/python/target.html#navground.core.Target): let's go to ``(10, 0)``, stopping when near enough."
   ]
  },
  {
   "cell_type": "code",
   "execution_count": 5,
   "id": "d41f047a",
   "metadata": {
    "tags": []
   },
   "outputs": [],
   "source": [
    "behavior.target = core.Target.Point((10, 0), tolerance=0.5)"
   ]
  },
  {
   "cell_type": "markdown",
   "id": "8846e3b1",
   "metadata": {},
   "source": [
    "Once we have set a target, we can ask for a [control command](../reference/core/python/behaviors/behavior.html#navground.core.Behavior.compute_cmd) (a twist) to advance towards the target in the next control step."
   ]
  },
  {
   "cell_type": "code",
   "execution_count": 6,
   "id": "db3727be",
   "metadata": {
    "tags": []
   },
   "outputs": [
    {
     "name": "stderr",
     "output_type": "stream",
     "text": [
      "Missing kinematics!\n"
     ]
    },
    {
     "data": {
      "text/plain": [
       "Twist2((0.000000, 0.000000), 0.000000, frame=Frame.relative)"
      ]
     },
     "execution_count": 6,
     "metadata": {},
     "output_type": "execute_result"
    }
   ],
   "source": [
    "behavior.compute_cmd(time_step=0.1)"
   ]
  },
  {
   "cell_type": "markdown",
   "id": "ac2b527b",
   "metadata": {},
   "source": [
    "Oops ... the behavior is complaining that it does not know the kinematics of the agent.\n",
    "Therefore, it plays safe and makes the agent stay in place. We also see that `Twist2` has an additional field `Twist2(..., frame)` for the reference frame, which can be either an absolute world-fixed frame or a relative frame attached to to the agent.\n",
    "\n",
    "A [kinematics](../reference/core/python/kinematics.html#navground.core.Kinematics) model knows the maximal speed of the agent and, more generally, which commands are feasible.\n",
    "Let's pick an omnidirectional kinematics that has no restrictions apart from maximal horizontal and angular speeds,"
   ]
  },
  {
   "cell_type": "code",
   "execution_count": 7,
   "id": "f619e5e5",
   "metadata": {
    "tags": []
   },
   "outputs": [],
   "source": [
    "kinematics = core.kinematics.OmnidirectionalKinematics(max_speed=2.0, max_angular_speed=1.0)\n",
    "behavior.kinematics = kinematics"
   ]
  },
  {
   "cell_type": "markdown",
   "id": "4b22c012",
   "metadata": {},
   "source": [
    "and ask again for a control command."
   ]
  },
  {
   "cell_type": "code",
   "execution_count": 8,
   "id": "04875883",
   "metadata": {
    "tags": []
   },
   "outputs": [
    {
     "data": {
      "text/plain": [
       "Twist2((2.000000, 0.000000), 0.000000, frame=Frame.relative)"
      ]
     },
     "execution_count": 8,
     "metadata": {},
     "output_type": "execute_result"
    }
   ],
   "source": [
    "cmd = behavior.compute_cmd(time_step=0.1)\n",
    "cmd"
   ]
  },
  {
   "cell_type": "markdown",
   "id": "7b9ceb98",
   "metadata": {},
   "source": [
    "As expected, the behavior wants to advance full speed towards the target point.\n",
    "How to actuate the commands depends on the agent we are controlling and may require interacting with the agent's runtime.\n",
    "\n",
    "Here, we keep it simple and simulate movements without any error: we apply the command for a time step to directly update the behavior state."
   ]
  },
  {
   "cell_type": "code",
   "execution_count": 9,
   "id": "2c563934",
   "metadata": {
    "tags": []
   },
   "outputs": [],
   "source": [
    "behavior.actuate(cmd, time_step=0.1)"
   ]
  },
  {
   "cell_type": "markdown",
   "id": "e59a7175",
   "metadata": {},
   "source": [
    "To get the same result, we could have manually integrated the pose and set the twist."
   ]
  },
  {
   "cell_type": "code",
   "execution_count": 10,
   "id": "723e79be",
   "metadata": {
    "tags": []
   },
   "outputs": [],
   "source": [
    "behavior.pose = behavior.pose.integrate(cmd, time_step=0.1)\n",
    "behavior.twist = cmd"
   ]
  },
  {
   "cell_type": "markdown",
   "id": "a3dafe8b-78a8-4e47-883f-9e9fa73044a0",
   "metadata": {},
   "source": [
    "Note that behaviors are already instantiated at the origin and with zero twist, therefore\n",
    "we could have setup the behavior using just two lines:"
   ]
  },
  {
   "cell_type": "code",
   "execution_count": 11,
   "id": "9e4e023c-d41a-41b7-999a-32dd35f1d889",
   "metadata": {
    "tags": []
   },
   "outputs": [],
   "source": [
    "behavior = core.behaviors.DummyBehavior(kinematics=kinematics, radius=1.0)\n",
    "behavior.target = core.Target.Point((10, 0), tolerance=0.5)"
   ]
  },
  {
   "cell_type": "markdown",
   "id": "42675725",
   "metadata": {},
   "source": [
    "## Registers"
   ]
  },
  {
   "cell_type": "markdown",
   "id": "366d4f59",
   "metadata": {},
   "source": [
    "What if our agent has wheels? Which other kinematics are there? \n",
    "\n",
    "Implemented kinematics are stored in a register. Let's list their names:"
   ]
  },
  {
   "cell_type": "code",
   "execution_count": 12,
   "id": "89dfe589",
   "metadata": {
    "tags": []
   },
   "outputs": [
    {
     "data": {
      "text/plain": [
       "['2WDiff', '2WDiffDyn', '4WOmni', 'Ahead', 'Omni']"
      ]
     },
     "execution_count": 12,
     "metadata": {},
     "output_type": "execute_result"
    }
   ],
   "source": [
    "core.Kinematics.types"
   ]
  },
  {
   "cell_type": "markdown",
   "id": "49f067b7",
   "metadata": {},
   "source": [
    "`\"Omni\"` is the one we already used. Let's pick `\"2WDiff\"`, which corresponds to a robot with two differential drive wheels, one at each side of a longitudinal axis."
   ]
  },
  {
   "cell_type": "code",
   "execution_count": 13,
   "id": "5685596e",
   "metadata": {
    "tags": []
   },
   "outputs": [],
   "source": [
    "kinematics = core.Kinematics.make_type(\"2WDiff\")\n",
    "kinematics.max_speed = 1.0"
   ]
  },
  {
   "cell_type": "markdown",
   "id": "19f1233b",
   "metadata": {},
   "source": [
    "Registered components, like kinematics, declare properties that we can use to configure them.\n",
    "Let's get all properties of this kinematics model."
   ]
  },
  {
   "cell_type": "code",
   "execution_count": 14,
   "id": "044a40d9",
   "metadata": {
    "tags": []
   },
   "outputs": [
    {
     "name": "stdout",
     "output_type": "stream",
     "text": [
      "Property max_backward_speed: Maximal backward linear speed of type float\n",
      "Property max_forward_speed: Maximal forward linear speed of type float\n",
      "Property wheel_axis: Wheel Axis of type float\n"
     ]
    }
   ],
   "source": [
    "for name, p in kinematics.properties.items():\n",
    "    print(f'Property {name}: {p.description} of type {p.type_name}')"
   ]
  },
  {
   "cell_type": "markdown",
   "id": "5c2fd57d-3495-4a5d-8f22-a4c07a0f6810",
   "metadata": {},
   "source": [
    "We set the wheel axis length to the size of the agent."
   ]
  },
  {
   "cell_type": "code",
   "execution_count": 15,
   "id": "b816a4b4",
   "metadata": {
    "tags": []
   },
   "outputs": [],
   "source": [
    "kinematics.set(\"wheel_axis\", 2.0)"
   ]
  },
  {
   "cell_type": "markdown",
   "id": "61e511b7",
   "metadata": {},
   "source": [
    "Note that instantiating a kinematics from a register and configuring through its properties, like we have just done, is equivalent to an explicit instantiation like"
   ]
  },
  {
   "cell_type": "code",
   "execution_count": 16,
   "id": "5c892dd9",
   "metadata": {
    "tags": []
   },
   "outputs": [],
   "source": [
    "kinematics = core.kinematics.TwoWheelsDifferentialDriveKinematics(max_speed=1.0, wheel_axis=2.0)"
   ]
  },
  {
   "cell_type": "markdown",
   "id": "abb4eefc",
   "metadata": {},
   "source": [
    "Let's now get a command that respects this kinematics,"
   ]
  },
  {
   "cell_type": "code",
   "execution_count": 17,
   "id": "de23254d",
   "metadata": {
    "tags": []
   },
   "outputs": [
    {
     "data": {
      "text/plain": [
       "Twist2((1.000000, 0.000000), 0.000000, frame=Frame.relative)"
      ]
     },
     "execution_count": 17,
     "metadata": {},
     "output_type": "execute_result"
    }
   ],
   "source": [
    "behavior.kinematics = kinematics \n",
    "cmd = behavior.compute_cmd(time_step=0.1)\n",
    "cmd"
   ]
  },
  {
   "cell_type": "markdown",
   "id": "70ef6c8b",
   "metadata": {},
   "source": [
    "which we can convert to left and right wheel speeds."
   ]
  },
  {
   "cell_type": "code",
   "execution_count": 18,
   "id": "535192dc",
   "metadata": {
    "tags": []
   },
   "outputs": [
    {
     "data": {
      "text/plain": [
       "[1.0, 1.0]"
      ]
     },
     "execution_count": 18,
     "metadata": {},
     "output_type": "execute_result"
    }
   ],
   "source": [
    "behavior.kinematics.wheel_speeds(cmd)"
   ]
  },
  {
   "cell_type": "markdown",
   "id": "8ebdd0ee-7766-454f-8292-b0fc857c6e54",
   "metadata": {},
   "source": [
    "Again and unsurprisingly, the behavior wants to set both wheels at the same maximal speed to advance straight at full speed."
   ]
  },
  {
   "cell_type": "markdown",
   "id": "86628b1e",
   "metadata": {},
   "source": [
    "## Trajectory\n",
    "\n",
    "Applying the control step iteratively, we make the agent reach the target point, while we also store its position to later plot the trajectory."
   ]
  },
  {
   "cell_type": "code",
   "execution_count": 19,
   "id": "a5737ffd",
   "metadata": {
    "tags": []
   },
   "outputs": [],
   "source": [
    "import numpy as np\n",
    "\n",
    "positions = []\n",
    "\n",
    "time_step = 0.1\n",
    "\n",
    "while not behavior.check_if_target_satisfied():\n",
    "    positions.append(behavior.position)\n",
    "    cmd = behavior.compute_cmd(time_step=time_step)\n",
    "    behavior.actuate(cmd, time_step=time_step)\n",
    "    \n",
    "positions = np.asarray(positions)"
   ]
  },
  {
   "cell_type": "code",
   "execution_count": 20,
   "id": "b9da398b",
   "metadata": {
    "tags": []
   },
   "outputs": [
    {
     "data": {
      "image/png": "[encoded data removed]",
      "text/plain": [
       "<Figure size 700x300 with 1 Axes>"
      ]
     },
     "metadata": {},
     "output_type": "display_data"
    }
   ],
   "source": [
    "from matplotlib import pyplot as plt\n",
    "\n",
    "fig, ax = plt.subplots(figsize=((7, 3)))\n",
    "ax.add_patch(plt.Circle(positions[0], behavior.radius, color='blue', alpha=0.2))\n",
    "ax.add_patch(plt.Circle(positions[-1], behavior.radius, color='blue', alpha=0.5))\n",
    "# ax.add_patch(plt.Circle(behavior.target.position, behavior.target.position_tolerance, color='red', alpha=0.6, fill=False))\n",
    "ax.plot(positions[:, 0], positions[:, 1], '-')\n",
    "ax.set_xlabel('x')\n",
    "ax.set_ylabel('y')\n",
    "plt.axis('equal');"
   ]
  },
  {
   "cell_type": "markdown",
   "id": "c290c6d3",
   "metadata": {},
   "source": [
    "We got the trajectory we expected, altough not a particularly interesting one."
   ]
  },
  {
   "cell_type": "markdown",
   "id": "07bed37a",
   "metadata": {},
   "source": [
    "## Environment state\n",
    "\n",
    "The job of the behavior is to navigate the agent through obstacles. So let's add a round obstacle in the middle of the agent's path."
   ]
  },
  {
   "cell_type": "code",
   "execution_count": 21,
   "id": "95998b85",
   "metadata": {
    "tags": []
   },
   "outputs": [],
   "source": [
    "disc = core.Disc(position=(5.0, 0.1), radius=1)"
   ]
  },
  {
   "cell_type": "markdown",
   "id": "2e711a7e",
   "metadata": {},
   "source": [
    "How do we tell the behavior to avoid the obstacle?\n",
    "For this, each behavior keeps an environmental state ... unfortunately our current behavior, \n",
    "as we may expect from a behavior called *Dummy*, does not have one."
   ]
  },
  {
   "cell_type": "code",
   "execution_count": 22,
   "id": "a328e105",
   "metadata": {
    "tags": []
   },
   "outputs": [
    {
     "data": {
      "text/plain": [
       "True"
      ]
     },
     "execution_count": 22,
     "metadata": {},
     "output_type": "execute_result"
    }
   ],
   "source": [
    "behavior.environment_state is None"
   ]
  },
  {
   "cell_type": "markdown",
   "id": "e037926c",
   "metadata": {},
   "source": [
    "So, let's switch to a smarter behavior. Like for kinematics, behaviors are registered by name"
   ]
  },
  {
   "cell_type": "code",
   "execution_count": 23,
   "id": "71edebd7",
   "metadata": {
    "tags": []
   },
   "outputs": [
    {
     "data": {
      "text/plain": [
       "['', 'Dummy', 'HL', 'HRVO', 'ORCA', 'PyDummy', 'SocialForce']"
      ]
     },
     "execution_count": 23,
     "metadata": {},
     "output_type": "execute_result"
    }
   ],
   "source": [
    "core.Behavior.types"
   ]
  },
  {
   "cell_type": "markdown",
   "id": "c617ec10",
   "metadata": {},
   "source": [
    "We pick `\"ORCA\"` and setup it with the same kinematics, state, and target as before."
   ]
  },
  {
   "cell_type": "code",
   "execution_count": 24,
   "id": "fb837b5d",
   "metadata": {
    "tags": []
   },
   "outputs": [],
   "source": [
    "behavior = core.Behavior.make_type('ORCA')\n",
    "behavior.kinematics = kinematics\n",
    "behavior.pose = core.Pose2((0, 0), 0)\n",
    "behavior.twist = core.Twist2((0, 0), 0)\n",
    "behavior.radius = 1.0\n",
    "behavior.target = core.Target.Point((10, 0), tolerance=0.5)"
   ]
  },
  {
   "cell_type": "markdown",
   "id": "54b3edd5",
   "metadata": {},
   "source": [
    "This behavior has a more useful environment state which contains static obstacles:"
   ]
  },
  {
   "cell_type": "code",
   "execution_count": 25,
   "id": "aadef464",
   "metadata": {
    "tags": []
   },
   "outputs": [],
   "source": [
    "behavior.environment_state.static_obstacles = [disc]"
   ]
  },
  {
   "cell_type": "markdown",
   "id": "03544785",
   "metadata": {},
   "source": [
    "Let's check that the behavior is really considering the obstacle:"
   ]
  },
  {
   "cell_type": "code",
   "execution_count": 26,
   "id": "be764606",
   "metadata": {
    "tags": []
   },
   "outputs": [
    {
     "data": {
      "text/plain": [
       "Twist2((0.150420, 0.000000), -0.224969, frame=Frame.relative)"
      ]
     },
     "execution_count": 26,
     "metadata": {},
     "output_type": "execute_result"
    }
   ],
   "source": [
    "behavior.compute_cmd(0.1)"
   ]
  },
  {
   "cell_type": "markdown",
   "id": "8343df1e",
   "metadata": {},
   "source": [
    "In fact, the behavior is telling us to steer clockwise to avoid the obstacle. Let's plot the new trajectory."
   ]
  },
  {
   "cell_type": "code",
   "execution_count": 27,
   "id": "6701f137",
   "metadata": {
    "tags": []
   },
   "outputs": [],
   "source": [
    "positions = []\n",
    "\n",
    "while not behavior.target.satisfied(behavior.pose):\n",
    "    positions.append(behavior.position)\n",
    "    cmd = behavior.compute_cmd(0.1)\n",
    "    behavior.actuate(cmd, 0.1)\n",
    "    \n",
    "positions = np.asarray(positions)"
   ]
  },
  {
   "cell_type": "code",
   "execution_count": 28,
   "id": "0a53e88a",
   "metadata": {
    "tags": []
   },
   "outputs": [
    {
     "data": {
      "image/png": "[encoded data removed]",
      "text/plain": [
       "<Figure size 700x300 with 1 Axes>"
      ]
     },
     "metadata": {},
     "output_type": "display_data"
    }
   ],
   "source": [
    "fig, ax = plt.subplots(figsize=((7, 3)))\n",
    "ax.add_patch(plt.Circle(disc.position, disc.radius, color='k', alpha=0.5))\n",
    "ax.add_patch(plt.Circle(positions[0], behavior.radius, color='blue', alpha=0.2))\n",
    "ax.add_patch(plt.Circle(positions[-1], behavior.radius, color='blue', alpha=0.5))\n",
    "ax.plot(positions[:, 0], positions[:, 1], '-')\n",
    "ax.set_xlabel('x')\n",
    "ax.set_ylabel('y')\n",
    "plt.axis('equal');"
   ]
  },
  {
   "cell_type": "markdown",
   "id": "cef7e0e5",
   "metadata": {},
   "source": [
    "Indeed, the agent does a more interesting trajectory!"
   ]
  },
  {
   "cell_type": "markdown",
   "id": "42795ea6",
   "metadata": {},
   "source": [
    "## Controllers\n",
    "\n",
    "Controllers monitor a behavior to report when it has reached a target.\n",
    "\n",
    "Let's try again the same scenario but now using a controller. "
   ]
  },
  {
   "cell_type": "code",
   "execution_count": 29,
   "id": "df9873bb-eef1-434c-a867-39b08713ba19",
   "metadata": {
    "tags": []
   },
   "outputs": [],
   "source": [
    "behavior.pose = core.Pose2((0, 0), 0)\n",
    "behavior.twist = core.Twist2((0, 0), 0)\n",
    "controller = core.Controller(behavior)"
   ]
  },
  {
   "cell_type": "markdown",
   "id": "e4ca1af0-59d1-4b54-9ac6-0b9c73fb2416",
   "metadata": {},
   "source": [
    "We can tell the control to direcly actuate each control commands in a callback."
   ]
  },
  {
   "cell_type": "code",
   "execution_count": 30,
   "id": "232b7c0e-a8d5-40bc-b735-6d92412306f8",
   "metadata": {
    "tags": []
   },
   "outputs": [],
   "source": [
    "time_step = 0.1\n",
    "\n",
    "def actuate(cmd):\n",
    "    behavior.actuate(cmd, time_step=time_step)\n",
    "\n",
    "controller.set_cmd_cb(actuate)"
   ]
  },
  {
   "cell_type": "markdown",
   "id": "ba7acf2d",
   "metadata": {},
   "source": [
    "Targets are now set through the controller that returns an *action*,"
   ]
  },
  {
   "cell_type": "code",
   "execution_count": 31,
   "id": "8f7bfb01",
   "metadata": {
    "tags": []
   },
   "outputs": [],
   "source": [
    "action = controller.go_to_pose(core.Pose2((10, 0), 3.14), 0.1, 0.1)"
   ]
  },
  {
   "cell_type": "markdown",
   "id": "83c1f2e4",
   "metadata": {},
   "source": [
    "which we can use to setup a terminal callback."
   ]
  },
  {
   "cell_type": "code",
   "execution_count": 32,
   "id": "58f15587",
   "metadata": {
    "tags": []
   },
   "outputs": [],
   "source": [
    "action.done_cb = lambda action_state: print(f\"Action has finished with {action_state}.\")"
   ]
  },
  {
   "cell_type": "markdown",
   "id": "03a0899a",
   "metadata": {},
   "source": [
    "Commands are now queried through the controller which in turns monitors the action state. The run-loop becomes simpler as we need just a single line per step (in addition to the usual line to store the trajectory)."
   ]
  },
  {
   "cell_type": "code",
   "execution_count": 33,
   "id": "5679e5f1",
   "metadata": {
    "tags": []
   },
   "outputs": [
    {
     "name": "stdout",
     "output_type": "stream",
     "text": [
      "Action has finished with State.success.\n"
     ]
    }
   ],
   "source": [
    "positions = []\n",
    "\n",
    "while not controller.idle:\n",
    "    controller.update(time_step=time_step)\n",
    "    positions.append(behavior.position)\n",
    "    \n",
    "positions = np.asarray(positions)"
   ]
  },
  {
   "cell_type": "markdown",
   "id": "87796200",
   "metadata": {},
   "source": [
    "## More agents\n",
    "\n",
    "Within the playground, we can play with more than a single agent.\n",
    "Let's add a second agent with the same shape, kinematics, and type of behavior."
   ]
  },
  {
   "cell_type": "code",
   "execution_count": 34,
   "id": "c8b8d5db",
   "metadata": {
    "tags": []
   },
   "outputs": [],
   "source": [
    "behavior_1 = core.Behavior.make_type(\"ORCA\")\n",
    "behavior_1.radius = 1.0\n",
    "behavior_1.kinematics = kinematics\n",
    "behavior_2 = core.Behavior.make_type(\"ORCA\")\n",
    "behavior_2.radius = 1.0\n",
    "behavior_2.kinematics = kinematics\n",
    "behaviors = [behavior_1, behavior_2]"
   ]
  },
  {
   "cell_type": "markdown",
   "id": "c545fe62",
   "metadata": {},
   "source": [
    "We want to make them cross. Let them start from opposing poses"
   ]
  },
  {
   "cell_type": "code",
   "execution_count": 35,
   "id": "38fb60c9",
   "metadata": {
    "tags": []
   },
   "outputs": [],
   "source": [
    "behavior_1.pose = core.Pose2((0, 0), 0)\n",
    "behavior_2.pose = core.Pose2((10, 0), np.pi)"
   ]
  },
  {
   "cell_type": "markdown",
   "id": "db310b32",
   "metadata": {},
   "source": [
    "and then exchange positions."
   ]
  },
  {
   "cell_type": "code",
   "execution_count": 36,
   "id": "f838d60c",
   "metadata": {
    "tags": []
   },
   "outputs": [],
   "source": [
    "behavior_1.target = core.Target.Point(behavior_2.position, 0.1)\n",
    "behavior_2.target = core.Target.Point(behavior_1.position, 0.1)"
   ]
  },
  {
   "cell_type": "markdown",
   "id": "e4acdff2",
   "metadata": {},
   "source": [
    "We need to tell the behaviors that there is another agent in their vicinity, a *neighbor*.\n",
    "\n",
    "Neighbors are also of circular shape and their state consists of position, radius, and velocity.\n",
    "For real agents, environment state would originate from perception, which may be noisy and have partial visibility.\n",
    "Here, we keep it simple and make the agents aware of all other agents, adding all of them as neighbors in a perfectly accurate environment state."
   ]
  },
  {
   "cell_type": "code",
   "execution_count": 37,
   "id": "3fc89b44",
   "metadata": {
    "tags": []
   },
   "outputs": [],
   "source": [
    "for behavior in behaviors:\n",
    "    behavior.environment_state.neighbors = [\n",
    "        core.Neighbor(position=b.position, radius=b.radius, velocity=b.velocity)\n",
    "        for b in behaviors if b is not behavior\n",
    "    ]"
   ]
  },
  {
   "cell_type": "markdown",
   "id": "ff2b6fec",
   "metadata": {},
   "source": [
    "Let's try again to compute the trajectories. Contrary to static obstacles, neighbors ... do move. \n",
    "Therefore, we need to update them before asking for a new control commands."
   ]
  },
  {
   "cell_type": "code",
   "execution_count": 38,
   "id": "626e44f8",
   "metadata": {
    "tags": []
   },
   "outputs": [],
   "source": [
    "positions = []\n",
    "time_step = 0.1\n",
    "\n",
    "while not all(b.target.satisfied(b.pose) for b in behaviors):\n",
    "    positions.append([b.position for b in behaviors])\n",
    "    cmds = []\n",
    "    for behavior in behaviors:\n",
    "        behavior.environment_state.neighbors = [\n",
    "            core.Neighbor(position=b.position, radius=b.radius, velocity=b.velocity)\n",
    "            for b in behaviors if b != behavior\n",
    "        ]\n",
    "        cmds.append(behavior.compute_cmd(time_step=time_step))\n",
    "    for behavior, cmd in zip(behaviors, cmds):\n",
    "        behavior.actuate(cmd, time_step=time_step)\n",
    "    \n",
    "positions = np.asarray(positions)"
   ]
  },
  {
   "cell_type": "code",
   "execution_count": 39,
   "id": "000363bb",
   "metadata": {
    "tags": []
   },
   "outputs": [
    {
     "data": {
      "image/png": "[encoded data removed]",
      "text/plain": [
       "<Figure size 700x300 with 1 Axes>"
      ]
     },
     "metadata": {},
     "output_type": "display_data"
    }
   ],
   "source": [
    "fig, ax = plt.subplots(figsize=((7, 3)))\n",
    "for i, (behavior, color) in enumerate(zip(behaviors, 'bg')):\n",
    "    ax.add_patch(plt.Circle(positions[-1, i], behavior.radius, color=color, alpha=0.5))\n",
    "    ax.plot(positions[:, i, 0], positions[:, i, 1], '-', color=color)\n",
    "ax.set_xlabel('x')\n",
    "ax.set_ylabel('y')\n",
    "plt.axis('equal');"
   ]
  },
  {
   "cell_type": "markdown",
   "id": "b5fac18b-cec1-46c9-a59c-465f612cb72f",
   "metadata": {},
   "source": [
    "We see how the two agents successfull avoid a collision and manage to exchange positions.\n",
    "\n",
    "This concludes the tour of the core part of the playground. \n",
    "It you want to integrate some of its components in your system, go ahead \n",
    "and skip the rest of the tour, which goes deeper into simulation."
   ]
  },
  {
   "cell_type": "markdown",
   "id": "39dc7b09",
   "metadata": {},
   "source": [
    "## Simulation\n",
    "\n",
    "We have seen how to manually write a run-loop to simulate a trajectory.\n",
    "The playground simplifies this process using `Agent`, `StateEstimation` and `Task`,\n",
    "which generalize the functionalities we have been implementing.\n",
    "\n",
    "An agent holds a behavior and a kinematics."
   ]
  },
  {
   "cell_type": "code",
   "execution_count": 40,
   "id": "31078a43",
   "metadata": {
    "tags": []
   },
   "outputs": [],
   "source": [
    "from navground import sim\n",
    "\n",
    "agent = sim.Agent()\n",
    "agent.behavior = core.Behavior.make_type('ORCA')\n",
    "agent.kinematics = core.kinematics.TwoWheelsDifferentialDriveKinematics(max_speed=1.0, wheel_axis=2.0)\n",
    "agent.pose = core.Pose2((0, 0), 0)\n",
    "agent.twist = core.Twist2((0, 0), 0)\n",
    "agent.radius = 1.0"
   ]
  },
  {
   "cell_type": "markdown",
   "id": "c6d1a675",
   "metadata": {},
   "source": [
    "An agent also has a *task* to generate navigation targets. Let's pick ``WaypointsTask`` to ask the agent to pendle between two points."
   ]
  },
  {
   "cell_type": "code",
   "execution_count": 41,
   "id": "16222391",
   "metadata": {
    "tags": []
   },
   "outputs": [],
   "source": [
    "agent.task = sim.tasks.WaypointsTask(waypoints=[(10, 0), (0, 0)], loop=True, tolerance=0.1)"
   ]
  },
  {
   "cell_type": "markdown",
   "id": "5c6e0b40",
   "metadata": {},
   "source": [
    "Finally, an agent uses a *state estimation* to update the ... its behavior environment *state*. "
   ]
  },
  {
   "cell_type": "code",
   "execution_count": 42,
   "id": "aa1755dc",
   "metadata": {
    "tags": []
   },
   "outputs": [],
   "source": [
    "agent.state_estimation = sim.state_estimations.BoundedStateEstimation(range=5.0)"
   ]
  },
  {
   "cell_type": "markdown",
   "id": "dd8f1b50",
   "metadata": {},
   "source": [
    "Let's now add the agent to a world, together with the same static obstacle we have been using."
   ]
  },
  {
   "cell_type": "code",
   "execution_count": 43,
   "id": "79ceb1a7",
   "metadata": {
    "tags": []
   },
   "outputs": [],
   "source": [
    "world = sim.World()\n",
    "world.add_obstacle(disc)\n",
    "world.add_agent(agent)"
   ]
  },
  {
   "cell_type": "markdown",
   "id": "551761e1",
   "metadata": {},
   "source": [
    "That's all we have to do to setup our simulation. \n",
    "\n",
    "Let's run it for a while."
   ]
  },
  {
   "cell_type": "code",
   "execution_count": 44,
   "id": "06062fd9",
   "metadata": {
    "tags": []
   },
   "outputs": [],
   "source": [
    "world.run(steps=10, time_step=0.1)"
   ]
  },
  {
   "cell_type": "markdown",
   "id": "f75f3f31",
   "metadata": {},
   "source": [
    "Nice ... but we would like to plot the trajectory again.\n",
    "\n",
    "We can iteratively run the simulation one step at time while accumulating data"
   ]
  },
  {
   "cell_type": "code",
   "execution_count": 45,
   "id": "5654700c",
   "metadata": {
    "tags": []
   },
   "outputs": [],
   "source": [
    "positions = []\n",
    "for i in range(100):\n",
    "    world.run(steps=1, time_step=0.1)\n",
    "    positions.append([a.position for a in world.agents])"
   ]
  },
  {
   "cell_type": "markdown",
   "id": "238cb0ab-1411-4229-a767-b11f3365ca0e",
   "metadata": {},
   "source": [
    "or we can add a callback where to accumulate data."
   ]
  },
  {
   "cell_type": "code",
   "execution_count": 46,
   "id": "5e570add-6179-46eb-9570-cd0ca2b9e5db",
   "metadata": {},
   "outputs": [],
   "source": [
    "def cb() -> None:\n",
    "    positions.append([a.position for a in world.agents])\n",
    "\n",
    "world.add_callback(cb)"
   ]
  },
  {
   "cell_type": "markdown",
   "id": "021de5b1-9c1a-42c5-8aaa-4d63edbc08f6",
   "metadata": {},
   "source": [
    "We perform additional steps to reach a total of 250 steps:"
   ]
  },
  {
   "cell_type": "code",
   "execution_count": 47,
   "id": "26653bfe-d20d-46d1-bed1-13150521ea65",
   "metadata": {},
   "outputs": [],
   "source": [
    "world.run_until(lambda: world.step >= 250, 0.1)"
   ]
  },
  {
   "cell_type": "markdown",
   "id": "1acc1147-220d-4086-9903-b2c33dbd2b35",
   "metadata": {},
   "source": [
    "Let's plot the resulting trajectory."
   ]
  },
  {
   "cell_type": "code",
   "execution_count": 48,
   "id": "fb922770",
   "metadata": {
    "tags": []
   },
   "outputs": [
    {
     "data": {
      "image/png": "[encoded data removed]",
      "text/plain": [
       "<Figure size 700x300 with 1 Axes>"
      ]
     },
     "metadata": {},
     "output_type": "display_data"
    }
   ],
   "source": [
    "ps = np.asarray(positions)\n",
    "\n",
    "fig, ax = plt.subplots(figsize=((7, 3)))\n",
    "ax.add_patch(plt.Circle(disc.position, disc.radius, color='k', alpha=0.5))\n",
    "for i in range(ps.shape[1]):\n",
    "    ax.plot(ps[:, i, 0], ps[:, i, 1], 'b-')\n",
    "    ax.add_patch(plt.Circle(ps[-1, i], behavior.radius, color='b', alpha=0.5))\n",
    "ax.set_xlabel('x')\n",
    "ax.set_ylabel('y')\n",
    "plt.axis('equal');"
   ]
  },
  {
   "cell_type": "markdown",
   "id": "8976f9fe",
   "metadata": {},
   "source": [
    "## Experiment\n",
    "\n",
    "Instead of manually injecting data collection in the run-loop, we can configure an ``Experiment`` to do it automatically.\n",
    "\n",
    "Let's start by defining a scenario, which is an object that initializes worlds, grouping together the commands we have been using."
   ]
  },
  {
   "cell_type": "code",
   "execution_count": 49,
   "id": "3431304d",
   "metadata": {
    "tags": []
   },
   "outputs": [],
   "source": [
    "from typing import Optional\n",
    "\n",
    "class MyScenario(sim.Scenario):\n",
    "\n",
    "    def __init__(self):\n",
    "        super().__init__()\n",
    "    \n",
    "    def init_world(self, world: sim.World, seed: Optional[int] = None) -> None:\n",
    "        super().init_world(world, seed)\n",
    "        agent = sim.Agent()\n",
    "        agent.behavior = core.Behavior.make_type('ORCA')\n",
    "        agent.kinematics = core.kinematics.TwoWheelsDifferentialDriveKinematics(max_speed=1.0, wheel_axis=2.0)\n",
    "        agent.pose = core.Pose2((0, 0), 0)\n",
    "        agent.twist = core.Twist2((0, 0), 0)\n",
    "        agent.radius = 1.0\n",
    "        agent.task = sim.tasks.WaypointsTask(waypoints=[(10, 0), (0, 0)], loop=True, tolerance=0.1)\n",
    "        agent.state_estimation = sim.state_estimations.BoundedStateEstimation(range=5.0)\n",
    "        world.add_obstacle(core.Disc(position=(5.0, 0.1), radius=1))\n",
    "        world.add_agent(agent)"
   ]
  },
  {
   "cell_type": "markdown",
   "id": "6dea19b9",
   "metadata": {},
   "source": [
    "Then, we configure an experiment to run such scenario for some steps. "
   ]
  },
  {
   "cell_type": "code",
   "execution_count": 50,
   "id": "0998fec7",
   "metadata": {
    "tags": []
   },
   "outputs": [],
   "source": [
    "experiment = sim.Experiment()\n",
    "experiment.scenario = MyScenario()\n",
    "experiment.time_step = 0.1\n",
    "experiment.steps= 300"
   ]
  },
  {
   "cell_type": "markdown",
   "id": "0d3132c2",
   "metadata": {},
   "source": [
    "We are interested to record poses,"
   ]
  },
  {
   "cell_type": "code",
   "execution_count": 51,
   "id": "ef86e119",
   "metadata": {
    "tags": []
   },
   "outputs": [],
   "source": [
    "experiment.record_config.pose = True"
   ]
  },
  {
   "cell_type": "markdown",
   "id": "49a9fe61",
   "metadata": {},
   "source": [
    "so let's run the experiment."
   ]
  },
  {
   "cell_type": "code",
   "execution_count": 52,
   "id": "bf43b218",
   "metadata": {
    "tags": []
   },
   "outputs": [],
   "source": [
    "run = experiment.run_once(seed=0)"
   ]
  },
  {
   "cell_type": "markdown",
   "id": "d2163f20-ec8c-4632-99c2-9741a181a532",
   "metadata": {},
   "source": [
    "The experiment recorded metadata such as duration,"
   ]
  },
  {
   "cell_type": "code",
   "execution_count": 53,
   "id": "c289972a-9da6-4daa-a4eb-7c783a790cf0",
   "metadata": {
    "tags": []
   },
   "outputs": [
    {
     "data": {
      "text/plain": [
       "datetime.timedelta(microseconds=152)"
      ]
     },
     "execution_count": 53,
     "metadata": {},
     "output_type": "execute_result"
    }
   ],
   "source": [
    "run.duration"
   ]
  },
  {
   "cell_type": "markdown",
   "id": "5f444a0e-3bb2-4bed-8083-0a22d6356dd6",
   "metadata": {},
   "source": [
    "as well as the agents' trajectory, as an array of `steps x agents x 3` coordinates."
   ]
  },
  {
   "cell_type": "code",
   "execution_count": 54,
   "id": "54395819",
   "metadata": {
    "tags": []
   },
   "outputs": [
    {
     "data": {
      "text/plain": [
       "(300, 1, 3)"
      ]
     },
     "execution_count": 54,
     "metadata": {},
     "output_type": "execute_result"
    }
   ],
   "source": [
    "run.poses.shape"
   ]
  },
  {
   "cell_type": "markdown",
   "id": "2c31e7f4",
   "metadata": {},
   "source": [
    "Optionally, we can configure the experiment to automatically save all data to an HDF5 file."
   ]
  },
  {
   "cell_type": "code",
   "execution_count": 55,
   "id": "ecb349fa",
   "metadata": {
    "tags": []
   },
   "outputs": [],
   "source": [
    "import h5py\n",
    "import pathlib\n",
    "\n",
    "experiment.number_of_runs = 1\n",
    "experiment.save_directory = pathlib.Path('.')\n",
    "\n",
    "# experiment.run()\n",
    "# if experiment.path:\n",
    "#     data = h5py.File(pathlib.Path(experiment.path))\n",
    "#     data    "
   ]
  },
  {
   "cell_type": "markdown",
   "id": "e4cd57d4",
   "metadata": {},
   "source": [
    "## YAML\n",
    "\n",
    "What we configured in Python during this tutorial, can be configured in YAML too.\n",
    "\n",
    "For instance, let's configure the previous experiment using YAML. \n",
    "We add our lonely agent in one of the `scenario/groups`."
   ]
  },
  {
   "cell_type": "code",
   "execution_count": 56,
   "id": "e3eed54d",
   "metadata": {
    "tags": []
   },
   "outputs": [],
   "source": [
    "yaml = \"\"\"\n",
    "time_step: 0.1\n",
    "steps: 300\n",
    "record_pose: true\n",
    "scenario:\n",
    "    obstacles:\n",
    "        - position: [5, 0.1]\n",
    "          radius: 1.0\n",
    "    groups:\n",
    "        - number: 1\n",
    "          type: thymio\n",
    "          behavior:\n",
    "            type: ORCA\n",
    "          kinematics:\n",
    "            type: 2WDiff\n",
    "            wheel_axis: 2\n",
    "            max_speed: 1\n",
    "          task:\n",
    "            type: Waypoints\n",
    "            loop: true\n",
    "            tolerance: 0.1\n",
    "            waypoints: [[10, 0], [0, 0]]\n",
    "          state_estimation:\n",
    "            type: Bounded\n",
    "            range: 5\n",
    "          position: [0, 0]\n",
    "          orientation: 0\n",
    "          radius: 1.0\n",
    "          control_period: 0.1        \n",
    "\"\"\""
   ]
  },
  {
   "cell_type": "code",
   "execution_count": 57,
   "id": "36e9d8fc",
   "metadata": {
    "tags": []
   },
   "outputs": [],
   "source": [
    "experiment = sim.load_experiment(yaml)\n",
    "run = experiment.run_once(seed=1)"
   ]
  },
  {
   "cell_type": "markdown",
   "id": "992f69e7",
   "metadata": {},
   "source": [
    "YAML is also useful to display a readable representation. Let's try to look at world at the end of the experiment:\n",
    "\n"
   ]
  },
  {
   "cell_type": "code",
   "execution_count": 58,
   "id": "f410936a",
   "metadata": {
    "tags": []
   },
   "outputs": [
    {
     "name": "stdout",
     "output_type": "stream",
     "text": [
      "obstacles:\n",
      "  - position:\n",
      "      - 5\n",
      "      - 0.100000001\n",
      "    radius: 1\n",
      "    uid: 1\n",
      "walls:\n",
      "  []\n",
      "agents:\n",
      "  - behavior:\n",
      "      type: ORCA\n",
      "      effective_center: false\n",
      "      max_neighbors: 1000\n",
      "      static_time_horizon: 10\n",
      "      time_horizon: 10\n",
      "      treat_obstacles_as_agents: true\n",
      "      optimal_speed: 1\n",
      "      optimal_angular_speed: 1\n",
      "      rotation_tau: 0.5\n",
      "      safety_margin: 0\n",
      "      horizon: 5\n",
      "      path_look_ahead: 1\n",
      "      path_tau: 0.5\n",
      "      radius: 1\n",
      "      heading: velocity\n",
      "      kinematics:\n",
      "        type: 2WDiff\n",
      "        max_backward_speed: 0\n",
      "        max_forward_speed: .inf\n",
      "        wheel_axis: 2\n",
      "        max_speed: 1\n",
      "        max_angular_speed: .inf\n",
      "      social_margin:\n",
      "        modulation:\n",
      "          type: constant\n",
      "        default: 0\n",
      "    kinematics:\n",
      "      type: 2WDiff\n",
      "      max_backward_speed: 0\n",
      "      max_forward_speed: .inf\n",
      "      wheel_axis: 2\n",
      "      max_speed: 1\n",
      "      max_angular_speed: .inf\n",
      "    task:\n",
      "      type: Waypoints\n",
      "      angular_tolerance: .inf\n",
      "      angular_tolerances:\n",
      "        []\n",
      "      loop: true\n",
      "      orientations:\n",
      "        []\n",
      "      random: false\n",
      "      tolerance: 0.100000001\n",
      "      tolerances:\n",
      "        []\n",
      "      waypoints:\n",
      "        -\n",
      "          - 10\n",
      "          - 0\n",
      "        -\n",
      "          - 0\n",
      "          - 0\n",
      "    state_estimation:\n",
      "      type: Bounded\n",
      "      range: 5\n",
      "      update_static_obstacles: false\n",
      "    position:\n",
      "      - 0.0595567599\n",
      "      - 0.0292687751\n",
      "    orientation: 4.697999\n",
      "    velocity:\n",
      "      - 0\n",
      "      - 0\n",
      "    angular_speed: 1\n",
      "    radius: 1\n",
      "    control_period: 0.100000001\n",
      "    speed_tolerance: 0.00999999978\n",
      "    angular_speed_tolerance: 0.00999999978\n",
      "    type: thymio\n",
      "    color: \"\"\n",
      "    id: 0\n",
      "    uid: 0\n"
     ]
    }
   ],
   "source": [
    "print(sim.dump(run.world))"
   ]
  },
  {
   "cell_type": "markdown",
   "id": "9ae27257-1e74-46ad-8165-93d1449ad09e",
   "metadata": {},
   "source": [
    "## Real-time simulation\n",
    "\n",
    "This last part is possibly the most rewarding of the tour. \n",
    "\n",
    "Let's try to visualize a simulation while it runs directly in the notebook. For this, you need to install the Python websockets package\n",
    "```\n",
    "pip install websockets\n",
    "```\n",
    "and be able to listen to port 8000. If you are running it in binder, it won't work as the port won't be exposed. \n",
    "Therefore, as an alternative, which works even if you are visualizing this notebook without running it, we can make a video. For this, you need to install cairosvg (to render SVGs) and moviepy (to generate the videos)\n",
    "\n",
    "```\n",
    "pip install cairosvg moviepy\n",
    "```\n",
    "\n",
    "Let's now display a video of the simulation we just run (speeded up 5x)."
   ]
  },
  {
   "cell_type": "code",
   "execution_count": 59,
   "id": "54e8f891-9125-49d5-8bdd-5b3517a91d14",
   "metadata": {},
   "outputs": [
    {
     "data": {
      "text/html": [
       "<div align=middle><video width='640'src='data:video/mp4;base64,AAAAIGZ0eXBpc29tAAACAGlzb21pc28yYXZjMW1wNDEAAAAIZnJlZQABPCRtZGF0AAACVQYF//9R3EXpvebZSLeWLNgg2SPu73gyNjQgLSBjb3JlIDE2NCByMzEwOCAzMWUxOWY5IC0gSC4yNjQvTVBFRy00IEFWQyBjb2RlYyAtIENvcHlsZWZ0IDIwMDMtMjAyMyAtIGh0dHA6Ly93d3cudmlkZW9sYW4ub3JnL3gyNjQuaHRtbCAtIG9wdGlvbnM6IGNhYmFjPTAgcmVmPTEgZGVibG9jaz0wOjA6MCBhbmFseXNlPTA6MCBtZT1kaWEgc3VibWU9MCBwc3k9MSBwc3lfcmQ9MS4wMDowLjAwIG1peGVkX3JlZj0wIG1lX3JhbmdlPTE2IGNocm9tYV9tZT0xIHRyZWxsaXM9MCA4eDhkY3Q9MCBjcW09MCBkZWFkem9uZT0yMSwxMSBmYXN0X3Bza2lwPTEgY2hyb21hX3FwX29mZnNldD0wIHRocmVhZHM9MTAgbG9va2FoZWFkX3RocmVhZHM9MSBzbGljZWRfdGhyZWFkcz0wIG5yPTAgZGVjaW1hdGU9MSBpbnRlcmxhY2VkPTAgYmx1cmF5X2NvbXBhdD0wIGNvbnN0cmFpbmVkX2ludHJhPTAgYmZyYW1lcz0wIHdlaWdodHA9MCBrZXlpbnQ9MjUwIGtleWludF9taW49MjUgc2NlbmVjdXQ9MCBpbnRyYV9yZWZyZXNoPTAgcmM9Y3JmIG1idHJlZT0wIGNyZj0yMy4wIHFjb21wPTAuNjAgcXBtaW49MCBxcG1heD02OSBxcHN0ZXA9NCBpcF9yYXRpbz0xLjQwIGFxPTAAgAAACNRliIQ6EYoAAjvePk5OTk5OTk5OTk5OTk5OTk5OTk5OTk5OTk5OTk5OTk5OTk5OTk66666666666666666666666666666666666666666666666666666666666666666666666666666666666666666666666666666666666666666666666666666666666666666666666666666666666666666666666666666666666666666666666666666666666666647AAQZCFKcxiEKc5jH//wAQXkrNpARgDnsKFB2l/D8ABGZGQYAyNzEh5bBf/xACj4JfTwbgAGogBC6RsxIABaQCBMNgHAALWgQfHYOwAEBUVkDhL+G2D5my/Z/+EwABBQMHVR8DgXbsAA3p+YG/Iba0gKCtn/AUmu9di6666666666666666666647ASPW/P/8GJSwEc15hQfh+AEIz1zzdr/yCNpYo1Piz4gO8Qd2D//9XYTCXXXXXXXXXXHYACBBTTxTZBBAg2DO58Imn+AC5tQsoKkwr87gAt/EEhR9Y4AAPjOKUMH04R82JJBNkE5SiyVCJmGxjADCeAAgkICYHVLIKICUYb8iyACC8lb0gFiuC7EXIFJLVmbMSTAhwtT84iBAAeXSiILYRCkJ8GRAgAPLDwIADywSi4oujsi+PUAdNpppppNf/4UER5B1ENB7/+PwBAGQbBeigSWtavbxc0noERIYrtnguyvfg6ADZYAobEXeBxwulsBUDl+4gABA4fLDgAIHD5dzINqoT3PAP+BSdDasH4gl4DfqMXcNpBPngiZNipAXCj/wOcAEPrvu///AYlqMXUnZw/XXXXXXXXXXXXXXXXXXXCWAIAAEBIADgw6JM2jWPeyAEOY7qPpEc4AwkNGlDnoa3ILAMf/fZJ3JUjuJYTW9kAfnMbBzdoP6mvaaDgnHlhwEc2X4HABkDiYbB4ADAcfT/UcoACMyAAEB9LSAACACAeFxbIbXU4gAh9NcZC4BMiC2IxwKdxgEuDBWnkBgFTiwGr4P8AQ+A/LOBR8wP/j1AAigzTIyNEZeEPNgrmbZCFGtb/jnABCHrIzLIz/8E+G02G+NN+uuuuuuuOwAIj9V/X//wAt4kY6jGBLAAQmKAZIhixJJQWmbBmU4HMZZvygGIMu/8ACzRrLcO8gMH/iAAQYE3A/BGH5KqBkMBQ/8QACDAm5eMqUkPEAAgwJuf0drrrtY7+wEApApqzpcuLTNgzKdmYvkHQKuojt+8mAgkwKD4G8lBOKQ4//z38gAhhVyngpBYRrANXvwcAhhVwPHE5jsPz3/p66666666666666666645w4KZ/+aHp7647AM+0qBnPV4oq4Q8w8UVcdgjJ+UVcOAWCirhwDD09dddddcdgALMy4yAAIBdzBjv2wINUDXnRPDsAI1Xw4ABFABLkDsHKARqhzhgx/R/o/R/XXXXHYAKoj4zAAYBtzBROF0kTIAXIGF7Dc950ABA8QC3domSJkQAg4PuYFAAEDzILz3p66666666666666666645wyplDofyMRq59PXXCWAX9Ntpde0OIX/AaPpMCb4efAw/6uuuuuuuPwAERkEqKhSFIpSF+EwABAD5odedB/jRiqsZ/8c4AgxWD+d7x8gQf4+QIfDL6dod/gjEttzBltBQ/94IN2luw7iQ4f+/1111wlgAIEGaOrtPxj4V/kU3EnAEGGpjOLzwhMgTqEz3kAAEAEDrnBzB2GhkFA1e/IwaWsbjkvE/+eIAAIAIHXMgAAgAgdc/V111111111111111111x2AAlgACBKFAIxkL5GRjWUVFRb68ACrNg3MXsEQYBBKaEIu3Xta9GENtaYHg7REIV2UIbEdE+HuALuE45A+68lUsHOESnwOG0R07AcDQhVOWpeKWrudnQNby+MUvFLOgAaZZfAsAAlRkxsDsABcAAQHAMAyfQh0cnPhVodmeAL0GMwqLR4oKZmqf6+GEom88+ADWaFydgp4B6b+KAGX8kAZZwDo/ABRcZkKu5Hn8JHNulCqzlgIHjbHwOjnABO/+CNbQhBEHaWeiPxt+wq5lFXP11111111wjgaAAIAWAGYBp8UrjcTC9Qd/58BYABZsW36GCmih/4SAsAreQeKE1+WfAWBICwB2vEWMPi4AsBYEgLB4DEgLBYDA3IdayuDaJQ+7fCTYniHQr//fAWLMmsmYAIoOr84c4ACbTTaaTTS//giTbF8CoPK/O/11x2AAhghAx9oyj8uwHvj05E38AC9K9j5ATCzX3AA/Fnt9gIgav3gAZCxvWCc98wkrMdcF8svq42GtUOkl+AxzgAIAwpJpJJJJoAHAW1x1FjcAC5jWoNPINBO34o3OvM3mPudXUo3PwMk3Bck3P11111111111111111112trtfa3666666667WPUAUAEgGMHBP6DqBwRnbg7AZWsnMmZOANofIAtJb/A/B2MwvjsUifeE8yeJVRPg4ANLGCgTrtf/4/AARmZGGAMnMxAcXwXxAE7qCd08KgAHcoDCJTzKgAF5QQOhPBIABewEDI7P//wngAWEYKMEfJMZEbFsjbWwGo5CKqNggBG7NF3nkAJkYfwiGrT4MQBzQoApa1fN+4v7VBSrP///0eoAgxWta0AK73vegkaWmgHnIghGTo3qfft+4FbbwKOiDBkYMkABBwqWHACDhUthlhn/J66666666666666666666666666666666666WuuuuuuuuuuuuuuuuuuuuuuuuuuuuuuuuuuuuuuuuuuuuuuuuuuuuuuuuuuuuuuuuuuuuuuuuuuuuuuuuuuuuuuuuuuuuuuuuuuuuuuuuuuuuuuuuuuuuuuuuuuuuuuuuuuuuuuuuuuuuuuuuuuuuuuuuuuuuuuuuuuuuuuuuuuuuuuuuuuuuuuuuuuuuuuuuuuuuuuuuuuuuuuuuuuuuuuuuuuuuuuuuuuuuuuuuuuuuuuuuuuuuuuvAAAABOkGaIFoB8cX3fdQtCM3LxDDxfADfpo1t90lndxsGQ3qcJ5CP/kuW7fBJExUBx5JgA2MLhBCbks4/54O8mLGASQd3xMGiHQd5Mg65M+JjIeA1+nI1pA4nrTj8/Z6In+pswmvw6/wHYxxbj8TEx8RklgBGAAJaKKV9Ix/tgSwhYq5NFUjDT94DQYUWE8KjY4Vyu67X/iYikGMtxlUtAOeJwRclcmPk5cKNOCLm4/TGcm9Q1wjJ1M9YAFzwbzcgyIsv7+l8dPGMXARqKaJ3x1AyDLT8/2whGdVM5Yjv3HSBDSkt+LBXRKA7zR34A0lmLt4Q4BYRciJX1sBwCLbJMyCPSjM9wbMVBDL3QAlRFMtja8zGSpJL7/55WhIy3i+DqnLA7Jy1gS1l+JlYkC2bcVy8U4JuIre9/k7uAR6AAAAB/UGaQGoB8c3jssLQQzeAjat+YZi+DNP+l+/4E8ZCXOUbG37D8yMXd+Jpqxp+L5oYgn6AQRD/ER4ABNqhq7TS5NSaP4QygJzhxe7nrGQFQrEzYH2mI6/iYyZB58hXwbJWJ/rYbJoyDRBf54C2M0JUfn/4N5/sTVA+KOVKqBwByCk09+f+CESMh0QBuoBwLmbrwOiQb0D2LC/On4E6QWT2O3UfXhwUJ5+yD3h+AAEA3AFOoMNgHiAAfwOyjH5/4cYalX6mQTff/CIkRMQQHXKW4OnKWC6ljfhEQXxkEQJ4mrDQEfoq7ZeJsDUYG3wdDGTIKRE0NKZg/TTOIe8IGgZ2mYPW0zEhN7HY6HQ7HY6HQ5eaYIA2OFIRirFHAdrTMe2JMIkg9bTN/ieJu2gG2wG2hNl5qdOFIiKjyYrggAejIe6kKzv5sfgLkPy9M6I9aCerS7qTGlx8Ypv3jOA3WAN7acBQ/JGiReGfl/zGycTn4HgR0St1kPwP9e849sgAuG/BgQ4rYjfj/DofI3yjoKoAKyARdCZ1iIQ4P4CCR4VeJMd+AKZyKYrtYTGFf/74RJW/QeDpAAEAz0AomRQvzBjfqVeioMQf7/hplvN48SBXFdN6OYIAl4qnTp04X4iP+GpuW8Bj2z2Xf8XyThg5h3wQ8oAAU3fEdpqMi9YmYAR2AAACDkGaYHoB78vk4XP8IxfBIKX9ACMm49Jom///zxplmuTb0a/phnL4+MnuPjXT5OXhKwfxMKQiESeb4mPgq2/lmDAeJxQ70akzdvD1m0zRoABLIYMK/CtX9wYJZx0aIy33F4A5TduA+HsObRL8/8IxkM4AfaCCJpO2ge7AkMEBEyTf4/iBYmAHi9wWQgcrgdxfVimWKt41AAhG4Cy4G7oGgACw8wXBrXgegACAhYAY2gt+f4LFO4AIlAEN4F/fHvMMq84/tNS8l/h8SSNFhdnwiERPCcXdKuCGREbE9+MoMvegHH7IUhABEisGMIjHz8mERUJx3B8soG2kzHclAo+f4UwKJrHDimZIgSKkyg6LhzoxPd4T8WJy8FPh9C6R8M/zwMfmjNQfkShTioOLSTM3xLAB1yQBC5v6ppjIEl6rLQj2QkkV8AjJamds5MsjETkYQjIAK0WaQYkpvvz870DHpe+DcB8UUm29nXFjY0BcB6i9bH4H7kEiAg6TD8HDiQmN/l+GcFHLTfvwLBEi40iiV/thCEOCqjAHrAKqzjvgELYmWzVeyd9Eh2sNEWS788HAABAHs4CGUEjrBCJGM2ecc0/3x9ly0Xm8K5XhKzOH4jHpKN4KPHBnYRgwFHDQdvghqwEPBL31BMhbEkqPfxERCd4DB+2XphJJ/F90RgQv+rPiPCRwZgw1PvgC/ViARyAAAAI+QZqAegCHwczcAyXnMA25M2W+XgAhshHS8RblrDBIf4MYUwHfSyvE4CIhs5wiN88pywpEGQ4yiDiBziJSOh2j0a89V/bBKmZNAEg8nHh6YZUzwCXtdpteHXAohEZ0JAkRkb5poAD3wPsBl+MAJMy0YT2d+8H4HJaF/NS998CaAEwFmSqD9mL+/9IAqIIPtRjWzp4a3/wIB0eF5HCY8Y77/BRGMSIf7lEnbgGpQAJVmQAUCKl33ZFGmSnlsffYMQiOgXzMnIwj4i8CPscyOXoNCP+SSJKdgihUS4DIHQjNXOUdx7B78WP3lV1XPwQghCHVe12AEBulIn5kdJtwd9lEOYIoZEG8NLswwGQTRePRLzwLvUlnw94e/8sR1hEVVZ+MGIWdEshoFVavARQwBJFYH58JLKaTHASOxKvPHzvuEAyKwcKVUyD7aZwkG9MEWIFfACPJGGrMo/Ao+TDE8ncUyuo1u+AZQ7M2S/ahC8UyiEx7n5/4mMgsTlEqmAsCF5veBMEMXIhkgmyu172xupT9xfSn3CGxBSea/PhReeD54Ob2BbFIAFVYelks+vy0wwK7NLBAncmvgwnYCPRzh3WF2ggAExqMcEaYN3P8Oghm0V7DV+AoV4DATNUY8sIT3+YKBAnhMAziTHO8m8BhztO9/m8CdgyntOBHbR439+ArLXQ50ilb22NxFrLhLQKeWG4hwEjoX2cGCSBQiIm1CaekwvnJ+b/wF1Tg+EBIjFBKN0AaG7x34lgYD89fu8AlUAAAAp9BmqAigHtzcwABGiJ5emgxmqgwE///wJFyz2DkSX2Wli+K8NwfwcBa4CgDhqDEMisQfjyRvzsCAS/AO5QydniRIyGVU2iZfwIZMJQA3UMK0Ez98AaIr2suZi7nBguAqDI9YyO3X1QH2dhI7oDuMCmZrnJzwG6cM3IF5z2AHIAAQAwVMkBesEnrn+HEWO6GqbOz5ryyf+4LzArBv+ciFFgnhPByGRn4C4Nac4hOyTA/ZH/2EOxunJTnM//xgNpmCWIKwtTuL2QMC+hhzqVFhkfX4BvFIboYpilv1MADHZdh9ISKOz+C3rQVZPHAQg2tqdbX7DenimDwyCEXFuROfVB/CHDOQDI0yzXIRzeIhAE3LTpkBYUP8IBEdjVKyqxWf5g5NAEgtE48TvvD0R4j+FF/xS557//ghEz8mHZ/74jLwV09OnT51Es0KQiGRXhIx5dKAvtjnmJEPmsfwPP5/P8EIRccTfjeJp0zok+NzQUwwKm+ikEexXgKH0Mxx5UxbmAhoTp2LiiWti4eIjIADmOrymFyuqHrXJf//BgeELsi6kVt1+88kiJQiZDZmQEXwA+bhxisH3AOgIAP6PKA2WxJ65o+zAAIMFyh0r49/5WzxppD7OWIbF4r05sH4EwB/qgYmvCu4L/8BAVcA409B2waoNd5xInhBmsrd63gMzxrQ8nzUAibEcV1UcRKDA6AAEAW3HAYqboJap/4vwicOLHBOd6LA4nhPYOMB2OOnBkfAq8vRQyeGeT9nU/iBIiACKwI4NtWFKuuL+ZjKK1b36sT36KYYbaEtzPaizTfg3nkGOZ52JDIzkynUz+HZ6p3sGOG5ngH1++Sbe/+GAi5fIfA9L8VyWHDCLpMEvJzwIMfBFnVDoM2RPuNlE8AAPAI5AAAAeNBmsAigCHn8J//4EJ1zz+CWCETwQhEZCPkQ7jRs5VAmQJaLM9biX/ngCEAnDuH9os8ff3+YD2KCf9EHhn33fBgrhONdlNJc++bAkZoR1w31S3u/7vgLALhXW9FTLg2xLg+6KcNMqIu/6G4AAgAFAMgMMBw/SwUhEZ+cXmYDCQRq0Zv6XUfF/g95rnifvOblOT8A3bnMA3wAEArR2i/IkamH8DAhoAAQIjLULQABAhBc8AW//Ak5I0JlJNi8OA/Ek+GRIj4RhTyM0d98ENhApEUcCR3JrfX9fv37b/wQ+CEIiYJl5uT9uyjQGAghP/LN/Oufz/BCJghghEmwJdsv5fxEZAQVSjwCC6CyXBFvkINwJALoASg8S4sELXZDL7/YCTYQxRwdwgWIB9foffacapwqx+/wP8DQWFAX7vGCYEWnEPRBOiD55/DdAf/zw4gucwPwXB1t4puK+v3B7AzfjPN47EiQhwKpCMPcFGivqv94FcAlGmZKeW54CwA14pBMNMNDf97g/BZkCtZfcQ02+eCUHoQI3LX7PPn4JYZEiIAYgBhbx4fv8ASBWIY4X4vwyyRfw/AIMY4R7FpWuXgbEWYY3gcQwnhPmTuDDSEFAVckMCep/hAIiMOz7qsyNlg4J/AJTAAAAGZQZrgIoAiB+CU/wIIZFbwJWtJgwk2DbjTKf35m/THiwUhEIcD4AAwOWrmDkWjRShW1WwvwPhhNPkZjMhgBF3W7F0Ah8CCGRcAL7CPNh3PduzEPaQAdILEmR1Yhgn778AQIvSOBGf4ZEljYp9QfeGBAjwabV8QvRoTAJpmGgyI8lJCm+HhkS+b2nMt761ff9I99g4WJCnc2pg8CCGR8FKPUlhBn8eGD5hAwHekwEUCCESZUsHwQDhjn8/wIIRJk9MaMEJ/hkSM8vAQa+XX7iIAHVZqDhOYp/8gOqZHNQAc6T58IanEDmTjzNsZe51Kd3NauxocZpT//1nIOktokt3rwh6TrhgH9YDo/AxaWwH4/wAEMRtueomFHwyQpvDIkv5sEP+tIQSpK4FeBAOf4EEMkwxTB4QngiCi/Dg/pT//hkSIjgMPKc//qA4pal1dkFf/97/CshxnIrisDCeZYTlYrdoHgNfZ8qlb8eEMMQABAGzACk2GB27Py+RaBYRHPu4C8J1jNXEzrf0rTN/iB72eL8f7NSBtSPgEpgAAAaRBmwAigCbH+BBDIuGkFIALGJ7kJb0rKgAETWECgBzaCiafgOw/Kh5TPXA/wKIIRdsbJn7GX+AWa9+dy9zmgDnroyGiACSBBCIrGwMB6zMcCAGBHMQuTVef5NXwIIZEQAQmta59/AgYIJvekijwu+HAACXcJEEmY8bgAFR4pBEeBGpPwnE9d+q/fJCR/7bAkghEbbEnwD6Ai0wIIIXwidcEJ/gQQjn8/n+BBBSJ8yiB1pMQcFZkwEMCCETeAGJl4o7LiQVwHVZHMgLa9ZgA2RmcJs51IR9DC5+sVc4rC26piAiYEp2w8V/vgYPdEh6uR784GR1xpqZ94VV5kF2XYn4REl/sJ9Cg0T+E///wCFq/2wIIRLa7+CLiIMtHGBcVjX8A2Cla61yYV/u9/hWjhORX7QYb2iMNnu8A4H+qM8cby3//3YiO4BmEvEqp74HLMVWIKx/f5vqbcRJjVE4GsAB/bAUclKzpU/7+eBAZmzwqlaVMmf/g5XqN7LCkE3UX33/qlWJEhHqMC8gEe4Da+NEMgAAQSNARxzgx8EvJD6epOj8AgcAAAAGsQZsgIoAm8EIRCnhrl6J+6YdiKOTADjbhMjlVjOj4AAgG0AxUgk340mFCxTkScR/4GlXi9ZwPTzjByCwCI6e6AkghE+JEQjO6ztaIT4Yoi+GWY8FZ/9QIoGgTKFKESV+4Mz+7OvuCkIj/7kMww9RlHEr6gAEYJ1E4mUXg27jpCHghCI6AEouJF7YXc+MUs9VkkB4LMJsow/54PgQs2biKTmZceIdD/BCERPNHxZi2PI2ze48EXFcImBWOaHn8/n+CEImhHgJmmpmCE/8X4CVtaGtgAWAdgJaIucgPmWf4GgZw1wJUbQUH4MDHGGMTcniCSrXfYIBGfz/BCJLmXuCE/8RAAajBmcgc5JgWg8+5wRRyjfZ9jwtiXNhpBhgyDSGHhghCIzABuTktEW1S74AHQCtHZK+iZYE2eDBQAaqUQmGkPCT/3uAVjQjqkvTIV++ws1wOTs+4x1/VNDS50I6UMuABCjNTeKP784PwRAB1gaGSG/maPXMZW4TmEQwhle2akZGCAIG8CVrcYRDIrwIWms5FGDjGH8I4JIOQyIyZ4P5CL+GL3EPCPDB4BAoAAAHGQZtAIoAm8CCEeBBDIvMSAA9DXNLa7GO//7SgLteqOx6wQH4issYXyv/+4OpkNioxfgJD9YkfBaD/SjnRh7uvAwN02qwuUhX/cNgACXrhCQPOZ4eIinMN7H4CMom0Io2tvhg0CumL1u6LfAsHa7kHTzz//53/gQQyMg6KBdy2G4Ke/9wGCpzUXrjhMFu+8Bnc1zkc/aIbnP/JowUbzKSwu4ANwTzhIdj0rm6MwrHN/8/wGHN1GY+rLOusIlQZz/oMPg5DJqWCM7T/ARH5Aov4lLnnv/+DmWAqxv8xojVMwQwYg5NyhAEABMhCtTxBiiRvVlk8RL+S8Fz2RZCXrmk8hm5TvjiQibG7vxOCGEZIEHNrauQRXpQOFaSMn/fN8AwwDJHGarseQJuxEZDAqnJ2JVTsDizE+w8Of3YGBE/V+LbVhRf/9CR8nJChx8g/Mzdxf6G4GmwjANfS/weA2RH3KZ784N/GmoHeZXIKp2YiCbYnXYA6VYueU6HP38ACzFCe5HFIggSr9Q18YTEv1jF4CNeTiie06VfLRs3kFsZwqG/sGlShAMhKAMj/J3t0cX4eOqpgZWfCL2RrBJ+JvYMflAmvF/QCBQAAActBm2AigCbn+DkMl8APbo/I77QJT/AghkZ8AJVFQAHtAvOcqZCCvPwM6wnpRivd/gGoAMEtFoGbjabrUGYM4bdGAjUZMT7kV2WgO13IP/PP//nB/g5DIyVDO1KA84IxnTCr/5eMTr103xWzozT+sDCmFqtbP9ipjjEN9oPwDkoSQNeOCSbI0HUB3+RSgJADCMdgsnTLmJFh31gQQyEOA93pyGjokHsAUCVk5kcKc+SMjAlRSIhEjMhgbsoYehoWBJBDBFAghkVvOEASCBzhAHE/EeIX8CCCEJ4Svqk88YpimTMEJ/xD8OoKufz+f4EEIhKUqmopyMUgQhP/wQtTlf/ECRkDVImAAcAhW7dWUch8pe8I4eEg3PO4A4mBA0//coPrH2mZb7gu4PkpDh2PSD+AuzYbVj9YNLv/ocgNkR9yiPfnBjLjI0h94V/sROyd4zsLwAqSNzBwo57AcsXs5IV9ddlFMtzPD84A4sIZcAo3RxJ+ATdTMFSmK/7AbBaYZ4lKXn2T2rAGGES6rmctFjP3e9jX9y9zqUrz/CAZ4REidQ7BgGBJ5cTgoI4OQySAZFNnJDcrqCDD4maiCYcbi+JiPCHDSgkwHy/gEBgAAAHJQZuAIoAnATwEj1vz//AhB0gxIpk54CaCESK9AwLkP4l0XnJ3oIQPcpETk6uQBEmohpB7p5ChahOH4yALA/DgpZOQhDUEODDGBaYNW9lEAMbVbp3/DRjzAgD7uATZ6A9EYBUAy8GhkMaD3Q02Kf9ghCIQ4bKyZNl3gZFRGyTkSkbJ3vhA21xW/XkoZ1YTFtU+saGViBkbxxDnfx+UCOCETUMhEn3paJk/P4i/B0rnC6q1KJl0eDD4IQiPwD/bdNyB+eW5JbzBAIIvJhAVhimWKcI/bGCE/4kZgOqZHA49Pf7ABNMxsMiEltKIeksBwaWh0yoh+rQGALPVwUlGZX78CFkJkZd9BP2EhcdShP+fvuOyMwliCoWjnSwHT5i1SjDMsXsMiRkl2srf4Kp6GW1x2n/54KQpapIcd17aS1t+eH6AAoUgGoAOI7XkHCHdDKdNpzwEcPtrcr01+AwEAjYm3KL6iOa9UJ4AEEPWRmWRn/gMS1GWxdFD2R2SjpeXLyz/UIApCUB/SmaN5+fHDN1gAf+L2QbvMB2COCkIiPrLBrv5F4HBUjlEZsVkJo1DEsw+EQnDgQ6Ro0qLT6DE9UAviJYJnwF7vgEBgAAAAZ9Bm6AigCcH4JoEEI8HIZGQB3bcPfroMzvSR98AKwAMBOUsoVt9n+7iFxJURC/84wiyxFD/fS/XgBuDz+4ZFAYIfvoG41V0R1XGM//dg/Co8mjYh8Wc2NqcYOQyCv6zgBde6Y3X/zCD7Ub5wfwlfM8BWF/l0ICxNhDf91lPYQorIQS/JUCM/xPg4DBP3b2XwchkRBjxozUAhadB9o/8BwIRWQsHwgxGhYbBhXez8auvvvwchng5CInhi6HwcZMYIQn//+EeNsCCEc/n8/wIMTrAySTJA12ZeCPafmCGDkMisiOh68YVYxdAVmOAWEmDdXEjPAFgijqlhiSU685/38FqHbtl/zGQZNb7XgjYZy84giJwof98BA+BGJDLDJAkqQZ/1Fu1w4nvkI62uwFnbNZUr7/3B/5ZsojN+rwAPJUP+G5ZvGCX/fT/CAMRXjZ3M+HQHP4g48CC4OryMfwRcRDGHdcXfE8URp6QNptGfX+9DB4pAAXAL6goyP7+ARPL3j5RC3c+bHOFW3CMXNcsj5sxhcIhgJQj5Rv+NAqfAIBAAAABrkGbwCKAK8f4EEMhHjgio4GSG+tiJpjspqZADioL9xqjmVmib7wPCDunhcK3kVM/fYOQyLh8kk5mpkDkYGoCAWBG3edTzM32dJu9s3bsHIZLwU9FH2Rn/e3gjCf//4A7m0We8FMsTryQ6sAN3pPz9tFE0/Pgi9Inj+n+Ih/DtxSG/MafyA9wP6EH4EGo3CQSpWNclrsTEQQ8I+FEVxJ9hwFHBixyvpzje9qA6SRRp/3HkP8GyxES2N+DkMmhMLJ4wetkcwQn+JEGlCsbMc75/P8HIZFREMmPfnsdBitpmCTpkswQn+IEjMJWJxI6knx904TCi9mhwIn6A/fIKTwQ4i77QiuoAUEJ5G2Wf+lBj/2A8fSssb3zsShEiNmhCeB+LkyWRm4N/QMAgGe2HY9Ll0zPqufz/BiDkJQcYSksYJU2Tx0UCjoo8BFBwGBHwGrbudO/Q+KhJmaIZCEYCIPg5DIKoyDp4HfiRsMB2XlM7ABYT6cgql4YNPz4WY83QJigdds8U1GFTPwBGPltO2BhfTr1SriRXgInrA9aKB6LjgX8SIcI+Ux0D6UEn8TAbUAAAAGOQZvgIoAr8EIkngSn4DwFghCIKIADgDYacUk0mFIIYE//cgW6kOS0U5EhP/YIgIZ2MTMaPdf9g76SDoiyFtN2eHCMgjSVNX4DwAaCZtNO8ev/clXl4drNqx14Iz/xPhFxzTYYv4IBAiAqIIhsQJzBFlFkPwIMP/nJAARF8lZsieCEIjoBsmsSzt1T6Q5FLB7RYnvf9z5F9IUrBAVMUIpCcyJB760morfYeDwShHXFHScvpwMdPkp1c6zBCDH7w8EIRCfwS1m/UBG3j8Nv/BFBCJ+5f5/P8EIZFeVseQT/BFxegHGBcMAD48DBCsmjWkiH3gBJshZz1iP4DB4IBAvbnq8MYr1tT+f4IRMEUEIREazfzA6OYS9G7/An1ALBYnqPs7vv/ByGR/8mBCqmgQ95ojPl1wAP6Hxpnmw9j8+/hgQEIIFTI1lMp3z7wJsYWqOMfc6JJfP8YGU472pWvXWYcMDLuaWamJm7e78QJN3CZwdViAyOwwoUyClX5/wHbgQn/BLE3AH5nFPC0NPgNqAAAAFEQZoAIoAr5/g5DIvASvqukCzExo/cGQAcCGctV2kTCS9YsFFeVmEgSwIIR8SImagqwHsUAGA0yCSBvwg1JdAzmMlRKn4MGkioUTJtqoxbVg5DIRlBAHAAsug0xei2r28/7+D0LJwweCjTdYIgFNfRAhqHTp/9YAvl4lVlBweDkMqlWDkMl4dbYwQn+JEBKbw/Js7cPVk/eEC4aSWIOqaYCGBBCPEBEISskDXYEQ6A3OeR6Q/owARhSY3qMiqmBBrQlNR75YU8ujxSmSJicHL0mVYrOEPHMYIcSTBCuA+WLhg+P0GFRJSt+DxC98GA73GtDzKyBbp8l09Jsdrc0KG8/4R4ABhksQ42x0k+79BwAqTFCOdinoFoA2PgzFKLG/958/d/5b1ExXhk3ASsACnaAojcp3H8TBJwRcgyNyk69xqVPAbMAAABK0GaIHoAsECCGTdkGhreDkMl4BlVOnxvPBIf4kQTAQzbaWvZgYIDYY1IgrxDIgnc4kd4MpadbIgSCjDvyfeBI9NX4B/+6afzrm7vgaSGCBdmj70fg5DIn4E/tPdDoABY/KAlYPDlwAGPKwajKa/O8ZggR26wpUahYlvByGYIoEEIyYQNkXgPXpgIT/iQjgMzZNAwLD/ASPXHgaq2PM47eH3kiYrGOkyNeAHHL4IT/ER/ZlCJhicALoCKPKMjO1Jpn0tfhYhGHxikrbAAgLCxDuuBjLbl3/l8nE/8ZY5EMHenAuEzjcWIm4DUG/wMyPVvgAfNpKYGUMwl+d5YAJ2BrRSmRjy3/e/IIjdTiws0l+PUSJLxkIJgk/wU+OBoYcWYkQgzwwiiM7Z6dANmAAAB5UGaQCKALAf+XgR+jv8R4JYIRJpNhpBSPBCERlv7++cAEKPDgseRMilMfPgZQBSqF4tFaHE9yfFvB0lYGUNuFCRz+cAwVNeTTeD9isM9dpI4eiQbdrvvfMYBrm7FxBUmP//u/wesVhSFZgcGEcJvGQT1XwIisAD9oh9HH+67BCEQhD2ApVG2raZgn//uCKEhwRbltN2ugMG8YVhiioS3AaVLOm6kC468DQE8g6iVGOgq//veTS14AgZFz6xqs+GP7wYIz98RAW+cPXOiLnsL0ZTUZMXIq7wYfkRCIyCMxTlMUgMPgpCJMADtXPS9l7dUMJuDRURmRGZ6vfDCi/BEchU2VEDufghghEmzgWP0IFP//wI9+ehNwBv+0m0j1eaxKI/AnfWe9iCufgh4J6cAQCvXI4JqBnGtGE/zhEuZY9wDBytQWQ/GECyB/w0vBAIGQAezA+AWsYFkCXu6yKGwa5DFoPAdNmerYZAATJGDdhnYst5Tn+WAD1rAaB9gs1/fnAGYrbkX3eYGBWSQABoAVr5sOMH/MoQCIrHgtnI4YMCQXxxBRABH8EcHIZJthe9L+Ij4Aw5ilB17EmH2K4DDDAPyIp9YTN5H4nUmx3ieWjWf8JeXCRpkO9QnbqR/4m4Scbwv/wGxAAABHUGaYCKALCfglP8HIZGYEv7dW3I56YATwCFLlSIrNSaZ9TbfCxmI/sFik16ErBPn0AtH4guMqsL3wc1qeung5DIT+wVcEbRhNQvg5DIvgAagdkFIVEY8t+/LcEcCCJ4kIfJGQWIAdGdSRgNQjCe+oPcH9Jm9v9xIi8sujXV4cCBOM2CzsTzU/wchkTq047TGCE/LiRUDV6Zi7pmvp8EIT//8BI3VdV/EBEdbQg9JgAHCdVs5Bs+d9ZXVtunJK8/7JMzzAM8GKP+8hVc90hGvXi5BgmBfgAi++6v3+Ba8SuSsVzHiS8PewR8RQQCH3oxkt44RgZhJrdTccYX/3/F+ZtmzN4SzZSMM6vA1EwlgDfXkfjoPAgXGM6qhk8BsQAAAASlBmoAigDDwIIR4OQyEOiADqWNHRB4AB+IHUq3EmxDQh/9DAQEHYO8KXmIKdn3CDEKYqy/ByGS+Afoin0B/6qcCM/xMd5cHQVOgeOiI/iPGPyuBBerCsv675DXvBvBL+CAftaM/dQBQYiEbUtJiTKcP//ABeIDBejBaueXzfp1g5DJt4GtkgCKBBEm8PcnEAhjoPHcINPn8/wIMmRfB3BCf4gIgsgj8P8Ho4hygOHXL9jrQAnwLDfu75cRQj9QE6hDVRjo8l8Ii6rSUjgHtO0Z6X/D9We3suNQajGQFynl4j9VfP8HIISeF4IECL/BLBEpz1AkbXXndPqHgbmtmZwzCWxRx8wnXuDKCsJDugZr/vvwUIp8rkDTQt/+feokRBLiXgEGn6f8fAWUAAAHsQZqgIoAw4TwAIj9V/X//wJBaLPYIQiCvgIW7p6q8bxCHksxzoAKDHMKV7XronDhxGu6Whj3cdwUUhK6Zm9gcoGdVS8dm5HvAbhmKR/s4NpbsGA0bRzJtGSrxf5/aAANelb67XTxX/gkghmjQiP4IIiAiirk47cNGPCKO2RSjyjH+8MGCBg4InwFNwQhEZwwAsA1zVDwwq5M/4CebF4ViszvgB8Q+6auFkm+BbUGhBaSrjONER9AZwxxoS1/+t4JeMoowg4g9XuAICXnkz2MwT2L/hHIYK+Xl4+uCsEAw+DkM8EIRLx4QHBCf4IRLxw24Kfz+f4IQQicDjVMWZMxs0mYIYIRJuAiHSO2B1V6nZ3EhCAlX/S3/AAQB8EWoUq6rRKeCXjNEwBjlRfGSLvmiIAhikM8+4SBJ34GARnRlsmRsPmFRvnURkJLwvpANDXUrKo9f+7BAEM/4IDbBQ4hDgIsTwQBAfAHPJhurIQikEUX24OBB+C/f4gGPW+vPYRrteu38EIRCEAI4TC5iioSbtARzUERakMKTv8HgnAACAH8AZ3zYLPP+4DpIAg5UQ8yxj95xgNzgpbXv9JA5gl/+8Eg8MwwUJv//8AhavG2ICISmjnCANJ9THBLBCEREg8PSuBf7IymX5o2D8BZQAAAA1UGawHoAw5/g5DJugGADcI3vvPhj93ni+EDKVKdxjPq08dXs/BIf4OQyOw1IjRjkzgwEaBNIMqPfxgC2v4c6fmE74OQyMh+UYJRhWDCXAIfnzcCRyb87+DkMiaxowC20jaCL778wCOfsJMEv/z7/4OQzBFAgiYJT/hEXzBoAID+r4f2C5dt5oT6/bpkxMEJ/4icsGqrUNh8LNjLB6Ag4hoXjMcA4A+qDf4AdO1qZzwJnzPoSvMfsl/4PFOJJGHfvAJBOOYGubHcDKo1h95UgcHJgk8BZQAAAARBBmuB6AMQf4OQyXkYADraI8gMCWDEGPExkAZR0TNWfS15xEJh/7NtzUeLSNueUbuYHt9PiX0//CK3N+fRD0UYoJejNbuo4zYwchkZa2aQGg+tscBjyMRnqcoZG8f/AW8+Zm2cCJ9O8Uc/96AapimVLmwIA8ZoW9zaauX/4PAkghgiP8TxHiP4UX8CXzz3//xP4A9OhqHYdAz0w8BjoMEMHIZkCf//4EZW89g5DMEPJUAOPLzIN3m3FkPGR8hJLAH764k/nf4m0zI36vAHTlEQD9IAeo4znmAxyyMB+l9B/4CFs2b2YL92kNP53ieO47MRnnf4Em9XB7yeE5+wZvu8PLl8NIIQEvFdAg4ibD18BYwAAAgJBmwAigDEwQhEX4CZlmHbyxuCWCH4RGQBXbxKvPGz8qZtE03SmYGXONEF7R2DeQuJK/3GANyDiUmJzIEpLjf9iApVRWpRONf//cn3Zg28f+PX3et3tv/CsA5LWCzJDzgNo81YZB+VfvC1DhUIrDzBCERkHyHKRzFODvBdyMgjhUN3+CsADCjTJYfMYLxXeIUbW3Xh+BkCmau1iOQJ/7gWhmhZYFgi+gKpy7ErorAeQLdpUwujVo++DAiwABAEBCtmS2hrs1Bj/94vpCGEvmnsA42GhBHiQST/pcS/DIkkAB14WB8ZKODT9CoMOoIQiJgietGzA71sgtJ+QddJgIYIRP3n/P0f4IRAnXJinSf8PcfBDxWOiIhLazNRMTfY8/xIyADkV+ieCc8bNpxnAwsUtSJkKp0q/vtF4AAgGrdnAAgi9BP98GBkOGfPdFCW/t4FXp2trQWLDQ6wUlP503FyQq3f8LUAsFqDTA4+d/l0DAfALWAuNMGSYv/QLA/GYsQpw3+92CEIhDjiA1DWQWBr6Qw7u29e8H0GXT8K9fXgXNk4yMiH3rMhJylUgnLWgEIh55D4VjD/4/QGOXEPbx0J4Cjx6hkMmx4ACBuLBfibwBwTr+2COCEIiIHOHJ6rBNc/a1gFQhpY2E06mMiHff4cOXa/CHAl9TPvSFBjNDFPdvAWMAAAA7EGbIHoAxJ+CU/wchkI+ADn3Fel//xTjQKmYLh9GsCH9Z99MHIZGcfISSwI8ympgDCM1aOL73/iHemzI5PI59R9yYH7U0Izzv/ByGSxOOMp6UCwwYaBHByGa5IBQXNm4iB+/XI3/jv/3DfJ7Cd7/NHX6Tf+DkMk4RYdkYIT/1SwSn/hHgkaA9KA/UlPSLyBg9liPAOfqc19YLO61Gj47whwPv1PM6OBN0jcZTf48HvXJ5PXubhnT88Jad6ZP/enwR4+aEWngj4iIBOfg6ZkYD1PyKJGbDN1rP7sAt3cxvf+reuK8JsDrY2ML+AsIAAABIEGbQCKANfByGeDkMjPGsYXjSnaJsYAPr9OMhv7uqXtk8BeyshGecH+DkMi5lAx87B2PS/gCAG4UjUhvFh40azCNs7wRn6g4DBIEQ7Y30tyH+DkMiIBjb05/gMES9VMcW4oBvaOZnQmsr9xNV4N2V5ngPBiGRHdh/aCzVgxieRGvz4yIjBCE///wjxtg5DNn+DkMidcapu/BDByGTUwET1rQ0Moo6E9P3hDhn40cvXDTWbXngHrr4VRfY0nJsIEDB7ncQ6zv9xnLTSL88xCaJlXmDkMl/aQBudgPtqBo240Q/8UCCJ8IwRcRJLOMoJgysoFwU/wXynJi7+kGkZygCwb5FVOV787384AS12SwHunrLN78Tle6Qh3OEVSoE3gIqAAAAetBm2AigDXn+GQiFPBMyK6cDFcR/cvsOkDAQAMWk2JLypgF4kDE2b+kFmXcgAP1QDFPRAsSxgIf+96NGyGEGbpck0GlXi6ZPdLwneBLABsmNcRo53MQvFxqMVVui8CSCHwxEQEhJCTPB/yIkLQjGYl+t5f/BCER8Ayl0c1DBgcOHZnvQJJD9eBYcxcsILpW/9wexAt3KBHJFu6+gd2Fadjo0+8FTgFuZwDMVThUTIgeCx5B2FLcDrMzAhjLFMPKLG7X+oIQiWBC/gTCUJ6PG8h0mAQn+CHn7hmCbYGYCutKQcVNMgjlGS8TwQwQiTYaEmIA+31Wofn7ECQhAN70PzyAMj1DqzwPCSlDrKEUTXSOAECacWBbPZSqTaQFvMgB8NcWo575YPKAjtB2AtXDD7EH7/cDsYZqKx6lLteEAERYKpiVG7Xl/4CAFc0yZtTI78EMTuY8E3Y6Jgi4jakGQeDSjnlG7V6FX/+G94hv4HDGGRIUwE200NPnRnQAU3QA+GnbFNv//u4pnpCiqrIritlITiGKMhv/4PBsYAlyCkpcgfF3/33yW8b4IANNcQA4E2Nn7N+zMy/wLPz6Thg5DPEwjgI9tHZxzCQgSNZvQA72pge1LeOEUH4JYgIiMcH9zBhaQC9bNEbx34CKgAAAAVtBm4AigDYQYgpNgJBBTAuSAmwdJx7xcCYBehy1ZQNNAmsKPvf/wDsgxijAR4oYJAlgR7jvapXgN9oCQ/wchklBgyWxHSURJ7+DkMj9aGya/neD66s417DvTKMD3u8AtdfC6L+BkZNN9oM53eAC31bLDfvO/wchkTFjobR0AY2aNIQ/MKg+YZ8a4R1YZTlNv/WkQd05V9xBN/v/ByGTcM6zBFBiCniAjn8/wcghghP8SEBew4cRJmAE6wU8530xhf/m+DjUCY24MAwX6DIyCBT+f4OQiaZLAm3jnTwRQchkRp1k9IGatMNslu68Dh/rfCx3Npmjs7ByGRmEzXOjcCWJz9gwYPNLJaE/2cYQjkdnHHfuMPgDQY8wwNfS+F3itjFX+4BckHZJYn527wYLxP4AWmSLIgBBB/8x9uoiIUYjaex5XxPiRPhHgpASPASJ/BJxHGwgLqQwH4CKgAAAAYFBm6AigDYH+DkMi+42CHxEOLgbykIrV3V4EsGIKTYel7RomfxMfgDUmc7poYKf89AWZdmLpcrC+DGZ+LJcoVyZNjoMylN2X4Fjq2WG587/wchkZQBR2fUASsyNFXlQwk2iaa8+DzHrI0CX/uDIDIcdmKB1k7mKu99QZl92jegt2h+KVP53hGAB0OX8Qg/74Bx2dNbcXPPuxpKSSVsHIZVKvLwEJ1788EJ/wiEqRI5+gHGxAZ/EfxC8HIIS+GKYCGDEFJsOIuBq6YkICYRlk8eF+wZD+A2vJN+Drpp11NP5/P8GIMRMDq6MvQr6ccaERghiZI7hO63h+FIKwDi4SuUs0/+8nTOuPgGkjrYgs6tZr/fgYWaikify0OT6Gxk9/+ARAw65Q/30vhfNisYqfzgwiu73tvA9ZPVYed+snDxP4A3DWjEA19ID/ig7qeiPeDZCYAIIJUTHCXbE5n7ABHIJVRe8v762T/hAmEf9PxMEkHIZBdw0mo8ABHDX6dYkRAREAAAB4kGbwCKANjBCES+AFdvojvcBKE///wB3Nos9hkSM65ReAAe1tJ8eALDGDUFquLlYUVFH/0B3ZAJJIAgKIP3vAZNy3Dl+iSmO9gxG6QFfH/BXIwS8ZbVJvgOABqpTMfDmLCX//3f+DkMjICoWrYRl3s62P/1baZGiPwMJNHDRHRdnwQUmX6sVBP/+4HCdF1xYR76gMnIT72c3L+8GERu7///uD3Q/HKZ53AIBM2JcVuhWZ0BE6B81lMKb/+rQyBDaXrxQhU5JSbuwiJLwhNSCNPI5g9c97/f9B7/BHDIRzviP1DME1sEGgPSfnYTwQn5YZDLx2k54IYZCJPBE6AdYmMgEYuZmQAoABUHDUUu1QaFOKJTOcEI6FIMlB1Y34zgcH/r0fXntIP0xLacZNm74FXCdvKNLT31Bhmb7u+3AYK6Bz9TwqGe+FsBIPUklBx86e/uv6eC+MKksGl3v8xMZ+OgAsLcPJM84cAHiXDHgPzsZGu8+eH4LD81js7jf/zgc9caMiHwAmzgnTtiZoKXdOtAj8iAAEA8GI+VBXj5mFXwUDUIhkEmMjBQEwPpVxLmiE7+hYeCPiPh0jIIt6l159fvsSfwQhE2AJPs4JPTv4QEjsaNwI+gNoXhBnv7j/pjYvgIiAAABr0Gb4CKANifglP8HIRCOETXfsH8dHSmAMPXrz/ByGRkAFdXL55J7p6/TlaRYApAakCWxxv4nQxy12vgqo9cQ8Y9d4FFjT6wuIe+rnphVjlKsgc38HXv33bBY7RuGVP53gxPc5dcMQA0npjiL84GLByGQUQsyYtyGT+cBLQnVoVop4J/88DdATizSJRItp/+8/48REqBGfrk+AMEcLTnHx+l/3BxfplNvu84kCNkOLj070Ge8PByGRUImgN4G0miGLoAcpkXWCKDkIqlkwgCLGPJnSwQn/EjMdxB2mRw3cnaAByrcl3/gBTA0CTCZpacUIZ57exv3F9bUr78EANZQxrJizBZ9GvV3/r8K4m4cccfY8ZDvYWsYgGtqBD5JD1ek//mMZ3Oj54fQMLDLt2hXHHDRWtvwDmap+gqzvgW+mmR4X/84P/LAe15HIaKiQb8gACAOA5Q5b/PUMAQQlASC4EVe6eIbuaWfCLg8TAtY+QC9UCPiPtATGi7PohVigagAdkKq6aGvFr/Pv30NS8WfhCrUcV+vGRgnAAfCPh2FMjWTbDYowZh/4REuNSv02Ah4AAAB50GaACKAOuE8ACI/Vf1//8CQTRZ7ByGRmEv3aEZycS2hH+ALIT8f99JRDyX/ugQse+tjxvWE+sf7sA3JgAFrQHTPBhV/+83O6GQ6ifV1bGuf/6Gw7JbNqc6AaS0hxHfSDwchkXALyYrqxl/zjKBhccwdj0v/gUAPfFWhjOPzAZwJ4pjlWjsKuBJByEQRS/9LwcBjg5DIiADyl91+R/97gxCtNfbeB6L9Vjzu+DBGYEjUoON2gUP/vAhgAEnEhO0/DvPUhNoQTFEcxysHIZJHpXjERg5BCJ4ErVtP5fqEA4K5QEJ/g5COfz+fwm4ARdXfuQ7ekqJ3P4d3pNWOvwQwchkVhMdKDiUZHAEi1celi8mnwHxIUvRQAmzU4U4VLnP/62cRV1rIU/f3cZG7pbfhoADAe47HAhLZ1/+8DAEOwNuTKnEPheia0eTJtdoENqv4Va/gW+HLEWk9+8H6f4uFFlmjS7XmITRMi/AKEDq1BP3yt2BGZPI5Dypgc/wYgh4EEQWCd8O+CLiIYoURjjps+dDuQoD1ACavTF19Zhz62mLePhgeElcdLjMeW44FvzTNHh/7PAMJ+FVK5zy/MWMsxK4zhSFfEGnPBgU4IAgi++v5fDMKQjnq8JQEN1n3k/fzmIRuADuAh4AAAAG8QZogIoA65/hkIhTx0xgKPPsw+2cCHhVCtjhrfuuaMEtxxiqkd7O+JAAyPeIGn8FQC4AQLXWSiRaElalINKvF0xoEv7YAFhCxxaBjbS7o5Y3v7y/LO4I4ZCPDAQEQBa1ICGSb+FDDK4/4IQiIgMwAUFy2kDn84Myud27f8FDjpluNTH7q/wQHYnTxHUT//uAEYI6QlGq2K28gOoSLxEAWUEh1AkKxWRG5KdoIPv9vM9j6qofGCVhkS+nIVWCKGQjn8/n+GQiJwb6VtLmZmQQwyETZfG4niApBZiYyaYAEYJDOqCKatD/YBZI8J4hWciBwA8AUGXN14XVOWFjX/AMXRxNj/y1iyMw2lW//vuIHBeqvm9YIup1kHYBauCBM2j9/uD9PwQhEXGM7TV2vCAo4bEVDdokABqHMB4WYKWbJsR8Q/S+fz/DIRBHQIfNqB6eCKGBBID3ZqEZsD2F+GRIyH4ABAP9+wLL1GhL//vAj0AB8DQnwqBX3QEkqs08cWGOb9v8AmB3vvYK1wqUumQ/yO3Yf7zSdF6zcZf+Igk8BIOpvxKsSJLnGN2erxFx+Z+CSJkghfN+qSOzS8DFAAAABuUGaQCKAOxBiCEV4AZd7VrtWotpvw6ToWDkMgogKIVrHVDV8/zHG/2m6RvxI7p9pBeAAIA0ADMYDxUf98B/ADOiazGN/54HgNmzo7iP9nJV5eAyGnbTTYMEZ/xJJwgCAV7EpikO2r38TH9ZOK+CZSLhtcj8ApNO002/3ghZaqYcf0D8Oy4xQofPOCNnIybL68P6Jmjfn8GIZHbYVEanq0/Dz91AKIbei3PSpqnSP8HRowAWoFSgcTf/vgsjC/Dq8QGp8ANXhAscU980ekpBISnUW/9/4MQyLwRvrBLpE9XGB03QEUGIIZMICvgziIg6ppkrMRAIT/iAjDfS1hjgOpomKoFXrABbibYhZ5Wn/4ALsAYbpuTThweBAHBgGBek2O3CAkHsN6nuDEEJNSmOCKDkMkgYBgpESlyVYWMJv+szicyYTlP3T20OZPZg5DIz0BYLD/WZ3ZR//5wbQ2vElrfYAYSdGiavgQFslpKjsN//3B/85vtwFMDwvvJDsekBSAAJsDTNcuTUc/8GIZEwzCmBcxzvzeBqRgJ6MI9CKbL/vv17eY+5e5Vff5Rj6op+8eCDVoAwEkTgYoAAAAcNBmmAigDsH+DEMgox0YQbh4gD0ox9jZyse4E1+wj6RTf/ARTwNwkXTjT9+8VPl+KXgkgxDIrw7Jia4vA3+CquE7pow2vMBC5kkV++8DScmPrCwRbn/2D8DwO5vixjuGf//cDbycZDTX3gjmvzEZSed86cGIZGQDyQ3lCwSnsA0CSruS0pCBf+4PwyA2RkZj7wdQroji4t7kAJIgXsrHqyuQSeH8B3kHcBRVAYnaxsVGb68KKHHYjt2AlIuABUG7DxI/h8AW0zLgJea/eDwYhkFHw+nC5t59fSrBiGS8cOcEJ/5IaiFfn7wgXH6Rq2mAhgxBCbGRAaF2PCENS4maZo/gFOchxZHdyCuwLuNTxx+dhlKGRzOV3eeTDL06mcEPJCRg5H4xK8ZB3D54i0I53ngwIBZlhv6Y6QG7QXPr237Bacg7ZBOVnrwOg0S0skkP9jg/DAKqaa0NGVIdAUmnE71Ff/zgiOBIeDwQf/8v0vwTQInI3ns3E1v4PuNpzF+nWgNyxTKHpAk924MHcFqddQj/7cAFrCpqg0OEP9R962HZ+qVLisMLxRPtgaSAjzHTj3oYJOSFIwlZZ/4IuOxjRgp0BhgAAACGkGagCKAOzBCERfgDyfENPjAEVcrH5l3BwAIEJMBIpmtX55fexTBIE8ACI/Vf1//8CQTQs9hkSMts0ICCR0OkfQxgTI4SjK7zvPBgD82E6z1yGEbfQLCwQ0przdoHWkTH8MEbiDNQjy2Pfr+CEIjIBZIceU+FX/gGgSd8rUpEgX/A/BiJ3kYlUeB6xVJGcflvyB6rAFYcENHxuwlAAYwrAPCwG2ZWGx2I33goyHJCszsIPwQBSYWctD8K//7gFAIOlOBjS1aZE+UJVsTCHAGTIxIdqpnR+HzQM1ohIaO61XlruGgQBDmCAJo+Jl4ED0L3jD7vBwIoZCIJI0IjoKlxPcIwTfuxMi3wYyZlfRPBCf+EMwQBhPg6AcBU9FCQANWQW5ymIW+wNphEHqSiSnk77yQiGQTYdXS38NyWE8EMEIkngGdrxiRIyE6/5W4DwAVfTwKww9Ob4R6/DwTUB++DpEqyVIrq/CuJjR24HTolTGsl73/uD/Bhu40nT4PDtSVlYR69wwgBFiqLIe7d/4ZCIyBE4TzLZlGtfB9r2TZNl/9iA/VqCx6Ekv//uwW0G7VMznvnh+AD2wJQk1JEmOeAaOxCMFhln6M/gD0jtDBQz3RNV/+D8AA+IKa1qqaDpvsKBAGJYKTbGBD9H4o7UB/iYkS49CfXAnwR8k9rtX8EIRFeCJ6RQLvCZ3N/CERgJB6YH70M9K9LXpfwMEAAAG4QZqgegDshRQAIj9V/X//wBiu2KA95eGM9zUPvBIf4EEQEqL4Arm0Tj3GkGDkMjIAgA2Bm45Z4+zEKFJFcRwlJehSqI9zBEAgI6OOWPuE3b/9wMb2jSfntopZPwW9VzgKAY75LVJK7C7Kplf+vxvIwlKfrA4C7cB99xwMJ0NjI7BiEQhwA8FRSqN6JwfR7v7gwjDc5OcAipkgFrYgEKz3aGmvLTbTYACA917UhCVLGf3w2MqHwjgiP8TLGhEaa7OI+CEIvmCB6QgKPwz73t+MpQqZ895pL/DwQxUAsoKpw/wm5OUpYiIOC2dMBFAghEmGkmKumDjcSGYIT/BiGRmELJRJ9D+/Ag1UeAkuUwK4xGr/R5D3/coJbGHecVrwlhaFMMpxlEGEOceXttMXQ6MXOWTDpLN6I0z/v/BiGRkDipUXX4XFP1v3/7nLrwopRRJ4yqvTGx2xwEXgC0543dOZcAA/ABUqyrJTw5+6gG9pqfgeEQyWBAb5aViKJqbMwdk2AHAIq0wNeP+e8EvJbQREUheAdkA1PeRYRt9/4mE+njVbSqqCcp/9/4xK/lgMJnZk9/yuz1fgYIAAAAHkQZrAIoA7Ihfl4R8PfYJYEEEHBSERkJuuNzCp7jJzfTwYgUPIUhHS/DeaHkfn4ODw0XNiC0yG+BcsAN6IXmGPryBlAxIx/dUsaa9BnAJRpsp5rntfB+CAP94RTmFsv/+B6mcQlN/VwUhEFfDXxmixCXCp6YaAXkgBkDm4JHx+JTW+AwQAATKFh5hpQiR3/+FfMSm4M27s7xukcfV67v4lWGYvmz4e6Z0LHfYI4ZCArAhdsdYI3KjHtb1xEAegaHI3+G9x+6A8EA6ogoNrMorn/raAg2zFpethWB/xPgxEuO2/BCf4ZicAquRrfGQ+nmkQMByRIZeDr8bQAhgQQyK8PDWQV825oRFtN+YgSFJkkAFdFbPQk67geQhBobEEi0eGu8yITPKqo3+dCpgAOAE7FzANOYDo+dBsj6uBC/DawjUXfXgAvF0/2pUOfunV6VYZEi4I/Z1cV3wHuEuT7uM1+97wHLmTmW07gPxuBv+dhl7olP//hqJEwRxMkADKyMrCOLi//X9cjjGp//Af+CqGwaUjC6oQ/N09qdqPAbuAS20oCAjJJQzAAEAq7sAKfAc7fz/KIgRDGNiBu5hC6awGEaiyCvp1hkQL30QGg/BGflrJkdiF9m8d482ESVB3mjA9J/wL8AAAAddBmuAigD/hP//8ErTTYREjIbixhI+gH5lpgEPoJCiyhSR3AoH6oIlokpW/2B4V/JMV+Bm8lmExM8cXKlj3/feDEy9bTfrB9HC/GeQOYXFhCjbIvmJhDgoKnBD6xAXAkfugZ/Tai/uDBxxkliGY/v8wCJpkhpVM5HcMbr0kZ4AU1IVIj1AizHl/+/AoQpT4AAQAgBWqFwVf99hGbhxYSD+gEcEIYJgefE0+KlMLiNqCCuqjBZFBu+A8A15+DPWYfIa//5/iQAD8AjpF3GvRCpEtbnP+3+JEcMxMNM9EVl2wF9tUJd2kKJ4paYCKEQgEoegq94wcdE7CF3IDV+E4Iqci9PBCf4RCIzGlUNwPnwCISbNnfwAP4VbHIo5UPv3gVUox6wC03MURw1OyBgj8gf0swJy3MKhUPcS9liRBqcU88GqlT5wLEQD0LhWpOBO+ZxXXNWweERIuCMBSA5esH6kSPfwDaYBGCxr8KP3+f5h91t5n9UHZgHkOtj561nwJYIBBIJKHtkOPi78MxvbYv/X/iRIiB4sopJEywyRr90H0YlZ1fnmLG5jwMHuAFKgKmzBGvA4WtzQX5V/QsyEfxeLgg+sFwHxyM8zcTJgL4yA2jASOhpTTQL8AAAIaQZsAIoA/5/hkSMsg9m+Eh65z/Ayk8ieQUKE7/gMD8JgARMwCW4Hv88YIpwnPr2R/T/dgYEoDIEWeyaadBA3gHniOyVAoVd1+8wQiQhwJgqcxS6KBgNwId+GNTTSu8twp4diRhisYvz8lkhpVM5CqGC4cYqQS0Ne7gC4LUVI9CkPrErCP/vBAHDMXjf16WtcBzOwEZEFJdc6o90sDsY488AfmFDzOwiEC+BgiVtzAiP8TEyE2mtem4F20h7p8jXb8RpKBxNAUWrfeBftdn49/7/8FnEUDSg8lIzfoCIKQWBNYRQEjG8m/94fEiO72/PfoP+yPhEID+icvmxnWdHHRAchNhxsOeAigxEisBtiXWQdU0zhHym0SZVcSJEm25+CKGQiKgUeTDxO+bDyiRkx4vyWABjUUYfIR38pCWE7oL88RFwJPqOQTVdwNukcYFFmSzzEh+/A/GX3eXeCSBkkhgp6CwBoBr3KACCZTNP4F/8wzLw6AAVH9RvcYX4DM31p7/uUSICUN+QctLBB/w9J2CKCEIkuBoZj0pAj/Q1op/u7+GIiC1MAAQAwHCI+NZE/fwHkRRGuWt+eZs3OcD6AQG6wI4lzaUJZ/7yAdrAufkeoJrIphmC70AgvMAKKKD92oIOz7BQYDsuYgUl0jmjMMpar9oQhPwJ/TwG5n6Mx+VOJEC8KenF7FPA/0StNQyZwf7hpAEupGiA4F6AAAAfJBmyAigBAEMiQjwAYdNxxlQG/EI63EOpvvpfBN454BjAHHRLmKRV12Pb/DDMcJcU+KthYn/2CkSCvgtYcLTOEEqe/5rTV/8cMw8zJZBzyIRAJiAYKo4X5WvdefsGKwGKkrBx88GAAAQADvYKFUsTd+/0qwzFwVQ+XTsSCneTsc83gdc1MqBMYT3MFEnTsOBKjDj0YZCAua6j6EMDPjPzZgjiRI7IcjT4gdten6/dmRoZlIdGKmH4KZMwQCBHXaGFXEJGmak++CUUa+V+11/g7gAwyJUJzdp60AMO3AgQniGcsq+IeH72uyn4aMboH/CIkkKtrQXwU4IT/BiIE4gsbj/IL77rWPAx0mc/n8QvBTLeA+9MwQn+JDIK4OCjOmZUKiIzLlLHSABqUty94b/3xKLoVSBMAjeAwBF0KTs+6/E/iBfCwEC/GGs4wdBuRvdk7vzBcwA+BoJ8MwTvQxMtevpP8SINxzNeoIgn/hHjb//EglwgnMqi/EkGP5eAsm62bgzz/9gH4aEDTi5qnfgIUAAIArNaGB9cnr8nXgq/4XEpObFKHvwKqBCq4vyhzxXwsN5j5/XccXmNzZVuxANkyhxDKCFqIeg6yy3iU9XjWWqGVoVYB+P064gXnr5HQHwDP8qAqygH8SJ8NwRsxwXx/gXoAAAAHLQZtAIoAQBCMVYKAFd0trfyChtAYeSzTAMwArFFFqbp7iun/Rkm4QAFDuz4QEd94Q4s0t9jIAk0YBAyjn/YuaQqhBKU/eB+E+TkmRudAd/AEsoJ+Gv9z/wjFwwkdhNCvf8ALTF7E6qyyffZg0mCBsYxuSN6WRSMfbGwRz6BB+ERBaPLOygsEcIiQlBdaZelacmtDcf0D4dkxhCIhuADB/kuy1/gdIt0/WvP8Ljmxb2X4HoAC0B2yY/P/EXBDQg21dtTjL7REAgQiqczGmnif33/CigARW7u674CJRkOj3//CIQE8xt4HQFHaYIoZECcVsmK1MePJmfz+f4ZECeDCqWenTBFDIkXjhgAvtoPcfAAcD5EDbm75MGiFP5wQABAK8AYugl+YMYvgYRIAet9Cot2Baf0PMv9sPv1TfgA20jDz9sjKWd/Eql+8h0CL8BX54IT/ExG0pntW0FowRE2Wf/fAmDSNVMaxv8G4ABcyGA+6KHfmCmCqH4IhIFy5s5HnnPioM2qvHhipaEWsX4B8QBjrtQ4kL+rFfYy3KnEwhADyUQKUCGGPvdFCRCJHv0wMzHhx00AjxlNT/CWEeBWGWDQ1VIW2ILU8QPwL0AAAB/EGbYCKAEAQyJFQmZ9x6wEzqgO52xTMMiRcHiKMpesJZ8DwEG+IopvFg4NCgABAHAW/KCBweBgYWwAAgKPAAMJwKr/A4ARE6AFXsCoX5/4IYuHQEj5lYq/AMHVGKmK8IvAnv3+AtDItmZ1URvf/9VCsLMOoAAgPgAWYGCCBuAKGMEj0i/4Egm22gG43CputKsEIgvh0RDmCIJuVfx25ytuT625Rrbj34YiIAjEWlUBik63FFyph5AEAG6bDF7lx0H4PAma3k7lBwbAIJ1PX5C/z/wzEQqCBOmi26UrAQaEAG+tsJTsQvv/b/MfcXVtW+D/OvBiEXjDL2DBEE3L/6/NCFdznfP5/gxDAqA0K9v5g5bJMw9yY+CIJuC1pn0rL4O0IO0OBBEi+AA5wh5qdDM5nL80AXvYDwbcPCA/2c7BL8B9sAAQE2KAQOsKr/OILw8Dn9rR+AWcwOKjGjv70/wYiARTryeWgigQQiSA7k1lYraYC19R4/kSUQDA82DSr/vg/AGp4HVq9jCVWkfIyOyxxvm/pBsE5yAwbd5f4FwABAHekAAMALuODr7mm/jP+2LCjm/qgTgSDkkVcRg3L3YAdQBANYcQ3V9GTYTCM4h2r3/cf+x9FqYPiI0t/ChIAIT1dnl+/fwBkeKMb9BJlkmX8ehnwY3CVgpMFgXYAAAAHiQZuAIoAQAFP//HtPghi4HHwqSkAEiCwlWujOkTpFby9MtAAAgBAJJI2WTQIAC7gJcoaE3gcBC7TUY6vA/wQxcJ2BeYjsdzoJjADbFBDdjK7X+BMOcgABqzLBxmY33wTG7XweNvXg+y0wAGHOHX3+YMQgI4DpDSWFmluoEe8YMYngNFMm357Y4PnG1T+CI/xEdUIAFQfFpUp9OHOFR/wykmBw0AAQC0gAQrw8L8DwELkM7Wvz/GESJmDxEZM8RER0lA6pi/BoCgAteGAPx/gKbVEwCt2EgvnjH/3PbbM9m2bBhzqHgxEkgV7LrNFJtwRH+GYmDgFuVMwcKVUzD5pj8/n8KKAla5B1fAV8w9/4Juw8CI/xIkF0BwUypmDqmmeAD8knAM4EcfXByA+tAAJgCwvxPwciBfDrFNtB9qYOhC/bkY2vMF3gACAWtgAQzgTfgCQVbhyTjfMEPTO9nfgxECs1YmmjwR7H9ZgiP8THQMUaZivTAeYllgRRUUAYC0Fuv+g9AgItJcJcaG4U2E/+BgvCOATx+tZ7n4j/g/bsUet9IHMAKWsKT5xfems7kFUAAQCrUAoJyKCreAIB5TQgx5SMGRVLWbYIAgIhCqfHvMBSLLA4qctri/gPBSIfB1UQgLsAAAFwQZugIoAQAI+EYuGmnI9q/RB2h4DQ7iywzOj+htL/wjCPgr5YKoKyEfCzoF84AFsMbQvf5/hYE4kYJPwLjwBQZVCxG7MPgt4nvxo3kL5F6NmERD7sKRwiICfCyECNjgUaCl4I+OwJH5Ya/kA/5M8OYDtExofOcIXJZvx/g96TMdX4iIjOe20OfzBSAHLQqLInX+cAAEAWAKQMnmwiCRXURCE/bf7fxK/hEME4IshG+EQwXgm2K9YIoRCJfGKT+fz/DOCKCGEMHC3dMjk2IDio0y9R4BF9ee8YQi+cbqUgCWA/KZsVzrDwACLdga6EvwCboYANsTQcvYu/sSILwNHgll7sFFjCir//6/wSbcaBAkviIIoRj9OYVCb5Q8QxVpngMKjczH97Au8t/whEf8cmhmpX4HqU9p+f4cQAtB2yUvwBB24gGmI3RPZMYkQ4WxMho6WeqG1mrjAQZ0TBRPi+/jyy3iOTAKyqcBHpj3V/wLsAAAHiQZvAIoAQDBDF4Be/SGNhEtBT/Ty58FIntXsh4KXRMyj4PCMI8CEVOYFRAAjQKCRaxb2g2AZ5qlE3yC1gTDIF2dT+X/CAAPpEAAUAugqOsrAAEAFD44wHh2x+t/ADghEDuFedosz7LrPowaGN3AWYgIZZHRqt8HBa8ET2VtDyH1vwQhgEMDbUslhZfpVgxl4RiwCmCKEYzAtfpLMpZB0M6ORqEUaX+2H8NMGx5B0TomcDZeRB78FERDoABk6GA2aNC/A8KN9V78/wUpA+L8FaUfvwDYkguJSo3/f+fv/ggqEYm2jfTuCKDEMgn2VM2sRpMYK9pPzS5+4RmjFMUyZgigQQLIqkVi+n0BQHXJMwUiBfwALInopF9A5tInn7zCwRBdkvuID34HRTSYuvzBCEReADrEbcVbkLHwSQGkYFF0TXauQB+ScA4LmRgFISIGnGS5a3+/EkxrXBKeNZv//WIgixJNIpmrwUwB/EPmC1lmEuXW0zLRm4oi8tyBK5wCCdoxbJeuEf/AwL5YIAepwIWuVFcB4xLgq7ucE7tufOD+nWIiP+HAuiqjt/gR0ZiuDB1SRv/ADjGqL8lQ1bC4gnGstRBCVBRQhBS+F4hJTsEAgRJL8aIgMYZzzzf7hO/7p/wLkAAAIEQZvgIoAQDBDNGpAJB75PcUYXGKZ0aLUh4R4AC17RKY1ZF1PJBWxQKCsF9/ACgF7wIW/6poN1w9y6YGU9icTnf+DDhWSmbTTwMfgAX6IZ1uEQtaGwQiAU8NYAAgA+gMRg9f4CDQVJFwjuaJvwI94IIIIs8yjjevRvfAIE1uTnCd/97DCxReVFS3yH7zgaNgRidrUm+wzI7wQhgRB3lLGGX1B0QTICdH4MRBcF3JjCBFBiCkVAxCdMGf92u3RsvTx5MYIIiAI1VBXFg2FPVro5bDHw2VMwcnRLgfh9RGUZvn34JGyCExV9//n+DERBFBiEeERBZ0MPFM5/P8GMV40mKpMUdMBEI+EYQgs4EdOHqQiGyceVBdUzwOvxunSClbAqzgAkF8hZS9mWz5Ds+Sqe/3YREC42J0AnyswjoxepQASWMAYGUJF8mKAdIMKCFTFoRjX7oMIAAgBrYMGSKv3XB/hEIAogDZAPTcxAqoJSUHhanAMDTFB5B/8/gI6HUfiVYkMBHAq9IVg6bYGUk3tgQqGdE+8ZgiP/EYFlc0s6yx1YyB0RphNz6enL2Qp+B15p7bG/r1hGIhkFrbwFmtgAEAYdOM1Dexf/6vgCtKFE3VXaAKWO1sr4vgRskAwIySTdGH7/A/xER4GK+shBC3dpdEzUO5Adpg/iqEj85cFK538SvgXIAAABzkGaACKAO9iDcEecyAqWTOYCOEZvD/LwjCPAAiCzIJNzlMQukHTAiDbiBo9E578AB7qph1sx3//wFGjIAAmwY+Bp+/IA1ArZtDKeDwssAfZFAKCZkb8n3vp8ASwnH+iGEtc77CIgZwNCsG/djzcg7fioAMh2EGc0PJ8hQ02ob3h+BhOMgBljGDWf/wF52FoJstfXlAoHGvPv+9+e/BSIJwxNdcPv4RCATtv5Gs/0B4cSYwRYQJg9emYPECR0BQAwx5P2FCNau7FVaUfcRPMLeJ1qN/gw5wA06m4j35Z8ImtMI7md9/4CYvSj3vECvh1JsrLvwzghEfEggLG4nwtBEs/wyEHHkx8EUIiQXYFEtBpct2YlXvwDUzTMHraYAOfFMdRFcS8IiReARskNE/5gMvxqjr+QEI/714ylSV8G99pbXzAf8GEmKd9Ev9wP8IxcDqEhU0gKPbfveA3A7fjDxq08bwJ0ARwtIyIjTxHz8K+cC2RlPriAj4RcPOYz58uQFsdBwR4kmECl3Ms7L8OllF0zvEdNOjF1J2dQPBC0C02oiTxbf9CRYGHsmgAMWaa2+vA9C1deR/Af4ZECIfK09vyjhsWOYJDPTv8Yp+BdgAAAAeJBmiAigDvQYhg2gh0Yi9cEIICw3NLu+oIER14KRALOADKyttLZ8Ch8gQua8Ig+fugRqlwASjgDtgjPq0rI+M1B6xfQADkAdEMsPMH/PTDSMec+BhgAaxMfsIxVbEq4gZgAyd+SNo/wCoAuswCt2PC1KGv+7XQTWmGOQR/w3uan5N+9UGARBpcsN0O7r0GGBoAlQqgBflgY5MT/wDhyFCGFYw+x7//gAy08p3ecCznW2MoiIt//+cTGcp3K/A+Dh0Grw+ERJID0iBCeMDBwYhiCE/xMdIymP6A8fMABa+DovtwR3m044AkeKYDBFGl/+ESiacHGfz/BiCgTgQZIf4npcdoCKGQQio/TD7ERvSxg4GOOTvn8/wYiR2MU0ytoVenXt+CKBBE+GBcCRzM/PPqFh6wAyyDsM9PwJWRuVAEeGJcRjPpvvg/4gZwAUwh31ZAh/7V8BkPUw5RFpWJk9/zFJAPUPxAZ54AQAY7ouZNOluLawItQEMZVDGHlGL4PwAL8VDZ8YkJMWIr4ANKBjZwkRZ4Flfw8oII0X78zAZpsUWmwwEBfyStoEjHQ8FYy/BCGBPCQaxuhsd8ER/4j2m7qFlAMTF6MT/6gkaLTzXddX4i4ba2ni/3b9V+hGzPf8SuBcgAAAc5BmkAigDvQQhAX4ZhhJcZHwYhgFFggjcQXaowjcHTEqhN//gMTa0zt/gigxCAR4QsoAMF8KuFKn4o2zIGzSZpQDV8fhsA2D3y5yAoo/76VUpxw0AY8XTCdNVrBX/+wjGbKSFbeeYyucAwAdoJXkJjuv4BGHqK6EFLoWe/j/D2WIX5ie6l3w3KJ4zbACFT77QKuQzErnox+/C8ch+JgKBA6GtY8yLCeb4K/NhrOwznTr7prJkJxxN6VfZcsC7FHbE20g73fB/iPgQRDh/upgenLi8oQBBFEAwJMeFYD+DDn8/wIMV5V4IrSdIcmVARCF4EEIlrZAT+t9J/P8HIQJlfS3giP+EAn2EShgUALUOzzJ6fiAgCBGz4WcTdolliRAzgBgXkmaPwF99GjRXqADVkFqVyEe+CEtaXGfvKlujGdXH2FIRkdQqubb78HwZwIWMjLX+k0mg+V//q0fMxZS+/wv/U9xGBVaMxxScx+/1iRAzJ0fcQA423R/SDB19OOyd1z/jfwELa++ZxVz0Bd/F/f3+xweZ6IMt/ECOYtcAPfuU6wE11P+Z76agVTjwR8kDbSYWxxfib2EJhpBDDgk/43fSCYdpyipSDv+JXwLkAAAAGuQZpgIoA70RLwAUYGYE7TySin3wE2wIQ3I0Uu0qqsMhAd4RMNG1TLA1kerj+GQhBFBCIFeHm5AJW1oNsoKfka9PPGY4MMAObFIJx6CA27ZIpfLzVv0FmTAYSAIdNJEOP/s/9Eg4WqAgCHZNgwWfQejIDcM4ZHp4GVRkDD+FVNaNG3DeqbBAHwQhAd0oiIEkwiFKUtCUITHY0c3FwZYdeBHiExXqECiKq8CIGiArDBMk2FHPtBZAyijsKOKc8AgqwEoVKlSZX3+6/v/7//Xv+f4IREEUEP+fz+deCGJhO5NP48gwRQQiHhOOTx5/P5/ghCEEUEIg2sO9jERnHzyAW3PnJ/rrAIibJHXgL60knD/2UszoNyq5fAAsADBRUI1QOK4j8LmgfkwC4WYU4kOMzKBN1wQZoTqv7WszgXVPu/31/gH4Ck2NaSkX+YkQMggOwBGRRI/MCW+BUB5QU/0BDw+OOD8AWwpupSWkeDFB5sADIexaSv7/ZfAAfAPjEUT8PDqFX70Dh0AWIooETMvf+3fXt+PqvwekiItyAygrS/vB/wyIgjEf3PuuQ/EqGBcgAAAadBmoAigDvQchgXwAPox1L0MH0ixUAAhnCyQZnYOtm3okT+1gNPqbx3MWQd/9+wchh+XMCCGHAI/dpb/9CJCE3/+Ambtt/ghP8CCGBnAKrSMckEy40yJr/6gA74jR81NuPxd3MgADAAqJQA8VPAcU6YeaWjYe+IHxj1nAADoYJ529PMF1LzHa4/somPdB/47uCkLYiMyP8H4AKHWMfyKCFn7t3hqAKCTulFj/ngHpgekYS3jv91ZThqqqroHZABYEjJEtvf85vv+9f7gQQwCb15EkIWD2OnghP8SJH9xJj8fEB4A46GfJEhEVG0HzeNUwRRM2H6R8T4ZEG7QACQ51GajL7041Xl+tDIvZ0bGHe/7+GAlVIOAXCHv6sER/4yG0WFgDxgTsJHp4AFXIxidOks/Xg1JEkE1YJzyOTEWMdswkYc+IWuEY/VO6T/Ybz0Un6bxkStYHWQrCROeHDjAf31/CCQCq6vmwScAaDWXJT/vLwBvt5AeRs4Kv0/TN5BNfeD/4jYt6AGNEWglzoOQqMdFrmD78weCRU+gHf+iA7zv/hiCMQsC7AAAAGHQZqgegDvQKIIBfAA5pdPvu//UVTUgDvcmA/SIDQG/1/Aghgd4aT1QR7wRszNRO+oE4HLxMyII+y9+oDpvnMeHEf9dXgboIRMNyOkS0/77AghhwC9/pRt/nD5GZ6g/AghiCKBBDAqRoAKtMIgVsIMe4DLMXpvXzH7XrJipBEeO2Sq2OlK5+4DxoGSMPuxB5/uC86h1nCMAIgm0LP0vjoAapzAPUp6c0I2JU3v4+HB/xFwWue9JD//nUIWhEvPz2wfuBBDEEP+52ZVEEv+E9Clfm7B4REG4RNj6AfFwBAkI5SM78AmF44gnsIIJQb/4AwzZ0GUVK//AwYChisSxO1eQ4okv/8HqAqtphyNiWHvvxE2AVVrSb+JwRQiCHhCMgArWbIUV0cCOVSY8vqB12E5BUNRq9mQeDYR6yHP/vF/OAT+3wwUcDQ1Flgi/KI9Im0HTuplETaSJK/+f7NbQmNwYP+IiIYAS10yje5wL8JjSIWi3qPvv75tANwc+IICOkPPyL/vvDgIGAAAAYBBmsAigDdQQhCCTi+ABfECOHTPCEF0UkMw0bJNPF4CAemfbVUe1fwQhAZ4AGJgay1gwuq1++ZGyDyHRyMGECAZQ+yZAg/3mxUikSVLwx1/XbUmADmoK6MOdu9+uJDQ/xOGWn93qCEIBOOAsXR1QBHxtXAAEEUEIgmEtsvxA7s4pXjFrGL3/ctOTJsVRe6B6AMrwcxr7o86Qv/vBgBCAWJRVuQs3aAiA5uH7MlhyZG/9MAlOO0lr7vB04BmhyZeGRD0FiCjOvg588P3BCEBMaB4D15Pgh/3w+kxYEIJvwQBEXwE1tUe/AJlzkPJ3zO3i4ALjQ31MIWll8EaABJRT7gQe/VqIhSGYxCXwYIx93QvEEQUP3+BApIoSIf9ngexEr/fkML55o4K14wf746QcER/ghCAKvgAY1ajF/Ctof4pRCmbImD0uZoKQvG5b+BYVcwpcoQcE+/3D6eeoPp1hkQCX4Cb6Z3kwZAwrIpf37m+v6C2kc1F++Vr/TqNJzpAQEAAAAF+QZrgIoA3UFIQN0g2/YOQQFgCGV7I2zswwvwRwIIYF+CX085hUABNrQAnBZiKg6BYpZkaOno+vf/TCIgKeCQdNrBz6PIAHAhSpiRTJFZkSi3op5sBPD/4MDFM9QBb3V+yJViYJoDsmaj7lo1ql5Tj4evAmZ+gJi7Cyq77omGiiGEMcP3p1xHAghgIRvGmaEiJFqQVPwjcFbMEJ/iYJd3/A0/o3HqVYSU/3e+l4EAMvsTDrEv+f4EEMQRQIIY4mXgqomOfz/AghiCI/4g3gCCNuzlIg6sQJFwBKyRtDwSlM0YWYM3khCOxgpZwMCd+ST3N/ssTCHAAtgc3KBshgxWRf/gCkYOwhgpe6CalETvv0NBVkTueimiGfuABYB7kKIdDViSn//d4tRgGFL+NpJShWA0BZ4YYPxEkCUUuTE4+NQ9/gjiRBP4AaL+RPtYiIgSQ4gvSa5jC2TIMCR/8Dmq2xRXv/OXGGI3415wraWPEAOnAZmdbUb1vb8/+EICAgAAAAXRBmwAigDdc3GwoWmOBJBAK8AV9w0+5sBr6f/AgggLxANekCKBBBAbBENzz6A8HIYGePDCsID62prMAvAAlB0HRvOQgpIsKk3uiVJSJESdITizWGGgg2WCLb/9oIQ2heb4UK4FXRF9g+WpyzJEKd4yMhAgAczOQcjYsRIm4X73/hIGDSUqEiaEElCgVLw9oAAQACWhXCwajvsPfv3owN8GEN3x/8kLX9ERVL1Bh5/gQQQcCCCCCER8SIkxDwxy+CE/xIiTEwRRIjiYzgSPSu/ACFr+tAQ8tAARQPPDiJ//9ULyH2s+Cxof5HBgKd7xlDXxHhKm//g+D8A1zYIzPkKlhD718RGGtQTlr7ER9kaOwQOABaxAcQrGF+MdWZYAQExXA22DBeZJFs2Xnv8JAGGuSQ4qp2WwIDvBEKA9XAY5eI1hDSHNE6TsPEQW5TRjWfoaF9OgRn+ERAj4BpiMY+PP+iPOQuUTUoTRjOLcmknvLHwfgIGAAAAGMQZsgIoA3UEIQF+ABDpNviI2uRQGQb7Jgpf4GzRpkIOCEIBLwyQ0kYAAL/BCEAn0UMwpvBOwOkeDMMgIhPwQhAZyyABmO9KNl5AAyORjlEU9LP8BoL/Db9w03hX+9NkghEMQi7wwgsmde9+fuTYzHwMDt0fTk6D98DwBjmMEzCT3vzvGaB2BKqGl2I3/u0w+L+7E1xnEdg/DKvVH+9ABMyFClIzrucBJ3Krp2M24X+AAeDolVP1WpK4noQgByQwIaHz9nfFsz2NXVQcpMcOcX1q4H+f+IXghCEEXk5rx2mCL1EzeABTV03bV3l73NGk/P4kJVqRtT8EV0zgRHX4rwAHTNBsN03OvszyBSsSEmMQSfB+dSBz2JVtTMr/ZiYzABRlZ2wUOdtAsiBbFOn8679+/f6wPGweiG4rfnpSxwrnV+0H4fgYDiDtKzcqnz3wzgNLKYz37QAxgMJYcwi/OB4G1OVXYZ/s4P/E46zk3G14FYAoUWpy2ME7twHl7b82bYD/xEEfJbzynq4CBgAAABwEGbQHoA3UCSCAX4AMnfKfH9ioFCXuQ35wkc8RJ6WBBBAEuAdkyn0Z0KSAA+3GG0/BgWWf7vAJ5oPo+QXtQrMVUqrKf0fyvv1gQQwImkEVilL794ELdMPvHf4TrgSwIIIAh1knj0rS4TYH6mCKBBDArCf9xQgID0OxOpI/HRxuCHDHJiYyAHQ4pJzVSCqbf/7bNv5BRjtsDKZzeAoJ54KuX/5wYJ+ANraTfgOrvZKN//HADAAYxns0Le44+w3II4NADVNeQJWkwP8x24zH1fuB/xN93gCSuHyKsZlRmrRlwPolY3N7MG4EEEEEOI4jJxMdTGxLDSma2mCH1AgAhN4Ax1fd754vABWEp/hlPaq+CxqAAEAqgoaWD9+prOljM/CEDPLd8CsZhLhULUi++1m1D+Rue5fiZfHZXEwRQKPiQQDMAJpkmpt+/7UBAbBpEOAAgKlDREVWB54ns4J7tzKpKcB+ARjcZh2m8ACD8WxCRpT6EUkyQqMZdcYk8eU9WHqYByiKMaLfuCuhbOVP5wf+Oh+AB/lbrZIexMMhOfQoKbavrvQSgvuCFDmljDn305ds2Yh+Bx9//YP4JP9TpAQEAAAAHJQZtgIoAy0CSCDgQQQQR8X4aQCnAD+mxLMVjsyax+jPOwJIIAjwAcQ38GQ9ah8CaBilbQlJdRQ/gA7bShsH3swjLZkbhScaqj7wc+pJJXeeA+AORyIYA3i5SFhU26AtIAfqYCPCGbqCKI8TaGQ6/hwwVKSS9v8VDSLRdZgTDjc/gQQQQQn+BBBACWAm9oDLAU+ITiby2PfcWKN4lFQpETIyA94gIf6j3Kc2/wPAAJcAVu+YCLHV/7k68R6BADYNeEKBr6QxBK8N2+9gzNKmNP5yfcOrv4nDn+BBBQ8J1B7hwQn/iuMCE9OYMBnfP5/gQQwKg26Yr0zNThOY9+CIKL+EzG3/8CjN4ADUjDOQMyknkmFE4gEAvDd3i2BVyAeKAf5/chRH6AKMlNiD7eYoJ4qwDiD/iAhwAIynpyaaQe2yJUPCEEQ7hAY2NBkV57SinrXlgqylD3glf7+gJXVmoD3qszbOT74/wjDimfmPG5QEfVAl+g5fwRH+IBAKoueGc8pwOT0MMGfbMzXYdIkN3YBN+jv8Fx6izM87/xMRD8EMiIHaGLCPu3hKOIQpmoAMX+vtDjslGZ514XxmbZu0Hib1NVzb33YP4CkgAAAXNBm4AigDLc3jsvBCECyxwUEcEIQF+BN+mYer7yMcAkiTqC/VNlnCvWCkIBHgAxKKw3IztfAdDp9dmZTu8AB5k07zdwlPgeg9GEskynb8dvz2bQdRmcYzq7dwPwAdR6yQPke9eOowdqGYaaSb5eS/EJNxNJvxgfUzeEMtDu3qCEICY0bdwCxkQ3BFyelGNRKnjUA3I8muIyN//9YIAiIhgO3S4Cfs26Vyg0vLL5Ve4IQgbTjIQCCKCEIcEIQsKKAER2q2nPpVc/w4K5BEUpUwIj/BCEPi+ABYwvYYkRWp3gioWfu8dlQC+CEIBDgB/wHglklBw/SDyJe/ZH544zXceAAbW2iKY1RPYBfecLaOcJ//7gwUZpDUv7it7x91ruXT8EIQBbvDAWA1sMC3NT6dAjghCBI1RWM3Pgp1Ry3vozuvPKN0kOzCECApcMmDT9YAGwiIc4yF3eAoV4W7lBWCT9/uzFmOHKKlbfQefMPp1ggCMBSQAAAYFBm6B6AMvAkggBJSATeIjeO+lWDkEBeEdHhD4yAiCeABEfqv6//+BECmJnsCSCAI8GN51IAHiIc9VsGko0l+evNe6FAU/ZwFrKKyPhH98eJowwJHTNEbwpQwAMiyL6PZcoUPwBlDEyUULY0vbJWR4PgnEhsZRIQnNIXWfpAZBUOJaY7r3nUzNRKwpqzTwSkFhj0PdjSUiSSBho7UT4EEEEEIj4iOwPjLyBs9qI5C/44Qh4PNgARANCpHwIv3Ovft7bbbw6cPSOExDyZghP/Ea4YP5mJMIiM+XH6fBF+IhHwAIev9FNwfi5GuSnJQAEACHbGzBhlp1b1jsA4KeJvCc7EoErroB3lHRWUQbwPExnO1PiAWb/kbawLMABgAcgf8OU4v7gRMmmW/+qcZaNJoPwlZy0D3ycmqcfEaCwPV/jofcGojDIgq/70FrmcPTN7pC94N4ih6JDlHJxpprfX8wP8SEIIv8kGmtPq84DYVKBEzHDM0Iu/SFs2GDwIAIfwFHAAAABjEGbwCKAMtAkggN4AasufL/pgQQQBHwWY9SIIWukDuEQtnUhFe4MDr5KS3/AgggfM6FJIZ7WBBBBBCf4EEEAR4DqNHqABwDOSBjGsmbCWYwPQkVk+gABoBWQTERRRBuDEmL6AsvXMnPvdiYygCErC0gS0UUb/8I9jwIUgEGdc3rltfxbAAxt5qIENi/9wVmHjR1gR5/z3gIABUgLqUtqwj0sHQ5/gQQQGjq+cMBBFCIIScMqp1yrfxEvBI9+udc/wIIKBXjtL84TcBC18e/4eFcyqdz8EIheEQQ5/xJeAA2TYji1ElFCfqWZMIyx1OYY3a4kV4N9OBR5RC8n5vcatpn8EJ+okEAzgAOTlM0iuh1EQv4ZBYcTyiFcn5qP9GQBDlzBwEku0ODv74MAZkBHTiGqLFbVWV0EBq0wh920KimV9SDGynq8TBTLHo1ddt6EQbwAAgHQADGy6AFBA/57gCAkk4F+LPEo4SSa/fAhhNxuR/TrEiHjcrgjCi/gIeuz7//7ua/2/kH+d4CjgAAAAZlBm+AigDLc3gDNf9Pfu4IQgEfBZj1IwzAaB50G4+2QY3+cCJdJJBNv/RMT1eHwQhARgRfiwD+ggbQy5lh/ghCBaZswRQQhAnYIB/QVXjIAORjsIxXYfAgA07IgkNek7//uosw9x4Qop93gYLYx5fM0ZRl8D8AEEWiTDVmV/ggtb2Rft+GyJHONy1/mEUY6mZj6vwES8AP2EDQWf7rtQqaclRSj63eD/xHwMbcLZ1+I4DwACC51FRyjX+zua2I0Ml1DyT/8FJTZRunvDz/BCEOCEIQQ+Xlw+pkXdMBFwnhxFZ9gU3ri+AFSY4Rju3aB4A4aqhZNlL/3YPTB24rIYVkXfbLiesdpvUcEX+M8AD8g+QhFe4Uh/wABopDrc1XMF10BgC9KHopPzviSURUJETBw2+u0OJwgYNPwNH9dJAFdaAVHqToEv/+BwFIhw+PHBuXjuPIhX0xhEKMH4AFD9JMsiuE5/94bg1TJnKONZBeAHIYEEh9+Z97e2eYaldweAA7OwiFNPf7O69tm/Grurw8EARgjP4hc/AUcAAABekGaACKALmE//4EJZc8/wSQJIIBeCRal5ADGNck7rx41MA/1uyHgAgGAy3IlYgnehRuRULfXGuuN2DkMFhwQkEZhTUK4Wq5+BBBAI+MBAXYCAcwGwIIIIIT/AgggGQQPXICncRvd9ICQEwRNGl+STxyAZz7Ifm5b2SFcCmGQbLLeU599MGAzcJOtetf0siGcrIKaL2rff+JiP4m6mUcrZAPaZ6q+pIym+uf/3iHjxjghP8Ighk4qhA16Q79KdTIOttMBEI+EQQ8TF8BHvn4Ja2jApAjpoDX6NcPov8XAa4BgOmY4T7DH/tU61taegwJ8DspwYip5pu35Km8GAe0ls6HYmErEMkkwJhRLPSGdOh4Ij/EAgH48MH4ADoNQsdqCiP1ot7/+DFwc6F7IVLcUn/5PgBvY/xMdmt/V32D+GCKiCmLLHbYZVbqrNkMBC9Yx0eIxpZNH7HothLNt1M0LNzJv9/34H/ghiP9Mz1OGYZX0K7ohEb7wzpAZEAAAAYNBmiAigC5wJIIDQ43dviALxLQjI6E3/+Mja0we/wRQJIIOBJBAEfD0KfHkIABBcQTOsqq8IckpUiCJURK2Dw3+MzYjmoAHDAZmFlsF3ssXfFt/7ATobfkF5T+axQf/DjO6AIMVR0udwDhxe+/0kQkQjZDMQjBxvR3gQQQQRRAj47qQAAgEcF+QQq4/AwFf3x9v7gEi5kcyZp58AEKTMniX0WWvgP2pzwB3rZsMHp4WIYGBmJxj3TyQIIKBMEOSfHAKhY+mQQn+JBDIE3ACLq79y1iD9j5WIBevLPfwRRP4vgJRpsDHgFRnksJBz5MFM/0Oz1ZjV/TfvfDxMI8AC8rBDuuNP553fACBAhbD3I+toXF8kQBjtIb9dF/TABgA8QzRA/tDNW8vAYrPVomSHZxVzzGf97E+BBDD/D25YIj/ER2ngnyghPmIXFPIX/+bYPWXg3IAGsGIRJpojypu0BpInKR4ZhUHt9YqhnFgs0Wiu31jr+Z/3g/zv/QZdNsMvmD8BkQAAAGNQZpAIoAucFIQF+MlhgHZeCxP4IQhBEf4IQgEfABkUY4YwVbH+0gCAAjERS+TatB0sDH6aFgYtVjBGewBW4TftZfSK/y/hIKmIIhBu0CF/jMAEambQTO6P8Dp4NULNuDnv45jgt1P1ecVxGHRINCoQBZYy9ae6uf6+uvJNvfBhgAXB0ybvlcJhPfA4Oh6qFFWe9/7gU0ZBUVLELN2v8k8Xc/ahW0ozDhzipWu0G4IQgWE7svghP/EYBA/evlc/vhkCAa0ZEEuvwFhyOjDdzT//53/gpCDt9/cB/fNOxeCLyYkkB96ZqUzgi/zQAiP1fXwODqHYJ+vOff5wDwdEnYqNiiSPweJjPAA4dIn8lU2L2gB/eSNoeBYMLMxOK586i9GD1w6//f6Fjkgtiip/Ov63v/vv4QfgB9g8accoOP6gcKpVK6mGff53jPwaOmSkzPb79BBFxSQEyBrlnEVarPuuCZX9fvb18Gnfv/EPCLhxAzPf1eCPkxdHJ0YEeaVBlMR14xtVp6obzBAEfwGPAAAAXRBmmAigC5wQhAXwCXfb+P36CNfgQQQD+CPxv1EsIE3ZhqD0/AggggigQQQCvAATk+MOyBnHkmADi9SGxWQArClKDwqjjT7wKRsybia9sFIQL+AuANAY9ZmzbKHLk+D8TCy02mVX/yE9kzIhq+XgE02NBOjXrcpeBlNH7CfnC2Xvu0QFglaicW0btvuD/P8CCCB40SeCLmwlYOg/l8nzrn8KL+AO9NPPf/8CCCgsbQYPvTMEIj4RBDn8/4RN4cSf+4etM7VEEJ+oKAgM8ADgfEyN+r0jH99ADgkIpRO+vAeADx6qFFaev/dSjGXCpala7QAFjdwDELcI8Kp7xGcL/833/egNgCqQGLBJy7wiALD7gRh5LfPqEG2Aq2Kvg/dIGg1lmAa+kCy6K4selhXv52CEIDuwYQASobC5RKiGq33+BoQgIdYlMlAuaUDD/954CieZ4mAIe+VB4p8GM2tBA/xIh47O8EYj4IQg7WPMztsCC+AyIAAAAFaQZqAIoAucCSCAXwS+kcqChDty8DdjEfV0eIJKuGATgBgEF3uq5mle/EmmBJBATATf4B+P4EEEAT5xm6Q94IcKy+CI/wJIIBmNRoEVPHpAGgEELmKaBJCsNFhNU0N0OhTMPOeMTsT7hXC3oNmCYRNpx5dX9uBgqhScUKznyZZk3x6Qwgf4S/oH3TSBx5ufEDm/wZT1BoIb7+J/iF4EEFAmGCCE8wgZvFwQn+JBDn8/n+BBBgaBm01g2rNLMEUCjqIBAboYAGVRkD2FUxKv+8X6FHkyChFfu9fwjLgy4kJQfbTM9Z5qKGKCfIjW4ER/iAQD4bgEeRJAATAWgfbpU6hg/bQAHGQ0Uwp0Jkex3uJEJEEVXEKcxQdV6dLXfLNVC4rCv//J2A+SDTWRob+9YmCa9f6Afjw8zcmm19MoQIDWnWJuBoATg8whBDZQAkUP747UBHN8T4IxHAZEAAAAalBmqAigC5wUhAFHAD0hP6JDU9gLHv0aMzj+/3ABalZjMhV2AoADCGTMOWs9wnHM2Pq/A0qwQhAdw3DQiE6PqhsAb2gNSRqReMS8APBrprHePfghCAio8ZsWqPeMbfBCEIIoIQgPx5lcEAgAtDe5ESopRSNXTAPhZm6OO/70SFW8Vg/LA8uYB0QCWYz4UVr/Ex2vv7/0/w2vX7fCiGhvS0QQ/PAAMoVcl+FlT9eB+hqf0wj35z41W2gRu/gkKT2B/98EE0iZFQpxT/eHn+CEIQReTisi8KIiL1EG2ACARH/lyBgx4P2CkIC/ARm+fmVz9FPFXakZ48XABz4DQbyYIf35TvJ/oYBQpbOnzu/efwokLwjg+9Mi7pmRszNTDgmj+CPipOADMb+U//fD0j7iJWKhWjxkyWQRGmhpfGQNOYNcXBJMwIZ9t8S/CIJysrQydqWBh8CAALWS4MoyGu+B4ZwLEsOgSOLzAucXxEF3v/AVA0z9DGGWJP/+cDL6Njtp3OUoB/8RABqyFKdyMW+4BSUWbmNwjKF//7FRG1BlDpJfnBpxxSXT4DsgAAAAZVBmsAigCnwJIIDcaHUA0ZOEB5HAkgpCAvgAIwTHD0/xGE7LN1SoA51YmIMs/f+4AFbJcGUbm3wLlgB+UwaT31+1JsdhVK7l8HghCAzwAIdAGDKmYY9pJkg37ZBkK4QnnDfMsKBwv/u4ML2DwLDAfqFLjqKComf+e8CRQMVcrPUekqRX771AohAJwmFwZI1welgETdwf8SBFAgggJhPTmWfHZAAM46vimke8GYf3d0Ap6pyFskBLUX6I9O6wF2WgAEUBZiOCIFf/2mTwgJQqUpk4kf+B5AQEMNfg8mSBJCEEJ/xAT42MGgQUCRDKGAyBNw9Fq5BL/gMvzz4IuKm+NHm7/go4A9OzGnx4AFL2UdAnESv/wMDSrxXADIvRGNn7eAEiHMLaVK/zTAtJz9OQAAgGFYADoh04A0LfIEk/FijEmG6QEuesEEX/5JMBEz4EEMPQpMAOpo9Xgi/ERmQA9hcjsUlPIPIcbxoRrRFHe7+TcJVnXkIZ9IFVALkFBUy45+dAQT9dudfba9lgP+Jv2UOv4lYDrgAAAFlQZrgIoAp8CSCDgQQQFhHQbqbPgjgSQQC/AC1drU76eAATSMfzEznczPfF20m93vWaFqL4w/jVxpj6mJ0xRtaV7Ht8Rw7POoUABLNIwp7BLe8hDDxETTGwwApBp7FxluUf8HzYBvzuEKY50vC/+DDqBBBAbh1EOYIT/ER/RYcx73+uv/1/fAAEB01VWUhzdYBOBm2CmfwIAIbgQQQCpGbH8P5VMHWoBFAggg4EEEBeCF4f4KnAghAmAcVzOQ6pMgiP8CCCg0fEBoWgFgSQQBHhy9xMcDggACPCdNlKjIpFctBgOWAQHMQLxWFhl2/7wf8NJ6sSEBkAEI5viI2sAGRidx3demnD/MAngBACCZ04Z5KOh18fwcCMa2Q0QuKzA4ByY+hEca00eRh2hbDIcVTiiHP/iQgTGF4I+SO5rBsYRvLMuXiPAAECnViPCSjG0FVBX/sbkAY6LQzkte8GTYeOV/iOA64AAACE0GbACaAe/VKvL2BAQ7xcAj6op+SGJPX3x9iGw86TqXgAOHUM1uBAQRcsNw/A7AXL1OCJ5sdLRH4IQgEPBZpYDu+U838aA4D/BCEIb5JAXGH1nghCBo0yAFFD6VzZQpDb+x2yNDSPeM4yCGdQNz/gAQDVAEGo6pt1BYo/jYzpg2xqD3+8Q6v0gX5Ynp0gwXfZpA4yM1BC/gZmwQhATliAGtg7KKVwKrJWW2HgqgVqju3Of+fAAsCWcfdthHH//92hGMxsmh+O1v4H65sEP2cuFeTDc/zgDNxdjkELZVGCnghDArkfZEPsRFbT+JuExEKLyX4A3Wx+91dVeHShmE4yQQhgthxmmFeTUJ+O0WTqnXiZ1TWWJrLGxdjYuc/90cmPCHE8ExIm3zqKzKYW4mNiu/hFn8T+CHhFh9nBJ15OMj40A+6GPzvE82wUbE74R4AKhQ47MnBM1D91AbABKqMp+K/jn//3IBgAOEJ35sPXEHowZ/+gUEUSpGY+q7GqpSUD2PpW2rYF9ABOC5AiDb9+eMgArRmaCMF9h+sCxQAClFNk4NvOpIgtBEK5A+BsE8bfzRXfvDPQR/AjW69sGB8AD4OmEXsTp1Gv1gdewIgJ2GiX9+d/1vN7H1X0ADRCuNBDFi//br78H+CXhpCkJUTodlLgO/06wQYIhH8RGDAcU8tGb5v8LSNFwMHk2/wN/iV+fgOqAAAAXFBmyAigCnwJIIDZsAAZ2wEOqJr18tngADDkV+6PJVXsiusJYEkEHAggggiP8CSCAZ4AKDVAiHm64p7jCIQQNoUJnFrqLacGAdWRk8fMRrEXOZykeBOmOxuvfHWAIAoiEuEYfpwde//B+ZGYiDuVfFCSPmc+OfmzN37x0E/pF8OwCAYmOHpQjYXdO8Gk9XiwiLU5UdUIrDIQSoPEk/CD1+tcCCCAT4bQUDNeTTQwQn+IEPsohzzrnXOvAggwNHaZUumCKBBBR4ksJM4m4CcTN0QB29ClPLwBeOo6v0OwlP9t/EhKPfjiZ8JGxwb2higIj/x8uh9JuwvAAcBiZYVW95zI5pI98OnekCzaQy9sIQ/+RRDkvO1obZ9iYyYNDREGg70BcAidq6kCAhkfBAP9ghEXNr5rSxuFDz5fibgHMNvDhEuNQQW77Yz+jrFHu72NLsXzlrRzz+9SEzIQiEE5Cu4iCMKfwiVuDwGf/+JUOdYDqgAAAFXQZtAegCnwJIIC+HZtYEEEA7wI9o3GUFG+Eb3IyOkaucAAYUAl/cvG0k876uDpTov/8MxDy1DDmYEEEAiD9o1BTffprhOz4EEEEEUCCCAkN+AH5UGpDUpxCthGFccjTmJjoCmXmtwbyTMcNZ/B6hADshANtncKDr+79AEJms0AWBFcJP0zeIePQd0kkSW3Mz74P8TcZGEBOLp4WQfGLZ37/cCCCAsPpMfBD+IycTCXuYxXpmMZpmHbpgh/xXJ5ggDQ+J/FwAGbRExvUZFdJI2BWCs1deHP52mB3BXtTWoHUc/eDBmUE8U9IR7544zTTjwWRKU1Y5YYmbj+XxLvUXgixHExmAA4cCPikloKRJVm/gWWs04gABAWWTAAMPhCQ79w2DYYR+nBlMw851ErcZ+NFdVWTCJ7sG/QAgZUzKyGkmgH/yRkVe537stRAkMCYQQ56f4JPAdkAAAAVFBm2AigCVwUhA3YCAENX6NgCTl8PYrghCAzwAY77Ih9D9LJ/BQWQAP1AFbSh4Me/503QmIJymvP8HRSclmyt08F5FGAcyCFt91+J8EIQwm//wBj+uZn+CGCEIEwy7X+CmAXHG7eO1cwG0USQtoZjuoKGpYiR/efCoezi5TCRz+cHrASBKeSBr6QwCA/Q6O8FIQVOp/EfBCGC5PghP/eMCdzO+fz/BCIE4K9MivTKJTKpDBFBCGCYZT42hgOCAMl4AulsCESb8EIQFwBken11YYgACOCT5JQjvpAa8ZaXy4aHb+DByoGo+24h/fnAx0lOCYz3f/AqvVbl7/uIF6HsvfACLBJKDpW4xSEfA+h8v4h43aZAtuxdwER/ghCAqAC4SW8481hBufeD0+nOIR7/QzBmDCU16yvw3oD+CkIAh/AwywXYAG9oCKibn/bO1ToAiEAAABj0GbgCKAJXAkgg4EEEAuBHTQGv1RafX/DW5YI4EkEAvwCPOs16ggeQ8gSATAkRytPIpwHiZ4zwIvzjC3qsyR9sArAMLLFQ3JAftGppYf/AQrV9CAxMDUxETAc5o1BMVI2e5LSCikjDMsPgRwpBkRZP7bgwr/wfRKDOPEGli0V//BqBBBAXL8EJ/xI/yG3wuHjGvN9RkoLLf/hkRC+bU1t+koB3vCowJAIRGztccnL/foeupbNpx4uN9fu5Hf3AggoFYYkxTycNxlACKBR8CjsKKABD1/1ff/4zpBEUpU0JvPCeH//BCf4FHwJIIAj4AZRV8ye+vIwGqaDdQAFgvMq4OJMU9w3/cGAczZ+RDn85caZz/4EkEAzjvvZAf3UAEg7IHqRY3WWYGGT3xFg/pQ7hRFswQ//B+GBIMTA1CUQzMzzaAI4aKpIPI2jwsKHQS40nX/hLEg3D1CjHxsIC+COJ/EQBjAGAKcjywjcYa6KOeWTEM/r84WSTdJxzUKyiMN01s4fdRn4nCZWzkcHgEQgAAAAXFBm6AigCWQJIICeASdPSfywIIIIIgngJHrj3/8AbZtLPtZjbAkggCO0AIat6Np2meAA4y/TIgGcRDA0/gMbhuP8GAMQMIMzIUMH5JBl/94ODqE+5jiJWPsxR+MhM0uAGnOnLV9/gaAYwv3tMF4HsEQ0//WCE3O6eweIIX2IJYg6uRoeQdBwZzejxQcYIZQ6CvX1zghQ+uTG5ymQbXAgggghEfEQlju92v/x4wTEBPybgutMwQn+EQQyYRCUXWmb/4dkgCIKL+CP3t//ERnhqLv+AA0CkCmwZ03KAupJhjhu2QAFgMwqjI9kPE8+W+/dElEpEkks4Kx2W5zHp7Ssd2Iqq2V/sTGcFADNtSpu0NEQAOB4FKJMu4SsQqSb/D+0nqNHELQNbDCf46A7dNbF8vg8QNx7sjslRovwd30YHnmICQGWjDdRvWwNdX/ebbG/c5RVpDD4kIQRH+JiMS8mOt9tZ7tWKgRxIUWJir/nf4BEIAAAAF+QZvAIoAlcEIQNwAiAjNrB5IP3QINyfpH//GCEIAt5iCG4QIOT0TT1B6VYIQgE+sAAJo8EGdS+CI/wQhAVgAQ8tvim4AFwOMRP3KoQ7f1mOu6+YSmH7oHhjSRmlcHuACAHnA9WGlobedgpCAyXA0Xj4fwLAOxQMWFG5EhNRaHxk6FORB1AAw5rTTd+/j8wGOL3HJVsq22DLv/vX4dX4Z3b/8eoIQgJnhhtgKlRBXBFyUvIAAMmIN4Gr0wEXoJ4CDVHz8//+ABkFuIpj6J5e7Uwi4j8/wlp1MT+HENCBEf+P0HHmPgAPkRm6oUcrf+HhiufAjxyS5EZmd0feMwApM4SHVlcxAv83XudAj//7riQpGYiNfDrAFHHcB9gprcfO0QEhN4Pw+gIHkGtlImODwPFiQTKfBa/wAC4OkTrJVGpvYFjnLtCCWX7/d/3eb2ebYfjoNACinRjXvAAmyLDczFV1obwk/YmjHH/+ukOyjynq92mNzuV+B/wQBGCPwCIQAAAD5Bm+AmgCocd4RsN4usE+m4Vg/OBwTd48CA8FATwEGqPn5//8ACsmbQmylVmXNMlj5cOCXqnQJOTDqFc4BEIAAAAqJBmgAigCVwKARF8AUdXzoC+Jee0W3Bx4B1aEnFN44Gf4OAwIzTAD9NjWGT26htrBEOn9fogRhP//8I8bYIAyEcAkfrFgAabjCzsVv/23CAAEAVsB/UKhA8gdYCv+AFFSA1ERgAQwf2DHurNddPisd4ibwMJm04Ex3sESURSlLN/YbhECdw5JxphnwYYAFT1NCcdWPOsn/sIxnQGBsgmD3xw6bBHf3hBuo44kpUZ4NBnEvDD2fsG/O/UvPAGEod96gOSfxQ380GACmZBbipYpN8CMMGapVpNYecc+4IDcEMWQ9OTdRVK54PRjdVIMZYY4aeKf6/4JcIjMd3AQtcsgRU+KRSjLI//DlzhsvPDXbkk3iVm0fiiVH82Y3yM6qQw3KDD8PKxk8Bs9JhkBhB7j7aHGIQBnrwTQQyfARvvAqa1DRqrpgpBAJ/h43nfA3gXvf4zaAmdbEx96wiEDeAA6ZqIHUrlNzf//BCCAXAAiLclZtI7WTB7iVqYvtBjrl5KU0y3FFf5/RJw2qFRl38+6ITVmRwmMNWA4OJBgEeAGY3Q+w3wA9rfMgzw0W/A/xBvgopPz/gjghEj+Gja2nnwto6gy258PbAs5f4BKXcQcrQk53wZF7YmFMABnohKd6gimrQAAmRBFdjBXikt/ItaQBwAUbcqzS/BhISb/sDJmCoSuimiNv3zhAJoGl6XcLfFe1f/Bh+7o0fOtNM91bTj0ZbQNwJabrQN5YoRf/oAKcDGMmRbLyjLXAZ+gGQy/hhdO/eIBEQGpNujgtsIp3oaVeOh3OSzZLz/vsADwABAIwHG5PzgFFzrMc37AiExJeD+JXZf/jASO2VbxZ4p59H2QUInAf/8W2Z7Gqvww4JBC4UVvf9+Bl3iqt+Z/pszHf4f/wCHwAAAmNBmiAigCVwxCPgDR1Rl+sAth9AMEwr+QfeyDiyf/DAgRBC2dNAFG+Afl/5ggRE/9QIz/CARCOAAmSMaoYyFHSxiQAQxQkzhUkOfNAwBUk2BCEdHNGYBvqAA0txdnFQmMJ0gAD2FztQyTCUhJj+2HuQSMDKOMMfemlMSK/HxUwYYAysLO6CDYkSCnwRfxW5XKYddj/+0AFDgInbf4pHKZjvgwLq36ptHwb54AEAEm5Aww54AmzaTHlsFRJbElkLOPfW5lIEVxCp3iSz//Bp0CQJ4AEI9zTW0/gEgtpAn0eH/8SMw+jiNA6EQuLp5SnMJ/6lMl4P1aYvOyuigSxpwinl0qxVn/3tIkiJbaZvvvftjU73ipatYYReZIcUZ7aQf/y8ZifZghGrg7UM0hvBNCMkZT9pj44q3GJ+2WEQgJ8AxUz7YBrar2Pr1uv/zeABfwScW5vuY+/sIhAXAAshU0zru5W5hP/oCQyrowMYiBSPyP/XRX8V7+DA0G5IUlWdUEfzwFaAJQ8TUIdBIWS/5xKh+mAnGxAQHeANf+gOgBFOOAi6rvtaGSS+HUy/4I4RioAq8/MCJv/BA6A34P4gZ4AFgZgKcVEnJFu1ye/vgAX0Q572KY9/P5gEw7RUtWtr14pSkp7BtAAOgDMP144bNC8Gy3vADIz7hHvE4DQU+bIaPxE5z89XWIFRafRUlNPP3SgaMt4JWK8Zvv5rr8dDAA/JGNEydSs/cAAsAwZV5AT+GFpPH+/9WR2exq8ahgr7JNhdUO4UwMP72Y3U51KOlrVhhwShTad+bU3gSnJmu18P//AIfAAAAqtBmkAigCVwcR3gjaPbkAMIJ1Eg/mHm+WVu28eARqI2EH/HCYxO6MEhMOt+GBAiOFMAcXKW676vXwScI4AFo2IkKC6xVUX++AAcIKewdq6d9s4eEF//cQAITgQlBJaBeoVclv/QAEGYRLbmeyTFC1WAAUBVQUkUSgVNmNmAIoKCbmy8LKlAoaN21JETYSG5xU/f4MMACsWNEVW3q7YQDImDfwAHDQAtRHXw3GPFw8I7hKRTOWP1//wTao2XlCy8kn+DBJCMV4BKNiIKGOoxGcGQCr2/hgFIyAoAZROEUx2e27stFPwejQEt4BFIMqhxS7wAIdLZtFG1wANAZACoJr0XArb1GFX7wGGLhkUaRMvkIIoPg1TpwmJL8fYHYIXW/7hAG2D2mrgV3rV//XVmss4C84OPv/7B/JEA4CMImJjW0+AWeTAdyAt/Qvl/CgiiQgP+AKejRmvXwcvXU2rz/AIfHEj7E3FGRpfDIgIeU3V+M/29j/kv8AIJ/J7CP2ttG6dP83gAXJh+wanwglnf+wiCAZwl42NABwAQ/aNjNTcrEIEXDPwAiuGH3DOUEf8ZHUc7gMVSvu3aaDqmhVfwAcAAQB+QABolXtANqywCm/B+RCYjII7mFKc5U70+r73phwT462IZkygQwXuVv/f8AEEXpcGuwQUIvv/bLjQHR+EHHMx7VhEVbMZ968EcIiCbTzUWBEpkJ2GQgMgJJCKe7L4YqHnwcJifkboAGXcm09dtRRDIJit8m3/nAj8fla8hPsoc3/3pMhohzK43qWnxiWrMY57q+CWRQPPJ3gr/emIViREjBuG9hAEI6GBKMJxzstEE2LY+cgDOIHeTI14rMSTPf3iE1ZkReUWmkv0Gc/LjIQAMUDjRz7gw/ghmMMrdd1AlUbZkIYcEojgEPgAAApVBmmB6AJVBAIFeCPfaI+THNBI2O1R4OIiAk3xe44J0KY6D9PP8UifR/vKWCTBCEYDR9AQq0xqJmYjAewmlhocTT3QcAB2LRcdUFQpJDcAAzYIjKOakgdxltbwRnAq8gsXD2+xPHPbZjVTn7hVtavQhejYb1q1Cy/v8GAJO50kwlUv+NKn983Al9j/K+CGIBibAAmxeFhgW+oYvwE34PN46jbsQJGdLAMYwttE2zgQX+YDW8c1Zof0iVdAGqA0x8MTpZzvgcp6ReMkEAJsLH9FTmHTQPAAkToA7asgKhrvRVt//ekQIzIMUogZxZhJcaWw4AHyRjXENnF9CPBr68/8/+v+AAg/JEozShVAkorwV0P/+pyiq5V+/8MO+L8ACILcRTH0T9KwABACObAACACADph1+kARJqMsxKirggCA7AGEbWv30VyvGQ62b470m8Pb3pHZw16zXYMEOJJ++P/xIgfiTtLA0sD8E47kWRfNzYSDJoYcfEtG+e/i8XC+TaWGln+H3HwixyN2fCeABEfqv6//+ABWTNoTZSqzYRBQM9IYEw2oNuRypAr++AAsZjF9LxAij5N7tzZjXuiEIrBGc33/fXpoC1tHScIXfU3/BgCA0FOKiLQgaTmkyKALEAAQCGQsGzPhemtkOPg9sKRAIQOMSIHijgBxIc7oMUh4nqSnwAHCKCkGRf7J8iniP7s6vfbdwPgFpclAMwwLVSFIz+D4YdPuMv4cEcIiCfCd5f8IhAFURAC1BTbxIcXcdPMLY46eOAWkw4TW/GKc3/qTzKN2/Nc5ObV20B1l9OsIiR38+tbu+t1BqRiueUgx5i02TbyvB44uFKczSKo3wnDZtrgEgzmP+vDumfBK659i2Nc9/gE0gAAACL0GagCKAJVBAERXgJMmaXoPSn+I1xCufiLgDZq5Y9TNoXwUMEsQERngrZMB8pWY17z8YWHgBKDfamN+qvxPAAPsJNyhUuO4s0hYHRYWgrk8OadsXzG+i5ke+AMhSMtiVnUHmT6ARpTjv+/EhAMAmnCWGUHMgMzVp3s6FE8EOGTYAHH8gkKLaGJIJ69gg/eKT7+xAZGdQwzoWbhaMkFF7vNsx/uVXOrlcHrMiYi7iNcD9bRLG/YiOVOUBgUmoJEyW3YIPP/rJmADwCVxPB5Q/54YBAOvLbwkMYgyt/3tp++1gCjAGYEmE7DX0QHFQenbDIRbVd/fHzNmH3dfwbwwL8AB0cAD8sAjvnxLn/wALuMxLSHjf5fylFAoyYIVTv+w4VeNSwhjv+7hATgIV8S1zwgNzI5tD4123gh5KCjat2/QPEwhBRmJdV7FId80IyUO0tNfp1Cr/qrC6bt1MyZRap8YB0Q4Yc/nC7QM0BvCMUmQaxEFEZ9D7BK6llhE8ZG/m9Pn/DIzwJQALc9mgU9mQu2/GN0qNjPSjt8BgZIAD9SeB1pGEQrLv//AgwABACDK2EibmV9cFv/wADpABpvWCcXqdEf/gQD1GAOmNBsUE4zCD58GAt3Ma7KkLITEIQcAShALq6CPaJv9eg+CiCOJ8EMRAFHbmGB6Toreffn/0Ax15gPa9kZ+WEQgOgSP2PP86Lxf2D4/hCbc/AYNbzRpIwGu3HTqHFf/PDwma6d78AmkAAAJIQZqgegCVQYBEd4SOe8E/FLMjAdeRZrw89IE0MApCGAVKYwOJwA5fEYemIGOPYlAgip+E622HgCmp3wiqOOWbMSd4Jjf+/2UEQLkWcSYSSDJBADATDU6jAtsyT5fqpgRYxp/HghCf//4Eg8s9hAFIUgTgBOPUrAk41BE4GX4MFgpbjZih9P+vwCQeUJMkj2gNCB3gcGCVMeGEf+XLfveC2xvwMDI1HFy9++0UhiDMhBjswHAP3AxQ1+bBR88BYHzywSiCDT/337FkmAAIAoAD/HgCx356e8FAzwAGpMaoQmc7kI/YFRZhGwkdN31gCg4IQuok4sQmnwRgQsRJfOaYJfr6BHCMS2YA4n6LRL/8NBfzFPr43DOSLTsHtoCk48V5Vz9+wQAhe/3uf1ZghwYisPIOoGevo9B2YJ4HrllGTOsTI09f8ZDAjIzxERzqQj/gQ4wABACImChVblS+aAXMClpU2Bim+Ge/USIigs0i9vDnl4PASqLXZjioaUxeJgFw2OwgJF0cIG/fkGeT8sekNJYhNYWERnxADFuJwoFD1EF+5GDjrnQwOBXyvfIMCVhhqpwCgv3LM3E3zwOwTxQUJLwSQLP78AFwRxcuqeGJLhl9f+zGqUlQGEAA8qASB/SIC4OH9+8M658wD5iJQAAIArgBwBMjNoRM4uoR9tEQQpbMQNX08rAAuHsQnR9NwEzayz/bM9jUYEghfwQhARAiXN4Gjxjc283/TXSA028ix/ghBAIumlbLw+1bxG1mR5evBjVUUQ3gE0gAAAIoQZrAIoAlITwAIj9V/X//wJhMhD02CAIhLjQ5Qpbf1AEZt5BweR1SNwHSdQ1EG+bwAv8w0ehC/AiCeAj30e/wcH7/gcvuQ4f7ka/p7CbgDYnyce9D7QxDD0MpdxDDkjuTvBCFMAa3ace+HjJch5lc+UVcuhhAFIyAPmJz+iMLJU3gI3enI0ynDD/eyFuYzCf9XGlu2uB5zY7424sIJdmER4GBjqAEAS7BBKPBMdEMCU+GH308DQKQYWbUQFVZ6ve8AACAiAAICtUAB4Ix73EAoGYACAGYEXESSJspiykiOSAKiGMWSskSvWIO0DLyAjuHz3axsUK5GgdC+e/oMEQPUU8TaPNMOIQzgCMXJIGCXUACWs2go7o2WveIAETaQABAAAQG8JwA4HAg5pJk++XvDBEAAICwDFFAbHur07+CER8SCkZBwK1mFeWALDLdeDCoANoLAuK8Guf8HSXjgCwzBgkKvn3huAAXDp1BUYOD3geBC4Y7jLJBRyJhxATKDjmTamH0STP8MpAR364jrtiQkiGHn8J4AoPEeT8/8LMsrOXh0hyw6IsvDMKfBfAcBMAKonEKvp6CIFqRk/L+54HMTXUAAQFgFpqD5s33eBsgEtKItOKSxuammZBBoCFvoKg1Je+ADgABAOyPehpCtcGcqip3ZTiGEZ/+jDfoKUDcyG3nxHc7+CLiIB7VGHHAw8QzllvwdGV5YHTGst/uNW5ZOy3xC8QuATSAAAAB+UGa4CKAJbEQhwTdlZjXjYWh1PgS5o8Ow5/SwGE3jBFCEVBHvsECpcr+PTNpkTu8PfJCAQCMyBInjVU+AEWGYIaWIQT//kcAScpBLOg3XcDQlK7SV/8BFgIkVgqFyWINV2lIAQbCsOgYfPEijrSuHK1eL3/wyCvwBesgBAswjxUW/uAmNQGDo/GGcS2/vezH+U5w7UrEp/0U4y0NEXXqxi3UktcD02bYdBAqN4nijeDzQmMYgiuvenuIAkDIAVunxOn7ySCZMYb0lc5q9gTAOPud3Wnj8idgYKSQwYI9Dh4seD7VCZiS+7cGnHhBP8cwf9dAFmBIaZWAKWpKAo14eCUAMGSwqVjwYAkjiJzG6BQeytVMRaCOJDIyHQAQpVt8AWH0HvCw1AAgRfbpmPvDYABKAAIBoD7WJDwjPeM4ABN6AqECh/XXjwJFKTdgBwxGbsMXSV00Rv8DCAgBMmKCU6knfBQNfyxrefvwAQTLlFEr0lxT//7eoMRAvgC/GKrM7wDf9MAlHlO2JCAzlXhAAFAq7gmI1yAJkCvK+m9dq4kU39QBUVUWgHiTvPTQAIA6sHJbfEPzaLf9CvDFJfSf8QgQM88wh8x1Zl4cYH/Cb///ghGcdX/BFCIREQzbfEZfJCEtO/PjUmEH8SIgPW5b4J9SOBOIjU7wCbQAAAJpQZsAegCWwYBATwAz6ib1/8fCY0Otp/CQdIEUFAMQWTMgIKeZ+OAzP4fBK0B0uNtJn0vW6WSGAUBTAbNIDGWsjvTmo8tpTHyCZMwAEJC4oKwhU/mnrFaQr2i/d6jb9Y5qNxRCcDnDOwmU3gSsBpYwWhE0os+/vYgiiAcgngZF6QFSbyYbBFXaM309F2zyAJ0JRcxMK3L/9L4MS3vAAwNO8mm9pCSMBrHT58zIv/mlQGKmNY8aVbRc8QMgTQEHndCN7o2AwEf34IrbnNuAZAvLgKUNemuSbVqSEChOJUNkXNRFf6BhJwqQCba/8Be/wwMDPx2PMN4MC9AJJAanCEiT337wNYntsHe8mYP/QPAAEA/b0wQBrX9hBf94LBgNHPaGIpWLrfvAk0wPayAe4hxcSIfPL+0tPj3gh5MFrg5Rpb2mc6TiQgM8bIbVFAOA2UqA6W/g9YcP/+BGGmhJd/94AKiCIoQXTYQFiA3vvAnwPSYKuZIyPf3geAenpgGF8TTIH/vAGaAAllYBWgzVZgVOOcG1rDoYbjynALsAB5QCKHry0EnPwCzprZNG1iXQwMDcRyNLT3qEUkiUFAtaDAOmKxAvgGNhFkcAtdK2/ICMp6fkNtdkZISS3BAOwNa4MTVH8Ua4HBAE2ZjB4K0AWMFoQaX8vGA346bn5kihCTBiVr02PzvIzzDbIOjl4TrPOZ/4ILq3QGKnG3jv354IoZBSMhxwFj7s4daHuw5Y0nWYLHHxEIPacfv9aISlPoL9Looj/oNrKHUMxMQ3Kutv543/wiI5fA8xLLHOB8WQjr+YhYqAu7HKz8/wCbQAAAKQQZsgegCV8keaP4MBA+I4CUzMtxNnvzfCFDQdZq/Inv4oCZsjXniE3//zE655/gi4vAD8+9dn6TBiYC6b9p1u4YBAK/gAOjGiTewqiIX9tABym4AMAiElxk3vQNGFVEyx7mF88/9hgEAQmQbIGYNVjhbJB2oDrh5Z3cdDRO/cBBGlEs7SCVvFvFv/wehx8uIFYbp1lffsoEmRyaYv9z3wMgEA4iEuO61BoTcv+8EUIA5CcF/WCU6DcOwE/T8b6bAEea4S0753uEAYDIAca8ACEzaeAo2qiF/9wMgyh2JXRW9gMxlkDQg+LYp9whkZZ6RxedffvU0aQ26mVnUPQAGK2Y4CWjSsEC4IngKAIwCiq0hTZlhHHhSQDD4gD+DEOW3lhoauIf+4AMLJxidCDyiSRUmCP/3RTM1Q3Kr0cfUNPZCe5TaTceD/9tCRBr7euAQ3j1+CGEQLIr0MDVsmID2W0x/u7Zdb8IgpCkAejghb4zyFl58AqCwpxYdWuuv8PlmGYIArpUEu00BsTv/1B8Eg8E160CjcTI40/B6ChQAVEKX4NJKYGv338oAAQBA37Kx1TSq+Bv/8G+vffbgaJhcXM4XBohZ/6BlPHaT+/3BOVUT2mWQWS8gwJHCgAx+oXgBAjlAe/vnVERfAKLKcxr1s3ATPtYDYmZ4I1k+owm/ggEZcAI1kSA0/nQF7N6SnQog6v8Ub63/E4YIoIQQj/gSAYHFSmixP7Ui4aKz4G4liie0rWEtPBgS8Pj/86LrO6/4B6jYFcIvHy/Y2KzEvaDbhrnQwa732CEMjoAPAghFCK2aSJEl77/IU8ZM6uWFFSu25+6AXKNlMATGZvBKwxAoNQ+9bLzJKD+Jcwbe0/kH8AmsAAAIqQZtAIoAlkMR8D/ZCQXwGUcnwGC+nsvN81fgB7xrsMzafgi78sXCAQFYFbP0lmnwAO02lfP79VDzG77oxPfgI0Q1YXs8p7lF+LuzO533gaXfDTu0prWP/dYQCAQgX1NlGQzDf8+wcQeFFpkhoo9201rsGAPHjHzcwdyhZ7rtwAEAbIJ05gqGlJeU3/gWIBwiFGjuMQs8IkoYIogEIQjtKT1HDMBZAYrXmXc816WvJEBgZAA8ADccUTjX7wrbmVv/1gwEZCKnIdjjetieJJkoX60hS//2aWWIWlJQ/ghkcqtk/Kz5d+4kBkLOIiOiiRP4PjIyGi2VIrPzAhqeh0vAQgZS1JE5l/eP1bbiyMCYygfZuBwxBDhEVAQ95ZDff+mWvwNfngZ8+bHxIRCnAAes4AD7RUADAfU0AXALIEkuNJbor7373Ni+clYrGVg9gG4ZHJHMVo8YP+z7AAGMTxeCl8Q+fcDCKTjBcpnLAYTqb05/f4Etfziaf9zcB7O5UBgQEqAAEAQLdhULE4YICfZHfEeJF+BWmKSDP4Bej2hG21/8SImDaRZYAh1JYzLb7nD+COEQiP+BGAMOIjtS8tQXcK/Q7dsXcnY7uBgaS9K/0YduPz94BUU4xdC5nTCCicLUclhAh7oMI1NzmEbdhEIjIAFswKzIqierH3/vCADwhVQ3v9f/gJzPQ4MhWH5Rn9xj30skSJvpu33/gtALcCeU8oQE7Af+Jc//4BNYAAAK1QZtgIoAlfJHGQESQ34ILbYMmhsCAGAh6UyKLIE4e3+Eig82CvXm4BriOJgxPfHgmggDAzACEzaE0UqsyvUABDjYwwsXSV8MEv/7AMD3Fp5xChyrL//8gFACHaEL7VlBc0RnYNYPN+513z6ZENFIXOZys8PDDOfKP5OHjU27BgJmYlxydheQvvADA4itoXOnKMnKm9A14Q15kHCmIH8AgYTM9IoRiyHLUko4+98ybE+Q6ORg9DCET8QYRtBRS//Bgx7jc7W7AVc1smmz9AB0CihORDeuJ9ILRr+Np08YEUIAxE4feDMljwOD7WIHYjJJD0vJCAKApAAQAEDirRnUqUo0RgZkFdwKMtkyfuDDBaoZX/dtoSguujBEV84bKfdCurRhjg2wK8bTIOCO0QEgLEymsCokoLfh1sAlaUxhwegw6UIT/ntjNTD//ghwYj7UHGin6BjCOeZxfm852nj5AfA6xuLAIu5G7iKGjIMh9thkFIuHHiNiVP0wEgILMjb2tbDSGTv/e4bJCUfRROPMnBN5IxFTHG9pCWErAkBgy8vXEtwvnhHfW4kwMAOwAXBe3x0C/PFhd/3EF8VMjZKnv4kI+ASSjGgfx4AMxW+xZ/9hqgzu8om+4fH3geZB4gIPU4+jf9SgP2U9/b/BHiB8PwAJ0OAZdgeNQ8TzEa4Ww8NwihEkjrtOtv4GBgjCQuqKhZr5/oAcyGR1EbiC0Pcr/DILaEqg+hoxEhXa34MnDYKQQjIAggKVw/kZZhI3gaZvOBCGqG4orayO1yhT/g8gruqLdo1/wcDM7Roh5Uz78lNkn5Oa/7QCF9cHETUk6Lc3UtMduYoheaKiQ4q/ASogsxsQjV4JZ7MBOmeb5kBkXjUpKFiAy4cUI0/UH9PAHvEpmMODwMEoUVp35tTeSyZqefD//wCIQAAACikGbgHoAlcGARHwCB7u62nDVHgM+/IhF369NoNGieAZajSDHPN29c8EJbX2iNevBhFqSxpP/sEYiAzWoKDxS1XfAmgoDAyCMAEEZD3jc7QeN/Xkz7NAFhgYgSllMphwyQg8H/SMIpGCu9oj6iaIAcAxG2UFIx6pY9QS9AXdExo0K3f/wYEhiNtmxfirutN/sH4WMRC84mM9J9lw+IC8D9OkL1QvC3/B8JlsQ6pUGoEiL3aAAzUENAlSXQwpbwhA+8FfngGY1F3nU8U19/7oBCZDZBVX5SXPX+gBAV0bIHklmfC+Bz3wC9iFac2kBKjrCzgWCmx6hF1noCYjZoGHi88JRftwvAUIUJ/tBSCfuhUUGiE+HHvBSoE2DAFO3kYS8RLUJvuPbeZ7H1XvBhsOixkHzR8GSQze9S8QDDaKoBfMx0QBR2gtBzNg0+f8EODkIWoA93ySrNekQHyh/AEnL2EH3BitNILjDIIQUc70/AAXLSlO5gZBZpBg8DnUF2GnDhF3yAkaU4+wqEvKMu/yfCf/8BjdNbJph/iYrwEdMZF5xjjSWcABR3SmxHpg+EHgPQG7l4cEcEIIR8DRoHhyuOoBOPsI6VliDAv/+/1ojIwRc4yVqTGmr77QfgDCpkTKH9zgTs6yZumycNHRL4MAWOQBSlhisY3+SKikPBCERnQh8klTbgHvDy1x9gFEAXKCuzLpQHEdPB9/4MO+tzmq+8ECfsMiJ4gg497+AZiWQompdqmp4ADGuwlqXE5i/1fpX/7NN2u9uwYEhkfZwi5knCzveDkqyIOlt6+BBR0Mr2Uco1+4eGY7CFkg0SRc2/xEK/tf8L/tFBn31e0rY1QO8EsTJ8BQkNZcuARCAAAAB5kGboHoAlXJ4TDYsEEIcBoonBG8dKFIg+l94sAG1e+J7/3hCXgCeI+MQVuMIFik6l1aMm34CWIkwfH0I7FuvPQJDGMtfMNd7cEub/YIAwFIYQBIcKxnY3aAiA9AQ3yE3XDPu//gRAhwlXTkQi58AOaYsR1mGeI6v+HMRwl6OVfWZferJ9fa9gQ1Zx4++PfZ/gQAqHVa3V8qHyawftNhFIOqeLYQ93EAJCBHq/mgRqwlF/J1hAIBCHAUKQzU0lEohBRct7qDBqd2uSIUvsRHHFbX8Xt7bEA0bjMDX2vPMAzgmwwO+11uj23IjfSIkG3/CLnPDWmHnMEWGRNiibEBW2SfngV/OsIhE3AG02Sb8xHM/4kV4C+MjnE338Al0wMo/iIIojwjHwA0HXCpRf/HALhAC39szvUgX6qWOV11GZ7tLZt0tHdBBeAC2xgRoy8cubKGvn8MxkCAA6BR0GkY5ioEK3W4MB9zroJtJJlPBr/wYfVryOQ0VMDs/KbREiNuAWC8/Uz9HQQv//ASwBRwBIITI0tDIr34F6Q9SOZ3H3ihk34c5B7ItFHWQVTTyrwUAUCuINekcOfHAAerBnOfOeN/Ix//YRjuGEjOsKGzMIf68+Aarb/16zHRMEsM/uAt6ichXv/gEPgAAAl5Bm8B6AJTzeAMh3KY+HxgwBCLgj3MwEBp5/+B/pYAlbihr8/gwi8ECWhuzjig80Hifc44EpjRksvURG/+gMLGHkRSLNSHiPfYEAIF4OzIyDnaW3gjxFYgVAcADsigX6TshRTB8BvGcBHtxCx3Em/+o2WngmO7/2wYDe5rRyaoeJCAyEJ667bAb+MBnzIkUJNW1/aAdwxauuwgyDiU1f8nWD/UAoFsJgn0IQU2WQPLAUFuegmyHF+4DPgVxAgcqhBUR0Tm7VA6UByA+LYze93/r/BCSaEtaKOd+8AdNBF/fO4Z4qPh4KAwJmghV6GSDMAqXuUopwdzx9Vb/rezbNmbb+/OaloTjrR38PAiwgWA+9MwcltM2I+CCJsNTRCA9+Vp/rxOTDKvIwLvvD3giwy4etMbVGd6gpisAvs0HolKwyJ8SCNLyQEo1pNKfY2YIMEUIgxEZXQEf7GzMWvNPg2vsYIQyM4TCQqDmsbJgud+QAWAwm4zWlkGUJN//HgbEEGQR0XPlmv+eJYxxaOAntw6VfmgP+Hl7OjlF/b/8ZAkyZgoWWhASfkVgQb+AiPzgGGCMkEm7HAi/8GMIO6WxLEKjkYHb1kNSdWW+AiAD94GOPRRYDPpBH/wGAAKKoA4EXimLMMzvv2bACYLUnFnFln9wgq2XGbvrYMMCcALbMBx1ZF1Ez3/ABDrkMYDAJjhWGXR7LBDGemeHSvGLwh9e4Be08nI0yRrNujxRtAQZLFrgZk4JKRIAW0AA3WaACAJmwCiTlf0WPm//cBuGjdis4PhQSiFwov+BFZ08///wCHwAAAGsQZvgIoAlMQEDYdWXoCxAgIeCtywF6swOjv+C7yzCXxAgXhuer8ABDfbBPREyt+eZYx4BTMpgJzM0euYmXhsuiHWPngjiJdsrHP8QIEYAP+FnLWIpnWRy5sDADjK6gJ7dsW1WJvvgN9AACAGoBolNgyB2+xEZAaCTCWcxSmdagHR6hKxM174GBeG5KZNmO/AB4vW1NQ6nRPIABEGixrDeAAudGExqgQZBj/gH2Mvsx0hn33/bnrA0N8GqMS/8SIbX0DxETGxB6BwfEwCyA7NExghhAMG8G3QkR4gTBDyYr0y38SXhqIjcIAxFYKOTHHhAczYtMYI4QCAjAI/44WzSnsIQp5gKhM4bAA7UZG+kQ9/4H7cNXriL8oTCa2qHdweCL1j0uuemT//IQ7mk/N/p1hkSMgtAgm5vlVZb1wPTI0xOB7g3/8C9WOAFJQQdESSzTH74Cl4JBZhtO//8GX2oJ36HOl4DwWKjw78AaiYGJAdX1/leN97CAkdjSZARDCLqiRX2SnXiLaQrLUHXzYd7B3jhsgcSIpYEJa/bBoMlqXAIEwUXMW5T//4BD4AAAAICQZoAIoAlMIfCA/gO2j1AuPRnbER9AfWyKmnreBN64W/4uiHkKWUA6sVeQ9sIADgTFoovn7QgwtM7//tEBTgic2UjpVf995eMnIwTlE8vBHCF42dkYIGjlOf+IwAX4i4g99RT3P29mNVL3d3AwJLboBaqbcJi5/vAoVckLKPjj9/rxnKOoAjmWvC7e/kWknweSwAepgLYocVMBILh3Y8il7QXgovBTBYWbI3g0gf88D9fAEQMyLlCTRL1z8DrYAM4EmEwOIv3vaawBIvENnSHq9f+IEif2V+IN7Ki6CA/cEMICRXh+m4O9JkzoJyEXo1+98/n+EAybQUE7yfL3D8AT+CGEAgTTQUS0Cwm4QapB1f/AHWTZZ7/wgINwAKuwiQ8JRyof8CAp/iBASgjpp094QHwYqgI4QCBI6QoHgu9NiI/ABMTnjIloVz/9QNtsRebSYGMqSWaiFnjvy1drlrL+gPtB88c4LZL9592TMjiHlRA7f5glUGHRYP/SC03Tkh5/4gQFIfiL8z5+YbgBHjuNsoX0/wF5psSzFR2QHqHSiXs2sUWyQ2ASaaCrblwolBRQImDppHo1PvwDREh5KIlSU998AnEgg0f5k74CKWgORgyLNffYCoHwrQxOd3Coqfv93t5sPqflCr1paO+EC6TR513poItf7d4Jgp/Xfn//wCHwAAAAgJBmiAigCUwYBAJcoHJkB20CEBihk/BgCBwDx1tAg24zV/ggCAQ4Jmh23YEjzMw+/GA2s0hO6WX7APyszyCRXRwzAZQ8L2mdqhzXwa0MxTFLd5+66umOdA9FO3LHMOH5iZeG1hkYX1L/G4Z0/ARQYCDTeUCXxGyY9xPc9hbj1ewIbyUfVLo1xz9d4Yhs0tD8H4IqTFYzE///YBcBbjrJdENQKsR/9ggEDIDQFZGmJXZVlph051C+8/fmZU6dqIOL/N91w7DIP1kb41LDmoIzBIJd8o6jL6OuQHuyf9ctAa8vwI3kJ0Jv8IDuOuq///8EOJE+WMDbkyDpDRMJCARCUCNk0+V9Acq5kc/gHVcTxO+CHBQK46JDAf74xr4/xgNBwYxM+fAZV8z+b8MCBfAA97QJwiDGmwPf7gHNGA2Dy2T9Fv3mMf0tj428IQsVKx2Y3aUQJE5EtgV4Gho+Df8PNZHkS8GCOIiPg+zgAfkC7nMCq7RTJ7+IEAq/5W05D32D1nacwidzhkGv2B43ujSX/t4UATDwaUI+p2gF+KF1uwrraD2sjCWKIlaloDgDrgoorDbBWwy/ef6deMhYGATLWKm25tivV+m8NgAI9MzRrw+HLzquGR2k+AMTsEfxGCyR+3ABnAwpSUos4fI30Lf/3l+U280P8jAbgpvndfueCc/AIfAAAABdkGaQCKAIHBwGDcZITcBLAgBgV46Oo4YHAJx+oP+wPxERLKxDwRfL0vg4DA+rZegJChA5eEtZYAsEuB20tRgqMCr/voLEUkFtadFsr32DgMC4Fcc/zMde2c0h5k2OxHumFSrRAdHeXh/ZIfR+eCLEvBIzPgZufriLAQSnGwv/GAaxszPon8Rv5sHAYHQtKGKZw1Q3VA9GWoTqY1P3kwA+EuOKiz7gsKLptuRd3WZZhgMfV5P+/NfFMT8EMCBE8GamKZMw2Qk/m4gTxFx02fwRRAIBdEAdm3ProBCq8DWZA4iL4I/oUYAUnidxslJLjgAokYlQcix88AsHaAyJokKuT3/uckURCyDqDxMX2QYDKIgPVgFvV2yf7ODfznLm8v8EjyygJOSGqcG7uva4A/4iPgAZfzp2oDLEcOMR90gdF5+sBkA7kOx0ENXA7/ngSC5tzhNUmUoG9gUNxJmGsepQrIOzcmnhSoBoORuwzDawuNNoP4iATaAAAABuEGaYCKAIHBAEBfAmL19hreo/wviNgJYIBBMeAKL/EiOCAID4xKXBgPwKAA7ARhS3qQhGuEqvf/tIzIBBi7inmwM77iKAAcnAV+3ODiXg7NSBF2MYTz/cgLsiDsxhXJbbwhwYfetPu8N33t4OH187DxLdTP0AwACMFtxeR+8hdrZg4DBe2VXM0kCGCARcMCCfxxfhkSPgBYA/1E5NNKTIn/gHhyGFds6dZ7/9ngw9NptZ/B8Rg0Gj7QX9cGP/AuUABmA+wLg67vPAeCpQKWYQr6enelfDgkaWK+Jf/v+9nmbbr7sD8EPFeGKZD6pMSiYJiYIsQTcGAwzb3ETTZkNeM8AB8WpV7RTCGrK++K3jTSlEL5wMAGLfq+b8wbAzj1q+nDjn/tT06OJ8/93DJ5uUEgvtszIaXFYjsgQBbMxRoQlx3/+cH+CEIi9Rsd4A7VJfHYCwNYIrz08M42ux/3m0ybE+Q7ORPE+NCIuSjCTBJBwGCQB1/tC6KXF2/4gfAAoFIaXkcjuD9lYb+tMhwfj64AAeWDjJQIvrzWwJrzlniBCbwegDK+QYiKpCXiflpJiyhoUBvet+ATeAAABa0GagHoAgUCQEDYA73TQ8w+Fn8EAQLD3khKcK/oCgkgQAgK8EuxxVoAwNIkPxFU6UHAYHQJntDODQK1jje3tAgwZvE+p0y4b6B/AEgo6MZ7+VZ58AnQFLWIJsJ1dv8Cb0biLBwGBeAnZaf3PgHzvTkaNIPCRYp2GuRjD/vtwwZ3gh4nw5J4gzvQ9eU1MJxkNJqAByH2KzlTXveVv/f9g0ikSSiN5E0TzF4P4E37TA+0LkeASXO+CHBAJxkiTLPzqCQgGX9w2m2CKJECMdp4HGlVBAmIEDOI7kbPhpyQBULp0P+5wne+i7rGg2iN47/HfXkZceCIKp8TKOKTDQQU/06eCL5QpAz7HjoAxe9NPHwnMxn5V+JvgZtM42HqmtGBQRPR9AxEI4Q8PcLQgEAB8DkCJxd53nJN/B4aDUlzD1YQ2/77iGQKA6VEhxL4JOSQQICNq53v8RfCA1uyiRScSrLShQpqW2Bv0z8Am0AAAAXRBmqAigCAwJAQ4EAMAn4EfRmjSqPiz5yF5LvSrBwGIJMQO8aBEAQvIDrL/jgsDm9E01xUABEwGgSaXMLXjBTNqoH6KWE9bP1N4AA+mA5mQlhv0H4Aqi7YhgNfS/g4DAyCj+TMh0p+/CYdCc3+v/4A4vzMBx11d4MgYcrkEX52MHj4myRuDf34UgAdKL7BEGtKP1MHAYLAA+UCkIAp86QKf99MXZseA1CrhivYKaf9IY2i6wEMCAIFb2oIXk/UEfkeExHECYIcEBMHFpJk3xLITf//AlbpT/eIgjgwDHxmAAgbANO6g8LuwpyzgyEra1gkEQmYAMOvkmff99dg+HuSWidrk+Cw31OiOjs4Gf4Rmk9az3x0BkQtMZzitrqZ44zk0HPCEYBrvVz2ruZ3DbrA8UD7hNJ2ABViYnQrNPAgO1Q7hy80yjgwE0EBRtUjE6XREX337yRERIJsxmIRsQJgliAgI4JG7l1HezNqUP8qDfvfgE4gAAAG7QZrAIoAgMFAgX4Avq2QHWpsww/wQBB8B/o1FGeCAIC/AAZtC3K9QyO7eGZMWANbRLPCj//ALJ0+vQemWwI4IBF8f2AwKyRSmexkTMOQTFarL813gYBVWjLh7LhsANEtzzf0g/AIAAHD28kOH6X8EAQGaBaInE62Ef/zioAcPRZgD9L/1NQBnQFxqKMHx+kE7zYmz59X4LFK6uZ8IT//OAIlqNNkyZ/rFTL2mzhcf2DAcAwQmJELa1CT5n8BNxmAAIA19MAgvRfvveZjXlL3F9KfwQCBPpe6WsJzBwYDgh4rjaZ0UiaYpmTEwRYgkqpMYP+TNcXwALNiK9ug2EkkfoKgAEDBYjyaMVmDtznOjd4JuMgTMAFmVRVlrhg798GCC1i6XCKn3wHZHYnZ3HwHDhSNbcNbH68B4dkLFhD8I//+4P/DRoTi4tdnwtgBU4SILDbAI1b4SiWuvB2ZPCcrOPvGQl2WNHRHPPBkWQ6Ugnq/wBb4B+yVh4pmwwjO5AeyO7wRDyWEP3/AcAf6pj44iTX//3cwHXUoRnsKYmw38AinJQ1K8U5UrNvw/V3Pmj8EmIEfGI5FvT9fwCcQAAAGIQZrgIoAgECAGDY3mYLm7F7zBwGB3hhABiQJ9mOj5ebcZmdX8HAYCcx4pL3vAALchI5exHOwcBgXABeWCRUOKVxN8H0YnZVfmkgkEnp9NJLJ+0QojGi/58bgGOanA8zm0sKuagEcQJCUfE5/mYgzUXJgi+NGKuyjfwgIBdst102i3uDwNVAyQx/6dYOAwMgB4Pv/3K/k5rrtH+nwLe5AAg8Taynv4x8XRAMogWuO6iGuvCJxfykv+4/iCvDGvhPiY53ghwwWOpjF+SGSIEgjkDAzhAGngi4TmvCc3JfBI0d+jERfNWgT4ADnYaCW2UUeKiqAAdAAw3TPKoX+NakHrSMIoya8ppLm+LgwFgWaH4U6fzhSAq2anDj49JcQJgk5PBzBM3VcZdE2X4uYDAdIvoY327xn/BY7NI6dxP/5wMr3NGrvAMczGagFntWy/A/8LbuJk4x84MhsA9QAOF+F8d6cr5VVMbv/E9B2AA8IppBmizqfOjK0MhEM4AIARadsyFvngmEL4BOIAAAGmQZsAIoBtwcBgX4CNpGbZ3cE9WCWBADBcB2aBCB2dGkcQIcBNRUccg/4OAwPhDxSnnpgQd433kJvcARAB0dUqZXDK3qXrayHXlcKSfv917RnCthZKzUDwJAIBejYxQCQVp/+fQL4yRAAdsI7IxXZDHG9YIoEAQK8IrJpyQJ+Jz/CAgkwi1OPQJecpnf4REiIBx6aNCXZ4xDGk4+A8Ml0y5m7nc0RuMjzSHzwQw45sWm9zgP0Z09qiRMJwJfsHAIHGbfCRf/s1jOkfMH4IQ24CMVJoOrwjo28PYrn4exXNKUWl/Ws/n8/4jGkz0EMCACAlWeVFMywSeLj4ADQIYL/DiKkxIkFEAB0YHBoXHEvwgIf+0QJDMWWnBQT0r3tqAP0QLapDqTf0GCA/a0WORRf/+4D3EZfYKle3va/da7SrByGS/9AYB6bKfWDgEGdYI4EgEAjeaqEQYoj7F+L30+vwFskYEuJGeAQdmmXVSf/zgZAAS+4IYE/aUAB6SALUYavXaDD/z0L8R3mwBiiYU/eHNZ4UJIZ5E7PnKjfS55rUbKHW/wUYBXoAAAHIQZsgIoBtQUCDePZ4IAgXlcMLBJBAI+SHl9G4xoP4jggCAzwAHBYWkmsMKfWjfkP+89IJ7HfCf6OM1Y6NgMCkz4n0Y0PHP2gOJCbtEZDDV/BgTLhdE2Pksmb8BB4IAgLnAGoUjwoAyqMhol3nhJo4yF0Xa+AsT2cFFdRHSDBFwSQ9JjQUzS4vpzP8EIRJMvlw6ODoyMLP8EAQBVAKsX3nJXe+oMIu9bv1gjgAiNmULp5r1QGAzrCa3pI4dXvv4wuMYwh0MXQ1EjzdHTAs8Bk2jMe+AA5v5MN34Glwm4AEd////AKj2DC////BCE8En25rOJwexex5nnYmrG3O+fz/iSbyLob5QRQQBAkwMTTcAiggD4R8ABXRJjfoTO6NFGD7AYOqRCV8xk+UcRAWwXjt1iKn54Q/NrFgJsQsk1gr+ot2tDie6gwxCrp22Kg1qQpnpBhZpqaCT+cKQx5BUJ/1fmj+ICPhpDbPgTgHmxjB2PSA+HL02qXtkB++mPfnjbqbP+KAlghCIjgMgL9JAa/X4jHZifnc8BkGPEAp+BMgGEfZxilRQ8n8ABBAECXcTxz2D897G69y9zuUrqKZMemFk8fl8hdOgCvwAAABmUGbQCKAbUGAIBfAla0Ly1BAFgwA61wVZPH+BIBAX+Erz6BJBwCAmHSCECQYL2esSCfAAbXuIpjXMu1gjr+MqcNP+egaXqN5kpXj/r6XgSAQDPkFa4IU34QWT5zD9r4MGvtjRFwDzvWkNHZ1XB80ZfahYMHrn6LJcio8cRkbwIduadG5nSMB4OAwWCyqaxSSntv1HgAjuITZ0hhYCLl5/cHIISfAfpmp8HAYcAIH1IQS1TD3pFf/wYY0Yn4IcIuDXplXpvgkzQN0HLS8MAxgihGIgESWZGDHZ4f//4QaBJ2cSM8AFDuE5r5U5bgADuwuJy45Joyy6XQ4RyO584kFBIydW2Gi1/0OZBOVHryDzDQolpVufkj7LWPGXIMIs6NEaH4CQWzektIVoGf7wh+FvhRSU4ffMGY2jCV39R4p5M0x4FCYnkFpQ57AwQO36eKnL//3A3m65PPvd4KNoQCC4Rv1o2YYBjneCTDAi0NcFBli4mMhz7/L/A+TYApMK/TH7nhGUFX1NNXdeoQ1gHsMA7DAZcaCVYYwCvwAAAHkQZtgIoBswJAQF+CJ40ocTzPwIAIBHAENEZ4I3jirdE8dmfL83AA9wVIgqraVT794I4OAwbCX9UKTHEvUiiMJc/wcBgfgAcBkEuv+7rCib+glbFLSkMev//b0eOqospS0lLUHEDQPsFnh887Pbp2p+AQMCX4zUTZijJMf62A/mQWEJWUf+93/g4DAyC6YBlDbBUnv35hz8AYCA8PEyXBv+cHgG+8T+Ya3+cYFa9fgBZnk5Dypg9Q4XSOqkG13fAoO4u8Y6jH7/d4VCgqdlddYA3CQ7q0gg2rD95j42iCNSDO8wcBgvZXR/QKcwQ4QNGUxh9pjn8/USGPDEEMHAYFWqJWPAibjXNO+E8ARTTTb8/8ACtMzQSRTuQnK0ZIaVSOR8OCXuBHbfebEWH/BwGBmwYD/yhnGK3ROmrcYKkW9JM4fCeAcefmDCk0Svf4O2KcbYlZFHn7/cDCkQ4RyO/+eDMTFKYovJP9miyHDkGSp/tA5QA7RDag57+P8DBUs6Suw+O7gwGqmQ9Cozt/2MCyMtNBE8U//72IjPwsYAFIUNJYbc4DfTU4JSFK/9X4JVp14IlobjMlZpDgHXMC4/KExWf/8wAM4hxWPUaPrY4/77zOgjMy0MEIE0REfrNNTj70Rz+AWCAAAAY9Bm4AigGzDAQF7AIErWBny6R6/ggCAiHyfLgS4bnq8EAQF8ABJmQk5TqQbltRwAU+BI98QWLukUalHDaelgjggEXx/TgGBXSMY32NDJ74DQGzIntGhKz/uD/8yM39LwBOSoKMHGG3d/bgwVtfUcz91gu05pDT+d/4IAgMjlGh1v8jK3Un83g7q/hVrd8DyH6Vs7pV6fntR14cDMNM402ALBpj8BNiXECfE/4CEAwMTEjnPchIuJ/my0zn55tmG/KVXF9KfUqmafE7wQ4kuPJiHFyYJiQlBP3w4qVJwn4IcICdcmKWSxMhRPHxM3gAJ6KLwbiXboX5fbOv1kR8Y+9xxnLHEwSREnwajtbOrUdE4DDH7xRRKFMiEJP3jIYDvaFc/GnlvYGdBy1FrAN7RpPzD2bSafjad2HAsXW0xp/O/wtiayxuOwGMPXrwQACItC6e/HEDPwIoXW/N34jt/4MczXqgEQT7GQAAgAagHbHUHHT2+/ghkKIZyGI54lNv/80PJj3wKrw/gmxDh2He8AsEAAAGfQZugIoBsQYAgNDjz8AVaqbD8/X4MAQEhMVCYB5LgqR0f4OAwP0+5l4fQqtInq8AC4Os3KsWEYfvmOAxK8xn3xgSAQC4KsXmfKJbTvr+1fOZbT+sHb7Dx0KP//3YdjpOJLU/44GCOIE5/5IJHk6UH9yB658GP7teYGjhkSPn1qgIMK0Msp4cc9gHBS/tVRqd/7PADO4VMaiP//ABH07aaeHjLt7tuXFfrAeAUVTBF2jPJfv7/8HAYEwKZGpvIhFH77w8GpNVk679Cb3R3t8Ym/v9wQwcBiCb/Fw3DCGWG8P8MobkuleLwAGyMaoQmc7kIXsWAO2UZVwWb+dYhirdUzRkib8Ayaa2mmwIFbIjlaRQtEnb2DkMlhwFhTMze/pyrw0Q/BJBwGBEFMeqgq3SkcrmdfHyDbYrCkKzL4MF7T8ZBvZXA84ActMHkwd+94UhgA8iXtkcXG3QFJZilKQVCn+DBeFuZKUSiX927wKnb5TaQN88hf8xHA4ow2M7F+AoUwsxKiYMPf+7/sZ4EIz+JfYo3/7B+aicMQEYJhHALBAAAAdZBm8AigFkE///wBm29QPYOAwL+EABAf2amJG8/QeCSBACBvBDtelhCCbwzeYAO98QEbf9KGICHBwGBkEuzfq0iHhgAqZmkKd/mLdOQT0wU5Jd8/kBPdDEvHt3oCj7VdxeTVEyR/12jC9EStSb4DgB+uJy6eYse//+4P/FwI9I2nqTf+DBAmsAJt8U3V3giiQgqW4ZEkgA6de11Krj4pyyGB4Ev/BwGAVfgAv/wEoTIKMP/+cCMewmFxlknH7/cLOGIkvHED5+hYNmAlbUPCYOfqD7HwQ1nTrBwGHQQdP4IeqWSIEhKVjPHGQQlWYBFiScOzyBHdGzEiRcAXu5H26mKG2vpYACzAmsUWbiIMLBB0dFKZpKqEF/vc7CAgIcADsNYCJpAE0bNNWsJ1oYApRAGgWJk2DX7wAsKbI0g0dkBkCgJ+4kx/MNO+8EK0y08fvA8RHjpJx8e77EwUfgcAJFLlElbGHv//uAI3TXrT4TMVADVAhEvEXfGBeYJIgQI0U1QnF5dcIYAUKELA8Cn+EYkOkKMle+Bh2yCc7OX4FjgFYKVJ6e3YmM/LA1Cu5cwmeAlgmo7yqi0BMSH7U14TEEU5Wr2gQBg1HQhzrMNCn2GZH2JNvwDDwAAAbdBm+AigFlDAQ4IAhBJBAI4nwyEeCAIDOAAhVAcm6IOISpJ48t5/MAYX4ikEoQV4I71eg40/AkxeocPIxsQEH/fBgXmX51fEZJ9DEAJL6Y456cDE3Tl1+BZTTpq0Jv8D/BAEBekCUBsg7beAE22QJ9nqCKj+/U0ajF1IrO4YIogSEoyCr/gzUn8/wQhEkAer9z4jZ58/DAQHwBk0NmFRfuSxa7aTDVjQpyOeYArAYmXuhGNBOC+lQCDImLW63pUAaMoghhxUfMKEQvnvUjXYzURnrAgHnfBCEyQBl1d3v7vg5O3Pu+jhn0m/P5/P/LBI8Oka4TmCKCAIPIo0BjmLxXAAVYTanHWwziS3eAgJPywkttZ4fZIxwbBWkTZAQr2NCZz8HWbjRNLtA8zTjIg3vzvCHlMSGj0g5/KC3b3+Fi0nCrJ7DAJNPX4GDwZp4nUjd7gz+d1PeCmc/4VQ7MRCOAUckYG7sSMG82ffT4PgNBWK5ntvPcEAO+kz8oHA7Y/wfG/noJIIQiI9Mdy6kGcMgt4AC6IDMHBV/XP6PiHewQCBMESAC4Ypkyl5548R5QBWviIB3V/wDDwAAABnEGaACKAWMCQEODgMAojuFpEQINg+bOH4RIkT0qBLiCR+c+oOAwCegGAAUxkCpiXKo9+8AGfc++cGBpkxl5CoXDkP/2ALAVo/aiL3jeK/f2yaGlQqMuJ1ggCAyAhMgZiArrWI+kn8N9DJwcCoZOiLGH8R2BizTV8Hm7eH8p3Hxhjn84bDlkM39IGZumk0fwKgpEnMikEP/+cH+DgMFgzfLMIxzv9e8HCqJlq1VreQIYOAxJx/wKzNc4tHwdFMRw3a459/nAieEEuLJ+iD1z/5v4mMJWhJAPBA8Prz4KCHEQTwyJcAbrzMzWf/xmAA7y0BCrurQzn/9eHtvTU2QA+GuLk6RPfe+nuQfWC7UANgePEtv++kADl9zTVftDCzVVB9M8mhn/P/jteRpGjJA+Q5RWSxM3girH/2MANc1QLTGvFP//u8IcHmcANQTzBI/j0tJeAClIA8Hi5NPP3+4A+yNhPEOxSMGBIWeZVMVGI4X/rzoLR4PasE3EeQ5Rez5u+M8r9IhwOimCbuDi5wf4Zn5uTQIh/fMaAYikAxEAAAAHEQZogIoBYwYAgLziJYYEAED4AqtoWY3a/BwGBdLAGcCwqXIe78w8iKIty2vzwRwcBj7hNnR/n+DgMDJvYS8QAGvZJhL8djBAlFqclKC1FP2gM2UNJBHmqJ74PGwACgUY6BfCgf+CJDQ+gqFLRffBABbMLaJYSgV//3ADAVoVE6itvj8M/+qOGlQqMqYOAwFIDZkQ7BFlLf/4O/hMKiLepZu0C8fBIuGmWLe/92BLZGSegJxlv+94f4wAkxKoSWNYKf//cDhUoz6w+Dn92BQRHNq6HEge7Z6tJfpPtpf9wacJ3gh+fz+I/l83neCGDgMC8eMfgIH+A0Srl83gAE2hac6kZZhAQXgbOQI8M46kezvXeNAqG+CIKL/yE95//wVUs1HZ4OjeZG1pXdWBqiIArMEjcLk2RRciuy5l06xAgZDABP+Bcaaggh//516FetPsGZgA4XGuD/fS3GPgB7sFRJc5x/lbIjq0nHp528BoC185PSkYL/3f4FvQ9eysqsGC0F6kyj422ApkAAQBAdsaWEc8Tv7whwJQ9h0kbNURZt/3hU4conxLL3HwGuhsllP3Qb+DGxH/EvBLBwGHPBPUY6aPAMRAAAAGxQZpAIoBYQwEOGAgC3KaS6t0qwQBDggCAvgAIAGLRBxRJ1NNDV/0GnYDajwn+bFKmjlXngjxBIIvDlEHhjwBZ8T8R8EAQGbITECGBClkCzzgYCxIiiFEIzG0r8mbJGATS0d4cU4jLg8MS/t7/hY7nzGjs4ZB1L3v4/jwQBAIREzRbb03lACTSDbOe9jZKcT8Ho2AAIAgHTiSywc1JQI/vgAXQAwxMzjGqJvvCYiJVLYoHaNZbisnnN4tm49FD5KN/dAwRQwGCy+Ifn8/iPggECfhx0xsdQYIoIAgJgOTZJmZAonGuSjUrK/EzcAC4zEmqrnIj/3gRAgDqmZsalt6YiXjQxxiPvpfxIrw3FgZiwMoN/EOrEB/gjiJIEyMGVTgAoXCNiQl8DAX9jqP1yJp/SG/LSG/ed4z4BcsiIDX6vbV42MOOwGvpdBdMABm8izkHSMJoBFJzocff/gPDvYi5Hf+O/4R7AO/xGAGMKjL+aK9sgJLQXJPSw0LvlzBUEVPGSz0hOyO4kd/UwnkcT0u1j1giGAeA/2x+uL7y7eS14FPvSQdcCYKLiHNjan///wDEQAAAAbFBmmAigFhBgCDg4DBJ8GSJ8HAYBV58BKzAeprouETyax9QCmZqei9ErYRgn/wPgrHH2aZZ8DScMEAQF403c/47+1zgYAyIUgD9TbhRpPzwRQYAoN4FtkvOIcCJtdL/z/BAECQFpgGhkUVZRA5ZT9rcLy2Tt37BgMla5kzI9hAQMh/QHb9FVuL//OAicjLvZOTn/BRRw0ZU7QKFB8mYU2yD6/BgI9JMz0LKqf+rudr1w7B2rcVYWi//zwHxdEclNiMiqqhMQ8PBwGBMMP1kzJ9H8G46UktL+urYBBvwI+C9DwQxARVLnfP5/iIJM/QD0v3X4+CGDgEArGKVA0Yke5n8SJ4iLsBgBBAgvxZCKLPugBALN51JHgwJYHgicTOZ53m9vAJWsTzkV2W0AGqlweHqeLP/e7ByGS+4k1/gkgwDAJYAsmpyBoKIqy0zuRwK2+NRdB+utqagwCkOPpaK2+8ChX3kvzCnv/cnWIjoARk7JzF+nWgO13YFXxYs//51dPO6NwYGjOTmf6iMa1//28HAqQzW8ouOhgb+wCUEmcERcfvYDI7Mz60f8I97/BOIWAYiAAABw0GagCKARUFAIOBABAXgIAoiJ+eCSDAEBseBJ35IE7Ubkf/CHg4DAUgl/jMXxwCcCw6yEFhfmAZpkQbVTOYpQwCwlLml4rL2pxqqXXAKMSCrTii2anDRX/2UxiTMEsJUw3sFYN9+qspImi9gASKcS2WWYoJ//7g/Th4v8EfrKgsABKZe0nmQaMGCKIEgirWlz+f4MAwIhg7ZeJXRZ74Hn+k8dvSv3gJrvrLd3jCWTa+5g4DA+HBECiAs5LD8FH7/cBMTOasNhVM7oA3AEMn3ibPCHvmfNSs22NVV9PJzhbzDK3kbcPOfO/ghDZIJtjq4jg1x5P/B6fCFm8+32VliyaTP5/iQgO0HDyLkLzb/1HUc7wQwcBgfg/5M/CXDehw9h338I+AC5uS8bM5//MlmotLTWbAEPN6U2vki+riVK12wlIUgqi77C8DMHRUQJs992JhDmUSMow4Vb8Q119vjvJNEB3nAi8lLHGNwPwnYDuILMYD3CWIl4AsGnETfJjOkpZYfCEEnEQBwHFpzgP0g0FhWNSjvz/g70mDGCY5ynH8WoHFjZc0or31/EROGCwOVGqJOe+ApIi267r2vOjPO/87wDXQAAAFoQZqgIoBFQQCDYCQdW/ASfKO6WCAIG5tgkggEVBCJNgAvDYoxQSrZAwRcgNG7tfbBAEBnAARAASCkHF6E0oVM3JBJWuZGBTAY+5pHz7xVVKPTB0+X0Sb6/k22WwFhneTJLBrORiA99QP8EAQLM9ppF+eSqLUwBQUHiPvDaOkqTf/gRYksO3ZiiRLGSGAg/5QKVUP5qTgAF4B+hSyj7bwTcv/yvr9/vtsCILuEX7XndZc1lz9cNDAsTvz3+muGAhBH3am1x5oEmBg9vp+h/BAEAjwAEAA1oEFJIpaRfMr9kFKNQbxiogj6yAHzCVlpWMt/fYggMDvU0PMtgxzQkzd7yg5FmA/GGQiEODvJ/Tb+9X+Agf47EX+1741/r/AAcMZlr5RqThG0SLmxARglggCAiAJBRxwwz8EiWQwPAl/7m9B8AJ7cSHoliEiAZ/fABI54VCqJvOKRBnC3Fj1X2WfeWAHWrSWv+Aa+AAAB4UGawCKARMCAEDeAie8D/RWDgMC4yQv4ZENCRIQZ4JAn//+Ak7rPuIE5ZNkFoD2AIVDjnwNVv+oMAwKgAOI4qFRETZ/iFF//UDsIV05EF//u6HgHP/JQw4FLLjf/4GAI1gJfTrCCCaJ8bCuIybHQY1ptN+YIAgMtf6Tm+O6Rr5A4+dw6z+/O24bp+eH8YD2UD7KQhW5gQm/RMj9IBSK7CTbW6g55J3/4PRgiSimlhDWlTJAwcBgssjCxuw+iwIIYOAgaOpnFmTMkRH/BiWhwVTlqfuvggXwPc2w+KOL5owb7RqJEpr7f9AcE3x0jiQQw4zQz0EMSERUHmJUyxitM3IXsU/eJCU6nSJAwHljHAeA+p6CHkwBrTab8/ggCHxkABMhFO6CEIeesgp+KADBXRNuIcebXBODYXUCSZJKESg7+DAxbvW44u+8IQ3OTUBAU2tap8b//u5wYdExLnoUS4//89ApaQpvag+MED8AbAOPSin30hSA01pjhx87EQhwJw4a6viHBEl994K5GF+IlaE3wEgA15RIbkEkfA9/wYDF5JM9JgDMjUMilE1S0h/4GehnCpjzywQ/e4MCOgo4JcQIgAvBVDFBleZI4/flloZE8c4kH74/Ebg2yE0Jb5yYBr4AAAAHGQZrgegETBwGC6hk3Z4EAEAT4CQySAWeSx4ifBgGBfsDABOkJVQg5Hrv2EJud07vBHBwECYaXB3xkACgDBjLpps/OIDCbzZmNeUvcX0r/wi0HzL8w1VYswW8JMm35icav4VZ+sCo7t1ZfCH/4D8MwkmaNfnzYCpCgXKAGtMmRnd5hRXkzTB2DAMDIRVc00h+8DnHT9Bdn6wPBuXxnpnu3YD2nkch5UQGH5uBVnA8UACTMwq8RF0rVkkdQkUQAAgHgHmRRhe+mPAcFozZN4JhjChCn94ybIjk7wQ4kTjowdFHDEZpMJiCecMpLPPwQ4QCGgplBJiLqJYgSN3P6XqsLa/N4AoMw8SvnYmXhCdfp3+fvxFUvEXHQQHWgscEfBPAAIPzBFFn2QcWe0RAhI6/JLosLd7AeFbIFUSYScSv+04T01/kIUdvGb32vp9OvGY0mk7/AeGZ9UeEe7cH4UuuOIc6eMudduB0pNUy4j/+OCxfDXOdP5w2BrNXN/H68PwBsMHXOffSAnVgeJcS8Wu+8ZwJbEuiyje5rft6TjonMEQAvS5gGi7Hm59nuYIgkJJuUo73//Y+CRwTv4e/4Ju8vp+pfdHgGwgAAAXtBmwAigERBR4YCA7wTPPAh2eoh6WA8JGBsThf34Bd23M/BAEBfAAcIAi4KLLPzCwbAgMZRnaNqWtPsEeEAR5QgDOGBShP8MBAmACnwTCrlBDXICNENuQucznI+IjIe3HsDzUaT234ETySG5gt6u5/GoH/zWxDxtMDI4O4CX9hrDAQGQaGUJdHkCUkifeAsGkFlH/ZZQQm5/2gBikLWeVKWHyUHc5To2KwSlBvy2ZLz8BOB+jyOrG6jdyf/G+L/VAwkW6DBFDAQE8uUKVRn8/iPggwRQwIFxw2UsAb7iRvZsOtO9B9s7+INwAP+COkjlY5F8AOAAtkArUfMkBepmsRLy17BLERFAgBARXDT3R1cg6vAfJCNIIxBDlKOIB7gohRGZG0tYJ8ZwA/Xc045z+mw0rQutADjcAl5hYlz8FvP3gBY80xmjMZfSZu/X/4CloAAIAbYjasAw1SII//gAEWlht/ONBpAn2zGc5wUnWj02V0/VPBNiHH9/ANhAAABykGbICKAREGAYCPGm45MbwJdsf4gn3gbzL/4MAw47KSoYL8GAYCfRqAA4inISSKouuY3/0gOtrRVi/MHAA2LsBmMcJLv/3gMCwQBAXbvcXz/G+0JDezBUG6PlUw+LOwis53Xe8EUGAKPEZ/hAQSAoG7wLE71GwtYn/TgYtNq4GG3kY845jCAgKQ/C8FIpIVzTg/GTF+/AUY0ntxqQ7YEAaxhZh0rsr+wYKzsAYBKqwWSOd4xDEYaO78+CthbTteU7zzIIJXYtqC3pZIzw0vBwGBP/QYQP0myymPNFhSYIeKjRteyMSaZjEmmYPMSpnHvX3vn8/wgGeEMEMGAYJFemKTbi6yYXFwAPP2EE5ZfkENAFSAbiTPVDdvwIsgABAJ9oAx00DT/ngYBGNmh5HuPD2Zomn4FNBxDww+OOwYy8xPOpX/BJBgGAVQFBUlSlGlUw3C/1ti88nJSnbBgxK7W0wH4WDesXKVw5wPSGntJSr7PQt2P6dcMDIUZxomjwFi0KljHgn6vBgI3JMb/MiqgCdGJeQ+YXlqQe5MarajAEA1bQMKd5tPo9UAIbaHPi0954AaCyZk6qYE3SVa8MYnXMXgCfg4L8EwhYBsYAAABkEGbQCKAxQUAg4MAwXhhParBJBgCDiYJswQgj2zjoyC+ZX9HeI8GAYCHgA2iY8jk7+cABYMR0wtc7OYIZPbbH+V+p1cqgmA5aI9Ua4nvy8b29q8l9mbLmRv6X/4v8Pv94En5Zp+CKIhKEbBOuD2KHElicnO/BgGBHwJTbmH/M+IymRn0KFG75ntFufjBgGB/6ByGMUAFsFjvtKY5zP30BskJLCAUmyBD/3moID72n+JBGSwogFGuowBnhcj53ghgwCAnDKbJZKLQSVQVKYnfO+f8QJ2V8JOTswRQYBh5Xpi4J+K8AHuxMeEFc3/WwAOnKJzyWGP1e0kRKjMGOSaX3+BZWHIKyFkPLa3RH3RGf+vF21k4BYgMaA1AYqGE9uX+XjZ0ufhoMZAeKeEcN+sDAcAJpr5e40vg0WBJ+Hzs8EkGIZJ8BGkZMRc5lKyw/BLcBv/3U7JxX62bkfRbHh4BYN8WfVXr3AvlnBRTo/uE64gT14CsgOYb8HLK3v0kIyY3L2UVfe6Aw48bjBh9s7/gHXgAAAGWQZtgIoDFBhNgJBam/A3BwGNVYHhUYwQBAv+4mPBAgJIIIrwAyd1Q363PPf3T4QuCR0bUow+CGbAApgNrCgQcIoZuHzF8jIIrKI/mlJe5uCAIDOAA4ASOIMvlukiZnJQIFc5iMCWjRenLAzfJvupvWXGpmJUGQF2ej2X/ggCBeRcTdI3GQEWEDouSSnM0x5v8CLEicBHua+38aERz9QQhEngBia77134YCAj9wmYV+Tw3gL9wAAgITgGEzL+/Jt2e22E3cb8EBQRBtwi/a878j/oDgWbbr+n+iorgg8RgigwDALoBixwerCGn+/8+adYIAgM8ZJWAHABhgxplJeeRNLn0YUG4A/zPmX+4ZIgAsWFh2jxKSuMjaHtp9Zr38kCJoYIpxiCDiAfYCUQszEYknv2mB63cIBDhl+06W34x2AoKMgPFPwGP6chdXtQ1wcAkDA0TOGljNzY4yepaCXCAiAHg31V3K/k6MrZ3g/Q4GBNCAAEAdMR8JAEHKAr/+gANsAwZtxLCCyhq1swyhydaEpuvuoA7EAAAAZFBm4AmgMMGAYN47KwYBgFGFF8fTpI/pUCQJ///gha9vHeCOmBssDyKM/4R8OjPkPj+HUGAYFQAzGx9kUfGVyRybcCIDFmqjnK0v/3gYIOo+ZCzqc3g43duv+F9dbbjc2DAMDOKPwG5LLI3iDNUdsT7/O8QIXD8PM5OM/YUkNxuAS9ayN/gLahpVIn84MCHLjYzInHYwcBguj+/SGxQAhZJsP+SBDBgCA3DysycFXxDczTj4fK8szLbwOfE2WZTuijeDOR9gNL4hy2XfWDtZHMEOJJGKaZraZOEuHYuC+AdrgvAIoMQiTALFjRZn/EdRrPeEHGZFH4yAA2RmaEmUrsyuA9k2L35bBBdn7IZGH/34bGTGXOX+eSsTUwaA3PEA1TAgTSq1Svjmn4Mj1r/a8l+ugfhUec1mOe3Aji59lvb3gr5juOq88YmaWp4NAZlqAeHB+A1L05GjSB1hwQaZFLP867EglXECYelT6HAHPvgl4iACzt+Wfev/oBLMxSCXTdQ8h+/w0heEAm1ud3Pn8A68AAAATVBm6AigMMGAYLzRQHgwDCpVgwDBehBNh/6BHBgGBXjZh8ZE5vhSAJ8ZoSoPBg1mzN/eYKI4nlYo4mHhyhZURQJAbjmRnpf/gzzZvpcAs3rdG/vdSaBfgLrtzN2J1gwDAQ/AeiI9QExhzoH39L+hhZ+TUaPjh8xKeaAD6lQN4xn2+fRmdn8Jl/Z87wQ4gu8qgnF5QlMEASf5+CHvGUxao83gAjafbKbzxDxkFkaB5wR8E8AAv0rPSz2QSETW7itf9gvjyspHp6nyfomb+9XyG5F068Zl6s4MGZAageAn/dDrzLaWh4gDnYDUAOv3NGOPtg77WzUfCe6B4WPzmjcdsK/0zR7fCHAZ+05TryqAQ8e4CrPAVJOmH1tzCePsmA9Jj+CWDEMk+Ad6NDboVGdIfuGmkxwDsQAAAGpQZvAIoDBCAY4QCBYdhpkbQBBv8P+a/BAEOCAIF4ADjA6BXWiUr/LqjehhqSQ7JVjT8CPEBLlhhLwVjcT/CigIm7j3wANN8hZX7MQKjd2vj/+CAIDOkAmkMAjhRTDhJwDw8bvZGqEjv7gIAM6rol/6cM1Q8rD4/S//AIWttPc3wQWtll+j//9xka7PW75LZvHDAgIcJvwBZHlCoGy3R+Bd+8A0yBVkfMZhjRcDBqDht0p7PgBYItPCLWK/KDi52gic5Uhxb/CCv/Jf3hrLRjBFDAQz+fxHwQRP/hHw5i/vgihgQL8ItPrIvjAl+CTgAMHcQM1u3C8KIPwwCbnOBTISUIKv//uSrDInggEm4JfJr4mCOGBA+CXxelQWCLqeOegTXEaeOK38DAfgEmUY1nTNlH74VZNDKNJZB5BRu0GA7WYjyh3CPqf6HiRAyOaAjzU1A81y6p9AByKVhFk6wVBVVb43vM31DZ7NhvILePA02I9cCgQ1RkOkD8AC9RmJLd1d+/fiAAEAAY5nAt3hMuuYiCH7iAlViA/8/LQnecmCWCC4S7Un1f8A7EAAAD3QZvgJoDBBgGODAMEx4IE+DAMGnTAHtkaucAHGvmT3g8EAQLg4Abv///QkaaG2oEUGAY+qfO/CAgno8AZHpzHPawgICn/C/a+af9TX/7f8gJyqQG+GVdQCYP8HbLdnG/uz4cPF0YfhHFHpHvq/06wYBgE3ghVlvyAvhpLB08EPzvn8/BHBgGPm4yXMfi8IHABAGlyY9jcIvH8gNU0MUBNwVTXk8dAWnwBV+rA9KpLa7bwGXra1c+nXjICNl1oEg3LEkb4DAGJuu6O8bgrJNHtgsFX1uzH8Rzd6wP3T/2xig9+EP+CaDEMhLgAxM6NE1fv4yF/nXwDsQAAASxBmgAmgdBP//8ELXmDAMQSQYBj5Y8bP+SGUJ1S+DAMC5cABQFTfizbVFG/vAAL47JMmcGzdFlQmNUoyv8C6ONUcNz0GFPFOzv++kH0PBgGC+AoEA7YG+1K0z1Ai5dhzeJXP/Efo80n5a31vhbTviTZNbN/88jUjfq8Z/A7/owGoMAHlltdHRjr+doDweEFmZiymGifv8wrgDKctrPn9v9vzbbE1wU5V+sz0hN4Sf6293+ff//4IYMAxn8/n/hKtER0sPId35+CGDAMCuHyFV4Nxl/Ngj8BVMbfQqfTIj948IcCRn2eMWs43iD8ryM+2wP+nBj5Ctmp4vkX+PNGCSDEMk4CGiDM4RuJKW1iYfglrAoyN6gj8ixqt1P8g9G9R2p14ia8uj+G4Kv4B/4AAAGNQZogJoHUIBDggCEEkMCDYL8WIGkSh+JvBH2BOgQw/CIR4IAgEOAA4MGKJF9glzZDwijXfuRVQRxdxmraojaCIAB7lYAn8240BA8vBgbAIIqeFUQeeLOffQm8roANyXCQ4VLEDcH+XzjBAAl5Rs8hN3//4IoiI2BRkEQYOHs/8/n/iPybzbl1ZD8CdqNc2GAgI/dnHYSsLCk8CAKUAImtPDrRM+8sJeCvdTCOaWeuR8XSQfetT2hv2G/J/BDDAQz+fwn//+Cb/t4nDiRw0SO+muvpgiggCAIYCXzUeG8vJR7+AadYkSEeAAtGPwjZSqQi4MAkoUkalSviBl//9wEgzIB+l/gpR6sFm/TJGht7wJcQaoOxi51xdvHNKMsM40nkCUEv9YZEhDgImjEh26iepPhl914dAOgIBC9dd84IBIR0sWQRMjhC9rvH7wlYOJ/BJyQ4T28f8V0872AOKvjIwAiHlvlGYHfQSXBEWmD543XefxAkTsI5hCTw9XSImnc8NhmZHXMZ3npNLgH/gAAAAcNBmkAmgchP//8ATbPIgOwcBgEkCIeRfmTLn9X6VYFAEBfjNQJIMAQBK3YmKLywxP4OAwKpAA/JY0zmpa4AF6QFaPeQQSf92p+ZjWq6vungcVuIhrV94HyAGcACo0SyXP35ggCAQ8FAFz+AeFv0kw1VGmCw8Q+HOv9B9BgbAr/xJvut73wIvtd7uAJAkQtgvw7tHJoPwcAgLAMqXGjJX3gpQUkGKoqD//Ol6YAIYMAUG0OGVM4jP1CAgFXzALozR95fsr4wAcMGKkL7v2L2cWDK8owR8CI7kmS+EH7BolESIkGkQcEITcACGa98p98qu5X3PkF5rIKACWolk77xBMvBgOCLkwJbIxOY9/BAIHxkZnG3uq/xgIJmQw3i8AP1q0Sfzv4QEDMAJSKeBGEtYu0AkatY1u2zOs3EQv/QC8yGpHiC8lXA/IDlH6KTN6g5JVgOzDrhj7gr/0me2UQ3uWjMmSPgCcM9/3vAO3EMk8GaWx4fyAzg0NOmRIn8A9qYuRXes8IcIiyx5WT3nmV5a5G7yf9h4Fuv4egAkR/5+J0DYxsEBDSJQ8gdr3GCXiJ9AEqnaThHwet5KTMfN66VqBorAEAQAAAB5UGaYCKBzBgGC5f4EAIBPh1cnBbnq4wB7PZz0sGAQgjgwDBsfoCXxzX/qnSiBAUgAJD7on4Rh4uCxB3QkMQRSLs10DY96UBLgACgiMigq8uDBa8AD8EEyk0+uDHNDRnef4AxkQbOIvEkLexeADWlIR4K5dif8D8HjE9Yu73+P8AOgXJVbm/xOsHAYGfgAfB22PORcK/9gKZAGCbSUjoPnbdlk/AaDacybWB02DcJjxubj3/rQ7BKJSWxQonlp/vPDE/d3ha6dX4UcPxe271AGApuU8XW0L6NHH5PxLXJ3ghwgEpTU/eA7WmEiQwL8CQdMf5gMuT/PwQ4ReDqmmVqYJiCw4gwjIFmP8GCL8SJHwEJ5789pscU14PLIzUgANkNfGMjj+pXjfj4RkARYg57qmDhv4SPczgZhUsT21qoLcb/7w8SJGdB2JHKNN1NP/34P2EhaXCPfgPovgBSaaTI1/gKgE3O5heIoSf+ykXc1pGUK9c1SeAFGdMmQ+OL/CjABkEL/RA58AInMwza8KUJ8liYzgLE4zBm1BTB6TH/BwEW2kG6R0IikbHkHY5ak+AHaFvVI9RYEKfW6WfXFcyIahp4NBWdAPgwwSQUhEn6WjUGjOg+/4jCAAbOBQuLvYH53n/z8A/8AAAB2kGagCaBzCAQCPG8wHMjDcbsjQC6HAEksr/hCLgkpPBnAAD+PgATES8AsEhjkoUqGrl4I4QDBMAZduyHwmN+AShAQTALhqyWcpLz0CSc5DanBF9ZYj99ggCAzilSJEiVfgONRodczihSzv/epoxIdqoiVL8MKgw6zHxhxW1XlbeAl69Y5goIuJEYc/C7B0AJM4l6sL8/57Z0eg1gB1AlElUsDj4wQBAIeFIEokcZRS/9AL5BpK6bdP/v0Jh1Nq2Bi2qETf74DWAFBSmrnh2fEXnuMwMvopayROU10VEscxv7TNBc8EWGBOE28U6mDtB6zaYMSaYLXGZ4SEQgO+HGjFw4f/DEhYIsEImMSaYPWbTIQ1GqZF16MDn6hH4gEMPxBPinoIoKBAjAFrkUgv4i3/hESP54IBwAGAEQexPGV9JLMYwfbwjWgzhXwsWmcMStQAEhgcj5kobTJbt/hEIjPjAmgmHAitexxkzm0VcSl1JOOP3+g+L4EGoteC1uHHRMXf4D4AxSpnDLPFeAMfTTLT/++d6/9+D8F0d5DtRy4HkcepRDyl/83EjvlEC4BrskP8ALKJjyL8COXMXpUY+D3SBLyfATMyMg26HYxSQ/ctBAgRPaQu20f8AQBAAAAgpBmqAigcQYCODiEOZoybQgeDL/DiGE+BACAuJp4jM6YMqngAzMRE4rfU5DXq+hAmnUtsYsTFQhoFqPUDpCH90xEvAhcNM7ORUX/8GCPjsvlSggdmwfx2nQ6wgP61AQFmYHMqIEYJ5WF5ZGtcsv317tD0QApwb+TKx0MkffRwzwC3xfY47f4MAwM/0ScZaHmVNQcOCcdsoOAiBrvvVoZGH6/KaQ94YIXwDdSD5xB7/C/ngSfQ43GsVEktEZwSIzKe4DjtCFVCzE+e98/256YH91c+pSrzfX/g4DAmCH9HAXNxnNwMWC3JYwQwYBE2NJiMHWlhDeCEV4b9gHP8QEYIQooANVZkZGRnq98qgIZIJHKZN82Y2+ERCp7iRIrAHu4iXkB0pmA78CHek3gjiBIiADnXnCzb+Zbct8fPgSNPrBCJH8HUmepWWEABwxhH0fEX4MKMaSF/XtgABAAX8BCQk/3vWBBGTjiOtIt934MEbCOaRSscS8BkA7kBQislC7eRT/n/hkQMg8AEDx+KHxs4rg0aPID0av0mzfwB+BUQ+ja8LsRP3+AawJKcANPDxCiJ2//4CqGusSMpb4YM+AATjS8MgMkx+2+65YLAoAHX3mAJpka1zh5hABApO0Jul1dDnYZBAOyyCFcnNJweo0TDcaEyB3/fdVf+9mLlDX0BLDIkn4365cf4QgCAIAAAIHQZrAIoHEGEV4A1UjafgB9owbEJ2ucf4ECLtFFE/MYM/+BinLTHlq7AoBAXAM6uNGkV7/IzYAGcQtLDBjQNEQu3GZ0KkIb+sNQCL+u7CRN4BLsgAaAJcPEjUzV/2DgIF4Jrrtqd+8EUGAkV4R91laCkWOgoSAAk0mmmmm0/gD/FCxhb6CB7//hCPjBkMABKIkABgh6KVSh+ittQAIjU4JemnfP8F6meCYpUvQIjYGROUEF2UvvBSBkHyjSDCSL7/jIDQbJzJmm4K6I5Q9olYXln/B5wAabkeQO5/x2pocdHwGAzevL/w9OCnMK0oQVdg/WcY/S3ZeMo5hn/eGXaYFmpnLPnfwQ4ZBPDaLMfBtIMZCZM0skMgwCM7eyE5sl4BR5MPB5Tf+fghiREmIE6s0mWhuNoI1NpgIsQTAJO0uq38IQVfgDp9My87UEAcaHl4CVl08+nWGYzACa2dKb48WIwzf1Txl/UH+VoPAQafpJ0cergfqpnLOVl4AqKRY3ha7P9wDYfZgIuVNH5LP3n/iRIUgjA6oE/IC+0ePvA5zUOsH/Cb/gl5OyZN77wLIQqqiCBJHjaAEmULKsUSqvZIt0EYeIfk6DJefv9GK5yqnh4hFFcQlj8DxQZCww3VDzX/3wG1JCvYwBsCr9DS7DpA94jvxNhAvhYWgN/mSsbFd6T7wTCV8AQBAAAABzEGa4CKBxDEXkngCvyFULg42Qp5v8EEXDriI4zyk8ABvvLCWZOHduIi7X0k0ALGXlHiS5cFmuSfmHkB+jZTX4MIABMoZIqD45/LEy8JbHCbvF2mxtMBfMCKGJpwhgnUl4moiSACjxVzZaOxbrWKkqE7cxv34lEAI4JXWdAh+88fD8FCDVMzbE68gQ1bn5f4ZgAwVEPsh7/CoABGUBg1zqbxiFOTj5/BAICkMoxAgWRzL/1wPQ5DaFB691Cif794In12ZmL/mGAO3xMTq0Lkxnx/TwRYRLjSYg88kwnE5oxMaOVRCAWVABFEhEJ5qcllSgwHXRHNnfhAQJxeiYoOnw4pxgixPCF8A1pOeYyejExmABQJiiYsuKPbZAV/ABRLYpytT9mFQAgCRUAp48zZosB+gGgE9scaobnwf1Xe61UoioIjMnffh4LaP+z8Ah8kAXtQ4Wzv/eHiYyHYD/M2F/wIxMBM4HCqOn78/w8JByCTGkvzwIzYio3Zhy8b84AIVRRpIhKPOQfwYTNJ+BYhmhwhanDzVCGMARCSzhn1v3nUqYMdJA7Tb7WwKyUYgQpFB5gemkDYIxsLICBKpUg8NpqYgSXJvTpx39JvAETQAAAHRQZsAIoG8GHgSBIuB7JoKYuH6YK3LfAgRc0a5vAAQsjyeBc79WYrgKBvigF4engGcAAiAAIATZiAUZsOs/YOBAvg/LBkUTnPeA4AIb6Ynn/5gLhSKNGXOeEVI//2+UnQzdP8wcBAvmPiveCLEiPGhOgGtJjpZ/UTEeWCUSE+b9g0y/76BQkxRq71foPw8CBe0tXlPwHwBgXpQBPLiCueI/4cCRundS/A6AgTsLX5gX4GFuwAQAkwDinzAKCAsacOxyMPid9LT2KCzCcojGOZ54mTFJjLwnNGkTGptMwRYkTxkTWL0kY5L2FF//8duYOLjVtM19MEUIhkTAqBhSWYLCkafmZ8ndRYCJ+VqnDIQFYOkaTIIrNHnnUYMMEWJJwLaBkPAgiRcCrulAfA7xEBy2pb8TGQAK4jkfOwkexd+hCAA1wKqjF+RkAA8DXLTQ5MGHpjkzcy2BhAAgC/M6EJWIvvf4AkhsQKp7I6lGqCZICzVQ0+Srgfh4CJmL/1PwEcQgMuVPC7mvef+JEDIOmo21B/8IeuQnUbjj/hFbnNV8TfMSXAWKNMFXEsIX75j9cCGwCHynK8sQ/APputIfZ+t/z/SRFT4EJSVLEDWIt/PQBE0AAABvUGbICKBvBwERfgJWpgdbMD3ON4EASL4FJKnKG/hAAWW4HITdYo4koTqHMAIohacpsc3a/8gLeWA3ANhFifmOAGWEPA8IA4LLSr9NPAgCBfAQA0ERiJegRfi7m6FKLiv9XzvBDBgJNhxFgfxKp+IEEwXxmgQNGjll79BZIOxcchbH3yFNpK2wN8Kf8gk5ZAP3x+Jmsb+wgHyX//4mP+CNoA0gpt4DhQ/7wAdERNY5KdRepEJIzZCIxEMJ5JmZ+TPgfNMc7wQ4k0FmTMbMkzJExUH/Jnx1MY9sZ+CGEQyK4GoN0yC+MaflSIjQyBNw4pnjlzWXP1lzJtzBHDIRCECJ9rt/sBQwzD4V+tF8MiQjgAvQI5bVIhC3oeAWAKJrnzEeATYVd+Y1/ccAUEOfBqDhO2Vl7bEkOHMPoAAQCWYd4Ws5xAABMIiWBOAA2AnQX+tjOxklAaBMgZ4IEAAtL2MuMkAAEwipYGgAMgnTPGbppjABkMlL/CBKl6azU/9tvBAIGQDoAgqZwtXFCuGRWm688N3AAEAQCZxoTee4o9VpmAHG0yBS73h2oP/14hT5tTqKbJotMMN7Sudm/4AieAAAAGOQZtAJoG8MCS6QI9gcFOGQHuLDEXwOhEZDhTMABx0DDdVy2gS1Ut9P0JAAEAmwDiJFF+YYi+KwAC9g7IKC/A8W7JE/MPtEY8V+ALO+A0qHHW3/7BBLLnXlM4Su2Fbv+jv78AihibTCBhONREmmni2sEYvYMDUiIAGGLhDGuLfvCoAAgFYAQuwsvHiP+HwAFKCNk1+BgAy1vXvPDDyazTT8B6WTB8rGHx+bwTRpDFglqDqBIMBjTJZB0o0yDgtlTE8EXNIzGEGSJEidHpexwOroCLm8ezR+omPxtpMsYFMmYpkzUU+CL8SJCHCdwpPTjEbp2WfHwWQARO3ym5ALh6kcAZExotmBL/x0QocmqDAqCR62ByMjy295XsK1+ANgrQgus6rJSIvfP9HfjMsIEuLPXBh4GvOYaEX+7/D2da34EZAFZBkw83a/w9AAEAGQEKsS/A9A9iE535/nGnGBADoABTQKmSH5/4yAJiVXsxV3TVRJ4aIhmK3lFgm+HYIKGJ/eF3HZ4eW1Lf5zd8ARPAAAAG8QZtgJoG4TwAiilNpM3a//wB+zK2ByGJLwcCRfAB5jMnExPo16KuEETZXuKC/MOQN6NnPX4D2ABgCeoHJ2PibzAgRfDoABEosUMw9/yFGJJIeASOt+cd6/DqzFlWPfO8EUGAkkwWAH/ISWd/cKSVO/iIi48AAYPBAhB1BglAO/OKXBCkN3wTEhaQ4Jpd8/w2AWbfugh+BMMAJ00PVu8514//hwCAE7Ryd3wvwF1iZvUc7r/mAsDhbjTTAon4ozJY69vN+P9eQBSZTgYINBFORogQpEnfBFywFPwx5qkxz+fxHwYCRMDJEmZTGOhwHK2mYIoMOfz+f4KBImD/kz6cDEmmYIoMIqQQYSfZeBrsEJ8IhEX4Az/nN7/YPFIctYCNvO3xAzw7FqwA222pg4LUE/KAnCU8bnPgCbuJifPu/gDhmVbmEXkrrmNEHOsE0BvSAgu6S7W5LTOIGQnCAAmxYevQt3QLLV/KLGKn3+HQEJ9MTzQvwBWiwERvYo2rbvjwo5Z97wXMgABAFLDBgRkRvgWCC5OOZ5Y6/wXjZpYXlJPrASOUW9klGCL7/4gTBAIDKkz2BiP3yiO/28ARPAAACFUGbgCaBuE///wJB1TzxfAnZGJmHXXGeT//QR6ECXGvbxG9YOk6F+NWK9cAFAOU4MQV1o9C2k4ECW11WZIdRq5G7/tkQIgn//+AO02iz2DgMiNEMqFnnekwj8+vwIARHw6aaBP6fm/A/AUzCtmWqQ8pUA0jAULo32gNGGJqU8Fm7XQNNfwYElyE6odAVhxZX+gKpAZR8r7Kk7vv/iR0PqADxARKcHGYXHgfAnICirpvzwwmNEqevG7QHBwE6slImc2nfVYY5Mnnj0V12g/8SEIPFnsAAgaHib60LFSZySbarrvqG18Jw3TeLnBOeSDXrCF/tiUchyh2CKDAIk9fkhGKg65Ecw38E5xwb6VzvBDhA2MmMKE3//AS56z7/cIgQRXCAxMaKgDCXk8TvgiggBCE6FNh5zhFOsoAl2XhBwe2V+Qm4AEPX/V9//4A48Q7PPGcAMdJmRNe+BV5smbBBGH7/mADY2Poig4HHkgJwcKs6/vC40PfIYQbmWybFw3G9WDEizOBSplJgHA5v14AUC4suYWth8Crnh/ve1fivQjYjfcQMgiPAAgE2mhf7Ej7wLATrMVEIOv8AQXpyLVzFE1OmNxuFM7IMJuGkR4MDyjiDUYe4cyJvfAZIMF6eKR5b/aD+M9ppJ4W3Vzfwm7Q96Dq+AUToee/wK7/+/z/+CLk+BQNKxTZ/CARcoGovd43z+CERAEBwAAABk0GboCKBxBAJF8AWUYMalzAQtgCBTYph1D/dYKDsALNQCvQOnfQHJzCUo24t92CDBFDAk2m4cUngwCL4D3IyoPxkB71LACwXLLyEVXUI//VgvEedwuThDunBaP2Psg8arc34H8C1CWrv4yt9fGFOihjjzhg13jn83/46f06A8ASAD8EPsqvPD17AEIt69+ARPMFGIRhGKbMSHXkHwcZzEP39QrLYRqSvA/8IPTYpjDgi4Ipf6XP5+oRBjBFDAnP3hkVMGAw3Jj8fTIIoYkwmscx8SES+AluoD96p/xIzgAOwkqwpciEiD+oYwjCp7DYE3wADCJoSTlVmVyOsgNtxEgsciY9asAfTcBw+b98NyRS2ObgwA80jIaRajk/0HQIWLE4isvzwAVgnFuiGEtZfA+gAxRe4lJll/lmaACZeYAwOwWvuIHbPAESyFBdgzvgNZXgHrA/WQ98/waOg0IcpiHq8XkwB0pUDXYhn/fBgcVcZ5MZgqL794GoAC+YareO/A/n8EUQESYdZf+6RlnAL4REQBAcAAAIfQZvAIoG4T///ABBeVZskYEASL4PBalRwQF0KL/Ai/vdG//XkSOfgigwDIvwX6wAj80Yb+3TqKfTe/4+/BwGRnDuW84wQAHDCUOhu332cU8aFf/6RrH/LYBprRnoxLjf/0GWIEjIAPjwA2WACATExdARdigaJj3vw7/3qoiQSRDEMQgd9BE8yKyv1ZUkA0wFCYN//z/yfiWbJO/AnhDfMcLKTf3wIQWBcUjAs3InfZ9///P4OglTMiuvwEXkgOOUjjf/gP/CkMFTkUxkhOUrAArGARlwoslh2+1gxE7eEGK5Asm//DPkK6NjbYMoXdNJNJJvg/0Yjcaj35HehXnWuJwneCLEWFFAAit3d13yZJx57//gwCInarNBydAcDFMRGCLESYYE/BP8f2ID7Lo1dEvMTqcAi4qGm04i8xwk/z+w4Tf/4EQM0G/8IxXgAawZhouTSTHPtBeXBBCLX5K36CBFOJu1LmvIPz7CIgZwUYAAgBAnxDwvNCBz4NAE7x2Qwh+AA7oUpVZnHwLcQAEKfMDLP+/xcPmwwYfgroAIcTOGD0xM77AQd4AGqaiCoVb/9gCCGcZha3PydFTR7f5r9viFEb7iRkCNYBgDsmaQMQ+70eb6XWDBeAltCZkHGL/mgdIf5jwY4IcgABABAgRGfTNxL3Xgx12SuV1SiGuFEgw5hfnIS7X/BHBAGSdTgf3BHvBCU5HCHZjqzPwQiIAgOAAAB7UGb4CKBuE8ACI/Vf1//8CATFnZCeABB9d93//FDkYb/BHBwCEXylh4sYEbW/K/wIAZGeABj020SNr/uRXoedEX+Ae7DGuOcnC3vg9aR6pZY0IAIJXJD/vzANAmDzTrsha2BZAP+K/wrIHjyu6JVaZp/q8QFIALjIAysogwvt6+A0erYNErJJ4R/lqBCFdghJhRS+DCgjWZcidqru5Jt/7l4GsgFZ/QT4gtu/vABZ0mEv6PCoO76BARgBqBEI2+Pyv7972Zmxv1K7uoVAAIn1IGzSRWtEQkaZItK5fwP06wIETX3QrMG4ZRAYFfkvARQYZIRBCKk9gUaBwPGCL/ad4IcMyYQJqwXbNwYS8EuY9ywRRMXrGpNYuoZECvADMbNkmPgAOBOy08w+yo7ZMbdoLiDGXLusUw/98B4RjOAsA50EEQlHbaNCX/XxAzlikQ3/8AFZDciO/AEhZQtP0zCcEP1YLZl0ict0CGggm4Osv/wfgAXAdGcwn4qhoov7/wIvAAMfJcMxl8vrwGEQS/HbyjzRT93ApJVuZs7seIUzECS21/fT+MFv8EUIiSQGJ65vdrSH/CPlhDxPN5Atm/V/8RjRuAFqUTGXnRxPcwEbH+xSzCYf/Xge5IpGxiH+B/gpEP/xbY1vK5XcMOAIDgAAAHpQZoAIoG4T///CT/U/BHBAEeCAIjPGm3AFwPjFF/EJDKFX68Dh0AVFQcCLn3v/cACbbkaJ21WSAKhqjkj4N3wNgF4C90yJYN7DYAFvv+94YD8RMa1CI7o2NAACACIOjCsSMyHu4gZAAutoGXcYoXtR/gzEABa8HJGP691qEwlQU4pzL4MFORpD3ZHBsMzWhfn0D8ACgfo3dqYp4yTP/wI3AACAAIEQhYrEya9v+LbMd7q6rgZ3dRlZypWW+94aBYIInmjGMuKCKCAMisCQ8ywGVb4BAjXE8YOXkma4jmgAASQRFEEHlZCmjqFP/Yehw/avFwwqSyD/E/4IIQhpy/RTwjKRmT+mCLDAqGT1/MHvSZrCg+TECvH7nghfA+YkRsDDJ+CHkwM0TGcIiSw+6z6iRIR8AaiRDVH5AAspTj8jotBayn/0EYdnOfSIYuATAK9Md+oVEHf8r5IgmIzO7wP+JGcFeuUziP37Ne7A9JcP+5jX/zDnam48DB+ACMqdMZsVClqthfnjPyZjcf9KG6Q30gRYYElxPRoh/wRcfgiZgHHNfj8z7oImz8Xtl+EfGvAFBuT8txB+NERl/xGD6abl1gHYjNRlfgVUAG/kBnUJOeB1sBCEVxciXv8D/DIh9+LN+PqvYP4AgOAAAABt0GaICKBufgkg4DIvxwLDYGAExgyeOCGB5OTgwtWumzOx/NgQAyEeAK5zo1jeZNgehMAFigCJDgu0IX8Ae8xrZYaEfrwfh+Ad5akLteNwIAZEwSKzfqcSsoU6gTleM73JHz5+CKDgEI7wBf6mL6IIIzjOj/Qccwg3/EREClFKZ/y8YfJNNvzAWpCFZkU40XpViYjmCoAqBXK85F+V99/6rBgSOHXd54QNDkH/iSQjGLweMDBhN//wIVTz3+CL5/P4j4MAUifCjMJoLSlCAIIoOAznfg4BCbwAGP0JVm/0T4gQEfAAesxoZoo62KWgB6r8kae1Ngr59kX+BhqAAT0IGmCxNqgiF7YoUTdOu/+IGfHQDBGTVEtSU+8AIEGNINVkoXJ9D2ngB05YkH+Y9RabCFeYfDwAMu0YcIM8kyKf/gAP8UyzdxqXexwF+5hdpzUNZd3eiK12Gx75+CGDgM/CfHQWPnAAEAaOpMzxghEBLoArAOUNIRZLPmf4H2/H4gSCX75k8T5CorIHoICKwVjfLSaILEP/Ui8zoANEPND8zf+AQBLyRynFZZ3/8D9OsGIQc8ZtD4AgOAAAAGpQZpAIoC3BwGRfgAHT5cg6z9aASfrHiBzIYpwDwIAZCPTHEAOugAmOC3Ap/eAPHX8W8gNJT95/gSx8zv3Mq8Z3/heoTimKAZeuhQm//8Aa9pPPv8EUCACHiBL8dk8FMAH7HTdg5i3fnuJIkhNEMjEQDlnMVVl0cDOZRGqZdSeCIlf/B6MowABAAFD+GpnX9+QKgZRnCoa0zEqd8+/llhOVnN2vp1gQQwIgGN23OAmAzvKQNo777/e34PjNsbR67GCcz4MPgQAyXGwABgitMmk/BDiRXCBgjMyGbzB1GkzJBwCE3jYhJ3ghwh8vDXFrm4BG1fH+ZT7knteLwAUeS3sLOfukT38T/f3tg8QGkYJbzOcD+lab2vQYUXpTNZg4DImdDD8uh/pvB6EfqoEXd3xoATCbgJWuNqb/wBP5zQHfwEarw88IwavjNwUMd9B4RWgNpsk353E1KgGJtNNf+qyLjGVXPz/8R/wsv5LNNgyvy0DgAp8cIemHx+NRSdT+q5oG74P8HIYf4pEgm2MxiMGHBHBwGRHfAJVRmRvhbUqZovOL53/Er4B34AAAAGiQZpgIoC3xfgJs9fZAJl6v4/8EARFwcFTi3GIce/r3DX2+V35x06flyfgiggCJpgNHkz4IAiTAGbbV/vNcLxkHgM92RFFb/OgWeZjVRz/+ADqDVNcLLHvqBAF6jK9KVg3//cAF6OiPCHz5gvD5ZyET/q/4jVV9YP/uADThrCGHSz3mEQoZhfv18Q/3dSkFIRiMw+DwQCSxgQHoDgixJc3jVJ/P1xOErB/DmuDll0MEUEAkkYp+d6ghEG48HgECIZbQb/pYIAiEY6ID4J3x7SAB58jRdijiMK2BYciogRGPN//ne9tvM9jV14CtiLmIPfHEik0//GKmTGCYAD0vAJ6bCC736G7wQCYIYIBPCAgIcBO2kB6cvhNwHwswwv+PjJwn//+Cb/mCAIjMAF9T3ZFn93QNRAzC6riJ0Kef98xCJuK0yODDABG22iRtP9AEBiEpnaKP0li2JCsO8gAEG8KLdOO8wcH5V8QSlX7/8R8MDQ5d0Ej/XJn+BjAAeFmyoMb/9AKJfq/GnG0N9j/4ztGoCLwQiIIsEJOPyvggvyZieAd+AAAAZ5BmoAigLcCQCE2CMzoAAQwyPNwLlik3VCzgj5EMh2QV2tKW57cCACGCOBABD8Z4ALtPUZiIcz+gAUDtGQlMVfiLL/gPA9nyBoVxIl//93Hs2xvVKruoowQys0t7/z/4YMIAFyRQMmFRJR+/AQtQA+HnzpEH+/WIjtJf+6J854cGHaAGAOSBpZRmEwubm8gLEBARlQUY59nki/4Admiz+KwJ/iH8QE920UMPjBjn4IuqfEdclHJj04Tf/4A52kee/wRQIAZEwxTOC4RcFY3Aghg3gEv6w+/tYEAMif5cjIiAPSI2xKWEhiyYn4IeE+HkmU1smhgBx0YS4rwAHAAx8QKc+pTfTJG49//vIQnREFfLIwwQ87UNuqPsy//YgSMgBxeptDwPG0myP/qVHHPSFm3IOdpvYPhgJHSb8ssHWHhFXrjXfva2P9+Do8rH+KzB90D8TEQHsG1OCLIE2SXS/YMMtFecHI5+eKHpJo6yTF//v0kQtiGxBOUpENcQFz88GC+4AMGqSpX7/giiRIiPgQD4+Qt2GOe9TF+JJ8A78AAAAGsQZqgIoC3AgAhL4JFM36p+COBABCL55jpEDTlAB42SbmcJn77CGhhtOnn11iIzhCygRAAOCaSQHY9KAOiKwpPjgpoHx7cQPj9I8aMXMD48zBUFPfAwwAFpviJGPon8IHrDtIAB+fnIhg7/Z0oiaNhbWOf8eJgjDlC9UHZYs92NveHg27p1rYDVOYAbA0aLi0//+ts1dXVWcghD/hgJBzvBFAgAhNQpPXcAHykQNCtSP78UGUtL/hodfX/ErwIAIc/BD5MRneCHmxoTnfCPACfRIfRFPwDIBfO/LyGaAv/IALQlyxVI7XP0CTgIbFfjwnU8EP31ihWpFU6n84MMAO2YTHcgX5xIyAA8t8RTNkTUwo4jTUIMHvv87UFRFI66nTbL3BgIAKoWlBl6ppBlh6dOliKzD80iWkLt9yLxM4/ZxLfABFiU9gimrU/4Ft0AFccPJz7/Nr/Mk8IQxDvu1gdYTuiXlrgZvy5FQGuoPwIAZfttkzTq8EXNhier+WGM1AlVhBoEvEYEiFVycmKJoosj+DgYCns4YMwAgVMGu4U6/xyiCYyM/A/icMA78AAAAEkQZrAIoC2fgkggCJsA07RmfQAOU99kbvqg8EARGeAJg97CFT/qgDjWT08K6JRjT+dP1/+63gPkmc9IPGd/4DZlmRv6Q1EdrEAnasEARE7qA12uxQGAL+Lm2bIE/P3hwRwQBH5MpsOEx9Rf+4LdqU2y/3uG7sojfx/qCAIwRcTp04xTz8EsEARvhHYBADbbcsHAgrv6tyQv//cAUeuYNR9Cc+2wwk20kOwOMdntOgfUAMTpG0v88ZAAyvStuXpwMRkZzrEslLmOq9vUmYr0ikP/vWAF/GM65/t/BjKMkbQ4SEsCUpgLlI5REiL8Ud7034efgh5MO8P4Tqo3ZgeiAkhnFFxEB7uRzuMF6ui0yDjPf4CC8HbRNj1I/vDxJEifn/E/gHfgAAAAa5BmuAigP8CACEXwR7wAdOLnTGHHP5zIAPUBceocWHHzg6gWGiCyQ4/qDwIAIRngA5EP5HNxR9yvn7iQyaAR/gSBIyCzT/fu34/797f7wKn3ym0pZfrZFffnXobmc1xRf/XEfvg4Tf/8Ac7SPPf4IoEAEPER3OIKmxeGOH/EQJmJHkV0ykH/fBjEMyafXhkBZENcJ7PAAnlZviTNAODl2yR3UR//93Mdh17zyGhv2BBBA4IAp/DYQfgQAQ5+CH53z+f+KhlInC2owMs7wQwIAIflmQVz/zcALUVmxIoOEbANhngfZTwj4AJNoW5VIy74MoROY4yVu7wANVEGpkdf4BxXi3Mwh1Ev3vdis3Qbncv/B4RIKdM7j61+1xoaklutRSF//fhpZtwTCpU/9mBABCJnCXKID7pmnrTb6+kxOxe20Ph7tMBFAgAhCeE+CFoGw2BxzLy9LDQvwjDyRtnKPBgSxE65ipFhzb+BVLMdbkDuP/+dgP+PoUNcREGL+CEICIYAXfdD+XICKgEGKFRjval3VefGlPwO4XUsMH3jniSJJ+B+CTvhA0A7ghCEA3MAAABT0GbACKA/wIAIRfAGfXWL/wKFhzRodWgzu4DEmTOYOooTHOBr6SfcBpwIAIS9UqYH6e1/kL7sxwn4IoEAEPxUBPrr/3B3saZCh9s4GLzDaVjv+/BhEbmmTPV4Pb8kzZ7/+O1oJVYy768H4AMjvlN08ACjbfEm6A0cs0SKvpv81vH+s8hI3YLG4kxkf8KW/f0iRH7b/8Ru0ZGNfSCH/Pgw7yHM7wRYjP5+oEAEMEUCACHP1AgggNwj5P4DhtWJI2BABCEaKMgAFgB6ijMkY8ByJuIZO4+nLGxq67I880w4RtRLB3pN87wQwIAIb4yAUWk0xAFGcDUD963X9n4Se5s212g/ABWjy0jYj9oCel875r94HVHqhwj+7NoeCyt0X3Vv/GY1Sklfv/xHwVUeskGpD9IFr0vM0F//OlVRIkQOb66P1Kvhog8Ef+9sGNYwDeQAAABCkGbICKA/wQBEX2BgBkT5KN65KCAIoJdvX8GXdqP/BAES+xF8HBHBAEfhTwA9S3RGfeHmAK9qQwPScI1Rs3GQcQOTyNG4/47GgJ3ewPQtb8pARCUPHQ7SsdcM7A/AI2vh54wGRsiH/fgLOWSbrW//nN+kgPSAeyTMj6FIt5KQfUB/72kWp/QYI+JhlJu+3bkggCMEXuCEIG8E355YIAiCa+3gSlXMN/1PTwReuK8BjWBqeCJopzxkAk+rQ8NRiMDxSc/vPE77cdfgBXPptD42sAYWo9PdgFH5Gk4YiFn424T+Tpwaqj7//4j4St6gdXqZuE//jiwqkFL4I+TnA5DHyQlYDU4XjfzpAN3AAABfkGbQCKA/wIAIS+HFrZ+COBABCbAAfWFr3fdEYX9lADYRdTC3vnjOABhHSU3kTWwrPy1mQU/97gAY2SzaWfwOillOyEDvv86xERLvDp7B4kFsll5eV2DDAB2Z8ExVQveAEmfEhqg+CowKRT0Qc9ux+1eiCRn53jIHqhJbKr19/f5Xpyc0vyIJIQX4lTn/fFg2YyG4LOWESOXif+3TVILMyRwf+Q5GAeAzvBFAgAhFWcEnxXm/9dwAZ1HezO/7VdFkQkRXX+oEAELhiTH5+CHEhPHafHkxlO8EPvhHgAp5TjYSFP0gfOYeIaij446AB4s6+LkJoK3vosy2Tsp7fmZtj4MMAD1GZL6B013jIARtZsWX/YF/AcjCND8OZmBY7CuVVa+DDklkZ9fn+AHpkLzkaHgAGRVRqsQe2OwLK6V66sb3+7saSokSQDgL9JS0rsM//+5ca24PwIAIX7WIwRf4rxvMc9/xG8MCpH/AgAcpM5hUz+6V4qqVX3/EqGAbuAAAAFOQZtgIoD+fgkgQAQi/AAvWKV3SxGf4Aket0B4bPftlf+OrOve/+geBABCM4AQtf1wLL3qRpvcaw8nJA3FN8t3pUf53dvnTTkkqqz2vqD8ArXzj6SC0M/wjv74Zop1YP+9TcZJIkRIwIAKYI4EAEJZQwGPoPxFnVE7mKnMO/9cgVBl2tpvgwAwPV8roM67PPf/tPzVTz3FmbKBQlylZ/+E8NyY4f6PIkn4IQnhpTPjVyUVc+ynxOfz/yY4ePgQAQvwzJngigQAQiZF5fvKkn/m8AF2jcZC0c/9eeEeARdqYfYIsRjFAAxm7039rwbtUs1/7m+/lMG/33vz/AEdqPI3h4nHAcBAalpmQGzXtjXIICO5BW8hDtOY3liNYMFZ3ghgQAQ1xWJQUIpQLnkg+Ftrx/iPgB1lzy/0C7OkR45gOV7vQnv95MYDYHxv50gG7gAAATNBm4AmgFHBAERfAGL/WpA8Nl/yR3/jgCz1uAVK731NnP/c51pns1IPBAEQhwAhtV9P96CrulipKrZ5v1m43JN5jpNw5H6hxTGJylNpnsiffevhN//wImvVv8EUEARNjo0NfiPHSQXAyg1Bq/ERLzIY+WAQYDM1a72Tv3P8AZWS+7QHYXdgJ1N+VfpElbBCEHDJV707/zk5n+YfggCInfS4/1tgi4rD6mF/qP0nfn8/wQBE2QIAzqZ3ghggCN83ADjramH/NBY20lmj47wjwAbVO2U3drEAQ16mb2AcOVZcld/bdP3/++9g3+PvdKtu2fAOLK4dZfZggCJb5IBwMSbzYQQReuEpw3mlA4IAMIpTen7/M1EfiPgCicR5G/gOXjtzB884MOHHf8wfnuPGp/gk8AzEAAABWEGboCaAUcCACEXwBk3pPfgXb3yUO+8AhHrKDX2bK0Spfnnbr3WQ4zoejAgAhLTMP+z9jRi1zEfcz8EUCACH4qAMxnpM+Bd/pRr/cJAAawkNHx4GAFjUlVLZFId6aGMDNP/x2Vq97HwgPwCOo2lZ4Ql8k2m+RD3QDUr1ZJJLtAsWyA8UfhlU8/8fsZji3aoYzu8PjQIjrCPJXhmd4IuJz8dpa2mY/+c/n6gQAUiePvTaIDhLyogCKBABTn6ghCBvCXj6jBAEQjwxEmYBIM1NNI39sVQzj+/x/tRZ7Eu/xSX9uIHtd6c0yT/aJZ3ghgQAQio2ITjCBwhTJn6ffGQAf6t2k/dQPBkum3V/e5AACYpxHAxnff6+sH4A4MQ6yHgAPN1sX0VC7/BxVe1Xmoz40HPIgNfSPG7f/EfBzxSyqpFXw0c2JgPPSXGljRTqSIiJN77SYcEfgGZgAAABxEGbwCaAUcCACEXwAZ1JZsiNfijzWae3siIdpTvBHAgAhF8uHBAEOIaEacSx8P8ZwAtSsasig4L7B0hoK444AHeKxqyKPgeGzv2JBX/jqV9DUqlrg5YAC6MGidNEacGAjMGkqkebKY9c9i7x/rXgAZF/WRDVvgswV7lwifzpMVCREwO8FPEoUui8qlftYRk1pkGxyP294L6fixXI/rKToaMVyM3Xr0jn5LpkIRF4QwEpFUCrnhhx8dFSEjIgX4H6dYEAFJYJ3Y/k7gigQAyKwCN5aC6ehJwV6Zk7wINR+iYX4cVT8EOERVbT2KhQ/JYJxWg4IfD+HgA4yjWYUd7k1+cbU2BABCWT7cmMEP+EOEzhUavJWMHvljXFcAFGJP56TFO2B0ci4iZRX/2cBKQXaSk3opP74MDS6WKlSfFf94KiJJFXsrnjIABHWRVlpsd+sCAey2EjMov//d/39/tt4f/X7ftm3skR5nusFV98GBJe/0bI2U6R3wYAF07B40tpxP/0GGHzxRGPv9oYDBDBD5/TCP785Ma6f+Iu+W7dcOM+M17g/oaF4Iv8V4EbcbuQI9H/hf8REYaXa1Maj6hZf4lfAMvAAAAAyEGb4CaAUcEARgkggCJsBKumBvPxRJMwU54zlwCJln/KDUamTyLaCifvn+Mh+2gk/wHvlNBrx0BN+bR+lwBYQhw2RFrBwHn2CDNGB4Shivv+d4IoIAiTDyGk/kwEHy+23v++NzUF36ggCMEXz8h3ghggCJsYBBe+EeE3Eg046MgGMtgSJAPb8nmf3T/wTPDQl4yCVWbFEbZsZ+Ahn+9O+3tQOTJRo5VwFDs9RBZAdG+nQHq/ggCMEXJx8IJriPASeQ8xT/8T4Bl4AAABh0GaACKAUZ+CSBABCL8AAofndGREF7/gBjo2kxD8JQbkcCYUnLtvd3geBABCM4CQWpvwwjoUKH3znDyHkgsr26t1cj+YHOG2bb1AfgBkG6PJ/EAz81zSc/6/bCEubIZhaJ3D+rbZjVSqfr7AgApLGQwGGfgiCf//4CjyD2BABCEqQzGcfp/8RxKAKBPJAueQAMFZOZMyYMAG365Hkd07pbjA93WMVJX0wQhB2l+RtnRipS/wP8EAZEYyIiyPH6c/BDAgAxFYPZGmUQplSg+ICOfz9QIAKSxsQnwRQIAKS+CJoC9ZP+IN4AWmhyMZR3/tOICPACtPsoa+oFX6VF5nfQBYvIzcGDozJTGH/E4/ok/2+/76B9DAD/nCrkD/fS8TgO9EcAkT72zOn/NDz1w8BGLcmeEBPHZWY3//L5+CGCACSKgJ09jA2a/wkYGRSL5NfBBF7xsy2AgLfhLA7Acfw8R3Hf/vLcWdzzHpz8RTPL1wFUsxAeBIzrloWDFI47WY3+oP8ST4Bl4AAAFqQZogJoBjwIAIRfAIryTrxpTIhgffqADJ2yTBwpHiWYZ50bE2914HgQAQiekOBpAkSq3v/J3U3fF3MAqpxrQ8ip1+9sgS/jIT8EUCACE1JBB9TPx/KMEthxDQgBAAfOrM0xff9h4gKIJ8vW7IZ7yZp13/HY2L22F+BhgB93R5JLwAu/STaX8Atde2svdJjVSk4FZ6qdM//59Y1VS3f/vrK3RZH+pP2PEuKH4EAEMEWIE5fTl8dpP5/P8CACHPwQwIAIVS53z/zcAOd8Uf/wC+6VRnv/d4R8zAAWot+U1/4FtUttWJ9yV+AtoPe9Edupv/8NdUCahWABzgChNwAga+vPV7/CT/WAiXs5jF/ghgQAQ/Nw7fXrjMAD2bJkK80c7/voIh/2F2copv7xvv6x0ht17M7VuDZkZ+qGYVptNzpL73b9LRPg/+IpGKgOsVmRn6josojAPA6t7/KJv2/4I/8RHXxoLjYQf4BdIAAAERQZpAJoBjwQBEXwCj1zBPNEYFygaZYieZzw1+LAuRx2ND75YIAiWQ3liXXfdd/v26IEcEARF+HV2FxBfxUAk+rO8E84mBOoPAJHdM8AiRlrtDcBxr3Gw//HSr7+Z/gBR109L14Kybrm0fv5Au+v3L/25Ma+YWfe+n3ujGqV9v//Cd1iIiKPc/4a7E7wRYgEcdTGppp8/n6ggCMEUEARcx/895+oIQhwQBEIZvgQnX1MY/Og4x0RlCORyB/740h/PwQwQBE2ETg5Z3xkAt9M+g0etge/UZexnd/fgf0BACLV+QHXUB8S2pOx9/xRr0B1lwBeG7P4iX/uD/7wce5FDUj/30ax1ICdgMEfJAfeFM+AXWAAABZEGaYCaAY8CACEvABD196v4DC9fOl/TvBHBAEVSrBAERnAIltTC5FWRZmRwAZGvKa/8QByOMUmH22+7wMHuRQJIUcfDsDAmwWtVmXfH+4HZ8tbnv53gA7T6j0/uwF3058v/PNg1C3vHZytttibyiC8LNIKxe+8FaPKozEfutC9fO1MCsQYkQkZLPYxOgsrZL/cn/85savnh/gQAUln8MIlDBFAgAhFaJ5QwGZTJwnyBgMNyYWHokzn4IcSSdRycVxwHgaKdxwCOtbAwH26800jYEAFJZTM8pHMEPJhFw6D+J8E308zbh/BhYRcLwuK4AF/OLPqI//0NzEjGffSRBOFb/PAD+ha9M33L7/gU6St+j9a8ZAN5pmfQDfEjMDz0v9fvj9mWY9pDzoUQ394rztbMuFCqY//dATf/YBb3F5k3+dVbfZRb7gZOvIjcJB/BHySAYcmqsYXj/MOAm+NShgIC+AXWAAAABtEGagCaAY5+CSBABCL47KNHGagAC+VzYsr/yHHDiIUD3CkAAYJVRJZJ9/geBABCM4AQvzZIzgL/nIgw/eFAAifvpugyq2jUu1ErNm2X5IClEguOJKH9/D2ttt+B+AC5tL6PK3gUQGsZ09ornwOFblvXEf+93Y1KlSmBABCEKRaHMYZOMGqrKygpA/k+fgigQAQjvCBymBssKksP4K9M8Na/5+SBwJveQjy4f3A5tWttXX/7hYbqt+ZxZ241VVS//NgTPQG0s/Cb//4A52SPPf4IsS4dTTGkUzn8/n+BABSCvqGAzoDqZQwGnhE/i0+fghgQAUhPJ45cHgcBwl9oD96fO+f8QEeAC9cWfQnN//UM4HNI5RF+cAAdxY7JCO3/Qe4o0dwNfSRAEKeSAOeH4AMx3yvvcCzssSL1Jv/d4yAEQ/Jo2Z4Yw7I0u0GCuAbaHRzFCH7vA+XUrhggAwO+r5b3nhWZLBZj3WczzfCzb6DPENC/zvBDAgAhJ8Nq1/CdPrunak2DBYfT1eEfDs9Wjv4cchH/xEAJHSKlXIQufi60dkmq3seuDRj8C2+KJPYH+N/OkAucAAADWQZqgJoB1wQBEX4D2jBCA3+Bj1geKf4IAiM4EKrmS2wPeTBj+h8a6z3p/D98RsCo8Z4TyP1S/BAESxsHn4IoIAj/4jCMbZgbviMTX29R4InjALKGl4L3A//R/jP/4/MxIEAcau6gEJmPD/S3J+CHk3jZ4nfP5+oIAjBFBAEc/83ZATbYHWXhHh1A/zRwEg0nqAm3eH4S3//AO3oUbxOxAP92hfVbkwIvsyHYx0FP0z5eCKCAIknCWGkF8XJj1mZMSIuuf4i44BHpAfegVc8189odGfwC6QAAAAbZBmsAmgHXBAERfAJBtTTSC29JZuOODSkgAlA5VxzJ26Cx/+zyg8CACEIeEvBhtjYSqTFTuY/n8eYnAlizGNBpD/1wN6GCDI/RnPwRQIAIRfjtB2Vb0/BAER/KPBxCmQAemHKgkVrXVmD6wGFyNJJH9cgKyMy5OLMj/Q/HYt228cDDADicUOsn/GAF2yuHUX1BQ3m2Qhz+c2NS8bXN7Jka2TGI//x90GOqUgHpLw5C8vueGIk2EXuu+P4EAFMEXE6JJiDtaZSKZB2tMn8/n+BABC4RMTjyyn4IYEAFJo0JHGLiY53z/BCEBfmjgAfTELU2rVau47k8b9YIAiEY2J3w7CYgBXljjQojvIJkStbavA/AkataUleKrCcLQTAdhZ5RvaQ/9/mwrCb//wBg//x/f4IYEAEPwhxlC34fyywQtlavBAETeGpbD4yABEBfELK/Zl09LBS3RefO02nZbvsCKaRCzyDvP+Dwcv6txeBA5dElVVJ/t4MIZ5KY//t6gvanRLqYP+BBBAIkDwAeNXvTq8AMVxEnm1mw9TiHYqp8Rv/sH8EfJx+V/EVIABKpXjWp1/ieAU+AAAAFDQZrgIoB1wIAIRfACWv2LK99BLVsrKYEgD2yZiiy9j+f2MXBneCOBABCa7X4zhpPUAIZOWwpFP9ABXX6mv4C36SzT26Pu///QeNAE85xQPnxBNtLlmjf8DAFWVmv/yDAv5c98DBnx2Pr/x4H4BVTyNwASojo2KDsf/vA4yDzIQfL5eGJz/Rb/3Hitf4EAEImQIBhEwVHjAKl9Z+CGBADJtDjqYJzZA3DcmJ3ghwjJzcAd7iMB+kIynN+7gQAQiYYkxu+GZPACtxfsX96E/+LQgM/BDwn4dRPjcYCCxLisiIAT0zRHZ4FaK+jZkwIunMtpjtsu01+iFL93jEqbm3S8ZASlyMD3CSNGYHqD/8Aj18OA96p7Jv85qM+0C2qbZJ/OnzyUlyDb7JG5MH/3MAAipUmdQWvfFJOrwReuIz2uOSv4BUIAAAEaQZsAIoB1wQBEvCVhtwDfcUeCWCAIjOCVWbDALaqzPe4Eqs2GI2ZtU3OeIRGVwLLAweyOR2McZ5q/xnwgwK2hmqCPIDvNoEA+Oz35Hg6OpPOnJ/3mD//EzCH8WmjvsYDnfpAfQ4P+CAMljw3ZF+BXZgiggCIrd51EvkggCIQ6BTtmlmrMGAwRQQBkkdQfne4IAiK8Py6HBE2yeAytu5f+/BAES0+QQmCGCAI8EARLDTk8PoIRQQBEI8Ad5pMD9pQM8D36oARh0Oakfx+Ovf/PBisdnsw4UhxregPKbxkCXWB1SO1NjRl/5oAvmA+OBJs4D3lNMxD/v8Aj/Owo3NAf+MPHvDr/KktB/BHBAESQ+hpK8fle+kROsAqMAAABiEGbICKAdZ+CSBABCL6RRggAc8k3XlD3A6c3iJu7/7OWAEc0knwPAgAhGcAAvJfeSG/WB41tJMb/xwAO1uu3bBHp05x7f9/f3vZryzBvpFhycJ/7y/v72++D8AjBixsHD9LwNJVWVDXHKM//eGAHPIQff0gQPAgApcM7t+9Xnh5+CKBABCO6YwP4owSjHh7vPrUx+SAHOvD2/YvUf+8Bs7aK28m/X/7tAJshAf0JAg/8SSE6wpX4Tf/4YUX4IsSJqUxoVNbWPP5/EfAgApE06Ko3hfHwcBvDAZ+CGBABSE4Zda6GQQHCBQITnfgQAQm8AMj4Q8FNX3rxngTfvu2VCH2seRzf0h2lRmBO5AAtc4d0Sl/8SdIrPG32Ppuw74YfgJjfBgWxKZsSe3eOgB2+FFpdYAs3zk5pBwSAeg6IIDvdAY7nSkAER+U3L7Q7jaRUK/wn9+kd/RRPaBz8EMCACH4TvHwAI5UPlb4fT1LiIGxsctd05Rf8Dpq2Nl/2cX29++RRHbB/AKhAAAABRUGbQCaAIfAgAhF8IPEGixRhw9AHvVXpvdPfH7cDwIAIRPAHHlzugFR7rmpj+2zQsA9NhUS533ZguzahFhSP/ep3gigQAQmgSPaXW+2UXQ/EdIdAIwAd1OmRH7uv/Edwqcxzlff+DA8MvueYWNez/qnmG4alsJiwO8v9xG9GRwwGf4EAEOfgh4qkSJqUzoVM6LP5/P0d4IYEAEOE3/+Ah9zb/n/mwRNnWwAfu5Wj7UeU7rxnjg6cAx6PJuP/0gGzenNav+AfvpnVtA/meP8OlBFyUpEGf+uFGIGYUkVFW6kvsCACET2xqHZTz6utWHE/T1eCKBABCE/eBq2CEHwIBgLCJwHLxfSIaF8OT/Hx2AoBFIe35y2WHwA4lWeF9Pu46mPG9EcBYoyWy/xEAgfvDO+dVhSi80IfjagAQ/gk5IR4By/gEsgAAAFSQZtgJoAh8EARF8APevk0fcgsa1Jm/k4BHqwP9xHR6ngd+V/f3/t4PBAEQh42JYO3r8yJe+tycIoBVSAc+cA+bII4IAiL8NJMHAACG14f8f0AhkqgBj31r6wOnJUk1V/1sGimW15Uq+kNV68MH1Tbv79f8dT7p/gwYBQS2R2CXgGsmhv1BB0gNQl7Q+kB/QkH/wnBdXvlE7+8/8bE78EARgixAn5cjKYoBJYn8/n+CAIhOwHjBjHpWCKCAIhPSCmXGXlCAOfz/BCEBfgAYR4imP5O70Perf99qEA4IAiEbwvJjQAd25Rh+ycjtjM3h4UEj5sif3q7FpB0H7HpAN5ZdmU7wQwQBGoIAj8ZAE+NoXj6Fq3tPeDiRrF486s0jceDte+fht2jep4YP17d/1/x5pUdgf/EQSPYA7TZGBRuykB4PM+qg4M/4I/9w6hstAXAJZAAAAFXQZuAIoAh8CACEXwArn+Ua+hV1PA78WQLyeT2ZCXvswIDO8EcCACH4zgARH5Kb0nRnFaTxvjABXPso19QW8pTNN7j+iefg7jIxLZ6nVZkQb+feBKiU2ovM/38GANWLMQGvpBhH+WnLB+Ot9/NK/+ARDLMg7HpGwARdYpZ+zTe3ZRf/PKDvIgH6Qf8CACETw/Eh40IFcEAZ+CGBADJsOSX1aAmJFS7DCVg95WJ3ghwjJxfgQehfzw876RmvcaktgT5uBABCJmEDJDJwBcjhzyfsz/9Y/xcgEXCEMus/HQQHwBwSvm7Y2K4rACK9fWe+sAEuuNoTv5dirSrz2//QG16GkUhXJnstG88ChtVtt/njIft0jOycpVMzfqD/wCNU+Hg2NvI3jhldX3cKpTGwHgUfOUg4HH9KTiAf/cSA9DwQfHnSDO2okn+14IuThpCA/3aY2g+hTACWwAAADRBm6AmgCH83GyjoYJOCjZDYVcdGF9KvLGplz+BO5MfELwR9zbtvk46IK8MIJe8wIApYBLIAAACKkGbwCKAIdEeGBIvALOSZsABdeAQcuXFKG//84J1wh5JCUVRRI//gk3ap6uefkiIHLBJhEX4BvzKTUJeDpCwYX4gSM4A1Um0/AOKcKheqK1h73wADxCrp3KsNXEEi1/7AFQAAgA5gCg2hSEAsQKah7/vIiIhnHqoEqkV2wxzdFAaWwYIZXwrldj3/yR5qDaGAAjAASQBz8IIvSuAlsQADm1Ii1KP6lld+9VCIQbowpxDmYiOh6GwVpjVYXHeCCvwwYNsPI0aOL6j3/WiraRs54OjbTxv7oGZlzE59togJBmcipTD1k9+DD4QECfzvSQ+Y/AGzVudgIsIisAIu+to5/coiKFTPxLi98Myf/EL8/4gfttzo99tfSXkfRa/Dw+kxAj6yYfsSAmhkIC/ADpMMxBf6vIACTMiDEUneJNGcXAxWMj+ZHMvvrUhlFp7y2vN2sIhAIQBDDVIpkrfbuuA/LEinjZvk9o0rl35OMWibJnC6P+B8Al66O88EkMxXgAICUCNL/NE0Qe1VIR0KIVWGQX3ffX/DARGQALQAdojYGRZgRwY/zL3sskO5/r+CB+H4ASZ6Ejqw+AkDbjBFY0iTJ66Kd+ATJhnMGVXi0VkkfCAm0WvyYmBiS2z+MUBCJHPLPbS699g64O3bZYP+EQgIjWiMeAlmD9doje1T99/vN8Nsaqf8EfFcdIQQrAsL8Ylhlj0fhEdxVz4RU/8klufUJ8Nhe/3/fn/AJZAAAACfEGb4HoAh0GARN4BI/WH+2WDASWBLrQqvn9PNQK0CSCAGJvAAsUcfvjDSiBq2VhmM4AD+iTG/QyO6NAwvGWR8WEwIsFOwACAdkAQjwW3KE0CBYb4wBUAwqjTVcN5Da0v2/FsfpVK7v8H4MGVYdCIn/FOZpeEgWfiqSkUkjVRN3tIw3YRWJLW5zQwALARfS9AIyS0njP/NAAIJYbtG0ZCV3m7/s/x/1WEBIzwkiCti5qYzf5/NrA260C5bawkLlds/eDbikzA/xeOJdhC7DKlkZhyF++vPH/xjUDlwOIkkyTE462EJZla0j75efGkE/vECKEZsCFupjgGIPrMSCkdwJb0BsXgCJsWsOBMYMk2AhUjlSqjb13+K3UJEcY8PwiI6MNqYdBVz5IUR/72gTOOrdRSvOPT33/xUIjDIjimEOYDDqCESP5KMRkBwflVeJt55kfWn9r/AEdOkaCP4RCBengj2B8xglwgL8AC2kEcF2MDFir7nAQPC9oAOAICVQanRVWUBjqPgt4CCVdkU0mNP8Ql/4PEhAZwBW7WW8AA6FOUEebEZQ4n/vu0KQ06iehPvv26YGxLwYegXAZdtFXQTxFQz2PPgGtIYkbC6Tskf5kog+w4k338lfj7RRB9wGCQ/wzGQAFdJY36GR3TQi4dlI2CkiVE++yoj9McaP/vwc/d/9MYWr7b4BOrb0SbXAAMPdgxSfkIhf+b0Rf+8AD2psxWFYZG+ALDiRzZPwpTYMfU8NfouhJOMgvQRB8MCXAEBsfBEXrJ0lphpzVRJCwPwR82GUNC+EQQhHgj3gwZiRQAGBJgBoPYr8CAlFMDC8VxmP6f/BCJel3zh/AJXAAAAqVBmgB6AIdBgGTcEeYvMiWyneCSEAQm8AA9Noj1LrCEKYAC0baEyOLqFJQ+CPillCXKnD1l//2ssGk/LgKhsjc2u7kd1eGwx0EiA6qjijCR2Cn/8AAQAbhXA6M1uTXDcP9R8WI7SAibDHKMDuOEmgPAUdAwpCWXePu35AQ/AAWAIRomElYQ8QeVN7/g0oYIILocL1hcZtDBZEBsQYYhvlk/mBhCCAVuIf3LahTJj5OHEl1t262Ihr8eCI/4RHeAT1bQGDjV6Bj/08RrGe+D7Be2biEHB60FCtRC7v+gW7uALmM0mSr5h3BvfjdHwMusnGUpZhESOhgAIGIy2p7ttRVkiVAVzEIhIn7Sio/cYaJnpKeGQX/94MOW8L3PqdYuQEFTYMOAkrzDj1+R0+IkPLMMPErwgCAfwLMup9vzRGW3+AOM6GaS4xB/EggCHQWkQuvvUIG8dM2uY4vgMIHytSr63ghCeAIU00mg6v4BV5AtHxc7CTfxMJ6IIlpgw/ATF6Ue9wQhEI+ABqH4YEUeH7IFH9uABXSWz0SNkIGPADOBX30nCKrLOwN//tAAD4yAqNEcicOvTr7g8IhgZAAQHEYRXml+r0CFCejAAtjmAjbwvRKW/fES2aSMxqofVp4i5h+WxBrLhoOc2FAB20Rh4Eo0Gn78W4mM2gwACnwupHj4/4ACwIOThWVCwb0SXMf24QgihFpLYvvnypP/tDKdS3RAMgY05+wYcEsMiBnQdhiCvlhDTICNIyYnimVyLf1+9tjv9FVrIh6ovJJJ4Q4qKROyvjk6HAKC0R7FbkjBbH2P9AdlKxikwfuBIRB6JprpKgU6v9wfX/ttmzbBgkgpEi4A/X8x8FlMYL2Sf+GAcjvVkAY6mkx/+sYIihS/54VRsMX1f8AlcAAAAj1BmiAigCHBP//4AyN3YPeCWICJvAla47CARGYArs0QwN5oAM2+v32DAbL8YhBNWJe+H9PWCjTKKw033hYyFP3wGBgYlXfI1/t4q/8Hpni9GQQdBghb28FaZsgs5U0DiY0ZSM4dQEpe48ogR3+/B8IhOm9m+ck1GAl9My2bjk2dziE9GRll5fHaKVG8WsAR4kI4GgJ2Dv67MFd0Xf98AH0NWM47I+L4V2BgEbJtR8gxp2PGXulmO8jmPBPczAGUlCBOJqSIzMP8wf+OhgAVSM0WxJXO3eobCxFqjXKJJf/cZu+FjBoKOK/BhwFGBCED7PsxgJSZVFv6/v7972D+IXxAj4RMy4i9AN78AvAh8ZpjhgIcl5MID3qTnlfb6ghAAOaEdcp9AM4ay1/qKMAgy1vSQz35/AmfwIkCEJ//+CFoPfEhkTGCvIdj+FYx/4CYtko98/n/EivAAeYNBoXNffcUX8AEbuU+9ak1OE5TJt8AogAqlXLA6LbseojEHiQgM2ABcDn31ii3dC57rvmTtOaZp/8X7NsfV1D0AGdVAsS9T+Hs//1KXv0QQnYAuwABAACHXNiXyNZeGv+DDABRusS1ioewABMiDKqCEc81JBjbBGGciUyixa7nqkqJSEiJgw4JYRCAJ+lgfsYdMSRk+/cAgKQ2XkzT35wBN/qx368PzyFTgb9QAObtCOG6p/i2Zx5LxN6HIaKTmev/bDAQDNuYfOc4O8EsSER3gJHk15xMaHRX/AP31jUHtd4BK4AAAAKUQZpAegCHH4JYQDJs0oAJsUOwtItzX5sEAIRk0gCP3X/2gGiSxjzSfzlfgfqnAEliqmwAUhITyHvijSY4I/rHnAMrLBCvO+BgJkN/iGQoX2MT+S1GTYuiqq5o8f4b0M4X400kPEBEIc6weZzh1qZSwtL8JeyM343zW+AMwNNDFV3vLQtLPBIRdiX/zAjiQiEcBWwIDRDwFvpFLVBwb+4DoplWgOWYVdEX/vOEDkbAAvICHfM4rmFi3P/QeyIy0Uw8+DkEfAETRkQZOoyVLT46/3/WZccFi644HBzTIZef/g+GQADAYqYlBgeZSdCH/7GAZwXM3hxw8CRU33eHAAbRmaE2U6kI+jHbfUcpEN/9/4cARi3cLFb+l1aboQhxK+GCQErXPy5l/8SCgZBgkODPuBrHE5qmPEOv7KdbmQACI85cBIOLms0voYLFTClTcCOt7/1kM9QYtHFqWbfg6BmF1CeQYs2+07Q7bBigHgh3wpGYzywsh+bBIiDwIT/BSEB3MJeS+QrMZMXEAgcRB4mdWJm7X/Aau8TLVEQDmlJR7hl7tmHadzu99/1CIRFeABbDS6hhBt+DA0vIEoYxbamjTBSaxf/cAA/kSwyuQTFrQ4RAcHm10cD6HQk+/sRBTAyIBGTNDENXTdI3/vDQXEQBgzt4M2ZR+/ES+PGp6MwMcmLXcOMGOffgQH4AHjCOiFh6rkFnBNr++oGXwwZTz/IMfpBgEyigENYe1ACI1fFngiwg4A1tkYo8H9hRQAEmk00002n4fLkMjjJjymkuh/+EBAnwmIShOnNPEj4dRCP7zNmN1KVx3+00lvdgACAGHgxDKwMFSbyUfBlV3glg5EAszDcCX268JHgJxB4GyFTaS5UdAErgAAACWUGaYHoAmfNgEp0QQUcgCIVJXRDjTwR9dyT+CAEIuU0UTi8uzUAdLAVGXQ+Kz3PU0NmHVaTGlFvAcG0UGXiiBFCBgxIucyFFACIilzr03r/H5oKD/cy8yPD0GkOXQib/hAXCYZyfnj5CSWQewfpmoA6rgoV+eL6ggiywJjEtOxXy2CLivEDAs4UCg5ZBjyY8gWCYlsbBS1t/3AA8LUFLCCEGz5QtReQIJ04cUYAIzRXKgQ5Ioz14Mk1ab7s7/hP8AhpCI//AhKBGBGsw8tzqAAEBABqkN++8NADSEilDvL3//wo2YGc5W/nvCo+GgZaQKqvf+8FAzwBgAIbBDv/mj10McoUEavwG60DhrfvngiJM9+83A7Ew2AY63MqmfpAsmv/41VEo+liBXBM9+iN/UGCMAH+ApAUvHoQbOeBjAUkKAMN3Hy5K4ZVAYwGulOAhzCDR7/4MEWCkI8kfyNG7gBwU/78GOrHaxicBkH64QVKXXEakf6gIzNqPR9gYTAhAQyANWBGInwYuABx/ISFFlCkrYlIkQsjI+1SGAhy0xIld7V/waCf//gDVmmue/hEFAyBwQypmkYskW239eDbcQW+MRzwSgQaPLCx+nLB8/v3AIC9jkrHHKIXvf4OzkTHiKsQf/gSEUPhyZQabAg8d+XZP7hCqaXiNPc+oOSCvEo9fXO+82tpmCKCGM64CcrNBeILQdpKX85mZ3R9/AM2ojGnGf4MQUDv8CXu3URoIyccjXbkrdpdRA+FI6XQJeKwn7VQGEdRk7kaX+DEMPQGEfJKez+eyGQYBKoAAAAXibW9vdgAAAGxtdmhkAAAAAAAAAAAAAAAAAAAD6AAAF3AAAQAAAQAAAAAAAAAAAAAAAAEAAAAAAAAAAAAAAAAAAAABAAAAAAAAAAAAAAAAAABAAAAAAAAAAAAAAAAAAAAAAAAAAAAAAAAAAAAAAAAAAgAABQ10cmFrAAAAXHRraGQAAAADAAAAAAAAAAAAAAABAAAAAAAAF3AAAAAAAAAAAAAAAAAAAAAAAAEAAAAAAAAAAAAAAAAAAAABAAAAAAAAAAAAAAAAAABAAAAAAlgAAAE0AAAAAAAkZWR0cwAAABxlbHN0AAAAAAAAAAEAABdwAAAAAAABAAAAAASFbWRpYQAAACBtZGhkAAAAAAAAAAAAAAAAAAA8AAABaABVxAAAAAAALWhkbHIAAAAAAAAAAHZpZGUAAAAAAAAAAAAAAABWaWRlb0hhbmRsZXIAAAAEMG1pbmYAAAAUdm1oZAAAAAEAAAAAAAAAAAAAACRkaW5mAAAAHGRyZWYAAAAAAAAAAQAAAAx1cmwgAAAAAQAAA/BzdGJsAAAAqHN0c2QAAAAAAAAAAQAAAJhhdmMxAAAAAAAAAAEAAAAAAAAAAAAAAAAAAAAAAlgBNABIAAAASAAAAAAAAAABFUxhdmM2MS4xOS4xMDAgbGlieDI2NAAAAAAAAAAAAAAAGP//AAAALmF2Y0MBQsAe/+EAF2dCwB7aAmCnlnhAAAADAEAAAA8DxYuoAQAEaM4PyAAAABRidHJ0AAAAAAABpXoAAaV6AAAAGHN0dHMAAAAAAAAAAQAAALQAAAIAAAAAFHN0c3MAAAAAAAAAAQAAAAEAAAAcc3RzYwAAAAAAAAABAAAAAQAAALQAAAABAAAC5HN0c3oAAAAAAAAAAAAAALQAAAsxAAABPgAAAgEAAAISAAACQgAAAqMAAAHnAAABnQAAAagAAAGwAAABygAAAc8AAAHNAAABowAAAbIAAAGSAAABSAAAAS8AAAHpAAABIQAAAS0AAAHwAAAA2QAAARQAAAIGAAAA8AAAASQAAAHvAAABXwAAAYUAAAHmAAABswAAAesAAAHAAAABvQAAAccAAAIeAAABvAAAAegAAAHbAAACHgAAAfYAAAHPAAACAAAAAeYAAAF0AAAB5gAAAggAAAHSAAAB5gAAAdIAAAGyAAABqwAAAYsAAAGEAAABggAAAXgAAAGQAAABxAAAAc0AAAF3AAABhQAAAZAAAAGdAAABfgAAAYcAAAGRAAABeAAAAV4AAAGtAAABmQAAAWkAAAIXAAABdQAAAVsAAAFVAAABkwAAAXUAAAGCAAAAQgAAAqYAAAJnAAACrwAAApkAAAIzAAACTAAAAiwAAAH9AAACbQAAApQAAAIuAAACuQAAAo4AAAHqAAACYgAAAbAAAAIGAAACBgAAAXoAAAG8AAABbwAAAXgAAAG/AAABjAAAAaoAAAHMAAABnQAAAegAAAGTAAABowAAAdoAAAG7AAABoAAAAcgAAAG1AAABtQAAAccAAAFsAAAB5QAAAcoAAAF/AAABzgAAAZQAAAGaAAABlQAAATkAAAGtAAAA+wAAATAAAAGRAAABxwAAAekAAAHeAAACDgAAAgsAAAHQAAAB1QAAAcEAAAGSAAABwAAAAhkAAAGXAAACIwAAAfEAAAHtAAABuwAAAa0AAAGmAAABogAAAbAAAAEoAAABsgAAAVMAAAEOAAABggAAAVIAAAE3AAABXAAAAcgAAADMAAABiwAAAW4AAAEVAAABaAAAAbgAAADaAAABugAAAUcAAAEeAAABjAAAAUkAAAFWAAABWwAAADgAAAIuAAACgAAAAqkAAAJBAAACmAAAAl0AAAAUc3RjbwAAAAAAAAABAAAAMAAAAGF1ZHRhAAAAWW1ldGEAAAAAAAAAIWhkbHIAAAAAAAAAAG1kaXJhcHBsAAAAAAAAAAAAAAAALGlsc3QAAAAkqXRvbwAAABxkYXRhAAAAAQAAAABMYXZmNjEuNy4xMDA=' controls>Sorry, seems like your browser doesn't support HTML5 audio/video</video></div>"
      ],
      "text/plain": [
       "<moviepy.video.io.display_in_notebook.HTML2 object>"
      ]
     },
     "execution_count": 59,
     "metadata": {},
     "output_type": "execute_result"
    }
   ],
   "source": [
    "from navground.sim.ui.video import display_video_from_run\n",
    "\n",
    "display_video_from_run(run, factor=5)"
   ]
  },
  {
   "cell_type": "markdown",
   "id": "ed17c031-0557-4b45-9024-45603c47e044",
   "metadata": {},
   "source": [
    "Let's go back to the live visualization in the notebook which uses websockets, javascript, and SVG."
   ]
  },
  {
   "cell_type": "code",
   "execution_count": 60,
   "id": "3ebee97f",
   "metadata": {
    "tags": []
   },
   "outputs": [
    {
     "data": {
      "text/plain": [
       "True"
      ]
     },
     "execution_count": 60,
     "metadata": {},
     "output_type": "execute_result"
    }
   ],
   "source": [
    "from navground.sim.ui import WebUI\n",
    "from navground.sim.notebook import notebook_view\n",
    "from navground.sim.real_time import RealTimeSimulation\n",
    "\n",
    "web_ui = WebUI(host='127.0.0.1', max_rate=-1)\n",
    "await web_ui.prepare()"
   ]
  },
  {
   "cell_type": "code",
   "execution_count": 61,
   "id": "168d6344",
   "metadata": {
    "scrolled": true,
    "tags": []
   },
   "outputs": [
    {
     "data": {
      "text/html": [
       "<!DOCTYPE html>\n",
       "\n",
       "<html>\n",
       "<head>\n",
       "  <!--  -->\n",
       "  <title></title>\n",
       "  \n",
       "  \n",
       "  \n",
       "  <script type='text/javascript'>\n",
       "    var NS = \"http://www.w3.org/2000/svg\";\n",
       "\n",
       "class WebUIClient {\n",
       "  constructor(port='8000', prefix='', display_shape=false) {\n",
       "    this.agents = new Set();\n",
       "    this.entity = {};\n",
       "    this.prefix = prefix;\n",
       "    this.port = port;\n",
       "    this.display_shape = display_shape;\n",
       "    this.prototypes = {\n",
       "      '': `${prefix}agent`, \n",
       "      'thymio': `${prefix}thymio`, \n",
       "      'wheelchair': `${prefix}wheelchair`, \n",
       "      'human': `${prefix}human`\n",
       "    };\n",
       "  }\n",
       "\n",
       "  connect() {\n",
       "    var client = this;\n",
       "    var ws_address = `ws://127.0.0.1:${this.port}/`\n",
       "    console.log(`[${this.prefix}] Try to connect to ${ws_address}`)\n",
       "    var ws = new WebSocket(ws_address);\n",
       "    ws.onopen = function(event) {\n",
       "      console.log(`[${client.prefix}] Opened Web socket ${ws_address}`)\n",
       "      client.ws = ws;\n",
       "    };\n",
       "    \n",
       "    ws.onmessage = function(event) {\n",
       "      var [type, data] = JSON.parse(event.data)\n",
       "      switch (type) {\n",
       "        case 'm':\n",
       "          client.move(data)\n",
       "          break;\n",
       "        case 'r':\n",
       "          client.reset(data)\n",
       "          break;\n",
       "        case 's':\n",
       "          client.set(data)\n",
       "          break;\n",
       "        case 'v':\n",
       "          client.view(data)\n",
       "          break;\n",
       "        case '+':\n",
       "          client.add(data)\n",
       "          break;\n",
       "        default:\n",
       "          break\n",
       "      }\n",
       "    }\n",
       "  \n",
       "    ws.onclose = function(e) {\n",
       "      console.log('Socket is closed. Reconnect will be attempted in 1 second.', e.reason);\n",
       "      client.ws = null;\n",
       "      setTimeout(function(){client.connect();}, 1000);\n",
       "    };\n",
       "  \n",
       "    ws.onerror = function(err) {\n",
       "      console.log('Socket encountered error ... closing socket');\n",
       "      ws.close();\n",
       "    };\n",
       "  }\n",
       "\n",
       "  add_wall(id, points) {\n",
       "    var e = document.createElementNS(NS,\"polyline\");\n",
       "    var ps = []\n",
       "    for (var i in points) {\n",
       "       ps.push(`${points[i][0]},${points[i][1]}`)\n",
       "    } \n",
       "    e.setAttribute(\"points\", ps.join())\n",
       "    e.setAttribute(\"class\", \"wall\");\n",
       "    e.setAttribute(\"id\", id);\n",
       "    return e\n",
       "  }\n",
       "  \n",
       "  add_obstacle(id, point, radius) {\n",
       "    var e = document.createElementNS(NS,\"circle\");\n",
       "    e.setAttribute(\"cx\", `${point[0]}`)\n",
       "    e.setAttribute(\"cy\", `${point[1]}`)\n",
       "    e.setAttribute(\"r\", `${radius}`)\n",
       "    e.setAttribute(\"class\", \"obstacle\");\n",
       "    e.setAttribute(\"id\", id);\n",
       "    return e\n",
       "  }\n",
       "  \n",
       "  add_agent(id, type, size, color) \n",
       "  {\n",
       "    var g = document.createElementNS(NS,\"g\");\n",
       "    var agent = document.createElementNS(NS,\"use\");\n",
       "    var uid = this.prototypes[type] || `${this.prefix}agent`;\n",
       "    agent.setAttributeNS(\"http://www.w3.org/1999/xlink\", \"xlink:href\", \"#\" + uid);\n",
       "    agent.setAttribute(\"transform\", `scale(${size}, ${size})`)\n",
       "    g.appendChild(agent)\n",
       "    g.setAttribute(\"class\", type);\n",
       "    g.setAttribute(\"id\", id);\n",
       "    if (color) {\n",
       "      g.setAttribute(\"style\", `fill: ${color}`);\n",
       "    }\n",
       "    if (this.display_shape) {\n",
       "      var shape = document.createElementNS(NS,\"circle\");\n",
       "      shape.setAttribute(\"r\", size);\n",
       "      shape.setAttribute(\"class\", \"shape\");\n",
       "      g.appendChild(shape);\n",
       "    }\n",
       "    return g;\n",
       "  };\n",
       "  \n",
       "  add_entity(uid, data) {\n",
       "    var id = this.prefix + uid\n",
       "    if (id in this.entity) {\n",
       "      console.warn(`Entity ${id} already present`)\n",
       "      return;\n",
       "    }\n",
       "    var kind = data['kind'];\n",
       "    var svg_world = document.getElementById(this.prefix + \"world\");\n",
       "    if (!svg_world) return;\n",
       "    var e = document.getElementById(id);\n",
       "    if (e) {\n",
       "      svg_world.removeChild(e);\n",
       "      e = null;\n",
       "    }\n",
       "    var state = null;\n",
       "    switch (kind) {\n",
       "      case 'w':\n",
       "        e = this.add_wall(id, data['points']);\n",
       "        break;\n",
       "      case 'o':\n",
       "        e = this.add_obstacle(id, data['point'], data['radius']);\n",
       "        break;\n",
       "      case 'a':\n",
       "        e = this.add_agent(id, data['type'], data['size'], data['color']);\n",
       "        state = data['pose']\n",
       "        var [x, y, theta] = state;\n",
       "        this.move_element(e, x, y, theta);\n",
       "        this.agents.add(id);\n",
       "        break;\n",
       "      default:\n",
       "        break\n",
       "    }\n",
       "    if (e) {\n",
       "      svg_world.appendChild(e);\n",
       "      this.entity[id] = {'svg': e, 'updated': true, 'state': state};\n",
       "    }\n",
       "  };\n",
       "  \n",
       "  add(data) {\n",
       "    for (var _id in data) {\n",
       "      this.add_entity(_id, data[_id])\n",
       "    }\n",
       "    window.requestAnimationFrame(this.update.bind(this));\n",
       "  };\n",
       "  \n",
       "  set_entity(_id, data) {\n",
       "    if(!(_id in this.entity)) {\n",
       "      console.warn(`Entity ${_id} unknown`)\n",
       "      return;\n",
       "    }\n",
       "    for (var a in data) {\n",
       "      this.entity[_id]['svg'].setAttribute(a, data[a])\n",
       "    }\n",
       "  };\n",
       "  \n",
       "  set(data) {\n",
       "    for (var _id in data) {\n",
       "      var _nid = this.prefix + _id\n",
       "      if (_nid in this.entity) {\n",
       "        this.set_entity(_nid, data[_id])\n",
       "      } else {\n",
       "        var e = document.getElementById(_nid);\n",
       "        if (e) {\n",
       "          var e_data = data[_id];\n",
       "          for (var a in e_data) {\n",
       "            console.log(`Setting attributes ${a} of ${e} to ${e_data[a]}`)\n",
       "            e.setAttribute(a, e_data[a]);\n",
       "          }\n",
       "        }\n",
       "      }\n",
       "    }\n",
       "    window.requestAnimationFrame(this.update.bind(this));\n",
       "  };\n",
       "  \n",
       "  move_entity(_id, data) {\n",
       "    if(!this.agents.has(_id)) {\n",
       "      console.warn(`Agent ${_id} unknown`)\n",
       "      return;\n",
       "    }\n",
       "    var [x, y, theta] = data;\n",
       "    this.entity[_id]['state'] = [x, y, theta]\n",
       "    this.entity[_id]['updated'] = true\n",
       "  };\n",
       "  \n",
       "  move(data) {\n",
       "    for (var _id in data) {\n",
       "      this.move_entity(this.prefix + _id, data[_id])\n",
       "    }\n",
       "    window.requestAnimationFrame(this.update.bind(this));\n",
       "  };\n",
       "  \n",
       "  reset() {\n",
       "    var svg_world = document.getElementById(this.prefix + \"world\");\n",
       "    if (!svg_world) return;\n",
       "    for (var _id in this.entity) {\n",
       "      svg_world.removeChild(this.entity[_id]['svg'])\n",
       "    }\n",
       "    console.log(`[${this.prefix}] reset`)\n",
       "    this.entity = {}\n",
       "    this.agents.clear()\n",
       "    window.requestAnimationFrame(this.update.bind(this));\n",
       "  };\n",
       "  \n",
       "  view(data) {\n",
       "    var [x, y, width, height] = data;\n",
       "    var svg = document.getElementById(this.prefix + \"svg\");\n",
       "    if (!svg) return;\n",
       "    svg.setAttribute(\"viewBox\", `${x} ${y} ${width} ${height}`)\n",
       "    window.requestAnimationFrame(this.update.bind(this));\n",
       "  };\n",
       "  \n",
       "  update(step) {\n",
       "    var ids_to_be_removed = []\n",
       "    for (var id of this.agents) {\n",
       "      // if (!entity[id]['updated']) {\n",
       "      //   ids_to_be_removed.push(id)\n",
       "      // }\n",
       "      if (this.entity[id]['updated']) {\n",
       "        var [x, y, theta] = this.entity[id]['state']\n",
       "        this.move_element(this.entity[id]['svg'], x, y, theta)\n",
       "        this.entity[id]['updated'] = false;\n",
       "      }\n",
       "    }\n",
       "    // for (var _id of ids_to_be_removed) {\n",
       "    //   remove_entity(_id);\n",
       "    // }  \n",
       "  };\n",
       "  \n",
       "  remove_entity(_id) {\n",
       "      var svg_world = document.getElementById(this.prefix + \"world\");\n",
       "      if (!svg_world) return;\n",
       "      console.log(`remove ${_id}`)\n",
       "      svg_world.removeChild(this.entity[_id]['svg'])\n",
       "      this.agents.delete(_id);\n",
       "      delete this.entity[_id];\n",
       "  }\n",
       "  \n",
       "  move_element(g, x, y, angle) {\n",
       "    var t = `translate(${x},${y}) rotate(${angle * 180 / 3.14159})`\n",
       "    g.setAttribute(\"transform\", t)\n",
       "  };\n",
       "}\n",
       "\n",
       "  </script>\n",
       "  \n",
       "  <script type='text/javascript'>\n",
       "    var N0client = new WebUIClient(8000, \"N0\", false)\n",
       "    N0client.connect();\n",
       "  </script>\n",
       "  \n",
       "  \n",
       "</head>\n",
       "<body>\n",
       "  <div>\n",
       "    <h1></h1>\n",
       "  </div>\n",
       "  \n",
       "<svg id=\"N0svg\" xmlns=\"http://www.w3.org/2000/svg\" xmlns:xlink=\"http://www.w3.org/1999/xlink\" version=\"1.1\" width=\"300\" height=\"300\" viewBox=\"0.0000 0.0000 1.0000 1.0000\">\n",
       "<defs>\n",
       "  <g id=\"N0agent\">\n",
       "   <circle class=\"body\" cx=\"0\" cy=\"0\" r=\"1\"/>\n",
       "   <circle opacity=\"0.5\" stroke=\"none\" fill=\"black\" cx=\"0.75\" cy=\"0\" r=\"0.25\"/>\n",
       "  </g>\n",
       "  <g id=\"N0robomaster_ep\">\n",
       "    <path class=\"body\" d=\"m -0.82233223,0.24 c -0.0391148,-0.15514519 -0.0391148,-0.32485481 0,-0.48 0.0120317,-0.0477227 0.07,-0.13 0.07,-0.13 h 0.45 l 0.09,-0.11 h 0.42 l 0.09,0.11 h 0.45 c 0,0 0.16467536,0.14929718 0.2,0.25 0.0264806,0.07549027 0.0264806,0.16450973 0,0.24 -0.0353246,0.10070282 -0.2,0.25 -0.2,0.25 h -0.45 l -0.09,0.11 h -0.42 l -0.09,-0.11 h -0.45 c 0,0 -0.0579683,-0.0822773 -0.07,-0.13 z\"/>\n",
       "    <rect class=\"wheel\" height=\"0.22774614\" rx=\"0.073571824\" ry=\"0.073361315\" style=\"fill:#121212;fill-opacity:1;stroke:none;stroke-width:0.00979554;stroke-dasharray:none;stroke-opacity:1\" transform=\"scale(-1,1)\" width=\"0.53466278\" x=\"0.2324958\" y=\"-0.61387306\"/>\n",
       "    <rect class=\"wheel\" height=\"0.22774614\" rx=\"0.073571824\" ry=\"0.073361315\" style=\"fill:#121212;stroke:none\" width=\"0.53466278\" x=\"0.23283984\" y=\"-0.61387306\"/>\n",
       "    <rect class=\"wheel\" height=\"0.22774614\" rx=\"0.073571824\" ry=\"0.073361315\" style=\"fill:#121212;stroke:none\" width=\"0.53466278\" x=\"0.23283984\" y=\"0.38612694\"/>\n",
       "    <rect class=\"wheel\" height=\"0.22774614\" rx=\"0.073571824\" ry=\"0.073361315\" style=\"fill:#121212;stroke:none\" width=\"0.53466278\" x=\"-0.76715857\" y=\"0.38612694\"/>\n",
       "    <rect class=\"motor\" height=\"0.12521972\" style=\"fill:#2a2a2a;stroke:none\" width=\"0.22443947\" x=\"-0.093881205\" y=\"0.15738994\"/>\n",
       "    <rect class=\"motor\" height=\"0.12521972\" style=\"fill:#2a2a2a;stroke:none\" width=\"0.22443947\" x=\"-0.093881205\" y=\"-0.28260982\"/>\n",
       "    <path class=\"arm\" d=\"m 1.0576703,-0.39000203 -0.23000152,0.0700009 -0.0300033,0.1699999 H -0.14233403 V 0.1500012 H 0.79766546 L 0.82766878,0.3200011 1.0576703,0.390002 1.2276702,0.3200011 1.2576684,0.2599996 H 1.0518308 L 0.93766725,0.1199978 V -0.1199978 L 1.0624503,-0.2599996 h 0.1952181 l -0.029998,-0.0600015 z m -0.00814,0.0597017 -0.13185764,0.1502648 -0.052064,-0.0813749 z m -0.75185597,0.2503 H 0.54478682 V 0.0800003 H 0.29767013 Z M 0.91766846,0.1841076 1.0495261,0.3343724 0.86560445,0.2654825 Z\" style=\"fill:#2a2a2a;stroke:none\"/>\n",
       "  </g>\n",
       "  <g id=\"N0quadrotor\">\n",
       "    <path class=\"camera\" style=\"stroke:none;fill:#808080\" d=\"M 0.25,0 0.75,0.25 0.75,-0.25 Z\"/>\n",
       "    <g class=\"body\">\n",
       "      <path d=\"M 0.06999986,0.07032032 0.49632602,-0.4605096 0.45935482,-0.492153 -0.07000004,-0.06968042 Z\"/>\n",
       "      <path d=\"m -0.07000006,0.07032032 -0.42632616,-0.53082992 0.0369712,-0.0316434 0.52935486,0.42247258 z\"/>\n",
       "      <path d=\"M 0.06999986,-0.07096132 0.49632602,0.4598686 0.45935482,0.4915121 -0.07000004,0.06903952 Z\" />\n",
       "      <path d=\"M -0.07000006,-0.07096132 -0.49632622,0.4598686 -0.45935502,0.491512 0.06999984,0.06903942 Z\"/>\n",
       "      <circle cx=\"0\" cy=\"0\" r=\"0.35\" />\n",
       "    </g>\n",
       "    <g class=\"prop\">\n",
       "      <ellipse\n",
       "         style=\"fill:#0d0d0d;stroke:none;\"\n",
       "         cx=\"0.69928879\"\n",
       "         cy=\"-0.14274563\"\n",
       "         rx=\"0.024324713\"\n",
       "         ry=\"0.11011158\"\n",
       "         transform=\"rotate(-45)\" />\n",
       "      <ellipse\n",
       "         style=\"fill:#0d0d0d;stroke:none;\"\n",
       "         cx=\"0.69928879\"\n",
       "         cy=\"0.14367317\"\n",
       "         rx=\"0.024324713\"\n",
       "         ry=\"0.11011158\"\n",
       "         transform=\"rotate(-45)\" />\n",
       "      <ellipse\n",
       "         style=\"fill:none;stroke:#000000;stroke-width:0.0392596\"\n",
       "         cx=\"0.49399981\"\n",
       "         cy=\"-0.49447966\"\n",
       "         rx=\"0.28037018\"\n",
       "         ry=\"0.28037015\"  />\n",
       "      <ellipse\n",
       "         style=\"fill:none;stroke:#000000;stroke-width:0.0574358\"\n",
       "         cx=\"0.49399981\"\n",
       "         cy=\"-0.49447966\"\n",
       "         rx=\"0.051282048\"\n",
       "         ry=\"0.051282078\" />\n",
       "    </g>\n",
       "    <g class=\"prop\">\n",
       "      <ellipse\n",
       "         style=\"fill:#0d0d0d;stroke:none;\"\n",
       "         cx=\"0.69928879\"\n",
       "         cy=\"-0.14274563\"\n",
       "         rx=\"0.024324713\"\n",
       "         ry=\"0.11011158\"\n",
       "         transform=\"matrix(-0.70710678,-0.70710678,-0.70710678,0.70710678,0,0)\" />\n",
       "      <ellipse\n",
       "         style=\"fill:#0d0d0d;stroke:none;\"\n",
       "         cx=\"0.69928879\"\n",
       "         cy=\"0.14367317\"\n",
       "         rx=\"0.024324713\"\n",
       "         ry=\"0.11011158\"\n",
       "         transform=\"matrix(-0.70710678,-0.70710678,-0.70710678,0.70710678,0,0)\" />\n",
       "      <ellipse\n",
       "         style=\"fill:none;stroke:#000000;stroke-width:0.0392596\"\n",
       "         cx=\"0.49399981\"\n",
       "         cy=\"-0.49447966\"\n",
       "         rx=\"0.28037018\"\n",
       "         ry=\"0.28037015\" \n",
       "         transform=\"scale(-1,1)\" />\n",
       "      <ellipse\n",
       "         style=\"fill:none;stroke:#000000;stroke-width:0.0574358\"\n",
       "         cx=\"0.49399981\"\n",
       "         cy=\"-0.49447966\"\n",
       "         rx=\"0.051282048\"\n",
       "         ry=\"0.051282078\"\n",
       "         transform=\"scale(-1,1)\" />\n",
       "    </g>\n",
       "    <g class=\"prop\">\n",
       "      <ellipse\n",
       "         style=\"fill:#0d0d0d;stroke:none;\"\n",
       "         cx=\"0.69928879\"\n",
       "         cy=\"-0.14274563\"\n",
       "         rx=\"0.024324713\"\n",
       "         ry=\"0.11011158\"\n",
       "         transform=\"matrix(0.70710678,0.70710678,0.70710678,-0.70710678,0,0)\" />\n",
       "      <ellipse\n",
       "         style=\"fill:#0d0d0d;stroke:none;\"\n",
       "         cx=\"0.69928879\"\n",
       "         cy=\"0.14367317\"\n",
       "         rx=\"0.024324713\"\n",
       "         ry=\"0.11011158\"\n",
       "         transform=\"matrix(0.70710678,0.70710678,0.70710678,-0.70710678,0,0)\" />\n",
       "      <ellipse\n",
       "         style=\"fill:none;stroke:#000000;stroke-width:0.0392596\"\n",
       "         cx=\"0.49399981\"\n",
       "         cy=\"-0.49447966\"\n",
       "         rx=\"0.28037018\"\n",
       "         ry=\"0.28037015\" \n",
       "         transform=\"scale(1,-1)\" />\n",
       "      <ellipse\n",
       "         style=\"fill:none;stroke:#000000;stroke-width:0.0574358\"\n",
       "         cx=\"0.49399981\"\n",
       "         cy=\"-0.49447966\"\n",
       "         rx=\"0.051282048\"\n",
       "         ry=\"0.051282078\"\n",
       "         transform=\"scale(1,-1)\" />\n",
       "    </g>\n",
       "    <g class=\"prop\">\n",
       "      <ellipse\n",
       "         style=\"fill:#0d0d0d;stroke:none;\"\n",
       "         cx=\"0.69928879\"\n",
       "         cy=\"-0.14274563\"\n",
       "         rx=\"0.024324713\"\n",
       "         ry=\"0.11011158\"\n",
       "         transform=\"rotate(135)\" />\n",
       "      <ellipse\n",
       "         style=\"fill:#0d0d0d;stroke:none;\"\n",
       "         cx=\"0.69928879\"\n",
       "         cy=\"0.14367317\"\n",
       "         rx=\"0.024324713\"\n",
       "         ry=\"0.11011158\"\n",
       "         transform=\"rotate(135)\" />\n",
       "      <ellipse\n",
       "         style=\"fill:none;stroke:#000000;stroke-width:0.0392596\"\n",
       "         cx=\"0.49399981\"\n",
       "         cy=\"-0.49447966\"\n",
       "         rx=\"0.28037018\"\n",
       "         ry=\"0.28037015\" \n",
       "         transform=\"scale(-1)\" />\n",
       "      <ellipse\n",
       "         style=\"fill:none;stroke:#000000;stroke-width:0.0574358\"\n",
       "         cx=\"0.49399981\"\n",
       "         cy=\"-0.49447966\"\n",
       "         rx=\"0.051282048\"\n",
       "         ry=\"0.051282078\"\n",
       "         transform=\"scale(-1)\" />\n",
       "    </g>\n",
       "  </g>\n",
       "  <g id=\"N0thymio\" transform=\"rotate(90)\">\n",
       "      <path class=\"body\"\n",
       "         d=\"M -0.6874903375 -0.7257309 L -0.6874903375 0.3749771125 L 0.6874903375 0.3749771125 L 0.6874903375 -0.726118475 A 1 1 0 0 0 0 -1 A 1 1 0 0 0 -0.6874903375 -0.7257309 z \" />\n",
       "      <rect\n",
       "         style=\"fill:#333333;stroke:none\"\n",
       "         width=\"0.1875\"\n",
       "         height=\"0.525\"\n",
       "         x=\"-0.675\"\n",
       "         y=\"-0.2625\"\n",
       "         rx=\"0.0625\" />\n",
       "      <rect\n",
       "         style=\"fill:#333333;stroke:none\"\n",
       "         width=\"0.1875\"\n",
       "         height=\"0.525\"\n",
       "         x=\"0.4875\"\n",
       "         y=\"-0.2625\"\n",
       "         rx=\"0.0625\" />\n",
       "  </g>\n",
       "  <g id=\"N0wheelchair\" transform=\"rotate(180) translate(-1.1,-3.46)\">\n",
       "    <path\n",
       "       stroke=\"none\"\n",
       "       style=\"fill:#c8beb7\"\n",
       "       d=\"m 0.9612298,3.7966354 h -0.7778 v -0.6666 h 0.7778 z\"/>\n",
       "    <path\n",
       "       stroke=\"none\"\n",
       "       style=\"fill:#080808;\"\n",
       "       d=\"m 1.62765948,2.970532 v -0.0823436 -0.084297 H 1.0722298 v 0.166640 z\"/>\n",
       "    <path\n",
       "       stroke=\"none\"\n",
       "       style=\"fill:#080808;\"\n",
       "       d=\"m 1.62765948,4.081332 v -0.0823436 -0.084297 H1.0722298 v 0.1666406 z\"/>\n",
       "    <path\n",
       "       class=\"body\"\n",
       "       d=\"m 1.84994464,3.9982804 h -1 v -1.1112 h 1 z\" />\n",
       "    <path\n",
       "       stroke=\"none\"\n",
       "       style=\"fill:#917c6f;opacity:0.75;stroke:none\"\n",
       "       d=\"m 1.84994464,3.9982664 v -0.0554296 -1.0557422 h -0.11117186 v 1.1111718 z\"/>\n",
       "  </g>\n",
       "  <g id=\"N0human\" transform=\"rotate(180) translate(-1,-3.5)\">\n",
       "    <g class=\"body\">\n",
       "    <ellipse\n",
       "       cx=\"0.80312774\"\n",
       "       cy=\"2.6959574\"\n",
       "       rx=\"0.46378762\"\n",
       "       ry=\"0.1392307\" />\n",
       "    <ellipse\n",
       "       cx=\"0.80312774\"\n",
       "       cy=\"4.2229708\"\n",
       "       rx=\"0.46378762\"\n",
       "       ry=\"0.1392307\" />\n",
       "    <ellipse\n",
       "       cx=\"1.08757424\"\n",
       "       cy=\"3.4594642\"\n",
       "       rx=\"0.39526176\"\n",
       "       ry=\"0.86793068\" />\n",
       "    </g>\n",
       "    <ellipse\n",
       "       style=\"fill:#1a1a1a;opacity:0.5;stroke:none\"\n",
       "       cx=\"1.08757424\"\n",
       "       cy=\"3.458025\"\n",
       "       rx=\"0.3257516\"\n",
       "       ry=\"0.33270264\" />\n",
       "  </g>\n",
       "</defs>\n",
       "<style>\n",
       "<![CDATA[\n",
       "\n",
       "/*svg{\n",
       "  style=stroke-width: 0px;\n",
       "}\n",
       "*/\n",
       "circle.obstacle{\n",
       "  fill: gray; \n",
       "  stroke:none;\n",
       "}\n",
       "polyline.wall{\n",
       "  stroke:black;\n",
       "  stroke-width:0.01;\n",
       "}\n",
       "\n",
       ".shape {\n",
       "  fill: none;\n",
       "  stroke: black;\n",
       "  stroke-width: 0.01;\n",
       "  stroke-dasharray: 0.01;\n",
       "}\n",
       "\n",
       ".quadrotor {\n",
       "  fill: #A0A0A0;\n",
       "  stroke: none;\n",
       "  stroke-width: 0.05;\n",
       "}\n",
       "\n",
       "\n",
       ".robomaster_ep {\n",
       "  fill: #121212;\n",
       "  stroke: none;\n",
       "  stroke-width: 0.05;\n",
       "}\n",
       "\n",
       "\n",
       ".thymio {\n",
       "  fill: #e6e6e6;\n",
       "  stroke: none;\n",
       "  stroke-width: 0.05;\n",
       "}\n",
       "\n",
       ".human {\n",
       "  fill: #666666;\n",
       "  stroke: none;\n",
       "  stroke-width: 0.05;\n",
       "}\n",
       "\n",
       ".agent {\n",
       "  fill: gray;\n",
       "  stroke: none;\n",
       "  stroke-width: 0.05;\n",
       "}\n",
       "\n",
       ".wheelchair {\n",
       "  fill: #483e37;\n",
       "  stroke: none;\n",
       "  stroke-width: 0.05;\n",
       "}\n",
       "\n",
       "/*.body {\n",
       "    all: inherit;\n",
       "}\n",
       "*/\n",
       "\n",
       "\n",
       "\n",
       "\n",
       "\n",
       "svg {\n",
       "   background-color: snow;\n",
       "}\n",
       "\n",
       ".grid {\n",
       "  stroke: ;\n",
       "  stroke-width: ;\n",
       "}\n",
       "]]>\n",
       "</style>\n",
       "\n",
       "<g id=\"N0world\" transform='scale(1, -1) '>\n",
       "\n",
       "\n",
       "\n",
       "\n",
       "\n",
       "\n",
       "\n",
       "</g>\n",
       "</svg>\n",
       "</body>\n",
       "</html>"
      ],
      "text/plain": [
       "<IPython.core.display.HTML object>"
      ]
     },
     "execution_count": 61,
     "metadata": {},
     "output_type": "execute_result"
    }
   ],
   "source": [
    "notebook_view(width=300)"
   ]
  },
  {
   "cell_type": "code",
   "execution_count": 62,
   "id": "553986d5",
   "metadata": {
    "tags": []
   },
   "outputs": [],
   "source": [
    "# we run 5x faster than real-time\n",
    "world = run.world\n",
    "rt_sim = RealTimeSimulation(world=world, time_step=0.1, factor=5, web_ui=web_ui, \n",
    "                            bounds=((-1, -3), (11, 3)))\n",
    "await rt_sim.init()"
   ]
  },
  {
   "cell_type": "code",
   "execution_count": 63,
   "id": "75b5481c",
   "metadata": {
    "tags": []
   },
   "outputs": [],
   "source": [
    "until_time = world.time + 60\n",
    "await rt_sim.run(until=lambda : world.time > until_time)"
   ]
  }
 ],
 "metadata": {
  "kernelspec": {
   "display_name": "Python 3 (ipykernel)",
   "language": "python",
   "name": "python3"
  },
  "language_info": {
   "codemirror_mode": {
    "name": "ipython",
    "version": 3
   },
   "file_extension": ".py",
   "mimetype": "text/x-python",
   "name": "python",
   "nbconvert_exporter": "python",
   "pygments_lexer": "ipython3",
   "version": "3.12.9"
  }
 },
 "nbformat": 4,
 "nbformat_minor": 5
}
